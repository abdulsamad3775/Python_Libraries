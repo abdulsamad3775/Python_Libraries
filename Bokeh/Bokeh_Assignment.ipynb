{
 "cells": [
  {
   "cell_type": "markdown",
   "id": "b6f9c53c",
   "metadata": {},
   "source": [
    "### Q1: How can you create a Bokeh plot using Python code?\n",
    "\n",
    "You can create a Bokeh plot in Python by importing the Bokeh library and using the figure function to create a plot canvas. Then, you can use various Bokeh functions to add glyphs, customize the plot appearance, and display it."
   ]
  },
  {
   "cell_type": "code",
   "execution_count": 1,
   "id": "9dbbea60",
   "metadata": {},
   "outputs": [],
   "source": [
    "from bokeh.plotting import figure, show\n",
    "\n",
    "# Create a figure\n",
    "p = figure(title=\"My First Bokeh Plot\", x_axis_label=\"X-axis\", y_axis_label=\"Y-axis\")\n",
    "\n",
    "# Add data points as circles\n",
    "p.circle([1, 2, 3, 4, 5], [6, 7, 2, 4, 5], size=10, color=\"navy\")\n",
    "\n",
    "# Show the plot\n",
    "show(p)\n"
   ]
  },
  {
   "cell_type": "markdown",
   "id": "5ab170b7",
   "metadata": {},
   "source": [
    "### Q2: What are glyphs in Bokeh, and how can you add them to a Bokeh plot? Explain with an example.\n",
    "\n",
    "Glyphs in Bokeh are visual shapes or markers used to represent data points on a plot. You can add glyphs to a Bokeh plot using various glyph functions like circle, square, line, etc."
   ]
  },
  {
   "cell_type": "code",
   "execution_count": 2,
   "id": "4a631bbc",
   "metadata": {},
   "outputs": [],
   "source": [
    "from bokeh.plotting import figure, show\n",
    "\n",
    "# Create a figure\n",
    "p = figure(title=\"Bokeh Glyph Example\", x_axis_label=\"X-axis\", y_axis_label=\"Y-axis\")\n",
    "\n",
    "# Add data points as circles\n",
    "p.circle([1, 2, 3, 4, 5], [6, 7, 2, 4, 5], size=10, color=\"navy\")\n",
    "\n",
    "# Show the plot\n",
    "show(p)\n"
   ]
  },
  {
   "cell_type": "markdown",
   "id": "1a6f80c8",
   "metadata": {},
   "source": [
    "### Q3: How can you customize the appearance of a Bokeh plot, including the axes, title, and legend?\n",
    "\n",
    "You can customize the appearance of a Bokeh plot by modifying properties of the plot and its components"
   ]
  },
  {
   "cell_type": "code",
   "execution_count": 4,
   "id": "0931b34f",
   "metadata": {},
   "outputs": [],
   "source": [
    "from bokeh.plotting import figure, show\n",
    "\n",
    "# Create a figure with customizations\n",
    "p = figure(title=\"Customized Bokeh Plot\", x_axis_label=\"X-axis\", y_axis_label=\"Y-axis\")\n",
    "\n",
    "# Add data points as circles\n",
    "p.circle([1, 2, 3, 4, 5], [6, 7, 2, 4, 5], size=10, color=\"navy\", legend_label=\"Data\")\n",
    "\n",
    "# Customize axes\n",
    "p.xaxis.axis_label_text_color = \"red\"\n",
    "p.yaxis.major_label_text_color = \"green\"\n",
    "\n",
    "# Customize title\n",
    "p.title.text_font_size = \"20pt\"\n",
    "p.title.text_color = \"blue\"\n",
    "\n",
    "# Add a legend\n",
    "p.legend.location = \"top_left\"\n",
    "\n",
    "# Show the plot\n",
    "show(p)\n"
   ]
  },
  {
   "cell_type": "markdown",
   "id": "e5c04dc1",
   "metadata": {},
   "source": [
    "### Q4: What is a Bokeh server, and how can you use it to create interactive plots that can be updated in real time?\n",
    "\n",
    "A Bokeh server is a Python library that allows you to create interactive and dynamic web applications with Bokeh plots. With a Bokeh server, you can create plots that update in real-time based on user interactions or data changes."
   ]
  },
  {
   "cell_type": "code",
   "execution_count": 6,
   "id": "ef3a89c1",
   "metadata": {},
   "outputs": [],
   "source": [
    "from bokeh.plotting import curdoc, figure\n",
    "from bokeh.models import ColumnDataSource\n",
    "import random\n",
    "\n",
    "# Create a figure and data source\n",
    "p = figure()\n",
    "source = ColumnDataSource(data={'x': [], 'y': []})\n",
    "\n",
    "# Create a callback function\n",
    "def update():\n",
    "    new_data = {'x': source.data['x'] + [random.randint(0, 10)],\n",
    "                'y': source.data['y'] + [random.randint(0, 10)]}\n",
    "    source.data = new_data\n",
    "\n",
    "# Add a glyph to the plot\n",
    "p.circle('x', 'y', source=source)\n",
    "\n",
    "# Add the callback to the document\n",
    "curdoc().add_periodic_callback(update, 1000)  # Update every 1 second\n",
    "\n",
    "# Add the plot to the document\n",
    "curdoc().add_root(p)\n"
   ]
  },
  {
   "cell_type": "markdown",
   "id": "a76be936",
   "metadata": {},
   "source": [
    "### Q5: How can you embed a Bokeh plot into a web page or dashboard using Flask or Django?\n",
    "\n",
    "To embed a Bokeh plot into a web page or dashboard using Flask or Django, you can use the bokeh.embed module to generate HTML and JavaScript components for the plot, which can be included in your web application's templates."
   ]
  },
  {
   "cell_type": "code",
   "execution_count": null,
   "id": "fb2a7b2e",
   "metadata": {},
   "outputs": [
    {
     "name": "stdout",
     "output_type": "stream",
     "text": [
      " * Serving Flask app '__main__'\n",
      " * Debug mode: off\n"
     ]
    },
    {
     "name": "stderr",
     "output_type": "stream",
     "text": [
      "WARNING: This is a development server. Do not use it in a production deployment. Use a production WSGI server instead.\n",
      " * Running on http://127.0.0.1:5000\n",
      "Press CTRL+C to quit\n"
     ]
    }
   ],
   "source": [
    "from flask import Flask, render_template\n",
    "from bokeh.plotting import figure, show\n",
    "from bokeh.embed import components\n",
    "\n",
    "app = Flask(__name__)\n",
    "\n",
    "@app.route('/')\n",
    "def index():\n",
    "    # Create a Bokeh plot\n",
    "    p = figure()\n",
    "    p.circle([1, 2, 3, 4, 5], [6, 7, 2, 4, 5])\n",
    "\n",
    "    # Generate Bokeh components\n",
    "    script, div = components(p)\n",
    "    \n",
    "    return render_template('index.html', script=script, div=div)\n",
    "\n",
    "if __name__ == '__main__':\n",
    "    app.run()\n"
   ]
  },
  {
   "cell_type": "code",
   "execution_count": null,
   "id": "e63635d8",
   "metadata": {},
   "outputs": [],
   "source": []
  }
 ],
 "metadata": {
  "kernelspec": {
   "display_name": "Python 3 (ipykernel)",
   "language": "python",
   "name": "python3"
  },
  "language_info": {
   "codemirror_mode": {
    "name": "ipython",
    "version": 3
   },
   "file_extension": ".py",
   "mimetype": "text/x-python",
   "name": "python",
   "nbconvert_exporter": "python",
   "pygments_lexer": "ipython3",
   "version": "3.11.3"
  }
 },
 "nbformat": 4,
 "nbformat_minor": 5
}
