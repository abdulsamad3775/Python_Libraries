{
 "cells": [
  {
   "cell_type": "markdown",
   "id": "6e0aba31-a18d-478a-b3ee-5f958a053fde",
   "metadata": {},
   "source": [
    "1) what is numpy? \n",
    "\n",
    "NumPy, which stands for \"Numerical Python,\" is a fundamental library in the Python programming language for scientific computing and numerical operations. It provides support for working with large, multi-dimensional arrays and matrices of data, along with a collection of mathematical functions to operate on these arrays efficiently."
   ]
  },
  {
   "cell_type": "markdown",
   "id": "6843bcdc-da7d-4c27-9533-908b6a550850",
   "metadata": {},
   "source": [
    "2) different way to create an array in numpy"
   ]
  },
  {
   "cell_type": "code",
   "execution_count": 2,
   "id": "1bba2bbb-c486-4b3e-a369-5e342232b5bd",
   "metadata": {},
   "outputs": [],
   "source": [
    "import numpy as np"
   ]
  },
  {
   "cell_type": "code",
   "execution_count": 7,
   "id": "56d032e3-18eb-480f-8d42-5deb16a0993b",
   "metadata": {},
   "outputs": [],
   "source": [
    "# 1) from list\n",
    "arr=np.array([1,2,3,4,5],dtype=float)"
   ]
  },
  {
   "cell_type": "code",
   "execution_count": 10,
   "id": "1632189c-3d7c-42f8-8fa9-ea3b22a06629",
   "metadata": {},
   "outputs": [],
   "source": [
    "# 2)\n",
    "arr=np.zeros((3,3),dtype=float)\n"
   ]
  },
  {
   "cell_type": "code",
   "execution_count": 13,
   "id": "a55b1ae0-f058-4561-8d8e-b84a65ffbbe6",
   "metadata": {},
   "outputs": [],
   "source": [
    "# 3)\n",
    "arr=np.ones((3,3),dtype=int)"
   ]
  },
  {
   "cell_type": "code",
   "execution_count": 15,
   "id": "77ca0e44-a4d7-4f73-90a1-c37bc9dcfdb8",
   "metadata": {},
   "outputs": [],
   "source": [
    "# 4)\n",
    "arr=np.full((3,3),5)"
   ]
  },
  {
   "cell_type": "code",
   "execution_count": 23,
   "id": "d9cd974f-1919-45c9-aac0-dd6d6800b220",
   "metadata": {},
   "outputs": [],
   "source": [
    "# 5)\n",
    "arr=np.arange(1.2,10.2,0.5)"
   ]
  },
  {
   "cell_type": "code",
   "execution_count": 28,
   "id": "8656e372-30cc-42e9-b171-4f8e1111a659",
   "metadata": {},
   "outputs": [],
   "source": [
    "# 6)\n",
    "arr=np.linspace(0,1,5)\n",
    "arr=np.logspace(0,1,5)"
   ]
  },
  {
   "cell_type": "code",
   "execution_count": 62,
   "id": "974eee6c-7d7e-44e1-a130-9d1ad0dfdacc",
   "metadata": {},
   "outputs": [],
   "source": [
    "#8)\n",
    "np.random.seed(0)\n",
    "arr=np.random.random((3,3))\n",
    "arr2=np.random.rand(3,3)\n",
    "arr3=np.random.randn(3,3)\n",
    "arr4=np.random.randint((3,3))\n",
    "# randn is follow standard normal distribuion"
   ]
  },
  {
   "cell_type": "code",
   "execution_count": 59,
   "id": "32c72be9-f382-4c1b-8c95-857caaa09db3",
   "metadata": {},
   "outputs": [],
   "source": [
    "# 10)\n",
    "arr=np.eye(3)\n",
    "arr2=np.diag(np.array([1,2,3]))\n",
    "arr3=np.empty((3,3))"
   ]
  },
  {
   "cell_type": "markdown",
   "id": "a5d10e6e-d875-4e8f-8f23-4c17083b234b",
   "metadata": {},
   "source": [
    "3) ATTRIBUTES"
   ]
  },
  {
   "cell_type": "code",
   "execution_count": 74,
   "id": "e5b1e413-b587-4eb7-a2d7-56c1e12fe4e3",
   "metadata": {},
   "outputs": [
    {
     "data": {
      "text/plain": [
       "array([[6, 1, 4],\n",
       "       [4, 8, 4],\n",
       "       [6, 3, 5]])"
      ]
     },
     "execution_count": 74,
     "metadata": {},
     "output_type": "execute_result"
    }
   ],
   "source": [
    "np.random.seed(0)\n",
    "arr=np.random.randint(1,10,(3,3))\n",
    "arr"
   ]
  },
  {
   "cell_type": "code",
   "execution_count": 82,
   "id": "1e67c9a7-66ab-48bf-98b6-2fa8f286fc0a",
   "metadata": {},
   "outputs": [
    {
     "data": {
      "text/plain": [
       "72"
      ]
     },
     "execution_count": 82,
     "metadata": {},
     "output_type": "execute_result"
    }
   ],
   "source": [
    "# 1)\n",
    "arr.ndim\n",
    "# 2)\n",
    "arr.shape\n",
    "# 3)\n",
    "arr.size\n",
    "# 4)\n",
    "arr.dtype\n",
    "arr.itemsize\n",
    "arr.nbytes\n"
   ]
  },
  {
   "cell_type": "markdown",
   "id": "8494e1f8-c7c8-4089-af9b-963e9aab5b74",
   "metadata": {},
   "source": [
    "4)ARRAY SLICING"
   ]
  },
  {
   "cell_type": "code",
   "execution_count": 86,
   "id": "0a182b1e-2a37-4563-a47b-73964da85c55",
   "metadata": {},
   "outputs": [
    {
     "data": {
      "text/plain": [
       "array([[6, 1, 4],\n",
       "       [4, 8, 4],\n",
       "       [6, 3, 5]])"
      ]
     },
     "execution_count": 86,
     "metadata": {},
     "output_type": "execute_result"
    }
   ],
   "source": [
    "np.random.seed(0)\n",
    "arr=np.random.randint(1,10,(3,3))"
   ]
  },
  {
   "cell_type": "code",
   "execution_count": 109,
   "id": "3a68de0f-8b5d-448a-a9b3-5ea8fff80365",
   "metadata": {},
   "outputs": [],
   "source": [
    "# 1) 1D array slicing\n",
    "x=np.array([1,2,3,4])\n",
    "sub=x[:3]\n",
    "# 1) 2D array slicing\n",
    "s=arr[0,[1,2]] #simply\n",
    "s=arr[1:,:1]   #row , column\n",
    "s=arr[::2,::2] #step"
   ]
  },
  {
   "cell_type": "markdown",
   "id": "0cefeebf-c424-496e-a92d-7663ae722934",
   "metadata": {},
   "source": [
    "5)CONCATINATION AND STACKING"
   ]
  },
  {
   "cell_type": "markdown",
   "id": "0fc8b548-0f9b-4619-afb5-0deccdbcd44b",
   "metadata": {},
   "source": [
    "#concatination 1d array\n",
    "x=np.array([1,2,3])\n",
    "y=np.array([3,2,1])\n",
    "np.concatenate([x,y])\n",
    "\n",
    "#concatination 2d array\n",
    "grid=np.array([[1,2,3],[4,5,6]])\n",
    "new_grid=np.concatenate([grid,grid],axis=1)\n"
   ]
  },
  {
   "cell_type": "code",
   "execution_count": 19,
   "id": "6c2f2956-c51f-48b8-8363-d91a911313ea",
   "metadata": {},
   "outputs": [],
   "source": [
    "#stack @imp\n",
    "x=np.array([1,2,3])\n",
    "y=np.array([3,2,1])\n",
    "z=np.stack([x,y],axis=1)\n",
    "# array([[1, 3],\n",
    "#        [2, 2],\n",
    "#        [3, 1]])\n",
    "\n",
    "#vstack @working with mixed dim\n",
    "a=np.array([1,2,3])\n",
    "grid=np.array([[4,5,6],\n",
    "               [7,8,9]])\n",
    "v=np.vstack([a,grid])\n"
   ]
  },
  {
   "cell_type": "code",
   "execution_count": 26,
   "id": "ef41a274-0f79-4d86-a91e-2e6c140096dd",
   "metadata": {},
   "outputs": [
    {
     "data": {
      "text/plain": [
       "array([[ 4,  5,  6, 99],\n",
       "       [ 7,  8,  9, 99]])"
      ]
     },
     "execution_count": 26,
     "metadata": {},
     "output_type": "execute_result"
    }
   ],
   "source": [
    "#hstack @working with mixed dim\n",
    "grid=np.array([[4,5,6],\n",
    "               [7,8,9]])\n",
    "\n",
    "b=np.array([[99],\n",
    "            [99]])\n",
    "h=np.hstack([grid,b])\n",
    "h\n"
   ]
  },
  {
   "cell_type": "markdown",
   "id": "06020e79-b6ca-45e6-a3af-a383dced9ea0",
   "metadata": {
    "tags": []
   },
   "source": [
    "# 6)spliting syn- np.split(arr,section or indices,axis)"
   ]
  },
  {
   "cell_type": "code",
   "execution_count": 47,
   "id": "9355d447-d074-4985-85f5-71c9c67b974d",
   "metadata": {},
   "outputs": [],
   "source": [
    "arr1=np.array([1,2,3,4,5,6])\n",
    "a1=np.split(arr1,2)\n",
    "a11=np.split(arr1,(1,3))\n",
    "\n",
    "arr2=np.array([[1,2,3,4,5,6],[1,2,3,4,5,6]])\n",
    "a2=np.split(arr2,6,axis=1)"
   ]
  },
  {
   "cell_type": "code",
   "execution_count": 64,
   "id": "ebe78392-e83a-4701-b97c-82f2112f1133",
   "metadata": {},
   "outputs": [],
   "source": [
    "# vsplit and hsplit\n",
    "grid=np.arange(16).reshape((4,4))\n",
    "upper,lower=np.vsplit(grid,2)\n",
    "left,right=np.hsplit(grid,2)\n",
    "# samething\n",
    "v=np.split(grid,2) #vsplit\n",
    "h=np.split(grid,2,axis=1) #hsplit"
   ]
  },
  {
   "cell_type": "markdown",
   "id": "61ce29b9-63fb-4c87-9012-797b390bc22a",
   "metadata": {},
   "source": [
    "7)MATH FUNCTIONS"
   ]
  },
  {
   "cell_type": "code",
   "execution_count": 86,
   "id": "5d4c3b9d-fb71-4ab3-99cd-71ab71db2725",
   "metadata": {},
   "outputs": [
    {
     "data": {
      "text/plain": [
       "array([ True, False])"
      ]
     },
     "execution_count": 86,
     "metadata": {},
     "output_type": "execute_result"
    }
   ],
   "source": [
    "# ARITHEMETIC FUNCTIONS\n",
    "arr=np.array([1,2])\n",
    "arr+5 #np.add()\n",
    "arr-5 #np.substract()\n",
    "arr*5 #...\n",
    "arr/5\n",
    "arr%5\n",
    "arr**2 #np.power()\n",
    "np.exp(arr)\n",
    "~arr\n",
    "arr<2 #filtering\n"
   ]
  },
  {
   "cell_type": "markdown",
   "id": "43b59a81-84ee-4b83-ad05-396885c57630",
   "metadata": {},
   "source": [
    "ADVANCED MATH FUNCTIONS"
   ]
  },
  {
   "cell_type": "code",
   "execution_count": 82,
   "id": "00e15b85-5ea7-4965-87d7-fddf656bf432",
   "metadata": {},
   "outputs": [],
   "source": [
    "# Create two NumPy arrays\n",
    "A = np.array([[1, 2], [3, 4]])\n",
    "B = np.array([[5, 6], [7, 8]])\n",
    "result = A @ B  # This is equivalent to np.dot(A, B) or A.dot(B)"
   ]
  },
  {
   "cell_type": "code",
   "execution_count": 6,
   "id": "cc0ba82b-6a72-4f18-acc2-fd7bdda6a069",
   "metadata": {},
   "outputs": [
    {
     "data": {
      "text/plain": [
       "array([ 1.55740772, -2.18503986])"
      ]
     },
     "execution_count": 6,
     "metadata": {},
     "output_type": "execute_result"
    }
   ],
   "source": [
    "arr=np.array([1,2])\n",
    "np.sqrt(arr)\n",
    "np.log10(arr)\n",
    "np.exp(arr)\n",
    "\n",
    "np.sin(arr)\n",
    "np.cos(arr)\n",
    "np.tan(arr)"
   ]
  },
  {
   "cell_type": "code",
   "execution_count": 8,
   "id": "d11e0db1-4929-4fd1-af0f-59416337afca",
   "metadata": {},
   "outputs": [
    {
     "data": {
      "text/plain": [
       "0.4714045207910317"
      ]
     },
     "execution_count": 8,
     "metadata": {},
     "output_type": "execute_result"
    }
   ],
   "source": [
    "# Statitical function\n",
    "arr=np.array([1,2,1])\n",
    "np.min(arr)\n",
    "np.max(arr)\n",
    "np.mean(arr)\n",
    "np.median(arr)\n",
    "np.var(arr)\n",
    "np.std(arr)"
   ]
  },
  {
   "cell_type": "markdown",
   "id": "72455da2-bc10-41b3-9138-29dedb9785f3",
   "metadata": {},
   "source": [
    "8) Broadcasting"
   ]
  },
  {
   "cell_type": "code",
   "execution_count": 17,
   "id": "52b74ee1-948f-4962-82db-59b266c8e9b1",
   "metadata": {},
   "outputs": [
    {
     "data": {
      "text/plain": [
       "array([[1., 1., 1.],\n",
       "       [2., 2., 2.],\n",
       "       [3., 3., 3.]])"
      ]
     },
     "execution_count": 17,
     "metadata": {},
     "output_type": "execute_result"
    }
   ],
   "source": [
    "arr=np.zeros((3,3))\n",
    "b=np.array([[1,2,3]])#to get transpose we need to intialize it as 2D\n",
    "arr+5\n",
    "arr+b\n",
    "arr+b.T"
   ]
  },
  {
   "cell_type": "markdown",
   "id": "3bdf7ce4-7049-40c8-9aa4-7aa16065d4a1",
   "metadata": {},
   "source": [
    "9) ARRAY MANIPULATIONS"
   ]
  },
  {
   "cell_type": "code",
   "execution_count": 52,
   "id": "0f66cc2d-0808-4311-8250-646128fe22de",
   "metadata": {},
   "outputs": [],
   "source": [
    "# 1)reshaepe()\n",
    "arr=np.arange(16)\n",
    "arr=arr.reshape(4,4)\n",
    "# 2)np.transpose\n",
    "arr=np.transpose(arr)\n",
    "# 3)flatten()\n",
    "arr=arr.flatten()\n",
    "\n",
    "# 4)expand_dims ,1d to 2d or 2d to 3d\n",
    "np.expand_dims(arr,axis=0) \n",
    "# array([[ 0,  4,  8, 12,  1,  5,  9, 13,  2,  6, 10, 14,  3,  7, 11, 15]])\n",
    "arr=np.expand_dims(arr,axis=1)\n",
    "# array([[ 0],\n",
    "#        [ 4],\n",
    "#        [ 8],.....\n",
    "\n",
    "# 5)squeeze ,2d to 1d or 3d to 2d\n",
    "arr=np.array([[ 0],\n",
    "          [ 4],\n",
    "          [ 8],])\n",
    "np.squeeze(arr)"
   ]
  },
  {
   "cell_type": "code",
   "execution_count": 56,
   "id": "bd194d92-8146-4d85-8315-6715849d27ee",
   "metadata": {},
   "outputs": [
    {
     "data": {
      "text/plain": [
       "array([1, 1, 1, 2, 2, 2, 3, 3, 3, 4, 4, 4, 5, 5, 5])"
      ]
     },
     "execution_count": 56,
     "metadata": {},
     "output_type": "execute_result"
    }
   ],
   "source": [
    "# 6)repeat \n",
    "arr1=np.array([1,2,3,4,5])\n",
    "np.repeat(arr1,3)"
   ]
  },
  {
   "cell_type": "code",
   "execution_count": 59,
   "id": "a69d4243-42c6-4338-802d-b9f9f906c087",
   "metadata": {},
   "outputs": [
    {
     "data": {
      "text/plain": [
       "array([4, 5, 1, 2, 3])"
      ]
     },
     "execution_count": 59,
     "metadata": {},
     "output_type": "execute_result"
    }
   ],
   "source": [
    "#7)roll\n",
    "arr=np.array([1,2,3,4,5])\n",
    "np.roll(arr,2)"
   ]
  },
  {
   "cell_type": "code",
   "execution_count": 60,
   "id": "0794a9d8-e40a-4813-8e5a-bffd3f74f416",
   "metadata": {},
   "outputs": [],
   "source": [
    "# 8)np.sort()\n",
    "# 9)searchsort() # gives pos where a mentioned element can insert inorder to mantain order\n",
    "# 10)np.count()\n",
    "# 11)np.count_nonzero()\n",
    "# 12)np.where(arr>0) # gives indices where non_zero element exists\n",
    "# 13)extract(arr>2,arr)# gives new array with elements >2 from mentioned array\n",
    "# 15)np.copy() #deep copy\n",
    "# 16)np.view() #shallow copy / =\n"
   ]
  },
  {
   "cell_type": "markdown",
   "id": "f4459db2-51f8-4610-aee3-e559dc333185",
   "metadata": {},
   "source": [
    "10)String functions"
   ]
  },
  {
   "cell_type": "code",
   "execution_count": 61,
   "id": "b2bbab81-6a1b-435d-a317-1968d0173fb1",
   "metadata": {},
   "outputs": [],
   "source": [
    "# np.char.upper()\n",
    "# np.char.capitilize()\n",
    "# np.char.title()"
   ]
  },
  {
   "cell_type": "markdown",
   "id": "025f1558-11ad-4f14-b764-592f8f1dddef",
   "metadata": {},
   "source": [
    "11) some other functions"
   ]
  },
  {
   "cell_type": "code",
   "execution_count": 63,
   "id": "ae1e4b75-99b9-46bc-bb52-c392696f1f73",
   "metadata": {},
   "outputs": [
    {
     "data": {
      "text/plain": [
       "array([[ True, False, False],\n",
       "       [False,  True, False],\n",
       "       [False, False,  True]])"
      ]
     },
     "execution_count": 63,
     "metadata": {},
     "output_type": "execute_result"
    }
   ],
   "source": [
    "np.fromfunction( lambda i,j : i==j , (3,3))"
   ]
  },
  {
   "cell_type": "code",
   "execution_count": 65,
   "id": "0dc7b96c-22c7-40aa-a1c9-298d4770ad30",
   "metadata": {},
   "outputs": [
    {
     "data": {
      "text/plain": [
       "array([1., 2., 3.])"
      ]
     },
     "execution_count": 65,
     "metadata": {},
     "output_type": "execute_result"
    }
   ],
   "source": [
    "np.fromiter((1,2,3),float)"
   ]
  },
  {
   "cell_type": "code",
   "execution_count": 67,
   "id": "35ea6424-d2d3-4106-ad34-69535ae8a4ac",
   "metadata": {},
   "outputs": [
    {
     "data": {
      "text/plain": [
       "array([1., 2., 3.])"
      ]
     },
     "execution_count": 67,
     "metadata": {},
     "output_type": "execute_result"
    }
   ],
   "source": [
    "np.fromstring('1 2 3',sep=' ')"
   ]
  },
  {
   "cell_type": "markdown",
   "id": "07234969-43aa-4deb-984d-b1e119208778",
   "metadata": {},
   "source": [
    "12) MATRIX"
   ]
  },
  {
   "cell_type": "code",
   "execution_count": 3,
   "id": "1e608858-360e-449f-b0f2-2abf6d00cf70",
   "metadata": {},
   "outputs": [
    {
     "data": {
      "text/plain": [
       "array([1, 2, 3, 4, 5])"
      ]
     },
     "execution_count": 3,
     "metadata": {},
     "output_type": "execute_result"
    }
   ],
   "source": [
    "l=[1,2,3,4,5]\n",
    "np.asanyarray(l)"
   ]
  },
  {
   "cell_type": "code",
   "execution_count": 5,
   "id": "d5027417-b6ff-409c-85f4-70f8d70aa7d0",
   "metadata": {},
   "outputs": [
    {
     "data": {
      "text/plain": [
       "matrix([[1, 2, 3, 4, 5]])"
      ]
     },
     "execution_count": 5,
     "metadata": {},
     "output_type": "execute_result"
    }
   ],
   "source": [
    "m=np.matrix(l) # 2d array or matrix\n",
    "m"
   ]
  },
  {
   "cell_type": "code",
   "execution_count": 7,
   "id": "83fa445e-04ab-48af-9b36-6bcabf63d293",
   "metadata": {},
   "outputs": [
    {
     "data": {
      "text/plain": [
       "matrix([[1, 2, 3, 4, 5]])"
      ]
     },
     "execution_count": 7,
     "metadata": {},
     "output_type": "execute_result"
    }
   ],
   "source": [
    "np.asanyarray(m)#not converted bcz matrix is also a type of array"
   ]
  },
  {
   "cell_type": "markdown",
   "id": "b7237bfb-8e7a-45ca-9ada-436f8e64ed77",
   "metadata": {},
   "source": [
    "13) make pandas data frame from ndarray"
   ]
  },
  {
   "cell_type": "code",
   "execution_count": 8,
   "id": "3a581866-9aa7-4748-a9ce-5fa6879c91d0",
   "metadata": {},
   "outputs": [],
   "source": [
    "import pandas as pd"
   ]
  },
  {
   "cell_type": "code",
   "execution_count": 12,
   "id": "f831f422-fe7a-461a-a994-52af968af841",
   "metadata": {},
   "outputs": [
    {
     "data": {
      "text/html": [
       "<div>\n",
       "<style scoped>\n",
       "    .dataframe tbody tr th:only-of-type {\n",
       "        vertical-align: middle;\n",
       "    }\n",
       "\n",
       "    .dataframe tbody tr th {\n",
       "        vertical-align: top;\n",
       "    }\n",
       "\n",
       "    .dataframe thead th {\n",
       "        text-align: right;\n",
       "    }\n",
       "</style>\n",
       "<table border=\"1\" class=\"dataframe\">\n",
       "  <thead>\n",
       "    <tr style=\"text-align: right;\">\n",
       "      <th></th>\n",
       "      <th>0</th>\n",
       "      <th>1</th>\n",
       "      <th>2</th>\n",
       "    </tr>\n",
       "  </thead>\n",
       "  <tbody>\n",
       "    <tr>\n",
       "      <th>0</th>\n",
       "      <td>1.0</td>\n",
       "      <td>0.0</td>\n",
       "      <td>0.0</td>\n",
       "    </tr>\n",
       "    <tr>\n",
       "      <th>1</th>\n",
       "      <td>0.0</td>\n",
       "      <td>1.0</td>\n",
       "      <td>0.0</td>\n",
       "    </tr>\n",
       "    <tr>\n",
       "      <th>2</th>\n",
       "      <td>0.0</td>\n",
       "      <td>0.0</td>\n",
       "      <td>1.0</td>\n",
       "    </tr>\n",
       "  </tbody>\n",
       "</table>\n",
       "</div>"
      ],
      "text/plain": [
       "     0    1    2\n",
       "0  1.0  0.0  0.0\n",
       "1  0.0  1.0  0.0\n",
       "2  0.0  0.0  1.0"
      ]
     },
     "execution_count": 12,
     "metadata": {},
     "output_type": "execute_result"
    }
   ],
   "source": [
    "arr=np.eye(3)\n",
    "pd.DataFrame(arr)"
   ]
  },
  {
   "cell_type": "markdown",
   "id": "7e17fe04-f686-4274-898f-9eca6ba2809d",
   "metadata": {},
   "source": [
    "14) loadtxt and savetxt"
   ]
  },
  {
   "cell_type": "markdown",
   "id": "115dd8d1-cd0c-45bb-953a-c82958303214",
   "metadata": {},
   "source": [
    "15)iterate though matrix"
   ]
  },
  {
   "cell_type": "code",
   "execution_count": 20,
   "id": "db0d89d4-f54c-4840-9d7e-7df24649404e",
   "metadata": {},
   "outputs": [
    {
     "name": "stdout",
     "output_type": "stream",
     "text": [
      "0\n",
      "1\n",
      "2\n",
      "3\n",
      "4\n",
      "5\n",
      "6\n",
      "7\n",
      "8\n",
      "9\n",
      "10\n",
      "11\n",
      "12\n",
      "13\n",
      "14\n",
      "15\n",
      "\n",
      "0\n",
      "4\n",
      "8\n",
      "12\n",
      "1\n",
      "5\n",
      "9\n",
      "13\n",
      "2\n",
      "6\n",
      "10\n",
      "14\n",
      "3\n",
      "7\n",
      "11\n",
      "15\n"
     ]
    }
   ],
   "source": [
    "a=np.arange(16).reshape((4,4))\n",
    "for cell in a.flatten():\n",
    "    print(cell)\n",
    "print()\n",
    "for cell in np.nditer(a,order='F'):\n",
    "    print(cell)"
   ]
  }
 ],
 "metadata": {
  "kernelspec": {
   "display_name": "Python 3 (ipykernel)",
   "language": "python",
   "name": "python3"
  },
  "language_info": {
   "codemirror_mode": {
    "name": "ipython",
    "version": 3
   },
   "file_extension": ".py",
   "mimetype": "text/x-python",
   "name": "python",
   "nbconvert_exporter": "python",
   "pygments_lexer": "ipython3",
   "version": "3.10.8"
  }
 },
 "nbformat": 4,
 "nbformat_minor": 5
}
