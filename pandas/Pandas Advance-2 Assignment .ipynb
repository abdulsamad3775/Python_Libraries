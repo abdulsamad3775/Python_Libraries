{
 "cells": [
  {
   "cell_type": "code",
   "execution_count": 1,
   "id": "f4868461",
   "metadata": {},
   "outputs": [
    {
     "name": "stdout",
     "output_type": "stream",
     "text": [
      "[WinError 123] The filename, directory name, or volume label syntax is incorrect: \"'C:\\\\Users\\\\abdulsamad\\\\OneDrive\\\\Desktop\\\\pandas'\"\n",
      "C:\\Users\\abdulsamad\\OneDrive\\Desktop\\pandas\n"
     ]
    }
   ],
   "source": [
    "cd 'C:\\Users\\abdulsamad\\OneDrive\\Desktop\\pandas'"
   ]
  },
  {
   "cell_type": "code",
   "execution_count": 2,
   "id": "200a2612",
   "metadata": {},
   "outputs": [
    {
     "data": {
      "text/html": [
       "<div>\n",
       "<style scoped>\n",
       "    .dataframe tbody tr th:only-of-type {\n",
       "        vertical-align: middle;\n",
       "    }\n",
       "\n",
       "    .dataframe tbody tr th {\n",
       "        vertical-align: top;\n",
       "    }\n",
       "\n",
       "    .dataframe thead th {\n",
       "        text-align: right;\n",
       "    }\n",
       "</style>\n",
       "<table border=\"1\" class=\"dataframe\">\n",
       "  <thead>\n",
       "    <tr style=\"text-align: right;\">\n",
       "      <th></th>\n",
       "      <th>course_name</th>\n",
       "      <th>duration</th>\n",
       "    </tr>\n",
       "  </thead>\n",
       "  <tbody>\n",
       "    <tr>\n",
       "      <th>0</th>\n",
       "      <td>Data Science</td>\n",
       "      <td>2</td>\n",
       "    </tr>\n",
       "    <tr>\n",
       "      <th>1</th>\n",
       "      <td>Machine Learning</td>\n",
       "      <td>3</td>\n",
       "    </tr>\n",
       "    <tr>\n",
       "      <th>2</th>\n",
       "      <td>Big Data</td>\n",
       "      <td>6</td>\n",
       "    </tr>\n",
       "    <tr>\n",
       "      <th>3</th>\n",
       "      <td>Data Engineer</td>\n",
       "      <td>4</td>\n",
       "    </tr>\n",
       "  </tbody>\n",
       "</table>\n",
       "</div>"
      ],
      "text/plain": [
       "        course_name  duration\n",
       "0      Data Science         2\n",
       "1  Machine Learning         3\n",
       "2          Big Data         6\n",
       "3     Data Engineer         4"
      ]
     },
     "execution_count": 2,
     "metadata": {},
     "output_type": "execute_result"
    }
   ],
   "source": [
    "# Consider following code to answer further questions:\n",
    "import pandas as pd\n",
    "course_name = ['Data Science', 'Machine Learning', 'Big Data', 'Data Engineer']\n",
    "duration = [2,3,6,4]\n",
    "df = pd.DataFrame(data = {'course_name' : course_name, 'duration' : duration})\n",
    "df"
   ]
  },
  {
   "cell_type": "markdown",
   "id": "d24b226d",
   "metadata": {},
   "source": [
    "### Q1. Write a code to print the data present in the second row of the dataframe, df."
   ]
  },
  {
   "cell_type": "code",
   "execution_count": 3,
   "id": "a8e25d06",
   "metadata": {},
   "outputs": [
    {
     "data": {
      "text/plain": [
       "course_name    Machine Learning\n",
       "duration                      3\n",
       "Name: 1, dtype: object"
      ]
     },
     "execution_count": 3,
     "metadata": {},
     "output_type": "execute_result"
    }
   ],
   "source": [
    "df.loc[1]"
   ]
  },
  {
   "cell_type": "markdown",
   "id": "5f04df9a",
   "metadata": {},
   "source": [
    "### Q2. What is the difference between the functions loc and iloc in pandas.DataFrame?"
   ]
  },
  {
   "cell_type": "markdown",
   "id": "11be242f",
   "metadata": {},
   "source": [
    "#### loc is for label-based indexing and includes both the start and end labels in the selection.iloc is for integer-based indexing and excludes the end position from the selection."
   ]
  },
  {
   "cell_type": "code",
   "execution_count": 4,
   "id": "dd03a127",
   "metadata": {},
   "outputs": [
    {
     "name": "stdout",
     "output_type": "stream",
     "text": [
      "   A  B\n",
      "X  1  4\n",
      "Y  2  5\n",
      "\n",
      "   A  B\n",
      "X  1  4\n",
      "Y  2  5\n"
     ]
    }
   ],
   "source": [
    "import pandas as pd\n",
    "data = {'A': [1, 2, 3], 'B': [4, 5, 6], 'C': [7, 8, 9]}\n",
    "df = pd.DataFrame(data, index=['X', 'Y', 'Z'])\n",
    "\n",
    "# Using loc to select data by labels\n",
    "print(df.loc['X':'Y', 'A':'B'])\n",
    "print()\n",
    "# Using iloc to select data by integer positions\n",
    "print(df.iloc[0:2, 0:2])\n"
   ]
  },
  {
   "cell_type": "markdown",
   "id": "1e0698a7",
   "metadata": {},
   "source": [
    "### Q3. Reindex the given dataframe using a variable, reindex = [3,0,1,2] and store it in the variable, new_df.then find the output for both new_df.loc[2] and new_df.iloc[2].Did you observe any difference in both the outputs? If so then explain it.\n",
    "\n",
    "new_df.loc[2] will access the row labeled '2' (according to the new index), and it will return the data in that row as a Pandas Series.\n",
    "\n",
    "new_df.iloc[2] will access the row at integer position 2 (based on the new index order), and it will return the data in that row as a Pandas Series."
   ]
  },
  {
   "cell_type": "code",
   "execution_count": 5,
   "id": "506ee947",
   "metadata": {},
   "outputs": [
    {
     "name": "stdout",
     "output_type": "stream",
     "text": [
      "output_loc = \n",
      "A    3\n",
      "B    7\n",
      "Name: 2, dtype: int64\n",
      "output_iloc =\n",
      "A    2\n",
      "B    6\n",
      "Name: 1, dtype: int64\n"
     ]
    },
    {
     "data": {
      "text/html": [
       "<div>\n",
       "<style scoped>\n",
       "    .dataframe tbody tr th:only-of-type {\n",
       "        vertical-align: middle;\n",
       "    }\n",
       "\n",
       "    .dataframe tbody tr th {\n",
       "        vertical-align: top;\n",
       "    }\n",
       "\n",
       "    .dataframe thead th {\n",
       "        text-align: right;\n",
       "    }\n",
       "</style>\n",
       "<table border=\"1\" class=\"dataframe\">\n",
       "  <thead>\n",
       "    <tr style=\"text-align: right;\">\n",
       "      <th></th>\n",
       "      <th>A</th>\n",
       "      <th>B</th>\n",
       "    </tr>\n",
       "  </thead>\n",
       "  <tbody>\n",
       "    <tr>\n",
       "      <th>3</th>\n",
       "      <td>4</td>\n",
       "      <td>8</td>\n",
       "    </tr>\n",
       "    <tr>\n",
       "      <th>0</th>\n",
       "      <td>1</td>\n",
       "      <td>5</td>\n",
       "    </tr>\n",
       "    <tr>\n",
       "      <th>1</th>\n",
       "      <td>2</td>\n",
       "      <td>6</td>\n",
       "    </tr>\n",
       "    <tr>\n",
       "      <th>2</th>\n",
       "      <td>3</td>\n",
       "      <td>7</td>\n",
       "    </tr>\n",
       "  </tbody>\n",
       "</table>\n",
       "</div>"
      ],
      "text/plain": [
       "   A  B\n",
       "3  4  8\n",
       "0  1  5\n",
       "1  2  6\n",
       "2  3  7"
      ]
     },
     "execution_count": 5,
     "metadata": {},
     "output_type": "execute_result"
    }
   ],
   "source": [
    "import pandas as pd\n",
    "data = {'A': [1, 2, 3, 4], 'B': [5, 6, 7, 8]}\n",
    "df = pd.DataFrame(data)\n",
    "\n",
    "reindex = [3,0,1,2]\n",
    "new_df=df.reindex(reindex)\n",
    "\n",
    "output_loc = new_df.loc[2]\n",
    "print('output_loc = ')\n",
    "print(new_df.loc[2])\n",
    "print('output_iloc =')\n",
    "print(new_df.iloc[2])\n",
    "new_df\n"
   ]
  },
  {
   "cell_type": "markdown",
   "id": "2e2db4eb",
   "metadata": {},
   "source": [
    "# Q4. Write a code to find the following statistical measurements for the below dataframe df1:\n",
    "(i) mean of each and every column present in the dataframe.\n",
    "(ii) standard deviation of column, ‘column_2’\n"
   ]
  },
  {
   "cell_type": "code",
   "execution_count": 6,
   "id": "8ac94e49",
   "metadata": {},
   "outputs": [
    {
     "data": {
      "text/html": [
       "<div>\n",
       "<style scoped>\n",
       "    .dataframe tbody tr th:only-of-type {\n",
       "        vertical-align: middle;\n",
       "    }\n",
       "\n",
       "    .dataframe tbody tr th {\n",
       "        vertical-align: top;\n",
       "    }\n",
       "\n",
       "    .dataframe thead th {\n",
       "        text-align: right;\n",
       "    }\n",
       "</style>\n",
       "<table border=\"1\" class=\"dataframe\">\n",
       "  <thead>\n",
       "    <tr style=\"text-align: right;\">\n",
       "      <th></th>\n",
       "      <th>column_1</th>\n",
       "      <th>column_2</th>\n",
       "      <th>column_3</th>\n",
       "      <th>column_4</th>\n",
       "      <th>column_5</th>\n",
       "      <th>column_6</th>\n",
       "    </tr>\n",
       "  </thead>\n",
       "  <tbody>\n",
       "    <tr>\n",
       "      <th>1</th>\n",
       "      <td>0.387608</td>\n",
       "      <td>0.168857</td>\n",
       "      <td>0.631622</td>\n",
       "      <td>0.492536</td>\n",
       "      <td>0.417399</td>\n",
       "      <td>0.493387</td>\n",
       "    </tr>\n",
       "    <tr>\n",
       "      <th>2</th>\n",
       "      <td>0.036212</td>\n",
       "      <td>0.019299</td>\n",
       "      <td>0.510780</td>\n",
       "      <td>0.849466</td>\n",
       "      <td>0.664641</td>\n",
       "      <td>0.203543</td>\n",
       "    </tr>\n",
       "    <tr>\n",
       "      <th>3</th>\n",
       "      <td>0.294941</td>\n",
       "      <td>0.898624</td>\n",
       "      <td>0.802853</td>\n",
       "      <td>0.793206</td>\n",
       "      <td>0.691949</td>\n",
       "      <td>0.189008</td>\n",
       "    </tr>\n",
       "    <tr>\n",
       "      <th>4</th>\n",
       "      <td>0.909170</td>\n",
       "      <td>0.833495</td>\n",
       "      <td>0.677521</td>\n",
       "      <td>0.039156</td>\n",
       "      <td>0.783279</td>\n",
       "      <td>0.254168</td>\n",
       "    </tr>\n",
       "    <tr>\n",
       "      <th>5</th>\n",
       "      <td>0.248390</td>\n",
       "      <td>0.936392</td>\n",
       "      <td>0.995959</td>\n",
       "      <td>0.526472</td>\n",
       "      <td>0.025662</td>\n",
       "      <td>0.670829</td>\n",
       "    </tr>\n",
       "    <tr>\n",
       "      <th>6</th>\n",
       "      <td>0.642602</td>\n",
       "      <td>0.523684</td>\n",
       "      <td>0.468618</td>\n",
       "      <td>0.897320</td>\n",
       "      <td>0.840605</td>\n",
       "      <td>0.463104</td>\n",
       "    </tr>\n",
       "  </tbody>\n",
       "</table>\n",
       "</div>"
      ],
      "text/plain": [
       "   column_1  column_2  column_3  column_4  column_5  column_6\n",
       "1  0.387608  0.168857  0.631622  0.492536  0.417399  0.493387\n",
       "2  0.036212  0.019299  0.510780  0.849466  0.664641  0.203543\n",
       "3  0.294941  0.898624  0.802853  0.793206  0.691949  0.189008\n",
       "4  0.909170  0.833495  0.677521  0.039156  0.783279  0.254168\n",
       "5  0.248390  0.936392  0.995959  0.526472  0.025662  0.670829\n",
       "6  0.642602  0.523684  0.468618  0.897320  0.840605  0.463104"
      ]
     },
     "execution_count": 6,
     "metadata": {},
     "output_type": "execute_result"
    }
   ],
   "source": [
    "import pandas as pd\n",
    "import numpy as np\n",
    "columns = ['column_1', 'column_2', 'column_3', 'column_4', 'column_5', 'column_6']\n",
    "indices = [1,2,3,4,5,6]\n",
    "#Creating a dataframe:\n",
    "df1 = pd.DataFrame(np.random.rand(6,6), columns = columns, index = indices)\n",
    "df1"
   ]
  },
  {
   "cell_type": "code",
   "execution_count": 7,
   "id": "f9314181",
   "metadata": {},
   "outputs": [
    {
     "data": {
      "text/plain": [
       "column_1    0.419820\n",
       "column_2    0.563392\n",
       "column_3    0.681225\n",
       "column_4    0.599693\n",
       "column_5    0.570589\n",
       "column_6    0.379007\n",
       "dtype: float64"
      ]
     },
     "execution_count": 7,
     "metadata": {},
     "output_type": "execute_result"
    }
   ],
   "source": [
    "# (i) mean of each and every column present in the dataframe.\n",
    "df1.mean()"
   ]
  },
  {
   "cell_type": "code",
   "execution_count": 8,
   "id": "ce897da9",
   "metadata": {},
   "outputs": [
    {
     "data": {
      "text/plain": [
       "0.39439502294528217"
      ]
     },
     "execution_count": 8,
     "metadata": {},
     "output_type": "execute_result"
    }
   ],
   "source": [
    "# (ii) standard deviation of column, ‘column_2’\n",
    "df1['column_2'].std()"
   ]
  },
  {
   "cell_type": "markdown",
   "id": "8baf787d",
   "metadata": {},
   "source": [
    "### Q5. Replace the data present in the second row of column, ‘column_2’ by a string variable then find the mean of column, column_2.\n",
    "If you are getting errors in executing it then explain why.\n",
    "[Hint: To replace the data use df1.loc[] and equate this to string data of your choice.]"
   ]
  },
  {
   "cell_type": "code",
   "execution_count": 9,
   "id": "5cb0d493",
   "metadata": {},
   "outputs": [
    {
     "name": "stdout",
     "output_type": "stream",
     "text": [
      "Error: unsupported operand type(s) for +: 'float' and 'str'\n",
      "\n",
      "DataFrame after replacing data:\n"
     ]
    },
    {
     "data": {
      "text/html": [
       "<div>\n",
       "<style scoped>\n",
       "    .dataframe tbody tr th:only-of-type {\n",
       "        vertical-align: middle;\n",
       "    }\n",
       "\n",
       "    .dataframe tbody tr th {\n",
       "        vertical-align: top;\n",
       "    }\n",
       "\n",
       "    .dataframe thead th {\n",
       "        text-align: right;\n",
       "    }\n",
       "</style>\n",
       "<table border=\"1\" class=\"dataframe\">\n",
       "  <thead>\n",
       "    <tr style=\"text-align: right;\">\n",
       "      <th></th>\n",
       "      <th>column_1</th>\n",
       "      <th>column_2</th>\n",
       "      <th>column_3</th>\n",
       "      <th>column_4</th>\n",
       "      <th>column_5</th>\n",
       "      <th>column_6</th>\n",
       "    </tr>\n",
       "  </thead>\n",
       "  <tbody>\n",
       "    <tr>\n",
       "      <th>1</th>\n",
       "      <td>0.387608</td>\n",
       "      <td>0.168857</td>\n",
       "      <td>0.631622</td>\n",
       "      <td>0.492536</td>\n",
       "      <td>0.417399</td>\n",
       "      <td>0.493387</td>\n",
       "    </tr>\n",
       "    <tr>\n",
       "      <th>2</th>\n",
       "      <td>0.036212</td>\n",
       "      <td>Replacement</td>\n",
       "      <td>0.510780</td>\n",
       "      <td>0.849466</td>\n",
       "      <td>0.664641</td>\n",
       "      <td>0.203543</td>\n",
       "    </tr>\n",
       "    <tr>\n",
       "      <th>3</th>\n",
       "      <td>0.294941</td>\n",
       "      <td>0.898624</td>\n",
       "      <td>0.802853</td>\n",
       "      <td>0.793206</td>\n",
       "      <td>0.691949</td>\n",
       "      <td>0.189008</td>\n",
       "    </tr>\n",
       "    <tr>\n",
       "      <th>4</th>\n",
       "      <td>0.909170</td>\n",
       "      <td>0.833495</td>\n",
       "      <td>0.677521</td>\n",
       "      <td>0.039156</td>\n",
       "      <td>0.783279</td>\n",
       "      <td>0.254168</td>\n",
       "    </tr>\n",
       "    <tr>\n",
       "      <th>5</th>\n",
       "      <td>0.248390</td>\n",
       "      <td>0.936392</td>\n",
       "      <td>0.995959</td>\n",
       "      <td>0.526472</td>\n",
       "      <td>0.025662</td>\n",
       "      <td>0.670829</td>\n",
       "    </tr>\n",
       "    <tr>\n",
       "      <th>6</th>\n",
       "      <td>0.642602</td>\n",
       "      <td>0.523684</td>\n",
       "      <td>0.468618</td>\n",
       "      <td>0.897320</td>\n",
       "      <td>0.840605</td>\n",
       "      <td>0.463104</td>\n",
       "    </tr>\n",
       "  </tbody>\n",
       "</table>\n",
       "</div>"
      ],
      "text/plain": [
       "   column_1     column_2  column_3  column_4  column_5  column_6\n",
       "1  0.387608     0.168857  0.631622  0.492536  0.417399  0.493387\n",
       "2  0.036212  Replacement  0.510780  0.849466  0.664641  0.203543\n",
       "3  0.294941     0.898624  0.802853  0.793206  0.691949  0.189008\n",
       "4  0.909170     0.833495  0.677521  0.039156  0.783279  0.254168\n",
       "5  0.248390     0.936392  0.995959  0.526472  0.025662  0.670829\n",
       "6  0.642602     0.523684  0.468618  0.897320  0.840605  0.463104"
      ]
     },
     "execution_count": 9,
     "metadata": {},
     "output_type": "execute_result"
    }
   ],
   "source": [
    "replacement_string = 'Replacement'\n",
    "df1.loc[2,'column_2']=replacement_string\n",
    "try:\n",
    "    mean_column_2 = df1['column_2'].mean()\n",
    "    print(\"Mean of 'column_2':\", mean_column_2)\n",
    "except Exception as e:\n",
    "    print(\"Error:\", str(e))\n",
    "\n",
    "print(\"\\nDataFrame after replacing data:\")\n",
    "df1"
   ]
  },
  {
   "cell_type": "markdown",
   "id": "89478391",
   "metadata": {},
   "source": [
    "When you run this code, it will replace the data in the second row of 'column_2' with the string 'Replacement'. However, when attempting to calculate the mean of 'column_2', you may encounter an error or obtain NaN as a result due to the mixed data types in the column. To calculate the mean of 'column_2' successfully, you would need to ensure that the entire column contains numerical values."
   ]
  },
  {
   "cell_type": "markdown",
   "id": "0776ba48",
   "metadata": {},
   "source": [
    "# Q6. What do you understand about the windows function in pandas and list the types of windows functions?\n",
    "\n",
    "Window functions in Pandas are operations that compute statistics or aggregations within a rolling window of data points. Common types of window functions include:\n",
    "\n",
    "Mean: Calculates the average of values within the window.\n",
    "Sum: Calculates the sum of values within the window.\n",
    "Minimum: Finds the minimum value within the window.\n",
    "Maximum: Finds the maximum value within the window.\n",
    "Variance: Computes the variance of values within the window.\n",
    "Standard Deviation: Computes the standard deviation within the window.\n",
    "Correlation: Calculates correlation between two columns within the window.\n",
    "Quantile: Computes specified quantiles (e.g., median) within the window.\n",
    "Exponential Moving Average (EMA): Calculates weighted moving averages.\n",
    "Rank: Assigns ranks to values within the window based on their order."
   ]
  },
  {
   "cell_type": "code",
   "execution_count": 10,
   "id": "7ba70bd4",
   "metadata": {},
   "outputs": [
    {
     "name": "stdout",
     "output_type": "stream",
     "text": [
      "        Date  Value  Rolling_Mean       EMA  Rolling_Sum\n",
      "0 2023-01-01      1           NaN  1.000000          NaN\n",
      "1 2023-01-02      2           NaN  1.666667          3.0\n",
      "2 2023-01-03      3           2.0  2.428571          5.0\n",
      "3 2023-01-04      4           3.0  3.266667          7.0\n",
      "4 2023-01-05      5           4.0  4.161290          9.0\n",
      "5 2023-01-06      6           5.0  5.095238         11.0\n",
      "6 2023-01-07      7           6.0  6.055118         13.0\n",
      "7 2023-01-08      8           7.0  7.031373         15.0\n",
      "8 2023-01-09      9           8.0  8.017613         17.0\n",
      "9 2023-01-10     10           9.0  9.009775         19.0\n"
     ]
    }
   ],
   "source": [
    "import pandas as pd\n",
    "\n",
    "# Sample time series data\n",
    "data = {'Date': pd.date_range(start='2023-01-01', periods=10, freq='D'),\n",
    "        'Value': [1, 2, 3, 4, 5, 6, 7, 8, 9, 10]}\n",
    "\n",
    "# Create a DataFrame\n",
    "df = pd.DataFrame(data)\n",
    "\n",
    "# Calculate the rolling mean with a window size of 3\n",
    "df['Rolling_Mean'] = df['Value'].rolling(window=3).mean()\n",
    "\n",
    "# Calculate the exponential moving average (EMA) with a span of 3\n",
    "df['EMA'] = df['Value'].ewm(span=3).mean()\n",
    "\n",
    "# Calculate the rolling sum with a window size of 2\n",
    "df['Rolling_Sum'] = df['Value'].rolling(window=2).sum()\n",
    "\n",
    "# Print the DataFrame\n",
    "print(df)\n"
   ]
  },
  {
   "cell_type": "markdown",
   "id": "bc902035",
   "metadata": {},
   "source": [
    "### Q7. Write a code to print only the current month and year at the time of answering this question.\n",
    "[Hint: Use pandas.datetime function]"
   ]
  },
  {
   "cell_type": "code",
   "execution_count": 11,
   "id": "479e9048",
   "metadata": {},
   "outputs": [
    {
     "name": "stdout",
     "output_type": "stream",
     "text": [
      "Current Month: 10\n",
      "Current Year: 2023\n",
      "Current Date and Time: 2023-10-01 16:25:55.792962\n"
     ]
    }
   ],
   "source": [
    "import pandas as pd\n",
    "from datetime import datetime\n",
    "\n",
    "# Get the current date and time\n",
    "current_datetime = datetime.now()\n",
    "\n",
    "# Extract the month and year from the current date\n",
    "current_month = current_datetime.month\n",
    "current_year = current_datetime.year\n",
    "\n",
    "# Create a Pandas Timestamp object\n",
    "current_timestamp = pd.Timestamp(current_datetime)\n",
    "\n",
    "# Print the current month and year\n",
    "print(\"Current Month:\", current_month)\n",
    "print(\"Current Year:\", current_year)\n",
    "\n",
    "# Alternatively, you can print the current date and time as well\n",
    "print(\"Current Date and Time:\", current_timestamp)\n"
   ]
  },
  {
   "cell_type": "markdown",
   "id": "2c466a6a",
   "metadata": {},
   "source": [
    "### Q8. Write a Python program that takes in two dates as input (in the format YYYY-MM-DD) and\n",
    "calculates the difference between them in days, hours, and minutes using Pandas time delta. The\n",
    "program should prompt the user to enter the dates and display the result."
   ]
  },
  {
   "cell_type": "code",
   "execution_count": 12,
   "id": "7d6e29a6",
   "metadata": {},
   "outputs": [
    {
     "name": "stdout",
     "output_type": "stream",
     "text": [
      "Enter the first date (YYYY-MM-DD): 2002-09-08\n",
      "Enter the second date (YYYY-MM-DD): 2003-09-08\n",
      "Time difference between 2002-09-08 00:00:00 and 2003-09-08 00:00:00:\n",
      "Days: 365\n",
      "Hours: 0\n",
      "Minutes: 0\n"
     ]
    }
   ],
   "source": [
    "import pandas as pd\n",
    "\n",
    "# Get the two dates as input from the user\n",
    "date_str1 = input(\"Enter the first date (YYYY-MM-DD): \")\n",
    "date_str2 = input(\"Enter the second date (YYYY-MM-DD): \")\n",
    "\n",
    "# Convert the input strings to Pandas Timestamp objects\n",
    "try:\n",
    "    date1 = pd.Timestamp(date_str1)\n",
    "    date2 = pd.Timestamp(date_str2)\n",
    "except ValueError:\n",
    "    print(\"Invalid date format. Please use YYYY-MM-DD format.\")\n",
    "    exit()\n",
    "\n",
    "# Calculate the time difference\n",
    "time_difference = date2 - date1\n",
    "\n",
    "# Extract days, hours, and minutes from the time difference\n",
    "days = time_difference.days\n",
    "hours, remainder = divmod(time_difference.seconds, 3600)\n",
    "minutes, _ = divmod(remainder, 60)\n",
    "\n",
    "# Display the result\n",
    "print(f\"Time difference between {date1} and {date2}:\")\n",
    "print(f\"Days: {days}\")\n",
    "print(f\"Hours: {hours}\")\n",
    "print(f\"Minutes: {minutes}\")\n"
   ]
  },
  {
   "cell_type": "markdown",
   "id": "a147d91e",
   "metadata": {},
   "source": [
    "# Q9. Write a Python program that reads a CSV file containing categorical data and converts a specifiedcolumn to a categorical data type. The program should prompt the user to enter the file path, columnname, and category order, and then display the sorted data."
   ]
  },
  {
   "cell_type": "code",
   "execution_count": null,
   "id": "a8851a2e",
   "metadata": {},
   "outputs": [],
   "source": [
    "import pandas as pd\n",
    "import numpy as np\n",
    "\n",
    "# Function to create and save sample data as a CSV file\n",
    "def create_and_save_sample_data():\n",
    "    # Prompt the user for the file path to save the data\n",
    "    file_path = input(\"Enter the CSV file path to save the sample data: \")\n",
    "\n",
    "    # Generate sample data\n",
    "    num_rows = int(input(\"Enter the number of rows for sample data: \"))\n",
    "    categories = [\"Category A\", \"Category B\", \"Category C\", \"Category D\"]\n",
    "    data = {\n",
    "        \"Column1\": np.random.choice(categories, num_rows),\n",
    "        \"Column2\": np.random.randint(1, 101, num_rows)\n",
    "    }\n",
    "\n",
    "    # Create a DataFrame\n",
    "    df = pd.DataFrame(data)\n",
    "\n",
    "    # Save the DataFrame to a CSV file\n",
    "    df.to_csv(file_path, index=False)\n",
    "    print(f\"Sample data saved to '{file_path}'.\")\n",
    "\n",
    "if __name__ == \"__main__\":\n",
    "    create_and_save_sample_data()\n"
   ]
  },
  {
   "cell_type": "code",
   "execution_count": null,
   "id": "f7aa0c81",
   "metadata": {},
   "outputs": [],
   "source": [
    "import pandas as pd\n",
    "\n",
    "# Function to read and process the CSV file\n",
    "def convert_column_to_categorical():\n",
    "    # Prompt the user for the file path\n",
    "    file_path = input(\"Enter the CSV file path: \")\n",
    "\n",
    "    try:\n",
    "        # Read the CSV file into a DataFrame\n",
    "        df = pd.read_csv(file_path)\n",
    "\n",
    "        # Display the available columns to the user\n",
    "        print(\"Available columns in the CSV file:\")\n",
    "        for column in df.columns:\n",
    "            print(column)\n",
    "\n",
    "        # Prompt the user for the column name to convert\n",
    "        column_name = input(\"Enter the column name to convert to categorical: \")\n",
    "\n",
    "        # Check if the specified column exists in the DataFrame\n",
    "        if column_name not in df.columns:\n",
    "            print(f\"Column '{column_name}' does not exist in the CSV file.\")\n",
    "            return\n",
    "\n",
    "        # Prompt the user for the category order\n",
    "        category_order = input(\"Enter the category order (comma-separated): \").split(',')\n",
    "\n",
    "        # Convert the specified column to a categorical data type\n",
    "        df[column_name] = df[column_name].astype(pd.CategoricalDtype(categories=category_order, ordered=True))\n",
    "\n",
    "        # Sort the DataFrame by the categorical column\n",
    "        sorted_df = df.sort_values(by=[column_name])\n",
    "\n",
    "        # Display the sorted data\n",
    "        print(\"\\nSorted Data:\")\n",
    "        print(sorted_df)\n",
    "\n",
    "        # Prompt the user to save the sorted data to a new CSV file\n",
    "        save_file = input(\"Do you want to save the sorted data to a new CSV file? (yes/no): \")\n",
    "        if save_file.lower() == \"yes\":\n",
    "            new_file_path = input(\"Enter the new file path to save the sorted data: \")\n",
    "            sorted_df.to_csv(new_file_path, index=False)\n",
    "            print(f\"Sorted data saved to '{new_file_path}'.\")\n",
    "\n",
    "    except FileNotFoundError:\n",
    "        print(f\"File not found at '{file_path}'.\")\n",
    "\n",
    "if __name__ == \"__main__\":\n",
    "    convert_column_to_categorical()\n"
   ]
  },
  {
   "cell_type": "markdown",
   "id": "07ca4972",
   "metadata": {},
   "source": [
    "### Q10. Write a Python program that reads a CSV file containing sales data for different products andvisualizes the data using a stacked bar chart to show the sales of each product category over time. The program should prompt the user to enter the file path and display the chart."
   ]
  },
  {
   "cell_type": "code",
   "execution_count": null,
   "id": "55ec1e12",
   "metadata": {},
   "outputs": [],
   "source": [
    "import pandas as pd\n",
    "import matplotlib.pyplot as plt\n",
    "\n",
    "# Function to read CSV file and create a stacked bar chart\n",
    "def visualize_sales_data():\n",
    "    # Prompt the user for the file path\n",
    "    file_path = input(\"Enter the CSV file path: \")\n",
    "\n",
    "    try:\n",
    "        # Read the CSV file into a DataFrame\n",
    "        df = pd.read_csv(file_path)\n",
    "\n",
    "        # Check if the DataFrame has columns for 'Product', 'Date', and 'Sales'\n",
    "        if 'Product' not in df.columns or 'Date' not in df.columns or 'Sales' not in df.columns:\n",
    "            print(\"The CSV file should have 'Product', 'Date', and 'Sales' columns.\")\n",
    "            return\n",
    "\n",
    "        # Convert the 'Date' column to a datetime type\n",
    "        df['Date'] = pd.to_datetime(df['Date'])\n",
    "\n",
    "        # Group the data by 'Product' and 'Date' and sum the 'Sales' for each group\n",
    "        grouped_data = df.groupby(['Product', 'Date'])['Sales'].sum().reset_index()\n",
    "\n",
    "        # Pivot the table to create a format suitable for a stacked bar chart\n",
    "        pivot_table = grouped_data.pivot(index='Date', columns='Product', values='Sales').fillna(0)\n",
    "\n",
    "        # Create a stacked bar chart\n",
    "        plt.figure(figsize=(10, 6))\n",
    "        pivot_table.plot(kind='bar', stacked=True)\n",
    "        plt.title(\"Sales of Each Product Category Over Time\")\n",
    "        plt.xlabel(\"Date\")\n",
    "        plt.ylabel(\"Sales\")\n",
    "        plt.legend(title='Product Category', bbox_to_anchor=(1.05, 1), loc='upper left')\n",
    "        plt.tight_layout()\n",
    "\n",
    "        # Show the chart\n",
    "        plt.show()\n",
    "\n",
    "    except FileNotFoundError:\n",
    "        print(f\"File not found at '{file_path}'.\")\n",
    "\n"
   ]
  },
  {
   "cell_type": "markdown",
   "id": "8fe33042",
   "metadata": {},
   "source": [
    "### Q11. You are given a CSV file containing student data that includes the student ID and their test score. Write\n",
    "a Python program that reads the CSV file, calculates the mean, median, and mode of the test scores, and\n",
    "displays the results in a table.\n",
    "The program should do the followingM\n",
    "I Prompt the user to enter the file path of the CSV file containing the student dataR\n",
    "I Read the CSV file into a Pandas DataFrameR\n",
    "I Calculate the mean, median, and mode of the test scores using Pandas toolsR\n",
    "I Display the mean, median, and mode in a table.\n",
    "Assume the CSV file contains the following columnsM\n",
    "I Student ID: The ID of the studentR\n",
    "I Test Score: The score of the student's test.\n",
    "Example usage of the program:\n",
    "Enter the file path of the CSV file containing the student data: student_data.csv\n",
    "+-----------+--------+\n",
    "| Statistic | Value |\n",
    "+-----------+--------+\n",
    "| Mean | 79.6 |\n",
    "| Median | 82 |\n",
    "| Mode | 85, 90 |\n",
    "+-----------+--------+\n",
    "Assume that the CSV file student_data.csv contains the following data:\n",
    "Student ID,Test Score\n",
    "1,85\n",
    "2,90\n",
    "3,80\n",
    "4,75\n",
    "5,85\n",
    "6,82\n",
    "7,78\n",
    "8,85\n",
    "9,90\n",
    "10,85\n",
    "The program should calculate the mean, median, and mode of the test scores and display the results\n",
    "in a table."
   ]
  },
  {
   "cell_type": "code",
   "execution_count": null,
   "id": "b3b4ab67",
   "metadata": {},
   "outputs": [],
   "source": [
    "import pandas as pd\n",
    "from tabulate import tabulate\n",
    "\n",
    "# Function to calculate statistics and display results\n",
    "def calculate_and_display_statistics():\n",
    "    # Prompt the user for the file path\n",
    "    file_path = input(\"Enter the file path of the CSV file containing student data: \")\n",
    "\n",
    "    try:\n",
    "        # Read the CSV file into a DataFrame\n",
    "        df = pd.read_csv(file_path)\n",
    "\n",
    "        # Check if the DataFrame contains 'Test Score' column\n",
    "        if 'Test Score' not in df.columns:\n",
    "            print(\"The CSV file should have a 'Test Score' column.\")\n",
    "            return\n",
    "\n",
    "        # Calculate mean, median, and mode of the test scores\n",
    "        mean_score = df['Test Score'].mean()\n",
    "        median_score = df['Test Score'].median()\n",
    "        mode_scores = df['Test Score'].mode()\n",
    "\n",
    "        # Display the results in a table\n",
    "        table = [\n",
    "            [\"Mean\", mean_score],\n",
    "            [\"Median\", median_score],\n",
    "            [\"Mode\", ', '.join(map(str, mode_scores))]\n",
    "        ]\n",
    "\n",
    "        print(tabulate(table, headers=[\"Statistic\", \"Value\"], tablefmt=\"grid\"))\n",
    "\n",
    "    except FileNotFoundError:\n",
    "        print(f\"File not found at '{file_path}'.\")\n",
    "\n",
    "if __name__ == \"__main__\":\n",
    "    calculate_and_display_statistics()\n",
    "import pandas as pd\n",
    "from tabulate import tabulate\n",
    "\n",
    "# Function to calculate statistics and display results\n",
    "def calculate_and_display_statistics():\n",
    "    # Prompt the user for the file path\n",
    "    file_path = input(\"Enter the file path of the CSV file containing student data: \")\n",
    "\n",
    "    try:\n",
    "        # Read the CSV file into a DataFrame\n",
    "        df = pd.read_csv(file_path)\n",
    "\n",
    "        # Check if the DataFrame contains 'Test Score' column\n",
    "        if 'Test Score' not in df.columns:\n",
    "            print(\"The CSV file should have a 'Test Score' column.\")\n",
    "            return\n",
    "\n",
    "        # Calculate mean, median, and mode of the test scores\n",
    "        mean_score = df['Test Score'].mean()\n",
    "        median_score = df['Test Score'].median()\n",
    "        mode_scores = df['Test Score'].mode()\n",
    "\n",
    "        # Display the results in a table\n",
    "        table = [\n",
    "            [\"Mean\", mean_score],\n",
    "            [\"Median\", median_score],\n",
    "            [\"Mode\", ', '.join(map(str, mode_scores))]\n",
    "        ]\n",
    "\n",
    "        print(tabulate(table, headers=[\"Statistic\", \"Value\"], tablefmt=\"grid\"))\n",
    "\n",
    "    except FileNotFoundError:\n",
    "        print(f\"File not found at '{file_path}'.\")\n",
    "\n"
   ]
  },
  {
   "cell_type": "code",
   "execution_count": null,
   "id": "96692703",
   "metadata": {},
   "outputs": [],
   "source": []
  }
 ],
 "metadata": {
  "kernelspec": {
   "display_name": "Python 3 (ipykernel)",
   "language": "python",
   "name": "python3"
  },
  "language_info": {
   "codemirror_mode": {
    "name": "ipython",
    "version": 3
   },
   "file_extension": ".py",
   "mimetype": "text/x-python",
   "name": "python",
   "nbconvert_exporter": "python",
   "pygments_lexer": "ipython3",
   "version": "3.11.3"
  }
 },
 "nbformat": 4,
 "nbformat_minor": 5
}
