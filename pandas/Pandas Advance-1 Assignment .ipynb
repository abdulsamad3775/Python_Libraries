{
 "cells": [
  {
   "cell_type": "markdown",
   "id": "1827c416",
   "metadata": {},
   "source": [
    "### Q1. List any five functions of the pandas library with execution. "
   ]
  },
  {
   "cell_type": "code",
   "execution_count": 2,
   "id": "3e0bd9e8",
   "metadata": {},
   "outputs": [],
   "source": [
    "import numpy as np\n",
    "import pandas as pd"
   ]
  },
  {
   "cell_type": "code",
   "execution_count": 3,
   "id": "2fa0686f",
   "metadata": {},
   "outputs": [
    {
     "data": {
      "text/html": [
       "<div>\n",
       "<style scoped>\n",
       "    .dataframe tbody tr th:only-of-type {\n",
       "        vertical-align: middle;\n",
       "    }\n",
       "\n",
       "    .dataframe tbody tr th {\n",
       "        vertical-align: top;\n",
       "    }\n",
       "\n",
       "    .dataframe thead th {\n",
       "        text-align: right;\n",
       "    }\n",
       "</style>\n",
       "<table border=\"1\" class=\"dataframe\">\n",
       "  <thead>\n",
       "    <tr style=\"text-align: right;\">\n",
       "      <th></th>\n",
       "      <th>PassengerId</th>\n",
       "      <th>Survived</th>\n",
       "      <th>Pclass</th>\n",
       "      <th>Age</th>\n",
       "      <th>SibSp</th>\n",
       "      <th>Parch</th>\n",
       "      <th>Fare</th>\n",
       "    </tr>\n",
       "  </thead>\n",
       "  <tbody>\n",
       "    <tr>\n",
       "      <th>count</th>\n",
       "      <td>891.000000</td>\n",
       "      <td>891.000000</td>\n",
       "      <td>891.000000</td>\n",
       "      <td>714.000000</td>\n",
       "      <td>891.000000</td>\n",
       "      <td>891.000000</td>\n",
       "      <td>891.000000</td>\n",
       "    </tr>\n",
       "    <tr>\n",
       "      <th>mean</th>\n",
       "      <td>446.000000</td>\n",
       "      <td>0.383838</td>\n",
       "      <td>2.308642</td>\n",
       "      <td>29.699118</td>\n",
       "      <td>0.523008</td>\n",
       "      <td>0.381594</td>\n",
       "      <td>32.204208</td>\n",
       "    </tr>\n",
       "    <tr>\n",
       "      <th>std</th>\n",
       "      <td>257.353842</td>\n",
       "      <td>0.486592</td>\n",
       "      <td>0.836071</td>\n",
       "      <td>14.526497</td>\n",
       "      <td>1.102743</td>\n",
       "      <td>0.806057</td>\n",
       "      <td>49.693429</td>\n",
       "    </tr>\n",
       "    <tr>\n",
       "      <th>min</th>\n",
       "      <td>1.000000</td>\n",
       "      <td>0.000000</td>\n",
       "      <td>1.000000</td>\n",
       "      <td>0.420000</td>\n",
       "      <td>0.000000</td>\n",
       "      <td>0.000000</td>\n",
       "      <td>0.000000</td>\n",
       "    </tr>\n",
       "    <tr>\n",
       "      <th>25%</th>\n",
       "      <td>223.500000</td>\n",
       "      <td>0.000000</td>\n",
       "      <td>2.000000</td>\n",
       "      <td>20.125000</td>\n",
       "      <td>0.000000</td>\n",
       "      <td>0.000000</td>\n",
       "      <td>7.910400</td>\n",
       "    </tr>\n",
       "    <tr>\n",
       "      <th>50%</th>\n",
       "      <td>446.000000</td>\n",
       "      <td>0.000000</td>\n",
       "      <td>3.000000</td>\n",
       "      <td>28.000000</td>\n",
       "      <td>0.000000</td>\n",
       "      <td>0.000000</td>\n",
       "      <td>14.454200</td>\n",
       "    </tr>\n",
       "    <tr>\n",
       "      <th>75%</th>\n",
       "      <td>668.500000</td>\n",
       "      <td>1.000000</td>\n",
       "      <td>3.000000</td>\n",
       "      <td>38.000000</td>\n",
       "      <td>1.000000</td>\n",
       "      <td>0.000000</td>\n",
       "      <td>31.000000</td>\n",
       "    </tr>\n",
       "    <tr>\n",
       "      <th>max</th>\n",
       "      <td>891.000000</td>\n",
       "      <td>1.000000</td>\n",
       "      <td>3.000000</td>\n",
       "      <td>80.000000</td>\n",
       "      <td>8.000000</td>\n",
       "      <td>6.000000</td>\n",
       "      <td>512.329200</td>\n",
       "    </tr>\n",
       "  </tbody>\n",
       "</table>\n",
       "</div>"
      ],
      "text/plain": [
       "       PassengerId    Survived      Pclass         Age       SibSp  \\\n",
       "count   891.000000  891.000000  891.000000  714.000000  891.000000   \n",
       "mean    446.000000    0.383838    2.308642   29.699118    0.523008   \n",
       "std     257.353842    0.486592    0.836071   14.526497    1.102743   \n",
       "min       1.000000    0.000000    1.000000    0.420000    0.000000   \n",
       "25%     223.500000    0.000000    2.000000   20.125000    0.000000   \n",
       "50%     446.000000    0.000000    3.000000   28.000000    0.000000   \n",
       "75%     668.500000    1.000000    3.000000   38.000000    1.000000   \n",
       "max     891.000000    1.000000    3.000000   80.000000    8.000000   \n",
       "\n",
       "            Parch        Fare  \n",
       "count  891.000000  891.000000  \n",
       "mean     0.381594   32.204208  \n",
       "std      0.806057   49.693429  \n",
       "min      0.000000    0.000000  \n",
       "25%      0.000000    7.910400  \n",
       "50%      0.000000   14.454200  \n",
       "75%      0.000000   31.000000  \n",
       "max      6.000000  512.329200  "
      ]
     },
     "execution_count": 3,
     "metadata": {},
     "output_type": "execute_result"
    }
   ],
   "source": [
    "#function 1 : read_csv - used to read the csv file\n",
    "df=pd.read_csv('titanic_dataset.csv')\n",
    "#function 2 : set_option - to set various options for controlling the behavior and display of pandas data structures and o/p\n",
    "pd.set_option('display.max_columns',12)\n",
    "#function 3 : head() - used to display the first n - no. of data (by default n = 5)\n",
    "df.head(3)\n",
    "#function 4 : tail() - used to display the last n - no. of data (by default n = 5)\n",
    "df.tail(2)\n",
    "#function 5 : gives statitical summary about the data like mean ,sd,count,min,max..\n",
    "df.describe()"
   ]
  },
  {
   "cell_type": "markdown",
   "id": "9521965c",
   "metadata": {},
   "source": [
    "### Q2. Given a Pandas DataFrame df with columns 'A', 'B', and 'C', write a Python function to re-index the  DataFrame with a new index that starts from 1 and increments by 2 for each row. "
   ]
  },
  {
   "cell_type": "code",
   "execution_count": 4,
   "id": "7b790a2d",
   "metadata": {},
   "outputs": [
    {
     "name": "stdout",
     "output_type": "stream",
     "text": [
      "    A   B   C\n",
      "1  10  40  70\n",
      "3  20  50  80\n",
      "5  30  60  90\n"
     ]
    }
   ],
   "source": [
    "import pandas as pd\n",
    "\n",
    "def reindex_dataframe_inplace(df):\n",
    "    # Create a new custom index starting from 1 and incrementing by 2\n",
    "    new_index = pd.Index(range(1, len(df) * 2, 2)) \n",
    "    # Assign the new custom index to the existing DataFrame's index\n",
    "    df.index = new_index\n",
    "\n",
    "# Example usage:\n",
    "data = {'A': [10, 20, 30], 'B': [40, 50, 60], 'C': [70, 80, 90]}\n",
    "df = pd.DataFrame(data)\n",
    "\n",
    "reindex_dataframe_inplace(df)\n",
    "print(df)\n"
   ]
  },
  {
   "cell_type": "markdown",
   "id": "90e93db0",
   "metadata": {},
   "source": [
    "### Q3. You have a Pandas DataFrame df with a column named 'Values'. Write a Python function that  iterates over the DataFrame and calculates the sum of the first three values in the 'Values' column. The  function should print the sum to the console. \n"
   ]
  },
  {
   "cell_type": "code",
   "execution_count": 5,
   "id": "9690d6ad",
   "metadata": {},
   "outputs": [
    {
     "name": "stdout",
     "output_type": "stream",
     "text": [
      "sum :  25\n"
     ]
    }
   ],
   "source": [
    "s1=pd.Series(range(1,10,2),name='Values')\n",
    "df=pd.DataFrame(s1)\n",
    "df\n",
    "def sum_df(df,stop):\n",
    "    print(\"sum : \",sum(list(df.loc[0:stop+1,'Values'])))\n",
    "sum_df(df,3)"
   ]
  },
  {
   "cell_type": "code",
   "execution_count": 6,
   "id": "9ac7a1e3",
   "metadata": {},
   "outputs": [],
   "source": [
    "#or-----------------------------------------------------------------------------------------------------------------------"
   ]
  },
  {
   "cell_type": "code",
   "execution_count": 7,
   "id": "5f7b9b5f",
   "metadata": {},
   "outputs": [
    {
     "name": "stdout",
     "output_type": "stream",
     "text": [
      "Sum of the first three values: 60\n"
     ]
    }
   ],
   "source": [
    "import pandas as pd\n",
    "\n",
    "def calculate_sum_of_first_three_values(df):\n",
    "    # Initialize a variable to store the sum\n",
    "    total_sum = 0\n",
    "    \n",
    "    # Iterate over the first three values in the 'Values' column\n",
    "    for i, value in enumerate(df['Values']):\n",
    "        if i < 3:\n",
    "            total_sum += value\n",
    "        else:\n",
    "            break  # Exit the loop after summing the first three values\n",
    "    \n",
    "    # Print the sum to the console\n",
    "    print(\"Sum of the first three values:\", total_sum)\n",
    "\n",
    "# Example usage:\n",
    "data = {'Values': [10, 20, 30, 40, 50]}\n",
    "df = pd.DataFrame(data)\n",
    "\n",
    "# Call the function to calculate the sum\n",
    "calculate_sum_of_first_three_values(df)\n"
   ]
  },
  {
   "cell_type": "markdown",
   "id": "3a15c438",
   "metadata": {},
   "source": [
    "### Q4. Given a Pandas DataFrame df with a column 'Text', write a Python function to create a new column  'Word_Count' that contains the number of words in each row of the 'Text' column. "
   ]
  },
  {
   "cell_type": "code",
   "execution_count": 8,
   "id": "a43e91b4",
   "metadata": {},
   "outputs": [
    {
     "data": {
      "text/html": [
       "<div>\n",
       "<style scoped>\n",
       "    .dataframe tbody tr th:only-of-type {\n",
       "        vertical-align: middle;\n",
       "    }\n",
       "\n",
       "    .dataframe tbody tr th {\n",
       "        vertical-align: top;\n",
       "    }\n",
       "\n",
       "    .dataframe thead th {\n",
       "        text-align: right;\n",
       "    }\n",
       "</style>\n",
       "<table border=\"1\" class=\"dataframe\">\n",
       "  <thead>\n",
       "    <tr style=\"text-align: right;\">\n",
       "      <th></th>\n",
       "      <th>Text</th>\n",
       "      <th>Word_Count</th>\n",
       "    </tr>\n",
       "  </thead>\n",
       "  <tbody>\n",
       "    <tr>\n",
       "      <th>0</th>\n",
       "      <td>abdul samad ms</td>\n",
       "      <td>3</td>\n",
       "    </tr>\n",
       "    <tr>\n",
       "      <th>1</th>\n",
       "      <td>mathilakath house</td>\n",
       "      <td>2</td>\n",
       "    </tr>\n",
       "    <tr>\n",
       "      <th>2</th>\n",
       "      <td>po. valapad</td>\n",
       "      <td>2</td>\n",
       "    </tr>\n",
       "  </tbody>\n",
       "</table>\n",
       "</div>"
      ],
      "text/plain": [
       "                Text  Word_Count\n",
       "0     abdul samad ms           3\n",
       "1  mathilakath house           2\n",
       "2        po. valapad           2"
      ]
     },
     "execution_count": 8,
     "metadata": {},
     "output_type": "execute_result"
    }
   ],
   "source": [
    "df=pd.DataFrame({'Text':['abdul samad ms','mathilakath house','po. valapad']})\n",
    "def add_col_wordcount(df):\n",
    "    df['Word_Count']=df['Text'].apply(lambda x: len(x.split()))\n",
    "add_col_wordcount(df)\n",
    "df"
   ]
  },
  {
   "cell_type": "markdown",
   "id": "b24ecebd",
   "metadata": {},
   "source": [
    "### Q5. How are DataFrame.size() and DataFrame.shape() different? \n",
    "DataFrame.size returns the total number of elements in a DataFrame (rows * columns).\n",
    "\n",
    "DataFrame.shape returns a tuple with the number of rows and columns in the DataFrame."
   ]
  },
  {
   "cell_type": "code",
   "execution_count": 14,
   "id": "1d6b1a9a",
   "metadata": {},
   "outputs": [
    {
     "name": "stdout",
     "output_type": "stream",
     "text": [
      "6\n",
      "(3, 2)\n"
     ]
    }
   ],
   "source": [
    "import pandas as pd\n",
    "\n",
    "data = {'A': [1, 2, 3], 'B': [4, 5, 6]}\n",
    "df = pd.DataFrame(data)\n",
    "\n",
    "print(df.size)\n",
    "print(df.shape)"
   ]
  },
  {
   "cell_type": "markdown",
   "id": "231fb14e",
   "metadata": {},
   "source": [
    "### Q6. Which function of pandas do we use to read an excel file? \n",
    "To read an Excel file in Pandas, use pd.read_excel('your_excel_file.xlsx'), replacing 'your_excel_file.xlsx' with the file path or URL of the Excel file."
   ]
  },
  {
   "cell_type": "code",
   "execution_count": 20,
   "id": "4c27480a",
   "metadata": {},
   "outputs": [],
   "source": [
    "df=pd.read_csv('titanic_dataset.csv')"
   ]
  },
  {
   "cell_type": "markdown",
   "id": "8ac08211",
   "metadata": {},
   "source": [
    "### Q7. You have a Pandas DataFrame df that contains a column named 'Email' that contains email  addresses in the format 'username@domain.com'. Write a Python function that creates a new column  'Username' in df that contains only the username part of each email address. The username is the part of the email address that appears before the '@' symbol. For example, if the  email address is 'john.doe@example.com', the 'Username' column should contain 'john.doe'. Your  function should extract the username from each email address and store it in the new 'Username'  column. \n"
   ]
  },
  {
   "cell_type": "code",
   "execution_count": 48,
   "id": "c4acc81f",
   "metadata": {},
   "outputs": [
    {
     "data": {
      "text/html": [
       "<div>\n",
       "<style scoped>\n",
       "    .dataframe tbody tr th:only-of-type {\n",
       "        vertical-align: middle;\n",
       "    }\n",
       "\n",
       "    .dataframe tbody tr th {\n",
       "        vertical-align: top;\n",
       "    }\n",
       "\n",
       "    .dataframe thead th {\n",
       "        text-align: right;\n",
       "    }\n",
       "</style>\n",
       "<table border=\"1\" class=\"dataframe\">\n",
       "  <thead>\n",
       "    <tr style=\"text-align: right;\">\n",
       "      <th></th>\n",
       "      <th>Email</th>\n",
       "      <th>user_name</th>\n",
       "    </tr>\n",
       "  </thead>\n",
       "  <tbody>\n",
       "    <tr>\n",
       "      <th>0</th>\n",
       "      <td>john.doe@gamil.com</td>\n",
       "      <td>john.doe</td>\n",
       "    </tr>\n",
       "    <tr>\n",
       "      <th>1</th>\n",
       "      <td>jane.smith@gmail.com</td>\n",
       "      <td>jane.smith</td>\n",
       "    </tr>\n",
       "    <tr>\n",
       "      <th>2</th>\n",
       "      <td>abdulsamad@gmail.com</td>\n",
       "      <td>abdulsamad</td>\n",
       "    </tr>\n",
       "  </tbody>\n",
       "</table>\n",
       "</div>"
      ],
      "text/plain": [
       "                  Email   user_name\n",
       "0    john.doe@gamil.com    john.doe\n",
       "1  jane.smith@gmail.com  jane.smith\n",
       "2  abdulsamad@gmail.com  abdulsamad"
      ]
     },
     "execution_count": 48,
     "metadata": {},
     "output_type": "execute_result"
    }
   ],
   "source": [
    "import pandas as pd\n",
    "\n",
    "data = {'Email': ['john.doe@gamil.com', 'jane.smith@gmail.com', 'abdulsamad@gmail.com']}\n",
    "df = pd.DataFrame(data)\n",
    "\n",
    "def extract_username(email):\n",
    "    return email.split('@')[0]\n",
    "\n",
    "df['user_name']=df['Email'].apply(extract_username)\n",
    "df"
   ]
  },
  {
   "cell_type": "markdown",
   "id": "390ff9ab",
   "metadata": {},
   "source": [
    "### Q8. You have a Pandas DataFrame df with columns 'A', 'B', and 'C'. Write a Python function that selects  all rows where the value in column 'A' is greater than 5 and the value in column 'B' is less than 10. The  function should return a new DataFrame that contains only the selected rows. \n",
    "For example, if df contains the following values: \n",
    "\n",
    "   A   B   C \n",
    "   \n",
    "0  3   5   1 \n",
    "\n",
    "1  8   2   7 \n",
    "\n",
    "2  6   9   4 \n",
    "\n",
    "3  2   3   5 \n",
    "\n",
    "4  9   1   2\n"
   ]
  },
  {
   "cell_type": "code",
   "execution_count": 55,
   "id": "0c529822",
   "metadata": {},
   "outputs": [
    {
     "name": "stdout",
     "output_type": "stream",
     "text": [
      "   A  B  C\n",
      "0  3  5  1\n",
      "1  8  2  7\n",
      "2  6  9  4\n",
      "3  2  3  5\n",
      "4  9  1  2\n",
      "\n",
      "   A  B  C\n",
      "1  8  2  7\n",
      "2  6  9  4\n",
      "4  9  1  2\n"
     ]
    }
   ],
   "source": [
    "# Sample DataFrame\n",
    "data = {'A': [3, 8, 6, 2, 9],\n",
    "        'B': [5, 2, 9, 3, 1],\n",
    "        'C': [1, 7, 4, 5, 2]}\n",
    "df = pd.DataFrame(data)\n",
    "\n",
    "\n",
    "def extract_specific(df):\n",
    "    filt=((df['A']>5) & (df['B']<10))\n",
    "    return df[filt]\n",
    "\n",
    "print(df)\n",
    "print()\n",
    "print(extract_specific(df))"
   ]
  },
  {
   "cell_type": "markdown",
   "id": "e2f549ff",
   "metadata": {},
   "source": [
    "### Q9. Given a Pandas DataFrame df with a column 'Values', write a Python function to calculate the mean,  median, and standard deviation of the values in the 'Values' column. "
   ]
  },
  {
   "cell_type": "code",
   "execution_count": 59,
   "id": "e5710f0c",
   "metadata": {},
   "outputs": [
    {
     "name": "stdout",
     "output_type": "stream",
     "text": [
      "Mean: 140.0\n",
      "Median: 40.0\n",
      "Standard Deviation: 278.3283432686414\n"
     ]
    }
   ],
   "source": [
    "import pandas as pd\n",
    "\n",
    "# Sample DataFrame\n",
    "data = {'Values': [10, 20, 30, 40, 50,60,770]}\n",
    "df = pd.DataFrame(data)\n",
    "\n",
    "def calculate_stats(df):\n",
    "    # Calculate mean, median, and standard deviation\n",
    "    mean_value = df['Values'].mean()\n",
    "    median_value = df['Values'].median()\n",
    "    std_deviation = df['Values'].std()\n",
    "    \n",
    "    return mean_value, median_value, std_deviation\n",
    "\n",
    "# Call the function to calculate statistics\n",
    "mean, median, std = calculate_stats(df)\n",
    "\n",
    "# Display the calculated statistics\n",
    "print(f\"Mean: {mean}\")\n",
    "print(f\"Median: {median}\")\n",
    "print(f\"Standard Deviation: {std}\")\n"
   ]
  },
  {
   "cell_type": "markdown",
   "id": "08904c1d",
   "metadata": {},
   "source": [
    "### Q11. You have a Pandas DataFrame df with a column 'Date'. Write a Python function that creates a new  column 'Weekday' in the DataFrame. The 'Weekday' column should contain the weekday name (e.g.  Monday, Tuesday) corresponding to each date in the 'Date' column. \n",
    "For example, if df contains the following values: \n",
    "\n",
    "         Date \n",
    "         \n",
    "0  2023-01-01 \n",
    "\n",
    "1  2023-01-02 \n",
    "\n",
    "2  2023-01-03 \n",
    "\n",
    "3  2023-01-04 \n",
    "\n",
    "4  2023-01-05 \n",
    "\n",
    "Your function should create the following DataFrame: \n",
    "\n",
    "         Date    Weekday \n",
    "         \n",
    "0  2023-01-01    Sunday \n",
    "\n",
    "1  2023-01-02     Monday \n",
    "\n",
    "2  2023-01-03    Tuesday \n",
    "\n",
    "3  2023-01-04    Wednesday \n",
    "\n",
    "4  2023-01-05    Thursday \n",
    "\n",
    "The function should return the modified DataFrame.\n"
   ]
  },
  {
   "cell_type": "code",
   "execution_count": 61,
   "id": "8d05c391",
   "metadata": {},
   "outputs": [
    {
     "name": "stdout",
     "output_type": "stream",
     "text": [
      "        Date    Weekday\n",
      "0 2023-01-01     Sunday\n",
      "1 2023-01-02     Monday\n",
      "2 2023-01-03    Tuesday\n",
      "3 2023-01-04  Wednesday\n",
      "4 2023-01-05   Thursday\n"
     ]
    }
   ],
   "source": [
    "import pandas as pd\n",
    "# Sample DataFrame\n",
    "data = {'Date': ['2023-01-01', '2023-01-02', '2023-01-03', '2023-01-04', '2023-01-05']}\n",
    "df = pd.DataFrame(data)\n",
    "\n",
    "def add_weekday_column(df):\n",
    "    # Convert the 'Date' column to datetime objects\n",
    "    df['Date'] = pd.to_datetime(df['Date'])\n",
    "    \n",
    "    # Extract the weekday names and store them in the 'Weekday' column\n",
    "    df['Weekday'] = df['Date'].dt.strftime('%A')\n",
    "    \n",
    "    return df\n",
    "\n",
    "# Call the function to add the 'Weekday' column\n",
    "df_with_weekday = add_weekday_column(df)\n",
    "\n",
    "# Display the modified DataFrame\n",
    "print(df_with_weekday)\n"
   ]
  },
  {
   "cell_type": "markdown",
   "id": "08a4ff48",
   "metadata": {},
   "source": [
    "### Q12. Given a Pandas DataFrame df with a column 'Date' that contains timestamps, write a Python  function to select all rows where the date is between '2023-01-01' and '2023-01-31'. "
   ]
  },
  {
   "cell_type": "code",
   "execution_count": 83,
   "id": "66e8f39b",
   "metadata": {},
   "outputs": [
    {
     "name": "stdout",
     "output_type": "stream",
     "text": [
      "        Date\n",
      "0 2023-01-01\n",
      "1 2023-01-15\n",
      "2 2023-01-31\n"
     ]
    }
   ],
   "source": [
    "import pandas as pd\n",
    "\n",
    "# Sample DataFrame with a 'Date' column containing timestamps\n",
    "data = {'Date': ['2023-01-01', '2023-01-15', '2023-01-31', '2023-02-10', '2023-03-05']}\n",
    "df = pd.DataFrame(data)\n",
    "\n",
    "def select_rows_in_date_range(df, start_date, end_date):\n",
    "    # Convert the 'Date' column to datetime objects\n",
    "    df['Date'] = pd.to_datetime(df['Date'])\n",
    "    \n",
    "    # Create a boolean mask for the date range\n",
    "    mask = (df['Date'] >= start_date) & (df['Date'] <= end_date)\n",
    "    \n",
    "    # Use the mask to select rows within the date range\n",
    "    selected_rows = df[mask]\n",
    "    \n",
    "    return selected_rows\n",
    "\n",
    "# Define the start and end dates for the range\n",
    "start_date = '2023-01-01'\n",
    "end_date = '2023-01-31'\n",
    "\n",
    "# Call the function to select rows within the date range\n",
    "selected_df = select_rows_in_date_range(df, start_date, end_date)\n",
    "\n",
    "# Display the selected DataFrame\n",
    "print(selected_df)\n"
   ]
  },
  {
   "cell_type": "markdown",
   "id": "1347c400",
   "metadata": {},
   "source": [
    "### Q13. To use the basic functions of pandas, what is the first and foremost necessary library that needs to  be imported?\n",
    "To use the basic functions of pandas in Python, you need to import the pandas library itself. You can do this using the import statement: \n",
    "\n",
    "import pandas as pd\n"
   ]
  }
 ],
 "metadata": {
  "kernelspec": {
   "display_name": "Python 3 (ipykernel)",
   "language": "python",
   "name": "python3"
  },
  "language_info": {
   "codemirror_mode": {
    "name": "ipython",
    "version": 3
   },
   "file_extension": ".py",
   "mimetype": "text/x-python",
   "name": "python",
   "nbconvert_exporter": "python",
   "pygments_lexer": "ipython3",
   "version": "3.11.3"
  }
 },
 "nbformat": 4,
 "nbformat_minor": 5
}
