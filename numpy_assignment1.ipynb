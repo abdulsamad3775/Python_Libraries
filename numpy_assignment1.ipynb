{
 "cells": [
  {
   "cell_type": "markdown",
   "id": "ab51b827-cb50-4bcd-901d-62f8861945a5",
   "metadata": {},
   "source": [
    "Numpy Basic Assignment"
   ]
  },
  {
   "cell_type": "code",
   "execution_count": 3,
   "id": "da6ff0f6-a64f-4a4e-9d84-ce9fc085fd22",
   "metadata": {},
   "outputs": [],
   "source": [
    "# Consider the below code to answer further questions: \n",
    "import numpy as np \n",
    "list_ = [ 1,2,3,4,5 ] \n",
    "array_list = np.array(object = list_) "
   ]
  },
  {
   "cell_type": "markdown",
   "id": "f019d760-366f-4435-be39-259fe4698960",
   "metadata": {},
   "source": [
    "Q1. Is there any difference in the data type of variables list_ and array_list? If there is then write a code  to print the data types of both the variables. \n",
    "ans: Yes, there is a difference in the data types of the variables list_ and array_list. list_ is a Python list, while array_list is a NumPy array."
   ]
  },
  {
   "cell_type": "code",
   "execution_count": 2,
   "id": "1426324d-9acc-41cd-a5a8-f557658616ae",
   "metadata": {},
   "outputs": [
    {
     "name": "stdout",
     "output_type": "stream",
     "text": [
      "Data type of list_: <class 'list'>\n",
      "Data type of array_list: <class 'numpy.ndarray'>\n"
     ]
    }
   ],
   "source": [
    "# Print the data types\n",
    "print(\"Data type of list_:\", type(list_))\n",
    "print(\"Data type of array_list:\", type(array_list))\n"
   ]
  },
  {
   "cell_type": "markdown",
   "id": "ef430970-fd7d-424d-a794-c13bafa9a63e",
   "metadata": {},
   "source": [
    "Q2. Write a code to print the data type of each and every element of both the variables list_ and  arra_list. "
   ]
  },
  {
   "cell_type": "code",
   "execution_count": 7,
   "id": "d1c2cc66-347f-4aa9-b535-e5234c4e8b2b",
   "metadata": {},
   "outputs": [
    {
     "name": "stdout",
     "output_type": "stream",
     "text": [
      "data type of list_ elements: <class 'int'>\n",
      "data type of list_ elements: <class 'int'>\n",
      "data type of list_ elements: <class 'int'>\n",
      "data type of list_ elements: <class 'int'>\n",
      "data type of list_ elements: <class 'int'>\n",
      "\n",
      "data type of list_ elements: <class 'numpy.int64'>\n",
      "data type of list_ elements: <class 'numpy.int64'>\n",
      "data type of list_ elements: <class 'numpy.int64'>\n",
      "data type of list_ elements: <class 'numpy.int64'>\n",
      "data type of list_ elements: <class 'numpy.int64'>\n",
      "data type of list_ elements: int64\n",
      "data type of list_ elements: int64\n",
      "data type of list_ elements: int64\n",
      "data type of list_ elements: int64\n",
      "data type of list_ elements: int64\n"
     ]
    }
   ],
   "source": [
    "for n in list_:\n",
    "    print(\"data type of list_ elements:\",type(n))\n",
    "print()\n",
    "\n",
    "for n in array_list:\n",
    "    print(\"data type of list_ elements:\",type(n))\n",
    "# or\n",
    "for n in array_list:\n",
    "    print(\"data type of list_ elements:\",n.dtype)\n"
   ]
  },
  {
   "cell_type": "markdown",
   "id": "6518461f-75a7-4c0a-aac1-445c4679cb6c",
   "metadata": {},
   "source": [
    "Q3. Considering the following changes in the variable, array_list: \n",
    "array_list = np.array(object = list_, dtype = int) \n",
    "Will there be any difference in the data type of the elements present in both the variables, list_ and  arra_list? If so then print the data types of each and every element present in both the variables, list_  and arra_list. \n"
   ]
  },
  {
   "cell_type": "code",
   "execution_count": 9,
   "id": "bf4cb9af-723c-409c-81ec-628774311b8a",
   "metadata": {},
   "outputs": [
    {
     "name": "stdout",
     "output_type": "stream",
     "text": [
      "Data types of elements in list_:\n",
      "<class 'int'>\n",
      "<class 'int'>\n",
      "<class 'int'>\n",
      "<class 'int'>\n",
      "<class 'int'>\n",
      "\n",
      "Data types of elements in array_list:\n",
      "<class 'numpy.int64'>\n",
      "<class 'numpy.int64'>\n",
      "<class 'numpy.int64'>\n",
      "<class 'numpy.int64'>\n",
      "<class 'numpy.int64'>\n"
     ]
    }
   ],
   "source": [
    "array_list = np.array(object=list_, dtype=int)\n",
    "\n",
    "print(\"Data types of elements in list_:\")\n",
    "for item in list_:\n",
    "    print(type(item))\n",
    "\n",
    "print(\"\\nData types of elements in array_list:\")\n",
    "for item in array_list:\n",
    "    print(type(item))\n"
   ]
  },
  {
   "cell_type": "markdown",
   "id": "fd2d6c6d-99d3-43e6-9e11-d6735da5c033",
   "metadata": {},
   "source": [
    "Q4. Write a code to find the following characteristics of variable, num_array: \n",
    "(i)  shape \n",
    "(ii) size "
   ]
  },
  {
   "cell_type": "code",
   "execution_count": 13,
   "id": "e88ab671-a4f8-4a01-8f6e-e62567ac4cdb",
   "metadata": {},
   "outputs": [
    {
     "name": "stdout",
     "output_type": "stream",
     "text": [
      "Shape of num_array: (2, 3)\n",
      "Size of num_array: 6\n"
     ]
    }
   ],
   "source": [
    "num_list = [ [ 1 , 2 , 3 ] , [ 4 , 5 , 6 ] ] \n",
    "num_array = np.array(object = num_list) \n",
    "# Find the shape of num_array\n",
    "shape = num_array.shape\n",
    "# Find the size of num_array\n",
    "size = num_array.size\n",
    "# Print the results\n",
    "print(\"Shape of num_array:\", shape)\n",
    "print(\"Size of num_array:\", size)"
   ]
  },
  {
   "cell_type": "markdown",
   "id": "f78b0f64-393d-4b3e-b0ed-2fc1ef5471c0",
   "metadata": {},
   "source": [
    "Q5. Write a code to create numpy array of 3*3 matrix containing zeros only, using a numpy array  creation function. \n"
   ]
  },
  {
   "cell_type": "code",
   "execution_count": 14,
   "id": "9fb8f8e8-4745-4785-878f-082539a6a654",
   "metadata": {},
   "outputs": [
    {
     "data": {
      "text/plain": [
       "array([[0., 0., 0.],\n",
       "       [0., 0., 0.],\n",
       "       [0., 0., 0.]])"
      ]
     },
     "execution_count": 14,
     "metadata": {},
     "output_type": "execute_result"
    }
   ],
   "source": [
    "np.zeros((3, 3))"
   ]
  },
  {
   "cell_type": "markdown",
   "id": "3160da63-7ad8-415c-9e85-89b7edff1727",
   "metadata": {},
   "source": [
    "Q6. Create an identity matrix of shape (5,5) using numpy functions? "
   ]
  },
  {
   "cell_type": "code",
   "execution_count": 15,
   "id": "630e551c-cb6e-4114-8e3e-26253547fe18",
   "metadata": {},
   "outputs": [
    {
     "data": {
      "text/plain": [
       "array([[1., 0., 0., 0., 0.],\n",
       "       [0., 1., 0., 0., 0.],\n",
       "       [0., 0., 1., 0., 0.],\n",
       "       [0., 0., 0., 1., 0.],\n",
       "       [0., 0., 0., 0., 1.]])"
      ]
     },
     "execution_count": 15,
     "metadata": {},
     "output_type": "execute_result"
    }
   ],
   "source": [
    "np.eye(5)"
   ]
  },
  {
   "cell_type": "code",
   "execution_count": null,
   "id": "36a30930-c4db-4ab5-8f82-90a6ef5752a4",
   "metadata": {},
   "outputs": [],
   "source": []
  }
 ],
 "metadata": {
  "kernelspec": {
   "display_name": "Python 3 (ipykernel)",
   "language": "python",
   "name": "python3"
  },
  "language_info": {
   "codemirror_mode": {
    "name": "ipython",
    "version": 3
   },
   "file_extension": ".py",
   "mimetype": "text/x-python",
   "name": "python",
   "nbconvert_exporter": "python",
   "pygments_lexer": "ipython3",
   "version": "3.10.8"
  }
 },
 "nbformat": 4,
 "nbformat_minor": 5
}
