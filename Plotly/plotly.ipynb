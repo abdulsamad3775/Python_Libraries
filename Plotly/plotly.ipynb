{
 "cells": [
  {
   "cell_type": "code",
   "execution_count": 1,
   "id": "5ab38c0f",
   "metadata": {},
   "outputs": [],
   "source": [
    "import numpy as np\n",
    "import pandas as pd\n",
    "import matplotlib.pyplot as plt\n",
    "%matplotlib inline"
   ]
  },
  {
   "cell_type": "markdown",
   "id": "449c2a87",
   "metadata": {},
   "source": [
    "# Plotly\n",
    "Plotly's Python graphing library makes interactive, publication-quality graphs online"
   ]
  },
  {
   "cell_type": "code",
   "execution_count": 2,
   "id": "ae94c080",
   "metadata": {},
   "outputs": [],
   "source": [
    "#https://plotly.com/python/plotly-fundamentals/"
   ]
  },
  {
   "cell_type": "markdown",
   "id": "db2f53ad",
   "metadata": {},
   "source": [
    "## Installation\n",
    "plotly may be installed using pip:\n",
    "\n",
    "$ pip install plotly==4.14.3 or conda:\n",
    "\n",
    "$ conda install -c plotly plotly=4.14.3"
   ]
  },
  {
   "cell_type": "code",
   "execution_count": 40,
   "id": "eb6e89ca",
   "metadata": {},
   "outputs": [],
   "source": [
    "# !pip install plotly\n",
    "# !pip install cufflinks"
   ]
  },
  {
   "cell_type": "markdown",
   "id": "a48e94cc",
   "metadata": {},
   "source": [
    "## Comparison\n",
    "One of the main advantages is that only a few lines of codes are necessary to create aesthetically pleasing, interactive plots. The interactivity also offers a number of advantages over static matplotlib plots:\n",
    "\n",
    "Saves time when initially exploring your dataset Makes it easy to modify and export your plot Offers a more ornate visualization, which is well-suited for conveying the important insights hidden within your dataset."
   ]
  },
  {
   "cell_type": "code",
   "execution_count": 7,
   "id": "801b1257",
   "metadata": {},
   "outputs": [],
   "source": [
    "from plotly.offline import iplot\n",
    "import plotly as py"
   ]
  },
  {
   "cell_type": "code",
   "execution_count": 12,
   "id": "1b3dc38b",
   "metadata": {},
   "outputs": [
    {
     "name": "stderr",
     "output_type": "stream",
     "text": [
      "C:\\Program Files\\Anaconda\\Lib\\site-packages\\paramiko\\transport.py:219: CryptographyDeprecationWarning:\n",
      "\n",
      "Blowfish has been deprecated\n",
      "\n"
     ]
    }
   ],
   "source": [
    "# Cufflinks is another library that connects the Pandas data frame with Plotly enabling users to create visualizations directly from Pandas\n",
    "import cufflinks as cf"
   ]
  },
  {
   "cell_type": "code",
   "execution_count": 13,
   "id": "475cd413",
   "metadata": {},
   "outputs": [
    {
     "data": {
      "text/html": [
       "        <script type=\"text/javascript\">\n",
       "        window.PlotlyConfig = {MathJaxConfig: 'local'};\n",
       "        if (window.MathJax && window.MathJax.Hub && window.MathJax.Hub.Config) {window.MathJax.Hub.Config({SVG: {font: \"STIX-Web\"}});}\n",
       "        if (typeof require !== 'undefined') {\n",
       "        require.undef(\"plotly\");\n",
       "        requirejs.config({\n",
       "            paths: {\n",
       "                'plotly': ['https://cdn.plot.ly/plotly-2.12.1.min']\n",
       "            }\n",
       "        });\n",
       "        require(['plotly'], function(Plotly) {\n",
       "            window._Plotly = Plotly;\n",
       "        });\n",
       "        }\n",
       "        </script>\n",
       "        "
      ]
     },
     "metadata": {},
     "output_type": "display_data"
    }
   ],
   "source": [
    "# In order to display the plot inside the notebook, you need to initiate plotly’s notebook mode\n",
    "py.offline.init_notebook_mode(connected=True)"
   ]
  },
  {
   "cell_type": "code",
   "execution_count": 14,
   "id": "7ccea407",
   "metadata": {},
   "outputs": [
    {
     "data": {
      "text/html": [
       "        <script type=\"text/javascript\">\n",
       "        window.PlotlyConfig = {MathJaxConfig: 'local'};\n",
       "        if (window.MathJax && window.MathJax.Hub && window.MathJax.Hub.Config) {window.MathJax.Hub.Config({SVG: {font: \"STIX-Web\"}});}\n",
       "        if (typeof require !== 'undefined') {\n",
       "        require.undef(\"plotly\");\n",
       "        requirejs.config({\n",
       "            paths: {\n",
       "                'plotly': ['https://cdn.plot.ly/plotly-2.12.1.min']\n",
       "            }\n",
       "        });\n",
       "        require(['plotly'], function(Plotly) {\n",
       "            window._Plotly = Plotly;\n",
       "        });\n",
       "        }\n",
       "        </script>\n",
       "        "
      ]
     },
     "metadata": {},
     "output_type": "display_data"
    }
   ],
   "source": [
    "# In order to display the plot inside the notebook, you need to initiate plotly’s notebook mode\n",
    "cf.go_offline()"
   ]
  },
  {
   "cell_type": "code",
   "execution_count": 16,
   "id": "a45f63e6",
   "metadata": {},
   "outputs": [
    {
     "data": {
      "text/html": [
       "<div>\n",
       "<style scoped>\n",
       "    .dataframe tbody tr th:only-of-type {\n",
       "        vertical-align: middle;\n",
       "    }\n",
       "\n",
       "    .dataframe tbody tr th {\n",
       "        vertical-align: top;\n",
       "    }\n",
       "\n",
       "    .dataframe thead th {\n",
       "        text-align: right;\n",
       "    }\n",
       "</style>\n",
       "<table border=\"1\" class=\"dataframe\">\n",
       "  <thead>\n",
       "    <tr style=\"text-align: right;\">\n",
       "      <th></th>\n",
       "      <th>A</th>\n",
       "      <th>B</th>\n",
       "      <th>C</th>\n",
       "    </tr>\n",
       "  </thead>\n",
       "  <tbody>\n",
       "    <tr>\n",
       "      <th>0</th>\n",
       "      <td>1.201177</td>\n",
       "      <td>0.627628</td>\n",
       "      <td>0.534987</td>\n",
       "    </tr>\n",
       "    <tr>\n",
       "      <th>1</th>\n",
       "      <td>0.809183</td>\n",
       "      <td>-1.239697</td>\n",
       "      <td>-0.458690</td>\n",
       "    </tr>\n",
       "    <tr>\n",
       "      <th>2</th>\n",
       "      <td>-0.122300</td>\n",
       "      <td>-0.382783</td>\n",
       "      <td>0.790702</td>\n",
       "    </tr>\n",
       "    <tr>\n",
       "      <th>3</th>\n",
       "      <td>-0.927709</td>\n",
       "      <td>-0.444837</td>\n",
       "      <td>-1.300102</td>\n",
       "    </tr>\n",
       "    <tr>\n",
       "      <th>4</th>\n",
       "      <td>-2.214964</td>\n",
       "      <td>-0.326468</td>\n",
       "      <td>1.398524</td>\n",
       "    </tr>\n",
       "  </tbody>\n",
       "</table>\n",
       "</div>"
      ],
      "text/plain": [
       "          A         B         C\n",
       "0  1.201177  0.627628  0.534987\n",
       "1  0.809183 -1.239697 -0.458690\n",
       "2 -0.122300 -0.382783  0.790702\n",
       "3 -0.927709 -0.444837 -1.300102\n",
       "4 -2.214964 -0.326468  1.398524"
      ]
     },
     "execution_count": 16,
     "metadata": {},
     "output_type": "execute_result"
    }
   ],
   "source": [
    "df = pd.DataFrame(np.random.randn(100, 3), columns=['A', 'B', 'C'])\n",
    "df.head()"
   ]
  },
  {
   "cell_type": "code",
   "execution_count": 19,
   "id": "3ba70007",
   "metadata": {},
   "outputs": [],
   "source": [
    "df = df.cumsum()"
   ]
  },
  {
   "cell_type": "code",
   "execution_count": 21,
   "id": "fb80392b",
   "metadata": {},
   "outputs": [
    {
     "data": {
      "text/plain": [
       "(100, 3)"
      ]
     },
     "execution_count": 21,
     "metadata": {},
     "output_type": "execute_result"
    }
   ],
   "source": [
    "df.shape"
   ]
  },
  {
   "cell_type": "code",
   "execution_count": 23,
   "id": "98a5e72a",
   "metadata": {},
   "outputs": [
    {
     "data": {
      "application/vnd.plotly.v1+json": {
       "config": {
        "linkText": "Export to plot.ly",
        "plotlyServerURL": "https://plot.ly",
        "showLink": true
       },
       "data": [
        {
         "line": {
          "color": "rgba(255, 153, 51, 1.0)",
          "dash": "solid",
          "shape": "linear",
          "width": 1.3
         },
         "mode": "lines",
         "name": "A",
         "text": "",
         "type": "scatter",
         "x": [
          0,
          1,
          2,
          3,
          4,
          5,
          6,
          7,
          8,
          9,
          10,
          11,
          12,
          13,
          14,
          15,
          16,
          17,
          18,
          19,
          20,
          21,
          22,
          23,
          24,
          25,
          26,
          27,
          28,
          29,
          30,
          31,
          32,
          33,
          34,
          35,
          36,
          37,
          38,
          39,
          40,
          41,
          42,
          43,
          44,
          45,
          46,
          47,
          48,
          49,
          50,
          51,
          52,
          53,
          54,
          55,
          56,
          57,
          58,
          59,
          60,
          61,
          62,
          63,
          64,
          65,
          66,
          67,
          68,
          69,
          70,
          71,
          72,
          73,
          74,
          75,
          76,
          77,
          78,
          79,
          80,
          81,
          82,
          83,
          84,
          85,
          86,
          87,
          88,
          89,
          90,
          91,
          92,
          93,
          94,
          95,
          96,
          97,
          98,
          99
         ],
         "y": [
          1.2011770764175393,
          4.41271447742346,
          9.512312024132667,
          15.572260439872618,
          20.37759530218809,
          24.772379800892026,
          29.014334555166954,
          34.715517866634244,
          41.89971070324318,
          52.75071320488135,
          66.8159478994062,
          82.4087346611642,
          99.0248623102894,
          115.82682839505355,
          133.172728792206,
          150.71429687634787,
          168.1377636736314,
          186.9249253604786,
          208.1099484134743,
          232.24184338762552,
          258.4003304186169,
          287.7334930571479,
          319.6892915550542,
          354.1864575252967,
          391.5542580403122,
          431.9740828518308,
          475.77763365964887,
          524.4145909501407,
          577.2617086740322,
          633.6937598883898,
          693.9628926901304,
          757.6672579417794,
          825.1808025127283,
          896.4389616677894,
          971.6182972948069,
          1051.4255135182643,
          1136.323497667834,
          1226.991315313331,
          1323.2922188216153,
          1423.9805474765562,
          1528.8220363543544,
          1638.4292484119585,
          1753.5105267623562,
          1874.3765413747765,
          2002.027944760073,
          2135.4435918091067,
          2274.229831896885,
          2418.27439730924,
          2568.9073328405207,
          2725.593153539166,
          2889.21986424827,
          3058.6362950546995,
          3233.7282448052492,
          3415.118777966568,
          3602.6328524282503,
          3798.426876744889,
          4001.9646944730293,
          4213.103849736518,
          4432.0130273260975,
          4656.784796569372,
          4886.214966168782,
          5118.26609835616,
          5352.736980196992,
          5589.356841147192,
          5829.03009806599,
          6071.930956557698,
          6319.667564588878,
          6573.502643711347,
          6834.990924297694,
          7104.547837641887,
          7381.996440866641,
          7666.041954411482,
          7957.829451508876,
          8257.282359328523,
          8562.856393476095,
          8874.529724162929,
          9190.985288890235,
          9512.747712106882,
          9840.764688544663,
          10173.803797357377,
          10512.811896891657,
          10858.429257514308,
          11209.902364517557,
          11565.881047861916,
          11927.75681065589,
          12294.87318641079,
          12669.469643313772,
          13051.003955222815,
          13437.818923252651,
          13828.725994792647,
          14224.012037540344,
          14623.28486309213,
          15025.822959884654,
          15431.685603063548,
          15841.935683272899,
          16255.278946450622,
          16670.05598679232,
          17085.851398283346,
          17501.02697477791,
          17916.31312009843
         ]
        },
        {
         "line": {
          "color": "rgba(55, 128, 191, 1.0)",
          "dash": "solid",
          "shape": "linear",
          "width": 1.3
         },
         "mode": "lines",
         "name": "B",
         "text": "",
         "type": "scatter",
         "x": [
          0,
          1,
          2,
          3,
          4,
          5,
          6,
          7,
          8,
          9,
          10,
          11,
          12,
          13,
          14,
          15,
          16,
          17,
          18,
          19,
          20,
          21,
          22,
          23,
          24,
          25,
          26,
          27,
          28,
          29,
          30,
          31,
          32,
          33,
          34,
          35,
          36,
          37,
          38,
          39,
          40,
          41,
          42,
          43,
          44,
          45,
          46,
          47,
          48,
          49,
          50,
          51,
          52,
          53,
          54,
          55,
          56,
          57,
          58,
          59,
          60,
          61,
          62,
          63,
          64,
          65,
          66,
          67,
          68,
          69,
          70,
          71,
          72,
          73,
          74,
          75,
          76,
          77,
          78,
          79,
          80,
          81,
          82,
          83,
          84,
          85,
          86,
          87,
          88,
          89,
          90,
          91,
          92,
          93,
          94,
          95,
          96,
          97,
          98,
          99
         ],
         "y": [
          0.6276277659125329,
          0.6431866670966653,
          -0.3361067147157304,
          -2.75508911708918,
          -6.940228154795096,
          -12.959082236799912,
          -20.47091559089519,
          -31.348817626633497,
          -46.085351309033626,
          -62.97265531175384,
          -82.16613012871865,
          -102.91959598539347,
          -125.07153671178767,
          -148.56920402567025,
          -173.03153101336534,
          -199.3728111324102,
          -227.68012982649452,
          -257.2121591045985,
          -288.1339284626461,
          -320.4439181455277,
          -354.6144511958809,
          -389.94632799402,
          -426.51274319077345,
          -465.44512749923956,
          -505.7167334724851,
          -546.9758992552654,
          -589.7239837644805,
          -633.5336821603908,
          -677.9944467621705,
          -722.5879570858474,
          -768.6113848463532,
          -814.956547661377,
          -860.7904271443766,
          -905.021345957151,
          -947.7291788580013,
          -987.4357648037748,
          -1022.9756775606678,
          -1053.6150251305091,
          -1079.6574126827134,
          -1100.6656587532675,
          -1118.1854155173821,
          -1131.9188318105655,
          -1142.1498283194217,
          -1150.2652845130972,
          -1156.3841310779164,
          -1159.8328153005111,
          -1160.144676060033,
          -1155.5480642679813,
          -1145.3426167793166,
          -1130.1356273400233,
          -1109.4687487838187,
          -1082.0882680036855,
          -1045.9977055091615,
          -1002.7960643876343,
          -950.6111062842301,
          -889.1126509857414,
          -817.1678655477043,
          -734.7463866824284,
          -642.5224701714515,
          -541.3097581487989,
          -430.21810526200613,
          -309.0321420450349,
          -178.35597843285692,
          -37.83558732845603,
          111.45623215562821,
          268.34522637926614,
          431.46553009694685,
          602.0388199422246,
          779.9608684425469,
          967.0261941483624,
          1164.3823273792275,
          1372.0200401457994,
          1589.3555961645197,
          1815.8283783052323,
          2050.6589207187367,
          2293.410886122764,
          2543.870993378913,
          2801.5238360716926,
          3067.962869373556,
          3343.587006130028,
          3628.9091636363783,
          3924.846658844929,
          4232.15550910688,
          4549.202476151565,
          4875.124122216899,
          5211.990517080619,
          5558.927249554793,
          5915.317449934851,
          6280.431206600094,
          6654.576048975112,
          7038.567706846171,
          7432.649740882929,
          7836.25328999249,
          8251.726220913539,
          8678.272174692202,
          9117.260193287611,
          9569.199306113102,
          10035.39606944763,
          10515.93191250344,
          11010.055514858559
         ]
        },
        {
         "line": {
          "color": "rgba(50, 171, 96, 1.0)",
          "dash": "solid",
          "shape": "linear",
          "width": 1.3
         },
         "mode": "lines",
         "name": "C",
         "text": "",
         "type": "scatter",
         "x": [
          0,
          1,
          2,
          3,
          4,
          5,
          6,
          7,
          8,
          9,
          10,
          11,
          12,
          13,
          14,
          15,
          16,
          17,
          18,
          19,
          20,
          21,
          22,
          23,
          24,
          25,
          26,
          27,
          28,
          29,
          30,
          31,
          32,
          33,
          34,
          35,
          36,
          37,
          38,
          39,
          40,
          41,
          42,
          43,
          44,
          45,
          46,
          47,
          48,
          49,
          50,
          51,
          52,
          53,
          54,
          55,
          56,
          57,
          58,
          59,
          60,
          61,
          62,
          63,
          64,
          65,
          66,
          67,
          68,
          69,
          70,
          71,
          72,
          73,
          74,
          75,
          76,
          77,
          78,
          79,
          80,
          81,
          82,
          83,
          84,
          85,
          86,
          87,
          88,
          89,
          90,
          91,
          92,
          93,
          94,
          95,
          96,
          97,
          98,
          99
         ],
         "y": [
          0.5349870806538379,
          1.1462716857378334,
          2.6245560042430225,
          3.6697376650186366,
          5.680340664212876,
          7.052376858057731,
          7.365637957861927,
          7.240090217119429,
          5.308192557489496,
          2.100622142056693,
          -2.6021981222672927,
          -9.44802010598626,
          -18.955289549379366,
          -29.417094934209942,
          -40.96729450714767,
          -53.502954861388254,
          -67.89540046873066,
          -86.6698733641632,
          -111.5520016062003,
          -139.84143346062626,
          -172.13726600797818,
          -210.08170272486805,
          -253.12238782411563,
          -299.0810294914378,
          -350.118651759784,
          -407.28218327407933,
          -470.80047694897,
          -540.9355898796309,
          -617.1281264673502,
          -699.7128648873804,
          -790.6046992703946,
          -888.9901622521421,
          -994.5129254378144,
          -1109.157491248192,
          -1231.484668458213,
          -1360.9435428098602,
          -1495.5330302703562,
          -1635.188223923193,
          -1779.0044864516017,
          -1929.475166043564,
          -2085.50993857592,
          -2244.4026103557107,
          -2407.06611136583,
          -2570.87184097781,
          -2735.937006789521,
          -2902.765940904719,
          -3072.053862856275,
          -3242.097815494343,
          -3411.5584435903343,
          -3578.4188389407022,
          -3742.9085649751287,
          -3906.605225752303,
          -4068.261094685875,
          -4227.877334702038,
          -4386.846920703218,
          -4545.6087009609455,
          -4705.240592137499,
          -4864.661994193907,
          -5023.6244568380625,
          -5182.00687204275,
          -5338.948271317355,
          -5495.620742900226,
          -5653.426819444314,
          -5811.844763490173,
          -5972.845918116022,
          -6135.528365720558,
          -6300.012613591025,
          -6465.304770119482,
          -6631.26264829671,
          -6796.998241950629,
          -6964.406993628973,
          -7133.468300373127,
          -7304.242574728015,
          -7479.613276071517,
          -7659.952310738288,
          -7845.6383493024805,
          -8037.292090507112,
          -8236.199883668796,
          -8442.694851438058,
          -8656.517683577043,
          -8876.959058133552,
          -9102.145592139488,
          -9332.383603737982,
          -9567.01596177196,
          -9807.1765110558,
          -10053.16984814591,
          -10304.795937141527,
          -10562.69028991868,
          -10828.257890207055,
          -11101.160875186737,
          -11382.10409306736,
          -11670.406254678126,
          -11966.778620494777,
          -12268.976662681462,
          -12576.798763309973,
          -12890.972296757316,
          -13212.241690405934,
          -13540.157654816447,
          -13874.282909417514,
          -14215.753133893699
         ]
        }
       ],
       "layout": {
        "legend": {
         "bgcolor": "#F5F6F9",
         "font": {
          "color": "#4D5663"
         }
        },
        "paper_bgcolor": "#F5F6F9",
        "plot_bgcolor": "#F5F6F9",
        "template": {
         "data": {
          "bar": [
           {
            "error_x": {
             "color": "#2a3f5f"
            },
            "error_y": {
             "color": "#2a3f5f"
            },
            "marker": {
             "line": {
              "color": "#E5ECF6",
              "width": 0.5
             },
             "pattern": {
              "fillmode": "overlay",
              "size": 10,
              "solidity": 0.2
             }
            },
            "type": "bar"
           }
          ],
          "barpolar": [
           {
            "marker": {
             "line": {
              "color": "#E5ECF6",
              "width": 0.5
             },
             "pattern": {
              "fillmode": "overlay",
              "size": 10,
              "solidity": 0.2
             }
            },
            "type": "barpolar"
           }
          ],
          "carpet": [
           {
            "aaxis": {
             "endlinecolor": "#2a3f5f",
             "gridcolor": "white",
             "linecolor": "white",
             "minorgridcolor": "white",
             "startlinecolor": "#2a3f5f"
            },
            "baxis": {
             "endlinecolor": "#2a3f5f",
             "gridcolor": "white",
             "linecolor": "white",
             "minorgridcolor": "white",
             "startlinecolor": "#2a3f5f"
            },
            "type": "carpet"
           }
          ],
          "choropleth": [
           {
            "colorbar": {
             "outlinewidth": 0,
             "ticks": ""
            },
            "type": "choropleth"
           }
          ],
          "contour": [
           {
            "colorbar": {
             "outlinewidth": 0,
             "ticks": ""
            },
            "colorscale": [
             [
              0,
              "#0d0887"
             ],
             [
              0.1111111111111111,
              "#46039f"
             ],
             [
              0.2222222222222222,
              "#7201a8"
             ],
             [
              0.3333333333333333,
              "#9c179e"
             ],
             [
              0.4444444444444444,
              "#bd3786"
             ],
             [
              0.5555555555555556,
              "#d8576b"
             ],
             [
              0.6666666666666666,
              "#ed7953"
             ],
             [
              0.7777777777777778,
              "#fb9f3a"
             ],
             [
              0.8888888888888888,
              "#fdca26"
             ],
             [
              1,
              "#f0f921"
             ]
            ],
            "type": "contour"
           }
          ],
          "contourcarpet": [
           {
            "colorbar": {
             "outlinewidth": 0,
             "ticks": ""
            },
            "type": "contourcarpet"
           }
          ],
          "heatmap": [
           {
            "colorbar": {
             "outlinewidth": 0,
             "ticks": ""
            },
            "colorscale": [
             [
              0,
              "#0d0887"
             ],
             [
              0.1111111111111111,
              "#46039f"
             ],
             [
              0.2222222222222222,
              "#7201a8"
             ],
             [
              0.3333333333333333,
              "#9c179e"
             ],
             [
              0.4444444444444444,
              "#bd3786"
             ],
             [
              0.5555555555555556,
              "#d8576b"
             ],
             [
              0.6666666666666666,
              "#ed7953"
             ],
             [
              0.7777777777777778,
              "#fb9f3a"
             ],
             [
              0.8888888888888888,
              "#fdca26"
             ],
             [
              1,
              "#f0f921"
             ]
            ],
            "type": "heatmap"
           }
          ],
          "heatmapgl": [
           {
            "colorbar": {
             "outlinewidth": 0,
             "ticks": ""
            },
            "colorscale": [
             [
              0,
              "#0d0887"
             ],
             [
              0.1111111111111111,
              "#46039f"
             ],
             [
              0.2222222222222222,
              "#7201a8"
             ],
             [
              0.3333333333333333,
              "#9c179e"
             ],
             [
              0.4444444444444444,
              "#bd3786"
             ],
             [
              0.5555555555555556,
              "#d8576b"
             ],
             [
              0.6666666666666666,
              "#ed7953"
             ],
             [
              0.7777777777777778,
              "#fb9f3a"
             ],
             [
              0.8888888888888888,
              "#fdca26"
             ],
             [
              1,
              "#f0f921"
             ]
            ],
            "type": "heatmapgl"
           }
          ],
          "histogram": [
           {
            "marker": {
             "pattern": {
              "fillmode": "overlay",
              "size": 10,
              "solidity": 0.2
             }
            },
            "type": "histogram"
           }
          ],
          "histogram2d": [
           {
            "colorbar": {
             "outlinewidth": 0,
             "ticks": ""
            },
            "colorscale": [
             [
              0,
              "#0d0887"
             ],
             [
              0.1111111111111111,
              "#46039f"
             ],
             [
              0.2222222222222222,
              "#7201a8"
             ],
             [
              0.3333333333333333,
              "#9c179e"
             ],
             [
              0.4444444444444444,
              "#bd3786"
             ],
             [
              0.5555555555555556,
              "#d8576b"
             ],
             [
              0.6666666666666666,
              "#ed7953"
             ],
             [
              0.7777777777777778,
              "#fb9f3a"
             ],
             [
              0.8888888888888888,
              "#fdca26"
             ],
             [
              1,
              "#f0f921"
             ]
            ],
            "type": "histogram2d"
           }
          ],
          "histogram2dcontour": [
           {
            "colorbar": {
             "outlinewidth": 0,
             "ticks": ""
            },
            "colorscale": [
             [
              0,
              "#0d0887"
             ],
             [
              0.1111111111111111,
              "#46039f"
             ],
             [
              0.2222222222222222,
              "#7201a8"
             ],
             [
              0.3333333333333333,
              "#9c179e"
             ],
             [
              0.4444444444444444,
              "#bd3786"
             ],
             [
              0.5555555555555556,
              "#d8576b"
             ],
             [
              0.6666666666666666,
              "#ed7953"
             ],
             [
              0.7777777777777778,
              "#fb9f3a"
             ],
             [
              0.8888888888888888,
              "#fdca26"
             ],
             [
              1,
              "#f0f921"
             ]
            ],
            "type": "histogram2dcontour"
           }
          ],
          "mesh3d": [
           {
            "colorbar": {
             "outlinewidth": 0,
             "ticks": ""
            },
            "type": "mesh3d"
           }
          ],
          "parcoords": [
           {
            "line": {
             "colorbar": {
              "outlinewidth": 0,
              "ticks": ""
             }
            },
            "type": "parcoords"
           }
          ],
          "pie": [
           {
            "automargin": true,
            "type": "pie"
           }
          ],
          "scatter": [
           {
            "fillpattern": {
             "fillmode": "overlay",
             "size": 10,
             "solidity": 0.2
            },
            "type": "scatter"
           }
          ],
          "scatter3d": [
           {
            "line": {
             "colorbar": {
              "outlinewidth": 0,
              "ticks": ""
             }
            },
            "marker": {
             "colorbar": {
              "outlinewidth": 0,
              "ticks": ""
             }
            },
            "type": "scatter3d"
           }
          ],
          "scattercarpet": [
           {
            "marker": {
             "colorbar": {
              "outlinewidth": 0,
              "ticks": ""
             }
            },
            "type": "scattercarpet"
           }
          ],
          "scattergeo": [
           {
            "marker": {
             "colorbar": {
              "outlinewidth": 0,
              "ticks": ""
             }
            },
            "type": "scattergeo"
           }
          ],
          "scattergl": [
           {
            "marker": {
             "colorbar": {
              "outlinewidth": 0,
              "ticks": ""
             }
            },
            "type": "scattergl"
           }
          ],
          "scattermapbox": [
           {
            "marker": {
             "colorbar": {
              "outlinewidth": 0,
              "ticks": ""
             }
            },
            "type": "scattermapbox"
           }
          ],
          "scatterpolar": [
           {
            "marker": {
             "colorbar": {
              "outlinewidth": 0,
              "ticks": ""
             }
            },
            "type": "scatterpolar"
           }
          ],
          "scatterpolargl": [
           {
            "marker": {
             "colorbar": {
              "outlinewidth": 0,
              "ticks": ""
             }
            },
            "type": "scatterpolargl"
           }
          ],
          "scatterternary": [
           {
            "marker": {
             "colorbar": {
              "outlinewidth": 0,
              "ticks": ""
             }
            },
            "type": "scatterternary"
           }
          ],
          "surface": [
           {
            "colorbar": {
             "outlinewidth": 0,
             "ticks": ""
            },
            "colorscale": [
             [
              0,
              "#0d0887"
             ],
             [
              0.1111111111111111,
              "#46039f"
             ],
             [
              0.2222222222222222,
              "#7201a8"
             ],
             [
              0.3333333333333333,
              "#9c179e"
             ],
             [
              0.4444444444444444,
              "#bd3786"
             ],
             [
              0.5555555555555556,
              "#d8576b"
             ],
             [
              0.6666666666666666,
              "#ed7953"
             ],
             [
              0.7777777777777778,
              "#fb9f3a"
             ],
             [
              0.8888888888888888,
              "#fdca26"
             ],
             [
              1,
              "#f0f921"
             ]
            ],
            "type": "surface"
           }
          ],
          "table": [
           {
            "cells": {
             "fill": {
              "color": "#EBF0F8"
             },
             "line": {
              "color": "white"
             }
            },
            "header": {
             "fill": {
              "color": "#C8D4E3"
             },
             "line": {
              "color": "white"
             }
            },
            "type": "table"
           }
          ]
         },
         "layout": {
          "annotationdefaults": {
           "arrowcolor": "#2a3f5f",
           "arrowhead": 0,
           "arrowwidth": 1
          },
          "autotypenumbers": "strict",
          "coloraxis": {
           "colorbar": {
            "outlinewidth": 0,
            "ticks": ""
           }
          },
          "colorscale": {
           "diverging": [
            [
             0,
             "#8e0152"
            ],
            [
             0.1,
             "#c51b7d"
            ],
            [
             0.2,
             "#de77ae"
            ],
            [
             0.3,
             "#f1b6da"
            ],
            [
             0.4,
             "#fde0ef"
            ],
            [
             0.5,
             "#f7f7f7"
            ],
            [
             0.6,
             "#e6f5d0"
            ],
            [
             0.7,
             "#b8e186"
            ],
            [
             0.8,
             "#7fbc41"
            ],
            [
             0.9,
             "#4d9221"
            ],
            [
             1,
             "#276419"
            ]
           ],
           "sequential": [
            [
             0,
             "#0d0887"
            ],
            [
             0.1111111111111111,
             "#46039f"
            ],
            [
             0.2222222222222222,
             "#7201a8"
            ],
            [
             0.3333333333333333,
             "#9c179e"
            ],
            [
             0.4444444444444444,
             "#bd3786"
            ],
            [
             0.5555555555555556,
             "#d8576b"
            ],
            [
             0.6666666666666666,
             "#ed7953"
            ],
            [
             0.7777777777777778,
             "#fb9f3a"
            ],
            [
             0.8888888888888888,
             "#fdca26"
            ],
            [
             1,
             "#f0f921"
            ]
           ],
           "sequentialminus": [
            [
             0,
             "#0d0887"
            ],
            [
             0.1111111111111111,
             "#46039f"
            ],
            [
             0.2222222222222222,
             "#7201a8"
            ],
            [
             0.3333333333333333,
             "#9c179e"
            ],
            [
             0.4444444444444444,
             "#bd3786"
            ],
            [
             0.5555555555555556,
             "#d8576b"
            ],
            [
             0.6666666666666666,
             "#ed7953"
            ],
            [
             0.7777777777777778,
             "#fb9f3a"
            ],
            [
             0.8888888888888888,
             "#fdca26"
            ],
            [
             1,
             "#f0f921"
            ]
           ]
          },
          "colorway": [
           "#636efa",
           "#EF553B",
           "#00cc96",
           "#ab63fa",
           "#FFA15A",
           "#19d3f3",
           "#FF6692",
           "#B6E880",
           "#FF97FF",
           "#FECB52"
          ],
          "font": {
           "color": "#2a3f5f"
          },
          "geo": {
           "bgcolor": "white",
           "lakecolor": "white",
           "landcolor": "#E5ECF6",
           "showlakes": true,
           "showland": true,
           "subunitcolor": "white"
          },
          "hoverlabel": {
           "align": "left"
          },
          "hovermode": "closest",
          "mapbox": {
           "style": "light"
          },
          "paper_bgcolor": "white",
          "plot_bgcolor": "#E5ECF6",
          "polar": {
           "angularaxis": {
            "gridcolor": "white",
            "linecolor": "white",
            "ticks": ""
           },
           "bgcolor": "#E5ECF6",
           "radialaxis": {
            "gridcolor": "white",
            "linecolor": "white",
            "ticks": ""
           }
          },
          "scene": {
           "xaxis": {
            "backgroundcolor": "#E5ECF6",
            "gridcolor": "white",
            "gridwidth": 2,
            "linecolor": "white",
            "showbackground": true,
            "ticks": "",
            "zerolinecolor": "white"
           },
           "yaxis": {
            "backgroundcolor": "#E5ECF6",
            "gridcolor": "white",
            "gridwidth": 2,
            "linecolor": "white",
            "showbackground": true,
            "ticks": "",
            "zerolinecolor": "white"
           },
           "zaxis": {
            "backgroundcolor": "#E5ECF6",
            "gridcolor": "white",
            "gridwidth": 2,
            "linecolor": "white",
            "showbackground": true,
            "ticks": "",
            "zerolinecolor": "white"
           }
          },
          "shapedefaults": {
           "line": {
            "color": "#2a3f5f"
           }
          },
          "ternary": {
           "aaxis": {
            "gridcolor": "white",
            "linecolor": "white",
            "ticks": ""
           },
           "baxis": {
            "gridcolor": "white",
            "linecolor": "white",
            "ticks": ""
           },
           "bgcolor": "#E5ECF6",
           "caxis": {
            "gridcolor": "white",
            "linecolor": "white",
            "ticks": ""
           }
          },
          "title": {
           "x": 0.05
          },
          "xaxis": {
           "automargin": true,
           "gridcolor": "white",
           "linecolor": "white",
           "ticks": "",
           "title": {
            "standoff": 15
           },
           "zerolinecolor": "white",
           "zerolinewidth": 2
          },
          "yaxis": {
           "automargin": true,
           "gridcolor": "white",
           "linecolor": "white",
           "ticks": "",
           "title": {
            "standoff": 15
           },
           "zerolinecolor": "white",
           "zerolinewidth": 2
          }
         }
        },
        "title": {
         "font": {
          "color": "#4D5663"
         }
        },
        "xaxis": {
         "gridcolor": "#E1E5ED",
         "showgrid": true,
         "tickfont": {
          "color": "#4D5663"
         },
         "title": {
          "font": {
           "color": "#4D5663"
          },
          "text": ""
         },
         "zerolinecolor": "#E1E5ED"
        },
        "yaxis": {
         "gridcolor": "#E1E5ED",
         "showgrid": true,
         "tickfont": {
          "color": "#4D5663"
         },
         "title": {
          "font": {
           "color": "#4D5663"
          },
          "text": ""
         },
         "zerolinecolor": "#E1E5ED"
        }
       }
      },
      "text/html": [
       "<div>                            <div id=\"b3ef2530-fbeb-45cf-b301-52704f5a4a3f\" class=\"plotly-graph-div\" style=\"height:525px; width:100%;\"></div>            <script type=\"text/javascript\">                require([\"plotly\"], function(Plotly) {                    window.PLOTLYENV=window.PLOTLYENV || {};\n",
       "                    window.PLOTLYENV.BASE_URL='https://plot.ly';                                    if (document.getElementById(\"b3ef2530-fbeb-45cf-b301-52704f5a4a3f\")) {                    Plotly.newPlot(                        \"b3ef2530-fbeb-45cf-b301-52704f5a4a3f\",                        [{\"line\":{\"color\":\"rgba(255, 153, 51, 1.0)\",\"dash\":\"solid\",\"shape\":\"linear\",\"width\":1.3},\"mode\":\"lines\",\"name\":\"A\",\"text\":\"\",\"x\":[0,1,2,3,4,5,6,7,8,9,10,11,12,13,14,15,16,17,18,19,20,21,22,23,24,25,26,27,28,29,30,31,32,33,34,35,36,37,38,39,40,41,42,43,44,45,46,47,48,49,50,51,52,53,54,55,56,57,58,59,60,61,62,63,64,65,66,67,68,69,70,71,72,73,74,75,76,77,78,79,80,81,82,83,84,85,86,87,88,89,90,91,92,93,94,95,96,97,98,99],\"y\":[1.2011770764175393,4.41271447742346,9.512312024132667,15.572260439872618,20.37759530218809,24.772379800892026,29.014334555166954,34.715517866634244,41.89971070324318,52.75071320488135,66.8159478994062,82.4087346611642,99.0248623102894,115.82682839505355,133.172728792206,150.71429687634787,168.1377636736314,186.9249253604786,208.1099484134743,232.24184338762552,258.4003304186169,287.7334930571479,319.6892915550542,354.1864575252967,391.5542580403122,431.9740828518308,475.77763365964887,524.4145909501407,577.2617086740322,633.6937598883898,693.9628926901304,757.6672579417794,825.1808025127283,896.4389616677894,971.6182972948069,1051.4255135182643,1136.323497667834,1226.991315313331,1323.2922188216153,1423.9805474765562,1528.8220363543544,1638.4292484119585,1753.5105267623562,1874.3765413747765,2002.027944760073,2135.4435918091067,2274.229831896885,2418.27439730924,2568.9073328405207,2725.593153539166,2889.21986424827,3058.6362950546995,3233.7282448052492,3415.118777966568,3602.6328524282503,3798.426876744889,4001.9646944730293,4213.103849736518,4432.0130273260975,4656.784796569372,4886.214966168782,5118.26609835616,5352.736980196992,5589.356841147192,5829.03009806599,6071.930956557698,6319.667564588878,6573.502643711347,6834.990924297694,7104.547837641887,7381.996440866641,7666.041954411482,7957.829451508876,8257.282359328523,8562.856393476095,8874.529724162929,9190.985288890235,9512.747712106882,9840.764688544663,10173.803797357377,10512.811896891657,10858.429257514308,11209.902364517557,11565.881047861916,11927.75681065589,12294.87318641079,12669.469643313772,13051.003955222815,13437.818923252651,13828.725994792647,14224.012037540344,14623.28486309213,15025.822959884654,15431.685603063548,15841.935683272899,16255.278946450622,16670.05598679232,17085.851398283346,17501.02697477791,17916.31312009843],\"type\":\"scatter\"},{\"line\":{\"color\":\"rgba(55, 128, 191, 1.0)\",\"dash\":\"solid\",\"shape\":\"linear\",\"width\":1.3},\"mode\":\"lines\",\"name\":\"B\",\"text\":\"\",\"x\":[0,1,2,3,4,5,6,7,8,9,10,11,12,13,14,15,16,17,18,19,20,21,22,23,24,25,26,27,28,29,30,31,32,33,34,35,36,37,38,39,40,41,42,43,44,45,46,47,48,49,50,51,52,53,54,55,56,57,58,59,60,61,62,63,64,65,66,67,68,69,70,71,72,73,74,75,76,77,78,79,80,81,82,83,84,85,86,87,88,89,90,91,92,93,94,95,96,97,98,99],\"y\":[0.6276277659125329,0.6431866670966653,-0.3361067147157304,-2.75508911708918,-6.940228154795096,-12.959082236799912,-20.47091559089519,-31.348817626633497,-46.085351309033626,-62.97265531175384,-82.16613012871865,-102.91959598539347,-125.07153671178767,-148.56920402567025,-173.03153101336534,-199.3728111324102,-227.68012982649452,-257.2121591045985,-288.1339284626461,-320.4439181455277,-354.6144511958809,-389.94632799402,-426.51274319077345,-465.44512749923956,-505.7167334724851,-546.9758992552654,-589.7239837644805,-633.5336821603908,-677.9944467621705,-722.5879570858474,-768.6113848463532,-814.956547661377,-860.7904271443766,-905.021345957151,-947.7291788580013,-987.4357648037748,-1022.9756775606678,-1053.6150251305091,-1079.6574126827134,-1100.6656587532675,-1118.1854155173821,-1131.9188318105655,-1142.1498283194217,-1150.2652845130972,-1156.3841310779164,-1159.8328153005111,-1160.144676060033,-1155.5480642679813,-1145.3426167793166,-1130.1356273400233,-1109.4687487838187,-1082.0882680036855,-1045.9977055091615,-1002.7960643876343,-950.6111062842301,-889.1126509857414,-817.1678655477043,-734.7463866824284,-642.5224701714515,-541.3097581487989,-430.21810526200613,-309.0321420450349,-178.35597843285692,-37.83558732845603,111.45623215562821,268.34522637926614,431.46553009694685,602.0388199422246,779.9608684425469,967.0261941483624,1164.3823273792275,1372.0200401457994,1589.3555961645197,1815.8283783052323,2050.6589207187367,2293.410886122764,2543.870993378913,2801.5238360716926,3067.962869373556,3343.587006130028,3628.9091636363783,3924.846658844929,4232.15550910688,4549.202476151565,4875.124122216899,5211.990517080619,5558.927249554793,5915.317449934851,6280.431206600094,6654.576048975112,7038.567706846171,7432.649740882929,7836.25328999249,8251.726220913539,8678.272174692202,9117.260193287611,9569.199306113102,10035.39606944763,10515.93191250344,11010.055514858559],\"type\":\"scatter\"},{\"line\":{\"color\":\"rgba(50, 171, 96, 1.0)\",\"dash\":\"solid\",\"shape\":\"linear\",\"width\":1.3},\"mode\":\"lines\",\"name\":\"C\",\"text\":\"\",\"x\":[0,1,2,3,4,5,6,7,8,9,10,11,12,13,14,15,16,17,18,19,20,21,22,23,24,25,26,27,28,29,30,31,32,33,34,35,36,37,38,39,40,41,42,43,44,45,46,47,48,49,50,51,52,53,54,55,56,57,58,59,60,61,62,63,64,65,66,67,68,69,70,71,72,73,74,75,76,77,78,79,80,81,82,83,84,85,86,87,88,89,90,91,92,93,94,95,96,97,98,99],\"y\":[0.5349870806538379,1.1462716857378334,2.6245560042430225,3.6697376650186366,5.680340664212876,7.052376858057731,7.365637957861927,7.240090217119429,5.308192557489496,2.100622142056693,-2.6021981222672927,-9.44802010598626,-18.955289549379366,-29.417094934209942,-40.96729450714767,-53.502954861388254,-67.89540046873066,-86.6698733641632,-111.5520016062003,-139.84143346062626,-172.13726600797818,-210.08170272486805,-253.12238782411563,-299.0810294914378,-350.118651759784,-407.28218327407933,-470.80047694897,-540.9355898796309,-617.1281264673502,-699.7128648873804,-790.6046992703946,-888.9901622521421,-994.5129254378144,-1109.157491248192,-1231.484668458213,-1360.9435428098602,-1495.5330302703562,-1635.188223923193,-1779.0044864516017,-1929.475166043564,-2085.50993857592,-2244.4026103557107,-2407.06611136583,-2570.87184097781,-2735.937006789521,-2902.765940904719,-3072.053862856275,-3242.097815494343,-3411.5584435903343,-3578.4188389407022,-3742.9085649751287,-3906.605225752303,-4068.261094685875,-4227.877334702038,-4386.846920703218,-4545.6087009609455,-4705.240592137499,-4864.661994193907,-5023.6244568380625,-5182.00687204275,-5338.948271317355,-5495.620742900226,-5653.426819444314,-5811.844763490173,-5972.845918116022,-6135.528365720558,-6300.012613591025,-6465.304770119482,-6631.26264829671,-6796.998241950629,-6964.406993628973,-7133.468300373127,-7304.242574728015,-7479.613276071517,-7659.952310738288,-7845.6383493024805,-8037.292090507112,-8236.199883668796,-8442.694851438058,-8656.517683577043,-8876.959058133552,-9102.145592139488,-9332.383603737982,-9567.01596177196,-9807.1765110558,-10053.16984814591,-10304.795937141527,-10562.69028991868,-10828.257890207055,-11101.160875186737,-11382.10409306736,-11670.406254678126,-11966.778620494777,-12268.976662681462,-12576.798763309973,-12890.972296757316,-13212.241690405934,-13540.157654816447,-13874.282909417514,-14215.753133893699],\"type\":\"scatter\"}],                        {\"legend\":{\"bgcolor\":\"#F5F6F9\",\"font\":{\"color\":\"#4D5663\"}},\"paper_bgcolor\":\"#F5F6F9\",\"plot_bgcolor\":\"#F5F6F9\",\"template\":{\"data\":{\"barpolar\":[{\"marker\":{\"line\":{\"color\":\"#E5ECF6\",\"width\":0.5},\"pattern\":{\"fillmode\":\"overlay\",\"size\":10,\"solidity\":0.2}},\"type\":\"barpolar\"}],\"bar\":[{\"error_x\":{\"color\":\"#2a3f5f\"},\"error_y\":{\"color\":\"#2a3f5f\"},\"marker\":{\"line\":{\"color\":\"#E5ECF6\",\"width\":0.5},\"pattern\":{\"fillmode\":\"overlay\",\"size\":10,\"solidity\":0.2}},\"type\":\"bar\"}],\"carpet\":[{\"aaxis\":{\"endlinecolor\":\"#2a3f5f\",\"gridcolor\":\"white\",\"linecolor\":\"white\",\"minorgridcolor\":\"white\",\"startlinecolor\":\"#2a3f5f\"},\"baxis\":{\"endlinecolor\":\"#2a3f5f\",\"gridcolor\":\"white\",\"linecolor\":\"white\",\"minorgridcolor\":\"white\",\"startlinecolor\":\"#2a3f5f\"},\"type\":\"carpet\"}],\"choropleth\":[{\"colorbar\":{\"outlinewidth\":0,\"ticks\":\"\"},\"type\":\"choropleth\"}],\"contourcarpet\":[{\"colorbar\":{\"outlinewidth\":0,\"ticks\":\"\"},\"type\":\"contourcarpet\"}],\"contour\":[{\"colorbar\":{\"outlinewidth\":0,\"ticks\":\"\"},\"colorscale\":[[0.0,\"#0d0887\"],[0.1111111111111111,\"#46039f\"],[0.2222222222222222,\"#7201a8\"],[0.3333333333333333,\"#9c179e\"],[0.4444444444444444,\"#bd3786\"],[0.5555555555555556,\"#d8576b\"],[0.6666666666666666,\"#ed7953\"],[0.7777777777777778,\"#fb9f3a\"],[0.8888888888888888,\"#fdca26\"],[1.0,\"#f0f921\"]],\"type\":\"contour\"}],\"heatmapgl\":[{\"colorbar\":{\"outlinewidth\":0,\"ticks\":\"\"},\"colorscale\":[[0.0,\"#0d0887\"],[0.1111111111111111,\"#46039f\"],[0.2222222222222222,\"#7201a8\"],[0.3333333333333333,\"#9c179e\"],[0.4444444444444444,\"#bd3786\"],[0.5555555555555556,\"#d8576b\"],[0.6666666666666666,\"#ed7953\"],[0.7777777777777778,\"#fb9f3a\"],[0.8888888888888888,\"#fdca26\"],[1.0,\"#f0f921\"]],\"type\":\"heatmapgl\"}],\"heatmap\":[{\"colorbar\":{\"outlinewidth\":0,\"ticks\":\"\"},\"colorscale\":[[0.0,\"#0d0887\"],[0.1111111111111111,\"#46039f\"],[0.2222222222222222,\"#7201a8\"],[0.3333333333333333,\"#9c179e\"],[0.4444444444444444,\"#bd3786\"],[0.5555555555555556,\"#d8576b\"],[0.6666666666666666,\"#ed7953\"],[0.7777777777777778,\"#fb9f3a\"],[0.8888888888888888,\"#fdca26\"],[1.0,\"#f0f921\"]],\"type\":\"heatmap\"}],\"histogram2dcontour\":[{\"colorbar\":{\"outlinewidth\":0,\"ticks\":\"\"},\"colorscale\":[[0.0,\"#0d0887\"],[0.1111111111111111,\"#46039f\"],[0.2222222222222222,\"#7201a8\"],[0.3333333333333333,\"#9c179e\"],[0.4444444444444444,\"#bd3786\"],[0.5555555555555556,\"#d8576b\"],[0.6666666666666666,\"#ed7953\"],[0.7777777777777778,\"#fb9f3a\"],[0.8888888888888888,\"#fdca26\"],[1.0,\"#f0f921\"]],\"type\":\"histogram2dcontour\"}],\"histogram2d\":[{\"colorbar\":{\"outlinewidth\":0,\"ticks\":\"\"},\"colorscale\":[[0.0,\"#0d0887\"],[0.1111111111111111,\"#46039f\"],[0.2222222222222222,\"#7201a8\"],[0.3333333333333333,\"#9c179e\"],[0.4444444444444444,\"#bd3786\"],[0.5555555555555556,\"#d8576b\"],[0.6666666666666666,\"#ed7953\"],[0.7777777777777778,\"#fb9f3a\"],[0.8888888888888888,\"#fdca26\"],[1.0,\"#f0f921\"]],\"type\":\"histogram2d\"}],\"histogram\":[{\"marker\":{\"pattern\":{\"fillmode\":\"overlay\",\"size\":10,\"solidity\":0.2}},\"type\":\"histogram\"}],\"mesh3d\":[{\"colorbar\":{\"outlinewidth\":0,\"ticks\":\"\"},\"type\":\"mesh3d\"}],\"parcoords\":[{\"line\":{\"colorbar\":{\"outlinewidth\":0,\"ticks\":\"\"}},\"type\":\"parcoords\"}],\"pie\":[{\"automargin\":true,\"type\":\"pie\"}],\"scatter3d\":[{\"line\":{\"colorbar\":{\"outlinewidth\":0,\"ticks\":\"\"}},\"marker\":{\"colorbar\":{\"outlinewidth\":0,\"ticks\":\"\"}},\"type\":\"scatter3d\"}],\"scattercarpet\":[{\"marker\":{\"colorbar\":{\"outlinewidth\":0,\"ticks\":\"\"}},\"type\":\"scattercarpet\"}],\"scattergeo\":[{\"marker\":{\"colorbar\":{\"outlinewidth\":0,\"ticks\":\"\"}},\"type\":\"scattergeo\"}],\"scattergl\":[{\"marker\":{\"colorbar\":{\"outlinewidth\":0,\"ticks\":\"\"}},\"type\":\"scattergl\"}],\"scattermapbox\":[{\"marker\":{\"colorbar\":{\"outlinewidth\":0,\"ticks\":\"\"}},\"type\":\"scattermapbox\"}],\"scatterpolargl\":[{\"marker\":{\"colorbar\":{\"outlinewidth\":0,\"ticks\":\"\"}},\"type\":\"scatterpolargl\"}],\"scatterpolar\":[{\"marker\":{\"colorbar\":{\"outlinewidth\":0,\"ticks\":\"\"}},\"type\":\"scatterpolar\"}],\"scatter\":[{\"fillpattern\":{\"fillmode\":\"overlay\",\"size\":10,\"solidity\":0.2},\"type\":\"scatter\"}],\"scatterternary\":[{\"marker\":{\"colorbar\":{\"outlinewidth\":0,\"ticks\":\"\"}},\"type\":\"scatterternary\"}],\"surface\":[{\"colorbar\":{\"outlinewidth\":0,\"ticks\":\"\"},\"colorscale\":[[0.0,\"#0d0887\"],[0.1111111111111111,\"#46039f\"],[0.2222222222222222,\"#7201a8\"],[0.3333333333333333,\"#9c179e\"],[0.4444444444444444,\"#bd3786\"],[0.5555555555555556,\"#d8576b\"],[0.6666666666666666,\"#ed7953\"],[0.7777777777777778,\"#fb9f3a\"],[0.8888888888888888,\"#fdca26\"],[1.0,\"#f0f921\"]],\"type\":\"surface\"}],\"table\":[{\"cells\":{\"fill\":{\"color\":\"#EBF0F8\"},\"line\":{\"color\":\"white\"}},\"header\":{\"fill\":{\"color\":\"#C8D4E3\"},\"line\":{\"color\":\"white\"}},\"type\":\"table\"}]},\"layout\":{\"annotationdefaults\":{\"arrowcolor\":\"#2a3f5f\",\"arrowhead\":0,\"arrowwidth\":1},\"autotypenumbers\":\"strict\",\"coloraxis\":{\"colorbar\":{\"outlinewidth\":0,\"ticks\":\"\"}},\"colorscale\":{\"diverging\":[[0,\"#8e0152\"],[0.1,\"#c51b7d\"],[0.2,\"#de77ae\"],[0.3,\"#f1b6da\"],[0.4,\"#fde0ef\"],[0.5,\"#f7f7f7\"],[0.6,\"#e6f5d0\"],[0.7,\"#b8e186\"],[0.8,\"#7fbc41\"],[0.9,\"#4d9221\"],[1,\"#276419\"]],\"sequential\":[[0.0,\"#0d0887\"],[0.1111111111111111,\"#46039f\"],[0.2222222222222222,\"#7201a8\"],[0.3333333333333333,\"#9c179e\"],[0.4444444444444444,\"#bd3786\"],[0.5555555555555556,\"#d8576b\"],[0.6666666666666666,\"#ed7953\"],[0.7777777777777778,\"#fb9f3a\"],[0.8888888888888888,\"#fdca26\"],[1.0,\"#f0f921\"]],\"sequentialminus\":[[0.0,\"#0d0887\"],[0.1111111111111111,\"#46039f\"],[0.2222222222222222,\"#7201a8\"],[0.3333333333333333,\"#9c179e\"],[0.4444444444444444,\"#bd3786\"],[0.5555555555555556,\"#d8576b\"],[0.6666666666666666,\"#ed7953\"],[0.7777777777777778,\"#fb9f3a\"],[0.8888888888888888,\"#fdca26\"],[1.0,\"#f0f921\"]]},\"colorway\":[\"#636efa\",\"#EF553B\",\"#00cc96\",\"#ab63fa\",\"#FFA15A\",\"#19d3f3\",\"#FF6692\",\"#B6E880\",\"#FF97FF\",\"#FECB52\"],\"font\":{\"color\":\"#2a3f5f\"},\"geo\":{\"bgcolor\":\"white\",\"lakecolor\":\"white\",\"landcolor\":\"#E5ECF6\",\"showlakes\":true,\"showland\":true,\"subunitcolor\":\"white\"},\"hoverlabel\":{\"align\":\"left\"},\"hovermode\":\"closest\",\"mapbox\":{\"style\":\"light\"},\"paper_bgcolor\":\"white\",\"plot_bgcolor\":\"#E5ECF6\",\"polar\":{\"angularaxis\":{\"gridcolor\":\"white\",\"linecolor\":\"white\",\"ticks\":\"\"},\"bgcolor\":\"#E5ECF6\",\"radialaxis\":{\"gridcolor\":\"white\",\"linecolor\":\"white\",\"ticks\":\"\"}},\"scene\":{\"xaxis\":{\"backgroundcolor\":\"#E5ECF6\",\"gridcolor\":\"white\",\"gridwidth\":2,\"linecolor\":\"white\",\"showbackground\":true,\"ticks\":\"\",\"zerolinecolor\":\"white\"},\"yaxis\":{\"backgroundcolor\":\"#E5ECF6\",\"gridcolor\":\"white\",\"gridwidth\":2,\"linecolor\":\"white\",\"showbackground\":true,\"ticks\":\"\",\"zerolinecolor\":\"white\"},\"zaxis\":{\"backgroundcolor\":\"#E5ECF6\",\"gridcolor\":\"white\",\"gridwidth\":2,\"linecolor\":\"white\",\"showbackground\":true,\"ticks\":\"\",\"zerolinecolor\":\"white\"}},\"shapedefaults\":{\"line\":{\"color\":\"#2a3f5f\"}},\"ternary\":{\"aaxis\":{\"gridcolor\":\"white\",\"linecolor\":\"white\",\"ticks\":\"\"},\"baxis\":{\"gridcolor\":\"white\",\"linecolor\":\"white\",\"ticks\":\"\"},\"bgcolor\":\"#E5ECF6\",\"caxis\":{\"gridcolor\":\"white\",\"linecolor\":\"white\",\"ticks\":\"\"}},\"title\":{\"x\":0.05},\"xaxis\":{\"automargin\":true,\"gridcolor\":\"white\",\"linecolor\":\"white\",\"ticks\":\"\",\"title\":{\"standoff\":15},\"zerolinecolor\":\"white\",\"zerolinewidth\":2},\"yaxis\":{\"automargin\":true,\"gridcolor\":\"white\",\"linecolor\":\"white\",\"ticks\":\"\",\"title\":{\"standoff\":15},\"zerolinecolor\":\"white\",\"zerolinewidth\":2}}},\"title\":{\"font\":{\"color\":\"#4D5663\"}},\"xaxis\":{\"gridcolor\":\"#E1E5ED\",\"showgrid\":true,\"tickfont\":{\"color\":\"#4D5663\"},\"title\":{\"font\":{\"color\":\"#4D5663\"},\"text\":\"\"},\"zerolinecolor\":\"#E1E5ED\"},\"yaxis\":{\"gridcolor\":\"#E1E5ED\",\"showgrid\":true,\"tickfont\":{\"color\":\"#4D5663\"},\"title\":{\"font\":{\"color\":\"#4D5663\"},\"text\":\"\"},\"zerolinecolor\":\"#E1E5ED\"}},                        {\"showLink\": true, \"linkText\": \"Export to plot.ly\", \"plotlyServerURL\": \"https://plot.ly\", \"responsive\": true}                    ).then(function(){\n",
       "                            \n",
       "var gd = document.getElementById('b3ef2530-fbeb-45cf-b301-52704f5a4a3f');\n",
       "var x = new MutationObserver(function (mutations, observer) {{\n",
       "        var display = window.getComputedStyle(gd).display;\n",
       "        if (!display || display === 'none') {{\n",
       "            console.log([gd, 'removed!']);\n",
       "            Plotly.purge(gd);\n",
       "            observer.disconnect();\n",
       "        }}\n",
       "}});\n",
       "\n",
       "// Listen for the removal of the full notebook cells\n",
       "var notebookContainer = gd.closest('#notebook-container');\n",
       "if (notebookContainer) {{\n",
       "    x.observe(notebookContainer, {childList: true});\n",
       "}}\n",
       "\n",
       "// Listen for the clearing of the current output cell\n",
       "var outputEl = gd.closest('.output');\n",
       "if (outputEl) {{\n",
       "    x.observe(outputEl, {childList: true});\n",
       "}}\n",
       "\n",
       "                        })                };                });            </script>        </div>"
      ]
     },
     "metadata": {},
     "output_type": "display_data"
    }
   ],
   "source": [
    "df.iplot()"
   ]
  },
  {
   "cell_type": "code",
   "execution_count": 25,
   "id": "3d4dd60b",
   "metadata": {},
   "outputs": [
    {
     "data": {
      "application/vnd.plotly.v1+json": {
       "config": {
        "linkText": "Export to plot.ly",
        "plotlyServerURL": "https://plot.ly",
        "showLink": true
       },
       "data": [
        {
         "line": {
          "color": "rgba(255, 153, 51, 1.0)",
          "dash": "solid",
          "shape": "linear",
          "width": 1.3
         },
         "marker": {
          "size": 25,
          "symbol": "circle"
         },
         "mode": "markers",
         "name": "B",
         "text": "",
         "type": "scatter",
         "x": [
          1.2011770764175393,
          4.41271447742346,
          9.512312024132667,
          15.572260439872618,
          20.37759530218809,
          24.772379800892026,
          29.014334555166954,
          34.715517866634244,
          41.89971070324318,
          52.75071320488135,
          66.8159478994062,
          82.4087346611642,
          99.0248623102894,
          115.82682839505355,
          133.172728792206,
          150.71429687634787,
          168.1377636736314,
          186.9249253604786,
          208.1099484134743,
          232.24184338762552,
          258.4003304186169,
          287.7334930571479,
          319.6892915550542,
          354.1864575252967,
          391.5542580403122,
          431.9740828518308,
          475.77763365964887,
          524.4145909501407,
          577.2617086740322,
          633.6937598883898,
          693.9628926901304,
          757.6672579417794,
          825.1808025127283,
          896.4389616677894,
          971.6182972948069,
          1051.4255135182643,
          1136.323497667834,
          1226.991315313331,
          1323.2922188216153,
          1423.9805474765562,
          1528.8220363543544,
          1638.4292484119585,
          1753.5105267623562,
          1874.3765413747765,
          2002.027944760073,
          2135.4435918091067,
          2274.229831896885,
          2418.27439730924,
          2568.9073328405207,
          2725.593153539166,
          2889.21986424827,
          3058.6362950546995,
          3233.7282448052492,
          3415.118777966568,
          3602.6328524282503,
          3798.426876744889,
          4001.9646944730293,
          4213.103849736518,
          4432.0130273260975,
          4656.784796569372,
          4886.214966168782,
          5118.26609835616,
          5352.736980196992,
          5589.356841147192,
          5829.03009806599,
          6071.930956557698,
          6319.667564588878,
          6573.502643711347,
          6834.990924297694,
          7104.547837641887,
          7381.996440866641,
          7666.041954411482,
          7957.829451508876,
          8257.282359328523,
          8562.856393476095,
          8874.529724162929,
          9190.985288890235,
          9512.747712106882,
          9840.764688544663,
          10173.803797357377,
          10512.811896891657,
          10858.429257514308,
          11209.902364517557,
          11565.881047861916,
          11927.75681065589,
          12294.87318641079,
          12669.469643313772,
          13051.003955222815,
          13437.818923252651,
          13828.725994792647,
          14224.012037540344,
          14623.28486309213,
          15025.822959884654,
          15431.685603063548,
          15841.935683272899,
          16255.278946450622,
          16670.05598679232,
          17085.851398283346,
          17501.02697477791,
          17916.31312009843
         ],
         "y": [
          0.6276277659125329,
          0.6431866670966653,
          -0.3361067147157304,
          -2.75508911708918,
          -6.940228154795096,
          -12.959082236799912,
          -20.47091559089519,
          -31.348817626633497,
          -46.085351309033626,
          -62.97265531175384,
          -82.16613012871865,
          -102.91959598539347,
          -125.07153671178767,
          -148.56920402567025,
          -173.03153101336534,
          -199.3728111324102,
          -227.68012982649452,
          -257.2121591045985,
          -288.1339284626461,
          -320.4439181455277,
          -354.6144511958809,
          -389.94632799402,
          -426.51274319077345,
          -465.44512749923956,
          -505.7167334724851,
          -546.9758992552654,
          -589.7239837644805,
          -633.5336821603908,
          -677.9944467621705,
          -722.5879570858474,
          -768.6113848463532,
          -814.956547661377,
          -860.7904271443766,
          -905.021345957151,
          -947.7291788580013,
          -987.4357648037748,
          -1022.9756775606678,
          -1053.6150251305091,
          -1079.6574126827134,
          -1100.6656587532675,
          -1118.1854155173821,
          -1131.9188318105655,
          -1142.1498283194217,
          -1150.2652845130972,
          -1156.3841310779164,
          -1159.8328153005111,
          -1160.144676060033,
          -1155.5480642679813,
          -1145.3426167793166,
          -1130.1356273400233,
          -1109.4687487838187,
          -1082.0882680036855,
          -1045.9977055091615,
          -1002.7960643876343,
          -950.6111062842301,
          -889.1126509857414,
          -817.1678655477043,
          -734.7463866824284,
          -642.5224701714515,
          -541.3097581487989,
          -430.21810526200613,
          -309.0321420450349,
          -178.35597843285692,
          -37.83558732845603,
          111.45623215562821,
          268.34522637926614,
          431.46553009694685,
          602.0388199422246,
          779.9608684425469,
          967.0261941483624,
          1164.3823273792275,
          1372.0200401457994,
          1589.3555961645197,
          1815.8283783052323,
          2050.6589207187367,
          2293.410886122764,
          2543.870993378913,
          2801.5238360716926,
          3067.962869373556,
          3343.587006130028,
          3628.9091636363783,
          3924.846658844929,
          4232.15550910688,
          4549.202476151565,
          4875.124122216899,
          5211.990517080619,
          5558.927249554793,
          5915.317449934851,
          6280.431206600094,
          6654.576048975112,
          7038.567706846171,
          7432.649740882929,
          7836.25328999249,
          8251.726220913539,
          8678.272174692202,
          9117.260193287611,
          9569.199306113102,
          10035.39606944763,
          10515.93191250344,
          11010.055514858559
         ]
        }
       ],
       "layout": {
        "legend": {
         "bgcolor": "#F5F6F9",
         "font": {
          "color": "#4D5663"
         }
        },
        "paper_bgcolor": "#F5F6F9",
        "plot_bgcolor": "#F5F6F9",
        "template": {
         "data": {
          "bar": [
           {
            "error_x": {
             "color": "#2a3f5f"
            },
            "error_y": {
             "color": "#2a3f5f"
            },
            "marker": {
             "line": {
              "color": "#E5ECF6",
              "width": 0.5
             },
             "pattern": {
              "fillmode": "overlay",
              "size": 10,
              "solidity": 0.2
             }
            },
            "type": "bar"
           }
          ],
          "barpolar": [
           {
            "marker": {
             "line": {
              "color": "#E5ECF6",
              "width": 0.5
             },
             "pattern": {
              "fillmode": "overlay",
              "size": 10,
              "solidity": 0.2
             }
            },
            "type": "barpolar"
           }
          ],
          "carpet": [
           {
            "aaxis": {
             "endlinecolor": "#2a3f5f",
             "gridcolor": "white",
             "linecolor": "white",
             "minorgridcolor": "white",
             "startlinecolor": "#2a3f5f"
            },
            "baxis": {
             "endlinecolor": "#2a3f5f",
             "gridcolor": "white",
             "linecolor": "white",
             "minorgridcolor": "white",
             "startlinecolor": "#2a3f5f"
            },
            "type": "carpet"
           }
          ],
          "choropleth": [
           {
            "colorbar": {
             "outlinewidth": 0,
             "ticks": ""
            },
            "type": "choropleth"
           }
          ],
          "contour": [
           {
            "colorbar": {
             "outlinewidth": 0,
             "ticks": ""
            },
            "colorscale": [
             [
              0,
              "#0d0887"
             ],
             [
              0.1111111111111111,
              "#46039f"
             ],
             [
              0.2222222222222222,
              "#7201a8"
             ],
             [
              0.3333333333333333,
              "#9c179e"
             ],
             [
              0.4444444444444444,
              "#bd3786"
             ],
             [
              0.5555555555555556,
              "#d8576b"
             ],
             [
              0.6666666666666666,
              "#ed7953"
             ],
             [
              0.7777777777777778,
              "#fb9f3a"
             ],
             [
              0.8888888888888888,
              "#fdca26"
             ],
             [
              1,
              "#f0f921"
             ]
            ],
            "type": "contour"
           }
          ],
          "contourcarpet": [
           {
            "colorbar": {
             "outlinewidth": 0,
             "ticks": ""
            },
            "type": "contourcarpet"
           }
          ],
          "heatmap": [
           {
            "colorbar": {
             "outlinewidth": 0,
             "ticks": ""
            },
            "colorscale": [
             [
              0,
              "#0d0887"
             ],
             [
              0.1111111111111111,
              "#46039f"
             ],
             [
              0.2222222222222222,
              "#7201a8"
             ],
             [
              0.3333333333333333,
              "#9c179e"
             ],
             [
              0.4444444444444444,
              "#bd3786"
             ],
             [
              0.5555555555555556,
              "#d8576b"
             ],
             [
              0.6666666666666666,
              "#ed7953"
             ],
             [
              0.7777777777777778,
              "#fb9f3a"
             ],
             [
              0.8888888888888888,
              "#fdca26"
             ],
             [
              1,
              "#f0f921"
             ]
            ],
            "type": "heatmap"
           }
          ],
          "heatmapgl": [
           {
            "colorbar": {
             "outlinewidth": 0,
             "ticks": ""
            },
            "colorscale": [
             [
              0,
              "#0d0887"
             ],
             [
              0.1111111111111111,
              "#46039f"
             ],
             [
              0.2222222222222222,
              "#7201a8"
             ],
             [
              0.3333333333333333,
              "#9c179e"
             ],
             [
              0.4444444444444444,
              "#bd3786"
             ],
             [
              0.5555555555555556,
              "#d8576b"
             ],
             [
              0.6666666666666666,
              "#ed7953"
             ],
             [
              0.7777777777777778,
              "#fb9f3a"
             ],
             [
              0.8888888888888888,
              "#fdca26"
             ],
             [
              1,
              "#f0f921"
             ]
            ],
            "type": "heatmapgl"
           }
          ],
          "histogram": [
           {
            "marker": {
             "pattern": {
              "fillmode": "overlay",
              "size": 10,
              "solidity": 0.2
             }
            },
            "type": "histogram"
           }
          ],
          "histogram2d": [
           {
            "colorbar": {
             "outlinewidth": 0,
             "ticks": ""
            },
            "colorscale": [
             [
              0,
              "#0d0887"
             ],
             [
              0.1111111111111111,
              "#46039f"
             ],
             [
              0.2222222222222222,
              "#7201a8"
             ],
             [
              0.3333333333333333,
              "#9c179e"
             ],
             [
              0.4444444444444444,
              "#bd3786"
             ],
             [
              0.5555555555555556,
              "#d8576b"
             ],
             [
              0.6666666666666666,
              "#ed7953"
             ],
             [
              0.7777777777777778,
              "#fb9f3a"
             ],
             [
              0.8888888888888888,
              "#fdca26"
             ],
             [
              1,
              "#f0f921"
             ]
            ],
            "type": "histogram2d"
           }
          ],
          "histogram2dcontour": [
           {
            "colorbar": {
             "outlinewidth": 0,
             "ticks": ""
            },
            "colorscale": [
             [
              0,
              "#0d0887"
             ],
             [
              0.1111111111111111,
              "#46039f"
             ],
             [
              0.2222222222222222,
              "#7201a8"
             ],
             [
              0.3333333333333333,
              "#9c179e"
             ],
             [
              0.4444444444444444,
              "#bd3786"
             ],
             [
              0.5555555555555556,
              "#d8576b"
             ],
             [
              0.6666666666666666,
              "#ed7953"
             ],
             [
              0.7777777777777778,
              "#fb9f3a"
             ],
             [
              0.8888888888888888,
              "#fdca26"
             ],
             [
              1,
              "#f0f921"
             ]
            ],
            "type": "histogram2dcontour"
           }
          ],
          "mesh3d": [
           {
            "colorbar": {
             "outlinewidth": 0,
             "ticks": ""
            },
            "type": "mesh3d"
           }
          ],
          "parcoords": [
           {
            "line": {
             "colorbar": {
              "outlinewidth": 0,
              "ticks": ""
             }
            },
            "type": "parcoords"
           }
          ],
          "pie": [
           {
            "automargin": true,
            "type": "pie"
           }
          ],
          "scatter": [
           {
            "fillpattern": {
             "fillmode": "overlay",
             "size": 10,
             "solidity": 0.2
            },
            "type": "scatter"
           }
          ],
          "scatter3d": [
           {
            "line": {
             "colorbar": {
              "outlinewidth": 0,
              "ticks": ""
             }
            },
            "marker": {
             "colorbar": {
              "outlinewidth": 0,
              "ticks": ""
             }
            },
            "type": "scatter3d"
           }
          ],
          "scattercarpet": [
           {
            "marker": {
             "colorbar": {
              "outlinewidth": 0,
              "ticks": ""
             }
            },
            "type": "scattercarpet"
           }
          ],
          "scattergeo": [
           {
            "marker": {
             "colorbar": {
              "outlinewidth": 0,
              "ticks": ""
             }
            },
            "type": "scattergeo"
           }
          ],
          "scattergl": [
           {
            "marker": {
             "colorbar": {
              "outlinewidth": 0,
              "ticks": ""
             }
            },
            "type": "scattergl"
           }
          ],
          "scattermapbox": [
           {
            "marker": {
             "colorbar": {
              "outlinewidth": 0,
              "ticks": ""
             }
            },
            "type": "scattermapbox"
           }
          ],
          "scatterpolar": [
           {
            "marker": {
             "colorbar": {
              "outlinewidth": 0,
              "ticks": ""
             }
            },
            "type": "scatterpolar"
           }
          ],
          "scatterpolargl": [
           {
            "marker": {
             "colorbar": {
              "outlinewidth": 0,
              "ticks": ""
             }
            },
            "type": "scatterpolargl"
           }
          ],
          "scatterternary": [
           {
            "marker": {
             "colorbar": {
              "outlinewidth": 0,
              "ticks": ""
             }
            },
            "type": "scatterternary"
           }
          ],
          "surface": [
           {
            "colorbar": {
             "outlinewidth": 0,
             "ticks": ""
            },
            "colorscale": [
             [
              0,
              "#0d0887"
             ],
             [
              0.1111111111111111,
              "#46039f"
             ],
             [
              0.2222222222222222,
              "#7201a8"
             ],
             [
              0.3333333333333333,
              "#9c179e"
             ],
             [
              0.4444444444444444,
              "#bd3786"
             ],
             [
              0.5555555555555556,
              "#d8576b"
             ],
             [
              0.6666666666666666,
              "#ed7953"
             ],
             [
              0.7777777777777778,
              "#fb9f3a"
             ],
             [
              0.8888888888888888,
              "#fdca26"
             ],
             [
              1,
              "#f0f921"
             ]
            ],
            "type": "surface"
           }
          ],
          "table": [
           {
            "cells": {
             "fill": {
              "color": "#EBF0F8"
             },
             "line": {
              "color": "white"
             }
            },
            "header": {
             "fill": {
              "color": "#C8D4E3"
             },
             "line": {
              "color": "white"
             }
            },
            "type": "table"
           }
          ]
         },
         "layout": {
          "annotationdefaults": {
           "arrowcolor": "#2a3f5f",
           "arrowhead": 0,
           "arrowwidth": 1
          },
          "autotypenumbers": "strict",
          "coloraxis": {
           "colorbar": {
            "outlinewidth": 0,
            "ticks": ""
           }
          },
          "colorscale": {
           "diverging": [
            [
             0,
             "#8e0152"
            ],
            [
             0.1,
             "#c51b7d"
            ],
            [
             0.2,
             "#de77ae"
            ],
            [
             0.3,
             "#f1b6da"
            ],
            [
             0.4,
             "#fde0ef"
            ],
            [
             0.5,
             "#f7f7f7"
            ],
            [
             0.6,
             "#e6f5d0"
            ],
            [
             0.7,
             "#b8e186"
            ],
            [
             0.8,
             "#7fbc41"
            ],
            [
             0.9,
             "#4d9221"
            ],
            [
             1,
             "#276419"
            ]
           ],
           "sequential": [
            [
             0,
             "#0d0887"
            ],
            [
             0.1111111111111111,
             "#46039f"
            ],
            [
             0.2222222222222222,
             "#7201a8"
            ],
            [
             0.3333333333333333,
             "#9c179e"
            ],
            [
             0.4444444444444444,
             "#bd3786"
            ],
            [
             0.5555555555555556,
             "#d8576b"
            ],
            [
             0.6666666666666666,
             "#ed7953"
            ],
            [
             0.7777777777777778,
             "#fb9f3a"
            ],
            [
             0.8888888888888888,
             "#fdca26"
            ],
            [
             1,
             "#f0f921"
            ]
           ],
           "sequentialminus": [
            [
             0,
             "#0d0887"
            ],
            [
             0.1111111111111111,
             "#46039f"
            ],
            [
             0.2222222222222222,
             "#7201a8"
            ],
            [
             0.3333333333333333,
             "#9c179e"
            ],
            [
             0.4444444444444444,
             "#bd3786"
            ],
            [
             0.5555555555555556,
             "#d8576b"
            ],
            [
             0.6666666666666666,
             "#ed7953"
            ],
            [
             0.7777777777777778,
             "#fb9f3a"
            ],
            [
             0.8888888888888888,
             "#fdca26"
            ],
            [
             1,
             "#f0f921"
            ]
           ]
          },
          "colorway": [
           "#636efa",
           "#EF553B",
           "#00cc96",
           "#ab63fa",
           "#FFA15A",
           "#19d3f3",
           "#FF6692",
           "#B6E880",
           "#FF97FF",
           "#FECB52"
          ],
          "font": {
           "color": "#2a3f5f"
          },
          "geo": {
           "bgcolor": "white",
           "lakecolor": "white",
           "landcolor": "#E5ECF6",
           "showlakes": true,
           "showland": true,
           "subunitcolor": "white"
          },
          "hoverlabel": {
           "align": "left"
          },
          "hovermode": "closest",
          "mapbox": {
           "style": "light"
          },
          "paper_bgcolor": "white",
          "plot_bgcolor": "#E5ECF6",
          "polar": {
           "angularaxis": {
            "gridcolor": "white",
            "linecolor": "white",
            "ticks": ""
           },
           "bgcolor": "#E5ECF6",
           "radialaxis": {
            "gridcolor": "white",
            "linecolor": "white",
            "ticks": ""
           }
          },
          "scene": {
           "xaxis": {
            "backgroundcolor": "#E5ECF6",
            "gridcolor": "white",
            "gridwidth": 2,
            "linecolor": "white",
            "showbackground": true,
            "ticks": "",
            "zerolinecolor": "white"
           },
           "yaxis": {
            "backgroundcolor": "#E5ECF6",
            "gridcolor": "white",
            "gridwidth": 2,
            "linecolor": "white",
            "showbackground": true,
            "ticks": "",
            "zerolinecolor": "white"
           },
           "zaxis": {
            "backgroundcolor": "#E5ECF6",
            "gridcolor": "white",
            "gridwidth": 2,
            "linecolor": "white",
            "showbackground": true,
            "ticks": "",
            "zerolinecolor": "white"
           }
          },
          "shapedefaults": {
           "line": {
            "color": "#2a3f5f"
           }
          },
          "ternary": {
           "aaxis": {
            "gridcolor": "white",
            "linecolor": "white",
            "ticks": ""
           },
           "baxis": {
            "gridcolor": "white",
            "linecolor": "white",
            "ticks": ""
           },
           "bgcolor": "#E5ECF6",
           "caxis": {
            "gridcolor": "white",
            "linecolor": "white",
            "ticks": ""
           }
          },
          "title": {
           "x": 0.05
          },
          "xaxis": {
           "automargin": true,
           "gridcolor": "white",
           "linecolor": "white",
           "ticks": "",
           "title": {
            "standoff": 15
           },
           "zerolinecolor": "white",
           "zerolinewidth": 2
          },
          "yaxis": {
           "automargin": true,
           "gridcolor": "white",
           "linecolor": "white",
           "ticks": "",
           "title": {
            "standoff": 15
           },
           "zerolinecolor": "white",
           "zerolinewidth": 2
          }
         }
        },
        "title": {
         "font": {
          "color": "#4D5663"
         },
         "text": "Scatter Plot"
        },
        "xaxis": {
         "gridcolor": "#E1E5ED",
         "showgrid": true,
         "tickfont": {
          "color": "#4D5663"
         },
         "title": {
          "font": {
           "color": "#4D5663"
          },
          "text": "X"
         },
         "zerolinecolor": "#E1E5ED"
        },
        "yaxis": {
         "gridcolor": "#E1E5ED",
         "showgrid": true,
         "tickfont": {
          "color": "#4D5663"
         },
         "title": {
          "font": {
           "color": "#4D5663"
          },
          "text": "Y"
         },
         "zerolinecolor": "#E1E5ED"
        }
       }
      },
      "text/html": [
       "<div>                            <div id=\"567f8dbf-6134-4ef6-a794-998d0d28c7a0\" class=\"plotly-graph-div\" style=\"height:525px; width:100%;\"></div>            <script type=\"text/javascript\">                require([\"plotly\"], function(Plotly) {                    window.PLOTLYENV=window.PLOTLYENV || {};\n",
       "                    window.PLOTLYENV.BASE_URL='https://plot.ly';                                    if (document.getElementById(\"567f8dbf-6134-4ef6-a794-998d0d28c7a0\")) {                    Plotly.newPlot(                        \"567f8dbf-6134-4ef6-a794-998d0d28c7a0\",                        [{\"line\":{\"color\":\"rgba(255, 153, 51, 1.0)\",\"dash\":\"solid\",\"shape\":\"linear\",\"width\":1.3},\"marker\":{\"size\":25,\"symbol\":\"circle\"},\"mode\":\"markers\",\"name\":\"B\",\"text\":\"\",\"x\":[1.2011770764175393,4.41271447742346,9.512312024132667,15.572260439872618,20.37759530218809,24.772379800892026,29.014334555166954,34.715517866634244,41.89971070324318,52.75071320488135,66.8159478994062,82.4087346611642,99.0248623102894,115.82682839505355,133.172728792206,150.71429687634787,168.1377636736314,186.9249253604786,208.1099484134743,232.24184338762552,258.4003304186169,287.7334930571479,319.6892915550542,354.1864575252967,391.5542580403122,431.9740828518308,475.77763365964887,524.4145909501407,577.2617086740322,633.6937598883898,693.9628926901304,757.6672579417794,825.1808025127283,896.4389616677894,971.6182972948069,1051.4255135182643,1136.323497667834,1226.991315313331,1323.2922188216153,1423.9805474765562,1528.8220363543544,1638.4292484119585,1753.5105267623562,1874.3765413747765,2002.027944760073,2135.4435918091067,2274.229831896885,2418.27439730924,2568.9073328405207,2725.593153539166,2889.21986424827,3058.6362950546995,3233.7282448052492,3415.118777966568,3602.6328524282503,3798.426876744889,4001.9646944730293,4213.103849736518,4432.0130273260975,4656.784796569372,4886.214966168782,5118.26609835616,5352.736980196992,5589.356841147192,5829.03009806599,6071.930956557698,6319.667564588878,6573.502643711347,6834.990924297694,7104.547837641887,7381.996440866641,7666.041954411482,7957.829451508876,8257.282359328523,8562.856393476095,8874.529724162929,9190.985288890235,9512.747712106882,9840.764688544663,10173.803797357377,10512.811896891657,10858.429257514308,11209.902364517557,11565.881047861916,11927.75681065589,12294.87318641079,12669.469643313772,13051.003955222815,13437.818923252651,13828.725994792647,14224.012037540344,14623.28486309213,15025.822959884654,15431.685603063548,15841.935683272899,16255.278946450622,16670.05598679232,17085.851398283346,17501.02697477791,17916.31312009843],\"y\":[0.6276277659125329,0.6431866670966653,-0.3361067147157304,-2.75508911708918,-6.940228154795096,-12.959082236799912,-20.47091559089519,-31.348817626633497,-46.085351309033626,-62.97265531175384,-82.16613012871865,-102.91959598539347,-125.07153671178767,-148.56920402567025,-173.03153101336534,-199.3728111324102,-227.68012982649452,-257.2121591045985,-288.1339284626461,-320.4439181455277,-354.6144511958809,-389.94632799402,-426.51274319077345,-465.44512749923956,-505.7167334724851,-546.9758992552654,-589.7239837644805,-633.5336821603908,-677.9944467621705,-722.5879570858474,-768.6113848463532,-814.956547661377,-860.7904271443766,-905.021345957151,-947.7291788580013,-987.4357648037748,-1022.9756775606678,-1053.6150251305091,-1079.6574126827134,-1100.6656587532675,-1118.1854155173821,-1131.9188318105655,-1142.1498283194217,-1150.2652845130972,-1156.3841310779164,-1159.8328153005111,-1160.144676060033,-1155.5480642679813,-1145.3426167793166,-1130.1356273400233,-1109.4687487838187,-1082.0882680036855,-1045.9977055091615,-1002.7960643876343,-950.6111062842301,-889.1126509857414,-817.1678655477043,-734.7463866824284,-642.5224701714515,-541.3097581487989,-430.21810526200613,-309.0321420450349,-178.35597843285692,-37.83558732845603,111.45623215562821,268.34522637926614,431.46553009694685,602.0388199422246,779.9608684425469,967.0261941483624,1164.3823273792275,1372.0200401457994,1589.3555961645197,1815.8283783052323,2050.6589207187367,2293.410886122764,2543.870993378913,2801.5238360716926,3067.962869373556,3343.587006130028,3628.9091636363783,3924.846658844929,4232.15550910688,4549.202476151565,4875.124122216899,5211.990517080619,5558.927249554793,5915.317449934851,6280.431206600094,6654.576048975112,7038.567706846171,7432.649740882929,7836.25328999249,8251.726220913539,8678.272174692202,9117.260193287611,9569.199306113102,10035.39606944763,10515.93191250344,11010.055514858559],\"type\":\"scatter\"}],                        {\"legend\":{\"bgcolor\":\"#F5F6F9\",\"font\":{\"color\":\"#4D5663\"}},\"paper_bgcolor\":\"#F5F6F9\",\"plot_bgcolor\":\"#F5F6F9\",\"template\":{\"data\":{\"barpolar\":[{\"marker\":{\"line\":{\"color\":\"#E5ECF6\",\"width\":0.5},\"pattern\":{\"fillmode\":\"overlay\",\"size\":10,\"solidity\":0.2}},\"type\":\"barpolar\"}],\"bar\":[{\"error_x\":{\"color\":\"#2a3f5f\"},\"error_y\":{\"color\":\"#2a3f5f\"},\"marker\":{\"line\":{\"color\":\"#E5ECF6\",\"width\":0.5},\"pattern\":{\"fillmode\":\"overlay\",\"size\":10,\"solidity\":0.2}},\"type\":\"bar\"}],\"carpet\":[{\"aaxis\":{\"endlinecolor\":\"#2a3f5f\",\"gridcolor\":\"white\",\"linecolor\":\"white\",\"minorgridcolor\":\"white\",\"startlinecolor\":\"#2a3f5f\"},\"baxis\":{\"endlinecolor\":\"#2a3f5f\",\"gridcolor\":\"white\",\"linecolor\":\"white\",\"minorgridcolor\":\"white\",\"startlinecolor\":\"#2a3f5f\"},\"type\":\"carpet\"}],\"choropleth\":[{\"colorbar\":{\"outlinewidth\":0,\"ticks\":\"\"},\"type\":\"choropleth\"}],\"contourcarpet\":[{\"colorbar\":{\"outlinewidth\":0,\"ticks\":\"\"},\"type\":\"contourcarpet\"}],\"contour\":[{\"colorbar\":{\"outlinewidth\":0,\"ticks\":\"\"},\"colorscale\":[[0.0,\"#0d0887\"],[0.1111111111111111,\"#46039f\"],[0.2222222222222222,\"#7201a8\"],[0.3333333333333333,\"#9c179e\"],[0.4444444444444444,\"#bd3786\"],[0.5555555555555556,\"#d8576b\"],[0.6666666666666666,\"#ed7953\"],[0.7777777777777778,\"#fb9f3a\"],[0.8888888888888888,\"#fdca26\"],[1.0,\"#f0f921\"]],\"type\":\"contour\"}],\"heatmapgl\":[{\"colorbar\":{\"outlinewidth\":0,\"ticks\":\"\"},\"colorscale\":[[0.0,\"#0d0887\"],[0.1111111111111111,\"#46039f\"],[0.2222222222222222,\"#7201a8\"],[0.3333333333333333,\"#9c179e\"],[0.4444444444444444,\"#bd3786\"],[0.5555555555555556,\"#d8576b\"],[0.6666666666666666,\"#ed7953\"],[0.7777777777777778,\"#fb9f3a\"],[0.8888888888888888,\"#fdca26\"],[1.0,\"#f0f921\"]],\"type\":\"heatmapgl\"}],\"heatmap\":[{\"colorbar\":{\"outlinewidth\":0,\"ticks\":\"\"},\"colorscale\":[[0.0,\"#0d0887\"],[0.1111111111111111,\"#46039f\"],[0.2222222222222222,\"#7201a8\"],[0.3333333333333333,\"#9c179e\"],[0.4444444444444444,\"#bd3786\"],[0.5555555555555556,\"#d8576b\"],[0.6666666666666666,\"#ed7953\"],[0.7777777777777778,\"#fb9f3a\"],[0.8888888888888888,\"#fdca26\"],[1.0,\"#f0f921\"]],\"type\":\"heatmap\"}],\"histogram2dcontour\":[{\"colorbar\":{\"outlinewidth\":0,\"ticks\":\"\"},\"colorscale\":[[0.0,\"#0d0887\"],[0.1111111111111111,\"#46039f\"],[0.2222222222222222,\"#7201a8\"],[0.3333333333333333,\"#9c179e\"],[0.4444444444444444,\"#bd3786\"],[0.5555555555555556,\"#d8576b\"],[0.6666666666666666,\"#ed7953\"],[0.7777777777777778,\"#fb9f3a\"],[0.8888888888888888,\"#fdca26\"],[1.0,\"#f0f921\"]],\"type\":\"histogram2dcontour\"}],\"histogram2d\":[{\"colorbar\":{\"outlinewidth\":0,\"ticks\":\"\"},\"colorscale\":[[0.0,\"#0d0887\"],[0.1111111111111111,\"#46039f\"],[0.2222222222222222,\"#7201a8\"],[0.3333333333333333,\"#9c179e\"],[0.4444444444444444,\"#bd3786\"],[0.5555555555555556,\"#d8576b\"],[0.6666666666666666,\"#ed7953\"],[0.7777777777777778,\"#fb9f3a\"],[0.8888888888888888,\"#fdca26\"],[1.0,\"#f0f921\"]],\"type\":\"histogram2d\"}],\"histogram\":[{\"marker\":{\"pattern\":{\"fillmode\":\"overlay\",\"size\":10,\"solidity\":0.2}},\"type\":\"histogram\"}],\"mesh3d\":[{\"colorbar\":{\"outlinewidth\":0,\"ticks\":\"\"},\"type\":\"mesh3d\"}],\"parcoords\":[{\"line\":{\"colorbar\":{\"outlinewidth\":0,\"ticks\":\"\"}},\"type\":\"parcoords\"}],\"pie\":[{\"automargin\":true,\"type\":\"pie\"}],\"scatter3d\":[{\"line\":{\"colorbar\":{\"outlinewidth\":0,\"ticks\":\"\"}},\"marker\":{\"colorbar\":{\"outlinewidth\":0,\"ticks\":\"\"}},\"type\":\"scatter3d\"}],\"scattercarpet\":[{\"marker\":{\"colorbar\":{\"outlinewidth\":0,\"ticks\":\"\"}},\"type\":\"scattercarpet\"}],\"scattergeo\":[{\"marker\":{\"colorbar\":{\"outlinewidth\":0,\"ticks\":\"\"}},\"type\":\"scattergeo\"}],\"scattergl\":[{\"marker\":{\"colorbar\":{\"outlinewidth\":0,\"ticks\":\"\"}},\"type\":\"scattergl\"}],\"scattermapbox\":[{\"marker\":{\"colorbar\":{\"outlinewidth\":0,\"ticks\":\"\"}},\"type\":\"scattermapbox\"}],\"scatterpolargl\":[{\"marker\":{\"colorbar\":{\"outlinewidth\":0,\"ticks\":\"\"}},\"type\":\"scatterpolargl\"}],\"scatterpolar\":[{\"marker\":{\"colorbar\":{\"outlinewidth\":0,\"ticks\":\"\"}},\"type\":\"scatterpolar\"}],\"scatter\":[{\"fillpattern\":{\"fillmode\":\"overlay\",\"size\":10,\"solidity\":0.2},\"type\":\"scatter\"}],\"scatterternary\":[{\"marker\":{\"colorbar\":{\"outlinewidth\":0,\"ticks\":\"\"}},\"type\":\"scatterternary\"}],\"surface\":[{\"colorbar\":{\"outlinewidth\":0,\"ticks\":\"\"},\"colorscale\":[[0.0,\"#0d0887\"],[0.1111111111111111,\"#46039f\"],[0.2222222222222222,\"#7201a8\"],[0.3333333333333333,\"#9c179e\"],[0.4444444444444444,\"#bd3786\"],[0.5555555555555556,\"#d8576b\"],[0.6666666666666666,\"#ed7953\"],[0.7777777777777778,\"#fb9f3a\"],[0.8888888888888888,\"#fdca26\"],[1.0,\"#f0f921\"]],\"type\":\"surface\"}],\"table\":[{\"cells\":{\"fill\":{\"color\":\"#EBF0F8\"},\"line\":{\"color\":\"white\"}},\"header\":{\"fill\":{\"color\":\"#C8D4E3\"},\"line\":{\"color\":\"white\"}},\"type\":\"table\"}]},\"layout\":{\"annotationdefaults\":{\"arrowcolor\":\"#2a3f5f\",\"arrowhead\":0,\"arrowwidth\":1},\"autotypenumbers\":\"strict\",\"coloraxis\":{\"colorbar\":{\"outlinewidth\":0,\"ticks\":\"\"}},\"colorscale\":{\"diverging\":[[0,\"#8e0152\"],[0.1,\"#c51b7d\"],[0.2,\"#de77ae\"],[0.3,\"#f1b6da\"],[0.4,\"#fde0ef\"],[0.5,\"#f7f7f7\"],[0.6,\"#e6f5d0\"],[0.7,\"#b8e186\"],[0.8,\"#7fbc41\"],[0.9,\"#4d9221\"],[1,\"#276419\"]],\"sequential\":[[0.0,\"#0d0887\"],[0.1111111111111111,\"#46039f\"],[0.2222222222222222,\"#7201a8\"],[0.3333333333333333,\"#9c179e\"],[0.4444444444444444,\"#bd3786\"],[0.5555555555555556,\"#d8576b\"],[0.6666666666666666,\"#ed7953\"],[0.7777777777777778,\"#fb9f3a\"],[0.8888888888888888,\"#fdca26\"],[1.0,\"#f0f921\"]],\"sequentialminus\":[[0.0,\"#0d0887\"],[0.1111111111111111,\"#46039f\"],[0.2222222222222222,\"#7201a8\"],[0.3333333333333333,\"#9c179e\"],[0.4444444444444444,\"#bd3786\"],[0.5555555555555556,\"#d8576b\"],[0.6666666666666666,\"#ed7953\"],[0.7777777777777778,\"#fb9f3a\"],[0.8888888888888888,\"#fdca26\"],[1.0,\"#f0f921\"]]},\"colorway\":[\"#636efa\",\"#EF553B\",\"#00cc96\",\"#ab63fa\",\"#FFA15A\",\"#19d3f3\",\"#FF6692\",\"#B6E880\",\"#FF97FF\",\"#FECB52\"],\"font\":{\"color\":\"#2a3f5f\"},\"geo\":{\"bgcolor\":\"white\",\"lakecolor\":\"white\",\"landcolor\":\"#E5ECF6\",\"showlakes\":true,\"showland\":true,\"subunitcolor\":\"white\"},\"hoverlabel\":{\"align\":\"left\"},\"hovermode\":\"closest\",\"mapbox\":{\"style\":\"light\"},\"paper_bgcolor\":\"white\",\"plot_bgcolor\":\"#E5ECF6\",\"polar\":{\"angularaxis\":{\"gridcolor\":\"white\",\"linecolor\":\"white\",\"ticks\":\"\"},\"bgcolor\":\"#E5ECF6\",\"radialaxis\":{\"gridcolor\":\"white\",\"linecolor\":\"white\",\"ticks\":\"\"}},\"scene\":{\"xaxis\":{\"backgroundcolor\":\"#E5ECF6\",\"gridcolor\":\"white\",\"gridwidth\":2,\"linecolor\":\"white\",\"showbackground\":true,\"ticks\":\"\",\"zerolinecolor\":\"white\"},\"yaxis\":{\"backgroundcolor\":\"#E5ECF6\",\"gridcolor\":\"white\",\"gridwidth\":2,\"linecolor\":\"white\",\"showbackground\":true,\"ticks\":\"\",\"zerolinecolor\":\"white\"},\"zaxis\":{\"backgroundcolor\":\"#E5ECF6\",\"gridcolor\":\"white\",\"gridwidth\":2,\"linecolor\":\"white\",\"showbackground\":true,\"ticks\":\"\",\"zerolinecolor\":\"white\"}},\"shapedefaults\":{\"line\":{\"color\":\"#2a3f5f\"}},\"ternary\":{\"aaxis\":{\"gridcolor\":\"white\",\"linecolor\":\"white\",\"ticks\":\"\"},\"baxis\":{\"gridcolor\":\"white\",\"linecolor\":\"white\",\"ticks\":\"\"},\"bgcolor\":\"#E5ECF6\",\"caxis\":{\"gridcolor\":\"white\",\"linecolor\":\"white\",\"ticks\":\"\"}},\"title\":{\"x\":0.05},\"xaxis\":{\"automargin\":true,\"gridcolor\":\"white\",\"linecolor\":\"white\",\"ticks\":\"\",\"title\":{\"standoff\":15},\"zerolinecolor\":\"white\",\"zerolinewidth\":2},\"yaxis\":{\"automargin\":true,\"gridcolor\":\"white\",\"linecolor\":\"white\",\"ticks\":\"\",\"title\":{\"standoff\":15},\"zerolinecolor\":\"white\",\"zerolinewidth\":2}}},\"title\":{\"font\":{\"color\":\"#4D5663\"},\"text\":\"Scatter Plot\"},\"xaxis\":{\"gridcolor\":\"#E1E5ED\",\"showgrid\":true,\"tickfont\":{\"color\":\"#4D5663\"},\"title\":{\"font\":{\"color\":\"#4D5663\"},\"text\":\"X\"},\"zerolinecolor\":\"#E1E5ED\"},\"yaxis\":{\"gridcolor\":\"#E1E5ED\",\"showgrid\":true,\"tickfont\":{\"color\":\"#4D5663\"},\"title\":{\"font\":{\"color\":\"#4D5663\"},\"text\":\"Y\"},\"zerolinecolor\":\"#E1E5ED\"}},                        {\"showLink\": true, \"linkText\": \"Export to plot.ly\", \"plotlyServerURL\": \"https://plot.ly\", \"responsive\": true}                    ).then(function(){\n",
       "                            \n",
       "var gd = document.getElementById('567f8dbf-6134-4ef6-a794-998d0d28c7a0');\n",
       "var x = new MutationObserver(function (mutations, observer) {{\n",
       "        var display = window.getComputedStyle(gd).display;\n",
       "        if (!display || display === 'none') {{\n",
       "            console.log([gd, 'removed!']);\n",
       "            Plotly.purge(gd);\n",
       "            observer.disconnect();\n",
       "        }}\n",
       "}});\n",
       "\n",
       "// Listen for the removal of the full notebook cells\n",
       "var notebookContainer = gd.closest('#notebook-container');\n",
       "if (notebookContainer) {{\n",
       "    x.observe(notebookContainer, {childList: true});\n",
       "}}\n",
       "\n",
       "// Listen for the clearing of the current output cell\n",
       "var outputEl = gd.closest('.output');\n",
       "if (outputEl) {{\n",
       "    x.observe(outputEl, {childList: true});\n",
       "}}\n",
       "\n",
       "                        })                };                });            </script>        </div>"
      ]
     },
     "metadata": {},
     "output_type": "display_data"
    }
   ],
   "source": [
    "df.iplot(x = 'A', y = 'B', mode = 'markers', size = 25, title='Scatter Plot', xTitle='X', yTitle='Y')"
   ]
  },
  {
   "cell_type": "code",
   "execution_count": 26,
   "id": "a4b85fa8",
   "metadata": {},
   "outputs": [
    {
     "data": {
      "application/vnd.plotly.v1+json": {
       "config": {
        "linkText": "Export to plot.ly",
        "plotlyServerURL": "https://plot.ly",
        "showLink": true
       },
       "data": [
        {
         "colorscale": [
          [
           0,
           "rgb(255, 153, 51)"
          ],
          [
           0.1111111111111111,
           "rgb(55, 128, 191)"
          ],
          [
           0.2222222222222222,
           "rgb(50, 171, 96)"
          ],
          [
           0.3333333333333333,
           "rgb(128, 0, 128)"
          ],
          [
           0.4444444444444444,
           "rgb(219, 64, 82)"
          ],
          [
           0.5555555555555556,
           "rgb(0, 128, 128)"
          ],
          [
           0.6666666666666666,
           "rgb(255, 255, 51)"
          ],
          [
           0.7777777777777778,
           "rgb(128, 128, 0)"
          ],
          [
           0.8888888888888888,
           "rgb(251, 128, 114)"
          ],
          [
           1,
           "rgb(128, 177, 211)"
          ]
         ],
         "type": "surface",
         "x": [
          0,
          1,
          2,
          3,
          4,
          5,
          6,
          7,
          8,
          9,
          10,
          11,
          12,
          13,
          14,
          15,
          16,
          17,
          18,
          19,
          20,
          21,
          22,
          23,
          24,
          25,
          26,
          27,
          28,
          29,
          30,
          31,
          32,
          33,
          34,
          35,
          36,
          37,
          38,
          39,
          40,
          41,
          42,
          43,
          44,
          45,
          46,
          47,
          48,
          49,
          50,
          51,
          52,
          53,
          54,
          55,
          56,
          57,
          58,
          59,
          60,
          61,
          62,
          63,
          64,
          65,
          66,
          67,
          68,
          69,
          70,
          71,
          72,
          73,
          74,
          75,
          76,
          77,
          78,
          79,
          80,
          81,
          82,
          83,
          84,
          85,
          86,
          87,
          88,
          89,
          90,
          91,
          92,
          93,
          94,
          95,
          96,
          97,
          98,
          99
         ],
         "y": [
          "A",
          "B",
          "C"
         ],
         "z": [
          [
           1.2011770764175393,
           4.41271447742346,
           9.512312024132667,
           15.572260439872618,
           20.37759530218809,
           24.772379800892026,
           29.014334555166954,
           34.715517866634244,
           41.89971070324318,
           52.75071320488135,
           66.8159478994062,
           82.4087346611642,
           99.0248623102894,
           115.82682839505355,
           133.172728792206,
           150.71429687634787,
           168.1377636736314,
           186.9249253604786,
           208.1099484134743,
           232.24184338762552,
           258.4003304186169,
           287.7334930571479,
           319.6892915550542,
           354.1864575252967,
           391.5542580403122,
           431.9740828518308,
           475.77763365964887,
           524.4145909501407,
           577.2617086740322,
           633.6937598883898,
           693.9628926901304,
           757.6672579417794,
           825.1808025127283,
           896.4389616677894,
           971.6182972948069,
           1051.4255135182643,
           1136.323497667834,
           1226.991315313331,
           1323.2922188216153,
           1423.9805474765562,
           1528.8220363543544,
           1638.4292484119585,
           1753.5105267623562,
           1874.3765413747765,
           2002.027944760073,
           2135.4435918091067,
           2274.229831896885,
           2418.27439730924,
           2568.9073328405207,
           2725.593153539166,
           2889.21986424827,
           3058.6362950546995,
           3233.7282448052492,
           3415.118777966568,
           3602.6328524282503,
           3798.426876744889,
           4001.9646944730293,
           4213.103849736518,
           4432.0130273260975,
           4656.784796569372,
           4886.214966168782,
           5118.26609835616,
           5352.736980196992,
           5589.356841147192,
           5829.03009806599,
           6071.930956557698,
           6319.667564588878,
           6573.502643711347,
           6834.990924297694,
           7104.547837641887,
           7381.996440866641,
           7666.041954411482,
           7957.829451508876,
           8257.282359328523,
           8562.856393476095,
           8874.529724162929,
           9190.985288890235,
           9512.747712106882,
           9840.764688544663,
           10173.803797357377,
           10512.811896891657,
           10858.429257514308,
           11209.902364517557,
           11565.881047861916,
           11927.75681065589,
           12294.87318641079,
           12669.469643313772,
           13051.003955222815,
           13437.818923252651,
           13828.725994792647,
           14224.012037540344,
           14623.28486309213,
           15025.822959884654,
           15431.685603063548,
           15841.935683272899,
           16255.278946450622,
           16670.05598679232,
           17085.851398283346,
           17501.02697477791,
           17916.31312009843
          ],
          [
           0.6276277659125329,
           0.6431866670966653,
           -0.3361067147157304,
           -2.75508911708918,
           -6.940228154795096,
           -12.959082236799912,
           -20.47091559089519,
           -31.348817626633497,
           -46.085351309033626,
           -62.97265531175384,
           -82.16613012871865,
           -102.91959598539347,
           -125.07153671178767,
           -148.56920402567025,
           -173.03153101336534,
           -199.3728111324102,
           -227.68012982649452,
           -257.2121591045985,
           -288.1339284626461,
           -320.4439181455277,
           -354.6144511958809,
           -389.94632799402,
           -426.51274319077345,
           -465.44512749923956,
           -505.7167334724851,
           -546.9758992552654,
           -589.7239837644805,
           -633.5336821603908,
           -677.9944467621705,
           -722.5879570858474,
           -768.6113848463532,
           -814.956547661377,
           -860.7904271443766,
           -905.021345957151,
           -947.7291788580013,
           -987.4357648037748,
           -1022.9756775606678,
           -1053.6150251305091,
           -1079.6574126827134,
           -1100.6656587532675,
           -1118.1854155173821,
           -1131.9188318105655,
           -1142.1498283194217,
           -1150.2652845130972,
           -1156.3841310779164,
           -1159.8328153005111,
           -1160.144676060033,
           -1155.5480642679813,
           -1145.3426167793166,
           -1130.1356273400233,
           -1109.4687487838187,
           -1082.0882680036855,
           -1045.9977055091615,
           -1002.7960643876343,
           -950.6111062842301,
           -889.1126509857414,
           -817.1678655477043,
           -734.7463866824284,
           -642.5224701714515,
           -541.3097581487989,
           -430.21810526200613,
           -309.0321420450349,
           -178.35597843285692,
           -37.83558732845603,
           111.45623215562821,
           268.34522637926614,
           431.46553009694685,
           602.0388199422246,
           779.9608684425469,
           967.0261941483624,
           1164.3823273792275,
           1372.0200401457994,
           1589.3555961645197,
           1815.8283783052323,
           2050.6589207187367,
           2293.410886122764,
           2543.870993378913,
           2801.5238360716926,
           3067.962869373556,
           3343.587006130028,
           3628.9091636363783,
           3924.846658844929,
           4232.15550910688,
           4549.202476151565,
           4875.124122216899,
           5211.990517080619,
           5558.927249554793,
           5915.317449934851,
           6280.431206600094,
           6654.576048975112,
           7038.567706846171,
           7432.649740882929,
           7836.25328999249,
           8251.726220913539,
           8678.272174692202,
           9117.260193287611,
           9569.199306113102,
           10035.39606944763,
           10515.93191250344,
           11010.055514858559
          ],
          [
           0.5349870806538379,
           1.1462716857378334,
           2.6245560042430225,
           3.6697376650186366,
           5.680340664212876,
           7.052376858057731,
           7.365637957861927,
           7.240090217119429,
           5.308192557489496,
           2.100622142056693,
           -2.6021981222672927,
           -9.44802010598626,
           -18.955289549379366,
           -29.417094934209942,
           -40.96729450714767,
           -53.502954861388254,
           -67.89540046873066,
           -86.6698733641632,
           -111.5520016062003,
           -139.84143346062626,
           -172.13726600797818,
           -210.08170272486805,
           -253.12238782411563,
           -299.0810294914378,
           -350.118651759784,
           -407.28218327407933,
           -470.80047694897,
           -540.9355898796309,
           -617.1281264673502,
           -699.7128648873804,
           -790.6046992703946,
           -888.9901622521421,
           -994.5129254378144,
           -1109.157491248192,
           -1231.484668458213,
           -1360.9435428098602,
           -1495.5330302703562,
           -1635.188223923193,
           -1779.0044864516017,
           -1929.475166043564,
           -2085.50993857592,
           -2244.4026103557107,
           -2407.06611136583,
           -2570.87184097781,
           -2735.937006789521,
           -2902.765940904719,
           -3072.053862856275,
           -3242.097815494343,
           -3411.5584435903343,
           -3578.4188389407022,
           -3742.9085649751287,
           -3906.605225752303,
           -4068.261094685875,
           -4227.877334702038,
           -4386.846920703218,
           -4545.6087009609455,
           -4705.240592137499,
           -4864.661994193907,
           -5023.6244568380625,
           -5182.00687204275,
           -5338.948271317355,
           -5495.620742900226,
           -5653.426819444314,
           -5811.844763490173,
           -5972.845918116022,
           -6135.528365720558,
           -6300.012613591025,
           -6465.304770119482,
           -6631.26264829671,
           -6796.998241950629,
           -6964.406993628973,
           -7133.468300373127,
           -7304.242574728015,
           -7479.613276071517,
           -7659.952310738288,
           -7845.6383493024805,
           -8037.292090507112,
           -8236.199883668796,
           -8442.694851438058,
           -8656.517683577043,
           -8876.959058133552,
           -9102.145592139488,
           -9332.383603737982,
           -9567.01596177196,
           -9807.1765110558,
           -10053.16984814591,
           -10304.795937141527,
           -10562.69028991868,
           -10828.257890207055,
           -11101.160875186737,
           -11382.10409306736,
           -11670.406254678126,
           -11966.778620494777,
           -12268.976662681462,
           -12576.798763309973,
           -12890.972296757316,
           -13212.241690405934,
           -13540.157654816447,
           -13874.282909417514,
           -14215.753133893699
          ]
         ]
        }
       ],
       "layout": {
        "legend": {
         "bgcolor": "#F5F6F9",
         "font": {
          "color": "#4D5663"
         }
        },
        "paper_bgcolor": "#F5F6F9",
        "plot_bgcolor": "#F5F6F9",
        "template": {
         "data": {
          "bar": [
           {
            "error_x": {
             "color": "#2a3f5f"
            },
            "error_y": {
             "color": "#2a3f5f"
            },
            "marker": {
             "line": {
              "color": "#E5ECF6",
              "width": 0.5
             },
             "pattern": {
              "fillmode": "overlay",
              "size": 10,
              "solidity": 0.2
             }
            },
            "type": "bar"
           }
          ],
          "barpolar": [
           {
            "marker": {
             "line": {
              "color": "#E5ECF6",
              "width": 0.5
             },
             "pattern": {
              "fillmode": "overlay",
              "size": 10,
              "solidity": 0.2
             }
            },
            "type": "barpolar"
           }
          ],
          "carpet": [
           {
            "aaxis": {
             "endlinecolor": "#2a3f5f",
             "gridcolor": "white",
             "linecolor": "white",
             "minorgridcolor": "white",
             "startlinecolor": "#2a3f5f"
            },
            "baxis": {
             "endlinecolor": "#2a3f5f",
             "gridcolor": "white",
             "linecolor": "white",
             "minorgridcolor": "white",
             "startlinecolor": "#2a3f5f"
            },
            "type": "carpet"
           }
          ],
          "choropleth": [
           {
            "colorbar": {
             "outlinewidth": 0,
             "ticks": ""
            },
            "type": "choropleth"
           }
          ],
          "contour": [
           {
            "colorbar": {
             "outlinewidth": 0,
             "ticks": ""
            },
            "colorscale": [
             [
              0,
              "#0d0887"
             ],
             [
              0.1111111111111111,
              "#46039f"
             ],
             [
              0.2222222222222222,
              "#7201a8"
             ],
             [
              0.3333333333333333,
              "#9c179e"
             ],
             [
              0.4444444444444444,
              "#bd3786"
             ],
             [
              0.5555555555555556,
              "#d8576b"
             ],
             [
              0.6666666666666666,
              "#ed7953"
             ],
             [
              0.7777777777777778,
              "#fb9f3a"
             ],
             [
              0.8888888888888888,
              "#fdca26"
             ],
             [
              1,
              "#f0f921"
             ]
            ],
            "type": "contour"
           }
          ],
          "contourcarpet": [
           {
            "colorbar": {
             "outlinewidth": 0,
             "ticks": ""
            },
            "type": "contourcarpet"
           }
          ],
          "heatmap": [
           {
            "colorbar": {
             "outlinewidth": 0,
             "ticks": ""
            },
            "colorscale": [
             [
              0,
              "#0d0887"
             ],
             [
              0.1111111111111111,
              "#46039f"
             ],
             [
              0.2222222222222222,
              "#7201a8"
             ],
             [
              0.3333333333333333,
              "#9c179e"
             ],
             [
              0.4444444444444444,
              "#bd3786"
             ],
             [
              0.5555555555555556,
              "#d8576b"
             ],
             [
              0.6666666666666666,
              "#ed7953"
             ],
             [
              0.7777777777777778,
              "#fb9f3a"
             ],
             [
              0.8888888888888888,
              "#fdca26"
             ],
             [
              1,
              "#f0f921"
             ]
            ],
            "type": "heatmap"
           }
          ],
          "heatmapgl": [
           {
            "colorbar": {
             "outlinewidth": 0,
             "ticks": ""
            },
            "colorscale": [
             [
              0,
              "#0d0887"
             ],
             [
              0.1111111111111111,
              "#46039f"
             ],
             [
              0.2222222222222222,
              "#7201a8"
             ],
             [
              0.3333333333333333,
              "#9c179e"
             ],
             [
              0.4444444444444444,
              "#bd3786"
             ],
             [
              0.5555555555555556,
              "#d8576b"
             ],
             [
              0.6666666666666666,
              "#ed7953"
             ],
             [
              0.7777777777777778,
              "#fb9f3a"
             ],
             [
              0.8888888888888888,
              "#fdca26"
             ],
             [
              1,
              "#f0f921"
             ]
            ],
            "type": "heatmapgl"
           }
          ],
          "histogram": [
           {
            "marker": {
             "pattern": {
              "fillmode": "overlay",
              "size": 10,
              "solidity": 0.2
             }
            },
            "type": "histogram"
           }
          ],
          "histogram2d": [
           {
            "colorbar": {
             "outlinewidth": 0,
             "ticks": ""
            },
            "colorscale": [
             [
              0,
              "#0d0887"
             ],
             [
              0.1111111111111111,
              "#46039f"
             ],
             [
              0.2222222222222222,
              "#7201a8"
             ],
             [
              0.3333333333333333,
              "#9c179e"
             ],
             [
              0.4444444444444444,
              "#bd3786"
             ],
             [
              0.5555555555555556,
              "#d8576b"
             ],
             [
              0.6666666666666666,
              "#ed7953"
             ],
             [
              0.7777777777777778,
              "#fb9f3a"
             ],
             [
              0.8888888888888888,
              "#fdca26"
             ],
             [
              1,
              "#f0f921"
             ]
            ],
            "type": "histogram2d"
           }
          ],
          "histogram2dcontour": [
           {
            "colorbar": {
             "outlinewidth": 0,
             "ticks": ""
            },
            "colorscale": [
             [
              0,
              "#0d0887"
             ],
             [
              0.1111111111111111,
              "#46039f"
             ],
             [
              0.2222222222222222,
              "#7201a8"
             ],
             [
              0.3333333333333333,
              "#9c179e"
             ],
             [
              0.4444444444444444,
              "#bd3786"
             ],
             [
              0.5555555555555556,
              "#d8576b"
             ],
             [
              0.6666666666666666,
              "#ed7953"
             ],
             [
              0.7777777777777778,
              "#fb9f3a"
             ],
             [
              0.8888888888888888,
              "#fdca26"
             ],
             [
              1,
              "#f0f921"
             ]
            ],
            "type": "histogram2dcontour"
           }
          ],
          "mesh3d": [
           {
            "colorbar": {
             "outlinewidth": 0,
             "ticks": ""
            },
            "type": "mesh3d"
           }
          ],
          "parcoords": [
           {
            "line": {
             "colorbar": {
              "outlinewidth": 0,
              "ticks": ""
             }
            },
            "type": "parcoords"
           }
          ],
          "pie": [
           {
            "automargin": true,
            "type": "pie"
           }
          ],
          "scatter": [
           {
            "fillpattern": {
             "fillmode": "overlay",
             "size": 10,
             "solidity": 0.2
            },
            "type": "scatter"
           }
          ],
          "scatter3d": [
           {
            "line": {
             "colorbar": {
              "outlinewidth": 0,
              "ticks": ""
             }
            },
            "marker": {
             "colorbar": {
              "outlinewidth": 0,
              "ticks": ""
             }
            },
            "type": "scatter3d"
           }
          ],
          "scattercarpet": [
           {
            "marker": {
             "colorbar": {
              "outlinewidth": 0,
              "ticks": ""
             }
            },
            "type": "scattercarpet"
           }
          ],
          "scattergeo": [
           {
            "marker": {
             "colorbar": {
              "outlinewidth": 0,
              "ticks": ""
             }
            },
            "type": "scattergeo"
           }
          ],
          "scattergl": [
           {
            "marker": {
             "colorbar": {
              "outlinewidth": 0,
              "ticks": ""
             }
            },
            "type": "scattergl"
           }
          ],
          "scattermapbox": [
           {
            "marker": {
             "colorbar": {
              "outlinewidth": 0,
              "ticks": ""
             }
            },
            "type": "scattermapbox"
           }
          ],
          "scatterpolar": [
           {
            "marker": {
             "colorbar": {
              "outlinewidth": 0,
              "ticks": ""
             }
            },
            "type": "scatterpolar"
           }
          ],
          "scatterpolargl": [
           {
            "marker": {
             "colorbar": {
              "outlinewidth": 0,
              "ticks": ""
             }
            },
            "type": "scatterpolargl"
           }
          ],
          "scatterternary": [
           {
            "marker": {
             "colorbar": {
              "outlinewidth": 0,
              "ticks": ""
             }
            },
            "type": "scatterternary"
           }
          ],
          "surface": [
           {
            "colorbar": {
             "outlinewidth": 0,
             "ticks": ""
            },
            "colorscale": [
             [
              0,
              "#0d0887"
             ],
             [
              0.1111111111111111,
              "#46039f"
             ],
             [
              0.2222222222222222,
              "#7201a8"
             ],
             [
              0.3333333333333333,
              "#9c179e"
             ],
             [
              0.4444444444444444,
              "#bd3786"
             ],
             [
              0.5555555555555556,
              "#d8576b"
             ],
             [
              0.6666666666666666,
              "#ed7953"
             ],
             [
              0.7777777777777778,
              "#fb9f3a"
             ],
             [
              0.8888888888888888,
              "#fdca26"
             ],
             [
              1,
              "#f0f921"
             ]
            ],
            "type": "surface"
           }
          ],
          "table": [
           {
            "cells": {
             "fill": {
              "color": "#EBF0F8"
             },
             "line": {
              "color": "white"
             }
            },
            "header": {
             "fill": {
              "color": "#C8D4E3"
             },
             "line": {
              "color": "white"
             }
            },
            "type": "table"
           }
          ]
         },
         "layout": {
          "annotationdefaults": {
           "arrowcolor": "#2a3f5f",
           "arrowhead": 0,
           "arrowwidth": 1
          },
          "autotypenumbers": "strict",
          "coloraxis": {
           "colorbar": {
            "outlinewidth": 0,
            "ticks": ""
           }
          },
          "colorscale": {
           "diverging": [
            [
             0,
             "#8e0152"
            ],
            [
             0.1,
             "#c51b7d"
            ],
            [
             0.2,
             "#de77ae"
            ],
            [
             0.3,
             "#f1b6da"
            ],
            [
             0.4,
             "#fde0ef"
            ],
            [
             0.5,
             "#f7f7f7"
            ],
            [
             0.6,
             "#e6f5d0"
            ],
            [
             0.7,
             "#b8e186"
            ],
            [
             0.8,
             "#7fbc41"
            ],
            [
             0.9,
             "#4d9221"
            ],
            [
             1,
             "#276419"
            ]
           ],
           "sequential": [
            [
             0,
             "#0d0887"
            ],
            [
             0.1111111111111111,
             "#46039f"
            ],
            [
             0.2222222222222222,
             "#7201a8"
            ],
            [
             0.3333333333333333,
             "#9c179e"
            ],
            [
             0.4444444444444444,
             "#bd3786"
            ],
            [
             0.5555555555555556,
             "#d8576b"
            ],
            [
             0.6666666666666666,
             "#ed7953"
            ],
            [
             0.7777777777777778,
             "#fb9f3a"
            ],
            [
             0.8888888888888888,
             "#fdca26"
            ],
            [
             1,
             "#f0f921"
            ]
           ],
           "sequentialminus": [
            [
             0,
             "#0d0887"
            ],
            [
             0.1111111111111111,
             "#46039f"
            ],
            [
             0.2222222222222222,
             "#7201a8"
            ],
            [
             0.3333333333333333,
             "#9c179e"
            ],
            [
             0.4444444444444444,
             "#bd3786"
            ],
            [
             0.5555555555555556,
             "#d8576b"
            ],
            [
             0.6666666666666666,
             "#ed7953"
            ],
            [
             0.7777777777777778,
             "#fb9f3a"
            ],
            [
             0.8888888888888888,
             "#fdca26"
            ],
            [
             1,
             "#f0f921"
            ]
           ]
          },
          "colorway": [
           "#636efa",
           "#EF553B",
           "#00cc96",
           "#ab63fa",
           "#FFA15A",
           "#19d3f3",
           "#FF6692",
           "#B6E880",
           "#FF97FF",
           "#FECB52"
          ],
          "font": {
           "color": "#2a3f5f"
          },
          "geo": {
           "bgcolor": "white",
           "lakecolor": "white",
           "landcolor": "#E5ECF6",
           "showlakes": true,
           "showland": true,
           "subunitcolor": "white"
          },
          "hoverlabel": {
           "align": "left"
          },
          "hovermode": "closest",
          "mapbox": {
           "style": "light"
          },
          "paper_bgcolor": "white",
          "plot_bgcolor": "#E5ECF6",
          "polar": {
           "angularaxis": {
            "gridcolor": "white",
            "linecolor": "white",
            "ticks": ""
           },
           "bgcolor": "#E5ECF6",
           "radialaxis": {
            "gridcolor": "white",
            "linecolor": "white",
            "ticks": ""
           }
          },
          "scene": {
           "xaxis": {
            "backgroundcolor": "#E5ECF6",
            "gridcolor": "white",
            "gridwidth": 2,
            "linecolor": "white",
            "showbackground": true,
            "ticks": "",
            "zerolinecolor": "white"
           },
           "yaxis": {
            "backgroundcolor": "#E5ECF6",
            "gridcolor": "white",
            "gridwidth": 2,
            "linecolor": "white",
            "showbackground": true,
            "ticks": "",
            "zerolinecolor": "white"
           },
           "zaxis": {
            "backgroundcolor": "#E5ECF6",
            "gridcolor": "white",
            "gridwidth": 2,
            "linecolor": "white",
            "showbackground": true,
            "ticks": "",
            "zerolinecolor": "white"
           }
          },
          "shapedefaults": {
           "line": {
            "color": "#2a3f5f"
           }
          },
          "ternary": {
           "aaxis": {
            "gridcolor": "white",
            "linecolor": "white",
            "ticks": ""
           },
           "baxis": {
            "gridcolor": "white",
            "linecolor": "white",
            "ticks": ""
           },
           "bgcolor": "#E5ECF6",
           "caxis": {
            "gridcolor": "white",
            "linecolor": "white",
            "ticks": ""
           }
          },
          "title": {
           "x": 0.05
          },
          "xaxis": {
           "automargin": true,
           "gridcolor": "white",
           "linecolor": "white",
           "ticks": "",
           "title": {
            "standoff": 15
           },
           "zerolinecolor": "white",
           "zerolinewidth": 2
          },
          "yaxis": {
           "automargin": true,
           "gridcolor": "white",
           "linecolor": "white",
           "ticks": "",
           "title": {
            "standoff": 15
           },
           "zerolinecolor": "white",
           "zerolinewidth": 2
          }
         }
        },
        "title": {
         "font": {
          "color": "#4D5663"
         }
        },
        "xaxis": {
         "gridcolor": "#E1E5ED",
         "showgrid": true,
         "tickfont": {
          "color": "#4D5663"
         },
         "title": {
          "font": {
           "color": "#4D5663"
          },
          "text": ""
         },
         "zerolinecolor": "#E1E5ED"
        },
        "yaxis": {
         "gridcolor": "#E1E5ED",
         "showgrid": true,
         "tickfont": {
          "color": "#4D5663"
         },
         "title": {
          "font": {
           "color": "#4D5663"
          },
          "text": ""
         },
         "zerolinecolor": "#E1E5ED"
        }
       }
      },
      "text/html": [
       "<div>                            <div id=\"ba7776a2-62e8-4925-b896-e2178b31f54e\" class=\"plotly-graph-div\" style=\"height:525px; width:100%;\"></div>            <script type=\"text/javascript\">                require([\"plotly\"], function(Plotly) {                    window.PLOTLYENV=window.PLOTLYENV || {};\n",
       "                    window.PLOTLYENV.BASE_URL='https://plot.ly';                                    if (document.getElementById(\"ba7776a2-62e8-4925-b896-e2178b31f54e\")) {                    Plotly.newPlot(                        \"ba7776a2-62e8-4925-b896-e2178b31f54e\",                        [{\"colorscale\":[[0.0,\"rgb(255, 153, 51)\"],[0.1111111111111111,\"rgb(55, 128, 191)\"],[0.2222222222222222,\"rgb(50, 171, 96)\"],[0.3333333333333333,\"rgb(128, 0, 128)\"],[0.4444444444444444,\"rgb(219, 64, 82)\"],[0.5555555555555556,\"rgb(0, 128, 128)\"],[0.6666666666666666,\"rgb(255, 255, 51)\"],[0.7777777777777778,\"rgb(128, 128, 0)\"],[0.8888888888888888,\"rgb(251, 128, 114)\"],[1.0,\"rgb(128, 177, 211)\"]],\"x\":[0,1,2,3,4,5,6,7,8,9,10,11,12,13,14,15,16,17,18,19,20,21,22,23,24,25,26,27,28,29,30,31,32,33,34,35,36,37,38,39,40,41,42,43,44,45,46,47,48,49,50,51,52,53,54,55,56,57,58,59,60,61,62,63,64,65,66,67,68,69,70,71,72,73,74,75,76,77,78,79,80,81,82,83,84,85,86,87,88,89,90,91,92,93,94,95,96,97,98,99],\"y\":[\"A\",\"B\",\"C\"],\"z\":[[1.2011770764175393,4.41271447742346,9.512312024132667,15.572260439872618,20.37759530218809,24.772379800892026,29.014334555166954,34.715517866634244,41.89971070324318,52.75071320488135,66.8159478994062,82.4087346611642,99.0248623102894,115.82682839505355,133.172728792206,150.71429687634787,168.1377636736314,186.9249253604786,208.1099484134743,232.24184338762552,258.4003304186169,287.7334930571479,319.6892915550542,354.1864575252967,391.5542580403122,431.9740828518308,475.77763365964887,524.4145909501407,577.2617086740322,633.6937598883898,693.9628926901304,757.6672579417794,825.1808025127283,896.4389616677894,971.6182972948069,1051.4255135182643,1136.323497667834,1226.991315313331,1323.2922188216153,1423.9805474765562,1528.8220363543544,1638.4292484119585,1753.5105267623562,1874.3765413747765,2002.027944760073,2135.4435918091067,2274.229831896885,2418.27439730924,2568.9073328405207,2725.593153539166,2889.21986424827,3058.6362950546995,3233.7282448052492,3415.118777966568,3602.6328524282503,3798.426876744889,4001.9646944730293,4213.103849736518,4432.0130273260975,4656.784796569372,4886.214966168782,5118.26609835616,5352.736980196992,5589.356841147192,5829.03009806599,6071.930956557698,6319.667564588878,6573.502643711347,6834.990924297694,7104.547837641887,7381.996440866641,7666.041954411482,7957.829451508876,8257.282359328523,8562.856393476095,8874.529724162929,9190.985288890235,9512.747712106882,9840.764688544663,10173.803797357377,10512.811896891657,10858.429257514308,11209.902364517557,11565.881047861916,11927.75681065589,12294.87318641079,12669.469643313772,13051.003955222815,13437.818923252651,13828.725994792647,14224.012037540344,14623.28486309213,15025.822959884654,15431.685603063548,15841.935683272899,16255.278946450622,16670.05598679232,17085.851398283346,17501.02697477791,17916.31312009843],[0.6276277659125329,0.6431866670966653,-0.3361067147157304,-2.75508911708918,-6.940228154795096,-12.959082236799912,-20.47091559089519,-31.348817626633497,-46.085351309033626,-62.97265531175384,-82.16613012871865,-102.91959598539347,-125.07153671178767,-148.56920402567025,-173.03153101336534,-199.3728111324102,-227.68012982649452,-257.2121591045985,-288.1339284626461,-320.4439181455277,-354.6144511958809,-389.94632799402,-426.51274319077345,-465.44512749923956,-505.7167334724851,-546.9758992552654,-589.7239837644805,-633.5336821603908,-677.9944467621705,-722.5879570858474,-768.6113848463532,-814.956547661377,-860.7904271443766,-905.021345957151,-947.7291788580013,-987.4357648037748,-1022.9756775606678,-1053.6150251305091,-1079.6574126827134,-1100.6656587532675,-1118.1854155173821,-1131.9188318105655,-1142.1498283194217,-1150.2652845130972,-1156.3841310779164,-1159.8328153005111,-1160.144676060033,-1155.5480642679813,-1145.3426167793166,-1130.1356273400233,-1109.4687487838187,-1082.0882680036855,-1045.9977055091615,-1002.7960643876343,-950.6111062842301,-889.1126509857414,-817.1678655477043,-734.7463866824284,-642.5224701714515,-541.3097581487989,-430.21810526200613,-309.0321420450349,-178.35597843285692,-37.83558732845603,111.45623215562821,268.34522637926614,431.46553009694685,602.0388199422246,779.9608684425469,967.0261941483624,1164.3823273792275,1372.0200401457994,1589.3555961645197,1815.8283783052323,2050.6589207187367,2293.410886122764,2543.870993378913,2801.5238360716926,3067.962869373556,3343.587006130028,3628.9091636363783,3924.846658844929,4232.15550910688,4549.202476151565,4875.124122216899,5211.990517080619,5558.927249554793,5915.317449934851,6280.431206600094,6654.576048975112,7038.567706846171,7432.649740882929,7836.25328999249,8251.726220913539,8678.272174692202,9117.260193287611,9569.199306113102,10035.39606944763,10515.93191250344,11010.055514858559],[0.5349870806538379,1.1462716857378334,2.6245560042430225,3.6697376650186366,5.680340664212876,7.052376858057731,7.365637957861927,7.240090217119429,5.308192557489496,2.100622142056693,-2.6021981222672927,-9.44802010598626,-18.955289549379366,-29.417094934209942,-40.96729450714767,-53.502954861388254,-67.89540046873066,-86.6698733641632,-111.5520016062003,-139.84143346062626,-172.13726600797818,-210.08170272486805,-253.12238782411563,-299.0810294914378,-350.118651759784,-407.28218327407933,-470.80047694897,-540.9355898796309,-617.1281264673502,-699.7128648873804,-790.6046992703946,-888.9901622521421,-994.5129254378144,-1109.157491248192,-1231.484668458213,-1360.9435428098602,-1495.5330302703562,-1635.188223923193,-1779.0044864516017,-1929.475166043564,-2085.50993857592,-2244.4026103557107,-2407.06611136583,-2570.87184097781,-2735.937006789521,-2902.765940904719,-3072.053862856275,-3242.097815494343,-3411.5584435903343,-3578.4188389407022,-3742.9085649751287,-3906.605225752303,-4068.261094685875,-4227.877334702038,-4386.846920703218,-4545.6087009609455,-4705.240592137499,-4864.661994193907,-5023.6244568380625,-5182.00687204275,-5338.948271317355,-5495.620742900226,-5653.426819444314,-5811.844763490173,-5972.845918116022,-6135.528365720558,-6300.012613591025,-6465.304770119482,-6631.26264829671,-6796.998241950629,-6964.406993628973,-7133.468300373127,-7304.242574728015,-7479.613276071517,-7659.952310738288,-7845.6383493024805,-8037.292090507112,-8236.199883668796,-8442.694851438058,-8656.517683577043,-8876.959058133552,-9102.145592139488,-9332.383603737982,-9567.01596177196,-9807.1765110558,-10053.16984814591,-10304.795937141527,-10562.69028991868,-10828.257890207055,-11101.160875186737,-11382.10409306736,-11670.406254678126,-11966.778620494777,-12268.976662681462,-12576.798763309973,-12890.972296757316,-13212.241690405934,-13540.157654816447,-13874.282909417514,-14215.753133893699]],\"type\":\"surface\"}],                        {\"legend\":{\"bgcolor\":\"#F5F6F9\",\"font\":{\"color\":\"#4D5663\"}},\"paper_bgcolor\":\"#F5F6F9\",\"plot_bgcolor\":\"#F5F6F9\",\"template\":{\"data\":{\"barpolar\":[{\"marker\":{\"line\":{\"color\":\"#E5ECF6\",\"width\":0.5},\"pattern\":{\"fillmode\":\"overlay\",\"size\":10,\"solidity\":0.2}},\"type\":\"barpolar\"}],\"bar\":[{\"error_x\":{\"color\":\"#2a3f5f\"},\"error_y\":{\"color\":\"#2a3f5f\"},\"marker\":{\"line\":{\"color\":\"#E5ECF6\",\"width\":0.5},\"pattern\":{\"fillmode\":\"overlay\",\"size\":10,\"solidity\":0.2}},\"type\":\"bar\"}],\"carpet\":[{\"aaxis\":{\"endlinecolor\":\"#2a3f5f\",\"gridcolor\":\"white\",\"linecolor\":\"white\",\"minorgridcolor\":\"white\",\"startlinecolor\":\"#2a3f5f\"},\"baxis\":{\"endlinecolor\":\"#2a3f5f\",\"gridcolor\":\"white\",\"linecolor\":\"white\",\"minorgridcolor\":\"white\",\"startlinecolor\":\"#2a3f5f\"},\"type\":\"carpet\"}],\"choropleth\":[{\"colorbar\":{\"outlinewidth\":0,\"ticks\":\"\"},\"type\":\"choropleth\"}],\"contourcarpet\":[{\"colorbar\":{\"outlinewidth\":0,\"ticks\":\"\"},\"type\":\"contourcarpet\"}],\"contour\":[{\"colorbar\":{\"outlinewidth\":0,\"ticks\":\"\"},\"colorscale\":[[0.0,\"#0d0887\"],[0.1111111111111111,\"#46039f\"],[0.2222222222222222,\"#7201a8\"],[0.3333333333333333,\"#9c179e\"],[0.4444444444444444,\"#bd3786\"],[0.5555555555555556,\"#d8576b\"],[0.6666666666666666,\"#ed7953\"],[0.7777777777777778,\"#fb9f3a\"],[0.8888888888888888,\"#fdca26\"],[1.0,\"#f0f921\"]],\"type\":\"contour\"}],\"heatmapgl\":[{\"colorbar\":{\"outlinewidth\":0,\"ticks\":\"\"},\"colorscale\":[[0.0,\"#0d0887\"],[0.1111111111111111,\"#46039f\"],[0.2222222222222222,\"#7201a8\"],[0.3333333333333333,\"#9c179e\"],[0.4444444444444444,\"#bd3786\"],[0.5555555555555556,\"#d8576b\"],[0.6666666666666666,\"#ed7953\"],[0.7777777777777778,\"#fb9f3a\"],[0.8888888888888888,\"#fdca26\"],[1.0,\"#f0f921\"]],\"type\":\"heatmapgl\"}],\"heatmap\":[{\"colorbar\":{\"outlinewidth\":0,\"ticks\":\"\"},\"colorscale\":[[0.0,\"#0d0887\"],[0.1111111111111111,\"#46039f\"],[0.2222222222222222,\"#7201a8\"],[0.3333333333333333,\"#9c179e\"],[0.4444444444444444,\"#bd3786\"],[0.5555555555555556,\"#d8576b\"],[0.6666666666666666,\"#ed7953\"],[0.7777777777777778,\"#fb9f3a\"],[0.8888888888888888,\"#fdca26\"],[1.0,\"#f0f921\"]],\"type\":\"heatmap\"}],\"histogram2dcontour\":[{\"colorbar\":{\"outlinewidth\":0,\"ticks\":\"\"},\"colorscale\":[[0.0,\"#0d0887\"],[0.1111111111111111,\"#46039f\"],[0.2222222222222222,\"#7201a8\"],[0.3333333333333333,\"#9c179e\"],[0.4444444444444444,\"#bd3786\"],[0.5555555555555556,\"#d8576b\"],[0.6666666666666666,\"#ed7953\"],[0.7777777777777778,\"#fb9f3a\"],[0.8888888888888888,\"#fdca26\"],[1.0,\"#f0f921\"]],\"type\":\"histogram2dcontour\"}],\"histogram2d\":[{\"colorbar\":{\"outlinewidth\":0,\"ticks\":\"\"},\"colorscale\":[[0.0,\"#0d0887\"],[0.1111111111111111,\"#46039f\"],[0.2222222222222222,\"#7201a8\"],[0.3333333333333333,\"#9c179e\"],[0.4444444444444444,\"#bd3786\"],[0.5555555555555556,\"#d8576b\"],[0.6666666666666666,\"#ed7953\"],[0.7777777777777778,\"#fb9f3a\"],[0.8888888888888888,\"#fdca26\"],[1.0,\"#f0f921\"]],\"type\":\"histogram2d\"}],\"histogram\":[{\"marker\":{\"pattern\":{\"fillmode\":\"overlay\",\"size\":10,\"solidity\":0.2}},\"type\":\"histogram\"}],\"mesh3d\":[{\"colorbar\":{\"outlinewidth\":0,\"ticks\":\"\"},\"type\":\"mesh3d\"}],\"parcoords\":[{\"line\":{\"colorbar\":{\"outlinewidth\":0,\"ticks\":\"\"}},\"type\":\"parcoords\"}],\"pie\":[{\"automargin\":true,\"type\":\"pie\"}],\"scatter3d\":[{\"line\":{\"colorbar\":{\"outlinewidth\":0,\"ticks\":\"\"}},\"marker\":{\"colorbar\":{\"outlinewidth\":0,\"ticks\":\"\"}},\"type\":\"scatter3d\"}],\"scattercarpet\":[{\"marker\":{\"colorbar\":{\"outlinewidth\":0,\"ticks\":\"\"}},\"type\":\"scattercarpet\"}],\"scattergeo\":[{\"marker\":{\"colorbar\":{\"outlinewidth\":0,\"ticks\":\"\"}},\"type\":\"scattergeo\"}],\"scattergl\":[{\"marker\":{\"colorbar\":{\"outlinewidth\":0,\"ticks\":\"\"}},\"type\":\"scattergl\"}],\"scattermapbox\":[{\"marker\":{\"colorbar\":{\"outlinewidth\":0,\"ticks\":\"\"}},\"type\":\"scattermapbox\"}],\"scatterpolargl\":[{\"marker\":{\"colorbar\":{\"outlinewidth\":0,\"ticks\":\"\"}},\"type\":\"scatterpolargl\"}],\"scatterpolar\":[{\"marker\":{\"colorbar\":{\"outlinewidth\":0,\"ticks\":\"\"}},\"type\":\"scatterpolar\"}],\"scatter\":[{\"fillpattern\":{\"fillmode\":\"overlay\",\"size\":10,\"solidity\":0.2},\"type\":\"scatter\"}],\"scatterternary\":[{\"marker\":{\"colorbar\":{\"outlinewidth\":0,\"ticks\":\"\"}},\"type\":\"scatterternary\"}],\"surface\":[{\"colorbar\":{\"outlinewidth\":0,\"ticks\":\"\"},\"colorscale\":[[0.0,\"#0d0887\"],[0.1111111111111111,\"#46039f\"],[0.2222222222222222,\"#7201a8\"],[0.3333333333333333,\"#9c179e\"],[0.4444444444444444,\"#bd3786\"],[0.5555555555555556,\"#d8576b\"],[0.6666666666666666,\"#ed7953\"],[0.7777777777777778,\"#fb9f3a\"],[0.8888888888888888,\"#fdca26\"],[1.0,\"#f0f921\"]],\"type\":\"surface\"}],\"table\":[{\"cells\":{\"fill\":{\"color\":\"#EBF0F8\"},\"line\":{\"color\":\"white\"}},\"header\":{\"fill\":{\"color\":\"#C8D4E3\"},\"line\":{\"color\":\"white\"}},\"type\":\"table\"}]},\"layout\":{\"annotationdefaults\":{\"arrowcolor\":\"#2a3f5f\",\"arrowhead\":0,\"arrowwidth\":1},\"autotypenumbers\":\"strict\",\"coloraxis\":{\"colorbar\":{\"outlinewidth\":0,\"ticks\":\"\"}},\"colorscale\":{\"diverging\":[[0,\"#8e0152\"],[0.1,\"#c51b7d\"],[0.2,\"#de77ae\"],[0.3,\"#f1b6da\"],[0.4,\"#fde0ef\"],[0.5,\"#f7f7f7\"],[0.6,\"#e6f5d0\"],[0.7,\"#b8e186\"],[0.8,\"#7fbc41\"],[0.9,\"#4d9221\"],[1,\"#276419\"]],\"sequential\":[[0.0,\"#0d0887\"],[0.1111111111111111,\"#46039f\"],[0.2222222222222222,\"#7201a8\"],[0.3333333333333333,\"#9c179e\"],[0.4444444444444444,\"#bd3786\"],[0.5555555555555556,\"#d8576b\"],[0.6666666666666666,\"#ed7953\"],[0.7777777777777778,\"#fb9f3a\"],[0.8888888888888888,\"#fdca26\"],[1.0,\"#f0f921\"]],\"sequentialminus\":[[0.0,\"#0d0887\"],[0.1111111111111111,\"#46039f\"],[0.2222222222222222,\"#7201a8\"],[0.3333333333333333,\"#9c179e\"],[0.4444444444444444,\"#bd3786\"],[0.5555555555555556,\"#d8576b\"],[0.6666666666666666,\"#ed7953\"],[0.7777777777777778,\"#fb9f3a\"],[0.8888888888888888,\"#fdca26\"],[1.0,\"#f0f921\"]]},\"colorway\":[\"#636efa\",\"#EF553B\",\"#00cc96\",\"#ab63fa\",\"#FFA15A\",\"#19d3f3\",\"#FF6692\",\"#B6E880\",\"#FF97FF\",\"#FECB52\"],\"font\":{\"color\":\"#2a3f5f\"},\"geo\":{\"bgcolor\":\"white\",\"lakecolor\":\"white\",\"landcolor\":\"#E5ECF6\",\"showlakes\":true,\"showland\":true,\"subunitcolor\":\"white\"},\"hoverlabel\":{\"align\":\"left\"},\"hovermode\":\"closest\",\"mapbox\":{\"style\":\"light\"},\"paper_bgcolor\":\"white\",\"plot_bgcolor\":\"#E5ECF6\",\"polar\":{\"angularaxis\":{\"gridcolor\":\"white\",\"linecolor\":\"white\",\"ticks\":\"\"},\"bgcolor\":\"#E5ECF6\",\"radialaxis\":{\"gridcolor\":\"white\",\"linecolor\":\"white\",\"ticks\":\"\"}},\"scene\":{\"xaxis\":{\"backgroundcolor\":\"#E5ECF6\",\"gridcolor\":\"white\",\"gridwidth\":2,\"linecolor\":\"white\",\"showbackground\":true,\"ticks\":\"\",\"zerolinecolor\":\"white\"},\"yaxis\":{\"backgroundcolor\":\"#E5ECF6\",\"gridcolor\":\"white\",\"gridwidth\":2,\"linecolor\":\"white\",\"showbackground\":true,\"ticks\":\"\",\"zerolinecolor\":\"white\"},\"zaxis\":{\"backgroundcolor\":\"#E5ECF6\",\"gridcolor\":\"white\",\"gridwidth\":2,\"linecolor\":\"white\",\"showbackground\":true,\"ticks\":\"\",\"zerolinecolor\":\"white\"}},\"shapedefaults\":{\"line\":{\"color\":\"#2a3f5f\"}},\"ternary\":{\"aaxis\":{\"gridcolor\":\"white\",\"linecolor\":\"white\",\"ticks\":\"\"},\"baxis\":{\"gridcolor\":\"white\",\"linecolor\":\"white\",\"ticks\":\"\"},\"bgcolor\":\"#E5ECF6\",\"caxis\":{\"gridcolor\":\"white\",\"linecolor\":\"white\",\"ticks\":\"\"}},\"title\":{\"x\":0.05},\"xaxis\":{\"automargin\":true,\"gridcolor\":\"white\",\"linecolor\":\"white\",\"ticks\":\"\",\"title\":{\"standoff\":15},\"zerolinecolor\":\"white\",\"zerolinewidth\":2},\"yaxis\":{\"automargin\":true,\"gridcolor\":\"white\",\"linecolor\":\"white\",\"ticks\":\"\",\"title\":{\"standoff\":15},\"zerolinecolor\":\"white\",\"zerolinewidth\":2}}},\"title\":{\"font\":{\"color\":\"#4D5663\"}},\"xaxis\":{\"gridcolor\":\"#E1E5ED\",\"showgrid\":true,\"tickfont\":{\"color\":\"#4D5663\"},\"title\":{\"font\":{\"color\":\"#4D5663\"},\"text\":\"\"},\"zerolinecolor\":\"#E1E5ED\"},\"yaxis\":{\"gridcolor\":\"#E1E5ED\",\"showgrid\":true,\"tickfont\":{\"color\":\"#4D5663\"},\"title\":{\"font\":{\"color\":\"#4D5663\"},\"text\":\"\"},\"zerolinecolor\":\"#E1E5ED\"}},                        {\"showLink\": true, \"linkText\": \"Export to plot.ly\", \"plotlyServerURL\": \"https://plot.ly\", \"responsive\": true}                    ).then(function(){\n",
       "                            \n",
       "var gd = document.getElementById('ba7776a2-62e8-4925-b896-e2178b31f54e');\n",
       "var x = new MutationObserver(function (mutations, observer) {{\n",
       "        var display = window.getComputedStyle(gd).display;\n",
       "        if (!display || display === 'none') {{\n",
       "            console.log([gd, 'removed!']);\n",
       "            Plotly.purge(gd);\n",
       "            observer.disconnect();\n",
       "        }}\n",
       "}});\n",
       "\n",
       "// Listen for the removal of the full notebook cells\n",
       "var notebookContainer = gd.closest('#notebook-container');\n",
       "if (notebookContainer) {{\n",
       "    x.observe(notebookContainer, {childList: true});\n",
       "}}\n",
       "\n",
       "// Listen for the clearing of the current output cell\n",
       "var outputEl = gd.closest('.output');\n",
       "if (outputEl) {{\n",
       "    x.observe(outputEl, {childList: true});\n",
       "}}\n",
       "\n",
       "                        })                };                });            </script>        </div>"
      ]
     },
     "metadata": {},
     "output_type": "display_data"
    }
   ],
   "source": [
    "df.iplot(kind = 'surface')"
   ]
  },
  {
   "cell_type": "code",
   "execution_count": 28,
   "id": "6f68bff1",
   "metadata": {},
   "outputs": [
    {
     "data": {
      "application/vnd.plotly.v1+json": {
       "config": {
        "linkText": "Export to plot.ly",
        "plotlyServerURL": "https://plot.ly",
        "showLink": true
       },
       "data": [
        {
         "colorscale": [
          [
           0,
           "rgb(165,0,38)"
          ],
          [
           0.1,
           "rgb(215,48,39)"
          ],
          [
           0.2,
           "rgb(244,109,67)"
          ],
          [
           0.3,
           "rgb(253,174,97)"
          ],
          [
           0.4,
           "rgb(254,224,144)"
          ],
          [
           0.5,
           "rgb(255,255,191)"
          ],
          [
           0.6,
           "rgb(224,243,248)"
          ],
          [
           0.7,
           "rgb(171,217,233)"
          ],
          [
           0.8,
           "rgb(116,173,209)"
          ],
          [
           0.9,
           "rgb(69,117,180)"
          ],
          [
           1,
           "rgb(49,54,149)"
          ]
         ],
         "type": "surface",
         "x": [
          0,
          1,
          2,
          3,
          4,
          5,
          6,
          7,
          8,
          9,
          10,
          11,
          12,
          13,
          14,
          15,
          16,
          17,
          18,
          19,
          20,
          21,
          22,
          23,
          24,
          25,
          26,
          27,
          28,
          29,
          30,
          31,
          32,
          33,
          34,
          35,
          36,
          37,
          38,
          39,
          40,
          41,
          42,
          43,
          44,
          45,
          46,
          47,
          48,
          49,
          50,
          51,
          52,
          53,
          54,
          55,
          56,
          57,
          58,
          59,
          60,
          61,
          62,
          63,
          64,
          65,
          66,
          67,
          68,
          69,
          70,
          71,
          72,
          73,
          74,
          75,
          76,
          77,
          78,
          79,
          80,
          81,
          82,
          83,
          84,
          85,
          86,
          87,
          88,
          89,
          90,
          91,
          92,
          93,
          94,
          95,
          96,
          97,
          98,
          99
         ],
         "y": [
          "A",
          "B",
          "C"
         ],
         "z": [
          [
           1.2011770764175393,
           4.41271447742346,
           9.512312024132667,
           15.572260439872618,
           20.37759530218809,
           24.772379800892026,
           29.014334555166954,
           34.715517866634244,
           41.89971070324318,
           52.75071320488135,
           66.8159478994062,
           82.4087346611642,
           99.0248623102894,
           115.82682839505355,
           133.172728792206,
           150.71429687634787,
           168.1377636736314,
           186.9249253604786,
           208.1099484134743,
           232.24184338762552,
           258.4003304186169,
           287.7334930571479,
           319.6892915550542,
           354.1864575252967,
           391.5542580403122,
           431.9740828518308,
           475.77763365964887,
           524.4145909501407,
           577.2617086740322,
           633.6937598883898,
           693.9628926901304,
           757.6672579417794,
           825.1808025127283,
           896.4389616677894,
           971.6182972948069,
           1051.4255135182643,
           1136.323497667834,
           1226.991315313331,
           1323.2922188216153,
           1423.9805474765562,
           1528.8220363543544,
           1638.4292484119585,
           1753.5105267623562,
           1874.3765413747765,
           2002.027944760073,
           2135.4435918091067,
           2274.229831896885,
           2418.27439730924,
           2568.9073328405207,
           2725.593153539166,
           2889.21986424827,
           3058.6362950546995,
           3233.7282448052492,
           3415.118777966568,
           3602.6328524282503,
           3798.426876744889,
           4001.9646944730293,
           4213.103849736518,
           4432.0130273260975,
           4656.784796569372,
           4886.214966168782,
           5118.26609835616,
           5352.736980196992,
           5589.356841147192,
           5829.03009806599,
           6071.930956557698,
           6319.667564588878,
           6573.502643711347,
           6834.990924297694,
           7104.547837641887,
           7381.996440866641,
           7666.041954411482,
           7957.829451508876,
           8257.282359328523,
           8562.856393476095,
           8874.529724162929,
           9190.985288890235,
           9512.747712106882,
           9840.764688544663,
           10173.803797357377,
           10512.811896891657,
           10858.429257514308,
           11209.902364517557,
           11565.881047861916,
           11927.75681065589,
           12294.87318641079,
           12669.469643313772,
           13051.003955222815,
           13437.818923252651,
           13828.725994792647,
           14224.012037540344,
           14623.28486309213,
           15025.822959884654,
           15431.685603063548,
           15841.935683272899,
           16255.278946450622,
           16670.05598679232,
           17085.851398283346,
           17501.02697477791,
           17916.31312009843
          ],
          [
           0.6276277659125329,
           0.6431866670966653,
           -0.3361067147157304,
           -2.75508911708918,
           -6.940228154795096,
           -12.959082236799912,
           -20.47091559089519,
           -31.348817626633497,
           -46.085351309033626,
           -62.97265531175384,
           -82.16613012871865,
           -102.91959598539347,
           -125.07153671178767,
           -148.56920402567025,
           -173.03153101336534,
           -199.3728111324102,
           -227.68012982649452,
           -257.2121591045985,
           -288.1339284626461,
           -320.4439181455277,
           -354.6144511958809,
           -389.94632799402,
           -426.51274319077345,
           -465.44512749923956,
           -505.7167334724851,
           -546.9758992552654,
           -589.7239837644805,
           -633.5336821603908,
           -677.9944467621705,
           -722.5879570858474,
           -768.6113848463532,
           -814.956547661377,
           -860.7904271443766,
           -905.021345957151,
           -947.7291788580013,
           -987.4357648037748,
           -1022.9756775606678,
           -1053.6150251305091,
           -1079.6574126827134,
           -1100.6656587532675,
           -1118.1854155173821,
           -1131.9188318105655,
           -1142.1498283194217,
           -1150.2652845130972,
           -1156.3841310779164,
           -1159.8328153005111,
           -1160.144676060033,
           -1155.5480642679813,
           -1145.3426167793166,
           -1130.1356273400233,
           -1109.4687487838187,
           -1082.0882680036855,
           -1045.9977055091615,
           -1002.7960643876343,
           -950.6111062842301,
           -889.1126509857414,
           -817.1678655477043,
           -734.7463866824284,
           -642.5224701714515,
           -541.3097581487989,
           -430.21810526200613,
           -309.0321420450349,
           -178.35597843285692,
           -37.83558732845603,
           111.45623215562821,
           268.34522637926614,
           431.46553009694685,
           602.0388199422246,
           779.9608684425469,
           967.0261941483624,
           1164.3823273792275,
           1372.0200401457994,
           1589.3555961645197,
           1815.8283783052323,
           2050.6589207187367,
           2293.410886122764,
           2543.870993378913,
           2801.5238360716926,
           3067.962869373556,
           3343.587006130028,
           3628.9091636363783,
           3924.846658844929,
           4232.15550910688,
           4549.202476151565,
           4875.124122216899,
           5211.990517080619,
           5558.927249554793,
           5915.317449934851,
           6280.431206600094,
           6654.576048975112,
           7038.567706846171,
           7432.649740882929,
           7836.25328999249,
           8251.726220913539,
           8678.272174692202,
           9117.260193287611,
           9569.199306113102,
           10035.39606944763,
           10515.93191250344,
           11010.055514858559
          ],
          [
           0.5349870806538379,
           1.1462716857378334,
           2.6245560042430225,
           3.6697376650186366,
           5.680340664212876,
           7.052376858057731,
           7.365637957861927,
           7.240090217119429,
           5.308192557489496,
           2.100622142056693,
           -2.6021981222672927,
           -9.44802010598626,
           -18.955289549379366,
           -29.417094934209942,
           -40.96729450714767,
           -53.502954861388254,
           -67.89540046873066,
           -86.6698733641632,
           -111.5520016062003,
           -139.84143346062626,
           -172.13726600797818,
           -210.08170272486805,
           -253.12238782411563,
           -299.0810294914378,
           -350.118651759784,
           -407.28218327407933,
           -470.80047694897,
           -540.9355898796309,
           -617.1281264673502,
           -699.7128648873804,
           -790.6046992703946,
           -888.9901622521421,
           -994.5129254378144,
           -1109.157491248192,
           -1231.484668458213,
           -1360.9435428098602,
           -1495.5330302703562,
           -1635.188223923193,
           -1779.0044864516017,
           -1929.475166043564,
           -2085.50993857592,
           -2244.4026103557107,
           -2407.06611136583,
           -2570.87184097781,
           -2735.937006789521,
           -2902.765940904719,
           -3072.053862856275,
           -3242.097815494343,
           -3411.5584435903343,
           -3578.4188389407022,
           -3742.9085649751287,
           -3906.605225752303,
           -4068.261094685875,
           -4227.877334702038,
           -4386.846920703218,
           -4545.6087009609455,
           -4705.240592137499,
           -4864.661994193907,
           -5023.6244568380625,
           -5182.00687204275,
           -5338.948271317355,
           -5495.620742900226,
           -5653.426819444314,
           -5811.844763490173,
           -5972.845918116022,
           -6135.528365720558,
           -6300.012613591025,
           -6465.304770119482,
           -6631.26264829671,
           -6796.998241950629,
           -6964.406993628973,
           -7133.468300373127,
           -7304.242574728015,
           -7479.613276071517,
           -7659.952310738288,
           -7845.6383493024805,
           -8037.292090507112,
           -8236.199883668796,
           -8442.694851438058,
           -8656.517683577043,
           -8876.959058133552,
           -9102.145592139488,
           -9332.383603737982,
           -9567.01596177196,
           -9807.1765110558,
           -10053.16984814591,
           -10304.795937141527,
           -10562.69028991868,
           -10828.257890207055,
           -11101.160875186737,
           -11382.10409306736,
           -11670.406254678126,
           -11966.778620494777,
           -12268.976662681462,
           -12576.798763309973,
           -12890.972296757316,
           -13212.241690405934,
           -13540.157654816447,
           -13874.282909417514,
           -14215.753133893699
          ]
         ]
        }
       ],
       "layout": {
        "legend": {
         "bgcolor": "#F5F6F9",
         "font": {
          "color": "#4D5663"
         }
        },
        "paper_bgcolor": "#F5F6F9",
        "plot_bgcolor": "#F5F6F9",
        "template": {
         "data": {
          "bar": [
           {
            "error_x": {
             "color": "#2a3f5f"
            },
            "error_y": {
             "color": "#2a3f5f"
            },
            "marker": {
             "line": {
              "color": "#E5ECF6",
              "width": 0.5
             },
             "pattern": {
              "fillmode": "overlay",
              "size": 10,
              "solidity": 0.2
             }
            },
            "type": "bar"
           }
          ],
          "barpolar": [
           {
            "marker": {
             "line": {
              "color": "#E5ECF6",
              "width": 0.5
             },
             "pattern": {
              "fillmode": "overlay",
              "size": 10,
              "solidity": 0.2
             }
            },
            "type": "barpolar"
           }
          ],
          "carpet": [
           {
            "aaxis": {
             "endlinecolor": "#2a3f5f",
             "gridcolor": "white",
             "linecolor": "white",
             "minorgridcolor": "white",
             "startlinecolor": "#2a3f5f"
            },
            "baxis": {
             "endlinecolor": "#2a3f5f",
             "gridcolor": "white",
             "linecolor": "white",
             "minorgridcolor": "white",
             "startlinecolor": "#2a3f5f"
            },
            "type": "carpet"
           }
          ],
          "choropleth": [
           {
            "colorbar": {
             "outlinewidth": 0,
             "ticks": ""
            },
            "type": "choropleth"
           }
          ],
          "contour": [
           {
            "colorbar": {
             "outlinewidth": 0,
             "ticks": ""
            },
            "colorscale": [
             [
              0,
              "#0d0887"
             ],
             [
              0.1111111111111111,
              "#46039f"
             ],
             [
              0.2222222222222222,
              "#7201a8"
             ],
             [
              0.3333333333333333,
              "#9c179e"
             ],
             [
              0.4444444444444444,
              "#bd3786"
             ],
             [
              0.5555555555555556,
              "#d8576b"
             ],
             [
              0.6666666666666666,
              "#ed7953"
             ],
             [
              0.7777777777777778,
              "#fb9f3a"
             ],
             [
              0.8888888888888888,
              "#fdca26"
             ],
             [
              1,
              "#f0f921"
             ]
            ],
            "type": "contour"
           }
          ],
          "contourcarpet": [
           {
            "colorbar": {
             "outlinewidth": 0,
             "ticks": ""
            },
            "type": "contourcarpet"
           }
          ],
          "heatmap": [
           {
            "colorbar": {
             "outlinewidth": 0,
             "ticks": ""
            },
            "colorscale": [
             [
              0,
              "#0d0887"
             ],
             [
              0.1111111111111111,
              "#46039f"
             ],
             [
              0.2222222222222222,
              "#7201a8"
             ],
             [
              0.3333333333333333,
              "#9c179e"
             ],
             [
              0.4444444444444444,
              "#bd3786"
             ],
             [
              0.5555555555555556,
              "#d8576b"
             ],
             [
              0.6666666666666666,
              "#ed7953"
             ],
             [
              0.7777777777777778,
              "#fb9f3a"
             ],
             [
              0.8888888888888888,
              "#fdca26"
             ],
             [
              1,
              "#f0f921"
             ]
            ],
            "type": "heatmap"
           }
          ],
          "heatmapgl": [
           {
            "colorbar": {
             "outlinewidth": 0,
             "ticks": ""
            },
            "colorscale": [
             [
              0,
              "#0d0887"
             ],
             [
              0.1111111111111111,
              "#46039f"
             ],
             [
              0.2222222222222222,
              "#7201a8"
             ],
             [
              0.3333333333333333,
              "#9c179e"
             ],
             [
              0.4444444444444444,
              "#bd3786"
             ],
             [
              0.5555555555555556,
              "#d8576b"
             ],
             [
              0.6666666666666666,
              "#ed7953"
             ],
             [
              0.7777777777777778,
              "#fb9f3a"
             ],
             [
              0.8888888888888888,
              "#fdca26"
             ],
             [
              1,
              "#f0f921"
             ]
            ],
            "type": "heatmapgl"
           }
          ],
          "histogram": [
           {
            "marker": {
             "pattern": {
              "fillmode": "overlay",
              "size": 10,
              "solidity": 0.2
             }
            },
            "type": "histogram"
           }
          ],
          "histogram2d": [
           {
            "colorbar": {
             "outlinewidth": 0,
             "ticks": ""
            },
            "colorscale": [
             [
              0,
              "#0d0887"
             ],
             [
              0.1111111111111111,
              "#46039f"
             ],
             [
              0.2222222222222222,
              "#7201a8"
             ],
             [
              0.3333333333333333,
              "#9c179e"
             ],
             [
              0.4444444444444444,
              "#bd3786"
             ],
             [
              0.5555555555555556,
              "#d8576b"
             ],
             [
              0.6666666666666666,
              "#ed7953"
             ],
             [
              0.7777777777777778,
              "#fb9f3a"
             ],
             [
              0.8888888888888888,
              "#fdca26"
             ],
             [
              1,
              "#f0f921"
             ]
            ],
            "type": "histogram2d"
           }
          ],
          "histogram2dcontour": [
           {
            "colorbar": {
             "outlinewidth": 0,
             "ticks": ""
            },
            "colorscale": [
             [
              0,
              "#0d0887"
             ],
             [
              0.1111111111111111,
              "#46039f"
             ],
             [
              0.2222222222222222,
              "#7201a8"
             ],
             [
              0.3333333333333333,
              "#9c179e"
             ],
             [
              0.4444444444444444,
              "#bd3786"
             ],
             [
              0.5555555555555556,
              "#d8576b"
             ],
             [
              0.6666666666666666,
              "#ed7953"
             ],
             [
              0.7777777777777778,
              "#fb9f3a"
             ],
             [
              0.8888888888888888,
              "#fdca26"
             ],
             [
              1,
              "#f0f921"
             ]
            ],
            "type": "histogram2dcontour"
           }
          ],
          "mesh3d": [
           {
            "colorbar": {
             "outlinewidth": 0,
             "ticks": ""
            },
            "type": "mesh3d"
           }
          ],
          "parcoords": [
           {
            "line": {
             "colorbar": {
              "outlinewidth": 0,
              "ticks": ""
             }
            },
            "type": "parcoords"
           }
          ],
          "pie": [
           {
            "automargin": true,
            "type": "pie"
           }
          ],
          "scatter": [
           {
            "fillpattern": {
             "fillmode": "overlay",
             "size": 10,
             "solidity": 0.2
            },
            "type": "scatter"
           }
          ],
          "scatter3d": [
           {
            "line": {
             "colorbar": {
              "outlinewidth": 0,
              "ticks": ""
             }
            },
            "marker": {
             "colorbar": {
              "outlinewidth": 0,
              "ticks": ""
             }
            },
            "type": "scatter3d"
           }
          ],
          "scattercarpet": [
           {
            "marker": {
             "colorbar": {
              "outlinewidth": 0,
              "ticks": ""
             }
            },
            "type": "scattercarpet"
           }
          ],
          "scattergeo": [
           {
            "marker": {
             "colorbar": {
              "outlinewidth": 0,
              "ticks": ""
             }
            },
            "type": "scattergeo"
           }
          ],
          "scattergl": [
           {
            "marker": {
             "colorbar": {
              "outlinewidth": 0,
              "ticks": ""
             }
            },
            "type": "scattergl"
           }
          ],
          "scattermapbox": [
           {
            "marker": {
             "colorbar": {
              "outlinewidth": 0,
              "ticks": ""
             }
            },
            "type": "scattermapbox"
           }
          ],
          "scatterpolar": [
           {
            "marker": {
             "colorbar": {
              "outlinewidth": 0,
              "ticks": ""
             }
            },
            "type": "scatterpolar"
           }
          ],
          "scatterpolargl": [
           {
            "marker": {
             "colorbar": {
              "outlinewidth": 0,
              "ticks": ""
             }
            },
            "type": "scatterpolargl"
           }
          ],
          "scatterternary": [
           {
            "marker": {
             "colorbar": {
              "outlinewidth": 0,
              "ticks": ""
             }
            },
            "type": "scatterternary"
           }
          ],
          "surface": [
           {
            "colorbar": {
             "outlinewidth": 0,
             "ticks": ""
            },
            "colorscale": [
             [
              0,
              "#0d0887"
             ],
             [
              0.1111111111111111,
              "#46039f"
             ],
             [
              0.2222222222222222,
              "#7201a8"
             ],
             [
              0.3333333333333333,
              "#9c179e"
             ],
             [
              0.4444444444444444,
              "#bd3786"
             ],
             [
              0.5555555555555556,
              "#d8576b"
             ],
             [
              0.6666666666666666,
              "#ed7953"
             ],
             [
              0.7777777777777778,
              "#fb9f3a"
             ],
             [
              0.8888888888888888,
              "#fdca26"
             ],
             [
              1,
              "#f0f921"
             ]
            ],
            "type": "surface"
           }
          ],
          "table": [
           {
            "cells": {
             "fill": {
              "color": "#EBF0F8"
             },
             "line": {
              "color": "white"
             }
            },
            "header": {
             "fill": {
              "color": "#C8D4E3"
             },
             "line": {
              "color": "white"
             }
            },
            "type": "table"
           }
          ]
         },
         "layout": {
          "annotationdefaults": {
           "arrowcolor": "#2a3f5f",
           "arrowhead": 0,
           "arrowwidth": 1
          },
          "autotypenumbers": "strict",
          "coloraxis": {
           "colorbar": {
            "outlinewidth": 0,
            "ticks": ""
           }
          },
          "colorscale": {
           "diverging": [
            [
             0,
             "#8e0152"
            ],
            [
             0.1,
             "#c51b7d"
            ],
            [
             0.2,
             "#de77ae"
            ],
            [
             0.3,
             "#f1b6da"
            ],
            [
             0.4,
             "#fde0ef"
            ],
            [
             0.5,
             "#f7f7f7"
            ],
            [
             0.6,
             "#e6f5d0"
            ],
            [
             0.7,
             "#b8e186"
            ],
            [
             0.8,
             "#7fbc41"
            ],
            [
             0.9,
             "#4d9221"
            ],
            [
             1,
             "#276419"
            ]
           ],
           "sequential": [
            [
             0,
             "#0d0887"
            ],
            [
             0.1111111111111111,
             "#46039f"
            ],
            [
             0.2222222222222222,
             "#7201a8"
            ],
            [
             0.3333333333333333,
             "#9c179e"
            ],
            [
             0.4444444444444444,
             "#bd3786"
            ],
            [
             0.5555555555555556,
             "#d8576b"
            ],
            [
             0.6666666666666666,
             "#ed7953"
            ],
            [
             0.7777777777777778,
             "#fb9f3a"
            ],
            [
             0.8888888888888888,
             "#fdca26"
            ],
            [
             1,
             "#f0f921"
            ]
           ],
           "sequentialminus": [
            [
             0,
             "#0d0887"
            ],
            [
             0.1111111111111111,
             "#46039f"
            ],
            [
             0.2222222222222222,
             "#7201a8"
            ],
            [
             0.3333333333333333,
             "#9c179e"
            ],
            [
             0.4444444444444444,
             "#bd3786"
            ],
            [
             0.5555555555555556,
             "#d8576b"
            ],
            [
             0.6666666666666666,
             "#ed7953"
            ],
            [
             0.7777777777777778,
             "#fb9f3a"
            ],
            [
             0.8888888888888888,
             "#fdca26"
            ],
            [
             1,
             "#f0f921"
            ]
           ]
          },
          "colorway": [
           "#636efa",
           "#EF553B",
           "#00cc96",
           "#ab63fa",
           "#FFA15A",
           "#19d3f3",
           "#FF6692",
           "#B6E880",
           "#FF97FF",
           "#FECB52"
          ],
          "font": {
           "color": "#2a3f5f"
          },
          "geo": {
           "bgcolor": "white",
           "lakecolor": "white",
           "landcolor": "#E5ECF6",
           "showlakes": true,
           "showland": true,
           "subunitcolor": "white"
          },
          "hoverlabel": {
           "align": "left"
          },
          "hovermode": "closest",
          "mapbox": {
           "style": "light"
          },
          "paper_bgcolor": "white",
          "plot_bgcolor": "#E5ECF6",
          "polar": {
           "angularaxis": {
            "gridcolor": "white",
            "linecolor": "white",
            "ticks": ""
           },
           "bgcolor": "#E5ECF6",
           "radialaxis": {
            "gridcolor": "white",
            "linecolor": "white",
            "ticks": ""
           }
          },
          "scene": {
           "xaxis": {
            "backgroundcolor": "#E5ECF6",
            "gridcolor": "white",
            "gridwidth": 2,
            "linecolor": "white",
            "showbackground": true,
            "ticks": "",
            "zerolinecolor": "white"
           },
           "yaxis": {
            "backgroundcolor": "#E5ECF6",
            "gridcolor": "white",
            "gridwidth": 2,
            "linecolor": "white",
            "showbackground": true,
            "ticks": "",
            "zerolinecolor": "white"
           },
           "zaxis": {
            "backgroundcolor": "#E5ECF6",
            "gridcolor": "white",
            "gridwidth": 2,
            "linecolor": "white",
            "showbackground": true,
            "ticks": "",
            "zerolinecolor": "white"
           }
          },
          "shapedefaults": {
           "line": {
            "color": "#2a3f5f"
           }
          },
          "ternary": {
           "aaxis": {
            "gridcolor": "white",
            "linecolor": "white",
            "ticks": ""
           },
           "baxis": {
            "gridcolor": "white",
            "linecolor": "white",
            "ticks": ""
           },
           "bgcolor": "#E5ECF6",
           "caxis": {
            "gridcolor": "white",
            "linecolor": "white",
            "ticks": ""
           }
          },
          "title": {
           "x": 0.05
          },
          "xaxis": {
           "automargin": true,
           "gridcolor": "white",
           "linecolor": "white",
           "ticks": "",
           "title": {
            "standoff": 15
           },
           "zerolinecolor": "white",
           "zerolinewidth": 2
          },
          "yaxis": {
           "automargin": true,
           "gridcolor": "white",
           "linecolor": "white",
           "ticks": "",
           "title": {
            "standoff": 15
           },
           "zerolinecolor": "white",
           "zerolinewidth": 2
          }
         }
        },
        "title": {
         "font": {
          "color": "#4D5663"
         }
        },
        "xaxis": {
         "gridcolor": "#E1E5ED",
         "showgrid": true,
         "tickfont": {
          "color": "#4D5663"
         },
         "title": {
          "font": {
           "color": "#4D5663"
          },
          "text": ""
         },
         "zerolinecolor": "#E1E5ED"
        },
        "yaxis": {
         "gridcolor": "#E1E5ED",
         "showgrid": true,
         "tickfont": {
          "color": "#4D5663"
         },
         "title": {
          "font": {
           "color": "#4D5663"
          },
          "text": ""
         },
         "zerolinecolor": "#E1E5ED"
        }
       }
      },
      "text/html": [
       "<div>                            <div id=\"6b35fafe-20fe-4ca7-bf1b-f2f2cd411bc4\" class=\"plotly-graph-div\" style=\"height:525px; width:100%;\"></div>            <script type=\"text/javascript\">                require([\"plotly\"], function(Plotly) {                    window.PLOTLYENV=window.PLOTLYENV || {};\n",
       "                    window.PLOTLYENV.BASE_URL='https://plot.ly';                                    if (document.getElementById(\"6b35fafe-20fe-4ca7-bf1b-f2f2cd411bc4\")) {                    Plotly.newPlot(                        \"6b35fafe-20fe-4ca7-bf1b-f2f2cd411bc4\",                        [{\"colorscale\":[[0.0,\"rgb(165,0,38)\"],[0.1,\"rgb(215,48,39)\"],[0.2,\"rgb(244,109,67)\"],[0.3,\"rgb(253,174,97)\"],[0.4,\"rgb(254,224,144)\"],[0.5,\"rgb(255,255,191)\"],[0.6,\"rgb(224,243,248)\"],[0.7,\"rgb(171,217,233)\"],[0.8,\"rgb(116,173,209)\"],[0.9,\"rgb(69,117,180)\"],[1.0,\"rgb(49,54,149)\"]],\"x\":[0,1,2,3,4,5,6,7,8,9,10,11,12,13,14,15,16,17,18,19,20,21,22,23,24,25,26,27,28,29,30,31,32,33,34,35,36,37,38,39,40,41,42,43,44,45,46,47,48,49,50,51,52,53,54,55,56,57,58,59,60,61,62,63,64,65,66,67,68,69,70,71,72,73,74,75,76,77,78,79,80,81,82,83,84,85,86,87,88,89,90,91,92,93,94,95,96,97,98,99],\"y\":[\"A\",\"B\",\"C\"],\"z\":[[1.2011770764175393,4.41271447742346,9.512312024132667,15.572260439872618,20.37759530218809,24.772379800892026,29.014334555166954,34.715517866634244,41.89971070324318,52.75071320488135,66.8159478994062,82.4087346611642,99.0248623102894,115.82682839505355,133.172728792206,150.71429687634787,168.1377636736314,186.9249253604786,208.1099484134743,232.24184338762552,258.4003304186169,287.7334930571479,319.6892915550542,354.1864575252967,391.5542580403122,431.9740828518308,475.77763365964887,524.4145909501407,577.2617086740322,633.6937598883898,693.9628926901304,757.6672579417794,825.1808025127283,896.4389616677894,971.6182972948069,1051.4255135182643,1136.323497667834,1226.991315313331,1323.2922188216153,1423.9805474765562,1528.8220363543544,1638.4292484119585,1753.5105267623562,1874.3765413747765,2002.027944760073,2135.4435918091067,2274.229831896885,2418.27439730924,2568.9073328405207,2725.593153539166,2889.21986424827,3058.6362950546995,3233.7282448052492,3415.118777966568,3602.6328524282503,3798.426876744889,4001.9646944730293,4213.103849736518,4432.0130273260975,4656.784796569372,4886.214966168782,5118.26609835616,5352.736980196992,5589.356841147192,5829.03009806599,6071.930956557698,6319.667564588878,6573.502643711347,6834.990924297694,7104.547837641887,7381.996440866641,7666.041954411482,7957.829451508876,8257.282359328523,8562.856393476095,8874.529724162929,9190.985288890235,9512.747712106882,9840.764688544663,10173.803797357377,10512.811896891657,10858.429257514308,11209.902364517557,11565.881047861916,11927.75681065589,12294.87318641079,12669.469643313772,13051.003955222815,13437.818923252651,13828.725994792647,14224.012037540344,14623.28486309213,15025.822959884654,15431.685603063548,15841.935683272899,16255.278946450622,16670.05598679232,17085.851398283346,17501.02697477791,17916.31312009843],[0.6276277659125329,0.6431866670966653,-0.3361067147157304,-2.75508911708918,-6.940228154795096,-12.959082236799912,-20.47091559089519,-31.348817626633497,-46.085351309033626,-62.97265531175384,-82.16613012871865,-102.91959598539347,-125.07153671178767,-148.56920402567025,-173.03153101336534,-199.3728111324102,-227.68012982649452,-257.2121591045985,-288.1339284626461,-320.4439181455277,-354.6144511958809,-389.94632799402,-426.51274319077345,-465.44512749923956,-505.7167334724851,-546.9758992552654,-589.7239837644805,-633.5336821603908,-677.9944467621705,-722.5879570858474,-768.6113848463532,-814.956547661377,-860.7904271443766,-905.021345957151,-947.7291788580013,-987.4357648037748,-1022.9756775606678,-1053.6150251305091,-1079.6574126827134,-1100.6656587532675,-1118.1854155173821,-1131.9188318105655,-1142.1498283194217,-1150.2652845130972,-1156.3841310779164,-1159.8328153005111,-1160.144676060033,-1155.5480642679813,-1145.3426167793166,-1130.1356273400233,-1109.4687487838187,-1082.0882680036855,-1045.9977055091615,-1002.7960643876343,-950.6111062842301,-889.1126509857414,-817.1678655477043,-734.7463866824284,-642.5224701714515,-541.3097581487989,-430.21810526200613,-309.0321420450349,-178.35597843285692,-37.83558732845603,111.45623215562821,268.34522637926614,431.46553009694685,602.0388199422246,779.9608684425469,967.0261941483624,1164.3823273792275,1372.0200401457994,1589.3555961645197,1815.8283783052323,2050.6589207187367,2293.410886122764,2543.870993378913,2801.5238360716926,3067.962869373556,3343.587006130028,3628.9091636363783,3924.846658844929,4232.15550910688,4549.202476151565,4875.124122216899,5211.990517080619,5558.927249554793,5915.317449934851,6280.431206600094,6654.576048975112,7038.567706846171,7432.649740882929,7836.25328999249,8251.726220913539,8678.272174692202,9117.260193287611,9569.199306113102,10035.39606944763,10515.93191250344,11010.055514858559],[0.5349870806538379,1.1462716857378334,2.6245560042430225,3.6697376650186366,5.680340664212876,7.052376858057731,7.365637957861927,7.240090217119429,5.308192557489496,2.100622142056693,-2.6021981222672927,-9.44802010598626,-18.955289549379366,-29.417094934209942,-40.96729450714767,-53.502954861388254,-67.89540046873066,-86.6698733641632,-111.5520016062003,-139.84143346062626,-172.13726600797818,-210.08170272486805,-253.12238782411563,-299.0810294914378,-350.118651759784,-407.28218327407933,-470.80047694897,-540.9355898796309,-617.1281264673502,-699.7128648873804,-790.6046992703946,-888.9901622521421,-994.5129254378144,-1109.157491248192,-1231.484668458213,-1360.9435428098602,-1495.5330302703562,-1635.188223923193,-1779.0044864516017,-1929.475166043564,-2085.50993857592,-2244.4026103557107,-2407.06611136583,-2570.87184097781,-2735.937006789521,-2902.765940904719,-3072.053862856275,-3242.097815494343,-3411.5584435903343,-3578.4188389407022,-3742.9085649751287,-3906.605225752303,-4068.261094685875,-4227.877334702038,-4386.846920703218,-4545.6087009609455,-4705.240592137499,-4864.661994193907,-5023.6244568380625,-5182.00687204275,-5338.948271317355,-5495.620742900226,-5653.426819444314,-5811.844763490173,-5972.845918116022,-6135.528365720558,-6300.012613591025,-6465.304770119482,-6631.26264829671,-6796.998241950629,-6964.406993628973,-7133.468300373127,-7304.242574728015,-7479.613276071517,-7659.952310738288,-7845.6383493024805,-8037.292090507112,-8236.199883668796,-8442.694851438058,-8656.517683577043,-8876.959058133552,-9102.145592139488,-9332.383603737982,-9567.01596177196,-9807.1765110558,-10053.16984814591,-10304.795937141527,-10562.69028991868,-10828.257890207055,-11101.160875186737,-11382.10409306736,-11670.406254678126,-11966.778620494777,-12268.976662681462,-12576.798763309973,-12890.972296757316,-13212.241690405934,-13540.157654816447,-13874.282909417514,-14215.753133893699]],\"type\":\"surface\"}],                        {\"legend\":{\"bgcolor\":\"#F5F6F9\",\"font\":{\"color\":\"#4D5663\"}},\"paper_bgcolor\":\"#F5F6F9\",\"plot_bgcolor\":\"#F5F6F9\",\"template\":{\"data\":{\"barpolar\":[{\"marker\":{\"line\":{\"color\":\"#E5ECF6\",\"width\":0.5},\"pattern\":{\"fillmode\":\"overlay\",\"size\":10,\"solidity\":0.2}},\"type\":\"barpolar\"}],\"bar\":[{\"error_x\":{\"color\":\"#2a3f5f\"},\"error_y\":{\"color\":\"#2a3f5f\"},\"marker\":{\"line\":{\"color\":\"#E5ECF6\",\"width\":0.5},\"pattern\":{\"fillmode\":\"overlay\",\"size\":10,\"solidity\":0.2}},\"type\":\"bar\"}],\"carpet\":[{\"aaxis\":{\"endlinecolor\":\"#2a3f5f\",\"gridcolor\":\"white\",\"linecolor\":\"white\",\"minorgridcolor\":\"white\",\"startlinecolor\":\"#2a3f5f\"},\"baxis\":{\"endlinecolor\":\"#2a3f5f\",\"gridcolor\":\"white\",\"linecolor\":\"white\",\"minorgridcolor\":\"white\",\"startlinecolor\":\"#2a3f5f\"},\"type\":\"carpet\"}],\"choropleth\":[{\"colorbar\":{\"outlinewidth\":0,\"ticks\":\"\"},\"type\":\"choropleth\"}],\"contourcarpet\":[{\"colorbar\":{\"outlinewidth\":0,\"ticks\":\"\"},\"type\":\"contourcarpet\"}],\"contour\":[{\"colorbar\":{\"outlinewidth\":0,\"ticks\":\"\"},\"colorscale\":[[0.0,\"#0d0887\"],[0.1111111111111111,\"#46039f\"],[0.2222222222222222,\"#7201a8\"],[0.3333333333333333,\"#9c179e\"],[0.4444444444444444,\"#bd3786\"],[0.5555555555555556,\"#d8576b\"],[0.6666666666666666,\"#ed7953\"],[0.7777777777777778,\"#fb9f3a\"],[0.8888888888888888,\"#fdca26\"],[1.0,\"#f0f921\"]],\"type\":\"contour\"}],\"heatmapgl\":[{\"colorbar\":{\"outlinewidth\":0,\"ticks\":\"\"},\"colorscale\":[[0.0,\"#0d0887\"],[0.1111111111111111,\"#46039f\"],[0.2222222222222222,\"#7201a8\"],[0.3333333333333333,\"#9c179e\"],[0.4444444444444444,\"#bd3786\"],[0.5555555555555556,\"#d8576b\"],[0.6666666666666666,\"#ed7953\"],[0.7777777777777778,\"#fb9f3a\"],[0.8888888888888888,\"#fdca26\"],[1.0,\"#f0f921\"]],\"type\":\"heatmapgl\"}],\"heatmap\":[{\"colorbar\":{\"outlinewidth\":0,\"ticks\":\"\"},\"colorscale\":[[0.0,\"#0d0887\"],[0.1111111111111111,\"#46039f\"],[0.2222222222222222,\"#7201a8\"],[0.3333333333333333,\"#9c179e\"],[0.4444444444444444,\"#bd3786\"],[0.5555555555555556,\"#d8576b\"],[0.6666666666666666,\"#ed7953\"],[0.7777777777777778,\"#fb9f3a\"],[0.8888888888888888,\"#fdca26\"],[1.0,\"#f0f921\"]],\"type\":\"heatmap\"}],\"histogram2dcontour\":[{\"colorbar\":{\"outlinewidth\":0,\"ticks\":\"\"},\"colorscale\":[[0.0,\"#0d0887\"],[0.1111111111111111,\"#46039f\"],[0.2222222222222222,\"#7201a8\"],[0.3333333333333333,\"#9c179e\"],[0.4444444444444444,\"#bd3786\"],[0.5555555555555556,\"#d8576b\"],[0.6666666666666666,\"#ed7953\"],[0.7777777777777778,\"#fb9f3a\"],[0.8888888888888888,\"#fdca26\"],[1.0,\"#f0f921\"]],\"type\":\"histogram2dcontour\"}],\"histogram2d\":[{\"colorbar\":{\"outlinewidth\":0,\"ticks\":\"\"},\"colorscale\":[[0.0,\"#0d0887\"],[0.1111111111111111,\"#46039f\"],[0.2222222222222222,\"#7201a8\"],[0.3333333333333333,\"#9c179e\"],[0.4444444444444444,\"#bd3786\"],[0.5555555555555556,\"#d8576b\"],[0.6666666666666666,\"#ed7953\"],[0.7777777777777778,\"#fb9f3a\"],[0.8888888888888888,\"#fdca26\"],[1.0,\"#f0f921\"]],\"type\":\"histogram2d\"}],\"histogram\":[{\"marker\":{\"pattern\":{\"fillmode\":\"overlay\",\"size\":10,\"solidity\":0.2}},\"type\":\"histogram\"}],\"mesh3d\":[{\"colorbar\":{\"outlinewidth\":0,\"ticks\":\"\"},\"type\":\"mesh3d\"}],\"parcoords\":[{\"line\":{\"colorbar\":{\"outlinewidth\":0,\"ticks\":\"\"}},\"type\":\"parcoords\"}],\"pie\":[{\"automargin\":true,\"type\":\"pie\"}],\"scatter3d\":[{\"line\":{\"colorbar\":{\"outlinewidth\":0,\"ticks\":\"\"}},\"marker\":{\"colorbar\":{\"outlinewidth\":0,\"ticks\":\"\"}},\"type\":\"scatter3d\"}],\"scattercarpet\":[{\"marker\":{\"colorbar\":{\"outlinewidth\":0,\"ticks\":\"\"}},\"type\":\"scattercarpet\"}],\"scattergeo\":[{\"marker\":{\"colorbar\":{\"outlinewidth\":0,\"ticks\":\"\"}},\"type\":\"scattergeo\"}],\"scattergl\":[{\"marker\":{\"colorbar\":{\"outlinewidth\":0,\"ticks\":\"\"}},\"type\":\"scattergl\"}],\"scattermapbox\":[{\"marker\":{\"colorbar\":{\"outlinewidth\":0,\"ticks\":\"\"}},\"type\":\"scattermapbox\"}],\"scatterpolargl\":[{\"marker\":{\"colorbar\":{\"outlinewidth\":0,\"ticks\":\"\"}},\"type\":\"scatterpolargl\"}],\"scatterpolar\":[{\"marker\":{\"colorbar\":{\"outlinewidth\":0,\"ticks\":\"\"}},\"type\":\"scatterpolar\"}],\"scatter\":[{\"fillpattern\":{\"fillmode\":\"overlay\",\"size\":10,\"solidity\":0.2},\"type\":\"scatter\"}],\"scatterternary\":[{\"marker\":{\"colorbar\":{\"outlinewidth\":0,\"ticks\":\"\"}},\"type\":\"scatterternary\"}],\"surface\":[{\"colorbar\":{\"outlinewidth\":0,\"ticks\":\"\"},\"colorscale\":[[0.0,\"#0d0887\"],[0.1111111111111111,\"#46039f\"],[0.2222222222222222,\"#7201a8\"],[0.3333333333333333,\"#9c179e\"],[0.4444444444444444,\"#bd3786\"],[0.5555555555555556,\"#d8576b\"],[0.6666666666666666,\"#ed7953\"],[0.7777777777777778,\"#fb9f3a\"],[0.8888888888888888,\"#fdca26\"],[1.0,\"#f0f921\"]],\"type\":\"surface\"}],\"table\":[{\"cells\":{\"fill\":{\"color\":\"#EBF0F8\"},\"line\":{\"color\":\"white\"}},\"header\":{\"fill\":{\"color\":\"#C8D4E3\"},\"line\":{\"color\":\"white\"}},\"type\":\"table\"}]},\"layout\":{\"annotationdefaults\":{\"arrowcolor\":\"#2a3f5f\",\"arrowhead\":0,\"arrowwidth\":1},\"autotypenumbers\":\"strict\",\"coloraxis\":{\"colorbar\":{\"outlinewidth\":0,\"ticks\":\"\"}},\"colorscale\":{\"diverging\":[[0,\"#8e0152\"],[0.1,\"#c51b7d\"],[0.2,\"#de77ae\"],[0.3,\"#f1b6da\"],[0.4,\"#fde0ef\"],[0.5,\"#f7f7f7\"],[0.6,\"#e6f5d0\"],[0.7,\"#b8e186\"],[0.8,\"#7fbc41\"],[0.9,\"#4d9221\"],[1,\"#276419\"]],\"sequential\":[[0.0,\"#0d0887\"],[0.1111111111111111,\"#46039f\"],[0.2222222222222222,\"#7201a8\"],[0.3333333333333333,\"#9c179e\"],[0.4444444444444444,\"#bd3786\"],[0.5555555555555556,\"#d8576b\"],[0.6666666666666666,\"#ed7953\"],[0.7777777777777778,\"#fb9f3a\"],[0.8888888888888888,\"#fdca26\"],[1.0,\"#f0f921\"]],\"sequentialminus\":[[0.0,\"#0d0887\"],[0.1111111111111111,\"#46039f\"],[0.2222222222222222,\"#7201a8\"],[0.3333333333333333,\"#9c179e\"],[0.4444444444444444,\"#bd3786\"],[0.5555555555555556,\"#d8576b\"],[0.6666666666666666,\"#ed7953\"],[0.7777777777777778,\"#fb9f3a\"],[0.8888888888888888,\"#fdca26\"],[1.0,\"#f0f921\"]]},\"colorway\":[\"#636efa\",\"#EF553B\",\"#00cc96\",\"#ab63fa\",\"#FFA15A\",\"#19d3f3\",\"#FF6692\",\"#B6E880\",\"#FF97FF\",\"#FECB52\"],\"font\":{\"color\":\"#2a3f5f\"},\"geo\":{\"bgcolor\":\"white\",\"lakecolor\":\"white\",\"landcolor\":\"#E5ECF6\",\"showlakes\":true,\"showland\":true,\"subunitcolor\":\"white\"},\"hoverlabel\":{\"align\":\"left\"},\"hovermode\":\"closest\",\"mapbox\":{\"style\":\"light\"},\"paper_bgcolor\":\"white\",\"plot_bgcolor\":\"#E5ECF6\",\"polar\":{\"angularaxis\":{\"gridcolor\":\"white\",\"linecolor\":\"white\",\"ticks\":\"\"},\"bgcolor\":\"#E5ECF6\",\"radialaxis\":{\"gridcolor\":\"white\",\"linecolor\":\"white\",\"ticks\":\"\"}},\"scene\":{\"xaxis\":{\"backgroundcolor\":\"#E5ECF6\",\"gridcolor\":\"white\",\"gridwidth\":2,\"linecolor\":\"white\",\"showbackground\":true,\"ticks\":\"\",\"zerolinecolor\":\"white\"},\"yaxis\":{\"backgroundcolor\":\"#E5ECF6\",\"gridcolor\":\"white\",\"gridwidth\":2,\"linecolor\":\"white\",\"showbackground\":true,\"ticks\":\"\",\"zerolinecolor\":\"white\"},\"zaxis\":{\"backgroundcolor\":\"#E5ECF6\",\"gridcolor\":\"white\",\"gridwidth\":2,\"linecolor\":\"white\",\"showbackground\":true,\"ticks\":\"\",\"zerolinecolor\":\"white\"}},\"shapedefaults\":{\"line\":{\"color\":\"#2a3f5f\"}},\"ternary\":{\"aaxis\":{\"gridcolor\":\"white\",\"linecolor\":\"white\",\"ticks\":\"\"},\"baxis\":{\"gridcolor\":\"white\",\"linecolor\":\"white\",\"ticks\":\"\"},\"bgcolor\":\"#E5ECF6\",\"caxis\":{\"gridcolor\":\"white\",\"linecolor\":\"white\",\"ticks\":\"\"}},\"title\":{\"x\":0.05},\"xaxis\":{\"automargin\":true,\"gridcolor\":\"white\",\"linecolor\":\"white\",\"ticks\":\"\",\"title\":{\"standoff\":15},\"zerolinecolor\":\"white\",\"zerolinewidth\":2},\"yaxis\":{\"automargin\":true,\"gridcolor\":\"white\",\"linecolor\":\"white\",\"ticks\":\"\",\"title\":{\"standoff\":15},\"zerolinecolor\":\"white\",\"zerolinewidth\":2}}},\"title\":{\"font\":{\"color\":\"#4D5663\"}},\"xaxis\":{\"gridcolor\":\"#E1E5ED\",\"showgrid\":true,\"tickfont\":{\"color\":\"#4D5663\"},\"title\":{\"font\":{\"color\":\"#4D5663\"},\"text\":\"\"},\"zerolinecolor\":\"#E1E5ED\"},\"yaxis\":{\"gridcolor\":\"#E1E5ED\",\"showgrid\":true,\"tickfont\":{\"color\":\"#4D5663\"},\"title\":{\"font\":{\"color\":\"#4D5663\"},\"text\":\"\"},\"zerolinecolor\":\"#E1E5ED\"}},                        {\"showLink\": true, \"linkText\": \"Export to plot.ly\", \"plotlyServerURL\": \"https://plot.ly\", \"responsive\": true}                    ).then(function(){\n",
       "                            \n",
       "var gd = document.getElementById('6b35fafe-20fe-4ca7-bf1b-f2f2cd411bc4');\n",
       "var x = new MutationObserver(function (mutations, observer) {{\n",
       "        var display = window.getComputedStyle(gd).display;\n",
       "        if (!display || display === 'none') {{\n",
       "            console.log([gd, 'removed!']);\n",
       "            Plotly.purge(gd);\n",
       "            observer.disconnect();\n",
       "        }}\n",
       "}});\n",
       "\n",
       "// Listen for the removal of the full notebook cells\n",
       "var notebookContainer = gd.closest('#notebook-container');\n",
       "if (notebookContainer) {{\n",
       "    x.observe(notebookContainer, {childList: true});\n",
       "}}\n",
       "\n",
       "// Listen for the clearing of the current output cell\n",
       "var outputEl = gd.closest('.output');\n",
       "if (outputEl) {{\n",
       "    x.observe(outputEl, {childList: true});\n",
       "}}\n",
       "\n",
       "                        })                };                });            </script>        </div>"
      ]
     },
     "metadata": {},
     "output_type": "display_data"
    }
   ],
   "source": [
    "df.iplot(kind = 'surface', colorscale='rdylbu')"
   ]
  },
  {
   "cell_type": "code",
   "execution_count": 29,
   "id": "e3cf5d9c",
   "metadata": {},
   "outputs": [
    {
     "name": "stderr",
     "output_type": "stream",
     "text": [
      "C:\\Users\\abdulsamad\\AppData\\Roaming\\Python\\Python311\\site-packages\\cufflinks\\datagen.py:380: RuntimeWarning:\n",
      "\n",
      "invalid value encountered in divide\n",
      "\n"
     ]
    },
    {
     "data": {
      "application/vnd.plotly.v1+json": {
       "config": {
        "linkText": "Export to plot.ly",
        "plotlyServerURL": "https://plot.ly",
        "showLink": true
       },
       "data": [
        {
         "colorscale": [
          [
           0,
           "rgb(255, 153, 51)"
          ],
          [
           0.1111111111111111,
           "rgb(55, 128, 191)"
          ],
          [
           0.2222222222222222,
           "rgb(50, 171, 96)"
          ],
          [
           0.3333333333333333,
           "rgb(128, 0, 128)"
          ],
          [
           0.4444444444444444,
           "rgb(219, 64, 82)"
          ],
          [
           0.5555555555555556,
           "rgb(0, 128, 128)"
          ],
          [
           0.6666666666666666,
           "rgb(255, 255, 51)"
          ],
          [
           0.7777777777777778,
           "rgb(128, 128, 0)"
          ],
          [
           0.8888888888888888,
           "rgb(251, 128, 114)"
          ],
          [
           1,
           "rgb(128, 177, 211)"
          ]
         ],
         "type": "surface",
         "x": [
          -10,
          -9.75,
          -9.5,
          -9.25,
          -9,
          -8.75,
          -8.5,
          -8.25,
          -8,
          -7.75,
          -7.5,
          -7.25,
          -7,
          -6.75,
          -6.5,
          -6.25,
          -6,
          -5.75,
          -5.5,
          -5.25,
          -5,
          -4.75,
          -4.5,
          -4.25,
          -4,
          -3.75,
          -3.5,
          -3.25,
          -3,
          -2.75,
          -2.5,
          -2.25,
          -2,
          -1.75,
          -1.5,
          -1.25,
          -1,
          -0.75,
          -0.5,
          -0.25,
          0,
          0.25,
          0.5,
          0.75,
          1,
          1.25,
          1.5,
          1.75,
          2,
          2.25,
          2.5,
          2.75,
          3,
          3.25,
          3.5,
          3.75,
          4,
          4.25,
          4.5,
          4.75,
          5,
          5.25,
          5.5,
          5.75,
          6,
          6.25,
          6.5,
          6.75,
          7,
          7.25,
          7.5,
          7.75,
          8,
          8.25,
          8.5,
          8.75,
          9,
          9.25,
          9.5,
          9.75
         ],
         "y": [
          -10,
          -9.75,
          -9.5,
          -9.25,
          -9,
          -8.75,
          -8.5,
          -8.25,
          -8,
          -7.75,
          -7.5,
          -7.25,
          -7,
          -6.75,
          -6.5,
          -6.25,
          -6,
          -5.75,
          -5.5,
          -5.25,
          -5,
          -4.75,
          -4.5,
          -4.25,
          -4,
          -3.75,
          -3.5,
          -3.25,
          -3,
          -2.75,
          -2.5,
          -2.25,
          -2,
          -1.75,
          -1.5,
          -1.25,
          -1,
          -0.75,
          -0.5,
          -0.25,
          0,
          0.25,
          0.5,
          0.75,
          1,
          1.25,
          1.5,
          1.75,
          2,
          2.25,
          2.5,
          2.75,
          3,
          3.25,
          3.5,
          3.75,
          4,
          4.25,
          4.5,
          4.75,
          5,
          5.25,
          5.5,
          5.75,
          6,
          6.25,
          6.5,
          6.75,
          7,
          7.25,
          7.5,
          7.75,
          8,
          8.25,
          8.5,
          8.75,
          9,
          9.25,
          9.5,
          9.75
         ],
         "z": [
          [
           0.14141961054935853,
           0.14111903500315878,
           0.13650222610828716,
           0.12777380562398274,
           0.11526115097856117,
           0.0993958462307399,
           0.08069235790121831,
           0.059725017515438364,
           0.037104384846577534,
           0.013454008098850966,
           -0.01061150357619211,
           -0.0345063152690242,
           -0.05769048962428924,
           -0.07968395387291566,
           -0.10007704610444179,
           -0.11853755153953284,
           -0.13481430178982187,
           -0.1487375524385824,
           -0.16021647158282734,
           -0.16923416092386775,
           -0.17584069010379264,
           -0.1801446545297837,
           -0.18230376872794093,
           -0.18251498442862385,
           -0.18100457917857166,
           -0.17801860199902664,
           -0.1738139924448547,
           -0.16865061331126227,
           -0.16278435980926842,
           -0.15646143337355978,
           -0.1499137997580331,
           -0.14335579129849668,
           -0.13698176393514344,
           -0.13096468174943518,
           -0.1254554756233313,
           -0.12058300781296416,
           -0.1164544699167505,
           -0.1131560467581887,
           -0.1107536917561867,
           -0.10929387900894774,
           -0.10880422217787396,
           -0.10929387900894774,
           -0.1107536917561867,
           -0.1131560467581887,
           -0.1164544699167505,
           -0.12058300781296416,
           -0.1254554756233313,
           -0.13096468174943518,
           -0.13698176393514344,
           -0.14335579129849668,
           -0.1499137997580331,
           -0.15646143337355978,
           -0.16278435980926842,
           -0.16865061331126227,
           -0.1738139924448547,
           -0.17801860199902664,
           -0.18100457917857166,
           -0.18251498442862385,
           -0.18230376872794093,
           -0.1801446545297837,
           -0.17584069010379264,
           -0.16923416092386775,
           -0.16021647158282734,
           -0.1487375524385824,
           -0.13481430178982187,
           -0.11853755153953284,
           -0.10007704610444179,
           -0.07968395387291566,
           -0.05769048962428924,
           -0.0345063152690242,
           -0.01061150357619211,
           0.013454008098850966,
           0.037104384846577534,
           0.059725017515438364,
           0.08069235790121831,
           0.0993958462307399,
           0.11526115097856117,
           0.12777380562398274,
           0.13650222610828716,
           0.14111903500315878
          ],
          [
           0.14111903500315878,
           0.13632396086944565,
           0.12719030582037316,
           0.11405907878471819,
           0.09738828403656238,
           0.07773008237271903,
           0.05570574218106777,
           0.03197958453286062,
           0.007233082355737275,
           -0.017859822184363938,
           -0.042655257000177006,
           -0.06655906279410359,
           -0.08904297911487404,
           -0.10965701691843574,
           -0.12803786284735597,
           -0.14391335124448024,
           -0.15710321083861073,
           -0.16751643729146143,
           -0.1751457556394694,
           -0.1800597155006458,
           -0.18239300622958532,
           -0.18233559039097344,
           -0.18012123502583363,
           -0.1760159755489718,
           -0.17030698199702413,
           -0.16329221750830802,
           -0.15527119023634722,
           -0.14653700801271363,
           -0.13736985507049018,
           -0.12803192632998142,
           -0.11876378051842666,
           -0.10978201113265723,
           -0.10127808535368477,
           -0.09341816596346665,
           -0.08634370978474622,
           -0.08017262722723162,
           -0.0750007897964791,
           -0.07090368426500879,
           -0.06793803188546253,
           -0.06614321685638791,
           -0.06554239869174844,
           -0.06614321685638791,
           -0.06793803188546253,
           -0.07090368426500879,
           -0.0750007897964791,
           -0.08017262722723162,
           -0.08634370978474622,
           -0.09341816596346665,
           -0.10127808535368477,
           -0.10978201113265723,
           -0.11876378051842666,
           -0.12803192632998142,
           -0.13736985507049018,
           -0.14653700801271363,
           -0.15527119023634722,
           -0.16329221750830802,
           -0.17030698199702413,
           -0.1760159755489718,
           -0.18012123502583363,
           -0.18233559039097344,
           -0.18239300622958532,
           -0.1800597155006458,
           -0.1751457556394694,
           -0.16751643729146143,
           -0.15710321083861073,
           -0.14391335124448024,
           -0.12803786284735597,
           -0.10965701691843574,
           -0.08904297911487404,
           -0.06655906279410359,
           -0.042655257000177006,
           -0.017859822184363938,
           0.007233082355737275,
           0.03197958453286062,
           0.05570574218106777,
           0.07773008237271903,
           0.09738828403656238,
           0.11405907878471819,
           0.12719030582037316,
           0.13632396086944565
          ],
          [
           0.13650222610828716,
           0.12719030582037316,
           0.1136526088802527,
           0.09636827159298987,
           0.0759235678781371,
           0.05298490441364873,
           0.028270310898122826,
           0.0025207381574719806,
           -0.023527608249201665,
           -0.04916880920228074,
           -0.07374973820785838,
           -0.09668883252747353,
           -0.11749065565570795,
           -0.13575600794040762,
           -0.1511875643863488,
           -0.163591222139663,
           -0.17287351607260817,
           -0.17903560277058095,
           -0.1821644169794075,
           -0.18242166855756492,
           -0.1800313728705813,
           -0.1752665961050691,
           -0.16843605361995675,
           -0.15987112992755653,
           -0.1499137997580331,
           -0.13890582780165694,
           -0.1271795169340972,
           -0.11505016730310495,
           -0.10281030706494565,
           -0.0907256642328181,
           -0.07903277128303789,
           -0.06793803188546253,
           -0.05761803324395176,
           -0.04822085787410071,
           -0.039868134180728126,
           -0.032657564269347995,
           -0.026665677985416577,
           -0.021950582012676394,
           -0.01855449981019833,
           -0.016505930263581485,
           -0.015821288518275644,
           -0.016505930263581485,
           -0.01855449981019833,
           -0.021950582012676394,
           -0.026665677985416577,
           -0.032657564269347995,
           -0.039868134180728126,
           -0.04822085787410071,
           -0.05761803324395176,
           -0.06793803188546253,
           -0.07903277128303789,
           -0.0907256642328181,
           -0.10281030706494565,
           -0.11505016730310495,
           -0.1271795169340972,
           -0.13890582780165694,
           -0.1499137997580331,
           -0.15987112992755653,
           -0.16843605361995675,
           -0.1752665961050691,
           -0.1800313728705813,
           -0.18242166855756492,
           -0.1821644169794075,
           -0.17903560277058095,
           -0.17287351607260817,
           -0.163591222139663,
           -0.1511875643863488,
           -0.13575600794040762,
           -0.11749065565570795,
           -0.09668883252747353,
           -0.07374973820785838,
           -0.04916880920228074,
           -0.023527608249201665,
           0.0025207381574719806,
           0.028270310898122826,
           0.05298490441364873,
           0.0759235678781371,
           0.09636827159298987,
           0.1136526088802527,
           0.12719030582037316
          ],
          [
           0.12777380562398274,
           0.11405907878471819,
           0.09636827159298987,
           0.07531659368730659,
           0.05161237775613617,
           0.026026147564044762,
           -0.0006409754282528475,
           -0.027588123185645037,
           -0.054043516875550875,
           -0.07929019757294747,
           -0.10268778525178764,
           -0.12368964794720452,
           -0.14185512230149663,
           -0.15685668268767797,
           -0.16848219583369567,
           -0.17663261032673944,
           -0.18131560690315682,
           -0.1826358700412797,
           -0.18078273088932142,
           -0.1760159755489718,
           -0.16865061331126227,
           -0.15904136091487175,
           -0.14756752732225356,
           -0.13461888616197776,
           -0.12058300781296416,
           -0.10583439818051152,
           -0.0907256642328181,
           -0.07558080422426758,
           -0.060690608986011814,
           -0.046310064114579955,
           -0.032657564269347995,
           -0.019915691575644292,
           -0.00823327044894154,
           0.0022716100207446164,
           0.011507919583092052,
           0.019407660252202565,
           0.025921773001301992,
           0.031016232090896562,
           0.03466854669458865,
           0.03686485131708162,
           0.03759772656874239,
           0.03686485131708162,
           0.03466854669458865,
           0.031016232090896562,
           0.025921773001301992,
           0.019407660252202565,
           0.011507919583092052,
           0.0022716100207446164,
           -0.00823327044894154,
           -0.019915691575644292,
           -0.032657564269347995,
           -0.046310064114579955,
           -0.060690608986011814,
           -0.07558080422426758,
           -0.0907256642328181,
           -0.10583439818051152,
           -0.12058300781296416,
           -0.13461888616197776,
           -0.14756752732225356,
           -0.15904136091487175,
           -0.16865061331126227,
           -0.1760159755489718,
           -0.18078273088932142,
           -0.1826358700412797,
           -0.18131560690315682,
           -0.17663261032673944,
           -0.16848219583369567,
           -0.15685668268767797,
           -0.14185512230149663,
           -0.12368964794720452,
           -0.10268778525178764,
           -0.07929019757294747,
           -0.054043516875550875,
           -0.027588123185645037,
           -0.0006409754282528475,
           0.026026147564044762,
           0.05161237775613617,
           0.07531659368730659,
           0.09636827159298987,
           0.11405907878471819
          ],
          [
           0.11526115097856117,
           0.09738828403656238,
           0.0759235678781371,
           0.05161237775613617,
           0.025275083284098894,
           -0.0022274559793407315,
           -0.03002807965783915,
           -0.0572857273340844,
           -0.08321475815193494,
           -0.10711012813756442,
           -0.1283676319466868,
           -0.1464987033293174,
           -0.16113955966514656,
           -0.17205475511311313,
           -0.17913546063850083,
           -0.18239300622958532,
           -0.18194839266053625,
           -0.17801860199902664,
           -0.17090060569317098,
           -0.1609539875623888,
           -0.14858307017251748,
           -0.13421936300715656,
           -0.11830504740258321,
           -0.10127808535368477,
           -0.08355939645450051,
           -0.06554239869174844,
           -0.04758506314163741,
           -0.030004497243790427,
           -0.013073952151520388,
           0.0029779491154211806,
           0.017966041941118966,
           0.031745840459068614,
           0.044209509361482956,
           0.05528095770522729,
           0.0649104168254659,
           0.07306884206017318,
           0.07974244535617742,
           0.08492762656935865,
           0.08862652853638416,
           0.09084339726921295,
           0.09158188560927924,
           0.09084339726921295,
           0.08862652853638416,
           0.08492762656935865,
           0.07974244535617742,
           0.07306884206017318,
           0.0649104168254659,
           0.05528095770522729,
           0.044209509361482956,
           0.031745840459068614,
           0.017966041941118966,
           0.0029779491154211806,
           -0.013073952151520388,
           -0.030004497243790427,
           -0.04758506314163741,
           -0.06554239869174844,
           -0.08355939645450051,
           -0.10127808535368477,
           -0.11830504740258321,
           -0.13421936300715656,
           -0.14858307017251748,
           -0.1609539875623888,
           -0.17090060569317098,
           -0.17801860199902664,
           -0.18194839266053625,
           -0.18239300622958532,
           -0.17913546063850083,
           -0.17205475511311313,
           -0.16113955966514656,
           -0.1464987033293174,
           -0.1283676319466868,
           -0.10711012813756442,
           -0.08321475815193494,
           -0.0572857273340844,
           -0.03002807965783915,
           -0.0022274559793407315,
           0.025275083284098894,
           0.05161237775613617,
           0.0759235678781371,
           0.09738828403656238
          ],
          [
           0.0993958462307399,
           0.07773008237271903,
           0.05298490441364873,
           0.026026147564044762,
           -0.0022274559793407315,
           -0.030841885736018544,
           -0.05890402451081101,
           -0.08555491563889543,
           -0.11001880232017779,
           -0.1316269478872783,
           -0.14983554931501694,
           -0.1642373823959323,
           -0.17456713788189782,
           -0.1807007071005138,
           -0.18264893898060253,
           -0.18054660691367944,
           -0.17463748569481502,
           -0.16525654180237792,
           -0.1528102839666787,
           -0.1377563081818195,
           -0.12058300781296416,
           -0.10179031338845618,
           -0.08187218787401292,
           -0.061301442485772274,
           -0.040517266401149735,
           -0.019915691575644292,
           0.0001569493213448689,
           0.019407660252202565,
           0.03759772656874239,
           0.054541276561040686,
           0.07010183827093616,
           0.08418731130237875,
           0.09674378883254962,
           0.10774865812501504,
           0.11720338291232232,
           0.12512633286074154,
           0.13154597877649798,
           0.13649472168344115,
           0.14000357308347133,
           0.14209785531573388,
           0.14279404657238684,
           0.14209785531573388,
           0.14000357308347133,
           0.13649472168344115,
           0.13154597877649798,
           0.12512633286074154,
           0.11720338291232232,
           0.10774865812501504,
           0.09674378883254962,
           0.08418731130237875,
           0.07010183827093616,
           0.054541276561040686,
           0.03759772656874239,
           0.019407660252202565,
           0.0001569493213448689,
           -0.019915691575644292,
           -0.040517266401149735,
           -0.061301442485772274,
           -0.08187218787401292,
           -0.10179031338845618,
           -0.12058300781296416,
           -0.1377563081818195,
           -0.1528102839666787,
           -0.16525654180237792,
           -0.17463748569481502,
           -0.18054660691367944,
           -0.18264893898060253,
           -0.1807007071005138,
           -0.17456713788189782,
           -0.1642373823959323,
           -0.14983554931501694,
           -0.1316269478872783,
           -0.11001880232017779,
           -0.08555491563889543,
           -0.05890402451081101,
           -0.030841885736018544,
           -0.0022274559793407315,
           0.026026147564044762,
           0.05298490441364873,
           0.07773008237271903
          ],
          [
           0.08069235790121831,
           0.05570574218106777,
           0.028270310898122826,
           -0.0006409754282528475,
           -0.03002807965783915,
           -0.05890402451081101,
           -0.08633239590937543,
           -0.1114606806231028,
           -0.13354819579908725,
           -0.15198770280837584,
           -0.16632015713858264,
           -0.17624240938958516,
           -0.18160802037610754,
           -0.18242166855756492,
           -0.1788278960809016,
           -0.17109514979541934,
           -0.15959621882048483,
           -0.14478624788034108,
           -0.1271795169340972,
           -0.10732612754693129,
           -0.0857896329957062,
           -0.0631265026963309,
           -0.039868134180728126,
           -0.016505930263581485,
           0.0065202421682302655,
           0.02883009042098063,
           0.05010748884225075,
           0.07010183827093616,
           0.08862652853638416,
           0.10555493165712146,
           0.12081441070397907,
           0.13437885433763305,
           0.14626024334832619,
           0.15649972810645998,
           0.16515865057394133,
           0.17230988766358785,
           0.17802983029511174,
           0.18239124981424537,
           0.18545724476618586,
           0.18727640924644018,
           0.18787932061729182,
           0.18727640924644018,
           0.18545724476618586,
           0.18239124981424537,
           0.17802983029511174,
           0.17230988766358785,
           0.16515865057394133,
           0.15649972810645998,
           0.14626024334832619,
           0.13437885433763305,
           0.12081441070397907,
           0.10555493165712146,
           0.08862652853638416,
           0.07010183827093616,
           0.05010748884225075,
           0.02883009042098063,
           0.0065202421682302655,
           -0.016505930263581485,
           -0.039868134180728126,
           -0.0631265026963309,
           -0.0857896329957062,
           -0.10732612754693129,
           -0.1271795169340972,
           -0.14478624788034108,
           -0.15959621882048483,
           -0.17109514979541934,
           -0.1788278960809016,
           -0.18242166855756492,
           -0.18160802037610754,
           -0.17624240938958516,
           -0.16632015713858264,
           -0.15198770280837584,
           -0.13354819579908725,
           -0.1114606806231028,
           -0.08633239590937543,
           -0.05890402451081101,
           -0.03002807965783915,
           -0.0006409754282528475,
           0.028270310898122826,
           0.05570574218106777
          ],
          [
           0.059725017515438364,
           0.03197958453286062,
           0.0025207381574719806,
           -0.027588123185645037,
           -0.0572857273340844,
           -0.08555491563889543,
           -0.1114606806231028,
           -0.13418273806183595,
           -0.15304146672549196,
           -0.16751643729146143,
           -0.17725715646546372,
           -0.18208605074549258,
           -0.18199408570471504,
           -0.17712974307464055,
           -0.16778234479339135,
           -0.1543609103022869,
           -0.13736985507049018,
           -0.11738288358628372,
           -0.0950164022704569,
           -0.07090368426500879,
           -0.045670869380806056,
           -0.019915691575644292,
           0.0058103924762656495,
           0.031016232090896562,
           0.05528095770522729,
           0.07825990831739421,
           0.09968670899986165,
           0.11937185506223688,
           0.13719827990417027,
           0.15311446345017118,
           0.16712567793535366,
           0.1792839709402817,
           0.18967745729212915,
           0.19841943861188654,
           0.20563779959612533,
           0.21146505144444128,
           0.21602931256266372,
           0.21944644111666822,
           0.22181346801290225,
           0.2232034254780841,
           0.22366162672468853,
           0.2232034254780841,
           0.22181346801290225,
           0.21944644111666822,
           0.21602931256266372,
           0.21146505144444128,
           0.20563779959612533,
           0.19841943861188654,
           0.18967745729212915,
           0.1792839709402817,
           0.16712567793535366,
           0.15311446345017118,
           0.13719827990417027,
           0.11937185506223688,
           0.09968670899986165,
           0.07825990831739421,
           0.05528095770522729,
           0.031016232090896562,
           0.0058103924762656495,
           -0.019915691575644292,
           -0.045670869380806056,
           -0.07090368426500879,
           -0.0950164022704569,
           -0.11738288358628372,
           -0.13736985507049018,
           -0.1543609103022869,
           -0.16778234479339135,
           -0.17712974307464055,
           -0.18199408570471504,
           -0.18208605074549258,
           -0.17725715646546372,
           -0.16751643729146143,
           -0.15304146672549196,
           -0.13418273806183595,
           -0.1114606806231028,
           -0.08555491563889543,
           -0.0572857273340844,
           -0.027588123185645037,
           0.0025207381574719806,
           0.03197958453286062
          ],
          [
           0.037104384846577534,
           0.007233082355737275,
           -0.023527608249201665,
           -0.054043516875550875,
           -0.08321475815193494,
           -0.11001880232017779,
           -0.13354819579908725,
           -0.15304146672549196,
           -0.167906160972842,
           -0.17773339606034183,
           -0.18230376872794093,
           -0.18158488243001691,
           -0.17572115154133375,
           -0.16501687105976595,
           -0.1499137997580331,
           -0.13096468174943518,
           -0.10880422217787396,
           -0.08411903827788304,
           -0.05761803324395176,
           -0.030004497243790427,
           -0.001951040868825416,
           0.025921773001301992,
           0.05306249567952219,
           0.07900122348247962,
           0.10335731863015635,
           0.1258425822940911,
           0.14626024334832619,
           0.16450028494360933,
           0.18053174205108255,
           0.1943926655354523,
           0.2061784643801796,
           0.21602931256266372,
           0.22411724822563847,
           0.23063350923189954,
           0.23577655069724138,
           0.23974108638511749,
           0.242708395806646,
           0.24483804991090946,
           0.24626113579560338,
           0.24707500803079696,
           0.24733956165584545,
           0.24707500803079696,
           0.24626113579560338,
           0.24483804991090946,
           0.242708395806646,
           0.23974108638511749,
           0.23577655069724138,
           0.23063350923189954,
           0.22411724822563847,
           0.21602931256266372,
           0.2061784643801796,
           0.1943926655354523,
           0.18053174205108255,
           0.16450028494360933,
           0.14626024334832619,
           0.1258425822940911,
           0.10335731863015635,
           0.07900122348247962,
           0.05306249567952219,
           0.025921773001301992,
           -0.001951040868825416,
           -0.030004497243790427,
           -0.05761803324395176,
           -0.08411903827788304,
           -0.10880422217787396,
           -0.13096468174943518,
           -0.1499137997580331,
           -0.16501687105976595,
           -0.17572115154133375,
           -0.18158488243001691,
           -0.18230376872794093,
           -0.17773339606034183,
           -0.167906160972842,
           -0.15304146672549196,
           -0.13354819579908725,
           -0.11001880232017779,
           -0.08321475815193494,
           -0.054043516875550875,
           -0.023527608249201665,
           0.007233082355737275
          ],
          [
           0.013454008098850966,
           -0.017859822184363938,
           -0.04916880920228074,
           -0.07929019757294747,
           -0.10711012813756442,
           -0.1316269478872783,
           -0.15198770280837584,
           -0.16751643729146143,
           -0.17773339606034183,
           -0.18236471957976835,
           -0.18134271385500067,
           -0.1747972342928682,
           -0.16303912773542587,
           -0.14653700801271363,
           -0.1258888846262905,
           -0.10179031338845618,
           -0.0750007897964791,
           -0.046310064114579955,
           -0.016505930263581485,
           0.013655158230898757,
           0.043473546354522816,
           0.07232710218505171,
           0.09968670899986165,
           0.12512633286074154,
           0.14832776112580212,
           0.16908036038891633,
           0.18727640924644018,
           0.20290271423033404,
           0.21602931256266372,
           0.22679610352037188,
           0.23539823538075702,
           0.2420710146043941,
           0.24707500803079696,
           0.2506818889186662,
           0.2531614457800734,
           0.25477004091850136,
           0.2557406839380664,
           0.2562747828163765,
           0.25653555744366946,
           0.2566430509401283,
           0.2566706526738519,
           0.2566430509401283,
           0.25653555744366946,
           0.2562747828163765,
           0.2557406839380664,
           0.25477004091850136,
           0.2531614457800734,
           0.2506818889186662,
           0.24707500803079696,
           0.2420710146043941,
           0.23539823538075702,
           0.22679610352037188,
           0.21602931256266372,
           0.20290271423033404,
           0.18727640924644018,
           0.16908036038891633,
           0.14832776112580212,
           0.12512633286074154,
           0.09968670899986165,
           0.07232710218505171,
           0.043473546354522816,
           0.013655158230898757,
           -0.016505930263581485,
           -0.046310064114579955,
           -0.0750007897964791,
           -0.10179031338845618,
           -0.1258888846262905,
           -0.14653700801271363,
           -0.16303912773542587,
           -0.1747972342928682,
           -0.18134271385500067,
           -0.18236471957976835,
           -0.17773339606034183,
           -0.16751643729146143,
           -0.15198770280837584,
           -0.1316269478872783,
           -0.10711012813756442,
           -0.07929019757294747,
           -0.04916880920228074,
           -0.017859822184363938
          ],
          [
           -0.01061150357619211,
           -0.042655257000177006,
           -0.07374973820785838,
           -0.10268778525178764,
           -0.1283676319466868,
           -0.14983554931501694,
           -0.16632015713858264,
           -0.17725715646546372,
           -0.18230376872794093,
           -0.18134271385500067,
           -0.17447608825271163,
           -0.16200998595397612,
           -0.14443111863131364,
           -0.12237701362727325,
           -0.09660159075517502,
           -0.06793803188546253,
           -0.03726086233570953,
           -0.005449066140771361,
           0.026648129724923395,
           0.058241427706856384,
           0.08862652853638416,
           0.11720338291232232,
           0.14348926836260514,
           0.16712567793535366,
           0.18787932061729182,
           0.20563779959612533,
           0.22040074178662336,
           0.23226729318028777,
           0.24142096714711753,
           0.24811283911536614,
           0.25264402764959015,
           0.255348298963932,
           0.256575492104657,
           0.2566762997375786,
           0.2559887694405144,
           0.2548267267047997,
           0.25347017586536014,
           0.252157618714697,
           0.25108014921898075,
           0.25037713957121355,
           0.25013332713993036,
           0.25037713957121355,
           0.25108014921898075,
           0.252157618714697,
           0.25347017586536014,
           0.2548267267047997,
           0.2559887694405144,
           0.2566762997375786,
           0.256575492104657,
           0.255348298963932,
           0.25264402764959015,
           0.24811283911536614,
           0.24142096714711753,
           0.23226729318028777,
           0.22040074178662336,
           0.20563779959612533,
           0.18787932061729182,
           0.16712567793535366,
           0.14348926836260514,
           0.11720338291232232,
           0.08862652853638416,
           0.058241427706856384,
           0.026648129724923395,
           -0.005449066140771361,
           -0.03726086233570953,
           -0.06793803188546253,
           -0.09660159075517502,
           -0.12237701362727325,
           -0.14443111863131364,
           -0.16200998595397612,
           -0.17447608825271163,
           -0.18134271385500067,
           -0.18230376872794093,
           -0.17725715646546372,
           -0.16632015713858264,
           -0.14983554931501694,
           -0.1283676319466868,
           -0.10268778525178764,
           -0.07374973820785838,
           -0.042655257000177006
          ],
          [
           -0.0345063152690242,
           -0.06655906279410359,
           -0.09668883252747353,
           -0.12368964794720452,
           -0.1464987033293174,
           -0.1642373823959323,
           -0.17624240938958516,
           -0.18208605074549258,
           -0.18158488243001691,
           -0.1747972342928682,
           -0.16200998595397612,
           -0.1437158894806465,
           -0.12058300781296416,
           -0.09341816596346665,
           -0.0631265026963309,
           -0.03066927919323432,
           0.0029779491154211806,
           0.03686485131708162,
           0.07010183827093616,
           0.1018902143955224,
           0.13154597877649798,
           0.15851669454452746,
           0.18239124981424537,
           0.20290271423033404,
           0.21992483146863692,
           0.23346296309158113,
           0.24364050109720906,
           0.2506818889186662,
           0.254893432701845,
           0.2566430509401283,
           0.2563400102730029,
           0.25441554164532254,
           0.25130504004127213,
           0.24743234013685533,
           0.2431963471432226,
           0.23896010343988033,
           0.23504220166614895,
           0.2317103248693539,
           0.22917661128094333,
           0.22759450814784551,
           0.2270567942100705,
           0.22759450814784551,
           0.22917661128094333,
           0.2317103248693539,
           0.23504220166614895,
           0.23896010343988033,
           0.2431963471432226,
           0.24743234013685533,
           0.25130504004127213,
           0.25441554164532254,
           0.2563400102730029,
           0.2566430509401283,
           0.254893432701845,
           0.2506818889186662,
           0.24364050109720906,
           0.23346296309158113,
           0.21992483146863692,
           0.20290271423033404,
           0.18239124981424537,
           0.15851669454452746,
           0.13154597877649798,
           0.1018902143955224,
           0.07010183827093616,
           0.03686485131708162,
           0.0029779491154211806,
           -0.03066927919323432,
           -0.0631265026963309,
           -0.09341816596346665,
           -0.12058300781296416,
           -0.1437158894806465,
           -0.16200998595397612,
           -0.1747972342928682,
           -0.18158488243001691,
           -0.18208605074549258,
           -0.17624240938958516,
           -0.1642373823959323,
           -0.1464987033293174,
           -0.12368964794720452,
           -0.09668883252747353,
           -0.06655906279410359
          ],
          [
           -0.05769048962428924,
           -0.08904297911487404,
           -0.11749065565570795,
           -0.14185512230149663,
           -0.16113955966514656,
           -0.17456713788189782,
           -0.18160802037610754,
           -0.18199408570471504,
           -0.17572115154133375,
           -0.16303912773542587,
           -0.14443111863131364,
           -0.12058300781296416,
           -0.09234546620178369,
           -0.060690608986011814,
           -0.026665677985416577,
           0.008653858363151095,
           0.044209509361482956,
           0.07900122348247962,
           0.11212338767979044,
           0.14279404657238684,
           0.17037647050011584,
           0.1943926655354523,
           0.2145288714461612,
           0.23063350923189954,
           0.242708395806646,
           0.2508943222213973,
           0.2554522819126627,
           0.2567417315441088,
           0.25519727019112654,
           0.25130504004127213,
           0.2455799958764798,
           0.23854497801642713,
           0.23071227369415245,
           0.2225680860000738,
           0.21456006847846779,
           0.2070878465419809,
           0.20049625055173417,
           0.19507084218595108,
           0.19103523332295086,
           0.18854967763954522,
           0.18771045677679687,
           0.18854967763954522,
           0.19103523332295086,
           0.19507084218595108,
           0.20049625055173417,
           0.2070878465419809,
           0.21456006847846779,
           0.2225680860000738,
           0.23071227369415245,
           0.23854497801642713,
           0.2455799958764798,
           0.25130504004127213,
           0.25519727019112654,
           0.2567417315441088,
           0.2554522819126627,
           0.2508943222213973,
           0.242708395806646,
           0.23063350923189954,
           0.2145288714461612,
           0.1943926655354523,
           0.17037647050011584,
           0.14279404657238684,
           0.11212338767979044,
           0.07900122348247962,
           0.044209509361482956,
           0.008653858363151095,
           -0.026665677985416577,
           -0.060690608986011814,
           -0.09234546620178369,
           -0.12058300781296416,
           -0.14443111863131364,
           -0.16303912773542587,
           -0.17572115154133375,
           -0.18199408570471504,
           -0.18160802037610754,
           -0.17456713788189782,
           -0.16113955966514656,
           -0.14185512230149663,
           -0.11749065565570795,
           -0.08904297911487404
          ],
          [
           -0.07968395387291566,
           -0.10965701691843574,
           -0.13575600794040762,
           -0.15685668268767797,
           -0.17205475511311313,
           -0.1807007071005138,
           -0.18242166855756492,
           -0.17712974307464055,
           -0.16501687105976595,
           -0.14653700801271363,
           -0.12237701362727325,
           -0.09341816596346665,
           -0.060690608986011814,
           -0.02532329427921568,
           0.011507919583092052,
           0.04863139306208121,
           0.08492762656935865,
           0.11937185506223688,
           0.15106960365711752,
           0.1792839709402817,
           0.20345392533496165,
           0.2232034254780841,
           0.2383416766936446,
           0.24885528388828942,
           0.254893432701845,
           0.25674750760048576,
           0.2548267267047997,
           0.24963143467045815,
           0.24172565029557566,
           0.2317103248693539,
           0.22019854657881394,
           0.20779364608280457,
           0.19507084218595108,
           0.18256273925541686,
           0.17074867404778504,
           0.16004763127913005,
           0.15081422331281308,
           0.1433370736825879,
           0.13783886506830845,
           0.134477311926808,
           0.1333463922312941,
           0.134477311926808,
           0.13783886506830845,
           0.1433370736825879,
           0.15081422331281308,
           0.16004763127913005,
           0.17074867404778504,
           0.18256273925541686,
           0.19507084218595108,
           0.20779364608280457,
           0.22019854657881394,
           0.2317103248693539,
           0.24172565029557566,
           0.24963143467045815,
           0.2548267267047997,
           0.25674750760048576,
           0.254893432701845,
           0.24885528388828942,
           0.2383416766936446,
           0.2232034254780841,
           0.20345392533496165,
           0.1792839709402817,
           0.15106960365711752,
           0.11937185506223688,
           0.08492762656935865,
           0.04863139306208121,
           0.011507919583092052,
           -0.02532329427921568,
           -0.060690608986011814,
           -0.09341816596346665,
           -0.12237701362727325,
           -0.14653700801271363,
           -0.16501687105976595,
           -0.17712974307464055,
           -0.18242166855756492,
           -0.1807007071005138,
           -0.17205475511311313,
           -0.15685668268767797,
           -0.13575600794040762,
           -0.10965701691843574
          ],
          [
           -0.10007704610444179,
           -0.12803786284735597,
           -0.1511875643863488,
           -0.16848219583369567,
           -0.17913546063850083,
           -0.18264893898060253,
           -0.1788278960809016,
           -0.16778234479339135,
           -0.1499137997580331,
           -0.1258888846262905,
           -0.09660159075517502,
           -0.0631265026963309,
           -0.026665677985416577,
           0.011507919583092052,
           0.05010748884225075,
           0.0878871354792479,
           0.12369173187889267,
           0.15649972810645998,
           0.18545724476618586,
           0.20990234059772522,
           0.22937894091767205,
           0.24364050109720906,
           0.25264402764959015,
           0.25653555744366946,
           0.25562857790064414,
           0.25037713957121355,
           0.2413455569066888,
           0.22917661128094333,
           0.21456006847846779,
           0.1982031145119569,
           0.18080401871815463,
           0.1630299764243758,
           0.14549969299473817,
           0.12877087581897034,
           0.11333242903336226,
           0.09960082298540655,
           0.08791985781076668,
           0.07856287339249271,
           0.07173638515428266,
           0.06758414818694233,
           0.0661907655654817,
           0.06758414818694233,
           0.07173638515428266,
           0.07856287339249271,
           0.08791985781076668,
           0.09960082298540655,
           0.11333242903336226,
           0.12877087581897034,
           0.14549969299473817,
           0.1630299764243758,
           0.18080401871815463,
           0.1982031145119569,
           0.21456006847846779,
           0.22917661128094333,
           0.2413455569066888,
           0.25037713957121355,
           0.25562857790064414,
           0.25653555744366946,
           0.25264402764959015,
           0.24364050109720906,
           0.22937894091767205,
           0.20990234059772522,
           0.18545724476618586,
           0.15649972810645998,
           0.12369173187889267,
           0.0878871354792479,
           0.05010748884225075,
           0.011507919583092052,
           -0.026665677985416577,
           -0.0631265026963309,
           -0.09660159075517502,
           -0.1258888846262905,
           -0.1499137997580331,
           -0.16778234479339135,
           -0.1788278960809016,
           -0.18264893898060253,
           -0.17913546063850083,
           -0.16848219583369567,
           -0.1511875643863488,
           -0.12803786284735597
          ],
          [
           -0.11853755153953284,
           -0.14391335124448024,
           -0.163591222139663,
           -0.17663261032673944,
           -0.18239300622958532,
           -0.18054660691367944,
           -0.17109514979541934,
           -0.1543609103022869,
           -0.13096468174943518,
           -0.10179031338845618,
           -0.06793803188546253,
           -0.03066927919323432,
           0.008653858363151095,
           0.04863139306208121,
           0.0878871354792479,
           0.12512633286074154,
           0.15918658398472915,
           0.1890798565922851,
           0.21402402107025095,
           0.23346296309158113,
           0.24707500803079696,
           0.25477004091850136,
           0.2566762997375786,
           0.25311832399967577,
           0.24458792842044305,
           0.2317103248693539,
           0.2152076253393881,
           0.19586192453391038,
           0.17447999195279823,
           0.15186131748507978,
           0.12877087581897034,
           0.10591753298818528,
           0.08393854575868848,
           0.06339013493636744,
           0.044743679368913644,
           0.02838670735216783,
           0.014627580006334946,
           0.0037025838949493145,
           -0.004215913110515241,
           -0.009011537058698997,
           -0.010617349295218181,
           -0.009011537058698997,
           -0.004215913110515241,
           0.0037025838949493145,
           0.014627580006334946,
           0.02838670735216783,
           0.044743679368913644,
           0.06339013493636744,
           0.08393854575868848,
           0.10591753298818528,
           0.12877087581897034,
           0.15186131748507978,
           0.17447999195279823,
           0.19586192453391038,
           0.2152076253393881,
           0.2317103248693539,
           0.24458792842044305,
           0.25311832399967577,
           0.2566762997375786,
           0.25477004091850136,
           0.24707500803079696,
           0.23346296309158113,
           0.21402402107025095,
           0.1890798565922851,
           0.15918658398472915,
           0.12512633286074154,
           0.0878871354792479,
           0.04863139306208121,
           0.008653858363151095,
           -0.03066927919323432,
           -0.06793803188546253,
           -0.10179031338845618,
           -0.13096468174943518,
           -0.1543609103022869,
           -0.17109514979541934,
           -0.18054660691367944,
           -0.18239300622958532,
           -0.17663261032673944,
           -0.163591222139663,
           -0.14391335124448024
          ],
          [
           -0.13481430178982187,
           -0.15710321083861073,
           -0.17287351607260817,
           -0.18131560690315682,
           -0.18194839266053625,
           -0.17463748569481502,
           -0.15959621882048483,
           -0.13736985507049018,
           -0.10880422217787396,
           -0.0750007897964791,
           -0.03726086233570953,
           0.0029779491154211806,
           0.044209509361482956,
           0.08492762656935865,
           0.12369173187889267,
           0.15918658398472915,
           0.1902732638436695,
           0.21602931256266372,
           0.23577655069724138,
           0.24909585663212155,
           0.25582893038458626,
           0.2560677827399544,
           0.25013332713993036,
           0.23854497801642713,
           0.22198354690007724,
           0.20124995852555586,
           0.17722237538812438,
           0.15081422331281308,
           0.12293536517635703,
           0.09445829662141196,
           0.0661907655654817,
           0.03885568116655977,
           0.013078615468659323,
           -0.010617349295218181,
           -0.03181017613329085,
           -0.050171999808914604,
           -0.06545830501430487,
           -0.07749482277960204,
           -0.08616386191642225,
           -0.09139170665445415,
           -0.09313849939964196,
           -0.09139170665445415,
           -0.08616386191642225,
           -0.07749482277960204,
           -0.06545830501430487,
           -0.050171999808914604,
           -0.03181017613329085,
           -0.010617349295218181,
           0.013078615468659323,
           0.03885568116655977,
           0.0661907655654817,
           0.09445829662141196,
           0.12293536517635703,
           0.15081422331281308,
           0.17722237538812438,
           0.20124995852555586,
           0.22198354690007724,
           0.23854497801642713,
           0.25013332713993036,
           0.2560677827399544,
           0.25582893038458626,
           0.24909585663212155,
           0.23577655069724138,
           0.21602931256266372,
           0.1902732638436695,
           0.15918658398472915,
           0.12369173187889267,
           0.08492762656935865,
           0.044209509361482956,
           0.0029779491154211806,
           -0.03726086233570953,
           -0.0750007897964791,
           -0.10880422217787396,
           -0.13736985507049018,
           -0.15959621882048483,
           -0.17463748569481502,
           -0.18194839266053625,
           -0.18131560690315682,
           -0.17287351607260817,
           -0.15710321083861073
          ],
          [
           -0.1487375524385824,
           -0.16751643729146143,
           -0.17903560277058095,
           -0.1826358700412797,
           -0.17801860199902664,
           -0.16525654180237792,
           -0.14478624788034108,
           -0.11738288358628372,
           -0.08411903827788304,
           -0.046310064114579955,
           -0.005449066140771361,
           0.03686485131708162,
           0.07900122348247962,
           0.11937185506223688,
           0.15649972810645998,
           0.1890798565922851,
           0.21602931256266372,
           0.2365243422174828,
           0.25002327766855664,
           0.2562747828163765,
           0.2553118000893658,
           0.24743234013685533,
           0.23316893482082693,
           0.21324911772700825,
           0.18854967763954522,
           0.16004763127913005,
           0.12877087581897034,
           0.0957513146109,
           0.06198291759831892,
           0.02838670735216783,
           -0.004215913110515241,
           -0.03512071345143313,
           -0.06374895250625122,
           -0.08964697741323371,
           -0.11247819731414006,
           -0.132008995765264,
           -0.14809048863531396,
           -0.16063822727306362,
           -0.1696119802323752,
           -0.17499760171649797,
           -0.17679272260843765,
           -0.17499760171649797,
           -0.1696119802323752,
           -0.16063822727306362,
           -0.14809048863531396,
           -0.132008995765264,
           -0.11247819731414006,
           -0.08964697741323371,
           -0.06374895250625122,
           -0.03512071345143313,
           -0.004215913110515241,
           0.02838670735216783,
           0.06198291759831892,
           0.0957513146109,
           0.12877087581897034,
           0.16004763127913005,
           0.18854967763954522,
           0.21324911772700825,
           0.23316893482082693,
           0.24743234013685533,
           0.2553118000893658,
           0.2562747828163765,
           0.25002327766855664,
           0.2365243422174828,
           0.21602931256266372,
           0.1890798565922851,
           0.15649972810645998,
           0.11937185506223688,
           0.07900122348247962,
           0.03686485131708162,
           -0.005449066140771361,
           -0.046310064114579955,
           -0.08411903827788304,
           -0.11738288358628372,
           -0.14478624788034108,
           -0.16525654180237792,
           -0.17801860199902664,
           -0.1826358700412797,
           -0.17903560277058095,
           -0.16751643729146143
          ],
          [
           -0.16021647158282734,
           -0.1751457556394694,
           -0.1821644169794075,
           -0.18078273088932142,
           -0.17090060569317098,
           -0.1528102839666787,
           -0.1271795169340972,
           -0.0950164022704569,
           -0.05761803324395176,
           -0.016505930263581485,
           0.026648129724923395,
           0.07010183827093616,
           0.11212338767979044,
           0.15106960365711752,
           0.18545724476618586,
           0.21402402107025095,
           0.23577655069724138,
           0.25002327766855664,
           0.25639126767027576,
           0.2548267267047997,
           0.2455799958764798,
           0.22917661128094333,
           0.2063767337439853,
           0.17812580971586786,
           0.14549969299473817,
           0.1096476200446325,
           0.07173638515428266,
           0.032898814044057145,
           -0.005810793613848673,
           -0.043452159632214875,
           -0.0792240541655952,
           -0.11247819731414006,
           -0.1427221428215067,
           -0.1696119802323752,
           -0.1929363397545002,
           -0.2125937105436689,
           -0.22856545626592412,
           -0.24088710992360066,
           -0.24962054293732017,
           -0.254829433326894,
           -0.2565601183892334,
           -0.254829433326894,
           -0.24962054293732017,
           -0.24088710992360066,
           -0.22856545626592412,
           -0.2125937105436689,
           -0.1929363397545002,
           -0.1696119802323752,
           -0.1427221428215067,
           -0.11247819731414006,
           -0.0792240541655952,
           -0.043452159632214875,
           -0.005810793613848673,
           0.032898814044057145,
           0.07173638515428266,
           0.1096476200446325,
           0.14549969299473817,
           0.17812580971586786,
           0.2063767337439853,
           0.22917661128094333,
           0.2455799958764798,
           0.2548267267047997,
           0.25639126767027576,
           0.25002327766855664,
           0.23577655069724138,
           0.21402402107025095,
           0.18545724476618586,
           0.15106960365711752,
           0.11212338767979044,
           0.07010183827093616,
           0.026648129724923395,
           -0.016505930263581485,
           -0.05761803324395176,
           -0.0950164022704569,
           -0.1271795169340972,
           -0.1528102839666787,
           -0.17090060569317098,
           -0.18078273088932142,
           -0.1821644169794075,
           -0.1751457556394694
          ],
          [
           -0.16923416092386775,
           -0.1800597155006458,
           -0.18242166855756492,
           -0.1760159755489718,
           -0.1609539875623888,
           -0.1377563081818195,
           -0.10732612754693129,
           -0.07090368426500879,
           -0.030004497243790427,
           0.013655158230898757,
           0.058241427706856384,
           0.1018902143955224,
           0.14279404657238684,
           0.1792839709402817,
           0.20990234059772522,
           0.23346296309158113,
           0.24909585663212155,
           0.2562747828163765,
           0.2548267267047997,
           0.24492352037505036,
           0.2270567942100705,
           0.20199833430642128,
           0.17074867404778504,
           0.134477311926808,
           0.09445829662141196,
           0.05200503792795912,
           0.00840808631479302,
           -0.03512071345143313,
           -0.07749482277960204,
           -0.1177881852505473,
           -0.15525760655490364,
           -0.18935183535374994,
           -0.21970771693043264,
           -0.24613461781837798,
           -0.268589046149572,
           -0.28714197491104243,
           -0.30194177876754097,
           -0.31317589634427284,
           -0.3210343185560354,
           -0.32567778292945404,
           -0.32721314035298743,
           -0.32567778292945404,
           -0.3210343185560354,
           -0.31317589634427284,
           -0.30194177876754097,
           -0.28714197491104243,
           -0.268589046149572,
           -0.24613461781837798,
           -0.21970771693043264,
           -0.18935183535374994,
           -0.15525760655490364,
           -0.1177881852505473,
           -0.07749482277960204,
           -0.03512071345143313,
           0.00840808631479302,
           0.05200503792795912,
           0.09445829662141196,
           0.134477311926808,
           0.17074867404778504,
           0.20199833430642128,
           0.2270567942100705,
           0.24492352037505036,
           0.2548267267047997,
           0.2562747828163765,
           0.24909585663212155,
           0.23346296309158113,
           0.20990234059772522,
           0.1792839709402817,
           0.14279404657238684,
           0.1018902143955224,
           0.058241427706856384,
           0.013655158230898757,
           -0.030004497243790427,
           -0.07090368426500879,
           -0.10732612754693129,
           -0.1377563081818195,
           -0.1609539875623888,
           -0.1760159755489718,
           -0.18242166855756492,
           -0.1800597155006458
          ],
          [
           -0.17584069010379264,
           -0.18239300622958532,
           -0.1800313728705813,
           -0.16865061331126227,
           -0.14858307017251748,
           -0.12058300781296416,
           -0.0857896329957062,
           -0.045670869380806056,
           -0.001951040868825416,
           0.043473546354522816,
           0.08862652853638416,
           0.13154597877649798,
           0.17037647050011584,
           0.20345392533496165,
           0.22937894091767205,
           0.24707500803079696,
           0.25582893038458626,
           0.2553118000893658,
           0.2455799958764798,
           0.2270567942100705,
           0.20049625055173417,
           0.16693195814109418,
           0.12761407121954643,
           0.08393854575868848,
           0.037372873633869375,
           -0.010617349295218181,
           -0.05863687417657578,
           -0.10542055787501849,
           -0.14988136590815446,
           -0.19114437378651342,
           -0.22856545626592412,
           -0.2617343483375656,
           -0.29046275344788247,
           -0.31475910259630246,
           -0.33479237619194996,
           -0.35084804028714445,
           -0.3632795822101567,
           -0.37245933283868765,
           -0.3787322233669178,
           -0.382375848005458,
           -0.3835697098652554,
           -0.382375848005458,
           -0.3787322233669178,
           -0.37245933283868765,
           -0.3632795822101567,
           -0.35084804028714445,
           -0.33479237619194996,
           -0.31475910259630246,
           -0.29046275344788247,
           -0.2617343483375656,
           -0.22856545626592412,
           -0.19114437378651342,
           -0.14988136590815446,
           -0.10542055787501849,
           -0.05863687417657578,
           -0.010617349295218181,
           0.037372873633869375,
           0.08393854575868848,
           0.12761407121954643,
           0.16693195814109418,
           0.20049625055173417,
           0.2270567942100705,
           0.2455799958764798,
           0.2553118000893658,
           0.25582893038458626,
           0.24707500803079696,
           0.22937894091767205,
           0.20345392533496165,
           0.17037647050011584,
           0.13154597877649798,
           0.08862652853638416,
           0.043473546354522816,
           -0.001951040868825416,
           -0.045670869380806056,
           -0.0857896329957062,
           -0.12058300781296416,
           -0.14858307017251748,
           -0.16865061331126227,
           -0.1800313728705813,
           -0.18239300622958532
          ],
          [
           -0.1801446545297837,
           -0.18233559039097344,
           -0.1752665961050691,
           -0.15904136091487175,
           -0.13421936300715656,
           -0.10179031338845618,
           -0.0631265026963309,
           -0.019915691575644292,
           0.025921773001301992,
           0.07232710218505171,
           0.11720338291232232,
           0.15851669454452746,
           0.1943926655354523,
           0.2232034254780841,
           0.24364050109720906,
           0.25477004091850136,
           0.2560677827399544,
           0.24743234013685533,
           0.22917661128094333,
           0.20199833430642128,
           0.16693195814109418,
           0.12528500092613942,
           0.07856287339249271,
           0.02838670735216783,
           -0.02359098016854476,
           -0.0757679524450742,
           -0.12666669235949252,
           -0.17499760171649797,
           -0.21970771693043264,
           -0.26001264723920775,
           -0.29541051237375787,
           -0.32567778292945404,
           -0.35084804028714445,
           -0.37117570680030565,
           -0.38708768931988075,
           -0.3991265770886398,
           -0.407889497747319,
           -0.41396693622794944,
           -0.417885750201407,
           -0.4200602785751461,
           -0.4207548585159486,
           -0.4200602785751461,
           -0.417885750201407,
           -0.41396693622794944,
           -0.407889497747319,
           -0.3991265770886398,
           -0.38708768931988075,
           -0.37117570680030565,
           -0.35084804028714445,
           -0.32567778292945404,
           -0.29541051237375787,
           -0.26001264723920775,
           -0.21970771693043264,
           -0.17499760171649797,
           -0.12666669235949252,
           -0.0757679524450742,
           -0.02359098016854476,
           0.02838670735216783,
           0.07856287339249271,
           0.12528500092613942,
           0.16693195814109418,
           0.20199833430642128,
           0.22917661128094333,
           0.24743234013685533,
           0.2560677827399544,
           0.25477004091850136,
           0.24364050109720906,
           0.2232034254780841,
           0.1943926655354523,
           0.15851669454452746,
           0.11720338291232232,
           0.07232710218505171,
           0.025921773001301992,
           -0.019915691575644292,
           -0.0631265026963309,
           -0.10179031338845618,
           -0.13421936300715656,
           -0.15904136091487175,
           -0.1752665961050691,
           -0.18233559039097344
          ],
          [
           -0.18230376872794093,
           -0.18012123502583363,
           -0.16843605361995675,
           -0.14756752732225356,
           -0.11830504740258321,
           -0.08187218787401292,
           -0.039868134180728126,
           0.0058103924762656495,
           0.05306249567952219,
           0.09968670899986165,
           0.14348926836260514,
           0.18239124981424537,
           0.2145288714461612,
           0.2383416766936446,
           0.25264402764959015,
           0.2566762997375786,
           0.25013332713993036,
           0.23316893482082693,
           0.2063767337439853,
           0.17074867404778504,
           0.12761407121954643,
           0.07856287339249271,
           0.02535776443828009,
           -0.030159748399708135,
           -0.08616386191642225,
           -0.1409342819269669,
           -0.1929363397545002,
           -0.24088710992360066,
           -0.2838041182964338,
           -0.3210343185560354,
           -0.35226222727992795,
           -0.37749737145928347,
           -0.3970424421347404,
           -0.41144469052055266,
           -0.42143408131469146,
           -0.42785247459104203,
           -0.43157859884674826,
           -0.4334537754581445,
           -0.434213248547002,
           -0.43442757176285574,
           -0.43445783007337646,
           -0.43442757176285574,
           -0.434213248547002,
           -0.4334537754581445,
           -0.43157859884674826,
           -0.42785247459104203,
           -0.42143408131469146,
           -0.41144469052055266,
           -0.3970424421347404,
           -0.37749737145928347,
           -0.35226222727992795,
           -0.3210343185560354,
           -0.2838041182964338,
           -0.24088710992360066,
           -0.1929363397545002,
           -0.1409342819269669,
           -0.08616386191642225,
           -0.030159748399708135,
           0.02535776443828009,
           0.07856287339249271,
           0.12761407121954643,
           0.17074867404778504,
           0.2063767337439853,
           0.23316893482082693,
           0.25013332713993036,
           0.2566762997375786,
           0.25264402764959015,
           0.2383416766936446,
           0.2145288714461612,
           0.18239124981424537,
           0.14348926836260514,
           0.09968670899986165,
           0.05306249567952219,
           0.0058103924762656495,
           -0.039868134180728126,
           -0.08187218787401292,
           -0.11830504740258321,
           -0.14756752732225356,
           -0.16843605361995675,
           -0.18012123502583363
          ],
          [
           -0.18251498442862385,
           -0.1760159755489718,
           -0.15987112992755653,
           -0.13461888616197776,
           -0.10127808535368477,
           -0.061301442485772274,
           -0.016505930263581485,
           0.031016232090896562,
           0.07900122348247962,
           0.12512633286074154,
           0.16712567793535366,
           0.20290271423033404,
           0.23063350923189954,
           0.24885528388828942,
           0.25653555744366946,
           0.25311832399967577,
           0.23854497801642713,
           0.21324911772700825,
           0.17812580971586786,
           0.134477311926808,
           0.08393854575868848,
           0.02838670735216783,
           -0.030159748399708135,
           -0.08964697741323371,
           -0.14809048863531396,
           -0.2036729142303004,
           -0.254829433326894,
           -0.3003162506586467,
           -0.3392585664190622,
           -0.37117570680030565,
           -0.39598244357893553,
           -0.41396693622794944,
           -0.42574709936268906,
           -0.43220845214435083,
           -0.43442757176285574,
           -0.4335860886421158,
           -0.4308806796227811,
           -0.4274347075936389,
           -0.42421701152445723,
           -0.42197287899622543,
           -0.421171462695804,
           -0.42197287899622543,
           -0.42421701152445723,
           -0.4274347075936389,
           -0.4308806796227811,
           -0.4335860886421158,
           -0.43442757176285574,
           -0.43220845214435083,
           -0.42574709936268906,
           -0.41396693622794944,
           -0.39598244357893553,
           -0.37117570680030565,
           -0.3392585664190622,
           -0.3003162506586467,
           -0.254829433326894,
           -0.2036729142303004,
           -0.14809048863531396,
           -0.08964697741323371,
           -0.030159748399708135,
           0.02838670735216783,
           0.08393854575868848,
           0.134477311926808,
           0.17812580971586786,
           0.21324911772700825,
           0.23854497801642713,
           0.25311832399967577,
           0.25653555744366946,
           0.24885528388828942,
           0.23063350923189954,
           0.20290271423033404,
           0.16712567793535366,
           0.12512633286074154,
           0.07900122348247962,
           0.031016232090896562,
           -0.016505930263581485,
           -0.061301442485772274,
           -0.10127808535368477,
           -0.13461888616197776,
           -0.15987112992755653,
           -0.1760159755489718
          ],
          [
           -0.18100457917857166,
           -0.17030698199702413,
           -0.1499137997580331,
           -0.12058300781296416,
           -0.08355939645450051,
           -0.040517266401149735,
           0.0065202421682302655,
           0.05528095770522729,
           0.10335731863015635,
           0.14832776112580212,
           0.18787932061729182,
           0.21992483146863692,
           0.242708395806646,
           0.254893432701845,
           0.25562857790064414,
           0.24458792842044305,
           0.22198354690007724,
           0.18854967763954522,
           0.14549969299473817,
           0.09445829662141196,
           0.037372873633869375,
           -0.02359098016854476,
           -0.08616386191642225,
           -0.14809048863531396,
           -0.20724458052139974,
           -0.2617343483375656,
           -0.309992807249447,
           -0.35084804028714445,
           -0.3835697098652554,
           -0.407889497747319,
           -0.42399466300627076,
           -0.43249545715781157,
           -0.43436863670247905,
           -0.4308806796227811,
           -0.42349546556438716,
           -0.4137720534188708,
           -0.40325873487122593,
           -0.39338972722403176,
           -0.3853906832849483,
           -0.3801986514917913,
           -0.3784012476539641,
           -0.3801986514917913,
           -0.3853906832849483,
           -0.39338972722403176,
           -0.40325873487122593,
           -0.4137720534188708,
           -0.42349546556438716,
           -0.4308806796227811,
           -0.43436863670247905,
           -0.43249545715781157,
           -0.42399466300627076,
           -0.407889497747319,
           -0.3835697098652554,
           -0.35084804028714445,
           -0.309992807249447,
           -0.2617343483375656,
           -0.20724458052139974,
           -0.14809048863531396,
           -0.08616386191642225,
           -0.02359098016854476,
           0.037372873633869375,
           0.09445829662141196,
           0.14549969299473817,
           0.18854967763954522,
           0.22198354690007724,
           0.24458792842044305,
           0.25562857790064414,
           0.254893432701845,
           0.242708395806646,
           0.21992483146863692,
           0.18787932061729182,
           0.14832776112580212,
           0.10335731863015635,
           0.05528095770522729,
           0.0065202421682302655,
           -0.040517266401149735,
           -0.08355939645450051,
           -0.12058300781296416,
           -0.1499137997580331,
           -0.17030698199702413
          ],
          [
           -0.17801860199902664,
           -0.16329221750830802,
           -0.13890582780165694,
           -0.10583439818051152,
           -0.06554239869174844,
           -0.019915691575644292,
           0.02883009042098063,
           0.07825990831739421,
           0.1258425822940911,
           0.16908036038891633,
           0.20563779959612533,
           0.23346296309158113,
           0.2508943222213973,
           0.25674750760048576,
           0.25037713957121355,
           0.2317103248693539,
           0.20124995852555586,
           0.16004763127913005,
           0.1096476200446325,
           0.05200503792795912,
           -0.010617349295218181,
           -0.0757679524450742,
           -0.1409342819269669,
           -0.2036729142303004,
           -0.2617343483375656,
           -0.31317589634427284,
           -0.3564564355250057,
           -0.3905078789395116,
           -0.4147795406040892,
           -0.42925310491460716,
           -0.43442757176285574,
           -0.4312752446188071,
           -0.421171462695804,
           -0.40580225753498556,
           -0.38705535500366767,
           -0.36690087535799776,
           -0.3472686537517362,
           -0.32992927901128904,
           -0.3163857196862348,
           -0.3077817863653888,
           -0.30483270332925,
           -0.3077817863653888,
           -0.3163857196862348,
           -0.32992927901128904,
           -0.3472686537517362,
           -0.36690087535799776,
           -0.38705535500366767,
           -0.40580225753498556,
           -0.421171462695804,
           -0.4312752446188071,
           -0.43442757176285574,
           -0.42925310491460716,
           -0.4147795406040892,
           -0.3905078789395116,
           -0.3564564355250057,
           -0.31317589634427284,
           -0.2617343483375656,
           -0.2036729142303004,
           -0.1409342819269669,
           -0.0757679524450742,
           -0.010617349295218181,
           0.05200503792795912,
           0.1096476200446325,
           0.16004763127913005,
           0.20124995852555586,
           0.2317103248693539,
           0.25037713957121355,
           0.25674750760048576,
           0.2508943222213973,
           0.23346296309158113,
           0.20563779959612533,
           0.16908036038891633,
           0.1258425822940911,
           0.07825990831739421,
           0.02883009042098063,
           -0.019915691575644292,
           -0.06554239869174844,
           -0.10583439818051152,
           -0.13890582780165694,
           -0.16329221750830802
          ],
          [
           -0.1738139924448547,
           -0.15527119023634722,
           -0.1271795169340972,
           -0.0907256642328181,
           -0.04758506314163741,
           0.0001569493213448689,
           0.05010748884225075,
           0.09968670899986165,
           0.14626024334832619,
           0.18727640924644018,
           0.22040074178662336,
           0.24364050109720906,
           0.2554522819126627,
           0.2548267267047997,
           0.2413455569066888,
           0.2152076253393881,
           0.17722237538812438,
           0.12877087581897034,
           0.07173638515428266,
           0.00840808631479302,
           -0.05863687417657578,
           -0.12666669235949252,
           -0.1929363397545002,
           -0.254829433326894,
           -0.309992807249447,
           -0.3564564355250057,
           -0.39273214882544505,
           -0.417885750201407,
           -0.43157859884674826,
           -0.434076417833265,
           -0.42622489689420734,
           -0.4093935036702951,
           -0.3853906832849483,
           -0.35635521764627226,
           -0.324629843053556,
           -0.2926242127644853,
           -0.2626748843273063,
           -0.23691017597600564,
           -0.21712746254366178,
           -0.20468978410715197,
           -0.20044755867978276,
           -0.20468978410715197,
           -0.21712746254366178,
           -0.23691017597600564,
           -0.2626748843273063,
           -0.2926242127644853,
           -0.324629843053556,
           -0.35635521764627226,
           -0.3853906832849483,
           -0.4093935036702951,
           -0.42622489689420734,
           -0.434076417833265,
           -0.43157859884674826,
           -0.417885750201407,
           -0.39273214882544505,
           -0.3564564355250057,
           -0.309992807249447,
           -0.254829433326894,
           -0.1929363397545002,
           -0.12666669235949252,
           -0.05863687417657578,
           0.00840808631479302,
           0.07173638515428266,
           0.12877087581897034,
           0.17722237538812438,
           0.2152076253393881,
           0.2413455569066888,
           0.2548267267047997,
           0.2554522819126627,
           0.24364050109720906,
           0.22040074178662336,
           0.18727640924644018,
           0.14626024334832619,
           0.09968670899986165,
           0.05010748884225075,
           0.0001569493213448689,
           -0.04758506314163741,
           -0.0907256642328181,
           -0.1271795169340972,
           -0.15527119023634722
          ],
          [
           -0.16865061331126227,
           -0.14653700801271363,
           -0.11505016730310495,
           -0.07558080422426758,
           -0.030004497243790427,
           0.019407660252202565,
           0.07010183827093616,
           0.11937185506223688,
           0.16450028494360933,
           0.20290271423033404,
           0.23226729318028777,
           0.2506818889186662,
           0.2567417315441088,
           0.24963143467045815,
           0.22917661128094333,
           0.19586192453391038,
           0.15081422331281308,
           0.0957513146109,
           0.032898814044057145,
           -0.03512071345143313,
           -0.10542055787501849,
           -0.17499760171649797,
           -0.24088710992360066,
           -0.3003162506586467,
           -0.35084804028714445,
           -0.3905078789395116,
           -0.417885750201407,
           -0.43220845214435083,
           -0.4333778373354074,
           -0.42197287899622543,
           -0.39921534828629784,
           -0.36690087535799776,
           -0.32729906443176787,
           -0.28302803533990717,
           -0.23691017597600564,
           -0.19181693290541052,
           -0.15051108239111077,
           -0.11549507625799743,
           -0.08887373699192957,
           -0.0722388011028484,
           -0.06658162124929747,
           -0.0722388011028484,
           -0.08887373699192957,
           -0.11549507625799743,
           -0.15051108239111077,
           -0.19181693290541052,
           -0.23691017597600564,
           -0.28302803533990717,
           -0.32729906443176787,
           -0.36690087535799776,
           -0.39921534828629784,
           -0.42197287899622543,
           -0.4333778373354074,
           -0.43220845214435083,
           -0.417885750201407,
           -0.3905078789395116,
           -0.35084804028714445,
           -0.3003162506586467,
           -0.24088710992360066,
           -0.17499760171649797,
           -0.10542055787501849,
           -0.03512071345143313,
           0.032898814044057145,
           0.0957513146109,
           0.15081422331281308,
           0.19586192453391038,
           0.22917661128094333,
           0.24963143467045815,
           0.2567417315441088,
           0.2506818889186662,
           0.23226729318028777,
           0.20290271423033404,
           0.16450028494360933,
           0.11937185506223688,
           0.07010183827093616,
           0.019407660252202565,
           -0.030004497243790427,
           -0.07558080422426758,
           -0.11505016730310495,
           -0.14653700801271363
          ],
          [
           -0.16278435980926842,
           -0.13736985507049018,
           -0.10281030706494565,
           -0.060690608986011814,
           -0.013073952151520388,
           0.03759772656874239,
           0.08862652853638416,
           0.13719827990417027,
           0.18053174205108255,
           0.21602931256266372,
           0.24142096714711753,
           0.254893432701845,
           0.25519727019112654,
           0.24172565029557566,
           0.21456006847846779,
           0.17447999195279823,
           0.12293536517635703,
           0.06198291759831892,
           -0.005810793613848673,
           -0.07749482277960204,
           -0.14988136590815446,
           -0.21970771693043264,
           -0.2838041182964338,
           -0.3392585664190622,
           -0.3835697098652554,
           -0.4147795406040892,
           -0.43157859884674826,
           -0.4333778373354074,
           -0.4203430458705095,
           -0.39338972722403176,
           -0.3541384336243295,
           -0.30483270332925,
           -0.24822376277499153,
           -0.187427969950852,
           -0.1257644689695074,
           -0.06658162124929747,
           -0.0130814139378774,
           0.03184881503912622,
           0.0657883626364726,
           0.08691073780520595,
           0.0940800053732448,
           0.08691073780520595,
           0.0657883626364726,
           0.03184881503912622,
           -0.0130814139378774,
           -0.06658162124929747,
           -0.1257644689695074,
           -0.187427969950852,
           -0.24822376277499153,
           -0.30483270332925,
           -0.3541384336243295,
           -0.39338972722403176,
           -0.4203430458705095,
           -0.4333778373354074,
           -0.43157859884674826,
           -0.4147795406040892,
           -0.3835697098652554,
           -0.3392585664190622,
           -0.2838041182964338,
           -0.21970771693043264,
           -0.14988136590815446,
           -0.07749482277960204,
           -0.005810793613848673,
           0.06198291759831892,
           0.12293536517635703,
           0.17447999195279823,
           0.21456006847846779,
           0.24172565029557566,
           0.25519727019112654,
           0.254893432701845,
           0.24142096714711753,
           0.21602931256266372,
           0.18053174205108255,
           0.13719827990417027,
           0.08862652853638416,
           0.03759772656874239,
           -0.013073952151520388,
           -0.060690608986011814,
           -0.10281030706494565,
           -0.13736985507049018
          ],
          [
           -0.15646143337355978,
           -0.12803192632998142,
           -0.0907256642328181,
           -0.046310064114579955,
           0.0029779491154211806,
           0.054541276561040686,
           0.10555493165712146,
           0.15311446345017118,
           0.1943926655354523,
           0.22679610352037188,
           0.24811283911536614,
           0.2566430509401283,
           0.25130504004127213,
           0.2317103248693539,
           0.1982031145119569,
           0.15186131748507978,
           0.09445829662141196,
           0.02838670735216783,
           -0.043452159632214875,
           -0.1177881852505473,
           -0.19114437378651342,
           -0.26001264723920775,
           -0.3210343185560354,
           -0.37117570680030565,
           -0.407889497747319,
           -0.42925310491460716,
           -0.434076417833265,
           -0.42197287899622543,
           -0.39338972722403176,
           -0.3495953826561967,
           -0.2926242127644853,
           -0.22518118755916025,
           -0.15051108239111077,
           -0.0722388011028484,
           0.005811034304373925,
           0.07980593576993696,
           0.14609889758077332,
           0.20141317105264114,
           0.24300880867803662,
           0.2688222513075441,
           0.277571630583514,
           0.2688222513075441,
           0.24300880867803662,
           0.20141317105264114,
           0.14609889758077332,
           0.07980593576993696,
           0.005811034304373925,
           -0.0722388011028484,
           -0.15051108239111077,
           -0.22518118755916025,
           -0.2926242127644853,
           -0.3495953826561967,
           -0.39338972722403176,
           -0.42197287899622543,
           -0.434076417833265,
           -0.42925310491460716,
           -0.407889497747319,
           -0.37117570680030565,
           -0.3210343185560354,
           -0.26001264723920775,
           -0.19114437378651342,
           -0.1177881852505473,
           -0.043452159632214875,
           0.02838670735216783,
           0.09445829662141196,
           0.15186131748507978,
           0.1982031145119569,
           0.2317103248693539,
           0.25130504004127213,
           0.2566430509401283,
           0.24811283911536614,
           0.22679610352037188,
           0.1943926655354523,
           0.15311446345017118,
           0.10555493165712146,
           0.054541276561040686,
           0.0029779491154211806,
           -0.046310064114579955,
           -0.0907256642328181,
           -0.12803192632998142
          ],
          [
           -0.1499137997580331,
           -0.11876378051842666,
           -0.07903277128303789,
           -0.032657564269347995,
           0.017966041941118966,
           0.07010183827093616,
           0.12081441070397907,
           0.16712567793535366,
           0.2061784643801796,
           0.23539823538075702,
           0.25264402764959015,
           0.2563400102730029,
           0.2455799958764798,
           0.22019854657881394,
           0.18080401871815463,
           0.12877087581897034,
           0.0661907655654817,
           -0.004215913110515241,
           -0.0792240541655952,
           -0.15525760655490364,
           -0.22856545626592412,
           -0.29541051237375787,
           -0.35226222727992795,
           -0.39598244357893553,
           -0.42399466300627076,
           -0.43442757176285574,
           -0.42622489689420734,
           -0.39921534828629784,
           -0.3541384336243295,
           -0.2926242127644853,
           -0.21712746254366178,
           -0.13081912452072303,
           -0.03744017720227128,
           0.05887491198907235,
           0.1537963512162099,
           0.24300880867803662,
           0.32242214992953067,
           0.38837235101706136,
           0.43780226922078175,
           0.4684129583840573,
           0.47877771528316515,
           0.4684129583840573,
           0.43780226922078175,
           0.38837235101706136,
           0.32242214992953067,
           0.24300880867803662,
           0.1537963512162099,
           0.05887491198907235,
           -0.03744017720227128,
           -0.13081912452072303,
           -0.21712746254366178,
           -0.2926242127644853,
           -0.3541384336243295,
           -0.39921534828629784,
           -0.42622489689420734,
           -0.43442757176285574,
           -0.42399466300627076,
           -0.39598244357893553,
           -0.35226222727992795,
           -0.29541051237375787,
           -0.22856545626592412,
           -0.15525760655490364,
           -0.0792240541655952,
           -0.004215913110515241,
           0.0661907655654817,
           0.12877087581897034,
           0.18080401871815463,
           0.22019854657881394,
           0.2455799958764798,
           0.2563400102730029,
           0.25264402764959015,
           0.23539823538075702,
           0.2061784643801796,
           0.16712567793535366,
           0.12081441070397907,
           0.07010183827093616,
           0.017966041941118966,
           -0.032657564269347995,
           -0.07903277128303789,
           -0.11876378051842666
          ],
          [
           -0.14335579129849668,
           -0.10978201113265723,
           -0.06793803188546253,
           -0.019915691575644292,
           0.031745840459068614,
           0.08418731130237875,
           0.13437885433763305,
           0.1792839709402817,
           0.21602931256266372,
           0.2420710146043941,
           0.255348298963932,
           0.25441554164532254,
           0.23854497801642713,
           0.20779364608280457,
           0.1630299764243758,
           0.10591753298818528,
           0.03885568116655977,
           -0.03512071345143313,
           -0.11247819731414006,
           -0.18935183535374994,
           -0.2617343483375656,
           -0.32567778292945404,
           -0.37749737145928347,
           -0.41396693622794944,
           -0.43249545715781157,
           -0.4312752446188071,
           -0.4093935036702951,
           -0.36690087535799776,
           -0.30483270332925,
           -0.22518118755916025,
           -0.13081912452072303,
           -0.025378460035175753,
           0.08691073780520595,
           0.20141317105264114,
           0.3133036361206578,
           0.4177941096414197,
           0.5103612401471838,
           0.5869627944413911,
           0.6442321103834694,
           0.6796406846183429,
           0.69162061945593,
           0.6796406846183429,
           0.6442321103834694,
           0.5869627944413911,
           0.5103612401471838,
           0.4177941096414197,
           0.3133036361206578,
           0.20141317105264114,
           0.08691073780520595,
           -0.025378460035175753,
           -0.13081912452072303,
           -0.22518118755916025,
           -0.30483270332925,
           -0.36690087535799776,
           -0.4093935036702951,
           -0.4312752446188071,
           -0.43249545715781157,
           -0.41396693622794944,
           -0.37749737145928347,
           -0.32567778292945404,
           -0.2617343483375656,
           -0.18935183535374994,
           -0.11247819731414006,
           -0.03512071345143313,
           0.03885568116655977,
           0.10591753298818528,
           0.1630299764243758,
           0.20779364608280457,
           0.23854497801642713,
           0.25441554164532254,
           0.255348298963932,
           0.2420710146043941,
           0.21602931256266372,
           0.1792839709402817,
           0.13437885433763305,
           0.08418731130237875,
           0.031745840459068614,
           -0.019915691575644292,
           -0.06793803188546253,
           -0.10978201113265723
          ],
          [
           -0.13698176393514344,
           -0.10127808535368477,
           -0.05761803324395176,
           -0.00823327044894154,
           0.044209509361482956,
           0.09674378883254962,
           0.14626024334832619,
           0.18967745729212915,
           0.22411724822563847,
           0.24707500803079696,
           0.256575492104657,
           0.25130504004127213,
           0.23071227369415245,
           0.19507084218595108,
           0.14549969299473817,
           0.08393854575868848,
           0.013078615468659323,
           -0.06374895250625122,
           -0.1427221428215067,
           -0.21970771693043264,
           -0.29046275344788247,
           -0.35084804028714445,
           -0.3970424421347404,
           -0.42574709936268906,
           -0.43436863670247905,
           -0.421171462695804,
           -0.3853906832849483,
           -0.32729906443176787,
           -0.24822376277499153,
           -0.15051108239111077,
           -0.03744017720227128,
           0.08691073780520595,
           0.21783961811686398,
           0.35022902170777614,
           0.47877771528316515,
           0.5982441516081277,
           0.7036898157513979,
           0.7907103570985019,
           0.8556429685382863,
           0.8957396184216221,
           0.9092974268256817,
           0.8957396184216221,
           0.8556429685382863,
           0.7907103570985019,
           0.7036898157513979,
           0.5982441516081277,
           0.47877771528316515,
           0.35022902170777614,
           0.21783961811686398,
           0.08691073780520595,
           -0.03744017720227128,
           -0.15051108239111077,
           -0.24822376277499153,
           -0.32729906443176787,
           -0.3853906832849483,
           -0.421171462695804,
           -0.43436863670247905,
           -0.42574709936268906,
           -0.3970424421347404,
           -0.35084804028714445,
           -0.29046275344788247,
           -0.21970771693043264,
           -0.1427221428215067,
           -0.06374895250625122,
           0.013078615468659323,
           0.08393854575868848,
           0.14549969299473817,
           0.19507084218595108,
           0.23071227369415245,
           0.25130504004127213,
           0.256575492104657,
           0.24707500803079696,
           0.22411724822563847,
           0.18967745729212915,
           0.14626024334832619,
           0.09674378883254962,
           0.044209509361482956,
           -0.00823327044894154,
           -0.05761803324395176,
           -0.10127808535368477
          ],
          [
           -0.13096468174943518,
           -0.09341816596346665,
           -0.04822085787410071,
           0.0022716100207446164,
           0.05528095770522729,
           0.10774865812501504,
           0.15649972810645998,
           0.19841943861188654,
           0.23063350923189954,
           0.2506818889186662,
           0.2566762997375786,
           0.24743234013685533,
           0.2225680860000738,
           0.18256273925541686,
           0.12877087581897034,
           0.06339013493636744,
           -0.010617349295218181,
           -0.08964697741323371,
           -0.1696119802323752,
           -0.24613461781837798,
           -0.31475910259630246,
           -0.37117570680030565,
           -0.41144469052055266,
           -0.43220845214435083,
           -0.4308806796227811,
           -0.40580225753498556,
           -0.35635521764627226,
           -0.28302803533990717,
           -0.187427969950852,
           -0.0722388011028484,
           0.05887491198907235,
           0.20141317105264114,
           0.35022902170777614,
           0.49975144871271493,
           0.6442321103834694,
           0.7780040258931075,
           0.8957396184216221,
           0.992695449836068,
           1.0649315658049785,
           1.1094945766040856,
           1.124555367855928,
           1.1094945766040856,
           1.0649315658049785,
           0.992695449836068,
           0.8957396184216221,
           0.7780040258931075,
           0.6442321103834694,
           0.49975144871271493,
           0.35022902170777614,
           0.20141317105264114,
           0.05887491198907235,
           -0.0722388011028484,
           -0.187427969950852,
           -0.28302803533990717,
           -0.35635521764627226,
           -0.40580225753498556,
           -0.4308806796227811,
           -0.43220845214435083,
           -0.41144469052055266,
           -0.37117570680030565,
           -0.31475910259630246,
           -0.24613461781837798,
           -0.1696119802323752,
           -0.08964697741323371,
           -0.010617349295218181,
           0.06339013493636744,
           0.12877087581897034,
           0.18256273925541686,
           0.2225680860000738,
           0.24743234013685533,
           0.2566762997375786,
           0.2506818889186662,
           0.23063350923189954,
           0.19841943861188654,
           0.15649972810645998,
           0.10774865812501504,
           0.05528095770522729,
           0.0022716100207446164,
           -0.04822085787410071,
           -0.09341816596346665
          ],
          [
           -0.1254554756233313,
           -0.08634370978474622,
           -0.039868134180728126,
           0.011507919583092052,
           0.0649104168254659,
           0.11720338291232232,
           0.16515865057394133,
           0.20563779959612533,
           0.23577655069724138,
           0.2531614457800734,
           0.2559887694405144,
           0.2431963471432226,
           0.21456006847846779,
           0.17074867404778504,
           0.11333242903336226,
           0.044743679368913644,
           -0.03181017613329085,
           -0.11247819731414006,
           -0.1929363397545002,
           -0.268589046149572,
           -0.33479237619194996,
           -0.38708768931988075,
           -0.42143408131469146,
           -0.43442757176285574,
           -0.42349546556438716,
           -0.38705535500366767,
           -0.324629843053556,
           -0.23691017597600564,
           -0.1257644689695074,
           0.005811034304373925,
           0.1537963512162099,
           0.3133036361206578,
           0.47877771528316515,
           0.6442321103834694,
           0.803509484779075,
           0.9505541014891831,
           1.0796831610910465,
           1.1858438330909473,
           1.2648434125627805,
           1.3135412961886945,
           1.3299933154720727,
           1.3135412961886945,
           1.2648434125627805,
           1.1858438330909473,
           1.0796831610910465,
           0.9505541014891831,
           0.803509484779075,
           0.6442321103834694,
           0.47877771528316515,
           0.3133036361206578,
           0.1537963512162099,
           0.005811034304373925,
           -0.1257644689695074,
           -0.23691017597600564,
           -0.324629843053556,
           -0.38705535500366767,
           -0.42349546556438716,
           -0.43442757176285574,
           -0.42143408131469146,
           -0.38708768931988075,
           -0.33479237619194996,
           -0.268589046149572,
           -0.1929363397545002,
           -0.11247819731414006,
           -0.03181017613329085,
           0.044743679368913644,
           0.11333242903336226,
           0.17074867404778504,
           0.21456006847846779,
           0.2431963471432226,
           0.2559887694405144,
           0.2531614457800734,
           0.23577655069724138,
           0.20563779959612533,
           0.16515865057394133,
           0.11720338291232232,
           0.0649104168254659,
           0.011507919583092052,
           -0.039868134180728126,
           -0.08634370978474622
          ],
          [
           -0.12058300781296416,
           -0.08017262722723162,
           -0.032657564269347995,
           0.019407660252202565,
           0.07306884206017318,
           0.12512633286074154,
           0.17230988766358785,
           0.21146505144444128,
           0.23974108638511749,
           0.25477004091850136,
           0.2548267267047997,
           0.23896010343988033,
           0.2070878465419809,
           0.16004763127913005,
           0.09960082298540655,
           0.02838670735216783,
           -0.050171999808914604,
           -0.132008995765264,
           -0.2125937105436689,
           -0.28714197491104243,
           -0.35084804028714445,
           -0.3991265770886398,
           -0.42785247459104203,
           -0.4335860886421158,
           -0.4137720534188708,
           -0.36690087535799776,
           -0.2926242127644853,
           -0.19181693290541052,
           -0.06658162124929747,
           0.07980593576993696,
           0.24300880867803662,
           0.4177941096414197,
           0.5982441516081277,
           0.7780040258931075,
           0.9505541014891831,
           1.1094945766040856,
           1.2488284837498442,
           1.3632295064019535,
           1.4482816142111579,
           1.500678835049543,
           1.518375390968938,
           1.500678835049543,
           1.4482816142111579,
           1.3632295064019535,
           1.2488284837498442,
           1.1094945766040856,
           0.9505541014891831,
           0.7780040258931075,
           0.5982441516081277,
           0.4177941096414197,
           0.24300880867803662,
           0.07980593576993696,
           -0.06658162124929747,
           -0.19181693290541052,
           -0.2926242127644853,
           -0.36690087535799776,
           -0.4137720534188708,
           -0.4335860886421158,
           -0.42785247459104203,
           -0.3991265770886398,
           -0.35084804028714445,
           -0.28714197491104243,
           -0.2125937105436689,
           -0.132008995765264,
           -0.050171999808914604,
           0.02838670735216783,
           0.09960082298540655,
           0.16004763127913005,
           0.2070878465419809,
           0.23896010343988033,
           0.2548267267047997,
           0.25477004091850136,
           0.23974108638511749,
           0.21146505144444128,
           0.17230988766358785,
           0.12512633286074154,
           0.07306884206017318,
           0.019407660252202565,
           -0.032657564269347995,
           -0.08017262722723162
          ],
          [
           -0.1164544699167505,
           -0.0750007897964791,
           -0.026665677985416577,
           0.025921773001301992,
           0.07974244535617742,
           0.13154597877649798,
           0.17802983029511174,
           0.21602931256266372,
           0.242708395806646,
           0.2557406839380664,
           0.25347017586536014,
           0.23504220166614895,
           0.20049625055173417,
           0.15081422331281308,
           0.08791985781076668,
           0.014627580006334946,
           -0.06545830501430487,
           -0.14809048863531396,
           -0.22856545626592412,
           -0.30194177876754097,
           -0.3632795822101567,
           -0.407889497747319,
           -0.43157859884674826,
           -0.4308806796227811,
           -0.40325873487122593,
           -0.3472686537517362,
           -0.2626748843273063,
           -0.15051108239111077,
           -0.0130814139378774,
           0.14609889758077332,
           0.32242214992953067,
           0.5103612401471838,
           0.7036898157513979,
           0.8957396184216221,
           1.0796831610910465,
           1.2488284837498442,
           1.3969119972732167,
           1.518375390968938,
           1.608613254431116,
           1.6641794167481594,
           1.682941969615793,
           1.6641794167481594,
           1.608613254431116,
           1.518375390968938,
           1.3969119972732167,
           1.2488284837498442,
           1.0796831610910465,
           0.8957396184216221,
           0.7036898157513979,
           0.5103612401471838,
           0.32242214992953067,
           0.14609889758077332,
           -0.0130814139378774,
           -0.15051108239111077,
           -0.2626748843273063,
           -0.3472686537517362,
           -0.40325873487122593,
           -0.4308806796227811,
           -0.43157859884674826,
           -0.407889497747319,
           -0.3632795822101567,
           -0.30194177876754097,
           -0.22856545626592412,
           -0.14809048863531396,
           -0.06545830501430487,
           0.014627580006334946,
           0.08791985781076668,
           0.15081422331281308,
           0.20049625055173417,
           0.23504220166614895,
           0.25347017586536014,
           0.2557406839380664,
           0.242708395806646,
           0.21602931256266372,
           0.17802983029511174,
           0.13154597877649798,
           0.07974244535617742,
           0.025921773001301992,
           -0.026665677985416577,
           -0.0750007897964791
          ],
          [
           -0.1131560467581887,
           -0.07090368426500879,
           -0.021950582012676394,
           0.031016232090896562,
           0.08492762656935865,
           0.13649472168344115,
           0.18239124981424537,
           0.21944644111666822,
           0.24483804991090946,
           0.2562747828163765,
           0.252157618714697,
           0.2317103248693539,
           0.19507084218595108,
           0.1433370736825879,
           0.07856287339249271,
           0.0037025838949493145,
           -0.07749482277960204,
           -0.16063822727306362,
           -0.24088710992360066,
           -0.31317589634427284,
           -0.37245933283868765,
           -0.41396693622794944,
           -0.4334537754581445,
           -0.4274347075936389,
           -0.39338972722403176,
           -0.32992927901128904,
           -0.23691017597600564,
           -0.11549507625799743,
           0.03184881503912622,
           0.20141317105264114,
           0.38837235101706136,
           0.5869627944413911,
           0.7907103570985019,
           0.992695449836068,
           1.1858438330909473,
           1.3632295064019535,
           1.518375390968938,
           1.6455374774968983,
           1.7399588071171015,
           1.7980810383563555,
           1.8177033600622243,
           1.7980810383563555,
           1.7399588071171015,
           1.6455374774968983,
           1.518375390968938,
           1.3632295064019535,
           1.1858438330909473,
           0.992695449836068,
           0.7907103570985019,
           0.5869627944413911,
           0.38837235101706136,
           0.20141317105264114,
           0.03184881503912622,
           -0.11549507625799743,
           -0.23691017597600564,
           -0.32992927901128904,
           -0.39338972722403176,
           -0.4274347075936389,
           -0.4334537754581445,
           -0.41396693622794944,
           -0.37245933283868765,
           -0.31317589634427284,
           -0.24088710992360066,
           -0.16063822727306362,
           -0.07749482277960204,
           0.0037025838949493145,
           0.07856287339249271,
           0.1433370736825879,
           0.19507084218595108,
           0.2317103248693539,
           0.252157618714697,
           0.2562747828163765,
           0.24483804991090946,
           0.21944644111666822,
           0.18239124981424537,
           0.13649472168344115,
           0.08492762656935865,
           0.031016232090896562,
           -0.021950582012676394,
           -0.07090368426500879
          ],
          [
           -0.1107536917561867,
           -0.06793803188546253,
           -0.01855449981019833,
           0.03466854669458865,
           0.08862652853638416,
           0.14000357308347133,
           0.18545724476618586,
           0.22181346801290225,
           0.24626113579560338,
           0.25653555744366946,
           0.25108014921898075,
           0.22917661128094333,
           0.19103523332295086,
           0.13783886506830845,
           0.07173638515428266,
           -0.004215913110515241,
           -0.08616386191642225,
           -0.1696119802323752,
           -0.24962054293732017,
           -0.3210343185560354,
           -0.3787322233669178,
           -0.417885750201407,
           -0.434213248547002,
           -0.42421701152445723,
           -0.3853906832849483,
           -0.3163857196862348,
           -0.21712746254366178,
           -0.08887373699192957,
           0.0657883626364726,
           0.24300880867803662,
           0.43780226922078175,
           0.6442321103834694,
           0.8556429685382863,
           1.0649315658049785,
           1.2648434125627805,
           1.4482816142111579,
           1.608613254431116,
           1.7399588071171015,
           1.8374507397311368,
           1.8974488797623419,
           1.917702154416812,
           1.8974488797623419,
           1.8374507397311368,
           1.7399588071171015,
           1.608613254431116,
           1.4482816142111579,
           1.2648434125627805,
           1.0649315658049785,
           0.8556429685382863,
           0.6442321103834694,
           0.43780226922078175,
           0.24300880867803662,
           0.0657883626364726,
           -0.08887373699192957,
           -0.21712746254366178,
           -0.3163857196862348,
           -0.3853906832849483,
           -0.42421701152445723,
           -0.434213248547002,
           -0.417885750201407,
           -0.3787322233669178,
           -0.3210343185560354,
           -0.24962054293732017,
           -0.1696119802323752,
           -0.08616386191642225,
           -0.004215913110515241,
           0.07173638515428266,
           0.13783886506830845,
           0.19103523332295086,
           0.22917661128094333,
           0.25108014921898075,
           0.25653555744366946,
           0.24626113579560338,
           0.22181346801290225,
           0.18545724476618586,
           0.14000357308347133,
           0.08862652853638416,
           0.03466854669458865,
           -0.01855449981019833,
           -0.06793803188546253
          ],
          [
           -0.10929387900894774,
           -0.06614321685638791,
           -0.016505930263581485,
           0.03686485131708162,
           0.09084339726921295,
           0.14209785531573388,
           0.18727640924644018,
           0.2232034254780841,
           0.24707500803079696,
           0.2566430509401283,
           0.25037713957121355,
           0.22759450814784551,
           0.18854967763954522,
           0.134477311926808,
           0.06758414818694233,
           -0.009011537058698997,
           -0.09139170665445415,
           -0.17499760171649797,
           -0.254829433326894,
           -0.32567778292945404,
           -0.382375848005458,
           -0.4200602785751461,
           -0.43442757176285574,
           -0.42197287899622543,
           -0.3801986514917913,
           -0.3077817863653888,
           -0.20468978410715197,
           -0.0722388011028484,
           0.08691073780520595,
           0.2688222513075441,
           0.4684129583840573,
           0.6796406846183429,
           0.8957396184216221,
           1.1094945766040856,
           1.3135412961886945,
           1.500678835049543,
           1.6641794167481594,
           1.7980810383563555,
           1.8974488797623419,
           1.9585929762944412,
           1.9792316740361835,
           1.9585929762944412,
           1.8974488797623419,
           1.7980810383563555,
           1.6641794167481594,
           1.500678835049543,
           1.3135412961886945,
           1.1094945766040856,
           0.8957396184216221,
           0.6796406846183429,
           0.4684129583840573,
           0.2688222513075441,
           0.08691073780520595,
           -0.0722388011028484,
           -0.20468978410715197,
           -0.3077817863653888,
           -0.3801986514917913,
           -0.42197287899622543,
           -0.43442757176285574,
           -0.4200602785751461,
           -0.382375848005458,
           -0.32567778292945404,
           -0.254829433326894,
           -0.17499760171649797,
           -0.09139170665445415,
           -0.009011537058698997,
           0.06758414818694233,
           0.134477311926808,
           0.18854967763954522,
           0.22759450814784551,
           0.25037713957121355,
           0.2566430509401283,
           0.24707500803079696,
           0.2232034254780841,
           0.18727640924644018,
           0.14209785531573388,
           0.09084339726921295,
           0.03686485131708162,
           -0.016505930263581485,
           -0.06614321685638791
          ],
          [
           -0.10880422217787396,
           -0.06554239869174844,
           -0.015821288518275644,
           0.03759772656874239,
           0.09158188560927924,
           0.14279404657238684,
           0.18787932061729182,
           0.22366162672468853,
           0.24733956165584545,
           0.2566706526738519,
           0.25013332713993036,
           0.2270567942100705,
           0.18771045677679687,
           0.1333463922312941,
           0.0661907655654817,
           -0.010617349295218181,
           -0.09313849939964196,
           -0.17679272260843765,
           -0.2565601183892334,
           -0.32721314035298743,
           -0.3835697098652554,
           -0.4207548585159486,
           -0.43445783007337646,
           -0.421171462695804,
           -0.3784012476539641,
           -0.30483270332925,
           -0.20044755867978276,
           -0.06658162124929747,
           0.0940800053732448,
           0.277571630583514,
           0.47877771528316515,
           0.69162061945593,
           0.9092974268256817,
           1.124555367855928,
           1.3299933154720727,
           1.518375390968938,
           1.682941969615793,
           1.8177033600622243,
           1.917702154416812,
           1.9792316740361835,
           null,
           1.9792316740361835,
           1.917702154416812,
           1.8177033600622243,
           1.682941969615793,
           1.518375390968938,
           1.3299933154720727,
           1.124555367855928,
           0.9092974268256817,
           0.69162061945593,
           0.47877771528316515,
           0.277571630583514,
           0.0940800053732448,
           -0.06658162124929747,
           -0.20044755867978276,
           -0.30483270332925,
           -0.3784012476539641,
           -0.421171462695804,
           -0.43445783007337646,
           -0.4207548585159486,
           -0.3835697098652554,
           -0.32721314035298743,
           -0.2565601183892334,
           -0.17679272260843765,
           -0.09313849939964196,
           -0.010617349295218181,
           0.0661907655654817,
           0.1333463922312941,
           0.18771045677679687,
           0.2270567942100705,
           0.25013332713993036,
           0.2566706526738519,
           0.24733956165584545,
           0.22366162672468853,
           0.18787932061729182,
           0.14279404657238684,
           0.09158188560927924,
           0.03759772656874239,
           -0.015821288518275644,
           -0.06554239869174844
          ],
          [
           -0.10929387900894774,
           -0.06614321685638791,
           -0.016505930263581485,
           0.03686485131708162,
           0.09084339726921295,
           0.14209785531573388,
           0.18727640924644018,
           0.2232034254780841,
           0.24707500803079696,
           0.2566430509401283,
           0.25037713957121355,
           0.22759450814784551,
           0.18854967763954522,
           0.134477311926808,
           0.06758414818694233,
           -0.009011537058698997,
           -0.09139170665445415,
           -0.17499760171649797,
           -0.254829433326894,
           -0.32567778292945404,
           -0.382375848005458,
           -0.4200602785751461,
           -0.43442757176285574,
           -0.42197287899622543,
           -0.3801986514917913,
           -0.3077817863653888,
           -0.20468978410715197,
           -0.0722388011028484,
           0.08691073780520595,
           0.2688222513075441,
           0.4684129583840573,
           0.6796406846183429,
           0.8957396184216221,
           1.1094945766040856,
           1.3135412961886945,
           1.500678835049543,
           1.6641794167481594,
           1.7980810383563555,
           1.8974488797623419,
           1.9585929762944412,
           1.9792316740361835,
           1.9585929762944412,
           1.8974488797623419,
           1.7980810383563555,
           1.6641794167481594,
           1.500678835049543,
           1.3135412961886945,
           1.1094945766040856,
           0.8957396184216221,
           0.6796406846183429,
           0.4684129583840573,
           0.2688222513075441,
           0.08691073780520595,
           -0.0722388011028484,
           -0.20468978410715197,
           -0.3077817863653888,
           -0.3801986514917913,
           -0.42197287899622543,
           -0.43442757176285574,
           -0.4200602785751461,
           -0.382375848005458,
           -0.32567778292945404,
           -0.254829433326894,
           -0.17499760171649797,
           -0.09139170665445415,
           -0.009011537058698997,
           0.06758414818694233,
           0.134477311926808,
           0.18854967763954522,
           0.22759450814784551,
           0.25037713957121355,
           0.2566430509401283,
           0.24707500803079696,
           0.2232034254780841,
           0.18727640924644018,
           0.14209785531573388,
           0.09084339726921295,
           0.03686485131708162,
           -0.016505930263581485,
           -0.06614321685638791
          ],
          [
           -0.1107536917561867,
           -0.06793803188546253,
           -0.01855449981019833,
           0.03466854669458865,
           0.08862652853638416,
           0.14000357308347133,
           0.18545724476618586,
           0.22181346801290225,
           0.24626113579560338,
           0.25653555744366946,
           0.25108014921898075,
           0.22917661128094333,
           0.19103523332295086,
           0.13783886506830845,
           0.07173638515428266,
           -0.004215913110515241,
           -0.08616386191642225,
           -0.1696119802323752,
           -0.24962054293732017,
           -0.3210343185560354,
           -0.3787322233669178,
           -0.417885750201407,
           -0.434213248547002,
           -0.42421701152445723,
           -0.3853906832849483,
           -0.3163857196862348,
           -0.21712746254366178,
           -0.08887373699192957,
           0.0657883626364726,
           0.24300880867803662,
           0.43780226922078175,
           0.6442321103834694,
           0.8556429685382863,
           1.0649315658049785,
           1.2648434125627805,
           1.4482816142111579,
           1.608613254431116,
           1.7399588071171015,
           1.8374507397311368,
           1.8974488797623419,
           1.917702154416812,
           1.8974488797623419,
           1.8374507397311368,
           1.7399588071171015,
           1.608613254431116,
           1.4482816142111579,
           1.2648434125627805,
           1.0649315658049785,
           0.8556429685382863,
           0.6442321103834694,
           0.43780226922078175,
           0.24300880867803662,
           0.0657883626364726,
           -0.08887373699192957,
           -0.21712746254366178,
           -0.3163857196862348,
           -0.3853906832849483,
           -0.42421701152445723,
           -0.434213248547002,
           -0.417885750201407,
           -0.3787322233669178,
           -0.3210343185560354,
           -0.24962054293732017,
           -0.1696119802323752,
           -0.08616386191642225,
           -0.004215913110515241,
           0.07173638515428266,
           0.13783886506830845,
           0.19103523332295086,
           0.22917661128094333,
           0.25108014921898075,
           0.25653555744366946,
           0.24626113579560338,
           0.22181346801290225,
           0.18545724476618586,
           0.14000357308347133,
           0.08862652853638416,
           0.03466854669458865,
           -0.01855449981019833,
           -0.06793803188546253
          ],
          [
           -0.1131560467581887,
           -0.07090368426500879,
           -0.021950582012676394,
           0.031016232090896562,
           0.08492762656935865,
           0.13649472168344115,
           0.18239124981424537,
           0.21944644111666822,
           0.24483804991090946,
           0.2562747828163765,
           0.252157618714697,
           0.2317103248693539,
           0.19507084218595108,
           0.1433370736825879,
           0.07856287339249271,
           0.0037025838949493145,
           -0.07749482277960204,
           -0.16063822727306362,
           -0.24088710992360066,
           -0.31317589634427284,
           -0.37245933283868765,
           -0.41396693622794944,
           -0.4334537754581445,
           -0.4274347075936389,
           -0.39338972722403176,
           -0.32992927901128904,
           -0.23691017597600564,
           -0.11549507625799743,
           0.03184881503912622,
           0.20141317105264114,
           0.38837235101706136,
           0.5869627944413911,
           0.7907103570985019,
           0.992695449836068,
           1.1858438330909473,
           1.3632295064019535,
           1.518375390968938,
           1.6455374774968983,
           1.7399588071171015,
           1.7980810383563555,
           1.8177033600622243,
           1.7980810383563555,
           1.7399588071171015,
           1.6455374774968983,
           1.518375390968938,
           1.3632295064019535,
           1.1858438330909473,
           0.992695449836068,
           0.7907103570985019,
           0.5869627944413911,
           0.38837235101706136,
           0.20141317105264114,
           0.03184881503912622,
           -0.11549507625799743,
           -0.23691017597600564,
           -0.32992927901128904,
           -0.39338972722403176,
           -0.4274347075936389,
           -0.4334537754581445,
           -0.41396693622794944,
           -0.37245933283868765,
           -0.31317589634427284,
           -0.24088710992360066,
           -0.16063822727306362,
           -0.07749482277960204,
           0.0037025838949493145,
           0.07856287339249271,
           0.1433370736825879,
           0.19507084218595108,
           0.2317103248693539,
           0.252157618714697,
           0.2562747828163765,
           0.24483804991090946,
           0.21944644111666822,
           0.18239124981424537,
           0.13649472168344115,
           0.08492762656935865,
           0.031016232090896562,
           -0.021950582012676394,
           -0.07090368426500879
          ],
          [
           -0.1164544699167505,
           -0.0750007897964791,
           -0.026665677985416577,
           0.025921773001301992,
           0.07974244535617742,
           0.13154597877649798,
           0.17802983029511174,
           0.21602931256266372,
           0.242708395806646,
           0.2557406839380664,
           0.25347017586536014,
           0.23504220166614895,
           0.20049625055173417,
           0.15081422331281308,
           0.08791985781076668,
           0.014627580006334946,
           -0.06545830501430487,
           -0.14809048863531396,
           -0.22856545626592412,
           -0.30194177876754097,
           -0.3632795822101567,
           -0.407889497747319,
           -0.43157859884674826,
           -0.4308806796227811,
           -0.40325873487122593,
           -0.3472686537517362,
           -0.2626748843273063,
           -0.15051108239111077,
           -0.0130814139378774,
           0.14609889758077332,
           0.32242214992953067,
           0.5103612401471838,
           0.7036898157513979,
           0.8957396184216221,
           1.0796831610910465,
           1.2488284837498442,
           1.3969119972732167,
           1.518375390968938,
           1.608613254431116,
           1.6641794167481594,
           1.682941969615793,
           1.6641794167481594,
           1.608613254431116,
           1.518375390968938,
           1.3969119972732167,
           1.2488284837498442,
           1.0796831610910465,
           0.8957396184216221,
           0.7036898157513979,
           0.5103612401471838,
           0.32242214992953067,
           0.14609889758077332,
           -0.0130814139378774,
           -0.15051108239111077,
           -0.2626748843273063,
           -0.3472686537517362,
           -0.40325873487122593,
           -0.4308806796227811,
           -0.43157859884674826,
           -0.407889497747319,
           -0.3632795822101567,
           -0.30194177876754097,
           -0.22856545626592412,
           -0.14809048863531396,
           -0.06545830501430487,
           0.014627580006334946,
           0.08791985781076668,
           0.15081422331281308,
           0.20049625055173417,
           0.23504220166614895,
           0.25347017586536014,
           0.2557406839380664,
           0.242708395806646,
           0.21602931256266372,
           0.17802983029511174,
           0.13154597877649798,
           0.07974244535617742,
           0.025921773001301992,
           -0.026665677985416577,
           -0.0750007897964791
          ],
          [
           -0.12058300781296416,
           -0.08017262722723162,
           -0.032657564269347995,
           0.019407660252202565,
           0.07306884206017318,
           0.12512633286074154,
           0.17230988766358785,
           0.21146505144444128,
           0.23974108638511749,
           0.25477004091850136,
           0.2548267267047997,
           0.23896010343988033,
           0.2070878465419809,
           0.16004763127913005,
           0.09960082298540655,
           0.02838670735216783,
           -0.050171999808914604,
           -0.132008995765264,
           -0.2125937105436689,
           -0.28714197491104243,
           -0.35084804028714445,
           -0.3991265770886398,
           -0.42785247459104203,
           -0.4335860886421158,
           -0.4137720534188708,
           -0.36690087535799776,
           -0.2926242127644853,
           -0.19181693290541052,
           -0.06658162124929747,
           0.07980593576993696,
           0.24300880867803662,
           0.4177941096414197,
           0.5982441516081277,
           0.7780040258931075,
           0.9505541014891831,
           1.1094945766040856,
           1.2488284837498442,
           1.3632295064019535,
           1.4482816142111579,
           1.500678835049543,
           1.518375390968938,
           1.500678835049543,
           1.4482816142111579,
           1.3632295064019535,
           1.2488284837498442,
           1.1094945766040856,
           0.9505541014891831,
           0.7780040258931075,
           0.5982441516081277,
           0.4177941096414197,
           0.24300880867803662,
           0.07980593576993696,
           -0.06658162124929747,
           -0.19181693290541052,
           -0.2926242127644853,
           -0.36690087535799776,
           -0.4137720534188708,
           -0.4335860886421158,
           -0.42785247459104203,
           -0.3991265770886398,
           -0.35084804028714445,
           -0.28714197491104243,
           -0.2125937105436689,
           -0.132008995765264,
           -0.050171999808914604,
           0.02838670735216783,
           0.09960082298540655,
           0.16004763127913005,
           0.2070878465419809,
           0.23896010343988033,
           0.2548267267047997,
           0.25477004091850136,
           0.23974108638511749,
           0.21146505144444128,
           0.17230988766358785,
           0.12512633286074154,
           0.07306884206017318,
           0.019407660252202565,
           -0.032657564269347995,
           -0.08017262722723162
          ],
          [
           -0.1254554756233313,
           -0.08634370978474622,
           -0.039868134180728126,
           0.011507919583092052,
           0.0649104168254659,
           0.11720338291232232,
           0.16515865057394133,
           0.20563779959612533,
           0.23577655069724138,
           0.2531614457800734,
           0.2559887694405144,
           0.2431963471432226,
           0.21456006847846779,
           0.17074867404778504,
           0.11333242903336226,
           0.044743679368913644,
           -0.03181017613329085,
           -0.11247819731414006,
           -0.1929363397545002,
           -0.268589046149572,
           -0.33479237619194996,
           -0.38708768931988075,
           -0.42143408131469146,
           -0.43442757176285574,
           -0.42349546556438716,
           -0.38705535500366767,
           -0.324629843053556,
           -0.23691017597600564,
           -0.1257644689695074,
           0.005811034304373925,
           0.1537963512162099,
           0.3133036361206578,
           0.47877771528316515,
           0.6442321103834694,
           0.803509484779075,
           0.9505541014891831,
           1.0796831610910465,
           1.1858438330909473,
           1.2648434125627805,
           1.3135412961886945,
           1.3299933154720727,
           1.3135412961886945,
           1.2648434125627805,
           1.1858438330909473,
           1.0796831610910465,
           0.9505541014891831,
           0.803509484779075,
           0.6442321103834694,
           0.47877771528316515,
           0.3133036361206578,
           0.1537963512162099,
           0.005811034304373925,
           -0.1257644689695074,
           -0.23691017597600564,
           -0.324629843053556,
           -0.38705535500366767,
           -0.42349546556438716,
           -0.43442757176285574,
           -0.42143408131469146,
           -0.38708768931988075,
           -0.33479237619194996,
           -0.268589046149572,
           -0.1929363397545002,
           -0.11247819731414006,
           -0.03181017613329085,
           0.044743679368913644,
           0.11333242903336226,
           0.17074867404778504,
           0.21456006847846779,
           0.2431963471432226,
           0.2559887694405144,
           0.2531614457800734,
           0.23577655069724138,
           0.20563779959612533,
           0.16515865057394133,
           0.11720338291232232,
           0.0649104168254659,
           0.011507919583092052,
           -0.039868134180728126,
           -0.08634370978474622
          ],
          [
           -0.13096468174943518,
           -0.09341816596346665,
           -0.04822085787410071,
           0.0022716100207446164,
           0.05528095770522729,
           0.10774865812501504,
           0.15649972810645998,
           0.19841943861188654,
           0.23063350923189954,
           0.2506818889186662,
           0.2566762997375786,
           0.24743234013685533,
           0.2225680860000738,
           0.18256273925541686,
           0.12877087581897034,
           0.06339013493636744,
           -0.010617349295218181,
           -0.08964697741323371,
           -0.1696119802323752,
           -0.24613461781837798,
           -0.31475910259630246,
           -0.37117570680030565,
           -0.41144469052055266,
           -0.43220845214435083,
           -0.4308806796227811,
           -0.40580225753498556,
           -0.35635521764627226,
           -0.28302803533990717,
           -0.187427969950852,
           -0.0722388011028484,
           0.05887491198907235,
           0.20141317105264114,
           0.35022902170777614,
           0.49975144871271493,
           0.6442321103834694,
           0.7780040258931075,
           0.8957396184216221,
           0.992695449836068,
           1.0649315658049785,
           1.1094945766040856,
           1.124555367855928,
           1.1094945766040856,
           1.0649315658049785,
           0.992695449836068,
           0.8957396184216221,
           0.7780040258931075,
           0.6442321103834694,
           0.49975144871271493,
           0.35022902170777614,
           0.20141317105264114,
           0.05887491198907235,
           -0.0722388011028484,
           -0.187427969950852,
           -0.28302803533990717,
           -0.35635521764627226,
           -0.40580225753498556,
           -0.4308806796227811,
           -0.43220845214435083,
           -0.41144469052055266,
           -0.37117570680030565,
           -0.31475910259630246,
           -0.24613461781837798,
           -0.1696119802323752,
           -0.08964697741323371,
           -0.010617349295218181,
           0.06339013493636744,
           0.12877087581897034,
           0.18256273925541686,
           0.2225680860000738,
           0.24743234013685533,
           0.2566762997375786,
           0.2506818889186662,
           0.23063350923189954,
           0.19841943861188654,
           0.15649972810645998,
           0.10774865812501504,
           0.05528095770522729,
           0.0022716100207446164,
           -0.04822085787410071,
           -0.09341816596346665
          ],
          [
           -0.13698176393514344,
           -0.10127808535368477,
           -0.05761803324395176,
           -0.00823327044894154,
           0.044209509361482956,
           0.09674378883254962,
           0.14626024334832619,
           0.18967745729212915,
           0.22411724822563847,
           0.24707500803079696,
           0.256575492104657,
           0.25130504004127213,
           0.23071227369415245,
           0.19507084218595108,
           0.14549969299473817,
           0.08393854575868848,
           0.013078615468659323,
           -0.06374895250625122,
           -0.1427221428215067,
           -0.21970771693043264,
           -0.29046275344788247,
           -0.35084804028714445,
           -0.3970424421347404,
           -0.42574709936268906,
           -0.43436863670247905,
           -0.421171462695804,
           -0.3853906832849483,
           -0.32729906443176787,
           -0.24822376277499153,
           -0.15051108239111077,
           -0.03744017720227128,
           0.08691073780520595,
           0.21783961811686398,
           0.35022902170777614,
           0.47877771528316515,
           0.5982441516081277,
           0.7036898157513979,
           0.7907103570985019,
           0.8556429685382863,
           0.8957396184216221,
           0.9092974268256817,
           0.8957396184216221,
           0.8556429685382863,
           0.7907103570985019,
           0.7036898157513979,
           0.5982441516081277,
           0.47877771528316515,
           0.35022902170777614,
           0.21783961811686398,
           0.08691073780520595,
           -0.03744017720227128,
           -0.15051108239111077,
           -0.24822376277499153,
           -0.32729906443176787,
           -0.3853906832849483,
           -0.421171462695804,
           -0.43436863670247905,
           -0.42574709936268906,
           -0.3970424421347404,
           -0.35084804028714445,
           -0.29046275344788247,
           -0.21970771693043264,
           -0.1427221428215067,
           -0.06374895250625122,
           0.013078615468659323,
           0.08393854575868848,
           0.14549969299473817,
           0.19507084218595108,
           0.23071227369415245,
           0.25130504004127213,
           0.256575492104657,
           0.24707500803079696,
           0.22411724822563847,
           0.18967745729212915,
           0.14626024334832619,
           0.09674378883254962,
           0.044209509361482956,
           -0.00823327044894154,
           -0.05761803324395176,
           -0.10127808535368477
          ],
          [
           -0.14335579129849668,
           -0.10978201113265723,
           -0.06793803188546253,
           -0.019915691575644292,
           0.031745840459068614,
           0.08418731130237875,
           0.13437885433763305,
           0.1792839709402817,
           0.21602931256266372,
           0.2420710146043941,
           0.255348298963932,
           0.25441554164532254,
           0.23854497801642713,
           0.20779364608280457,
           0.1630299764243758,
           0.10591753298818528,
           0.03885568116655977,
           -0.03512071345143313,
           -0.11247819731414006,
           -0.18935183535374994,
           -0.2617343483375656,
           -0.32567778292945404,
           -0.37749737145928347,
           -0.41396693622794944,
           -0.43249545715781157,
           -0.4312752446188071,
           -0.4093935036702951,
           -0.36690087535799776,
           -0.30483270332925,
           -0.22518118755916025,
           -0.13081912452072303,
           -0.025378460035175753,
           0.08691073780520595,
           0.20141317105264114,
           0.3133036361206578,
           0.4177941096414197,
           0.5103612401471838,
           0.5869627944413911,
           0.6442321103834694,
           0.6796406846183429,
           0.69162061945593,
           0.6796406846183429,
           0.6442321103834694,
           0.5869627944413911,
           0.5103612401471838,
           0.4177941096414197,
           0.3133036361206578,
           0.20141317105264114,
           0.08691073780520595,
           -0.025378460035175753,
           -0.13081912452072303,
           -0.22518118755916025,
           -0.30483270332925,
           -0.36690087535799776,
           -0.4093935036702951,
           -0.4312752446188071,
           -0.43249545715781157,
           -0.41396693622794944,
           -0.37749737145928347,
           -0.32567778292945404,
           -0.2617343483375656,
           -0.18935183535374994,
           -0.11247819731414006,
           -0.03512071345143313,
           0.03885568116655977,
           0.10591753298818528,
           0.1630299764243758,
           0.20779364608280457,
           0.23854497801642713,
           0.25441554164532254,
           0.255348298963932,
           0.2420710146043941,
           0.21602931256266372,
           0.1792839709402817,
           0.13437885433763305,
           0.08418731130237875,
           0.031745840459068614,
           -0.019915691575644292,
           -0.06793803188546253,
           -0.10978201113265723
          ],
          [
           -0.1499137997580331,
           -0.11876378051842666,
           -0.07903277128303789,
           -0.032657564269347995,
           0.017966041941118966,
           0.07010183827093616,
           0.12081441070397907,
           0.16712567793535366,
           0.2061784643801796,
           0.23539823538075702,
           0.25264402764959015,
           0.2563400102730029,
           0.2455799958764798,
           0.22019854657881394,
           0.18080401871815463,
           0.12877087581897034,
           0.0661907655654817,
           -0.004215913110515241,
           -0.0792240541655952,
           -0.15525760655490364,
           -0.22856545626592412,
           -0.29541051237375787,
           -0.35226222727992795,
           -0.39598244357893553,
           -0.42399466300627076,
           -0.43442757176285574,
           -0.42622489689420734,
           -0.39921534828629784,
           -0.3541384336243295,
           -0.2926242127644853,
           -0.21712746254366178,
           -0.13081912452072303,
           -0.03744017720227128,
           0.05887491198907235,
           0.1537963512162099,
           0.24300880867803662,
           0.32242214992953067,
           0.38837235101706136,
           0.43780226922078175,
           0.4684129583840573,
           0.47877771528316515,
           0.4684129583840573,
           0.43780226922078175,
           0.38837235101706136,
           0.32242214992953067,
           0.24300880867803662,
           0.1537963512162099,
           0.05887491198907235,
           -0.03744017720227128,
           -0.13081912452072303,
           -0.21712746254366178,
           -0.2926242127644853,
           -0.3541384336243295,
           -0.39921534828629784,
           -0.42622489689420734,
           -0.43442757176285574,
           -0.42399466300627076,
           -0.39598244357893553,
           -0.35226222727992795,
           -0.29541051237375787,
           -0.22856545626592412,
           -0.15525760655490364,
           -0.0792240541655952,
           -0.004215913110515241,
           0.0661907655654817,
           0.12877087581897034,
           0.18080401871815463,
           0.22019854657881394,
           0.2455799958764798,
           0.2563400102730029,
           0.25264402764959015,
           0.23539823538075702,
           0.2061784643801796,
           0.16712567793535366,
           0.12081441070397907,
           0.07010183827093616,
           0.017966041941118966,
           -0.032657564269347995,
           -0.07903277128303789,
           -0.11876378051842666
          ],
          [
           -0.15646143337355978,
           -0.12803192632998142,
           -0.0907256642328181,
           -0.046310064114579955,
           0.0029779491154211806,
           0.054541276561040686,
           0.10555493165712146,
           0.15311446345017118,
           0.1943926655354523,
           0.22679610352037188,
           0.24811283911536614,
           0.2566430509401283,
           0.25130504004127213,
           0.2317103248693539,
           0.1982031145119569,
           0.15186131748507978,
           0.09445829662141196,
           0.02838670735216783,
           -0.043452159632214875,
           -0.1177881852505473,
           -0.19114437378651342,
           -0.26001264723920775,
           -0.3210343185560354,
           -0.37117570680030565,
           -0.407889497747319,
           -0.42925310491460716,
           -0.434076417833265,
           -0.42197287899622543,
           -0.39338972722403176,
           -0.3495953826561967,
           -0.2926242127644853,
           -0.22518118755916025,
           -0.15051108239111077,
           -0.0722388011028484,
           0.005811034304373925,
           0.07980593576993696,
           0.14609889758077332,
           0.20141317105264114,
           0.24300880867803662,
           0.2688222513075441,
           0.277571630583514,
           0.2688222513075441,
           0.24300880867803662,
           0.20141317105264114,
           0.14609889758077332,
           0.07980593576993696,
           0.005811034304373925,
           -0.0722388011028484,
           -0.15051108239111077,
           -0.22518118755916025,
           -0.2926242127644853,
           -0.3495953826561967,
           -0.39338972722403176,
           -0.42197287899622543,
           -0.434076417833265,
           -0.42925310491460716,
           -0.407889497747319,
           -0.37117570680030565,
           -0.3210343185560354,
           -0.26001264723920775,
           -0.19114437378651342,
           -0.1177881852505473,
           -0.043452159632214875,
           0.02838670735216783,
           0.09445829662141196,
           0.15186131748507978,
           0.1982031145119569,
           0.2317103248693539,
           0.25130504004127213,
           0.2566430509401283,
           0.24811283911536614,
           0.22679610352037188,
           0.1943926655354523,
           0.15311446345017118,
           0.10555493165712146,
           0.054541276561040686,
           0.0029779491154211806,
           -0.046310064114579955,
           -0.0907256642328181,
           -0.12803192632998142
          ],
          [
           -0.16278435980926842,
           -0.13736985507049018,
           -0.10281030706494565,
           -0.060690608986011814,
           -0.013073952151520388,
           0.03759772656874239,
           0.08862652853638416,
           0.13719827990417027,
           0.18053174205108255,
           0.21602931256266372,
           0.24142096714711753,
           0.254893432701845,
           0.25519727019112654,
           0.24172565029557566,
           0.21456006847846779,
           0.17447999195279823,
           0.12293536517635703,
           0.06198291759831892,
           -0.005810793613848673,
           -0.07749482277960204,
           -0.14988136590815446,
           -0.21970771693043264,
           -0.2838041182964338,
           -0.3392585664190622,
           -0.3835697098652554,
           -0.4147795406040892,
           -0.43157859884674826,
           -0.4333778373354074,
           -0.4203430458705095,
           -0.39338972722403176,
           -0.3541384336243295,
           -0.30483270332925,
           -0.24822376277499153,
           -0.187427969950852,
           -0.1257644689695074,
           -0.06658162124929747,
           -0.0130814139378774,
           0.03184881503912622,
           0.0657883626364726,
           0.08691073780520595,
           0.0940800053732448,
           0.08691073780520595,
           0.0657883626364726,
           0.03184881503912622,
           -0.0130814139378774,
           -0.06658162124929747,
           -0.1257644689695074,
           -0.187427969950852,
           -0.24822376277499153,
           -0.30483270332925,
           -0.3541384336243295,
           -0.39338972722403176,
           -0.4203430458705095,
           -0.4333778373354074,
           -0.43157859884674826,
           -0.4147795406040892,
           -0.3835697098652554,
           -0.3392585664190622,
           -0.2838041182964338,
           -0.21970771693043264,
           -0.14988136590815446,
           -0.07749482277960204,
           -0.005810793613848673,
           0.06198291759831892,
           0.12293536517635703,
           0.17447999195279823,
           0.21456006847846779,
           0.24172565029557566,
           0.25519727019112654,
           0.254893432701845,
           0.24142096714711753,
           0.21602931256266372,
           0.18053174205108255,
           0.13719827990417027,
           0.08862652853638416,
           0.03759772656874239,
           -0.013073952151520388,
           -0.060690608986011814,
           -0.10281030706494565,
           -0.13736985507049018
          ],
          [
           -0.16865061331126227,
           -0.14653700801271363,
           -0.11505016730310495,
           -0.07558080422426758,
           -0.030004497243790427,
           0.019407660252202565,
           0.07010183827093616,
           0.11937185506223688,
           0.16450028494360933,
           0.20290271423033404,
           0.23226729318028777,
           0.2506818889186662,
           0.2567417315441088,
           0.24963143467045815,
           0.22917661128094333,
           0.19586192453391038,
           0.15081422331281308,
           0.0957513146109,
           0.032898814044057145,
           -0.03512071345143313,
           -0.10542055787501849,
           -0.17499760171649797,
           -0.24088710992360066,
           -0.3003162506586467,
           -0.35084804028714445,
           -0.3905078789395116,
           -0.417885750201407,
           -0.43220845214435083,
           -0.4333778373354074,
           -0.42197287899622543,
           -0.39921534828629784,
           -0.36690087535799776,
           -0.32729906443176787,
           -0.28302803533990717,
           -0.23691017597600564,
           -0.19181693290541052,
           -0.15051108239111077,
           -0.11549507625799743,
           -0.08887373699192957,
           -0.0722388011028484,
           -0.06658162124929747,
           -0.0722388011028484,
           -0.08887373699192957,
           -0.11549507625799743,
           -0.15051108239111077,
           -0.19181693290541052,
           -0.23691017597600564,
           -0.28302803533990717,
           -0.32729906443176787,
           -0.36690087535799776,
           -0.39921534828629784,
           -0.42197287899622543,
           -0.4333778373354074,
           -0.43220845214435083,
           -0.417885750201407,
           -0.3905078789395116,
           -0.35084804028714445,
           -0.3003162506586467,
           -0.24088710992360066,
           -0.17499760171649797,
           -0.10542055787501849,
           -0.03512071345143313,
           0.032898814044057145,
           0.0957513146109,
           0.15081422331281308,
           0.19586192453391038,
           0.22917661128094333,
           0.24963143467045815,
           0.2567417315441088,
           0.2506818889186662,
           0.23226729318028777,
           0.20290271423033404,
           0.16450028494360933,
           0.11937185506223688,
           0.07010183827093616,
           0.019407660252202565,
           -0.030004497243790427,
           -0.07558080422426758,
           -0.11505016730310495,
           -0.14653700801271363
          ],
          [
           -0.1738139924448547,
           -0.15527119023634722,
           -0.1271795169340972,
           -0.0907256642328181,
           -0.04758506314163741,
           0.0001569493213448689,
           0.05010748884225075,
           0.09968670899986165,
           0.14626024334832619,
           0.18727640924644018,
           0.22040074178662336,
           0.24364050109720906,
           0.2554522819126627,
           0.2548267267047997,
           0.2413455569066888,
           0.2152076253393881,
           0.17722237538812438,
           0.12877087581897034,
           0.07173638515428266,
           0.00840808631479302,
           -0.05863687417657578,
           -0.12666669235949252,
           -0.1929363397545002,
           -0.254829433326894,
           -0.309992807249447,
           -0.3564564355250057,
           -0.39273214882544505,
           -0.417885750201407,
           -0.43157859884674826,
           -0.434076417833265,
           -0.42622489689420734,
           -0.4093935036702951,
           -0.3853906832849483,
           -0.35635521764627226,
           -0.324629843053556,
           -0.2926242127644853,
           -0.2626748843273063,
           -0.23691017597600564,
           -0.21712746254366178,
           -0.20468978410715197,
           -0.20044755867978276,
           -0.20468978410715197,
           -0.21712746254366178,
           -0.23691017597600564,
           -0.2626748843273063,
           -0.2926242127644853,
           -0.324629843053556,
           -0.35635521764627226,
           -0.3853906832849483,
           -0.4093935036702951,
           -0.42622489689420734,
           -0.434076417833265,
           -0.43157859884674826,
           -0.417885750201407,
           -0.39273214882544505,
           -0.3564564355250057,
           -0.309992807249447,
           -0.254829433326894,
           -0.1929363397545002,
           -0.12666669235949252,
           -0.05863687417657578,
           0.00840808631479302,
           0.07173638515428266,
           0.12877087581897034,
           0.17722237538812438,
           0.2152076253393881,
           0.2413455569066888,
           0.2548267267047997,
           0.2554522819126627,
           0.24364050109720906,
           0.22040074178662336,
           0.18727640924644018,
           0.14626024334832619,
           0.09968670899986165,
           0.05010748884225075,
           0.0001569493213448689,
           -0.04758506314163741,
           -0.0907256642328181,
           -0.1271795169340972,
           -0.15527119023634722
          ],
          [
           -0.17801860199902664,
           -0.16329221750830802,
           -0.13890582780165694,
           -0.10583439818051152,
           -0.06554239869174844,
           -0.019915691575644292,
           0.02883009042098063,
           0.07825990831739421,
           0.1258425822940911,
           0.16908036038891633,
           0.20563779959612533,
           0.23346296309158113,
           0.2508943222213973,
           0.25674750760048576,
           0.25037713957121355,
           0.2317103248693539,
           0.20124995852555586,
           0.16004763127913005,
           0.1096476200446325,
           0.05200503792795912,
           -0.010617349295218181,
           -0.0757679524450742,
           -0.1409342819269669,
           -0.2036729142303004,
           -0.2617343483375656,
           -0.31317589634427284,
           -0.3564564355250057,
           -0.3905078789395116,
           -0.4147795406040892,
           -0.42925310491460716,
           -0.43442757176285574,
           -0.4312752446188071,
           -0.421171462695804,
           -0.40580225753498556,
           -0.38705535500366767,
           -0.36690087535799776,
           -0.3472686537517362,
           -0.32992927901128904,
           -0.3163857196862348,
           -0.3077817863653888,
           -0.30483270332925,
           -0.3077817863653888,
           -0.3163857196862348,
           -0.32992927901128904,
           -0.3472686537517362,
           -0.36690087535799776,
           -0.38705535500366767,
           -0.40580225753498556,
           -0.421171462695804,
           -0.4312752446188071,
           -0.43442757176285574,
           -0.42925310491460716,
           -0.4147795406040892,
           -0.3905078789395116,
           -0.3564564355250057,
           -0.31317589634427284,
           -0.2617343483375656,
           -0.2036729142303004,
           -0.1409342819269669,
           -0.0757679524450742,
           -0.010617349295218181,
           0.05200503792795912,
           0.1096476200446325,
           0.16004763127913005,
           0.20124995852555586,
           0.2317103248693539,
           0.25037713957121355,
           0.25674750760048576,
           0.2508943222213973,
           0.23346296309158113,
           0.20563779959612533,
           0.16908036038891633,
           0.1258425822940911,
           0.07825990831739421,
           0.02883009042098063,
           -0.019915691575644292,
           -0.06554239869174844,
           -0.10583439818051152,
           -0.13890582780165694,
           -0.16329221750830802
          ],
          [
           -0.18100457917857166,
           -0.17030698199702413,
           -0.1499137997580331,
           -0.12058300781296416,
           -0.08355939645450051,
           -0.040517266401149735,
           0.0065202421682302655,
           0.05528095770522729,
           0.10335731863015635,
           0.14832776112580212,
           0.18787932061729182,
           0.21992483146863692,
           0.242708395806646,
           0.254893432701845,
           0.25562857790064414,
           0.24458792842044305,
           0.22198354690007724,
           0.18854967763954522,
           0.14549969299473817,
           0.09445829662141196,
           0.037372873633869375,
           -0.02359098016854476,
           -0.08616386191642225,
           -0.14809048863531396,
           -0.20724458052139974,
           -0.2617343483375656,
           -0.309992807249447,
           -0.35084804028714445,
           -0.3835697098652554,
           -0.407889497747319,
           -0.42399466300627076,
           -0.43249545715781157,
           -0.43436863670247905,
           -0.4308806796227811,
           -0.42349546556438716,
           -0.4137720534188708,
           -0.40325873487122593,
           -0.39338972722403176,
           -0.3853906832849483,
           -0.3801986514917913,
           -0.3784012476539641,
           -0.3801986514917913,
           -0.3853906832849483,
           -0.39338972722403176,
           -0.40325873487122593,
           -0.4137720534188708,
           -0.42349546556438716,
           -0.4308806796227811,
           -0.43436863670247905,
           -0.43249545715781157,
           -0.42399466300627076,
           -0.407889497747319,
           -0.3835697098652554,
           -0.35084804028714445,
           -0.309992807249447,
           -0.2617343483375656,
           -0.20724458052139974,
           -0.14809048863531396,
           -0.08616386191642225,
           -0.02359098016854476,
           0.037372873633869375,
           0.09445829662141196,
           0.14549969299473817,
           0.18854967763954522,
           0.22198354690007724,
           0.24458792842044305,
           0.25562857790064414,
           0.254893432701845,
           0.242708395806646,
           0.21992483146863692,
           0.18787932061729182,
           0.14832776112580212,
           0.10335731863015635,
           0.05528095770522729,
           0.0065202421682302655,
           -0.040517266401149735,
           -0.08355939645450051,
           -0.12058300781296416,
           -0.1499137997580331,
           -0.17030698199702413
          ],
          [
           -0.18251498442862385,
           -0.1760159755489718,
           -0.15987112992755653,
           -0.13461888616197776,
           -0.10127808535368477,
           -0.061301442485772274,
           -0.016505930263581485,
           0.031016232090896562,
           0.07900122348247962,
           0.12512633286074154,
           0.16712567793535366,
           0.20290271423033404,
           0.23063350923189954,
           0.24885528388828942,
           0.25653555744366946,
           0.25311832399967577,
           0.23854497801642713,
           0.21324911772700825,
           0.17812580971586786,
           0.134477311926808,
           0.08393854575868848,
           0.02838670735216783,
           -0.030159748399708135,
           -0.08964697741323371,
           -0.14809048863531396,
           -0.2036729142303004,
           -0.254829433326894,
           -0.3003162506586467,
           -0.3392585664190622,
           -0.37117570680030565,
           -0.39598244357893553,
           -0.41396693622794944,
           -0.42574709936268906,
           -0.43220845214435083,
           -0.43442757176285574,
           -0.4335860886421158,
           -0.4308806796227811,
           -0.4274347075936389,
           -0.42421701152445723,
           -0.42197287899622543,
           -0.421171462695804,
           -0.42197287899622543,
           -0.42421701152445723,
           -0.4274347075936389,
           -0.4308806796227811,
           -0.4335860886421158,
           -0.43442757176285574,
           -0.43220845214435083,
           -0.42574709936268906,
           -0.41396693622794944,
           -0.39598244357893553,
           -0.37117570680030565,
           -0.3392585664190622,
           -0.3003162506586467,
           -0.254829433326894,
           -0.2036729142303004,
           -0.14809048863531396,
           -0.08964697741323371,
           -0.030159748399708135,
           0.02838670735216783,
           0.08393854575868848,
           0.134477311926808,
           0.17812580971586786,
           0.21324911772700825,
           0.23854497801642713,
           0.25311832399967577,
           0.25653555744366946,
           0.24885528388828942,
           0.23063350923189954,
           0.20290271423033404,
           0.16712567793535366,
           0.12512633286074154,
           0.07900122348247962,
           0.031016232090896562,
           -0.016505930263581485,
           -0.061301442485772274,
           -0.10127808535368477,
           -0.13461888616197776,
           -0.15987112992755653,
           -0.1760159755489718
          ],
          [
           -0.18230376872794093,
           -0.18012123502583363,
           -0.16843605361995675,
           -0.14756752732225356,
           -0.11830504740258321,
           -0.08187218787401292,
           -0.039868134180728126,
           0.0058103924762656495,
           0.05306249567952219,
           0.09968670899986165,
           0.14348926836260514,
           0.18239124981424537,
           0.2145288714461612,
           0.2383416766936446,
           0.25264402764959015,
           0.2566762997375786,
           0.25013332713993036,
           0.23316893482082693,
           0.2063767337439853,
           0.17074867404778504,
           0.12761407121954643,
           0.07856287339249271,
           0.02535776443828009,
           -0.030159748399708135,
           -0.08616386191642225,
           -0.1409342819269669,
           -0.1929363397545002,
           -0.24088710992360066,
           -0.2838041182964338,
           -0.3210343185560354,
           -0.35226222727992795,
           -0.37749737145928347,
           -0.3970424421347404,
           -0.41144469052055266,
           -0.42143408131469146,
           -0.42785247459104203,
           -0.43157859884674826,
           -0.4334537754581445,
           -0.434213248547002,
           -0.43442757176285574,
           -0.43445783007337646,
           -0.43442757176285574,
           -0.434213248547002,
           -0.4334537754581445,
           -0.43157859884674826,
           -0.42785247459104203,
           -0.42143408131469146,
           -0.41144469052055266,
           -0.3970424421347404,
           -0.37749737145928347,
           -0.35226222727992795,
           -0.3210343185560354,
           -0.2838041182964338,
           -0.24088710992360066,
           -0.1929363397545002,
           -0.1409342819269669,
           -0.08616386191642225,
           -0.030159748399708135,
           0.02535776443828009,
           0.07856287339249271,
           0.12761407121954643,
           0.17074867404778504,
           0.2063767337439853,
           0.23316893482082693,
           0.25013332713993036,
           0.2566762997375786,
           0.25264402764959015,
           0.2383416766936446,
           0.2145288714461612,
           0.18239124981424537,
           0.14348926836260514,
           0.09968670899986165,
           0.05306249567952219,
           0.0058103924762656495,
           -0.039868134180728126,
           -0.08187218787401292,
           -0.11830504740258321,
           -0.14756752732225356,
           -0.16843605361995675,
           -0.18012123502583363
          ],
          [
           -0.1801446545297837,
           -0.18233559039097344,
           -0.1752665961050691,
           -0.15904136091487175,
           -0.13421936300715656,
           -0.10179031338845618,
           -0.0631265026963309,
           -0.019915691575644292,
           0.025921773001301992,
           0.07232710218505171,
           0.11720338291232232,
           0.15851669454452746,
           0.1943926655354523,
           0.2232034254780841,
           0.24364050109720906,
           0.25477004091850136,
           0.2560677827399544,
           0.24743234013685533,
           0.22917661128094333,
           0.20199833430642128,
           0.16693195814109418,
           0.12528500092613942,
           0.07856287339249271,
           0.02838670735216783,
           -0.02359098016854476,
           -0.0757679524450742,
           -0.12666669235949252,
           -0.17499760171649797,
           -0.21970771693043264,
           -0.26001264723920775,
           -0.29541051237375787,
           -0.32567778292945404,
           -0.35084804028714445,
           -0.37117570680030565,
           -0.38708768931988075,
           -0.3991265770886398,
           -0.407889497747319,
           -0.41396693622794944,
           -0.417885750201407,
           -0.4200602785751461,
           -0.4207548585159486,
           -0.4200602785751461,
           -0.417885750201407,
           -0.41396693622794944,
           -0.407889497747319,
           -0.3991265770886398,
           -0.38708768931988075,
           -0.37117570680030565,
           -0.35084804028714445,
           -0.32567778292945404,
           -0.29541051237375787,
           -0.26001264723920775,
           -0.21970771693043264,
           -0.17499760171649797,
           -0.12666669235949252,
           -0.0757679524450742,
           -0.02359098016854476,
           0.02838670735216783,
           0.07856287339249271,
           0.12528500092613942,
           0.16693195814109418,
           0.20199833430642128,
           0.22917661128094333,
           0.24743234013685533,
           0.2560677827399544,
           0.25477004091850136,
           0.24364050109720906,
           0.2232034254780841,
           0.1943926655354523,
           0.15851669454452746,
           0.11720338291232232,
           0.07232710218505171,
           0.025921773001301992,
           -0.019915691575644292,
           -0.0631265026963309,
           -0.10179031338845618,
           -0.13421936300715656,
           -0.15904136091487175,
           -0.1752665961050691,
           -0.18233559039097344
          ],
          [
           -0.17584069010379264,
           -0.18239300622958532,
           -0.1800313728705813,
           -0.16865061331126227,
           -0.14858307017251748,
           -0.12058300781296416,
           -0.0857896329957062,
           -0.045670869380806056,
           -0.001951040868825416,
           0.043473546354522816,
           0.08862652853638416,
           0.13154597877649798,
           0.17037647050011584,
           0.20345392533496165,
           0.22937894091767205,
           0.24707500803079696,
           0.25582893038458626,
           0.2553118000893658,
           0.2455799958764798,
           0.2270567942100705,
           0.20049625055173417,
           0.16693195814109418,
           0.12761407121954643,
           0.08393854575868848,
           0.037372873633869375,
           -0.010617349295218181,
           -0.05863687417657578,
           -0.10542055787501849,
           -0.14988136590815446,
           -0.19114437378651342,
           -0.22856545626592412,
           -0.2617343483375656,
           -0.29046275344788247,
           -0.31475910259630246,
           -0.33479237619194996,
           -0.35084804028714445,
           -0.3632795822101567,
           -0.37245933283868765,
           -0.3787322233669178,
           -0.382375848005458,
           -0.3835697098652554,
           -0.382375848005458,
           -0.3787322233669178,
           -0.37245933283868765,
           -0.3632795822101567,
           -0.35084804028714445,
           -0.33479237619194996,
           -0.31475910259630246,
           -0.29046275344788247,
           -0.2617343483375656,
           -0.22856545626592412,
           -0.19114437378651342,
           -0.14988136590815446,
           -0.10542055787501849,
           -0.05863687417657578,
           -0.010617349295218181,
           0.037372873633869375,
           0.08393854575868848,
           0.12761407121954643,
           0.16693195814109418,
           0.20049625055173417,
           0.2270567942100705,
           0.2455799958764798,
           0.2553118000893658,
           0.25582893038458626,
           0.24707500803079696,
           0.22937894091767205,
           0.20345392533496165,
           0.17037647050011584,
           0.13154597877649798,
           0.08862652853638416,
           0.043473546354522816,
           -0.001951040868825416,
           -0.045670869380806056,
           -0.0857896329957062,
           -0.12058300781296416,
           -0.14858307017251748,
           -0.16865061331126227,
           -0.1800313728705813,
           -0.18239300622958532
          ],
          [
           -0.16923416092386775,
           -0.1800597155006458,
           -0.18242166855756492,
           -0.1760159755489718,
           -0.1609539875623888,
           -0.1377563081818195,
           -0.10732612754693129,
           -0.07090368426500879,
           -0.030004497243790427,
           0.013655158230898757,
           0.058241427706856384,
           0.1018902143955224,
           0.14279404657238684,
           0.1792839709402817,
           0.20990234059772522,
           0.23346296309158113,
           0.24909585663212155,
           0.2562747828163765,
           0.2548267267047997,
           0.24492352037505036,
           0.2270567942100705,
           0.20199833430642128,
           0.17074867404778504,
           0.134477311926808,
           0.09445829662141196,
           0.05200503792795912,
           0.00840808631479302,
           -0.03512071345143313,
           -0.07749482277960204,
           -0.1177881852505473,
           -0.15525760655490364,
           -0.18935183535374994,
           -0.21970771693043264,
           -0.24613461781837798,
           -0.268589046149572,
           -0.28714197491104243,
           -0.30194177876754097,
           -0.31317589634427284,
           -0.3210343185560354,
           -0.32567778292945404,
           -0.32721314035298743,
           -0.32567778292945404,
           -0.3210343185560354,
           -0.31317589634427284,
           -0.30194177876754097,
           -0.28714197491104243,
           -0.268589046149572,
           -0.24613461781837798,
           -0.21970771693043264,
           -0.18935183535374994,
           -0.15525760655490364,
           -0.1177881852505473,
           -0.07749482277960204,
           -0.03512071345143313,
           0.00840808631479302,
           0.05200503792795912,
           0.09445829662141196,
           0.134477311926808,
           0.17074867404778504,
           0.20199833430642128,
           0.2270567942100705,
           0.24492352037505036,
           0.2548267267047997,
           0.2562747828163765,
           0.24909585663212155,
           0.23346296309158113,
           0.20990234059772522,
           0.1792839709402817,
           0.14279404657238684,
           0.1018902143955224,
           0.058241427706856384,
           0.013655158230898757,
           -0.030004497243790427,
           -0.07090368426500879,
           -0.10732612754693129,
           -0.1377563081818195,
           -0.1609539875623888,
           -0.1760159755489718,
           -0.18242166855756492,
           -0.1800597155006458
          ],
          [
           -0.16021647158282734,
           -0.1751457556394694,
           -0.1821644169794075,
           -0.18078273088932142,
           -0.17090060569317098,
           -0.1528102839666787,
           -0.1271795169340972,
           -0.0950164022704569,
           -0.05761803324395176,
           -0.016505930263581485,
           0.026648129724923395,
           0.07010183827093616,
           0.11212338767979044,
           0.15106960365711752,
           0.18545724476618586,
           0.21402402107025095,
           0.23577655069724138,
           0.25002327766855664,
           0.25639126767027576,
           0.2548267267047997,
           0.2455799958764798,
           0.22917661128094333,
           0.2063767337439853,
           0.17812580971586786,
           0.14549969299473817,
           0.1096476200446325,
           0.07173638515428266,
           0.032898814044057145,
           -0.005810793613848673,
           -0.043452159632214875,
           -0.0792240541655952,
           -0.11247819731414006,
           -0.1427221428215067,
           -0.1696119802323752,
           -0.1929363397545002,
           -0.2125937105436689,
           -0.22856545626592412,
           -0.24088710992360066,
           -0.24962054293732017,
           -0.254829433326894,
           -0.2565601183892334,
           -0.254829433326894,
           -0.24962054293732017,
           -0.24088710992360066,
           -0.22856545626592412,
           -0.2125937105436689,
           -0.1929363397545002,
           -0.1696119802323752,
           -0.1427221428215067,
           -0.11247819731414006,
           -0.0792240541655952,
           -0.043452159632214875,
           -0.005810793613848673,
           0.032898814044057145,
           0.07173638515428266,
           0.1096476200446325,
           0.14549969299473817,
           0.17812580971586786,
           0.2063767337439853,
           0.22917661128094333,
           0.2455799958764798,
           0.2548267267047997,
           0.25639126767027576,
           0.25002327766855664,
           0.23577655069724138,
           0.21402402107025095,
           0.18545724476618586,
           0.15106960365711752,
           0.11212338767979044,
           0.07010183827093616,
           0.026648129724923395,
           -0.016505930263581485,
           -0.05761803324395176,
           -0.0950164022704569,
           -0.1271795169340972,
           -0.1528102839666787,
           -0.17090060569317098,
           -0.18078273088932142,
           -0.1821644169794075,
           -0.1751457556394694
          ],
          [
           -0.1487375524385824,
           -0.16751643729146143,
           -0.17903560277058095,
           -0.1826358700412797,
           -0.17801860199902664,
           -0.16525654180237792,
           -0.14478624788034108,
           -0.11738288358628372,
           -0.08411903827788304,
           -0.046310064114579955,
           -0.005449066140771361,
           0.03686485131708162,
           0.07900122348247962,
           0.11937185506223688,
           0.15649972810645998,
           0.1890798565922851,
           0.21602931256266372,
           0.2365243422174828,
           0.25002327766855664,
           0.2562747828163765,
           0.2553118000893658,
           0.24743234013685533,
           0.23316893482082693,
           0.21324911772700825,
           0.18854967763954522,
           0.16004763127913005,
           0.12877087581897034,
           0.0957513146109,
           0.06198291759831892,
           0.02838670735216783,
           -0.004215913110515241,
           -0.03512071345143313,
           -0.06374895250625122,
           -0.08964697741323371,
           -0.11247819731414006,
           -0.132008995765264,
           -0.14809048863531396,
           -0.16063822727306362,
           -0.1696119802323752,
           -0.17499760171649797,
           -0.17679272260843765,
           -0.17499760171649797,
           -0.1696119802323752,
           -0.16063822727306362,
           -0.14809048863531396,
           -0.132008995765264,
           -0.11247819731414006,
           -0.08964697741323371,
           -0.06374895250625122,
           -0.03512071345143313,
           -0.004215913110515241,
           0.02838670735216783,
           0.06198291759831892,
           0.0957513146109,
           0.12877087581897034,
           0.16004763127913005,
           0.18854967763954522,
           0.21324911772700825,
           0.23316893482082693,
           0.24743234013685533,
           0.2553118000893658,
           0.2562747828163765,
           0.25002327766855664,
           0.2365243422174828,
           0.21602931256266372,
           0.1890798565922851,
           0.15649972810645998,
           0.11937185506223688,
           0.07900122348247962,
           0.03686485131708162,
           -0.005449066140771361,
           -0.046310064114579955,
           -0.08411903827788304,
           -0.11738288358628372,
           -0.14478624788034108,
           -0.16525654180237792,
           -0.17801860199902664,
           -0.1826358700412797,
           -0.17903560277058095,
           -0.16751643729146143
          ],
          [
           -0.13481430178982187,
           -0.15710321083861073,
           -0.17287351607260817,
           -0.18131560690315682,
           -0.18194839266053625,
           -0.17463748569481502,
           -0.15959621882048483,
           -0.13736985507049018,
           -0.10880422217787396,
           -0.0750007897964791,
           -0.03726086233570953,
           0.0029779491154211806,
           0.044209509361482956,
           0.08492762656935865,
           0.12369173187889267,
           0.15918658398472915,
           0.1902732638436695,
           0.21602931256266372,
           0.23577655069724138,
           0.24909585663212155,
           0.25582893038458626,
           0.2560677827399544,
           0.25013332713993036,
           0.23854497801642713,
           0.22198354690007724,
           0.20124995852555586,
           0.17722237538812438,
           0.15081422331281308,
           0.12293536517635703,
           0.09445829662141196,
           0.0661907655654817,
           0.03885568116655977,
           0.013078615468659323,
           -0.010617349295218181,
           -0.03181017613329085,
           -0.050171999808914604,
           -0.06545830501430487,
           -0.07749482277960204,
           -0.08616386191642225,
           -0.09139170665445415,
           -0.09313849939964196,
           -0.09139170665445415,
           -0.08616386191642225,
           -0.07749482277960204,
           -0.06545830501430487,
           -0.050171999808914604,
           -0.03181017613329085,
           -0.010617349295218181,
           0.013078615468659323,
           0.03885568116655977,
           0.0661907655654817,
           0.09445829662141196,
           0.12293536517635703,
           0.15081422331281308,
           0.17722237538812438,
           0.20124995852555586,
           0.22198354690007724,
           0.23854497801642713,
           0.25013332713993036,
           0.2560677827399544,
           0.25582893038458626,
           0.24909585663212155,
           0.23577655069724138,
           0.21602931256266372,
           0.1902732638436695,
           0.15918658398472915,
           0.12369173187889267,
           0.08492762656935865,
           0.044209509361482956,
           0.0029779491154211806,
           -0.03726086233570953,
           -0.0750007897964791,
           -0.10880422217787396,
           -0.13736985507049018,
           -0.15959621882048483,
           -0.17463748569481502,
           -0.18194839266053625,
           -0.18131560690315682,
           -0.17287351607260817,
           -0.15710321083861073
          ],
          [
           -0.11853755153953284,
           -0.14391335124448024,
           -0.163591222139663,
           -0.17663261032673944,
           -0.18239300622958532,
           -0.18054660691367944,
           -0.17109514979541934,
           -0.1543609103022869,
           -0.13096468174943518,
           -0.10179031338845618,
           -0.06793803188546253,
           -0.03066927919323432,
           0.008653858363151095,
           0.04863139306208121,
           0.0878871354792479,
           0.12512633286074154,
           0.15918658398472915,
           0.1890798565922851,
           0.21402402107025095,
           0.23346296309158113,
           0.24707500803079696,
           0.25477004091850136,
           0.2566762997375786,
           0.25311832399967577,
           0.24458792842044305,
           0.2317103248693539,
           0.2152076253393881,
           0.19586192453391038,
           0.17447999195279823,
           0.15186131748507978,
           0.12877087581897034,
           0.10591753298818528,
           0.08393854575868848,
           0.06339013493636744,
           0.044743679368913644,
           0.02838670735216783,
           0.014627580006334946,
           0.0037025838949493145,
           -0.004215913110515241,
           -0.009011537058698997,
           -0.010617349295218181,
           -0.009011537058698997,
           -0.004215913110515241,
           0.0037025838949493145,
           0.014627580006334946,
           0.02838670735216783,
           0.044743679368913644,
           0.06339013493636744,
           0.08393854575868848,
           0.10591753298818528,
           0.12877087581897034,
           0.15186131748507978,
           0.17447999195279823,
           0.19586192453391038,
           0.2152076253393881,
           0.2317103248693539,
           0.24458792842044305,
           0.25311832399967577,
           0.2566762997375786,
           0.25477004091850136,
           0.24707500803079696,
           0.23346296309158113,
           0.21402402107025095,
           0.1890798565922851,
           0.15918658398472915,
           0.12512633286074154,
           0.0878871354792479,
           0.04863139306208121,
           0.008653858363151095,
           -0.03066927919323432,
           -0.06793803188546253,
           -0.10179031338845618,
           -0.13096468174943518,
           -0.1543609103022869,
           -0.17109514979541934,
           -0.18054660691367944,
           -0.18239300622958532,
           -0.17663261032673944,
           -0.163591222139663,
           -0.14391335124448024
          ],
          [
           -0.10007704610444179,
           -0.12803786284735597,
           -0.1511875643863488,
           -0.16848219583369567,
           -0.17913546063850083,
           -0.18264893898060253,
           -0.1788278960809016,
           -0.16778234479339135,
           -0.1499137997580331,
           -0.1258888846262905,
           -0.09660159075517502,
           -0.0631265026963309,
           -0.026665677985416577,
           0.011507919583092052,
           0.05010748884225075,
           0.0878871354792479,
           0.12369173187889267,
           0.15649972810645998,
           0.18545724476618586,
           0.20990234059772522,
           0.22937894091767205,
           0.24364050109720906,
           0.25264402764959015,
           0.25653555744366946,
           0.25562857790064414,
           0.25037713957121355,
           0.2413455569066888,
           0.22917661128094333,
           0.21456006847846779,
           0.1982031145119569,
           0.18080401871815463,
           0.1630299764243758,
           0.14549969299473817,
           0.12877087581897034,
           0.11333242903336226,
           0.09960082298540655,
           0.08791985781076668,
           0.07856287339249271,
           0.07173638515428266,
           0.06758414818694233,
           0.0661907655654817,
           0.06758414818694233,
           0.07173638515428266,
           0.07856287339249271,
           0.08791985781076668,
           0.09960082298540655,
           0.11333242903336226,
           0.12877087581897034,
           0.14549969299473817,
           0.1630299764243758,
           0.18080401871815463,
           0.1982031145119569,
           0.21456006847846779,
           0.22917661128094333,
           0.2413455569066888,
           0.25037713957121355,
           0.25562857790064414,
           0.25653555744366946,
           0.25264402764959015,
           0.24364050109720906,
           0.22937894091767205,
           0.20990234059772522,
           0.18545724476618586,
           0.15649972810645998,
           0.12369173187889267,
           0.0878871354792479,
           0.05010748884225075,
           0.011507919583092052,
           -0.026665677985416577,
           -0.0631265026963309,
           -0.09660159075517502,
           -0.1258888846262905,
           -0.1499137997580331,
           -0.16778234479339135,
           -0.1788278960809016,
           -0.18264893898060253,
           -0.17913546063850083,
           -0.16848219583369567,
           -0.1511875643863488,
           -0.12803786284735597
          ],
          [
           -0.07968395387291566,
           -0.10965701691843574,
           -0.13575600794040762,
           -0.15685668268767797,
           -0.17205475511311313,
           -0.1807007071005138,
           -0.18242166855756492,
           -0.17712974307464055,
           -0.16501687105976595,
           -0.14653700801271363,
           -0.12237701362727325,
           -0.09341816596346665,
           -0.060690608986011814,
           -0.02532329427921568,
           0.011507919583092052,
           0.04863139306208121,
           0.08492762656935865,
           0.11937185506223688,
           0.15106960365711752,
           0.1792839709402817,
           0.20345392533496165,
           0.2232034254780841,
           0.2383416766936446,
           0.24885528388828942,
           0.254893432701845,
           0.25674750760048576,
           0.2548267267047997,
           0.24963143467045815,
           0.24172565029557566,
           0.2317103248693539,
           0.22019854657881394,
           0.20779364608280457,
           0.19507084218595108,
           0.18256273925541686,
           0.17074867404778504,
           0.16004763127913005,
           0.15081422331281308,
           0.1433370736825879,
           0.13783886506830845,
           0.134477311926808,
           0.1333463922312941,
           0.134477311926808,
           0.13783886506830845,
           0.1433370736825879,
           0.15081422331281308,
           0.16004763127913005,
           0.17074867404778504,
           0.18256273925541686,
           0.19507084218595108,
           0.20779364608280457,
           0.22019854657881394,
           0.2317103248693539,
           0.24172565029557566,
           0.24963143467045815,
           0.2548267267047997,
           0.25674750760048576,
           0.254893432701845,
           0.24885528388828942,
           0.2383416766936446,
           0.2232034254780841,
           0.20345392533496165,
           0.1792839709402817,
           0.15106960365711752,
           0.11937185506223688,
           0.08492762656935865,
           0.04863139306208121,
           0.011507919583092052,
           -0.02532329427921568,
           -0.060690608986011814,
           -0.09341816596346665,
           -0.12237701362727325,
           -0.14653700801271363,
           -0.16501687105976595,
           -0.17712974307464055,
           -0.18242166855756492,
           -0.1807007071005138,
           -0.17205475511311313,
           -0.15685668268767797,
           -0.13575600794040762,
           -0.10965701691843574
          ],
          [
           -0.05769048962428924,
           -0.08904297911487404,
           -0.11749065565570795,
           -0.14185512230149663,
           -0.16113955966514656,
           -0.17456713788189782,
           -0.18160802037610754,
           -0.18199408570471504,
           -0.17572115154133375,
           -0.16303912773542587,
           -0.14443111863131364,
           -0.12058300781296416,
           -0.09234546620178369,
           -0.060690608986011814,
           -0.026665677985416577,
           0.008653858363151095,
           0.044209509361482956,
           0.07900122348247962,
           0.11212338767979044,
           0.14279404657238684,
           0.17037647050011584,
           0.1943926655354523,
           0.2145288714461612,
           0.23063350923189954,
           0.242708395806646,
           0.2508943222213973,
           0.2554522819126627,
           0.2567417315441088,
           0.25519727019112654,
           0.25130504004127213,
           0.2455799958764798,
           0.23854497801642713,
           0.23071227369415245,
           0.2225680860000738,
           0.21456006847846779,
           0.2070878465419809,
           0.20049625055173417,
           0.19507084218595108,
           0.19103523332295086,
           0.18854967763954522,
           0.18771045677679687,
           0.18854967763954522,
           0.19103523332295086,
           0.19507084218595108,
           0.20049625055173417,
           0.2070878465419809,
           0.21456006847846779,
           0.2225680860000738,
           0.23071227369415245,
           0.23854497801642713,
           0.2455799958764798,
           0.25130504004127213,
           0.25519727019112654,
           0.2567417315441088,
           0.2554522819126627,
           0.2508943222213973,
           0.242708395806646,
           0.23063350923189954,
           0.2145288714461612,
           0.1943926655354523,
           0.17037647050011584,
           0.14279404657238684,
           0.11212338767979044,
           0.07900122348247962,
           0.044209509361482956,
           0.008653858363151095,
           -0.026665677985416577,
           -0.060690608986011814,
           -0.09234546620178369,
           -0.12058300781296416,
           -0.14443111863131364,
           -0.16303912773542587,
           -0.17572115154133375,
           -0.18199408570471504,
           -0.18160802037610754,
           -0.17456713788189782,
           -0.16113955966514656,
           -0.14185512230149663,
           -0.11749065565570795,
           -0.08904297911487404
          ],
          [
           -0.0345063152690242,
           -0.06655906279410359,
           -0.09668883252747353,
           -0.12368964794720452,
           -0.1464987033293174,
           -0.1642373823959323,
           -0.17624240938958516,
           -0.18208605074549258,
           -0.18158488243001691,
           -0.1747972342928682,
           -0.16200998595397612,
           -0.1437158894806465,
           -0.12058300781296416,
           -0.09341816596346665,
           -0.0631265026963309,
           -0.03066927919323432,
           0.0029779491154211806,
           0.03686485131708162,
           0.07010183827093616,
           0.1018902143955224,
           0.13154597877649798,
           0.15851669454452746,
           0.18239124981424537,
           0.20290271423033404,
           0.21992483146863692,
           0.23346296309158113,
           0.24364050109720906,
           0.2506818889186662,
           0.254893432701845,
           0.2566430509401283,
           0.2563400102730029,
           0.25441554164532254,
           0.25130504004127213,
           0.24743234013685533,
           0.2431963471432226,
           0.23896010343988033,
           0.23504220166614895,
           0.2317103248693539,
           0.22917661128094333,
           0.22759450814784551,
           0.2270567942100705,
           0.22759450814784551,
           0.22917661128094333,
           0.2317103248693539,
           0.23504220166614895,
           0.23896010343988033,
           0.2431963471432226,
           0.24743234013685533,
           0.25130504004127213,
           0.25441554164532254,
           0.2563400102730029,
           0.2566430509401283,
           0.254893432701845,
           0.2506818889186662,
           0.24364050109720906,
           0.23346296309158113,
           0.21992483146863692,
           0.20290271423033404,
           0.18239124981424537,
           0.15851669454452746,
           0.13154597877649798,
           0.1018902143955224,
           0.07010183827093616,
           0.03686485131708162,
           0.0029779491154211806,
           -0.03066927919323432,
           -0.0631265026963309,
           -0.09341816596346665,
           -0.12058300781296416,
           -0.1437158894806465,
           -0.16200998595397612,
           -0.1747972342928682,
           -0.18158488243001691,
           -0.18208605074549258,
           -0.17624240938958516,
           -0.1642373823959323,
           -0.1464987033293174,
           -0.12368964794720452,
           -0.09668883252747353,
           -0.06655906279410359
          ],
          [
           -0.01061150357619211,
           -0.042655257000177006,
           -0.07374973820785838,
           -0.10268778525178764,
           -0.1283676319466868,
           -0.14983554931501694,
           -0.16632015713858264,
           -0.17725715646546372,
           -0.18230376872794093,
           -0.18134271385500067,
           -0.17447608825271163,
           -0.16200998595397612,
           -0.14443111863131364,
           -0.12237701362727325,
           -0.09660159075517502,
           -0.06793803188546253,
           -0.03726086233570953,
           -0.005449066140771361,
           0.026648129724923395,
           0.058241427706856384,
           0.08862652853638416,
           0.11720338291232232,
           0.14348926836260514,
           0.16712567793535366,
           0.18787932061729182,
           0.20563779959612533,
           0.22040074178662336,
           0.23226729318028777,
           0.24142096714711753,
           0.24811283911536614,
           0.25264402764959015,
           0.255348298963932,
           0.256575492104657,
           0.2566762997375786,
           0.2559887694405144,
           0.2548267267047997,
           0.25347017586536014,
           0.252157618714697,
           0.25108014921898075,
           0.25037713957121355,
           0.25013332713993036,
           0.25037713957121355,
           0.25108014921898075,
           0.252157618714697,
           0.25347017586536014,
           0.2548267267047997,
           0.2559887694405144,
           0.2566762997375786,
           0.256575492104657,
           0.255348298963932,
           0.25264402764959015,
           0.24811283911536614,
           0.24142096714711753,
           0.23226729318028777,
           0.22040074178662336,
           0.20563779959612533,
           0.18787932061729182,
           0.16712567793535366,
           0.14348926836260514,
           0.11720338291232232,
           0.08862652853638416,
           0.058241427706856384,
           0.026648129724923395,
           -0.005449066140771361,
           -0.03726086233570953,
           -0.06793803188546253,
           -0.09660159075517502,
           -0.12237701362727325,
           -0.14443111863131364,
           -0.16200998595397612,
           -0.17447608825271163,
           -0.18134271385500067,
           -0.18230376872794093,
           -0.17725715646546372,
           -0.16632015713858264,
           -0.14983554931501694,
           -0.1283676319466868,
           -0.10268778525178764,
           -0.07374973820785838,
           -0.042655257000177006
          ],
          [
           0.013454008098850966,
           -0.017859822184363938,
           -0.04916880920228074,
           -0.07929019757294747,
           -0.10711012813756442,
           -0.1316269478872783,
           -0.15198770280837584,
           -0.16751643729146143,
           -0.17773339606034183,
           -0.18236471957976835,
           -0.18134271385500067,
           -0.1747972342928682,
           -0.16303912773542587,
           -0.14653700801271363,
           -0.1258888846262905,
           -0.10179031338845618,
           -0.0750007897964791,
           -0.046310064114579955,
           -0.016505930263581485,
           0.013655158230898757,
           0.043473546354522816,
           0.07232710218505171,
           0.09968670899986165,
           0.12512633286074154,
           0.14832776112580212,
           0.16908036038891633,
           0.18727640924644018,
           0.20290271423033404,
           0.21602931256266372,
           0.22679610352037188,
           0.23539823538075702,
           0.2420710146043941,
           0.24707500803079696,
           0.2506818889186662,
           0.2531614457800734,
           0.25477004091850136,
           0.2557406839380664,
           0.2562747828163765,
           0.25653555744366946,
           0.2566430509401283,
           0.2566706526738519,
           0.2566430509401283,
           0.25653555744366946,
           0.2562747828163765,
           0.2557406839380664,
           0.25477004091850136,
           0.2531614457800734,
           0.2506818889186662,
           0.24707500803079696,
           0.2420710146043941,
           0.23539823538075702,
           0.22679610352037188,
           0.21602931256266372,
           0.20290271423033404,
           0.18727640924644018,
           0.16908036038891633,
           0.14832776112580212,
           0.12512633286074154,
           0.09968670899986165,
           0.07232710218505171,
           0.043473546354522816,
           0.013655158230898757,
           -0.016505930263581485,
           -0.046310064114579955,
           -0.0750007897964791,
           -0.10179031338845618,
           -0.1258888846262905,
           -0.14653700801271363,
           -0.16303912773542587,
           -0.1747972342928682,
           -0.18134271385500067,
           -0.18236471957976835,
           -0.17773339606034183,
           -0.16751643729146143,
           -0.15198770280837584,
           -0.1316269478872783,
           -0.10711012813756442,
           -0.07929019757294747,
           -0.04916880920228074,
           -0.017859822184363938
          ],
          [
           0.037104384846577534,
           0.007233082355737275,
           -0.023527608249201665,
           -0.054043516875550875,
           -0.08321475815193494,
           -0.11001880232017779,
           -0.13354819579908725,
           -0.15304146672549196,
           -0.167906160972842,
           -0.17773339606034183,
           -0.18230376872794093,
           -0.18158488243001691,
           -0.17572115154133375,
           -0.16501687105976595,
           -0.1499137997580331,
           -0.13096468174943518,
           -0.10880422217787396,
           -0.08411903827788304,
           -0.05761803324395176,
           -0.030004497243790427,
           -0.001951040868825416,
           0.025921773001301992,
           0.05306249567952219,
           0.07900122348247962,
           0.10335731863015635,
           0.1258425822940911,
           0.14626024334832619,
           0.16450028494360933,
           0.18053174205108255,
           0.1943926655354523,
           0.2061784643801796,
           0.21602931256266372,
           0.22411724822563847,
           0.23063350923189954,
           0.23577655069724138,
           0.23974108638511749,
           0.242708395806646,
           0.24483804991090946,
           0.24626113579560338,
           0.24707500803079696,
           0.24733956165584545,
           0.24707500803079696,
           0.24626113579560338,
           0.24483804991090946,
           0.242708395806646,
           0.23974108638511749,
           0.23577655069724138,
           0.23063350923189954,
           0.22411724822563847,
           0.21602931256266372,
           0.2061784643801796,
           0.1943926655354523,
           0.18053174205108255,
           0.16450028494360933,
           0.14626024334832619,
           0.1258425822940911,
           0.10335731863015635,
           0.07900122348247962,
           0.05306249567952219,
           0.025921773001301992,
           -0.001951040868825416,
           -0.030004497243790427,
           -0.05761803324395176,
           -0.08411903827788304,
           -0.10880422217787396,
           -0.13096468174943518,
           -0.1499137997580331,
           -0.16501687105976595,
           -0.17572115154133375,
           -0.18158488243001691,
           -0.18230376872794093,
           -0.17773339606034183,
           -0.167906160972842,
           -0.15304146672549196,
           -0.13354819579908725,
           -0.11001880232017779,
           -0.08321475815193494,
           -0.054043516875550875,
           -0.023527608249201665,
           0.007233082355737275
          ],
          [
           0.059725017515438364,
           0.03197958453286062,
           0.0025207381574719806,
           -0.027588123185645037,
           -0.0572857273340844,
           -0.08555491563889543,
           -0.1114606806231028,
           -0.13418273806183595,
           -0.15304146672549196,
           -0.16751643729146143,
           -0.17725715646546372,
           -0.18208605074549258,
           -0.18199408570471504,
           -0.17712974307464055,
           -0.16778234479339135,
           -0.1543609103022869,
           -0.13736985507049018,
           -0.11738288358628372,
           -0.0950164022704569,
           -0.07090368426500879,
           -0.045670869380806056,
           -0.019915691575644292,
           0.0058103924762656495,
           0.031016232090896562,
           0.05528095770522729,
           0.07825990831739421,
           0.09968670899986165,
           0.11937185506223688,
           0.13719827990417027,
           0.15311446345017118,
           0.16712567793535366,
           0.1792839709402817,
           0.18967745729212915,
           0.19841943861188654,
           0.20563779959612533,
           0.21146505144444128,
           0.21602931256266372,
           0.21944644111666822,
           0.22181346801290225,
           0.2232034254780841,
           0.22366162672468853,
           0.2232034254780841,
           0.22181346801290225,
           0.21944644111666822,
           0.21602931256266372,
           0.21146505144444128,
           0.20563779959612533,
           0.19841943861188654,
           0.18967745729212915,
           0.1792839709402817,
           0.16712567793535366,
           0.15311446345017118,
           0.13719827990417027,
           0.11937185506223688,
           0.09968670899986165,
           0.07825990831739421,
           0.05528095770522729,
           0.031016232090896562,
           0.0058103924762656495,
           -0.019915691575644292,
           -0.045670869380806056,
           -0.07090368426500879,
           -0.0950164022704569,
           -0.11738288358628372,
           -0.13736985507049018,
           -0.1543609103022869,
           -0.16778234479339135,
           -0.17712974307464055,
           -0.18199408570471504,
           -0.18208605074549258,
           -0.17725715646546372,
           -0.16751643729146143,
           -0.15304146672549196,
           -0.13418273806183595,
           -0.1114606806231028,
           -0.08555491563889543,
           -0.0572857273340844,
           -0.027588123185645037,
           0.0025207381574719806,
           0.03197958453286062
          ],
          [
           0.08069235790121831,
           0.05570574218106777,
           0.028270310898122826,
           -0.0006409754282528475,
           -0.03002807965783915,
           -0.05890402451081101,
           -0.08633239590937543,
           -0.1114606806231028,
           -0.13354819579908725,
           -0.15198770280837584,
           -0.16632015713858264,
           -0.17624240938958516,
           -0.18160802037610754,
           -0.18242166855756492,
           -0.1788278960809016,
           -0.17109514979541934,
           -0.15959621882048483,
           -0.14478624788034108,
           -0.1271795169340972,
           -0.10732612754693129,
           -0.0857896329957062,
           -0.0631265026963309,
           -0.039868134180728126,
           -0.016505930263581485,
           0.0065202421682302655,
           0.02883009042098063,
           0.05010748884225075,
           0.07010183827093616,
           0.08862652853638416,
           0.10555493165712146,
           0.12081441070397907,
           0.13437885433763305,
           0.14626024334832619,
           0.15649972810645998,
           0.16515865057394133,
           0.17230988766358785,
           0.17802983029511174,
           0.18239124981424537,
           0.18545724476618586,
           0.18727640924644018,
           0.18787932061729182,
           0.18727640924644018,
           0.18545724476618586,
           0.18239124981424537,
           0.17802983029511174,
           0.17230988766358785,
           0.16515865057394133,
           0.15649972810645998,
           0.14626024334832619,
           0.13437885433763305,
           0.12081441070397907,
           0.10555493165712146,
           0.08862652853638416,
           0.07010183827093616,
           0.05010748884225075,
           0.02883009042098063,
           0.0065202421682302655,
           -0.016505930263581485,
           -0.039868134180728126,
           -0.0631265026963309,
           -0.0857896329957062,
           -0.10732612754693129,
           -0.1271795169340972,
           -0.14478624788034108,
           -0.15959621882048483,
           -0.17109514979541934,
           -0.1788278960809016,
           -0.18242166855756492,
           -0.18160802037610754,
           -0.17624240938958516,
           -0.16632015713858264,
           -0.15198770280837584,
           -0.13354819579908725,
           -0.1114606806231028,
           -0.08633239590937543,
           -0.05890402451081101,
           -0.03002807965783915,
           -0.0006409754282528475,
           0.028270310898122826,
           0.05570574218106777
          ],
          [
           0.0993958462307399,
           0.07773008237271903,
           0.05298490441364873,
           0.026026147564044762,
           -0.0022274559793407315,
           -0.030841885736018544,
           -0.05890402451081101,
           -0.08555491563889543,
           -0.11001880232017779,
           -0.1316269478872783,
           -0.14983554931501694,
           -0.1642373823959323,
           -0.17456713788189782,
           -0.1807007071005138,
           -0.18264893898060253,
           -0.18054660691367944,
           -0.17463748569481502,
           -0.16525654180237792,
           -0.1528102839666787,
           -0.1377563081818195,
           -0.12058300781296416,
           -0.10179031338845618,
           -0.08187218787401292,
           -0.061301442485772274,
           -0.040517266401149735,
           -0.019915691575644292,
           0.0001569493213448689,
           0.019407660252202565,
           0.03759772656874239,
           0.054541276561040686,
           0.07010183827093616,
           0.08418731130237875,
           0.09674378883254962,
           0.10774865812501504,
           0.11720338291232232,
           0.12512633286074154,
           0.13154597877649798,
           0.13649472168344115,
           0.14000357308347133,
           0.14209785531573388,
           0.14279404657238684,
           0.14209785531573388,
           0.14000357308347133,
           0.13649472168344115,
           0.13154597877649798,
           0.12512633286074154,
           0.11720338291232232,
           0.10774865812501504,
           0.09674378883254962,
           0.08418731130237875,
           0.07010183827093616,
           0.054541276561040686,
           0.03759772656874239,
           0.019407660252202565,
           0.0001569493213448689,
           -0.019915691575644292,
           -0.040517266401149735,
           -0.061301442485772274,
           -0.08187218787401292,
           -0.10179031338845618,
           -0.12058300781296416,
           -0.1377563081818195,
           -0.1528102839666787,
           -0.16525654180237792,
           -0.17463748569481502,
           -0.18054660691367944,
           -0.18264893898060253,
           -0.1807007071005138,
           -0.17456713788189782,
           -0.1642373823959323,
           -0.14983554931501694,
           -0.1316269478872783,
           -0.11001880232017779,
           -0.08555491563889543,
           -0.05890402451081101,
           -0.030841885736018544,
           -0.0022274559793407315,
           0.026026147564044762,
           0.05298490441364873,
           0.07773008237271903
          ],
          [
           0.11526115097856117,
           0.09738828403656238,
           0.0759235678781371,
           0.05161237775613617,
           0.025275083284098894,
           -0.0022274559793407315,
           -0.03002807965783915,
           -0.0572857273340844,
           -0.08321475815193494,
           -0.10711012813756442,
           -0.1283676319466868,
           -0.1464987033293174,
           -0.16113955966514656,
           -0.17205475511311313,
           -0.17913546063850083,
           -0.18239300622958532,
           -0.18194839266053625,
           -0.17801860199902664,
           -0.17090060569317098,
           -0.1609539875623888,
           -0.14858307017251748,
           -0.13421936300715656,
           -0.11830504740258321,
           -0.10127808535368477,
           -0.08355939645450051,
           -0.06554239869174844,
           -0.04758506314163741,
           -0.030004497243790427,
           -0.013073952151520388,
           0.0029779491154211806,
           0.017966041941118966,
           0.031745840459068614,
           0.044209509361482956,
           0.05528095770522729,
           0.0649104168254659,
           0.07306884206017318,
           0.07974244535617742,
           0.08492762656935865,
           0.08862652853638416,
           0.09084339726921295,
           0.09158188560927924,
           0.09084339726921295,
           0.08862652853638416,
           0.08492762656935865,
           0.07974244535617742,
           0.07306884206017318,
           0.0649104168254659,
           0.05528095770522729,
           0.044209509361482956,
           0.031745840459068614,
           0.017966041941118966,
           0.0029779491154211806,
           -0.013073952151520388,
           -0.030004497243790427,
           -0.04758506314163741,
           -0.06554239869174844,
           -0.08355939645450051,
           -0.10127808535368477,
           -0.11830504740258321,
           -0.13421936300715656,
           -0.14858307017251748,
           -0.1609539875623888,
           -0.17090060569317098,
           -0.17801860199902664,
           -0.18194839266053625,
           -0.18239300622958532,
           -0.17913546063850083,
           -0.17205475511311313,
           -0.16113955966514656,
           -0.1464987033293174,
           -0.1283676319466868,
           -0.10711012813756442,
           -0.08321475815193494,
           -0.0572857273340844,
           -0.03002807965783915,
           -0.0022274559793407315,
           0.025275083284098894,
           0.05161237775613617,
           0.0759235678781371,
           0.09738828403656238
          ],
          [
           0.12777380562398274,
           0.11405907878471819,
           0.09636827159298987,
           0.07531659368730659,
           0.05161237775613617,
           0.026026147564044762,
           -0.0006409754282528475,
           -0.027588123185645037,
           -0.054043516875550875,
           -0.07929019757294747,
           -0.10268778525178764,
           -0.12368964794720452,
           -0.14185512230149663,
           -0.15685668268767797,
           -0.16848219583369567,
           -0.17663261032673944,
           -0.18131560690315682,
           -0.1826358700412797,
           -0.18078273088932142,
           -0.1760159755489718,
           -0.16865061331126227,
           -0.15904136091487175,
           -0.14756752732225356,
           -0.13461888616197776,
           -0.12058300781296416,
           -0.10583439818051152,
           -0.0907256642328181,
           -0.07558080422426758,
           -0.060690608986011814,
           -0.046310064114579955,
           -0.032657564269347995,
           -0.019915691575644292,
           -0.00823327044894154,
           0.0022716100207446164,
           0.011507919583092052,
           0.019407660252202565,
           0.025921773001301992,
           0.031016232090896562,
           0.03466854669458865,
           0.03686485131708162,
           0.03759772656874239,
           0.03686485131708162,
           0.03466854669458865,
           0.031016232090896562,
           0.025921773001301992,
           0.019407660252202565,
           0.011507919583092052,
           0.0022716100207446164,
           -0.00823327044894154,
           -0.019915691575644292,
           -0.032657564269347995,
           -0.046310064114579955,
           -0.060690608986011814,
           -0.07558080422426758,
           -0.0907256642328181,
           -0.10583439818051152,
           -0.12058300781296416,
           -0.13461888616197776,
           -0.14756752732225356,
           -0.15904136091487175,
           -0.16865061331126227,
           -0.1760159755489718,
           -0.18078273088932142,
           -0.1826358700412797,
           -0.18131560690315682,
           -0.17663261032673944,
           -0.16848219583369567,
           -0.15685668268767797,
           -0.14185512230149663,
           -0.12368964794720452,
           -0.10268778525178764,
           -0.07929019757294747,
           -0.054043516875550875,
           -0.027588123185645037,
           -0.0006409754282528475,
           0.026026147564044762,
           0.05161237775613617,
           0.07531659368730659,
           0.09636827159298987,
           0.11405907878471819
          ],
          [
           0.13650222610828716,
           0.12719030582037316,
           0.1136526088802527,
           0.09636827159298987,
           0.0759235678781371,
           0.05298490441364873,
           0.028270310898122826,
           0.0025207381574719806,
           -0.023527608249201665,
           -0.04916880920228074,
           -0.07374973820785838,
           -0.09668883252747353,
           -0.11749065565570795,
           -0.13575600794040762,
           -0.1511875643863488,
           -0.163591222139663,
           -0.17287351607260817,
           -0.17903560277058095,
           -0.1821644169794075,
           -0.18242166855756492,
           -0.1800313728705813,
           -0.1752665961050691,
           -0.16843605361995675,
           -0.15987112992755653,
           -0.1499137997580331,
           -0.13890582780165694,
           -0.1271795169340972,
           -0.11505016730310495,
           -0.10281030706494565,
           -0.0907256642328181,
           -0.07903277128303789,
           -0.06793803188546253,
           -0.05761803324395176,
           -0.04822085787410071,
           -0.039868134180728126,
           -0.032657564269347995,
           -0.026665677985416577,
           -0.021950582012676394,
           -0.01855449981019833,
           -0.016505930263581485,
           -0.015821288518275644,
           -0.016505930263581485,
           -0.01855449981019833,
           -0.021950582012676394,
           -0.026665677985416577,
           -0.032657564269347995,
           -0.039868134180728126,
           -0.04822085787410071,
           -0.05761803324395176,
           -0.06793803188546253,
           -0.07903277128303789,
           -0.0907256642328181,
           -0.10281030706494565,
           -0.11505016730310495,
           -0.1271795169340972,
           -0.13890582780165694,
           -0.1499137997580331,
           -0.15987112992755653,
           -0.16843605361995675,
           -0.1752665961050691,
           -0.1800313728705813,
           -0.18242166855756492,
           -0.1821644169794075,
           -0.17903560277058095,
           -0.17287351607260817,
           -0.163591222139663,
           -0.1511875643863488,
           -0.13575600794040762,
           -0.11749065565570795,
           -0.09668883252747353,
           -0.07374973820785838,
           -0.04916880920228074,
           -0.023527608249201665,
           0.0025207381574719806,
           0.028270310898122826,
           0.05298490441364873,
           0.0759235678781371,
           0.09636827159298987,
           0.1136526088802527,
           0.12719030582037316
          ],
          [
           0.14111903500315878,
           0.13632396086944565,
           0.12719030582037316,
           0.11405907878471819,
           0.09738828403656238,
           0.07773008237271903,
           0.05570574218106777,
           0.03197958453286062,
           0.007233082355737275,
           -0.017859822184363938,
           -0.042655257000177006,
           -0.06655906279410359,
           -0.08904297911487404,
           -0.10965701691843574,
           -0.12803786284735597,
           -0.14391335124448024,
           -0.15710321083861073,
           -0.16751643729146143,
           -0.1751457556394694,
           -0.1800597155006458,
           -0.18239300622958532,
           -0.18233559039097344,
           -0.18012123502583363,
           -0.1760159755489718,
           -0.17030698199702413,
           -0.16329221750830802,
           -0.15527119023634722,
           -0.14653700801271363,
           -0.13736985507049018,
           -0.12803192632998142,
           -0.11876378051842666,
           -0.10978201113265723,
           -0.10127808535368477,
           -0.09341816596346665,
           -0.08634370978474622,
           -0.08017262722723162,
           -0.0750007897964791,
           -0.07090368426500879,
           -0.06793803188546253,
           -0.06614321685638791,
           -0.06554239869174844,
           -0.06614321685638791,
           -0.06793803188546253,
           -0.07090368426500879,
           -0.0750007897964791,
           -0.08017262722723162,
           -0.08634370978474622,
           -0.09341816596346665,
           -0.10127808535368477,
           -0.10978201113265723,
           -0.11876378051842666,
           -0.12803192632998142,
           -0.13736985507049018,
           -0.14653700801271363,
           -0.15527119023634722,
           -0.16329221750830802,
           -0.17030698199702413,
           -0.1760159755489718,
           -0.18012123502583363,
           -0.18233559039097344,
           -0.18239300622958532,
           -0.1800597155006458,
           -0.1751457556394694,
           -0.16751643729146143,
           -0.15710321083861073,
           -0.14391335124448024,
           -0.12803786284735597,
           -0.10965701691843574,
           -0.08904297911487404,
           -0.06655906279410359,
           -0.042655257000177006,
           -0.017859822184363938,
           0.007233082355737275,
           0.03197958453286062,
           0.05570574218106777,
           0.07773008237271903,
           0.09738828403656238,
           0.11405907878471819,
           0.12719030582037316,
           0.13632396086944565
          ]
         ]
        }
       ],
       "layout": {
        "legend": {
         "bgcolor": "#F5F6F9",
         "font": {
          "color": "#4D5663"
         }
        },
        "paper_bgcolor": "#F5F6F9",
        "plot_bgcolor": "#F5F6F9",
        "template": {
         "data": {
          "bar": [
           {
            "error_x": {
             "color": "#2a3f5f"
            },
            "error_y": {
             "color": "#2a3f5f"
            },
            "marker": {
             "line": {
              "color": "#E5ECF6",
              "width": 0.5
             },
             "pattern": {
              "fillmode": "overlay",
              "size": 10,
              "solidity": 0.2
             }
            },
            "type": "bar"
           }
          ],
          "barpolar": [
           {
            "marker": {
             "line": {
              "color": "#E5ECF6",
              "width": 0.5
             },
             "pattern": {
              "fillmode": "overlay",
              "size": 10,
              "solidity": 0.2
             }
            },
            "type": "barpolar"
           }
          ],
          "carpet": [
           {
            "aaxis": {
             "endlinecolor": "#2a3f5f",
             "gridcolor": "white",
             "linecolor": "white",
             "minorgridcolor": "white",
             "startlinecolor": "#2a3f5f"
            },
            "baxis": {
             "endlinecolor": "#2a3f5f",
             "gridcolor": "white",
             "linecolor": "white",
             "minorgridcolor": "white",
             "startlinecolor": "#2a3f5f"
            },
            "type": "carpet"
           }
          ],
          "choropleth": [
           {
            "colorbar": {
             "outlinewidth": 0,
             "ticks": ""
            },
            "type": "choropleth"
           }
          ],
          "contour": [
           {
            "colorbar": {
             "outlinewidth": 0,
             "ticks": ""
            },
            "colorscale": [
             [
              0,
              "#0d0887"
             ],
             [
              0.1111111111111111,
              "#46039f"
             ],
             [
              0.2222222222222222,
              "#7201a8"
             ],
             [
              0.3333333333333333,
              "#9c179e"
             ],
             [
              0.4444444444444444,
              "#bd3786"
             ],
             [
              0.5555555555555556,
              "#d8576b"
             ],
             [
              0.6666666666666666,
              "#ed7953"
             ],
             [
              0.7777777777777778,
              "#fb9f3a"
             ],
             [
              0.8888888888888888,
              "#fdca26"
             ],
             [
              1,
              "#f0f921"
             ]
            ],
            "type": "contour"
           }
          ],
          "contourcarpet": [
           {
            "colorbar": {
             "outlinewidth": 0,
             "ticks": ""
            },
            "type": "contourcarpet"
           }
          ],
          "heatmap": [
           {
            "colorbar": {
             "outlinewidth": 0,
             "ticks": ""
            },
            "colorscale": [
             [
              0,
              "#0d0887"
             ],
             [
              0.1111111111111111,
              "#46039f"
             ],
             [
              0.2222222222222222,
              "#7201a8"
             ],
             [
              0.3333333333333333,
              "#9c179e"
             ],
             [
              0.4444444444444444,
              "#bd3786"
             ],
             [
              0.5555555555555556,
              "#d8576b"
             ],
             [
              0.6666666666666666,
              "#ed7953"
             ],
             [
              0.7777777777777778,
              "#fb9f3a"
             ],
             [
              0.8888888888888888,
              "#fdca26"
             ],
             [
              1,
              "#f0f921"
             ]
            ],
            "type": "heatmap"
           }
          ],
          "heatmapgl": [
           {
            "colorbar": {
             "outlinewidth": 0,
             "ticks": ""
            },
            "colorscale": [
             [
              0,
              "#0d0887"
             ],
             [
              0.1111111111111111,
              "#46039f"
             ],
             [
              0.2222222222222222,
              "#7201a8"
             ],
             [
              0.3333333333333333,
              "#9c179e"
             ],
             [
              0.4444444444444444,
              "#bd3786"
             ],
             [
              0.5555555555555556,
              "#d8576b"
             ],
             [
              0.6666666666666666,
              "#ed7953"
             ],
             [
              0.7777777777777778,
              "#fb9f3a"
             ],
             [
              0.8888888888888888,
              "#fdca26"
             ],
             [
              1,
              "#f0f921"
             ]
            ],
            "type": "heatmapgl"
           }
          ],
          "histogram": [
           {
            "marker": {
             "pattern": {
              "fillmode": "overlay",
              "size": 10,
              "solidity": 0.2
             }
            },
            "type": "histogram"
           }
          ],
          "histogram2d": [
           {
            "colorbar": {
             "outlinewidth": 0,
             "ticks": ""
            },
            "colorscale": [
             [
              0,
              "#0d0887"
             ],
             [
              0.1111111111111111,
              "#46039f"
             ],
             [
              0.2222222222222222,
              "#7201a8"
             ],
             [
              0.3333333333333333,
              "#9c179e"
             ],
             [
              0.4444444444444444,
              "#bd3786"
             ],
             [
              0.5555555555555556,
              "#d8576b"
             ],
             [
              0.6666666666666666,
              "#ed7953"
             ],
             [
              0.7777777777777778,
              "#fb9f3a"
             ],
             [
              0.8888888888888888,
              "#fdca26"
             ],
             [
              1,
              "#f0f921"
             ]
            ],
            "type": "histogram2d"
           }
          ],
          "histogram2dcontour": [
           {
            "colorbar": {
             "outlinewidth": 0,
             "ticks": ""
            },
            "colorscale": [
             [
              0,
              "#0d0887"
             ],
             [
              0.1111111111111111,
              "#46039f"
             ],
             [
              0.2222222222222222,
              "#7201a8"
             ],
             [
              0.3333333333333333,
              "#9c179e"
             ],
             [
              0.4444444444444444,
              "#bd3786"
             ],
             [
              0.5555555555555556,
              "#d8576b"
             ],
             [
              0.6666666666666666,
              "#ed7953"
             ],
             [
              0.7777777777777778,
              "#fb9f3a"
             ],
             [
              0.8888888888888888,
              "#fdca26"
             ],
             [
              1,
              "#f0f921"
             ]
            ],
            "type": "histogram2dcontour"
           }
          ],
          "mesh3d": [
           {
            "colorbar": {
             "outlinewidth": 0,
             "ticks": ""
            },
            "type": "mesh3d"
           }
          ],
          "parcoords": [
           {
            "line": {
             "colorbar": {
              "outlinewidth": 0,
              "ticks": ""
             }
            },
            "type": "parcoords"
           }
          ],
          "pie": [
           {
            "automargin": true,
            "type": "pie"
           }
          ],
          "scatter": [
           {
            "fillpattern": {
             "fillmode": "overlay",
             "size": 10,
             "solidity": 0.2
            },
            "type": "scatter"
           }
          ],
          "scatter3d": [
           {
            "line": {
             "colorbar": {
              "outlinewidth": 0,
              "ticks": ""
             }
            },
            "marker": {
             "colorbar": {
              "outlinewidth": 0,
              "ticks": ""
             }
            },
            "type": "scatter3d"
           }
          ],
          "scattercarpet": [
           {
            "marker": {
             "colorbar": {
              "outlinewidth": 0,
              "ticks": ""
             }
            },
            "type": "scattercarpet"
           }
          ],
          "scattergeo": [
           {
            "marker": {
             "colorbar": {
              "outlinewidth": 0,
              "ticks": ""
             }
            },
            "type": "scattergeo"
           }
          ],
          "scattergl": [
           {
            "marker": {
             "colorbar": {
              "outlinewidth": 0,
              "ticks": ""
             }
            },
            "type": "scattergl"
           }
          ],
          "scattermapbox": [
           {
            "marker": {
             "colorbar": {
              "outlinewidth": 0,
              "ticks": ""
             }
            },
            "type": "scattermapbox"
           }
          ],
          "scatterpolar": [
           {
            "marker": {
             "colorbar": {
              "outlinewidth": 0,
              "ticks": ""
             }
            },
            "type": "scatterpolar"
           }
          ],
          "scatterpolargl": [
           {
            "marker": {
             "colorbar": {
              "outlinewidth": 0,
              "ticks": ""
             }
            },
            "type": "scatterpolargl"
           }
          ],
          "scatterternary": [
           {
            "marker": {
             "colorbar": {
              "outlinewidth": 0,
              "ticks": ""
             }
            },
            "type": "scatterternary"
           }
          ],
          "surface": [
           {
            "colorbar": {
             "outlinewidth": 0,
             "ticks": ""
            },
            "colorscale": [
             [
              0,
              "#0d0887"
             ],
             [
              0.1111111111111111,
              "#46039f"
             ],
             [
              0.2222222222222222,
              "#7201a8"
             ],
             [
              0.3333333333333333,
              "#9c179e"
             ],
             [
              0.4444444444444444,
              "#bd3786"
             ],
             [
              0.5555555555555556,
              "#d8576b"
             ],
             [
              0.6666666666666666,
              "#ed7953"
             ],
             [
              0.7777777777777778,
              "#fb9f3a"
             ],
             [
              0.8888888888888888,
              "#fdca26"
             ],
             [
              1,
              "#f0f921"
             ]
            ],
            "type": "surface"
           }
          ],
          "table": [
           {
            "cells": {
             "fill": {
              "color": "#EBF0F8"
             },
             "line": {
              "color": "white"
             }
            },
            "header": {
             "fill": {
              "color": "#C8D4E3"
             },
             "line": {
              "color": "white"
             }
            },
            "type": "table"
           }
          ]
         },
         "layout": {
          "annotationdefaults": {
           "arrowcolor": "#2a3f5f",
           "arrowhead": 0,
           "arrowwidth": 1
          },
          "autotypenumbers": "strict",
          "coloraxis": {
           "colorbar": {
            "outlinewidth": 0,
            "ticks": ""
           }
          },
          "colorscale": {
           "diverging": [
            [
             0,
             "#8e0152"
            ],
            [
             0.1,
             "#c51b7d"
            ],
            [
             0.2,
             "#de77ae"
            ],
            [
             0.3,
             "#f1b6da"
            ],
            [
             0.4,
             "#fde0ef"
            ],
            [
             0.5,
             "#f7f7f7"
            ],
            [
             0.6,
             "#e6f5d0"
            ],
            [
             0.7,
             "#b8e186"
            ],
            [
             0.8,
             "#7fbc41"
            ],
            [
             0.9,
             "#4d9221"
            ],
            [
             1,
             "#276419"
            ]
           ],
           "sequential": [
            [
             0,
             "#0d0887"
            ],
            [
             0.1111111111111111,
             "#46039f"
            ],
            [
             0.2222222222222222,
             "#7201a8"
            ],
            [
             0.3333333333333333,
             "#9c179e"
            ],
            [
             0.4444444444444444,
             "#bd3786"
            ],
            [
             0.5555555555555556,
             "#d8576b"
            ],
            [
             0.6666666666666666,
             "#ed7953"
            ],
            [
             0.7777777777777778,
             "#fb9f3a"
            ],
            [
             0.8888888888888888,
             "#fdca26"
            ],
            [
             1,
             "#f0f921"
            ]
           ],
           "sequentialminus": [
            [
             0,
             "#0d0887"
            ],
            [
             0.1111111111111111,
             "#46039f"
            ],
            [
             0.2222222222222222,
             "#7201a8"
            ],
            [
             0.3333333333333333,
             "#9c179e"
            ],
            [
             0.4444444444444444,
             "#bd3786"
            ],
            [
             0.5555555555555556,
             "#d8576b"
            ],
            [
             0.6666666666666666,
             "#ed7953"
            ],
            [
             0.7777777777777778,
             "#fb9f3a"
            ],
            [
             0.8888888888888888,
             "#fdca26"
            ],
            [
             1,
             "#f0f921"
            ]
           ]
          },
          "colorway": [
           "#636efa",
           "#EF553B",
           "#00cc96",
           "#ab63fa",
           "#FFA15A",
           "#19d3f3",
           "#FF6692",
           "#B6E880",
           "#FF97FF",
           "#FECB52"
          ],
          "font": {
           "color": "#2a3f5f"
          },
          "geo": {
           "bgcolor": "white",
           "lakecolor": "white",
           "landcolor": "#E5ECF6",
           "showlakes": true,
           "showland": true,
           "subunitcolor": "white"
          },
          "hoverlabel": {
           "align": "left"
          },
          "hovermode": "closest",
          "mapbox": {
           "style": "light"
          },
          "paper_bgcolor": "white",
          "plot_bgcolor": "#E5ECF6",
          "polar": {
           "angularaxis": {
            "gridcolor": "white",
            "linecolor": "white",
            "ticks": ""
           },
           "bgcolor": "#E5ECF6",
           "radialaxis": {
            "gridcolor": "white",
            "linecolor": "white",
            "ticks": ""
           }
          },
          "scene": {
           "xaxis": {
            "backgroundcolor": "#E5ECF6",
            "gridcolor": "white",
            "gridwidth": 2,
            "linecolor": "white",
            "showbackground": true,
            "ticks": "",
            "zerolinecolor": "white"
           },
           "yaxis": {
            "backgroundcolor": "#E5ECF6",
            "gridcolor": "white",
            "gridwidth": 2,
            "linecolor": "white",
            "showbackground": true,
            "ticks": "",
            "zerolinecolor": "white"
           },
           "zaxis": {
            "backgroundcolor": "#E5ECF6",
            "gridcolor": "white",
            "gridwidth": 2,
            "linecolor": "white",
            "showbackground": true,
            "ticks": "",
            "zerolinecolor": "white"
           }
          },
          "shapedefaults": {
           "line": {
            "color": "#2a3f5f"
           }
          },
          "ternary": {
           "aaxis": {
            "gridcolor": "white",
            "linecolor": "white",
            "ticks": ""
           },
           "baxis": {
            "gridcolor": "white",
            "linecolor": "white",
            "ticks": ""
           },
           "bgcolor": "#E5ECF6",
           "caxis": {
            "gridcolor": "white",
            "linecolor": "white",
            "ticks": ""
           }
          },
          "title": {
           "x": 0.05
          },
          "xaxis": {
           "automargin": true,
           "gridcolor": "white",
           "linecolor": "white",
           "ticks": "",
           "title": {
            "standoff": 15
           },
           "zerolinecolor": "white",
           "zerolinewidth": 2
          },
          "yaxis": {
           "automargin": true,
           "gridcolor": "white",
           "linecolor": "white",
           "ticks": "",
           "title": {
            "standoff": 15
           },
           "zerolinecolor": "white",
           "zerolinewidth": 2
          }
         }
        },
        "title": {
         "font": {
          "color": "#4D5663"
         }
        },
        "xaxis": {
         "gridcolor": "#E1E5ED",
         "showgrid": true,
         "tickfont": {
          "color": "#4D5663"
         },
         "title": {
          "font": {
           "color": "#4D5663"
          },
          "text": ""
         },
         "zerolinecolor": "#E1E5ED"
        },
        "yaxis": {
         "gridcolor": "#E1E5ED",
         "showgrid": true,
         "tickfont": {
          "color": "#4D5663"
         },
         "title": {
          "font": {
           "color": "#4D5663"
          },
          "text": ""
         },
         "zerolinecolor": "#E1E5ED"
        }
       }
      },
      "text/html": [
       "<div>                            <div id=\"08bb9193-3f0e-45ed-bfff-7dc1b916138c\" class=\"plotly-graph-div\" style=\"height:525px; width:100%;\"></div>            <script type=\"text/javascript\">                require([\"plotly\"], function(Plotly) {                    window.PLOTLYENV=window.PLOTLYENV || {};\n",
       "                    window.PLOTLYENV.BASE_URL='https://plot.ly';                                    if (document.getElementById(\"08bb9193-3f0e-45ed-bfff-7dc1b916138c\")) {                    Plotly.newPlot(                        \"08bb9193-3f0e-45ed-bfff-7dc1b916138c\",                        [{\"colorscale\":[[0.0,\"rgb(255, 153, 51)\"],[0.1111111111111111,\"rgb(55, 128, 191)\"],[0.2222222222222222,\"rgb(50, 171, 96)\"],[0.3333333333333333,\"rgb(128, 0, 128)\"],[0.4444444444444444,\"rgb(219, 64, 82)\"],[0.5555555555555556,\"rgb(0, 128, 128)\"],[0.6666666666666666,\"rgb(255, 255, 51)\"],[0.7777777777777778,\"rgb(128, 128, 0)\"],[0.8888888888888888,\"rgb(251, 128, 114)\"],[1.0,\"rgb(128, 177, 211)\"]],\"x\":[-10.0,-9.75,-9.5,-9.25,-9.0,-8.75,-8.5,-8.25,-8.0,-7.75,-7.5,-7.25,-7.0,-6.75,-6.5,-6.25,-6.0,-5.75,-5.5,-5.25,-5.0,-4.75,-4.5,-4.25,-4.0,-3.75,-3.5,-3.25,-3.0,-2.75,-2.5,-2.25,-2.0,-1.75,-1.5,-1.25,-1.0,-0.75,-0.5,-0.25,0.0,0.25,0.5,0.75,1.0,1.25,1.5,1.75,2.0,2.25,2.5,2.75,3.0,3.25,3.5,3.75,4.0,4.25,4.5,4.75,5.0,5.25,5.5,5.75,6.0,6.25,6.5,6.75,7.0,7.25,7.5,7.75,8.0,8.25,8.5,8.75,9.0,9.25,9.5,9.75],\"y\":[-10.0,-9.75,-9.5,-9.25,-9.0,-8.75,-8.5,-8.25,-8.0,-7.75,-7.5,-7.25,-7.0,-6.75,-6.5,-6.25,-6.0,-5.75,-5.5,-5.25,-5.0,-4.75,-4.5,-4.25,-4.0,-3.75,-3.5,-3.25,-3.0,-2.75,-2.5,-2.25,-2.0,-1.75,-1.5,-1.25,-1.0,-0.75,-0.5,-0.25,0.0,0.25,0.5,0.75,1.0,1.25,1.5,1.75,2.0,2.25,2.5,2.75,3.0,3.25,3.5,3.75,4.0,4.25,4.5,4.75,5.0,5.25,5.5,5.75,6.0,6.25,6.5,6.75,7.0,7.25,7.5,7.75,8.0,8.25,8.5,8.75,9.0,9.25,9.5,9.75],\"z\":[[0.14141961054935853,0.14111903500315878,0.13650222610828716,0.12777380562398274,0.11526115097856117,0.0993958462307399,0.08069235790121831,0.059725017515438364,0.037104384846577534,0.013454008098850966,-0.01061150357619211,-0.0345063152690242,-0.05769048962428924,-0.07968395387291566,-0.10007704610444179,-0.11853755153953284,-0.13481430178982187,-0.1487375524385824,-0.16021647158282734,-0.16923416092386775,-0.17584069010379264,-0.1801446545297837,-0.18230376872794093,-0.18251498442862385,-0.18100457917857166,-0.17801860199902664,-0.1738139924448547,-0.16865061331126227,-0.16278435980926842,-0.15646143337355978,-0.1499137997580331,-0.14335579129849668,-0.13698176393514344,-0.13096468174943518,-0.1254554756233313,-0.12058300781296416,-0.1164544699167505,-0.1131560467581887,-0.1107536917561867,-0.10929387900894774,-0.10880422217787396,-0.10929387900894774,-0.1107536917561867,-0.1131560467581887,-0.1164544699167505,-0.12058300781296416,-0.1254554756233313,-0.13096468174943518,-0.13698176393514344,-0.14335579129849668,-0.1499137997580331,-0.15646143337355978,-0.16278435980926842,-0.16865061331126227,-0.1738139924448547,-0.17801860199902664,-0.18100457917857166,-0.18251498442862385,-0.18230376872794093,-0.1801446545297837,-0.17584069010379264,-0.16923416092386775,-0.16021647158282734,-0.1487375524385824,-0.13481430178982187,-0.11853755153953284,-0.10007704610444179,-0.07968395387291566,-0.05769048962428924,-0.0345063152690242,-0.01061150357619211,0.013454008098850966,0.037104384846577534,0.059725017515438364,0.08069235790121831,0.0993958462307399,0.11526115097856117,0.12777380562398274,0.13650222610828716,0.14111903500315878],[0.14111903500315878,0.13632396086944565,0.12719030582037316,0.11405907878471819,0.09738828403656238,0.07773008237271903,0.05570574218106777,0.03197958453286062,0.007233082355737275,-0.017859822184363938,-0.042655257000177006,-0.06655906279410359,-0.08904297911487404,-0.10965701691843574,-0.12803786284735597,-0.14391335124448024,-0.15710321083861073,-0.16751643729146143,-0.1751457556394694,-0.1800597155006458,-0.18239300622958532,-0.18233559039097344,-0.18012123502583363,-0.1760159755489718,-0.17030698199702413,-0.16329221750830802,-0.15527119023634722,-0.14653700801271363,-0.13736985507049018,-0.12803192632998142,-0.11876378051842666,-0.10978201113265723,-0.10127808535368477,-0.09341816596346665,-0.08634370978474622,-0.08017262722723162,-0.0750007897964791,-0.07090368426500879,-0.06793803188546253,-0.06614321685638791,-0.06554239869174844,-0.06614321685638791,-0.06793803188546253,-0.07090368426500879,-0.0750007897964791,-0.08017262722723162,-0.08634370978474622,-0.09341816596346665,-0.10127808535368477,-0.10978201113265723,-0.11876378051842666,-0.12803192632998142,-0.13736985507049018,-0.14653700801271363,-0.15527119023634722,-0.16329221750830802,-0.17030698199702413,-0.1760159755489718,-0.18012123502583363,-0.18233559039097344,-0.18239300622958532,-0.1800597155006458,-0.1751457556394694,-0.16751643729146143,-0.15710321083861073,-0.14391335124448024,-0.12803786284735597,-0.10965701691843574,-0.08904297911487404,-0.06655906279410359,-0.042655257000177006,-0.017859822184363938,0.007233082355737275,0.03197958453286062,0.05570574218106777,0.07773008237271903,0.09738828403656238,0.11405907878471819,0.12719030582037316,0.13632396086944565],[0.13650222610828716,0.12719030582037316,0.1136526088802527,0.09636827159298987,0.0759235678781371,0.05298490441364873,0.028270310898122826,0.0025207381574719806,-0.023527608249201665,-0.04916880920228074,-0.07374973820785838,-0.09668883252747353,-0.11749065565570795,-0.13575600794040762,-0.1511875643863488,-0.163591222139663,-0.17287351607260817,-0.17903560277058095,-0.1821644169794075,-0.18242166855756492,-0.1800313728705813,-0.1752665961050691,-0.16843605361995675,-0.15987112992755653,-0.1499137997580331,-0.13890582780165694,-0.1271795169340972,-0.11505016730310495,-0.10281030706494565,-0.0907256642328181,-0.07903277128303789,-0.06793803188546253,-0.05761803324395176,-0.04822085787410071,-0.039868134180728126,-0.032657564269347995,-0.026665677985416577,-0.021950582012676394,-0.01855449981019833,-0.016505930263581485,-0.015821288518275644,-0.016505930263581485,-0.01855449981019833,-0.021950582012676394,-0.026665677985416577,-0.032657564269347995,-0.039868134180728126,-0.04822085787410071,-0.05761803324395176,-0.06793803188546253,-0.07903277128303789,-0.0907256642328181,-0.10281030706494565,-0.11505016730310495,-0.1271795169340972,-0.13890582780165694,-0.1499137997580331,-0.15987112992755653,-0.16843605361995675,-0.1752665961050691,-0.1800313728705813,-0.18242166855756492,-0.1821644169794075,-0.17903560277058095,-0.17287351607260817,-0.163591222139663,-0.1511875643863488,-0.13575600794040762,-0.11749065565570795,-0.09668883252747353,-0.07374973820785838,-0.04916880920228074,-0.023527608249201665,0.0025207381574719806,0.028270310898122826,0.05298490441364873,0.0759235678781371,0.09636827159298987,0.1136526088802527,0.12719030582037316],[0.12777380562398274,0.11405907878471819,0.09636827159298987,0.07531659368730659,0.05161237775613617,0.026026147564044762,-0.0006409754282528475,-0.027588123185645037,-0.054043516875550875,-0.07929019757294747,-0.10268778525178764,-0.12368964794720452,-0.14185512230149663,-0.15685668268767797,-0.16848219583369567,-0.17663261032673944,-0.18131560690315682,-0.1826358700412797,-0.18078273088932142,-0.1760159755489718,-0.16865061331126227,-0.15904136091487175,-0.14756752732225356,-0.13461888616197776,-0.12058300781296416,-0.10583439818051152,-0.0907256642328181,-0.07558080422426758,-0.060690608986011814,-0.046310064114579955,-0.032657564269347995,-0.019915691575644292,-0.00823327044894154,0.0022716100207446164,0.011507919583092052,0.019407660252202565,0.025921773001301992,0.031016232090896562,0.03466854669458865,0.03686485131708162,0.03759772656874239,0.03686485131708162,0.03466854669458865,0.031016232090896562,0.025921773001301992,0.019407660252202565,0.011507919583092052,0.0022716100207446164,-0.00823327044894154,-0.019915691575644292,-0.032657564269347995,-0.046310064114579955,-0.060690608986011814,-0.07558080422426758,-0.0907256642328181,-0.10583439818051152,-0.12058300781296416,-0.13461888616197776,-0.14756752732225356,-0.15904136091487175,-0.16865061331126227,-0.1760159755489718,-0.18078273088932142,-0.1826358700412797,-0.18131560690315682,-0.17663261032673944,-0.16848219583369567,-0.15685668268767797,-0.14185512230149663,-0.12368964794720452,-0.10268778525178764,-0.07929019757294747,-0.054043516875550875,-0.027588123185645037,-0.0006409754282528475,0.026026147564044762,0.05161237775613617,0.07531659368730659,0.09636827159298987,0.11405907878471819],[0.11526115097856117,0.09738828403656238,0.0759235678781371,0.05161237775613617,0.025275083284098894,-0.0022274559793407315,-0.03002807965783915,-0.0572857273340844,-0.08321475815193494,-0.10711012813756442,-0.1283676319466868,-0.1464987033293174,-0.16113955966514656,-0.17205475511311313,-0.17913546063850083,-0.18239300622958532,-0.18194839266053625,-0.17801860199902664,-0.17090060569317098,-0.1609539875623888,-0.14858307017251748,-0.13421936300715656,-0.11830504740258321,-0.10127808535368477,-0.08355939645450051,-0.06554239869174844,-0.04758506314163741,-0.030004497243790427,-0.013073952151520388,0.0029779491154211806,0.017966041941118966,0.031745840459068614,0.044209509361482956,0.05528095770522729,0.0649104168254659,0.07306884206017318,0.07974244535617742,0.08492762656935865,0.08862652853638416,0.09084339726921295,0.09158188560927924,0.09084339726921295,0.08862652853638416,0.08492762656935865,0.07974244535617742,0.07306884206017318,0.0649104168254659,0.05528095770522729,0.044209509361482956,0.031745840459068614,0.017966041941118966,0.0029779491154211806,-0.013073952151520388,-0.030004497243790427,-0.04758506314163741,-0.06554239869174844,-0.08355939645450051,-0.10127808535368477,-0.11830504740258321,-0.13421936300715656,-0.14858307017251748,-0.1609539875623888,-0.17090060569317098,-0.17801860199902664,-0.18194839266053625,-0.18239300622958532,-0.17913546063850083,-0.17205475511311313,-0.16113955966514656,-0.1464987033293174,-0.1283676319466868,-0.10711012813756442,-0.08321475815193494,-0.0572857273340844,-0.03002807965783915,-0.0022274559793407315,0.025275083284098894,0.05161237775613617,0.0759235678781371,0.09738828403656238],[0.0993958462307399,0.07773008237271903,0.05298490441364873,0.026026147564044762,-0.0022274559793407315,-0.030841885736018544,-0.05890402451081101,-0.08555491563889543,-0.11001880232017779,-0.1316269478872783,-0.14983554931501694,-0.1642373823959323,-0.17456713788189782,-0.1807007071005138,-0.18264893898060253,-0.18054660691367944,-0.17463748569481502,-0.16525654180237792,-0.1528102839666787,-0.1377563081818195,-0.12058300781296416,-0.10179031338845618,-0.08187218787401292,-0.061301442485772274,-0.040517266401149735,-0.019915691575644292,0.0001569493213448689,0.019407660252202565,0.03759772656874239,0.054541276561040686,0.07010183827093616,0.08418731130237875,0.09674378883254962,0.10774865812501504,0.11720338291232232,0.12512633286074154,0.13154597877649798,0.13649472168344115,0.14000357308347133,0.14209785531573388,0.14279404657238684,0.14209785531573388,0.14000357308347133,0.13649472168344115,0.13154597877649798,0.12512633286074154,0.11720338291232232,0.10774865812501504,0.09674378883254962,0.08418731130237875,0.07010183827093616,0.054541276561040686,0.03759772656874239,0.019407660252202565,0.0001569493213448689,-0.019915691575644292,-0.040517266401149735,-0.061301442485772274,-0.08187218787401292,-0.10179031338845618,-0.12058300781296416,-0.1377563081818195,-0.1528102839666787,-0.16525654180237792,-0.17463748569481502,-0.18054660691367944,-0.18264893898060253,-0.1807007071005138,-0.17456713788189782,-0.1642373823959323,-0.14983554931501694,-0.1316269478872783,-0.11001880232017779,-0.08555491563889543,-0.05890402451081101,-0.030841885736018544,-0.0022274559793407315,0.026026147564044762,0.05298490441364873,0.07773008237271903],[0.08069235790121831,0.05570574218106777,0.028270310898122826,-0.0006409754282528475,-0.03002807965783915,-0.05890402451081101,-0.08633239590937543,-0.1114606806231028,-0.13354819579908725,-0.15198770280837584,-0.16632015713858264,-0.17624240938958516,-0.18160802037610754,-0.18242166855756492,-0.1788278960809016,-0.17109514979541934,-0.15959621882048483,-0.14478624788034108,-0.1271795169340972,-0.10732612754693129,-0.0857896329957062,-0.0631265026963309,-0.039868134180728126,-0.016505930263581485,0.0065202421682302655,0.02883009042098063,0.05010748884225075,0.07010183827093616,0.08862652853638416,0.10555493165712146,0.12081441070397907,0.13437885433763305,0.14626024334832619,0.15649972810645998,0.16515865057394133,0.17230988766358785,0.17802983029511174,0.18239124981424537,0.18545724476618586,0.18727640924644018,0.18787932061729182,0.18727640924644018,0.18545724476618586,0.18239124981424537,0.17802983029511174,0.17230988766358785,0.16515865057394133,0.15649972810645998,0.14626024334832619,0.13437885433763305,0.12081441070397907,0.10555493165712146,0.08862652853638416,0.07010183827093616,0.05010748884225075,0.02883009042098063,0.0065202421682302655,-0.016505930263581485,-0.039868134180728126,-0.0631265026963309,-0.0857896329957062,-0.10732612754693129,-0.1271795169340972,-0.14478624788034108,-0.15959621882048483,-0.17109514979541934,-0.1788278960809016,-0.18242166855756492,-0.18160802037610754,-0.17624240938958516,-0.16632015713858264,-0.15198770280837584,-0.13354819579908725,-0.1114606806231028,-0.08633239590937543,-0.05890402451081101,-0.03002807965783915,-0.0006409754282528475,0.028270310898122826,0.05570574218106777],[0.059725017515438364,0.03197958453286062,0.0025207381574719806,-0.027588123185645037,-0.0572857273340844,-0.08555491563889543,-0.1114606806231028,-0.13418273806183595,-0.15304146672549196,-0.16751643729146143,-0.17725715646546372,-0.18208605074549258,-0.18199408570471504,-0.17712974307464055,-0.16778234479339135,-0.1543609103022869,-0.13736985507049018,-0.11738288358628372,-0.0950164022704569,-0.07090368426500879,-0.045670869380806056,-0.019915691575644292,0.0058103924762656495,0.031016232090896562,0.05528095770522729,0.07825990831739421,0.09968670899986165,0.11937185506223688,0.13719827990417027,0.15311446345017118,0.16712567793535366,0.1792839709402817,0.18967745729212915,0.19841943861188654,0.20563779959612533,0.21146505144444128,0.21602931256266372,0.21944644111666822,0.22181346801290225,0.2232034254780841,0.22366162672468853,0.2232034254780841,0.22181346801290225,0.21944644111666822,0.21602931256266372,0.21146505144444128,0.20563779959612533,0.19841943861188654,0.18967745729212915,0.1792839709402817,0.16712567793535366,0.15311446345017118,0.13719827990417027,0.11937185506223688,0.09968670899986165,0.07825990831739421,0.05528095770522729,0.031016232090896562,0.0058103924762656495,-0.019915691575644292,-0.045670869380806056,-0.07090368426500879,-0.0950164022704569,-0.11738288358628372,-0.13736985507049018,-0.1543609103022869,-0.16778234479339135,-0.17712974307464055,-0.18199408570471504,-0.18208605074549258,-0.17725715646546372,-0.16751643729146143,-0.15304146672549196,-0.13418273806183595,-0.1114606806231028,-0.08555491563889543,-0.0572857273340844,-0.027588123185645037,0.0025207381574719806,0.03197958453286062],[0.037104384846577534,0.007233082355737275,-0.023527608249201665,-0.054043516875550875,-0.08321475815193494,-0.11001880232017779,-0.13354819579908725,-0.15304146672549196,-0.167906160972842,-0.17773339606034183,-0.18230376872794093,-0.18158488243001691,-0.17572115154133375,-0.16501687105976595,-0.1499137997580331,-0.13096468174943518,-0.10880422217787396,-0.08411903827788304,-0.05761803324395176,-0.030004497243790427,-0.001951040868825416,0.025921773001301992,0.05306249567952219,0.07900122348247962,0.10335731863015635,0.1258425822940911,0.14626024334832619,0.16450028494360933,0.18053174205108255,0.1943926655354523,0.2061784643801796,0.21602931256266372,0.22411724822563847,0.23063350923189954,0.23577655069724138,0.23974108638511749,0.242708395806646,0.24483804991090946,0.24626113579560338,0.24707500803079696,0.24733956165584545,0.24707500803079696,0.24626113579560338,0.24483804991090946,0.242708395806646,0.23974108638511749,0.23577655069724138,0.23063350923189954,0.22411724822563847,0.21602931256266372,0.2061784643801796,0.1943926655354523,0.18053174205108255,0.16450028494360933,0.14626024334832619,0.1258425822940911,0.10335731863015635,0.07900122348247962,0.05306249567952219,0.025921773001301992,-0.001951040868825416,-0.030004497243790427,-0.05761803324395176,-0.08411903827788304,-0.10880422217787396,-0.13096468174943518,-0.1499137997580331,-0.16501687105976595,-0.17572115154133375,-0.18158488243001691,-0.18230376872794093,-0.17773339606034183,-0.167906160972842,-0.15304146672549196,-0.13354819579908725,-0.11001880232017779,-0.08321475815193494,-0.054043516875550875,-0.023527608249201665,0.007233082355737275],[0.013454008098850966,-0.017859822184363938,-0.04916880920228074,-0.07929019757294747,-0.10711012813756442,-0.1316269478872783,-0.15198770280837584,-0.16751643729146143,-0.17773339606034183,-0.18236471957976835,-0.18134271385500067,-0.1747972342928682,-0.16303912773542587,-0.14653700801271363,-0.1258888846262905,-0.10179031338845618,-0.0750007897964791,-0.046310064114579955,-0.016505930263581485,0.013655158230898757,0.043473546354522816,0.07232710218505171,0.09968670899986165,0.12512633286074154,0.14832776112580212,0.16908036038891633,0.18727640924644018,0.20290271423033404,0.21602931256266372,0.22679610352037188,0.23539823538075702,0.2420710146043941,0.24707500803079696,0.2506818889186662,0.2531614457800734,0.25477004091850136,0.2557406839380664,0.2562747828163765,0.25653555744366946,0.2566430509401283,0.2566706526738519,0.2566430509401283,0.25653555744366946,0.2562747828163765,0.2557406839380664,0.25477004091850136,0.2531614457800734,0.2506818889186662,0.24707500803079696,0.2420710146043941,0.23539823538075702,0.22679610352037188,0.21602931256266372,0.20290271423033404,0.18727640924644018,0.16908036038891633,0.14832776112580212,0.12512633286074154,0.09968670899986165,0.07232710218505171,0.043473546354522816,0.013655158230898757,-0.016505930263581485,-0.046310064114579955,-0.0750007897964791,-0.10179031338845618,-0.1258888846262905,-0.14653700801271363,-0.16303912773542587,-0.1747972342928682,-0.18134271385500067,-0.18236471957976835,-0.17773339606034183,-0.16751643729146143,-0.15198770280837584,-0.1316269478872783,-0.10711012813756442,-0.07929019757294747,-0.04916880920228074,-0.017859822184363938],[-0.01061150357619211,-0.042655257000177006,-0.07374973820785838,-0.10268778525178764,-0.1283676319466868,-0.14983554931501694,-0.16632015713858264,-0.17725715646546372,-0.18230376872794093,-0.18134271385500067,-0.17447608825271163,-0.16200998595397612,-0.14443111863131364,-0.12237701362727325,-0.09660159075517502,-0.06793803188546253,-0.03726086233570953,-0.005449066140771361,0.026648129724923395,0.058241427706856384,0.08862652853638416,0.11720338291232232,0.14348926836260514,0.16712567793535366,0.18787932061729182,0.20563779959612533,0.22040074178662336,0.23226729318028777,0.24142096714711753,0.24811283911536614,0.25264402764959015,0.255348298963932,0.256575492104657,0.2566762997375786,0.2559887694405144,0.2548267267047997,0.25347017586536014,0.252157618714697,0.25108014921898075,0.25037713957121355,0.25013332713993036,0.25037713957121355,0.25108014921898075,0.252157618714697,0.25347017586536014,0.2548267267047997,0.2559887694405144,0.2566762997375786,0.256575492104657,0.255348298963932,0.25264402764959015,0.24811283911536614,0.24142096714711753,0.23226729318028777,0.22040074178662336,0.20563779959612533,0.18787932061729182,0.16712567793535366,0.14348926836260514,0.11720338291232232,0.08862652853638416,0.058241427706856384,0.026648129724923395,-0.005449066140771361,-0.03726086233570953,-0.06793803188546253,-0.09660159075517502,-0.12237701362727325,-0.14443111863131364,-0.16200998595397612,-0.17447608825271163,-0.18134271385500067,-0.18230376872794093,-0.17725715646546372,-0.16632015713858264,-0.14983554931501694,-0.1283676319466868,-0.10268778525178764,-0.07374973820785838,-0.042655257000177006],[-0.0345063152690242,-0.06655906279410359,-0.09668883252747353,-0.12368964794720452,-0.1464987033293174,-0.1642373823959323,-0.17624240938958516,-0.18208605074549258,-0.18158488243001691,-0.1747972342928682,-0.16200998595397612,-0.1437158894806465,-0.12058300781296416,-0.09341816596346665,-0.0631265026963309,-0.03066927919323432,0.0029779491154211806,0.03686485131708162,0.07010183827093616,0.1018902143955224,0.13154597877649798,0.15851669454452746,0.18239124981424537,0.20290271423033404,0.21992483146863692,0.23346296309158113,0.24364050109720906,0.2506818889186662,0.254893432701845,0.2566430509401283,0.2563400102730029,0.25441554164532254,0.25130504004127213,0.24743234013685533,0.2431963471432226,0.23896010343988033,0.23504220166614895,0.2317103248693539,0.22917661128094333,0.22759450814784551,0.2270567942100705,0.22759450814784551,0.22917661128094333,0.2317103248693539,0.23504220166614895,0.23896010343988033,0.2431963471432226,0.24743234013685533,0.25130504004127213,0.25441554164532254,0.2563400102730029,0.2566430509401283,0.254893432701845,0.2506818889186662,0.24364050109720906,0.23346296309158113,0.21992483146863692,0.20290271423033404,0.18239124981424537,0.15851669454452746,0.13154597877649798,0.1018902143955224,0.07010183827093616,0.03686485131708162,0.0029779491154211806,-0.03066927919323432,-0.0631265026963309,-0.09341816596346665,-0.12058300781296416,-0.1437158894806465,-0.16200998595397612,-0.1747972342928682,-0.18158488243001691,-0.18208605074549258,-0.17624240938958516,-0.1642373823959323,-0.1464987033293174,-0.12368964794720452,-0.09668883252747353,-0.06655906279410359],[-0.05769048962428924,-0.08904297911487404,-0.11749065565570795,-0.14185512230149663,-0.16113955966514656,-0.17456713788189782,-0.18160802037610754,-0.18199408570471504,-0.17572115154133375,-0.16303912773542587,-0.14443111863131364,-0.12058300781296416,-0.09234546620178369,-0.060690608986011814,-0.026665677985416577,0.008653858363151095,0.044209509361482956,0.07900122348247962,0.11212338767979044,0.14279404657238684,0.17037647050011584,0.1943926655354523,0.2145288714461612,0.23063350923189954,0.242708395806646,0.2508943222213973,0.2554522819126627,0.2567417315441088,0.25519727019112654,0.25130504004127213,0.2455799958764798,0.23854497801642713,0.23071227369415245,0.2225680860000738,0.21456006847846779,0.2070878465419809,0.20049625055173417,0.19507084218595108,0.19103523332295086,0.18854967763954522,0.18771045677679687,0.18854967763954522,0.19103523332295086,0.19507084218595108,0.20049625055173417,0.2070878465419809,0.21456006847846779,0.2225680860000738,0.23071227369415245,0.23854497801642713,0.2455799958764798,0.25130504004127213,0.25519727019112654,0.2567417315441088,0.2554522819126627,0.2508943222213973,0.242708395806646,0.23063350923189954,0.2145288714461612,0.1943926655354523,0.17037647050011584,0.14279404657238684,0.11212338767979044,0.07900122348247962,0.044209509361482956,0.008653858363151095,-0.026665677985416577,-0.060690608986011814,-0.09234546620178369,-0.12058300781296416,-0.14443111863131364,-0.16303912773542587,-0.17572115154133375,-0.18199408570471504,-0.18160802037610754,-0.17456713788189782,-0.16113955966514656,-0.14185512230149663,-0.11749065565570795,-0.08904297911487404],[-0.07968395387291566,-0.10965701691843574,-0.13575600794040762,-0.15685668268767797,-0.17205475511311313,-0.1807007071005138,-0.18242166855756492,-0.17712974307464055,-0.16501687105976595,-0.14653700801271363,-0.12237701362727325,-0.09341816596346665,-0.060690608986011814,-0.02532329427921568,0.011507919583092052,0.04863139306208121,0.08492762656935865,0.11937185506223688,0.15106960365711752,0.1792839709402817,0.20345392533496165,0.2232034254780841,0.2383416766936446,0.24885528388828942,0.254893432701845,0.25674750760048576,0.2548267267047997,0.24963143467045815,0.24172565029557566,0.2317103248693539,0.22019854657881394,0.20779364608280457,0.19507084218595108,0.18256273925541686,0.17074867404778504,0.16004763127913005,0.15081422331281308,0.1433370736825879,0.13783886506830845,0.134477311926808,0.1333463922312941,0.134477311926808,0.13783886506830845,0.1433370736825879,0.15081422331281308,0.16004763127913005,0.17074867404778504,0.18256273925541686,0.19507084218595108,0.20779364608280457,0.22019854657881394,0.2317103248693539,0.24172565029557566,0.24963143467045815,0.2548267267047997,0.25674750760048576,0.254893432701845,0.24885528388828942,0.2383416766936446,0.2232034254780841,0.20345392533496165,0.1792839709402817,0.15106960365711752,0.11937185506223688,0.08492762656935865,0.04863139306208121,0.011507919583092052,-0.02532329427921568,-0.060690608986011814,-0.09341816596346665,-0.12237701362727325,-0.14653700801271363,-0.16501687105976595,-0.17712974307464055,-0.18242166855756492,-0.1807007071005138,-0.17205475511311313,-0.15685668268767797,-0.13575600794040762,-0.10965701691843574],[-0.10007704610444179,-0.12803786284735597,-0.1511875643863488,-0.16848219583369567,-0.17913546063850083,-0.18264893898060253,-0.1788278960809016,-0.16778234479339135,-0.1499137997580331,-0.1258888846262905,-0.09660159075517502,-0.0631265026963309,-0.026665677985416577,0.011507919583092052,0.05010748884225075,0.0878871354792479,0.12369173187889267,0.15649972810645998,0.18545724476618586,0.20990234059772522,0.22937894091767205,0.24364050109720906,0.25264402764959015,0.25653555744366946,0.25562857790064414,0.25037713957121355,0.2413455569066888,0.22917661128094333,0.21456006847846779,0.1982031145119569,0.18080401871815463,0.1630299764243758,0.14549969299473817,0.12877087581897034,0.11333242903336226,0.09960082298540655,0.08791985781076668,0.07856287339249271,0.07173638515428266,0.06758414818694233,0.0661907655654817,0.06758414818694233,0.07173638515428266,0.07856287339249271,0.08791985781076668,0.09960082298540655,0.11333242903336226,0.12877087581897034,0.14549969299473817,0.1630299764243758,0.18080401871815463,0.1982031145119569,0.21456006847846779,0.22917661128094333,0.2413455569066888,0.25037713957121355,0.25562857790064414,0.25653555744366946,0.25264402764959015,0.24364050109720906,0.22937894091767205,0.20990234059772522,0.18545724476618586,0.15649972810645998,0.12369173187889267,0.0878871354792479,0.05010748884225075,0.011507919583092052,-0.026665677985416577,-0.0631265026963309,-0.09660159075517502,-0.1258888846262905,-0.1499137997580331,-0.16778234479339135,-0.1788278960809016,-0.18264893898060253,-0.17913546063850083,-0.16848219583369567,-0.1511875643863488,-0.12803786284735597],[-0.11853755153953284,-0.14391335124448024,-0.163591222139663,-0.17663261032673944,-0.18239300622958532,-0.18054660691367944,-0.17109514979541934,-0.1543609103022869,-0.13096468174943518,-0.10179031338845618,-0.06793803188546253,-0.03066927919323432,0.008653858363151095,0.04863139306208121,0.0878871354792479,0.12512633286074154,0.15918658398472915,0.1890798565922851,0.21402402107025095,0.23346296309158113,0.24707500803079696,0.25477004091850136,0.2566762997375786,0.25311832399967577,0.24458792842044305,0.2317103248693539,0.2152076253393881,0.19586192453391038,0.17447999195279823,0.15186131748507978,0.12877087581897034,0.10591753298818528,0.08393854575868848,0.06339013493636744,0.044743679368913644,0.02838670735216783,0.014627580006334946,0.0037025838949493145,-0.004215913110515241,-0.009011537058698997,-0.010617349295218181,-0.009011537058698997,-0.004215913110515241,0.0037025838949493145,0.014627580006334946,0.02838670735216783,0.044743679368913644,0.06339013493636744,0.08393854575868848,0.10591753298818528,0.12877087581897034,0.15186131748507978,0.17447999195279823,0.19586192453391038,0.2152076253393881,0.2317103248693539,0.24458792842044305,0.25311832399967577,0.2566762997375786,0.25477004091850136,0.24707500803079696,0.23346296309158113,0.21402402107025095,0.1890798565922851,0.15918658398472915,0.12512633286074154,0.0878871354792479,0.04863139306208121,0.008653858363151095,-0.03066927919323432,-0.06793803188546253,-0.10179031338845618,-0.13096468174943518,-0.1543609103022869,-0.17109514979541934,-0.18054660691367944,-0.18239300622958532,-0.17663261032673944,-0.163591222139663,-0.14391335124448024],[-0.13481430178982187,-0.15710321083861073,-0.17287351607260817,-0.18131560690315682,-0.18194839266053625,-0.17463748569481502,-0.15959621882048483,-0.13736985507049018,-0.10880422217787396,-0.0750007897964791,-0.03726086233570953,0.0029779491154211806,0.044209509361482956,0.08492762656935865,0.12369173187889267,0.15918658398472915,0.1902732638436695,0.21602931256266372,0.23577655069724138,0.24909585663212155,0.25582893038458626,0.2560677827399544,0.25013332713993036,0.23854497801642713,0.22198354690007724,0.20124995852555586,0.17722237538812438,0.15081422331281308,0.12293536517635703,0.09445829662141196,0.0661907655654817,0.03885568116655977,0.013078615468659323,-0.010617349295218181,-0.03181017613329085,-0.050171999808914604,-0.06545830501430487,-0.07749482277960204,-0.08616386191642225,-0.09139170665445415,-0.09313849939964196,-0.09139170665445415,-0.08616386191642225,-0.07749482277960204,-0.06545830501430487,-0.050171999808914604,-0.03181017613329085,-0.010617349295218181,0.013078615468659323,0.03885568116655977,0.0661907655654817,0.09445829662141196,0.12293536517635703,0.15081422331281308,0.17722237538812438,0.20124995852555586,0.22198354690007724,0.23854497801642713,0.25013332713993036,0.2560677827399544,0.25582893038458626,0.24909585663212155,0.23577655069724138,0.21602931256266372,0.1902732638436695,0.15918658398472915,0.12369173187889267,0.08492762656935865,0.044209509361482956,0.0029779491154211806,-0.03726086233570953,-0.0750007897964791,-0.10880422217787396,-0.13736985507049018,-0.15959621882048483,-0.17463748569481502,-0.18194839266053625,-0.18131560690315682,-0.17287351607260817,-0.15710321083861073],[-0.1487375524385824,-0.16751643729146143,-0.17903560277058095,-0.1826358700412797,-0.17801860199902664,-0.16525654180237792,-0.14478624788034108,-0.11738288358628372,-0.08411903827788304,-0.046310064114579955,-0.005449066140771361,0.03686485131708162,0.07900122348247962,0.11937185506223688,0.15649972810645998,0.1890798565922851,0.21602931256266372,0.2365243422174828,0.25002327766855664,0.2562747828163765,0.2553118000893658,0.24743234013685533,0.23316893482082693,0.21324911772700825,0.18854967763954522,0.16004763127913005,0.12877087581897034,0.0957513146109,0.06198291759831892,0.02838670735216783,-0.004215913110515241,-0.03512071345143313,-0.06374895250625122,-0.08964697741323371,-0.11247819731414006,-0.132008995765264,-0.14809048863531396,-0.16063822727306362,-0.1696119802323752,-0.17499760171649797,-0.17679272260843765,-0.17499760171649797,-0.1696119802323752,-0.16063822727306362,-0.14809048863531396,-0.132008995765264,-0.11247819731414006,-0.08964697741323371,-0.06374895250625122,-0.03512071345143313,-0.004215913110515241,0.02838670735216783,0.06198291759831892,0.0957513146109,0.12877087581897034,0.16004763127913005,0.18854967763954522,0.21324911772700825,0.23316893482082693,0.24743234013685533,0.2553118000893658,0.2562747828163765,0.25002327766855664,0.2365243422174828,0.21602931256266372,0.1890798565922851,0.15649972810645998,0.11937185506223688,0.07900122348247962,0.03686485131708162,-0.005449066140771361,-0.046310064114579955,-0.08411903827788304,-0.11738288358628372,-0.14478624788034108,-0.16525654180237792,-0.17801860199902664,-0.1826358700412797,-0.17903560277058095,-0.16751643729146143],[-0.16021647158282734,-0.1751457556394694,-0.1821644169794075,-0.18078273088932142,-0.17090060569317098,-0.1528102839666787,-0.1271795169340972,-0.0950164022704569,-0.05761803324395176,-0.016505930263581485,0.026648129724923395,0.07010183827093616,0.11212338767979044,0.15106960365711752,0.18545724476618586,0.21402402107025095,0.23577655069724138,0.25002327766855664,0.25639126767027576,0.2548267267047997,0.2455799958764798,0.22917661128094333,0.2063767337439853,0.17812580971586786,0.14549969299473817,0.1096476200446325,0.07173638515428266,0.032898814044057145,-0.005810793613848673,-0.043452159632214875,-0.0792240541655952,-0.11247819731414006,-0.1427221428215067,-0.1696119802323752,-0.1929363397545002,-0.2125937105436689,-0.22856545626592412,-0.24088710992360066,-0.24962054293732017,-0.254829433326894,-0.2565601183892334,-0.254829433326894,-0.24962054293732017,-0.24088710992360066,-0.22856545626592412,-0.2125937105436689,-0.1929363397545002,-0.1696119802323752,-0.1427221428215067,-0.11247819731414006,-0.0792240541655952,-0.043452159632214875,-0.005810793613848673,0.032898814044057145,0.07173638515428266,0.1096476200446325,0.14549969299473817,0.17812580971586786,0.2063767337439853,0.22917661128094333,0.2455799958764798,0.2548267267047997,0.25639126767027576,0.25002327766855664,0.23577655069724138,0.21402402107025095,0.18545724476618586,0.15106960365711752,0.11212338767979044,0.07010183827093616,0.026648129724923395,-0.016505930263581485,-0.05761803324395176,-0.0950164022704569,-0.1271795169340972,-0.1528102839666787,-0.17090060569317098,-0.18078273088932142,-0.1821644169794075,-0.1751457556394694],[-0.16923416092386775,-0.1800597155006458,-0.18242166855756492,-0.1760159755489718,-0.1609539875623888,-0.1377563081818195,-0.10732612754693129,-0.07090368426500879,-0.030004497243790427,0.013655158230898757,0.058241427706856384,0.1018902143955224,0.14279404657238684,0.1792839709402817,0.20990234059772522,0.23346296309158113,0.24909585663212155,0.2562747828163765,0.2548267267047997,0.24492352037505036,0.2270567942100705,0.20199833430642128,0.17074867404778504,0.134477311926808,0.09445829662141196,0.05200503792795912,0.00840808631479302,-0.03512071345143313,-0.07749482277960204,-0.1177881852505473,-0.15525760655490364,-0.18935183535374994,-0.21970771693043264,-0.24613461781837798,-0.268589046149572,-0.28714197491104243,-0.30194177876754097,-0.31317589634427284,-0.3210343185560354,-0.32567778292945404,-0.32721314035298743,-0.32567778292945404,-0.3210343185560354,-0.31317589634427284,-0.30194177876754097,-0.28714197491104243,-0.268589046149572,-0.24613461781837798,-0.21970771693043264,-0.18935183535374994,-0.15525760655490364,-0.1177881852505473,-0.07749482277960204,-0.03512071345143313,0.00840808631479302,0.05200503792795912,0.09445829662141196,0.134477311926808,0.17074867404778504,0.20199833430642128,0.2270567942100705,0.24492352037505036,0.2548267267047997,0.2562747828163765,0.24909585663212155,0.23346296309158113,0.20990234059772522,0.1792839709402817,0.14279404657238684,0.1018902143955224,0.058241427706856384,0.013655158230898757,-0.030004497243790427,-0.07090368426500879,-0.10732612754693129,-0.1377563081818195,-0.1609539875623888,-0.1760159755489718,-0.18242166855756492,-0.1800597155006458],[-0.17584069010379264,-0.18239300622958532,-0.1800313728705813,-0.16865061331126227,-0.14858307017251748,-0.12058300781296416,-0.0857896329957062,-0.045670869380806056,-0.001951040868825416,0.043473546354522816,0.08862652853638416,0.13154597877649798,0.17037647050011584,0.20345392533496165,0.22937894091767205,0.24707500803079696,0.25582893038458626,0.2553118000893658,0.2455799958764798,0.2270567942100705,0.20049625055173417,0.16693195814109418,0.12761407121954643,0.08393854575868848,0.037372873633869375,-0.010617349295218181,-0.05863687417657578,-0.10542055787501849,-0.14988136590815446,-0.19114437378651342,-0.22856545626592412,-0.2617343483375656,-0.29046275344788247,-0.31475910259630246,-0.33479237619194996,-0.35084804028714445,-0.3632795822101567,-0.37245933283868765,-0.3787322233669178,-0.382375848005458,-0.3835697098652554,-0.382375848005458,-0.3787322233669178,-0.37245933283868765,-0.3632795822101567,-0.35084804028714445,-0.33479237619194996,-0.31475910259630246,-0.29046275344788247,-0.2617343483375656,-0.22856545626592412,-0.19114437378651342,-0.14988136590815446,-0.10542055787501849,-0.05863687417657578,-0.010617349295218181,0.037372873633869375,0.08393854575868848,0.12761407121954643,0.16693195814109418,0.20049625055173417,0.2270567942100705,0.2455799958764798,0.2553118000893658,0.25582893038458626,0.24707500803079696,0.22937894091767205,0.20345392533496165,0.17037647050011584,0.13154597877649798,0.08862652853638416,0.043473546354522816,-0.001951040868825416,-0.045670869380806056,-0.0857896329957062,-0.12058300781296416,-0.14858307017251748,-0.16865061331126227,-0.1800313728705813,-0.18239300622958532],[-0.1801446545297837,-0.18233559039097344,-0.1752665961050691,-0.15904136091487175,-0.13421936300715656,-0.10179031338845618,-0.0631265026963309,-0.019915691575644292,0.025921773001301992,0.07232710218505171,0.11720338291232232,0.15851669454452746,0.1943926655354523,0.2232034254780841,0.24364050109720906,0.25477004091850136,0.2560677827399544,0.24743234013685533,0.22917661128094333,0.20199833430642128,0.16693195814109418,0.12528500092613942,0.07856287339249271,0.02838670735216783,-0.02359098016854476,-0.0757679524450742,-0.12666669235949252,-0.17499760171649797,-0.21970771693043264,-0.26001264723920775,-0.29541051237375787,-0.32567778292945404,-0.35084804028714445,-0.37117570680030565,-0.38708768931988075,-0.3991265770886398,-0.407889497747319,-0.41396693622794944,-0.417885750201407,-0.4200602785751461,-0.4207548585159486,-0.4200602785751461,-0.417885750201407,-0.41396693622794944,-0.407889497747319,-0.3991265770886398,-0.38708768931988075,-0.37117570680030565,-0.35084804028714445,-0.32567778292945404,-0.29541051237375787,-0.26001264723920775,-0.21970771693043264,-0.17499760171649797,-0.12666669235949252,-0.0757679524450742,-0.02359098016854476,0.02838670735216783,0.07856287339249271,0.12528500092613942,0.16693195814109418,0.20199833430642128,0.22917661128094333,0.24743234013685533,0.2560677827399544,0.25477004091850136,0.24364050109720906,0.2232034254780841,0.1943926655354523,0.15851669454452746,0.11720338291232232,0.07232710218505171,0.025921773001301992,-0.019915691575644292,-0.0631265026963309,-0.10179031338845618,-0.13421936300715656,-0.15904136091487175,-0.1752665961050691,-0.18233559039097344],[-0.18230376872794093,-0.18012123502583363,-0.16843605361995675,-0.14756752732225356,-0.11830504740258321,-0.08187218787401292,-0.039868134180728126,0.0058103924762656495,0.05306249567952219,0.09968670899986165,0.14348926836260514,0.18239124981424537,0.2145288714461612,0.2383416766936446,0.25264402764959015,0.2566762997375786,0.25013332713993036,0.23316893482082693,0.2063767337439853,0.17074867404778504,0.12761407121954643,0.07856287339249271,0.02535776443828009,-0.030159748399708135,-0.08616386191642225,-0.1409342819269669,-0.1929363397545002,-0.24088710992360066,-0.2838041182964338,-0.3210343185560354,-0.35226222727992795,-0.37749737145928347,-0.3970424421347404,-0.41144469052055266,-0.42143408131469146,-0.42785247459104203,-0.43157859884674826,-0.4334537754581445,-0.434213248547002,-0.43442757176285574,-0.43445783007337646,-0.43442757176285574,-0.434213248547002,-0.4334537754581445,-0.43157859884674826,-0.42785247459104203,-0.42143408131469146,-0.41144469052055266,-0.3970424421347404,-0.37749737145928347,-0.35226222727992795,-0.3210343185560354,-0.2838041182964338,-0.24088710992360066,-0.1929363397545002,-0.1409342819269669,-0.08616386191642225,-0.030159748399708135,0.02535776443828009,0.07856287339249271,0.12761407121954643,0.17074867404778504,0.2063767337439853,0.23316893482082693,0.25013332713993036,0.2566762997375786,0.25264402764959015,0.2383416766936446,0.2145288714461612,0.18239124981424537,0.14348926836260514,0.09968670899986165,0.05306249567952219,0.0058103924762656495,-0.039868134180728126,-0.08187218787401292,-0.11830504740258321,-0.14756752732225356,-0.16843605361995675,-0.18012123502583363],[-0.18251498442862385,-0.1760159755489718,-0.15987112992755653,-0.13461888616197776,-0.10127808535368477,-0.061301442485772274,-0.016505930263581485,0.031016232090896562,0.07900122348247962,0.12512633286074154,0.16712567793535366,0.20290271423033404,0.23063350923189954,0.24885528388828942,0.25653555744366946,0.25311832399967577,0.23854497801642713,0.21324911772700825,0.17812580971586786,0.134477311926808,0.08393854575868848,0.02838670735216783,-0.030159748399708135,-0.08964697741323371,-0.14809048863531396,-0.2036729142303004,-0.254829433326894,-0.3003162506586467,-0.3392585664190622,-0.37117570680030565,-0.39598244357893553,-0.41396693622794944,-0.42574709936268906,-0.43220845214435083,-0.43442757176285574,-0.4335860886421158,-0.4308806796227811,-0.4274347075936389,-0.42421701152445723,-0.42197287899622543,-0.421171462695804,-0.42197287899622543,-0.42421701152445723,-0.4274347075936389,-0.4308806796227811,-0.4335860886421158,-0.43442757176285574,-0.43220845214435083,-0.42574709936268906,-0.41396693622794944,-0.39598244357893553,-0.37117570680030565,-0.3392585664190622,-0.3003162506586467,-0.254829433326894,-0.2036729142303004,-0.14809048863531396,-0.08964697741323371,-0.030159748399708135,0.02838670735216783,0.08393854575868848,0.134477311926808,0.17812580971586786,0.21324911772700825,0.23854497801642713,0.25311832399967577,0.25653555744366946,0.24885528388828942,0.23063350923189954,0.20290271423033404,0.16712567793535366,0.12512633286074154,0.07900122348247962,0.031016232090896562,-0.016505930263581485,-0.061301442485772274,-0.10127808535368477,-0.13461888616197776,-0.15987112992755653,-0.1760159755489718],[-0.18100457917857166,-0.17030698199702413,-0.1499137997580331,-0.12058300781296416,-0.08355939645450051,-0.040517266401149735,0.0065202421682302655,0.05528095770522729,0.10335731863015635,0.14832776112580212,0.18787932061729182,0.21992483146863692,0.242708395806646,0.254893432701845,0.25562857790064414,0.24458792842044305,0.22198354690007724,0.18854967763954522,0.14549969299473817,0.09445829662141196,0.037372873633869375,-0.02359098016854476,-0.08616386191642225,-0.14809048863531396,-0.20724458052139974,-0.2617343483375656,-0.309992807249447,-0.35084804028714445,-0.3835697098652554,-0.407889497747319,-0.42399466300627076,-0.43249545715781157,-0.43436863670247905,-0.4308806796227811,-0.42349546556438716,-0.4137720534188708,-0.40325873487122593,-0.39338972722403176,-0.3853906832849483,-0.3801986514917913,-0.3784012476539641,-0.3801986514917913,-0.3853906832849483,-0.39338972722403176,-0.40325873487122593,-0.4137720534188708,-0.42349546556438716,-0.4308806796227811,-0.43436863670247905,-0.43249545715781157,-0.42399466300627076,-0.407889497747319,-0.3835697098652554,-0.35084804028714445,-0.309992807249447,-0.2617343483375656,-0.20724458052139974,-0.14809048863531396,-0.08616386191642225,-0.02359098016854476,0.037372873633869375,0.09445829662141196,0.14549969299473817,0.18854967763954522,0.22198354690007724,0.24458792842044305,0.25562857790064414,0.254893432701845,0.242708395806646,0.21992483146863692,0.18787932061729182,0.14832776112580212,0.10335731863015635,0.05528095770522729,0.0065202421682302655,-0.040517266401149735,-0.08355939645450051,-0.12058300781296416,-0.1499137997580331,-0.17030698199702413],[-0.17801860199902664,-0.16329221750830802,-0.13890582780165694,-0.10583439818051152,-0.06554239869174844,-0.019915691575644292,0.02883009042098063,0.07825990831739421,0.1258425822940911,0.16908036038891633,0.20563779959612533,0.23346296309158113,0.2508943222213973,0.25674750760048576,0.25037713957121355,0.2317103248693539,0.20124995852555586,0.16004763127913005,0.1096476200446325,0.05200503792795912,-0.010617349295218181,-0.0757679524450742,-0.1409342819269669,-0.2036729142303004,-0.2617343483375656,-0.31317589634427284,-0.3564564355250057,-0.3905078789395116,-0.4147795406040892,-0.42925310491460716,-0.43442757176285574,-0.4312752446188071,-0.421171462695804,-0.40580225753498556,-0.38705535500366767,-0.36690087535799776,-0.3472686537517362,-0.32992927901128904,-0.3163857196862348,-0.3077817863653888,-0.30483270332925,-0.3077817863653888,-0.3163857196862348,-0.32992927901128904,-0.3472686537517362,-0.36690087535799776,-0.38705535500366767,-0.40580225753498556,-0.421171462695804,-0.4312752446188071,-0.43442757176285574,-0.42925310491460716,-0.4147795406040892,-0.3905078789395116,-0.3564564355250057,-0.31317589634427284,-0.2617343483375656,-0.2036729142303004,-0.1409342819269669,-0.0757679524450742,-0.010617349295218181,0.05200503792795912,0.1096476200446325,0.16004763127913005,0.20124995852555586,0.2317103248693539,0.25037713957121355,0.25674750760048576,0.2508943222213973,0.23346296309158113,0.20563779959612533,0.16908036038891633,0.1258425822940911,0.07825990831739421,0.02883009042098063,-0.019915691575644292,-0.06554239869174844,-0.10583439818051152,-0.13890582780165694,-0.16329221750830802],[-0.1738139924448547,-0.15527119023634722,-0.1271795169340972,-0.0907256642328181,-0.04758506314163741,0.0001569493213448689,0.05010748884225075,0.09968670899986165,0.14626024334832619,0.18727640924644018,0.22040074178662336,0.24364050109720906,0.2554522819126627,0.2548267267047997,0.2413455569066888,0.2152076253393881,0.17722237538812438,0.12877087581897034,0.07173638515428266,0.00840808631479302,-0.05863687417657578,-0.12666669235949252,-0.1929363397545002,-0.254829433326894,-0.309992807249447,-0.3564564355250057,-0.39273214882544505,-0.417885750201407,-0.43157859884674826,-0.434076417833265,-0.42622489689420734,-0.4093935036702951,-0.3853906832849483,-0.35635521764627226,-0.324629843053556,-0.2926242127644853,-0.2626748843273063,-0.23691017597600564,-0.21712746254366178,-0.20468978410715197,-0.20044755867978276,-0.20468978410715197,-0.21712746254366178,-0.23691017597600564,-0.2626748843273063,-0.2926242127644853,-0.324629843053556,-0.35635521764627226,-0.3853906832849483,-0.4093935036702951,-0.42622489689420734,-0.434076417833265,-0.43157859884674826,-0.417885750201407,-0.39273214882544505,-0.3564564355250057,-0.309992807249447,-0.254829433326894,-0.1929363397545002,-0.12666669235949252,-0.05863687417657578,0.00840808631479302,0.07173638515428266,0.12877087581897034,0.17722237538812438,0.2152076253393881,0.2413455569066888,0.2548267267047997,0.2554522819126627,0.24364050109720906,0.22040074178662336,0.18727640924644018,0.14626024334832619,0.09968670899986165,0.05010748884225075,0.0001569493213448689,-0.04758506314163741,-0.0907256642328181,-0.1271795169340972,-0.15527119023634722],[-0.16865061331126227,-0.14653700801271363,-0.11505016730310495,-0.07558080422426758,-0.030004497243790427,0.019407660252202565,0.07010183827093616,0.11937185506223688,0.16450028494360933,0.20290271423033404,0.23226729318028777,0.2506818889186662,0.2567417315441088,0.24963143467045815,0.22917661128094333,0.19586192453391038,0.15081422331281308,0.0957513146109,0.032898814044057145,-0.03512071345143313,-0.10542055787501849,-0.17499760171649797,-0.24088710992360066,-0.3003162506586467,-0.35084804028714445,-0.3905078789395116,-0.417885750201407,-0.43220845214435083,-0.4333778373354074,-0.42197287899622543,-0.39921534828629784,-0.36690087535799776,-0.32729906443176787,-0.28302803533990717,-0.23691017597600564,-0.19181693290541052,-0.15051108239111077,-0.11549507625799743,-0.08887373699192957,-0.0722388011028484,-0.06658162124929747,-0.0722388011028484,-0.08887373699192957,-0.11549507625799743,-0.15051108239111077,-0.19181693290541052,-0.23691017597600564,-0.28302803533990717,-0.32729906443176787,-0.36690087535799776,-0.39921534828629784,-0.42197287899622543,-0.4333778373354074,-0.43220845214435083,-0.417885750201407,-0.3905078789395116,-0.35084804028714445,-0.3003162506586467,-0.24088710992360066,-0.17499760171649797,-0.10542055787501849,-0.03512071345143313,0.032898814044057145,0.0957513146109,0.15081422331281308,0.19586192453391038,0.22917661128094333,0.24963143467045815,0.2567417315441088,0.2506818889186662,0.23226729318028777,0.20290271423033404,0.16450028494360933,0.11937185506223688,0.07010183827093616,0.019407660252202565,-0.030004497243790427,-0.07558080422426758,-0.11505016730310495,-0.14653700801271363],[-0.16278435980926842,-0.13736985507049018,-0.10281030706494565,-0.060690608986011814,-0.013073952151520388,0.03759772656874239,0.08862652853638416,0.13719827990417027,0.18053174205108255,0.21602931256266372,0.24142096714711753,0.254893432701845,0.25519727019112654,0.24172565029557566,0.21456006847846779,0.17447999195279823,0.12293536517635703,0.06198291759831892,-0.005810793613848673,-0.07749482277960204,-0.14988136590815446,-0.21970771693043264,-0.2838041182964338,-0.3392585664190622,-0.3835697098652554,-0.4147795406040892,-0.43157859884674826,-0.4333778373354074,-0.4203430458705095,-0.39338972722403176,-0.3541384336243295,-0.30483270332925,-0.24822376277499153,-0.187427969950852,-0.1257644689695074,-0.06658162124929747,-0.0130814139378774,0.03184881503912622,0.0657883626364726,0.08691073780520595,0.0940800053732448,0.08691073780520595,0.0657883626364726,0.03184881503912622,-0.0130814139378774,-0.06658162124929747,-0.1257644689695074,-0.187427969950852,-0.24822376277499153,-0.30483270332925,-0.3541384336243295,-0.39338972722403176,-0.4203430458705095,-0.4333778373354074,-0.43157859884674826,-0.4147795406040892,-0.3835697098652554,-0.3392585664190622,-0.2838041182964338,-0.21970771693043264,-0.14988136590815446,-0.07749482277960204,-0.005810793613848673,0.06198291759831892,0.12293536517635703,0.17447999195279823,0.21456006847846779,0.24172565029557566,0.25519727019112654,0.254893432701845,0.24142096714711753,0.21602931256266372,0.18053174205108255,0.13719827990417027,0.08862652853638416,0.03759772656874239,-0.013073952151520388,-0.060690608986011814,-0.10281030706494565,-0.13736985507049018],[-0.15646143337355978,-0.12803192632998142,-0.0907256642328181,-0.046310064114579955,0.0029779491154211806,0.054541276561040686,0.10555493165712146,0.15311446345017118,0.1943926655354523,0.22679610352037188,0.24811283911536614,0.2566430509401283,0.25130504004127213,0.2317103248693539,0.1982031145119569,0.15186131748507978,0.09445829662141196,0.02838670735216783,-0.043452159632214875,-0.1177881852505473,-0.19114437378651342,-0.26001264723920775,-0.3210343185560354,-0.37117570680030565,-0.407889497747319,-0.42925310491460716,-0.434076417833265,-0.42197287899622543,-0.39338972722403176,-0.3495953826561967,-0.2926242127644853,-0.22518118755916025,-0.15051108239111077,-0.0722388011028484,0.005811034304373925,0.07980593576993696,0.14609889758077332,0.20141317105264114,0.24300880867803662,0.2688222513075441,0.277571630583514,0.2688222513075441,0.24300880867803662,0.20141317105264114,0.14609889758077332,0.07980593576993696,0.005811034304373925,-0.0722388011028484,-0.15051108239111077,-0.22518118755916025,-0.2926242127644853,-0.3495953826561967,-0.39338972722403176,-0.42197287899622543,-0.434076417833265,-0.42925310491460716,-0.407889497747319,-0.37117570680030565,-0.3210343185560354,-0.26001264723920775,-0.19114437378651342,-0.1177881852505473,-0.043452159632214875,0.02838670735216783,0.09445829662141196,0.15186131748507978,0.1982031145119569,0.2317103248693539,0.25130504004127213,0.2566430509401283,0.24811283911536614,0.22679610352037188,0.1943926655354523,0.15311446345017118,0.10555493165712146,0.054541276561040686,0.0029779491154211806,-0.046310064114579955,-0.0907256642328181,-0.12803192632998142],[-0.1499137997580331,-0.11876378051842666,-0.07903277128303789,-0.032657564269347995,0.017966041941118966,0.07010183827093616,0.12081441070397907,0.16712567793535366,0.2061784643801796,0.23539823538075702,0.25264402764959015,0.2563400102730029,0.2455799958764798,0.22019854657881394,0.18080401871815463,0.12877087581897034,0.0661907655654817,-0.004215913110515241,-0.0792240541655952,-0.15525760655490364,-0.22856545626592412,-0.29541051237375787,-0.35226222727992795,-0.39598244357893553,-0.42399466300627076,-0.43442757176285574,-0.42622489689420734,-0.39921534828629784,-0.3541384336243295,-0.2926242127644853,-0.21712746254366178,-0.13081912452072303,-0.03744017720227128,0.05887491198907235,0.1537963512162099,0.24300880867803662,0.32242214992953067,0.38837235101706136,0.43780226922078175,0.4684129583840573,0.47877771528316515,0.4684129583840573,0.43780226922078175,0.38837235101706136,0.32242214992953067,0.24300880867803662,0.1537963512162099,0.05887491198907235,-0.03744017720227128,-0.13081912452072303,-0.21712746254366178,-0.2926242127644853,-0.3541384336243295,-0.39921534828629784,-0.42622489689420734,-0.43442757176285574,-0.42399466300627076,-0.39598244357893553,-0.35226222727992795,-0.29541051237375787,-0.22856545626592412,-0.15525760655490364,-0.0792240541655952,-0.004215913110515241,0.0661907655654817,0.12877087581897034,0.18080401871815463,0.22019854657881394,0.2455799958764798,0.2563400102730029,0.25264402764959015,0.23539823538075702,0.2061784643801796,0.16712567793535366,0.12081441070397907,0.07010183827093616,0.017966041941118966,-0.032657564269347995,-0.07903277128303789,-0.11876378051842666],[-0.14335579129849668,-0.10978201113265723,-0.06793803188546253,-0.019915691575644292,0.031745840459068614,0.08418731130237875,0.13437885433763305,0.1792839709402817,0.21602931256266372,0.2420710146043941,0.255348298963932,0.25441554164532254,0.23854497801642713,0.20779364608280457,0.1630299764243758,0.10591753298818528,0.03885568116655977,-0.03512071345143313,-0.11247819731414006,-0.18935183535374994,-0.2617343483375656,-0.32567778292945404,-0.37749737145928347,-0.41396693622794944,-0.43249545715781157,-0.4312752446188071,-0.4093935036702951,-0.36690087535799776,-0.30483270332925,-0.22518118755916025,-0.13081912452072303,-0.025378460035175753,0.08691073780520595,0.20141317105264114,0.3133036361206578,0.4177941096414197,0.5103612401471838,0.5869627944413911,0.6442321103834694,0.6796406846183429,0.69162061945593,0.6796406846183429,0.6442321103834694,0.5869627944413911,0.5103612401471838,0.4177941096414197,0.3133036361206578,0.20141317105264114,0.08691073780520595,-0.025378460035175753,-0.13081912452072303,-0.22518118755916025,-0.30483270332925,-0.36690087535799776,-0.4093935036702951,-0.4312752446188071,-0.43249545715781157,-0.41396693622794944,-0.37749737145928347,-0.32567778292945404,-0.2617343483375656,-0.18935183535374994,-0.11247819731414006,-0.03512071345143313,0.03885568116655977,0.10591753298818528,0.1630299764243758,0.20779364608280457,0.23854497801642713,0.25441554164532254,0.255348298963932,0.2420710146043941,0.21602931256266372,0.1792839709402817,0.13437885433763305,0.08418731130237875,0.031745840459068614,-0.019915691575644292,-0.06793803188546253,-0.10978201113265723],[-0.13698176393514344,-0.10127808535368477,-0.05761803324395176,-0.00823327044894154,0.044209509361482956,0.09674378883254962,0.14626024334832619,0.18967745729212915,0.22411724822563847,0.24707500803079696,0.256575492104657,0.25130504004127213,0.23071227369415245,0.19507084218595108,0.14549969299473817,0.08393854575868848,0.013078615468659323,-0.06374895250625122,-0.1427221428215067,-0.21970771693043264,-0.29046275344788247,-0.35084804028714445,-0.3970424421347404,-0.42574709936268906,-0.43436863670247905,-0.421171462695804,-0.3853906832849483,-0.32729906443176787,-0.24822376277499153,-0.15051108239111077,-0.03744017720227128,0.08691073780520595,0.21783961811686398,0.35022902170777614,0.47877771528316515,0.5982441516081277,0.7036898157513979,0.7907103570985019,0.8556429685382863,0.8957396184216221,0.9092974268256817,0.8957396184216221,0.8556429685382863,0.7907103570985019,0.7036898157513979,0.5982441516081277,0.47877771528316515,0.35022902170777614,0.21783961811686398,0.08691073780520595,-0.03744017720227128,-0.15051108239111077,-0.24822376277499153,-0.32729906443176787,-0.3853906832849483,-0.421171462695804,-0.43436863670247905,-0.42574709936268906,-0.3970424421347404,-0.35084804028714445,-0.29046275344788247,-0.21970771693043264,-0.1427221428215067,-0.06374895250625122,0.013078615468659323,0.08393854575868848,0.14549969299473817,0.19507084218595108,0.23071227369415245,0.25130504004127213,0.256575492104657,0.24707500803079696,0.22411724822563847,0.18967745729212915,0.14626024334832619,0.09674378883254962,0.044209509361482956,-0.00823327044894154,-0.05761803324395176,-0.10127808535368477],[-0.13096468174943518,-0.09341816596346665,-0.04822085787410071,0.0022716100207446164,0.05528095770522729,0.10774865812501504,0.15649972810645998,0.19841943861188654,0.23063350923189954,0.2506818889186662,0.2566762997375786,0.24743234013685533,0.2225680860000738,0.18256273925541686,0.12877087581897034,0.06339013493636744,-0.010617349295218181,-0.08964697741323371,-0.1696119802323752,-0.24613461781837798,-0.31475910259630246,-0.37117570680030565,-0.41144469052055266,-0.43220845214435083,-0.4308806796227811,-0.40580225753498556,-0.35635521764627226,-0.28302803533990717,-0.187427969950852,-0.0722388011028484,0.05887491198907235,0.20141317105264114,0.35022902170777614,0.49975144871271493,0.6442321103834694,0.7780040258931075,0.8957396184216221,0.992695449836068,1.0649315658049785,1.1094945766040856,1.124555367855928,1.1094945766040856,1.0649315658049785,0.992695449836068,0.8957396184216221,0.7780040258931075,0.6442321103834694,0.49975144871271493,0.35022902170777614,0.20141317105264114,0.05887491198907235,-0.0722388011028484,-0.187427969950852,-0.28302803533990717,-0.35635521764627226,-0.40580225753498556,-0.4308806796227811,-0.43220845214435083,-0.41144469052055266,-0.37117570680030565,-0.31475910259630246,-0.24613461781837798,-0.1696119802323752,-0.08964697741323371,-0.010617349295218181,0.06339013493636744,0.12877087581897034,0.18256273925541686,0.2225680860000738,0.24743234013685533,0.2566762997375786,0.2506818889186662,0.23063350923189954,0.19841943861188654,0.15649972810645998,0.10774865812501504,0.05528095770522729,0.0022716100207446164,-0.04822085787410071,-0.09341816596346665],[-0.1254554756233313,-0.08634370978474622,-0.039868134180728126,0.011507919583092052,0.0649104168254659,0.11720338291232232,0.16515865057394133,0.20563779959612533,0.23577655069724138,0.2531614457800734,0.2559887694405144,0.2431963471432226,0.21456006847846779,0.17074867404778504,0.11333242903336226,0.044743679368913644,-0.03181017613329085,-0.11247819731414006,-0.1929363397545002,-0.268589046149572,-0.33479237619194996,-0.38708768931988075,-0.42143408131469146,-0.43442757176285574,-0.42349546556438716,-0.38705535500366767,-0.324629843053556,-0.23691017597600564,-0.1257644689695074,0.005811034304373925,0.1537963512162099,0.3133036361206578,0.47877771528316515,0.6442321103834694,0.803509484779075,0.9505541014891831,1.0796831610910465,1.1858438330909473,1.2648434125627805,1.3135412961886945,1.3299933154720727,1.3135412961886945,1.2648434125627805,1.1858438330909473,1.0796831610910465,0.9505541014891831,0.803509484779075,0.6442321103834694,0.47877771528316515,0.3133036361206578,0.1537963512162099,0.005811034304373925,-0.1257644689695074,-0.23691017597600564,-0.324629843053556,-0.38705535500366767,-0.42349546556438716,-0.43442757176285574,-0.42143408131469146,-0.38708768931988075,-0.33479237619194996,-0.268589046149572,-0.1929363397545002,-0.11247819731414006,-0.03181017613329085,0.044743679368913644,0.11333242903336226,0.17074867404778504,0.21456006847846779,0.2431963471432226,0.2559887694405144,0.2531614457800734,0.23577655069724138,0.20563779959612533,0.16515865057394133,0.11720338291232232,0.0649104168254659,0.011507919583092052,-0.039868134180728126,-0.08634370978474622],[-0.12058300781296416,-0.08017262722723162,-0.032657564269347995,0.019407660252202565,0.07306884206017318,0.12512633286074154,0.17230988766358785,0.21146505144444128,0.23974108638511749,0.25477004091850136,0.2548267267047997,0.23896010343988033,0.2070878465419809,0.16004763127913005,0.09960082298540655,0.02838670735216783,-0.050171999808914604,-0.132008995765264,-0.2125937105436689,-0.28714197491104243,-0.35084804028714445,-0.3991265770886398,-0.42785247459104203,-0.4335860886421158,-0.4137720534188708,-0.36690087535799776,-0.2926242127644853,-0.19181693290541052,-0.06658162124929747,0.07980593576993696,0.24300880867803662,0.4177941096414197,0.5982441516081277,0.7780040258931075,0.9505541014891831,1.1094945766040856,1.2488284837498442,1.3632295064019535,1.4482816142111579,1.500678835049543,1.518375390968938,1.500678835049543,1.4482816142111579,1.3632295064019535,1.2488284837498442,1.1094945766040856,0.9505541014891831,0.7780040258931075,0.5982441516081277,0.4177941096414197,0.24300880867803662,0.07980593576993696,-0.06658162124929747,-0.19181693290541052,-0.2926242127644853,-0.36690087535799776,-0.4137720534188708,-0.4335860886421158,-0.42785247459104203,-0.3991265770886398,-0.35084804028714445,-0.28714197491104243,-0.2125937105436689,-0.132008995765264,-0.050171999808914604,0.02838670735216783,0.09960082298540655,0.16004763127913005,0.2070878465419809,0.23896010343988033,0.2548267267047997,0.25477004091850136,0.23974108638511749,0.21146505144444128,0.17230988766358785,0.12512633286074154,0.07306884206017318,0.019407660252202565,-0.032657564269347995,-0.08017262722723162],[-0.1164544699167505,-0.0750007897964791,-0.026665677985416577,0.025921773001301992,0.07974244535617742,0.13154597877649798,0.17802983029511174,0.21602931256266372,0.242708395806646,0.2557406839380664,0.25347017586536014,0.23504220166614895,0.20049625055173417,0.15081422331281308,0.08791985781076668,0.014627580006334946,-0.06545830501430487,-0.14809048863531396,-0.22856545626592412,-0.30194177876754097,-0.3632795822101567,-0.407889497747319,-0.43157859884674826,-0.4308806796227811,-0.40325873487122593,-0.3472686537517362,-0.2626748843273063,-0.15051108239111077,-0.0130814139378774,0.14609889758077332,0.32242214992953067,0.5103612401471838,0.7036898157513979,0.8957396184216221,1.0796831610910465,1.2488284837498442,1.3969119972732167,1.518375390968938,1.608613254431116,1.6641794167481594,1.682941969615793,1.6641794167481594,1.608613254431116,1.518375390968938,1.3969119972732167,1.2488284837498442,1.0796831610910465,0.8957396184216221,0.7036898157513979,0.5103612401471838,0.32242214992953067,0.14609889758077332,-0.0130814139378774,-0.15051108239111077,-0.2626748843273063,-0.3472686537517362,-0.40325873487122593,-0.4308806796227811,-0.43157859884674826,-0.407889497747319,-0.3632795822101567,-0.30194177876754097,-0.22856545626592412,-0.14809048863531396,-0.06545830501430487,0.014627580006334946,0.08791985781076668,0.15081422331281308,0.20049625055173417,0.23504220166614895,0.25347017586536014,0.2557406839380664,0.242708395806646,0.21602931256266372,0.17802983029511174,0.13154597877649798,0.07974244535617742,0.025921773001301992,-0.026665677985416577,-0.0750007897964791],[-0.1131560467581887,-0.07090368426500879,-0.021950582012676394,0.031016232090896562,0.08492762656935865,0.13649472168344115,0.18239124981424537,0.21944644111666822,0.24483804991090946,0.2562747828163765,0.252157618714697,0.2317103248693539,0.19507084218595108,0.1433370736825879,0.07856287339249271,0.0037025838949493145,-0.07749482277960204,-0.16063822727306362,-0.24088710992360066,-0.31317589634427284,-0.37245933283868765,-0.41396693622794944,-0.4334537754581445,-0.4274347075936389,-0.39338972722403176,-0.32992927901128904,-0.23691017597600564,-0.11549507625799743,0.03184881503912622,0.20141317105264114,0.38837235101706136,0.5869627944413911,0.7907103570985019,0.992695449836068,1.1858438330909473,1.3632295064019535,1.518375390968938,1.6455374774968983,1.7399588071171015,1.7980810383563555,1.8177033600622243,1.7980810383563555,1.7399588071171015,1.6455374774968983,1.518375390968938,1.3632295064019535,1.1858438330909473,0.992695449836068,0.7907103570985019,0.5869627944413911,0.38837235101706136,0.20141317105264114,0.03184881503912622,-0.11549507625799743,-0.23691017597600564,-0.32992927901128904,-0.39338972722403176,-0.4274347075936389,-0.4334537754581445,-0.41396693622794944,-0.37245933283868765,-0.31317589634427284,-0.24088710992360066,-0.16063822727306362,-0.07749482277960204,0.0037025838949493145,0.07856287339249271,0.1433370736825879,0.19507084218595108,0.2317103248693539,0.252157618714697,0.2562747828163765,0.24483804991090946,0.21944644111666822,0.18239124981424537,0.13649472168344115,0.08492762656935865,0.031016232090896562,-0.021950582012676394,-0.07090368426500879],[-0.1107536917561867,-0.06793803188546253,-0.01855449981019833,0.03466854669458865,0.08862652853638416,0.14000357308347133,0.18545724476618586,0.22181346801290225,0.24626113579560338,0.25653555744366946,0.25108014921898075,0.22917661128094333,0.19103523332295086,0.13783886506830845,0.07173638515428266,-0.004215913110515241,-0.08616386191642225,-0.1696119802323752,-0.24962054293732017,-0.3210343185560354,-0.3787322233669178,-0.417885750201407,-0.434213248547002,-0.42421701152445723,-0.3853906832849483,-0.3163857196862348,-0.21712746254366178,-0.08887373699192957,0.0657883626364726,0.24300880867803662,0.43780226922078175,0.6442321103834694,0.8556429685382863,1.0649315658049785,1.2648434125627805,1.4482816142111579,1.608613254431116,1.7399588071171015,1.8374507397311368,1.8974488797623419,1.917702154416812,1.8974488797623419,1.8374507397311368,1.7399588071171015,1.608613254431116,1.4482816142111579,1.2648434125627805,1.0649315658049785,0.8556429685382863,0.6442321103834694,0.43780226922078175,0.24300880867803662,0.0657883626364726,-0.08887373699192957,-0.21712746254366178,-0.3163857196862348,-0.3853906832849483,-0.42421701152445723,-0.434213248547002,-0.417885750201407,-0.3787322233669178,-0.3210343185560354,-0.24962054293732017,-0.1696119802323752,-0.08616386191642225,-0.004215913110515241,0.07173638515428266,0.13783886506830845,0.19103523332295086,0.22917661128094333,0.25108014921898075,0.25653555744366946,0.24626113579560338,0.22181346801290225,0.18545724476618586,0.14000357308347133,0.08862652853638416,0.03466854669458865,-0.01855449981019833,-0.06793803188546253],[-0.10929387900894774,-0.06614321685638791,-0.016505930263581485,0.03686485131708162,0.09084339726921295,0.14209785531573388,0.18727640924644018,0.2232034254780841,0.24707500803079696,0.2566430509401283,0.25037713957121355,0.22759450814784551,0.18854967763954522,0.134477311926808,0.06758414818694233,-0.009011537058698997,-0.09139170665445415,-0.17499760171649797,-0.254829433326894,-0.32567778292945404,-0.382375848005458,-0.4200602785751461,-0.43442757176285574,-0.42197287899622543,-0.3801986514917913,-0.3077817863653888,-0.20468978410715197,-0.0722388011028484,0.08691073780520595,0.2688222513075441,0.4684129583840573,0.6796406846183429,0.8957396184216221,1.1094945766040856,1.3135412961886945,1.500678835049543,1.6641794167481594,1.7980810383563555,1.8974488797623419,1.9585929762944412,1.9792316740361835,1.9585929762944412,1.8974488797623419,1.7980810383563555,1.6641794167481594,1.500678835049543,1.3135412961886945,1.1094945766040856,0.8957396184216221,0.6796406846183429,0.4684129583840573,0.2688222513075441,0.08691073780520595,-0.0722388011028484,-0.20468978410715197,-0.3077817863653888,-0.3801986514917913,-0.42197287899622543,-0.43442757176285574,-0.4200602785751461,-0.382375848005458,-0.32567778292945404,-0.254829433326894,-0.17499760171649797,-0.09139170665445415,-0.009011537058698997,0.06758414818694233,0.134477311926808,0.18854967763954522,0.22759450814784551,0.25037713957121355,0.2566430509401283,0.24707500803079696,0.2232034254780841,0.18727640924644018,0.14209785531573388,0.09084339726921295,0.03686485131708162,-0.016505930263581485,-0.06614321685638791],[-0.10880422217787396,-0.06554239869174844,-0.015821288518275644,0.03759772656874239,0.09158188560927924,0.14279404657238684,0.18787932061729182,0.22366162672468853,0.24733956165584545,0.2566706526738519,0.25013332713993036,0.2270567942100705,0.18771045677679687,0.1333463922312941,0.0661907655654817,-0.010617349295218181,-0.09313849939964196,-0.17679272260843765,-0.2565601183892334,-0.32721314035298743,-0.3835697098652554,-0.4207548585159486,-0.43445783007337646,-0.421171462695804,-0.3784012476539641,-0.30483270332925,-0.20044755867978276,-0.06658162124929747,0.0940800053732448,0.277571630583514,0.47877771528316515,0.69162061945593,0.9092974268256817,1.124555367855928,1.3299933154720727,1.518375390968938,1.682941969615793,1.8177033600622243,1.917702154416812,1.9792316740361835,null,1.9792316740361835,1.917702154416812,1.8177033600622243,1.682941969615793,1.518375390968938,1.3299933154720727,1.124555367855928,0.9092974268256817,0.69162061945593,0.47877771528316515,0.277571630583514,0.0940800053732448,-0.06658162124929747,-0.20044755867978276,-0.30483270332925,-0.3784012476539641,-0.421171462695804,-0.43445783007337646,-0.4207548585159486,-0.3835697098652554,-0.32721314035298743,-0.2565601183892334,-0.17679272260843765,-0.09313849939964196,-0.010617349295218181,0.0661907655654817,0.1333463922312941,0.18771045677679687,0.2270567942100705,0.25013332713993036,0.2566706526738519,0.24733956165584545,0.22366162672468853,0.18787932061729182,0.14279404657238684,0.09158188560927924,0.03759772656874239,-0.015821288518275644,-0.06554239869174844],[-0.10929387900894774,-0.06614321685638791,-0.016505930263581485,0.03686485131708162,0.09084339726921295,0.14209785531573388,0.18727640924644018,0.2232034254780841,0.24707500803079696,0.2566430509401283,0.25037713957121355,0.22759450814784551,0.18854967763954522,0.134477311926808,0.06758414818694233,-0.009011537058698997,-0.09139170665445415,-0.17499760171649797,-0.254829433326894,-0.32567778292945404,-0.382375848005458,-0.4200602785751461,-0.43442757176285574,-0.42197287899622543,-0.3801986514917913,-0.3077817863653888,-0.20468978410715197,-0.0722388011028484,0.08691073780520595,0.2688222513075441,0.4684129583840573,0.6796406846183429,0.8957396184216221,1.1094945766040856,1.3135412961886945,1.500678835049543,1.6641794167481594,1.7980810383563555,1.8974488797623419,1.9585929762944412,1.9792316740361835,1.9585929762944412,1.8974488797623419,1.7980810383563555,1.6641794167481594,1.500678835049543,1.3135412961886945,1.1094945766040856,0.8957396184216221,0.6796406846183429,0.4684129583840573,0.2688222513075441,0.08691073780520595,-0.0722388011028484,-0.20468978410715197,-0.3077817863653888,-0.3801986514917913,-0.42197287899622543,-0.43442757176285574,-0.4200602785751461,-0.382375848005458,-0.32567778292945404,-0.254829433326894,-0.17499760171649797,-0.09139170665445415,-0.009011537058698997,0.06758414818694233,0.134477311926808,0.18854967763954522,0.22759450814784551,0.25037713957121355,0.2566430509401283,0.24707500803079696,0.2232034254780841,0.18727640924644018,0.14209785531573388,0.09084339726921295,0.03686485131708162,-0.016505930263581485,-0.06614321685638791],[-0.1107536917561867,-0.06793803188546253,-0.01855449981019833,0.03466854669458865,0.08862652853638416,0.14000357308347133,0.18545724476618586,0.22181346801290225,0.24626113579560338,0.25653555744366946,0.25108014921898075,0.22917661128094333,0.19103523332295086,0.13783886506830845,0.07173638515428266,-0.004215913110515241,-0.08616386191642225,-0.1696119802323752,-0.24962054293732017,-0.3210343185560354,-0.3787322233669178,-0.417885750201407,-0.434213248547002,-0.42421701152445723,-0.3853906832849483,-0.3163857196862348,-0.21712746254366178,-0.08887373699192957,0.0657883626364726,0.24300880867803662,0.43780226922078175,0.6442321103834694,0.8556429685382863,1.0649315658049785,1.2648434125627805,1.4482816142111579,1.608613254431116,1.7399588071171015,1.8374507397311368,1.8974488797623419,1.917702154416812,1.8974488797623419,1.8374507397311368,1.7399588071171015,1.608613254431116,1.4482816142111579,1.2648434125627805,1.0649315658049785,0.8556429685382863,0.6442321103834694,0.43780226922078175,0.24300880867803662,0.0657883626364726,-0.08887373699192957,-0.21712746254366178,-0.3163857196862348,-0.3853906832849483,-0.42421701152445723,-0.434213248547002,-0.417885750201407,-0.3787322233669178,-0.3210343185560354,-0.24962054293732017,-0.1696119802323752,-0.08616386191642225,-0.004215913110515241,0.07173638515428266,0.13783886506830845,0.19103523332295086,0.22917661128094333,0.25108014921898075,0.25653555744366946,0.24626113579560338,0.22181346801290225,0.18545724476618586,0.14000357308347133,0.08862652853638416,0.03466854669458865,-0.01855449981019833,-0.06793803188546253],[-0.1131560467581887,-0.07090368426500879,-0.021950582012676394,0.031016232090896562,0.08492762656935865,0.13649472168344115,0.18239124981424537,0.21944644111666822,0.24483804991090946,0.2562747828163765,0.252157618714697,0.2317103248693539,0.19507084218595108,0.1433370736825879,0.07856287339249271,0.0037025838949493145,-0.07749482277960204,-0.16063822727306362,-0.24088710992360066,-0.31317589634427284,-0.37245933283868765,-0.41396693622794944,-0.4334537754581445,-0.4274347075936389,-0.39338972722403176,-0.32992927901128904,-0.23691017597600564,-0.11549507625799743,0.03184881503912622,0.20141317105264114,0.38837235101706136,0.5869627944413911,0.7907103570985019,0.992695449836068,1.1858438330909473,1.3632295064019535,1.518375390968938,1.6455374774968983,1.7399588071171015,1.7980810383563555,1.8177033600622243,1.7980810383563555,1.7399588071171015,1.6455374774968983,1.518375390968938,1.3632295064019535,1.1858438330909473,0.992695449836068,0.7907103570985019,0.5869627944413911,0.38837235101706136,0.20141317105264114,0.03184881503912622,-0.11549507625799743,-0.23691017597600564,-0.32992927901128904,-0.39338972722403176,-0.4274347075936389,-0.4334537754581445,-0.41396693622794944,-0.37245933283868765,-0.31317589634427284,-0.24088710992360066,-0.16063822727306362,-0.07749482277960204,0.0037025838949493145,0.07856287339249271,0.1433370736825879,0.19507084218595108,0.2317103248693539,0.252157618714697,0.2562747828163765,0.24483804991090946,0.21944644111666822,0.18239124981424537,0.13649472168344115,0.08492762656935865,0.031016232090896562,-0.021950582012676394,-0.07090368426500879],[-0.1164544699167505,-0.0750007897964791,-0.026665677985416577,0.025921773001301992,0.07974244535617742,0.13154597877649798,0.17802983029511174,0.21602931256266372,0.242708395806646,0.2557406839380664,0.25347017586536014,0.23504220166614895,0.20049625055173417,0.15081422331281308,0.08791985781076668,0.014627580006334946,-0.06545830501430487,-0.14809048863531396,-0.22856545626592412,-0.30194177876754097,-0.3632795822101567,-0.407889497747319,-0.43157859884674826,-0.4308806796227811,-0.40325873487122593,-0.3472686537517362,-0.2626748843273063,-0.15051108239111077,-0.0130814139378774,0.14609889758077332,0.32242214992953067,0.5103612401471838,0.7036898157513979,0.8957396184216221,1.0796831610910465,1.2488284837498442,1.3969119972732167,1.518375390968938,1.608613254431116,1.6641794167481594,1.682941969615793,1.6641794167481594,1.608613254431116,1.518375390968938,1.3969119972732167,1.2488284837498442,1.0796831610910465,0.8957396184216221,0.7036898157513979,0.5103612401471838,0.32242214992953067,0.14609889758077332,-0.0130814139378774,-0.15051108239111077,-0.2626748843273063,-0.3472686537517362,-0.40325873487122593,-0.4308806796227811,-0.43157859884674826,-0.407889497747319,-0.3632795822101567,-0.30194177876754097,-0.22856545626592412,-0.14809048863531396,-0.06545830501430487,0.014627580006334946,0.08791985781076668,0.15081422331281308,0.20049625055173417,0.23504220166614895,0.25347017586536014,0.2557406839380664,0.242708395806646,0.21602931256266372,0.17802983029511174,0.13154597877649798,0.07974244535617742,0.025921773001301992,-0.026665677985416577,-0.0750007897964791],[-0.12058300781296416,-0.08017262722723162,-0.032657564269347995,0.019407660252202565,0.07306884206017318,0.12512633286074154,0.17230988766358785,0.21146505144444128,0.23974108638511749,0.25477004091850136,0.2548267267047997,0.23896010343988033,0.2070878465419809,0.16004763127913005,0.09960082298540655,0.02838670735216783,-0.050171999808914604,-0.132008995765264,-0.2125937105436689,-0.28714197491104243,-0.35084804028714445,-0.3991265770886398,-0.42785247459104203,-0.4335860886421158,-0.4137720534188708,-0.36690087535799776,-0.2926242127644853,-0.19181693290541052,-0.06658162124929747,0.07980593576993696,0.24300880867803662,0.4177941096414197,0.5982441516081277,0.7780040258931075,0.9505541014891831,1.1094945766040856,1.2488284837498442,1.3632295064019535,1.4482816142111579,1.500678835049543,1.518375390968938,1.500678835049543,1.4482816142111579,1.3632295064019535,1.2488284837498442,1.1094945766040856,0.9505541014891831,0.7780040258931075,0.5982441516081277,0.4177941096414197,0.24300880867803662,0.07980593576993696,-0.06658162124929747,-0.19181693290541052,-0.2926242127644853,-0.36690087535799776,-0.4137720534188708,-0.4335860886421158,-0.42785247459104203,-0.3991265770886398,-0.35084804028714445,-0.28714197491104243,-0.2125937105436689,-0.132008995765264,-0.050171999808914604,0.02838670735216783,0.09960082298540655,0.16004763127913005,0.2070878465419809,0.23896010343988033,0.2548267267047997,0.25477004091850136,0.23974108638511749,0.21146505144444128,0.17230988766358785,0.12512633286074154,0.07306884206017318,0.019407660252202565,-0.032657564269347995,-0.08017262722723162],[-0.1254554756233313,-0.08634370978474622,-0.039868134180728126,0.011507919583092052,0.0649104168254659,0.11720338291232232,0.16515865057394133,0.20563779959612533,0.23577655069724138,0.2531614457800734,0.2559887694405144,0.2431963471432226,0.21456006847846779,0.17074867404778504,0.11333242903336226,0.044743679368913644,-0.03181017613329085,-0.11247819731414006,-0.1929363397545002,-0.268589046149572,-0.33479237619194996,-0.38708768931988075,-0.42143408131469146,-0.43442757176285574,-0.42349546556438716,-0.38705535500366767,-0.324629843053556,-0.23691017597600564,-0.1257644689695074,0.005811034304373925,0.1537963512162099,0.3133036361206578,0.47877771528316515,0.6442321103834694,0.803509484779075,0.9505541014891831,1.0796831610910465,1.1858438330909473,1.2648434125627805,1.3135412961886945,1.3299933154720727,1.3135412961886945,1.2648434125627805,1.1858438330909473,1.0796831610910465,0.9505541014891831,0.803509484779075,0.6442321103834694,0.47877771528316515,0.3133036361206578,0.1537963512162099,0.005811034304373925,-0.1257644689695074,-0.23691017597600564,-0.324629843053556,-0.38705535500366767,-0.42349546556438716,-0.43442757176285574,-0.42143408131469146,-0.38708768931988075,-0.33479237619194996,-0.268589046149572,-0.1929363397545002,-0.11247819731414006,-0.03181017613329085,0.044743679368913644,0.11333242903336226,0.17074867404778504,0.21456006847846779,0.2431963471432226,0.2559887694405144,0.2531614457800734,0.23577655069724138,0.20563779959612533,0.16515865057394133,0.11720338291232232,0.0649104168254659,0.011507919583092052,-0.039868134180728126,-0.08634370978474622],[-0.13096468174943518,-0.09341816596346665,-0.04822085787410071,0.0022716100207446164,0.05528095770522729,0.10774865812501504,0.15649972810645998,0.19841943861188654,0.23063350923189954,0.2506818889186662,0.2566762997375786,0.24743234013685533,0.2225680860000738,0.18256273925541686,0.12877087581897034,0.06339013493636744,-0.010617349295218181,-0.08964697741323371,-0.1696119802323752,-0.24613461781837798,-0.31475910259630246,-0.37117570680030565,-0.41144469052055266,-0.43220845214435083,-0.4308806796227811,-0.40580225753498556,-0.35635521764627226,-0.28302803533990717,-0.187427969950852,-0.0722388011028484,0.05887491198907235,0.20141317105264114,0.35022902170777614,0.49975144871271493,0.6442321103834694,0.7780040258931075,0.8957396184216221,0.992695449836068,1.0649315658049785,1.1094945766040856,1.124555367855928,1.1094945766040856,1.0649315658049785,0.992695449836068,0.8957396184216221,0.7780040258931075,0.6442321103834694,0.49975144871271493,0.35022902170777614,0.20141317105264114,0.05887491198907235,-0.0722388011028484,-0.187427969950852,-0.28302803533990717,-0.35635521764627226,-0.40580225753498556,-0.4308806796227811,-0.43220845214435083,-0.41144469052055266,-0.37117570680030565,-0.31475910259630246,-0.24613461781837798,-0.1696119802323752,-0.08964697741323371,-0.010617349295218181,0.06339013493636744,0.12877087581897034,0.18256273925541686,0.2225680860000738,0.24743234013685533,0.2566762997375786,0.2506818889186662,0.23063350923189954,0.19841943861188654,0.15649972810645998,0.10774865812501504,0.05528095770522729,0.0022716100207446164,-0.04822085787410071,-0.09341816596346665],[-0.13698176393514344,-0.10127808535368477,-0.05761803324395176,-0.00823327044894154,0.044209509361482956,0.09674378883254962,0.14626024334832619,0.18967745729212915,0.22411724822563847,0.24707500803079696,0.256575492104657,0.25130504004127213,0.23071227369415245,0.19507084218595108,0.14549969299473817,0.08393854575868848,0.013078615468659323,-0.06374895250625122,-0.1427221428215067,-0.21970771693043264,-0.29046275344788247,-0.35084804028714445,-0.3970424421347404,-0.42574709936268906,-0.43436863670247905,-0.421171462695804,-0.3853906832849483,-0.32729906443176787,-0.24822376277499153,-0.15051108239111077,-0.03744017720227128,0.08691073780520595,0.21783961811686398,0.35022902170777614,0.47877771528316515,0.5982441516081277,0.7036898157513979,0.7907103570985019,0.8556429685382863,0.8957396184216221,0.9092974268256817,0.8957396184216221,0.8556429685382863,0.7907103570985019,0.7036898157513979,0.5982441516081277,0.47877771528316515,0.35022902170777614,0.21783961811686398,0.08691073780520595,-0.03744017720227128,-0.15051108239111077,-0.24822376277499153,-0.32729906443176787,-0.3853906832849483,-0.421171462695804,-0.43436863670247905,-0.42574709936268906,-0.3970424421347404,-0.35084804028714445,-0.29046275344788247,-0.21970771693043264,-0.1427221428215067,-0.06374895250625122,0.013078615468659323,0.08393854575868848,0.14549969299473817,0.19507084218595108,0.23071227369415245,0.25130504004127213,0.256575492104657,0.24707500803079696,0.22411724822563847,0.18967745729212915,0.14626024334832619,0.09674378883254962,0.044209509361482956,-0.00823327044894154,-0.05761803324395176,-0.10127808535368477],[-0.14335579129849668,-0.10978201113265723,-0.06793803188546253,-0.019915691575644292,0.031745840459068614,0.08418731130237875,0.13437885433763305,0.1792839709402817,0.21602931256266372,0.2420710146043941,0.255348298963932,0.25441554164532254,0.23854497801642713,0.20779364608280457,0.1630299764243758,0.10591753298818528,0.03885568116655977,-0.03512071345143313,-0.11247819731414006,-0.18935183535374994,-0.2617343483375656,-0.32567778292945404,-0.37749737145928347,-0.41396693622794944,-0.43249545715781157,-0.4312752446188071,-0.4093935036702951,-0.36690087535799776,-0.30483270332925,-0.22518118755916025,-0.13081912452072303,-0.025378460035175753,0.08691073780520595,0.20141317105264114,0.3133036361206578,0.4177941096414197,0.5103612401471838,0.5869627944413911,0.6442321103834694,0.6796406846183429,0.69162061945593,0.6796406846183429,0.6442321103834694,0.5869627944413911,0.5103612401471838,0.4177941096414197,0.3133036361206578,0.20141317105264114,0.08691073780520595,-0.025378460035175753,-0.13081912452072303,-0.22518118755916025,-0.30483270332925,-0.36690087535799776,-0.4093935036702951,-0.4312752446188071,-0.43249545715781157,-0.41396693622794944,-0.37749737145928347,-0.32567778292945404,-0.2617343483375656,-0.18935183535374994,-0.11247819731414006,-0.03512071345143313,0.03885568116655977,0.10591753298818528,0.1630299764243758,0.20779364608280457,0.23854497801642713,0.25441554164532254,0.255348298963932,0.2420710146043941,0.21602931256266372,0.1792839709402817,0.13437885433763305,0.08418731130237875,0.031745840459068614,-0.019915691575644292,-0.06793803188546253,-0.10978201113265723],[-0.1499137997580331,-0.11876378051842666,-0.07903277128303789,-0.032657564269347995,0.017966041941118966,0.07010183827093616,0.12081441070397907,0.16712567793535366,0.2061784643801796,0.23539823538075702,0.25264402764959015,0.2563400102730029,0.2455799958764798,0.22019854657881394,0.18080401871815463,0.12877087581897034,0.0661907655654817,-0.004215913110515241,-0.0792240541655952,-0.15525760655490364,-0.22856545626592412,-0.29541051237375787,-0.35226222727992795,-0.39598244357893553,-0.42399466300627076,-0.43442757176285574,-0.42622489689420734,-0.39921534828629784,-0.3541384336243295,-0.2926242127644853,-0.21712746254366178,-0.13081912452072303,-0.03744017720227128,0.05887491198907235,0.1537963512162099,0.24300880867803662,0.32242214992953067,0.38837235101706136,0.43780226922078175,0.4684129583840573,0.47877771528316515,0.4684129583840573,0.43780226922078175,0.38837235101706136,0.32242214992953067,0.24300880867803662,0.1537963512162099,0.05887491198907235,-0.03744017720227128,-0.13081912452072303,-0.21712746254366178,-0.2926242127644853,-0.3541384336243295,-0.39921534828629784,-0.42622489689420734,-0.43442757176285574,-0.42399466300627076,-0.39598244357893553,-0.35226222727992795,-0.29541051237375787,-0.22856545626592412,-0.15525760655490364,-0.0792240541655952,-0.004215913110515241,0.0661907655654817,0.12877087581897034,0.18080401871815463,0.22019854657881394,0.2455799958764798,0.2563400102730029,0.25264402764959015,0.23539823538075702,0.2061784643801796,0.16712567793535366,0.12081441070397907,0.07010183827093616,0.017966041941118966,-0.032657564269347995,-0.07903277128303789,-0.11876378051842666],[-0.15646143337355978,-0.12803192632998142,-0.0907256642328181,-0.046310064114579955,0.0029779491154211806,0.054541276561040686,0.10555493165712146,0.15311446345017118,0.1943926655354523,0.22679610352037188,0.24811283911536614,0.2566430509401283,0.25130504004127213,0.2317103248693539,0.1982031145119569,0.15186131748507978,0.09445829662141196,0.02838670735216783,-0.043452159632214875,-0.1177881852505473,-0.19114437378651342,-0.26001264723920775,-0.3210343185560354,-0.37117570680030565,-0.407889497747319,-0.42925310491460716,-0.434076417833265,-0.42197287899622543,-0.39338972722403176,-0.3495953826561967,-0.2926242127644853,-0.22518118755916025,-0.15051108239111077,-0.0722388011028484,0.005811034304373925,0.07980593576993696,0.14609889758077332,0.20141317105264114,0.24300880867803662,0.2688222513075441,0.277571630583514,0.2688222513075441,0.24300880867803662,0.20141317105264114,0.14609889758077332,0.07980593576993696,0.005811034304373925,-0.0722388011028484,-0.15051108239111077,-0.22518118755916025,-0.2926242127644853,-0.3495953826561967,-0.39338972722403176,-0.42197287899622543,-0.434076417833265,-0.42925310491460716,-0.407889497747319,-0.37117570680030565,-0.3210343185560354,-0.26001264723920775,-0.19114437378651342,-0.1177881852505473,-0.043452159632214875,0.02838670735216783,0.09445829662141196,0.15186131748507978,0.1982031145119569,0.2317103248693539,0.25130504004127213,0.2566430509401283,0.24811283911536614,0.22679610352037188,0.1943926655354523,0.15311446345017118,0.10555493165712146,0.054541276561040686,0.0029779491154211806,-0.046310064114579955,-0.0907256642328181,-0.12803192632998142],[-0.16278435980926842,-0.13736985507049018,-0.10281030706494565,-0.060690608986011814,-0.013073952151520388,0.03759772656874239,0.08862652853638416,0.13719827990417027,0.18053174205108255,0.21602931256266372,0.24142096714711753,0.254893432701845,0.25519727019112654,0.24172565029557566,0.21456006847846779,0.17447999195279823,0.12293536517635703,0.06198291759831892,-0.005810793613848673,-0.07749482277960204,-0.14988136590815446,-0.21970771693043264,-0.2838041182964338,-0.3392585664190622,-0.3835697098652554,-0.4147795406040892,-0.43157859884674826,-0.4333778373354074,-0.4203430458705095,-0.39338972722403176,-0.3541384336243295,-0.30483270332925,-0.24822376277499153,-0.187427969950852,-0.1257644689695074,-0.06658162124929747,-0.0130814139378774,0.03184881503912622,0.0657883626364726,0.08691073780520595,0.0940800053732448,0.08691073780520595,0.0657883626364726,0.03184881503912622,-0.0130814139378774,-0.06658162124929747,-0.1257644689695074,-0.187427969950852,-0.24822376277499153,-0.30483270332925,-0.3541384336243295,-0.39338972722403176,-0.4203430458705095,-0.4333778373354074,-0.43157859884674826,-0.4147795406040892,-0.3835697098652554,-0.3392585664190622,-0.2838041182964338,-0.21970771693043264,-0.14988136590815446,-0.07749482277960204,-0.005810793613848673,0.06198291759831892,0.12293536517635703,0.17447999195279823,0.21456006847846779,0.24172565029557566,0.25519727019112654,0.254893432701845,0.24142096714711753,0.21602931256266372,0.18053174205108255,0.13719827990417027,0.08862652853638416,0.03759772656874239,-0.013073952151520388,-0.060690608986011814,-0.10281030706494565,-0.13736985507049018],[-0.16865061331126227,-0.14653700801271363,-0.11505016730310495,-0.07558080422426758,-0.030004497243790427,0.019407660252202565,0.07010183827093616,0.11937185506223688,0.16450028494360933,0.20290271423033404,0.23226729318028777,0.2506818889186662,0.2567417315441088,0.24963143467045815,0.22917661128094333,0.19586192453391038,0.15081422331281308,0.0957513146109,0.032898814044057145,-0.03512071345143313,-0.10542055787501849,-0.17499760171649797,-0.24088710992360066,-0.3003162506586467,-0.35084804028714445,-0.3905078789395116,-0.417885750201407,-0.43220845214435083,-0.4333778373354074,-0.42197287899622543,-0.39921534828629784,-0.36690087535799776,-0.32729906443176787,-0.28302803533990717,-0.23691017597600564,-0.19181693290541052,-0.15051108239111077,-0.11549507625799743,-0.08887373699192957,-0.0722388011028484,-0.06658162124929747,-0.0722388011028484,-0.08887373699192957,-0.11549507625799743,-0.15051108239111077,-0.19181693290541052,-0.23691017597600564,-0.28302803533990717,-0.32729906443176787,-0.36690087535799776,-0.39921534828629784,-0.42197287899622543,-0.4333778373354074,-0.43220845214435083,-0.417885750201407,-0.3905078789395116,-0.35084804028714445,-0.3003162506586467,-0.24088710992360066,-0.17499760171649797,-0.10542055787501849,-0.03512071345143313,0.032898814044057145,0.0957513146109,0.15081422331281308,0.19586192453391038,0.22917661128094333,0.24963143467045815,0.2567417315441088,0.2506818889186662,0.23226729318028777,0.20290271423033404,0.16450028494360933,0.11937185506223688,0.07010183827093616,0.019407660252202565,-0.030004497243790427,-0.07558080422426758,-0.11505016730310495,-0.14653700801271363],[-0.1738139924448547,-0.15527119023634722,-0.1271795169340972,-0.0907256642328181,-0.04758506314163741,0.0001569493213448689,0.05010748884225075,0.09968670899986165,0.14626024334832619,0.18727640924644018,0.22040074178662336,0.24364050109720906,0.2554522819126627,0.2548267267047997,0.2413455569066888,0.2152076253393881,0.17722237538812438,0.12877087581897034,0.07173638515428266,0.00840808631479302,-0.05863687417657578,-0.12666669235949252,-0.1929363397545002,-0.254829433326894,-0.309992807249447,-0.3564564355250057,-0.39273214882544505,-0.417885750201407,-0.43157859884674826,-0.434076417833265,-0.42622489689420734,-0.4093935036702951,-0.3853906832849483,-0.35635521764627226,-0.324629843053556,-0.2926242127644853,-0.2626748843273063,-0.23691017597600564,-0.21712746254366178,-0.20468978410715197,-0.20044755867978276,-0.20468978410715197,-0.21712746254366178,-0.23691017597600564,-0.2626748843273063,-0.2926242127644853,-0.324629843053556,-0.35635521764627226,-0.3853906832849483,-0.4093935036702951,-0.42622489689420734,-0.434076417833265,-0.43157859884674826,-0.417885750201407,-0.39273214882544505,-0.3564564355250057,-0.309992807249447,-0.254829433326894,-0.1929363397545002,-0.12666669235949252,-0.05863687417657578,0.00840808631479302,0.07173638515428266,0.12877087581897034,0.17722237538812438,0.2152076253393881,0.2413455569066888,0.2548267267047997,0.2554522819126627,0.24364050109720906,0.22040074178662336,0.18727640924644018,0.14626024334832619,0.09968670899986165,0.05010748884225075,0.0001569493213448689,-0.04758506314163741,-0.0907256642328181,-0.1271795169340972,-0.15527119023634722],[-0.17801860199902664,-0.16329221750830802,-0.13890582780165694,-0.10583439818051152,-0.06554239869174844,-0.019915691575644292,0.02883009042098063,0.07825990831739421,0.1258425822940911,0.16908036038891633,0.20563779959612533,0.23346296309158113,0.2508943222213973,0.25674750760048576,0.25037713957121355,0.2317103248693539,0.20124995852555586,0.16004763127913005,0.1096476200446325,0.05200503792795912,-0.010617349295218181,-0.0757679524450742,-0.1409342819269669,-0.2036729142303004,-0.2617343483375656,-0.31317589634427284,-0.3564564355250057,-0.3905078789395116,-0.4147795406040892,-0.42925310491460716,-0.43442757176285574,-0.4312752446188071,-0.421171462695804,-0.40580225753498556,-0.38705535500366767,-0.36690087535799776,-0.3472686537517362,-0.32992927901128904,-0.3163857196862348,-0.3077817863653888,-0.30483270332925,-0.3077817863653888,-0.3163857196862348,-0.32992927901128904,-0.3472686537517362,-0.36690087535799776,-0.38705535500366767,-0.40580225753498556,-0.421171462695804,-0.4312752446188071,-0.43442757176285574,-0.42925310491460716,-0.4147795406040892,-0.3905078789395116,-0.3564564355250057,-0.31317589634427284,-0.2617343483375656,-0.2036729142303004,-0.1409342819269669,-0.0757679524450742,-0.010617349295218181,0.05200503792795912,0.1096476200446325,0.16004763127913005,0.20124995852555586,0.2317103248693539,0.25037713957121355,0.25674750760048576,0.2508943222213973,0.23346296309158113,0.20563779959612533,0.16908036038891633,0.1258425822940911,0.07825990831739421,0.02883009042098063,-0.019915691575644292,-0.06554239869174844,-0.10583439818051152,-0.13890582780165694,-0.16329221750830802],[-0.18100457917857166,-0.17030698199702413,-0.1499137997580331,-0.12058300781296416,-0.08355939645450051,-0.040517266401149735,0.0065202421682302655,0.05528095770522729,0.10335731863015635,0.14832776112580212,0.18787932061729182,0.21992483146863692,0.242708395806646,0.254893432701845,0.25562857790064414,0.24458792842044305,0.22198354690007724,0.18854967763954522,0.14549969299473817,0.09445829662141196,0.037372873633869375,-0.02359098016854476,-0.08616386191642225,-0.14809048863531396,-0.20724458052139974,-0.2617343483375656,-0.309992807249447,-0.35084804028714445,-0.3835697098652554,-0.407889497747319,-0.42399466300627076,-0.43249545715781157,-0.43436863670247905,-0.4308806796227811,-0.42349546556438716,-0.4137720534188708,-0.40325873487122593,-0.39338972722403176,-0.3853906832849483,-0.3801986514917913,-0.3784012476539641,-0.3801986514917913,-0.3853906832849483,-0.39338972722403176,-0.40325873487122593,-0.4137720534188708,-0.42349546556438716,-0.4308806796227811,-0.43436863670247905,-0.43249545715781157,-0.42399466300627076,-0.407889497747319,-0.3835697098652554,-0.35084804028714445,-0.309992807249447,-0.2617343483375656,-0.20724458052139974,-0.14809048863531396,-0.08616386191642225,-0.02359098016854476,0.037372873633869375,0.09445829662141196,0.14549969299473817,0.18854967763954522,0.22198354690007724,0.24458792842044305,0.25562857790064414,0.254893432701845,0.242708395806646,0.21992483146863692,0.18787932061729182,0.14832776112580212,0.10335731863015635,0.05528095770522729,0.0065202421682302655,-0.040517266401149735,-0.08355939645450051,-0.12058300781296416,-0.1499137997580331,-0.17030698199702413],[-0.18251498442862385,-0.1760159755489718,-0.15987112992755653,-0.13461888616197776,-0.10127808535368477,-0.061301442485772274,-0.016505930263581485,0.031016232090896562,0.07900122348247962,0.12512633286074154,0.16712567793535366,0.20290271423033404,0.23063350923189954,0.24885528388828942,0.25653555744366946,0.25311832399967577,0.23854497801642713,0.21324911772700825,0.17812580971586786,0.134477311926808,0.08393854575868848,0.02838670735216783,-0.030159748399708135,-0.08964697741323371,-0.14809048863531396,-0.2036729142303004,-0.254829433326894,-0.3003162506586467,-0.3392585664190622,-0.37117570680030565,-0.39598244357893553,-0.41396693622794944,-0.42574709936268906,-0.43220845214435083,-0.43442757176285574,-0.4335860886421158,-0.4308806796227811,-0.4274347075936389,-0.42421701152445723,-0.42197287899622543,-0.421171462695804,-0.42197287899622543,-0.42421701152445723,-0.4274347075936389,-0.4308806796227811,-0.4335860886421158,-0.43442757176285574,-0.43220845214435083,-0.42574709936268906,-0.41396693622794944,-0.39598244357893553,-0.37117570680030565,-0.3392585664190622,-0.3003162506586467,-0.254829433326894,-0.2036729142303004,-0.14809048863531396,-0.08964697741323371,-0.030159748399708135,0.02838670735216783,0.08393854575868848,0.134477311926808,0.17812580971586786,0.21324911772700825,0.23854497801642713,0.25311832399967577,0.25653555744366946,0.24885528388828942,0.23063350923189954,0.20290271423033404,0.16712567793535366,0.12512633286074154,0.07900122348247962,0.031016232090896562,-0.016505930263581485,-0.061301442485772274,-0.10127808535368477,-0.13461888616197776,-0.15987112992755653,-0.1760159755489718],[-0.18230376872794093,-0.18012123502583363,-0.16843605361995675,-0.14756752732225356,-0.11830504740258321,-0.08187218787401292,-0.039868134180728126,0.0058103924762656495,0.05306249567952219,0.09968670899986165,0.14348926836260514,0.18239124981424537,0.2145288714461612,0.2383416766936446,0.25264402764959015,0.2566762997375786,0.25013332713993036,0.23316893482082693,0.2063767337439853,0.17074867404778504,0.12761407121954643,0.07856287339249271,0.02535776443828009,-0.030159748399708135,-0.08616386191642225,-0.1409342819269669,-0.1929363397545002,-0.24088710992360066,-0.2838041182964338,-0.3210343185560354,-0.35226222727992795,-0.37749737145928347,-0.3970424421347404,-0.41144469052055266,-0.42143408131469146,-0.42785247459104203,-0.43157859884674826,-0.4334537754581445,-0.434213248547002,-0.43442757176285574,-0.43445783007337646,-0.43442757176285574,-0.434213248547002,-0.4334537754581445,-0.43157859884674826,-0.42785247459104203,-0.42143408131469146,-0.41144469052055266,-0.3970424421347404,-0.37749737145928347,-0.35226222727992795,-0.3210343185560354,-0.2838041182964338,-0.24088710992360066,-0.1929363397545002,-0.1409342819269669,-0.08616386191642225,-0.030159748399708135,0.02535776443828009,0.07856287339249271,0.12761407121954643,0.17074867404778504,0.2063767337439853,0.23316893482082693,0.25013332713993036,0.2566762997375786,0.25264402764959015,0.2383416766936446,0.2145288714461612,0.18239124981424537,0.14348926836260514,0.09968670899986165,0.05306249567952219,0.0058103924762656495,-0.039868134180728126,-0.08187218787401292,-0.11830504740258321,-0.14756752732225356,-0.16843605361995675,-0.18012123502583363],[-0.1801446545297837,-0.18233559039097344,-0.1752665961050691,-0.15904136091487175,-0.13421936300715656,-0.10179031338845618,-0.0631265026963309,-0.019915691575644292,0.025921773001301992,0.07232710218505171,0.11720338291232232,0.15851669454452746,0.1943926655354523,0.2232034254780841,0.24364050109720906,0.25477004091850136,0.2560677827399544,0.24743234013685533,0.22917661128094333,0.20199833430642128,0.16693195814109418,0.12528500092613942,0.07856287339249271,0.02838670735216783,-0.02359098016854476,-0.0757679524450742,-0.12666669235949252,-0.17499760171649797,-0.21970771693043264,-0.26001264723920775,-0.29541051237375787,-0.32567778292945404,-0.35084804028714445,-0.37117570680030565,-0.38708768931988075,-0.3991265770886398,-0.407889497747319,-0.41396693622794944,-0.417885750201407,-0.4200602785751461,-0.4207548585159486,-0.4200602785751461,-0.417885750201407,-0.41396693622794944,-0.407889497747319,-0.3991265770886398,-0.38708768931988075,-0.37117570680030565,-0.35084804028714445,-0.32567778292945404,-0.29541051237375787,-0.26001264723920775,-0.21970771693043264,-0.17499760171649797,-0.12666669235949252,-0.0757679524450742,-0.02359098016854476,0.02838670735216783,0.07856287339249271,0.12528500092613942,0.16693195814109418,0.20199833430642128,0.22917661128094333,0.24743234013685533,0.2560677827399544,0.25477004091850136,0.24364050109720906,0.2232034254780841,0.1943926655354523,0.15851669454452746,0.11720338291232232,0.07232710218505171,0.025921773001301992,-0.019915691575644292,-0.0631265026963309,-0.10179031338845618,-0.13421936300715656,-0.15904136091487175,-0.1752665961050691,-0.18233559039097344],[-0.17584069010379264,-0.18239300622958532,-0.1800313728705813,-0.16865061331126227,-0.14858307017251748,-0.12058300781296416,-0.0857896329957062,-0.045670869380806056,-0.001951040868825416,0.043473546354522816,0.08862652853638416,0.13154597877649798,0.17037647050011584,0.20345392533496165,0.22937894091767205,0.24707500803079696,0.25582893038458626,0.2553118000893658,0.2455799958764798,0.2270567942100705,0.20049625055173417,0.16693195814109418,0.12761407121954643,0.08393854575868848,0.037372873633869375,-0.010617349295218181,-0.05863687417657578,-0.10542055787501849,-0.14988136590815446,-0.19114437378651342,-0.22856545626592412,-0.2617343483375656,-0.29046275344788247,-0.31475910259630246,-0.33479237619194996,-0.35084804028714445,-0.3632795822101567,-0.37245933283868765,-0.3787322233669178,-0.382375848005458,-0.3835697098652554,-0.382375848005458,-0.3787322233669178,-0.37245933283868765,-0.3632795822101567,-0.35084804028714445,-0.33479237619194996,-0.31475910259630246,-0.29046275344788247,-0.2617343483375656,-0.22856545626592412,-0.19114437378651342,-0.14988136590815446,-0.10542055787501849,-0.05863687417657578,-0.010617349295218181,0.037372873633869375,0.08393854575868848,0.12761407121954643,0.16693195814109418,0.20049625055173417,0.2270567942100705,0.2455799958764798,0.2553118000893658,0.25582893038458626,0.24707500803079696,0.22937894091767205,0.20345392533496165,0.17037647050011584,0.13154597877649798,0.08862652853638416,0.043473546354522816,-0.001951040868825416,-0.045670869380806056,-0.0857896329957062,-0.12058300781296416,-0.14858307017251748,-0.16865061331126227,-0.1800313728705813,-0.18239300622958532],[-0.16923416092386775,-0.1800597155006458,-0.18242166855756492,-0.1760159755489718,-0.1609539875623888,-0.1377563081818195,-0.10732612754693129,-0.07090368426500879,-0.030004497243790427,0.013655158230898757,0.058241427706856384,0.1018902143955224,0.14279404657238684,0.1792839709402817,0.20990234059772522,0.23346296309158113,0.24909585663212155,0.2562747828163765,0.2548267267047997,0.24492352037505036,0.2270567942100705,0.20199833430642128,0.17074867404778504,0.134477311926808,0.09445829662141196,0.05200503792795912,0.00840808631479302,-0.03512071345143313,-0.07749482277960204,-0.1177881852505473,-0.15525760655490364,-0.18935183535374994,-0.21970771693043264,-0.24613461781837798,-0.268589046149572,-0.28714197491104243,-0.30194177876754097,-0.31317589634427284,-0.3210343185560354,-0.32567778292945404,-0.32721314035298743,-0.32567778292945404,-0.3210343185560354,-0.31317589634427284,-0.30194177876754097,-0.28714197491104243,-0.268589046149572,-0.24613461781837798,-0.21970771693043264,-0.18935183535374994,-0.15525760655490364,-0.1177881852505473,-0.07749482277960204,-0.03512071345143313,0.00840808631479302,0.05200503792795912,0.09445829662141196,0.134477311926808,0.17074867404778504,0.20199833430642128,0.2270567942100705,0.24492352037505036,0.2548267267047997,0.2562747828163765,0.24909585663212155,0.23346296309158113,0.20990234059772522,0.1792839709402817,0.14279404657238684,0.1018902143955224,0.058241427706856384,0.013655158230898757,-0.030004497243790427,-0.07090368426500879,-0.10732612754693129,-0.1377563081818195,-0.1609539875623888,-0.1760159755489718,-0.18242166855756492,-0.1800597155006458],[-0.16021647158282734,-0.1751457556394694,-0.1821644169794075,-0.18078273088932142,-0.17090060569317098,-0.1528102839666787,-0.1271795169340972,-0.0950164022704569,-0.05761803324395176,-0.016505930263581485,0.026648129724923395,0.07010183827093616,0.11212338767979044,0.15106960365711752,0.18545724476618586,0.21402402107025095,0.23577655069724138,0.25002327766855664,0.25639126767027576,0.2548267267047997,0.2455799958764798,0.22917661128094333,0.2063767337439853,0.17812580971586786,0.14549969299473817,0.1096476200446325,0.07173638515428266,0.032898814044057145,-0.005810793613848673,-0.043452159632214875,-0.0792240541655952,-0.11247819731414006,-0.1427221428215067,-0.1696119802323752,-0.1929363397545002,-0.2125937105436689,-0.22856545626592412,-0.24088710992360066,-0.24962054293732017,-0.254829433326894,-0.2565601183892334,-0.254829433326894,-0.24962054293732017,-0.24088710992360066,-0.22856545626592412,-0.2125937105436689,-0.1929363397545002,-0.1696119802323752,-0.1427221428215067,-0.11247819731414006,-0.0792240541655952,-0.043452159632214875,-0.005810793613848673,0.032898814044057145,0.07173638515428266,0.1096476200446325,0.14549969299473817,0.17812580971586786,0.2063767337439853,0.22917661128094333,0.2455799958764798,0.2548267267047997,0.25639126767027576,0.25002327766855664,0.23577655069724138,0.21402402107025095,0.18545724476618586,0.15106960365711752,0.11212338767979044,0.07010183827093616,0.026648129724923395,-0.016505930263581485,-0.05761803324395176,-0.0950164022704569,-0.1271795169340972,-0.1528102839666787,-0.17090060569317098,-0.18078273088932142,-0.1821644169794075,-0.1751457556394694],[-0.1487375524385824,-0.16751643729146143,-0.17903560277058095,-0.1826358700412797,-0.17801860199902664,-0.16525654180237792,-0.14478624788034108,-0.11738288358628372,-0.08411903827788304,-0.046310064114579955,-0.005449066140771361,0.03686485131708162,0.07900122348247962,0.11937185506223688,0.15649972810645998,0.1890798565922851,0.21602931256266372,0.2365243422174828,0.25002327766855664,0.2562747828163765,0.2553118000893658,0.24743234013685533,0.23316893482082693,0.21324911772700825,0.18854967763954522,0.16004763127913005,0.12877087581897034,0.0957513146109,0.06198291759831892,0.02838670735216783,-0.004215913110515241,-0.03512071345143313,-0.06374895250625122,-0.08964697741323371,-0.11247819731414006,-0.132008995765264,-0.14809048863531396,-0.16063822727306362,-0.1696119802323752,-0.17499760171649797,-0.17679272260843765,-0.17499760171649797,-0.1696119802323752,-0.16063822727306362,-0.14809048863531396,-0.132008995765264,-0.11247819731414006,-0.08964697741323371,-0.06374895250625122,-0.03512071345143313,-0.004215913110515241,0.02838670735216783,0.06198291759831892,0.0957513146109,0.12877087581897034,0.16004763127913005,0.18854967763954522,0.21324911772700825,0.23316893482082693,0.24743234013685533,0.2553118000893658,0.2562747828163765,0.25002327766855664,0.2365243422174828,0.21602931256266372,0.1890798565922851,0.15649972810645998,0.11937185506223688,0.07900122348247962,0.03686485131708162,-0.005449066140771361,-0.046310064114579955,-0.08411903827788304,-0.11738288358628372,-0.14478624788034108,-0.16525654180237792,-0.17801860199902664,-0.1826358700412797,-0.17903560277058095,-0.16751643729146143],[-0.13481430178982187,-0.15710321083861073,-0.17287351607260817,-0.18131560690315682,-0.18194839266053625,-0.17463748569481502,-0.15959621882048483,-0.13736985507049018,-0.10880422217787396,-0.0750007897964791,-0.03726086233570953,0.0029779491154211806,0.044209509361482956,0.08492762656935865,0.12369173187889267,0.15918658398472915,0.1902732638436695,0.21602931256266372,0.23577655069724138,0.24909585663212155,0.25582893038458626,0.2560677827399544,0.25013332713993036,0.23854497801642713,0.22198354690007724,0.20124995852555586,0.17722237538812438,0.15081422331281308,0.12293536517635703,0.09445829662141196,0.0661907655654817,0.03885568116655977,0.013078615468659323,-0.010617349295218181,-0.03181017613329085,-0.050171999808914604,-0.06545830501430487,-0.07749482277960204,-0.08616386191642225,-0.09139170665445415,-0.09313849939964196,-0.09139170665445415,-0.08616386191642225,-0.07749482277960204,-0.06545830501430487,-0.050171999808914604,-0.03181017613329085,-0.010617349295218181,0.013078615468659323,0.03885568116655977,0.0661907655654817,0.09445829662141196,0.12293536517635703,0.15081422331281308,0.17722237538812438,0.20124995852555586,0.22198354690007724,0.23854497801642713,0.25013332713993036,0.2560677827399544,0.25582893038458626,0.24909585663212155,0.23577655069724138,0.21602931256266372,0.1902732638436695,0.15918658398472915,0.12369173187889267,0.08492762656935865,0.044209509361482956,0.0029779491154211806,-0.03726086233570953,-0.0750007897964791,-0.10880422217787396,-0.13736985507049018,-0.15959621882048483,-0.17463748569481502,-0.18194839266053625,-0.18131560690315682,-0.17287351607260817,-0.15710321083861073],[-0.11853755153953284,-0.14391335124448024,-0.163591222139663,-0.17663261032673944,-0.18239300622958532,-0.18054660691367944,-0.17109514979541934,-0.1543609103022869,-0.13096468174943518,-0.10179031338845618,-0.06793803188546253,-0.03066927919323432,0.008653858363151095,0.04863139306208121,0.0878871354792479,0.12512633286074154,0.15918658398472915,0.1890798565922851,0.21402402107025095,0.23346296309158113,0.24707500803079696,0.25477004091850136,0.2566762997375786,0.25311832399967577,0.24458792842044305,0.2317103248693539,0.2152076253393881,0.19586192453391038,0.17447999195279823,0.15186131748507978,0.12877087581897034,0.10591753298818528,0.08393854575868848,0.06339013493636744,0.044743679368913644,0.02838670735216783,0.014627580006334946,0.0037025838949493145,-0.004215913110515241,-0.009011537058698997,-0.010617349295218181,-0.009011537058698997,-0.004215913110515241,0.0037025838949493145,0.014627580006334946,0.02838670735216783,0.044743679368913644,0.06339013493636744,0.08393854575868848,0.10591753298818528,0.12877087581897034,0.15186131748507978,0.17447999195279823,0.19586192453391038,0.2152076253393881,0.2317103248693539,0.24458792842044305,0.25311832399967577,0.2566762997375786,0.25477004091850136,0.24707500803079696,0.23346296309158113,0.21402402107025095,0.1890798565922851,0.15918658398472915,0.12512633286074154,0.0878871354792479,0.04863139306208121,0.008653858363151095,-0.03066927919323432,-0.06793803188546253,-0.10179031338845618,-0.13096468174943518,-0.1543609103022869,-0.17109514979541934,-0.18054660691367944,-0.18239300622958532,-0.17663261032673944,-0.163591222139663,-0.14391335124448024],[-0.10007704610444179,-0.12803786284735597,-0.1511875643863488,-0.16848219583369567,-0.17913546063850083,-0.18264893898060253,-0.1788278960809016,-0.16778234479339135,-0.1499137997580331,-0.1258888846262905,-0.09660159075517502,-0.0631265026963309,-0.026665677985416577,0.011507919583092052,0.05010748884225075,0.0878871354792479,0.12369173187889267,0.15649972810645998,0.18545724476618586,0.20990234059772522,0.22937894091767205,0.24364050109720906,0.25264402764959015,0.25653555744366946,0.25562857790064414,0.25037713957121355,0.2413455569066888,0.22917661128094333,0.21456006847846779,0.1982031145119569,0.18080401871815463,0.1630299764243758,0.14549969299473817,0.12877087581897034,0.11333242903336226,0.09960082298540655,0.08791985781076668,0.07856287339249271,0.07173638515428266,0.06758414818694233,0.0661907655654817,0.06758414818694233,0.07173638515428266,0.07856287339249271,0.08791985781076668,0.09960082298540655,0.11333242903336226,0.12877087581897034,0.14549969299473817,0.1630299764243758,0.18080401871815463,0.1982031145119569,0.21456006847846779,0.22917661128094333,0.2413455569066888,0.25037713957121355,0.25562857790064414,0.25653555744366946,0.25264402764959015,0.24364050109720906,0.22937894091767205,0.20990234059772522,0.18545724476618586,0.15649972810645998,0.12369173187889267,0.0878871354792479,0.05010748884225075,0.011507919583092052,-0.026665677985416577,-0.0631265026963309,-0.09660159075517502,-0.1258888846262905,-0.1499137997580331,-0.16778234479339135,-0.1788278960809016,-0.18264893898060253,-0.17913546063850083,-0.16848219583369567,-0.1511875643863488,-0.12803786284735597],[-0.07968395387291566,-0.10965701691843574,-0.13575600794040762,-0.15685668268767797,-0.17205475511311313,-0.1807007071005138,-0.18242166855756492,-0.17712974307464055,-0.16501687105976595,-0.14653700801271363,-0.12237701362727325,-0.09341816596346665,-0.060690608986011814,-0.02532329427921568,0.011507919583092052,0.04863139306208121,0.08492762656935865,0.11937185506223688,0.15106960365711752,0.1792839709402817,0.20345392533496165,0.2232034254780841,0.2383416766936446,0.24885528388828942,0.254893432701845,0.25674750760048576,0.2548267267047997,0.24963143467045815,0.24172565029557566,0.2317103248693539,0.22019854657881394,0.20779364608280457,0.19507084218595108,0.18256273925541686,0.17074867404778504,0.16004763127913005,0.15081422331281308,0.1433370736825879,0.13783886506830845,0.134477311926808,0.1333463922312941,0.134477311926808,0.13783886506830845,0.1433370736825879,0.15081422331281308,0.16004763127913005,0.17074867404778504,0.18256273925541686,0.19507084218595108,0.20779364608280457,0.22019854657881394,0.2317103248693539,0.24172565029557566,0.24963143467045815,0.2548267267047997,0.25674750760048576,0.254893432701845,0.24885528388828942,0.2383416766936446,0.2232034254780841,0.20345392533496165,0.1792839709402817,0.15106960365711752,0.11937185506223688,0.08492762656935865,0.04863139306208121,0.011507919583092052,-0.02532329427921568,-0.060690608986011814,-0.09341816596346665,-0.12237701362727325,-0.14653700801271363,-0.16501687105976595,-0.17712974307464055,-0.18242166855756492,-0.1807007071005138,-0.17205475511311313,-0.15685668268767797,-0.13575600794040762,-0.10965701691843574],[-0.05769048962428924,-0.08904297911487404,-0.11749065565570795,-0.14185512230149663,-0.16113955966514656,-0.17456713788189782,-0.18160802037610754,-0.18199408570471504,-0.17572115154133375,-0.16303912773542587,-0.14443111863131364,-0.12058300781296416,-0.09234546620178369,-0.060690608986011814,-0.026665677985416577,0.008653858363151095,0.044209509361482956,0.07900122348247962,0.11212338767979044,0.14279404657238684,0.17037647050011584,0.1943926655354523,0.2145288714461612,0.23063350923189954,0.242708395806646,0.2508943222213973,0.2554522819126627,0.2567417315441088,0.25519727019112654,0.25130504004127213,0.2455799958764798,0.23854497801642713,0.23071227369415245,0.2225680860000738,0.21456006847846779,0.2070878465419809,0.20049625055173417,0.19507084218595108,0.19103523332295086,0.18854967763954522,0.18771045677679687,0.18854967763954522,0.19103523332295086,0.19507084218595108,0.20049625055173417,0.2070878465419809,0.21456006847846779,0.2225680860000738,0.23071227369415245,0.23854497801642713,0.2455799958764798,0.25130504004127213,0.25519727019112654,0.2567417315441088,0.2554522819126627,0.2508943222213973,0.242708395806646,0.23063350923189954,0.2145288714461612,0.1943926655354523,0.17037647050011584,0.14279404657238684,0.11212338767979044,0.07900122348247962,0.044209509361482956,0.008653858363151095,-0.026665677985416577,-0.060690608986011814,-0.09234546620178369,-0.12058300781296416,-0.14443111863131364,-0.16303912773542587,-0.17572115154133375,-0.18199408570471504,-0.18160802037610754,-0.17456713788189782,-0.16113955966514656,-0.14185512230149663,-0.11749065565570795,-0.08904297911487404],[-0.0345063152690242,-0.06655906279410359,-0.09668883252747353,-0.12368964794720452,-0.1464987033293174,-0.1642373823959323,-0.17624240938958516,-0.18208605074549258,-0.18158488243001691,-0.1747972342928682,-0.16200998595397612,-0.1437158894806465,-0.12058300781296416,-0.09341816596346665,-0.0631265026963309,-0.03066927919323432,0.0029779491154211806,0.03686485131708162,0.07010183827093616,0.1018902143955224,0.13154597877649798,0.15851669454452746,0.18239124981424537,0.20290271423033404,0.21992483146863692,0.23346296309158113,0.24364050109720906,0.2506818889186662,0.254893432701845,0.2566430509401283,0.2563400102730029,0.25441554164532254,0.25130504004127213,0.24743234013685533,0.2431963471432226,0.23896010343988033,0.23504220166614895,0.2317103248693539,0.22917661128094333,0.22759450814784551,0.2270567942100705,0.22759450814784551,0.22917661128094333,0.2317103248693539,0.23504220166614895,0.23896010343988033,0.2431963471432226,0.24743234013685533,0.25130504004127213,0.25441554164532254,0.2563400102730029,0.2566430509401283,0.254893432701845,0.2506818889186662,0.24364050109720906,0.23346296309158113,0.21992483146863692,0.20290271423033404,0.18239124981424537,0.15851669454452746,0.13154597877649798,0.1018902143955224,0.07010183827093616,0.03686485131708162,0.0029779491154211806,-0.03066927919323432,-0.0631265026963309,-0.09341816596346665,-0.12058300781296416,-0.1437158894806465,-0.16200998595397612,-0.1747972342928682,-0.18158488243001691,-0.18208605074549258,-0.17624240938958516,-0.1642373823959323,-0.1464987033293174,-0.12368964794720452,-0.09668883252747353,-0.06655906279410359],[-0.01061150357619211,-0.042655257000177006,-0.07374973820785838,-0.10268778525178764,-0.1283676319466868,-0.14983554931501694,-0.16632015713858264,-0.17725715646546372,-0.18230376872794093,-0.18134271385500067,-0.17447608825271163,-0.16200998595397612,-0.14443111863131364,-0.12237701362727325,-0.09660159075517502,-0.06793803188546253,-0.03726086233570953,-0.005449066140771361,0.026648129724923395,0.058241427706856384,0.08862652853638416,0.11720338291232232,0.14348926836260514,0.16712567793535366,0.18787932061729182,0.20563779959612533,0.22040074178662336,0.23226729318028777,0.24142096714711753,0.24811283911536614,0.25264402764959015,0.255348298963932,0.256575492104657,0.2566762997375786,0.2559887694405144,0.2548267267047997,0.25347017586536014,0.252157618714697,0.25108014921898075,0.25037713957121355,0.25013332713993036,0.25037713957121355,0.25108014921898075,0.252157618714697,0.25347017586536014,0.2548267267047997,0.2559887694405144,0.2566762997375786,0.256575492104657,0.255348298963932,0.25264402764959015,0.24811283911536614,0.24142096714711753,0.23226729318028777,0.22040074178662336,0.20563779959612533,0.18787932061729182,0.16712567793535366,0.14348926836260514,0.11720338291232232,0.08862652853638416,0.058241427706856384,0.026648129724923395,-0.005449066140771361,-0.03726086233570953,-0.06793803188546253,-0.09660159075517502,-0.12237701362727325,-0.14443111863131364,-0.16200998595397612,-0.17447608825271163,-0.18134271385500067,-0.18230376872794093,-0.17725715646546372,-0.16632015713858264,-0.14983554931501694,-0.1283676319466868,-0.10268778525178764,-0.07374973820785838,-0.042655257000177006],[0.013454008098850966,-0.017859822184363938,-0.04916880920228074,-0.07929019757294747,-0.10711012813756442,-0.1316269478872783,-0.15198770280837584,-0.16751643729146143,-0.17773339606034183,-0.18236471957976835,-0.18134271385500067,-0.1747972342928682,-0.16303912773542587,-0.14653700801271363,-0.1258888846262905,-0.10179031338845618,-0.0750007897964791,-0.046310064114579955,-0.016505930263581485,0.013655158230898757,0.043473546354522816,0.07232710218505171,0.09968670899986165,0.12512633286074154,0.14832776112580212,0.16908036038891633,0.18727640924644018,0.20290271423033404,0.21602931256266372,0.22679610352037188,0.23539823538075702,0.2420710146043941,0.24707500803079696,0.2506818889186662,0.2531614457800734,0.25477004091850136,0.2557406839380664,0.2562747828163765,0.25653555744366946,0.2566430509401283,0.2566706526738519,0.2566430509401283,0.25653555744366946,0.2562747828163765,0.2557406839380664,0.25477004091850136,0.2531614457800734,0.2506818889186662,0.24707500803079696,0.2420710146043941,0.23539823538075702,0.22679610352037188,0.21602931256266372,0.20290271423033404,0.18727640924644018,0.16908036038891633,0.14832776112580212,0.12512633286074154,0.09968670899986165,0.07232710218505171,0.043473546354522816,0.013655158230898757,-0.016505930263581485,-0.046310064114579955,-0.0750007897964791,-0.10179031338845618,-0.1258888846262905,-0.14653700801271363,-0.16303912773542587,-0.1747972342928682,-0.18134271385500067,-0.18236471957976835,-0.17773339606034183,-0.16751643729146143,-0.15198770280837584,-0.1316269478872783,-0.10711012813756442,-0.07929019757294747,-0.04916880920228074,-0.017859822184363938],[0.037104384846577534,0.007233082355737275,-0.023527608249201665,-0.054043516875550875,-0.08321475815193494,-0.11001880232017779,-0.13354819579908725,-0.15304146672549196,-0.167906160972842,-0.17773339606034183,-0.18230376872794093,-0.18158488243001691,-0.17572115154133375,-0.16501687105976595,-0.1499137997580331,-0.13096468174943518,-0.10880422217787396,-0.08411903827788304,-0.05761803324395176,-0.030004497243790427,-0.001951040868825416,0.025921773001301992,0.05306249567952219,0.07900122348247962,0.10335731863015635,0.1258425822940911,0.14626024334832619,0.16450028494360933,0.18053174205108255,0.1943926655354523,0.2061784643801796,0.21602931256266372,0.22411724822563847,0.23063350923189954,0.23577655069724138,0.23974108638511749,0.242708395806646,0.24483804991090946,0.24626113579560338,0.24707500803079696,0.24733956165584545,0.24707500803079696,0.24626113579560338,0.24483804991090946,0.242708395806646,0.23974108638511749,0.23577655069724138,0.23063350923189954,0.22411724822563847,0.21602931256266372,0.2061784643801796,0.1943926655354523,0.18053174205108255,0.16450028494360933,0.14626024334832619,0.1258425822940911,0.10335731863015635,0.07900122348247962,0.05306249567952219,0.025921773001301992,-0.001951040868825416,-0.030004497243790427,-0.05761803324395176,-0.08411903827788304,-0.10880422217787396,-0.13096468174943518,-0.1499137997580331,-0.16501687105976595,-0.17572115154133375,-0.18158488243001691,-0.18230376872794093,-0.17773339606034183,-0.167906160972842,-0.15304146672549196,-0.13354819579908725,-0.11001880232017779,-0.08321475815193494,-0.054043516875550875,-0.023527608249201665,0.007233082355737275],[0.059725017515438364,0.03197958453286062,0.0025207381574719806,-0.027588123185645037,-0.0572857273340844,-0.08555491563889543,-0.1114606806231028,-0.13418273806183595,-0.15304146672549196,-0.16751643729146143,-0.17725715646546372,-0.18208605074549258,-0.18199408570471504,-0.17712974307464055,-0.16778234479339135,-0.1543609103022869,-0.13736985507049018,-0.11738288358628372,-0.0950164022704569,-0.07090368426500879,-0.045670869380806056,-0.019915691575644292,0.0058103924762656495,0.031016232090896562,0.05528095770522729,0.07825990831739421,0.09968670899986165,0.11937185506223688,0.13719827990417027,0.15311446345017118,0.16712567793535366,0.1792839709402817,0.18967745729212915,0.19841943861188654,0.20563779959612533,0.21146505144444128,0.21602931256266372,0.21944644111666822,0.22181346801290225,0.2232034254780841,0.22366162672468853,0.2232034254780841,0.22181346801290225,0.21944644111666822,0.21602931256266372,0.21146505144444128,0.20563779959612533,0.19841943861188654,0.18967745729212915,0.1792839709402817,0.16712567793535366,0.15311446345017118,0.13719827990417027,0.11937185506223688,0.09968670899986165,0.07825990831739421,0.05528095770522729,0.031016232090896562,0.0058103924762656495,-0.019915691575644292,-0.045670869380806056,-0.07090368426500879,-0.0950164022704569,-0.11738288358628372,-0.13736985507049018,-0.1543609103022869,-0.16778234479339135,-0.17712974307464055,-0.18199408570471504,-0.18208605074549258,-0.17725715646546372,-0.16751643729146143,-0.15304146672549196,-0.13418273806183595,-0.1114606806231028,-0.08555491563889543,-0.0572857273340844,-0.027588123185645037,0.0025207381574719806,0.03197958453286062],[0.08069235790121831,0.05570574218106777,0.028270310898122826,-0.0006409754282528475,-0.03002807965783915,-0.05890402451081101,-0.08633239590937543,-0.1114606806231028,-0.13354819579908725,-0.15198770280837584,-0.16632015713858264,-0.17624240938958516,-0.18160802037610754,-0.18242166855756492,-0.1788278960809016,-0.17109514979541934,-0.15959621882048483,-0.14478624788034108,-0.1271795169340972,-0.10732612754693129,-0.0857896329957062,-0.0631265026963309,-0.039868134180728126,-0.016505930263581485,0.0065202421682302655,0.02883009042098063,0.05010748884225075,0.07010183827093616,0.08862652853638416,0.10555493165712146,0.12081441070397907,0.13437885433763305,0.14626024334832619,0.15649972810645998,0.16515865057394133,0.17230988766358785,0.17802983029511174,0.18239124981424537,0.18545724476618586,0.18727640924644018,0.18787932061729182,0.18727640924644018,0.18545724476618586,0.18239124981424537,0.17802983029511174,0.17230988766358785,0.16515865057394133,0.15649972810645998,0.14626024334832619,0.13437885433763305,0.12081441070397907,0.10555493165712146,0.08862652853638416,0.07010183827093616,0.05010748884225075,0.02883009042098063,0.0065202421682302655,-0.016505930263581485,-0.039868134180728126,-0.0631265026963309,-0.0857896329957062,-0.10732612754693129,-0.1271795169340972,-0.14478624788034108,-0.15959621882048483,-0.17109514979541934,-0.1788278960809016,-0.18242166855756492,-0.18160802037610754,-0.17624240938958516,-0.16632015713858264,-0.15198770280837584,-0.13354819579908725,-0.1114606806231028,-0.08633239590937543,-0.05890402451081101,-0.03002807965783915,-0.0006409754282528475,0.028270310898122826,0.05570574218106777],[0.0993958462307399,0.07773008237271903,0.05298490441364873,0.026026147564044762,-0.0022274559793407315,-0.030841885736018544,-0.05890402451081101,-0.08555491563889543,-0.11001880232017779,-0.1316269478872783,-0.14983554931501694,-0.1642373823959323,-0.17456713788189782,-0.1807007071005138,-0.18264893898060253,-0.18054660691367944,-0.17463748569481502,-0.16525654180237792,-0.1528102839666787,-0.1377563081818195,-0.12058300781296416,-0.10179031338845618,-0.08187218787401292,-0.061301442485772274,-0.040517266401149735,-0.019915691575644292,0.0001569493213448689,0.019407660252202565,0.03759772656874239,0.054541276561040686,0.07010183827093616,0.08418731130237875,0.09674378883254962,0.10774865812501504,0.11720338291232232,0.12512633286074154,0.13154597877649798,0.13649472168344115,0.14000357308347133,0.14209785531573388,0.14279404657238684,0.14209785531573388,0.14000357308347133,0.13649472168344115,0.13154597877649798,0.12512633286074154,0.11720338291232232,0.10774865812501504,0.09674378883254962,0.08418731130237875,0.07010183827093616,0.054541276561040686,0.03759772656874239,0.019407660252202565,0.0001569493213448689,-0.019915691575644292,-0.040517266401149735,-0.061301442485772274,-0.08187218787401292,-0.10179031338845618,-0.12058300781296416,-0.1377563081818195,-0.1528102839666787,-0.16525654180237792,-0.17463748569481502,-0.18054660691367944,-0.18264893898060253,-0.1807007071005138,-0.17456713788189782,-0.1642373823959323,-0.14983554931501694,-0.1316269478872783,-0.11001880232017779,-0.08555491563889543,-0.05890402451081101,-0.030841885736018544,-0.0022274559793407315,0.026026147564044762,0.05298490441364873,0.07773008237271903],[0.11526115097856117,0.09738828403656238,0.0759235678781371,0.05161237775613617,0.025275083284098894,-0.0022274559793407315,-0.03002807965783915,-0.0572857273340844,-0.08321475815193494,-0.10711012813756442,-0.1283676319466868,-0.1464987033293174,-0.16113955966514656,-0.17205475511311313,-0.17913546063850083,-0.18239300622958532,-0.18194839266053625,-0.17801860199902664,-0.17090060569317098,-0.1609539875623888,-0.14858307017251748,-0.13421936300715656,-0.11830504740258321,-0.10127808535368477,-0.08355939645450051,-0.06554239869174844,-0.04758506314163741,-0.030004497243790427,-0.013073952151520388,0.0029779491154211806,0.017966041941118966,0.031745840459068614,0.044209509361482956,0.05528095770522729,0.0649104168254659,0.07306884206017318,0.07974244535617742,0.08492762656935865,0.08862652853638416,0.09084339726921295,0.09158188560927924,0.09084339726921295,0.08862652853638416,0.08492762656935865,0.07974244535617742,0.07306884206017318,0.0649104168254659,0.05528095770522729,0.044209509361482956,0.031745840459068614,0.017966041941118966,0.0029779491154211806,-0.013073952151520388,-0.030004497243790427,-0.04758506314163741,-0.06554239869174844,-0.08355939645450051,-0.10127808535368477,-0.11830504740258321,-0.13421936300715656,-0.14858307017251748,-0.1609539875623888,-0.17090060569317098,-0.17801860199902664,-0.18194839266053625,-0.18239300622958532,-0.17913546063850083,-0.17205475511311313,-0.16113955966514656,-0.1464987033293174,-0.1283676319466868,-0.10711012813756442,-0.08321475815193494,-0.0572857273340844,-0.03002807965783915,-0.0022274559793407315,0.025275083284098894,0.05161237775613617,0.0759235678781371,0.09738828403656238],[0.12777380562398274,0.11405907878471819,0.09636827159298987,0.07531659368730659,0.05161237775613617,0.026026147564044762,-0.0006409754282528475,-0.027588123185645037,-0.054043516875550875,-0.07929019757294747,-0.10268778525178764,-0.12368964794720452,-0.14185512230149663,-0.15685668268767797,-0.16848219583369567,-0.17663261032673944,-0.18131560690315682,-0.1826358700412797,-0.18078273088932142,-0.1760159755489718,-0.16865061331126227,-0.15904136091487175,-0.14756752732225356,-0.13461888616197776,-0.12058300781296416,-0.10583439818051152,-0.0907256642328181,-0.07558080422426758,-0.060690608986011814,-0.046310064114579955,-0.032657564269347995,-0.019915691575644292,-0.00823327044894154,0.0022716100207446164,0.011507919583092052,0.019407660252202565,0.025921773001301992,0.031016232090896562,0.03466854669458865,0.03686485131708162,0.03759772656874239,0.03686485131708162,0.03466854669458865,0.031016232090896562,0.025921773001301992,0.019407660252202565,0.011507919583092052,0.0022716100207446164,-0.00823327044894154,-0.019915691575644292,-0.032657564269347995,-0.046310064114579955,-0.060690608986011814,-0.07558080422426758,-0.0907256642328181,-0.10583439818051152,-0.12058300781296416,-0.13461888616197776,-0.14756752732225356,-0.15904136091487175,-0.16865061331126227,-0.1760159755489718,-0.18078273088932142,-0.1826358700412797,-0.18131560690315682,-0.17663261032673944,-0.16848219583369567,-0.15685668268767797,-0.14185512230149663,-0.12368964794720452,-0.10268778525178764,-0.07929019757294747,-0.054043516875550875,-0.027588123185645037,-0.0006409754282528475,0.026026147564044762,0.05161237775613617,0.07531659368730659,0.09636827159298987,0.11405907878471819],[0.13650222610828716,0.12719030582037316,0.1136526088802527,0.09636827159298987,0.0759235678781371,0.05298490441364873,0.028270310898122826,0.0025207381574719806,-0.023527608249201665,-0.04916880920228074,-0.07374973820785838,-0.09668883252747353,-0.11749065565570795,-0.13575600794040762,-0.1511875643863488,-0.163591222139663,-0.17287351607260817,-0.17903560277058095,-0.1821644169794075,-0.18242166855756492,-0.1800313728705813,-0.1752665961050691,-0.16843605361995675,-0.15987112992755653,-0.1499137997580331,-0.13890582780165694,-0.1271795169340972,-0.11505016730310495,-0.10281030706494565,-0.0907256642328181,-0.07903277128303789,-0.06793803188546253,-0.05761803324395176,-0.04822085787410071,-0.039868134180728126,-0.032657564269347995,-0.026665677985416577,-0.021950582012676394,-0.01855449981019833,-0.016505930263581485,-0.015821288518275644,-0.016505930263581485,-0.01855449981019833,-0.021950582012676394,-0.026665677985416577,-0.032657564269347995,-0.039868134180728126,-0.04822085787410071,-0.05761803324395176,-0.06793803188546253,-0.07903277128303789,-0.0907256642328181,-0.10281030706494565,-0.11505016730310495,-0.1271795169340972,-0.13890582780165694,-0.1499137997580331,-0.15987112992755653,-0.16843605361995675,-0.1752665961050691,-0.1800313728705813,-0.18242166855756492,-0.1821644169794075,-0.17903560277058095,-0.17287351607260817,-0.163591222139663,-0.1511875643863488,-0.13575600794040762,-0.11749065565570795,-0.09668883252747353,-0.07374973820785838,-0.04916880920228074,-0.023527608249201665,0.0025207381574719806,0.028270310898122826,0.05298490441364873,0.0759235678781371,0.09636827159298987,0.1136526088802527,0.12719030582037316],[0.14111903500315878,0.13632396086944565,0.12719030582037316,0.11405907878471819,0.09738828403656238,0.07773008237271903,0.05570574218106777,0.03197958453286062,0.007233082355737275,-0.017859822184363938,-0.042655257000177006,-0.06655906279410359,-0.08904297911487404,-0.10965701691843574,-0.12803786284735597,-0.14391335124448024,-0.15710321083861073,-0.16751643729146143,-0.1751457556394694,-0.1800597155006458,-0.18239300622958532,-0.18233559039097344,-0.18012123502583363,-0.1760159755489718,-0.17030698199702413,-0.16329221750830802,-0.15527119023634722,-0.14653700801271363,-0.13736985507049018,-0.12803192632998142,-0.11876378051842666,-0.10978201113265723,-0.10127808535368477,-0.09341816596346665,-0.08634370978474622,-0.08017262722723162,-0.0750007897964791,-0.07090368426500879,-0.06793803188546253,-0.06614321685638791,-0.06554239869174844,-0.06614321685638791,-0.06793803188546253,-0.07090368426500879,-0.0750007897964791,-0.08017262722723162,-0.08634370978474622,-0.09341816596346665,-0.10127808535368477,-0.10978201113265723,-0.11876378051842666,-0.12803192632998142,-0.13736985507049018,-0.14653700801271363,-0.15527119023634722,-0.16329221750830802,-0.17030698199702413,-0.1760159755489718,-0.18012123502583363,-0.18233559039097344,-0.18239300622958532,-0.1800597155006458,-0.1751457556394694,-0.16751643729146143,-0.15710321083861073,-0.14391335124448024,-0.12803786284735597,-0.10965701691843574,-0.08904297911487404,-0.06655906279410359,-0.042655257000177006,-0.017859822184363938,0.007233082355737275,0.03197958453286062,0.05570574218106777,0.07773008237271903,0.09738828403656238,0.11405907878471819,0.12719030582037316,0.13632396086944565]],\"type\":\"surface\"}],                        {\"legend\":{\"bgcolor\":\"#F5F6F9\",\"font\":{\"color\":\"#4D5663\"}},\"paper_bgcolor\":\"#F5F6F9\",\"plot_bgcolor\":\"#F5F6F9\",\"template\":{\"data\":{\"barpolar\":[{\"marker\":{\"line\":{\"color\":\"#E5ECF6\",\"width\":0.5},\"pattern\":{\"fillmode\":\"overlay\",\"size\":10,\"solidity\":0.2}},\"type\":\"barpolar\"}],\"bar\":[{\"error_x\":{\"color\":\"#2a3f5f\"},\"error_y\":{\"color\":\"#2a3f5f\"},\"marker\":{\"line\":{\"color\":\"#E5ECF6\",\"width\":0.5},\"pattern\":{\"fillmode\":\"overlay\",\"size\":10,\"solidity\":0.2}},\"type\":\"bar\"}],\"carpet\":[{\"aaxis\":{\"endlinecolor\":\"#2a3f5f\",\"gridcolor\":\"white\",\"linecolor\":\"white\",\"minorgridcolor\":\"white\",\"startlinecolor\":\"#2a3f5f\"},\"baxis\":{\"endlinecolor\":\"#2a3f5f\",\"gridcolor\":\"white\",\"linecolor\":\"white\",\"minorgridcolor\":\"white\",\"startlinecolor\":\"#2a3f5f\"},\"type\":\"carpet\"}],\"choropleth\":[{\"colorbar\":{\"outlinewidth\":0,\"ticks\":\"\"},\"type\":\"choropleth\"}],\"contourcarpet\":[{\"colorbar\":{\"outlinewidth\":0,\"ticks\":\"\"},\"type\":\"contourcarpet\"}],\"contour\":[{\"colorbar\":{\"outlinewidth\":0,\"ticks\":\"\"},\"colorscale\":[[0.0,\"#0d0887\"],[0.1111111111111111,\"#46039f\"],[0.2222222222222222,\"#7201a8\"],[0.3333333333333333,\"#9c179e\"],[0.4444444444444444,\"#bd3786\"],[0.5555555555555556,\"#d8576b\"],[0.6666666666666666,\"#ed7953\"],[0.7777777777777778,\"#fb9f3a\"],[0.8888888888888888,\"#fdca26\"],[1.0,\"#f0f921\"]],\"type\":\"contour\"}],\"heatmapgl\":[{\"colorbar\":{\"outlinewidth\":0,\"ticks\":\"\"},\"colorscale\":[[0.0,\"#0d0887\"],[0.1111111111111111,\"#46039f\"],[0.2222222222222222,\"#7201a8\"],[0.3333333333333333,\"#9c179e\"],[0.4444444444444444,\"#bd3786\"],[0.5555555555555556,\"#d8576b\"],[0.6666666666666666,\"#ed7953\"],[0.7777777777777778,\"#fb9f3a\"],[0.8888888888888888,\"#fdca26\"],[1.0,\"#f0f921\"]],\"type\":\"heatmapgl\"}],\"heatmap\":[{\"colorbar\":{\"outlinewidth\":0,\"ticks\":\"\"},\"colorscale\":[[0.0,\"#0d0887\"],[0.1111111111111111,\"#46039f\"],[0.2222222222222222,\"#7201a8\"],[0.3333333333333333,\"#9c179e\"],[0.4444444444444444,\"#bd3786\"],[0.5555555555555556,\"#d8576b\"],[0.6666666666666666,\"#ed7953\"],[0.7777777777777778,\"#fb9f3a\"],[0.8888888888888888,\"#fdca26\"],[1.0,\"#f0f921\"]],\"type\":\"heatmap\"}],\"histogram2dcontour\":[{\"colorbar\":{\"outlinewidth\":0,\"ticks\":\"\"},\"colorscale\":[[0.0,\"#0d0887\"],[0.1111111111111111,\"#46039f\"],[0.2222222222222222,\"#7201a8\"],[0.3333333333333333,\"#9c179e\"],[0.4444444444444444,\"#bd3786\"],[0.5555555555555556,\"#d8576b\"],[0.6666666666666666,\"#ed7953\"],[0.7777777777777778,\"#fb9f3a\"],[0.8888888888888888,\"#fdca26\"],[1.0,\"#f0f921\"]],\"type\":\"histogram2dcontour\"}],\"histogram2d\":[{\"colorbar\":{\"outlinewidth\":0,\"ticks\":\"\"},\"colorscale\":[[0.0,\"#0d0887\"],[0.1111111111111111,\"#46039f\"],[0.2222222222222222,\"#7201a8\"],[0.3333333333333333,\"#9c179e\"],[0.4444444444444444,\"#bd3786\"],[0.5555555555555556,\"#d8576b\"],[0.6666666666666666,\"#ed7953\"],[0.7777777777777778,\"#fb9f3a\"],[0.8888888888888888,\"#fdca26\"],[1.0,\"#f0f921\"]],\"type\":\"histogram2d\"}],\"histogram\":[{\"marker\":{\"pattern\":{\"fillmode\":\"overlay\",\"size\":10,\"solidity\":0.2}},\"type\":\"histogram\"}],\"mesh3d\":[{\"colorbar\":{\"outlinewidth\":0,\"ticks\":\"\"},\"type\":\"mesh3d\"}],\"parcoords\":[{\"line\":{\"colorbar\":{\"outlinewidth\":0,\"ticks\":\"\"}},\"type\":\"parcoords\"}],\"pie\":[{\"automargin\":true,\"type\":\"pie\"}],\"scatter3d\":[{\"line\":{\"colorbar\":{\"outlinewidth\":0,\"ticks\":\"\"}},\"marker\":{\"colorbar\":{\"outlinewidth\":0,\"ticks\":\"\"}},\"type\":\"scatter3d\"}],\"scattercarpet\":[{\"marker\":{\"colorbar\":{\"outlinewidth\":0,\"ticks\":\"\"}},\"type\":\"scattercarpet\"}],\"scattergeo\":[{\"marker\":{\"colorbar\":{\"outlinewidth\":0,\"ticks\":\"\"}},\"type\":\"scattergeo\"}],\"scattergl\":[{\"marker\":{\"colorbar\":{\"outlinewidth\":0,\"ticks\":\"\"}},\"type\":\"scattergl\"}],\"scattermapbox\":[{\"marker\":{\"colorbar\":{\"outlinewidth\":0,\"ticks\":\"\"}},\"type\":\"scattermapbox\"}],\"scatterpolargl\":[{\"marker\":{\"colorbar\":{\"outlinewidth\":0,\"ticks\":\"\"}},\"type\":\"scatterpolargl\"}],\"scatterpolar\":[{\"marker\":{\"colorbar\":{\"outlinewidth\":0,\"ticks\":\"\"}},\"type\":\"scatterpolar\"}],\"scatter\":[{\"fillpattern\":{\"fillmode\":\"overlay\",\"size\":10,\"solidity\":0.2},\"type\":\"scatter\"}],\"scatterternary\":[{\"marker\":{\"colorbar\":{\"outlinewidth\":0,\"ticks\":\"\"}},\"type\":\"scatterternary\"}],\"surface\":[{\"colorbar\":{\"outlinewidth\":0,\"ticks\":\"\"},\"colorscale\":[[0.0,\"#0d0887\"],[0.1111111111111111,\"#46039f\"],[0.2222222222222222,\"#7201a8\"],[0.3333333333333333,\"#9c179e\"],[0.4444444444444444,\"#bd3786\"],[0.5555555555555556,\"#d8576b\"],[0.6666666666666666,\"#ed7953\"],[0.7777777777777778,\"#fb9f3a\"],[0.8888888888888888,\"#fdca26\"],[1.0,\"#f0f921\"]],\"type\":\"surface\"}],\"table\":[{\"cells\":{\"fill\":{\"color\":\"#EBF0F8\"},\"line\":{\"color\":\"white\"}},\"header\":{\"fill\":{\"color\":\"#C8D4E3\"},\"line\":{\"color\":\"white\"}},\"type\":\"table\"}]},\"layout\":{\"annotationdefaults\":{\"arrowcolor\":\"#2a3f5f\",\"arrowhead\":0,\"arrowwidth\":1},\"autotypenumbers\":\"strict\",\"coloraxis\":{\"colorbar\":{\"outlinewidth\":0,\"ticks\":\"\"}},\"colorscale\":{\"diverging\":[[0,\"#8e0152\"],[0.1,\"#c51b7d\"],[0.2,\"#de77ae\"],[0.3,\"#f1b6da\"],[0.4,\"#fde0ef\"],[0.5,\"#f7f7f7\"],[0.6,\"#e6f5d0\"],[0.7,\"#b8e186\"],[0.8,\"#7fbc41\"],[0.9,\"#4d9221\"],[1,\"#276419\"]],\"sequential\":[[0.0,\"#0d0887\"],[0.1111111111111111,\"#46039f\"],[0.2222222222222222,\"#7201a8\"],[0.3333333333333333,\"#9c179e\"],[0.4444444444444444,\"#bd3786\"],[0.5555555555555556,\"#d8576b\"],[0.6666666666666666,\"#ed7953\"],[0.7777777777777778,\"#fb9f3a\"],[0.8888888888888888,\"#fdca26\"],[1.0,\"#f0f921\"]],\"sequentialminus\":[[0.0,\"#0d0887\"],[0.1111111111111111,\"#46039f\"],[0.2222222222222222,\"#7201a8\"],[0.3333333333333333,\"#9c179e\"],[0.4444444444444444,\"#bd3786\"],[0.5555555555555556,\"#d8576b\"],[0.6666666666666666,\"#ed7953\"],[0.7777777777777778,\"#fb9f3a\"],[0.8888888888888888,\"#fdca26\"],[1.0,\"#f0f921\"]]},\"colorway\":[\"#636efa\",\"#EF553B\",\"#00cc96\",\"#ab63fa\",\"#FFA15A\",\"#19d3f3\",\"#FF6692\",\"#B6E880\",\"#FF97FF\",\"#FECB52\"],\"font\":{\"color\":\"#2a3f5f\"},\"geo\":{\"bgcolor\":\"white\",\"lakecolor\":\"white\",\"landcolor\":\"#E5ECF6\",\"showlakes\":true,\"showland\":true,\"subunitcolor\":\"white\"},\"hoverlabel\":{\"align\":\"left\"},\"hovermode\":\"closest\",\"mapbox\":{\"style\":\"light\"},\"paper_bgcolor\":\"white\",\"plot_bgcolor\":\"#E5ECF6\",\"polar\":{\"angularaxis\":{\"gridcolor\":\"white\",\"linecolor\":\"white\",\"ticks\":\"\"},\"bgcolor\":\"#E5ECF6\",\"radialaxis\":{\"gridcolor\":\"white\",\"linecolor\":\"white\",\"ticks\":\"\"}},\"scene\":{\"xaxis\":{\"backgroundcolor\":\"#E5ECF6\",\"gridcolor\":\"white\",\"gridwidth\":2,\"linecolor\":\"white\",\"showbackground\":true,\"ticks\":\"\",\"zerolinecolor\":\"white\"},\"yaxis\":{\"backgroundcolor\":\"#E5ECF6\",\"gridcolor\":\"white\",\"gridwidth\":2,\"linecolor\":\"white\",\"showbackground\":true,\"ticks\":\"\",\"zerolinecolor\":\"white\"},\"zaxis\":{\"backgroundcolor\":\"#E5ECF6\",\"gridcolor\":\"white\",\"gridwidth\":2,\"linecolor\":\"white\",\"showbackground\":true,\"ticks\":\"\",\"zerolinecolor\":\"white\"}},\"shapedefaults\":{\"line\":{\"color\":\"#2a3f5f\"}},\"ternary\":{\"aaxis\":{\"gridcolor\":\"white\",\"linecolor\":\"white\",\"ticks\":\"\"},\"baxis\":{\"gridcolor\":\"white\",\"linecolor\":\"white\",\"ticks\":\"\"},\"bgcolor\":\"#E5ECF6\",\"caxis\":{\"gridcolor\":\"white\",\"linecolor\":\"white\",\"ticks\":\"\"}},\"title\":{\"x\":0.05},\"xaxis\":{\"automargin\":true,\"gridcolor\":\"white\",\"linecolor\":\"white\",\"ticks\":\"\",\"title\":{\"standoff\":15},\"zerolinecolor\":\"white\",\"zerolinewidth\":2},\"yaxis\":{\"automargin\":true,\"gridcolor\":\"white\",\"linecolor\":\"white\",\"ticks\":\"\",\"title\":{\"standoff\":15},\"zerolinecolor\":\"white\",\"zerolinewidth\":2}}},\"title\":{\"font\":{\"color\":\"#4D5663\"}},\"xaxis\":{\"gridcolor\":\"#E1E5ED\",\"showgrid\":true,\"tickfont\":{\"color\":\"#4D5663\"},\"title\":{\"font\":{\"color\":\"#4D5663\"},\"text\":\"\"},\"zerolinecolor\":\"#E1E5ED\"},\"yaxis\":{\"gridcolor\":\"#E1E5ED\",\"showgrid\":true,\"tickfont\":{\"color\":\"#4D5663\"},\"title\":{\"font\":{\"color\":\"#4D5663\"},\"text\":\"\"},\"zerolinecolor\":\"#E1E5ED\"}},                        {\"showLink\": true, \"linkText\": \"Export to plot.ly\", \"plotlyServerURL\": \"https://plot.ly\", \"responsive\": true}                    ).then(function(){\n",
       "                            \n",
       "var gd = document.getElementById('08bb9193-3f0e-45ed-bfff-7dc1b916138c');\n",
       "var x = new MutationObserver(function (mutations, observer) {{\n",
       "        var display = window.getComputedStyle(gd).display;\n",
       "        if (!display || display === 'none') {{\n",
       "            console.log([gd, 'removed!']);\n",
       "            Plotly.purge(gd);\n",
       "            observer.disconnect();\n",
       "        }}\n",
       "}});\n",
       "\n",
       "// Listen for the removal of the full notebook cells\n",
       "var notebookContainer = gd.closest('#notebook-container');\n",
       "if (notebookContainer) {{\n",
       "    x.observe(notebookContainer, {childList: true});\n",
       "}}\n",
       "\n",
       "// Listen for the clearing of the current output cell\n",
       "var outputEl = gd.closest('.output');\n",
       "if (outputEl) {{\n",
       "    x.observe(outputEl, {childList: true});\n",
       "}}\n",
       "\n",
       "                        })                };                });            </script>        </div>"
      ]
     },
     "metadata": {},
     "output_type": "display_data"
    }
   ],
   "source": [
    "cf.datagen.sinwave(10, 0.25).iplot(kind = 'surface')"
   ]
  },
  {
   "cell_type": "code",
   "execution_count": 31,
   "id": "e8edbe3c",
   "metadata": {},
   "outputs": [
    {
     "data": {
      "application/vnd.plotly.v1+json": {
       "config": {
        "linkText": "Export to plot.ly",
        "plotlyServerURL": "https://plot.ly",
        "showLink": true
       },
       "data": [
        {
         "histfunc": "count",
         "histnorm": "",
         "marker": {
          "color": "rgba(255, 153, 51, 1.0)",
          "line": {
           "color": "#4D5663",
           "width": 1.3
          }
         },
         "name": "A",
         "nbinsx": 25,
         "opacity": 0.8,
         "orientation": "v",
         "type": "histogram",
         "x": [
          1.2011770764175393,
          4.41271447742346,
          9.512312024132667,
          15.572260439872618,
          20.37759530218809,
          24.772379800892026,
          29.014334555166954,
          34.715517866634244,
          41.89971070324318,
          52.75071320488135,
          66.8159478994062,
          82.4087346611642,
          99.0248623102894,
          115.82682839505355,
          133.172728792206,
          150.71429687634787,
          168.1377636736314,
          186.9249253604786,
          208.1099484134743,
          232.24184338762552,
          258.4003304186169,
          287.7334930571479,
          319.6892915550542,
          354.1864575252967,
          391.5542580403122,
          431.9740828518308,
          475.77763365964887,
          524.4145909501407,
          577.2617086740322,
          633.6937598883898,
          693.9628926901304,
          757.6672579417794,
          825.1808025127283,
          896.4389616677894,
          971.6182972948069,
          1051.4255135182643,
          1136.323497667834,
          1226.991315313331,
          1323.2922188216153,
          1423.9805474765562,
          1528.8220363543544,
          1638.4292484119585,
          1753.5105267623562,
          1874.3765413747765,
          2002.027944760073,
          2135.4435918091067,
          2274.229831896885,
          2418.27439730924,
          2568.9073328405207,
          2725.593153539166,
          2889.21986424827,
          3058.6362950546995,
          3233.7282448052492,
          3415.118777966568,
          3602.6328524282503,
          3798.426876744889,
          4001.9646944730293,
          4213.103849736518,
          4432.0130273260975,
          4656.784796569372,
          4886.214966168782,
          5118.26609835616,
          5352.736980196992,
          5589.356841147192,
          5829.03009806599,
          6071.930956557698,
          6319.667564588878,
          6573.502643711347,
          6834.990924297694,
          7104.547837641887,
          7381.996440866641,
          7666.041954411482,
          7957.829451508876,
          8257.282359328523,
          8562.856393476095,
          8874.529724162929,
          9190.985288890235,
          9512.747712106882,
          9840.764688544663,
          10173.803797357377,
          10512.811896891657,
          10858.429257514308,
          11209.902364517557,
          11565.881047861916,
          11927.75681065589,
          12294.87318641079,
          12669.469643313772,
          13051.003955222815,
          13437.818923252651,
          13828.725994792647,
          14224.012037540344,
          14623.28486309213,
          15025.822959884654,
          15431.685603063548,
          15841.935683272899,
          16255.278946450622,
          16670.05598679232,
          17085.851398283346,
          17501.02697477791,
          17916.31312009843
         ]
        },
        {
         "histfunc": "count",
         "histnorm": "",
         "marker": {
          "color": "rgba(55, 128, 191, 1.0)",
          "line": {
           "color": "#4D5663",
           "width": 1.3
          }
         },
         "name": "B",
         "nbinsx": 25,
         "opacity": 0.8,
         "orientation": "v",
         "type": "histogram",
         "x": [
          0.6276277659125329,
          0.6431866670966653,
          -0.3361067147157304,
          -2.75508911708918,
          -6.940228154795096,
          -12.959082236799912,
          -20.47091559089519,
          -31.348817626633497,
          -46.085351309033626,
          -62.97265531175384,
          -82.16613012871865,
          -102.91959598539347,
          -125.07153671178767,
          -148.56920402567025,
          -173.03153101336534,
          -199.3728111324102,
          -227.68012982649452,
          -257.2121591045985,
          -288.1339284626461,
          -320.4439181455277,
          -354.6144511958809,
          -389.94632799402,
          -426.51274319077345,
          -465.44512749923956,
          -505.7167334724851,
          -546.9758992552654,
          -589.7239837644805,
          -633.5336821603908,
          -677.9944467621705,
          -722.5879570858474,
          -768.6113848463532,
          -814.956547661377,
          -860.7904271443766,
          -905.021345957151,
          -947.7291788580013,
          -987.4357648037748,
          -1022.9756775606678,
          -1053.6150251305091,
          -1079.6574126827134,
          -1100.6656587532675,
          -1118.1854155173821,
          -1131.9188318105655,
          -1142.1498283194217,
          -1150.2652845130972,
          -1156.3841310779164,
          -1159.8328153005111,
          -1160.144676060033,
          -1155.5480642679813,
          -1145.3426167793166,
          -1130.1356273400233,
          -1109.4687487838187,
          -1082.0882680036855,
          -1045.9977055091615,
          -1002.7960643876343,
          -950.6111062842301,
          -889.1126509857414,
          -817.1678655477043,
          -734.7463866824284,
          -642.5224701714515,
          -541.3097581487989,
          -430.21810526200613,
          -309.0321420450349,
          -178.35597843285692,
          -37.83558732845603,
          111.45623215562821,
          268.34522637926614,
          431.46553009694685,
          602.0388199422246,
          779.9608684425469,
          967.0261941483624,
          1164.3823273792275,
          1372.0200401457994,
          1589.3555961645197,
          1815.8283783052323,
          2050.6589207187367,
          2293.410886122764,
          2543.870993378913,
          2801.5238360716926,
          3067.962869373556,
          3343.587006130028,
          3628.9091636363783,
          3924.846658844929,
          4232.15550910688,
          4549.202476151565,
          4875.124122216899,
          5211.990517080619,
          5558.927249554793,
          5915.317449934851,
          6280.431206600094,
          6654.576048975112,
          7038.567706846171,
          7432.649740882929,
          7836.25328999249,
          8251.726220913539,
          8678.272174692202,
          9117.260193287611,
          9569.199306113102,
          10035.39606944763,
          10515.93191250344,
          11010.055514858559
         ]
        },
        {
         "histfunc": "count",
         "histnorm": "",
         "marker": {
          "color": "rgba(50, 171, 96, 1.0)",
          "line": {
           "color": "#4D5663",
           "width": 1.3
          }
         },
         "name": "C",
         "nbinsx": 25,
         "opacity": 0.8,
         "orientation": "v",
         "type": "histogram",
         "x": [
          0.5349870806538379,
          1.1462716857378334,
          2.6245560042430225,
          3.6697376650186366,
          5.680340664212876,
          7.052376858057731,
          7.365637957861927,
          7.240090217119429,
          5.308192557489496,
          2.100622142056693,
          -2.6021981222672927,
          -9.44802010598626,
          -18.955289549379366,
          -29.417094934209942,
          -40.96729450714767,
          -53.502954861388254,
          -67.89540046873066,
          -86.6698733641632,
          -111.5520016062003,
          -139.84143346062626,
          -172.13726600797818,
          -210.08170272486805,
          -253.12238782411563,
          -299.0810294914378,
          -350.118651759784,
          -407.28218327407933,
          -470.80047694897,
          -540.9355898796309,
          -617.1281264673502,
          -699.7128648873804,
          -790.6046992703946,
          -888.9901622521421,
          -994.5129254378144,
          -1109.157491248192,
          -1231.484668458213,
          -1360.9435428098602,
          -1495.5330302703562,
          -1635.188223923193,
          -1779.0044864516017,
          -1929.475166043564,
          -2085.50993857592,
          -2244.4026103557107,
          -2407.06611136583,
          -2570.87184097781,
          -2735.937006789521,
          -2902.765940904719,
          -3072.053862856275,
          -3242.097815494343,
          -3411.5584435903343,
          -3578.4188389407022,
          -3742.9085649751287,
          -3906.605225752303,
          -4068.261094685875,
          -4227.877334702038,
          -4386.846920703218,
          -4545.6087009609455,
          -4705.240592137499,
          -4864.661994193907,
          -5023.6244568380625,
          -5182.00687204275,
          -5338.948271317355,
          -5495.620742900226,
          -5653.426819444314,
          -5811.844763490173,
          -5972.845918116022,
          -6135.528365720558,
          -6300.012613591025,
          -6465.304770119482,
          -6631.26264829671,
          -6796.998241950629,
          -6964.406993628973,
          -7133.468300373127,
          -7304.242574728015,
          -7479.613276071517,
          -7659.952310738288,
          -7845.6383493024805,
          -8037.292090507112,
          -8236.199883668796,
          -8442.694851438058,
          -8656.517683577043,
          -8876.959058133552,
          -9102.145592139488,
          -9332.383603737982,
          -9567.01596177196,
          -9807.1765110558,
          -10053.16984814591,
          -10304.795937141527,
          -10562.69028991868,
          -10828.257890207055,
          -11101.160875186737,
          -11382.10409306736,
          -11670.406254678126,
          -11966.778620494777,
          -12268.976662681462,
          -12576.798763309973,
          -12890.972296757316,
          -13212.241690405934,
          -13540.157654816447,
          -13874.282909417514,
          -14215.753133893699
         ]
        }
       ],
       "layout": {
        "bargap": 0.5,
        "barmode": "overlay",
        "legend": {
         "bgcolor": "#F5F6F9",
         "font": {
          "color": "#4D5663"
         }
        },
        "paper_bgcolor": "#F5F6F9",
        "plot_bgcolor": "#F5F6F9",
        "template": {
         "data": {
          "bar": [
           {
            "error_x": {
             "color": "#2a3f5f"
            },
            "error_y": {
             "color": "#2a3f5f"
            },
            "marker": {
             "line": {
              "color": "#E5ECF6",
              "width": 0.5
             },
             "pattern": {
              "fillmode": "overlay",
              "size": 10,
              "solidity": 0.2
             }
            },
            "type": "bar"
           }
          ],
          "barpolar": [
           {
            "marker": {
             "line": {
              "color": "#E5ECF6",
              "width": 0.5
             },
             "pattern": {
              "fillmode": "overlay",
              "size": 10,
              "solidity": 0.2
             }
            },
            "type": "barpolar"
           }
          ],
          "carpet": [
           {
            "aaxis": {
             "endlinecolor": "#2a3f5f",
             "gridcolor": "white",
             "linecolor": "white",
             "minorgridcolor": "white",
             "startlinecolor": "#2a3f5f"
            },
            "baxis": {
             "endlinecolor": "#2a3f5f",
             "gridcolor": "white",
             "linecolor": "white",
             "minorgridcolor": "white",
             "startlinecolor": "#2a3f5f"
            },
            "type": "carpet"
           }
          ],
          "choropleth": [
           {
            "colorbar": {
             "outlinewidth": 0,
             "ticks": ""
            },
            "type": "choropleth"
           }
          ],
          "contour": [
           {
            "colorbar": {
             "outlinewidth": 0,
             "ticks": ""
            },
            "colorscale": [
             [
              0,
              "#0d0887"
             ],
             [
              0.1111111111111111,
              "#46039f"
             ],
             [
              0.2222222222222222,
              "#7201a8"
             ],
             [
              0.3333333333333333,
              "#9c179e"
             ],
             [
              0.4444444444444444,
              "#bd3786"
             ],
             [
              0.5555555555555556,
              "#d8576b"
             ],
             [
              0.6666666666666666,
              "#ed7953"
             ],
             [
              0.7777777777777778,
              "#fb9f3a"
             ],
             [
              0.8888888888888888,
              "#fdca26"
             ],
             [
              1,
              "#f0f921"
             ]
            ],
            "type": "contour"
           }
          ],
          "contourcarpet": [
           {
            "colorbar": {
             "outlinewidth": 0,
             "ticks": ""
            },
            "type": "contourcarpet"
           }
          ],
          "heatmap": [
           {
            "colorbar": {
             "outlinewidth": 0,
             "ticks": ""
            },
            "colorscale": [
             [
              0,
              "#0d0887"
             ],
             [
              0.1111111111111111,
              "#46039f"
             ],
             [
              0.2222222222222222,
              "#7201a8"
             ],
             [
              0.3333333333333333,
              "#9c179e"
             ],
             [
              0.4444444444444444,
              "#bd3786"
             ],
             [
              0.5555555555555556,
              "#d8576b"
             ],
             [
              0.6666666666666666,
              "#ed7953"
             ],
             [
              0.7777777777777778,
              "#fb9f3a"
             ],
             [
              0.8888888888888888,
              "#fdca26"
             ],
             [
              1,
              "#f0f921"
             ]
            ],
            "type": "heatmap"
           }
          ],
          "heatmapgl": [
           {
            "colorbar": {
             "outlinewidth": 0,
             "ticks": ""
            },
            "colorscale": [
             [
              0,
              "#0d0887"
             ],
             [
              0.1111111111111111,
              "#46039f"
             ],
             [
              0.2222222222222222,
              "#7201a8"
             ],
             [
              0.3333333333333333,
              "#9c179e"
             ],
             [
              0.4444444444444444,
              "#bd3786"
             ],
             [
              0.5555555555555556,
              "#d8576b"
             ],
             [
              0.6666666666666666,
              "#ed7953"
             ],
             [
              0.7777777777777778,
              "#fb9f3a"
             ],
             [
              0.8888888888888888,
              "#fdca26"
             ],
             [
              1,
              "#f0f921"
             ]
            ],
            "type": "heatmapgl"
           }
          ],
          "histogram": [
           {
            "marker": {
             "pattern": {
              "fillmode": "overlay",
              "size": 10,
              "solidity": 0.2
             }
            },
            "type": "histogram"
           }
          ],
          "histogram2d": [
           {
            "colorbar": {
             "outlinewidth": 0,
             "ticks": ""
            },
            "colorscale": [
             [
              0,
              "#0d0887"
             ],
             [
              0.1111111111111111,
              "#46039f"
             ],
             [
              0.2222222222222222,
              "#7201a8"
             ],
             [
              0.3333333333333333,
              "#9c179e"
             ],
             [
              0.4444444444444444,
              "#bd3786"
             ],
             [
              0.5555555555555556,
              "#d8576b"
             ],
             [
              0.6666666666666666,
              "#ed7953"
             ],
             [
              0.7777777777777778,
              "#fb9f3a"
             ],
             [
              0.8888888888888888,
              "#fdca26"
             ],
             [
              1,
              "#f0f921"
             ]
            ],
            "type": "histogram2d"
           }
          ],
          "histogram2dcontour": [
           {
            "colorbar": {
             "outlinewidth": 0,
             "ticks": ""
            },
            "colorscale": [
             [
              0,
              "#0d0887"
             ],
             [
              0.1111111111111111,
              "#46039f"
             ],
             [
              0.2222222222222222,
              "#7201a8"
             ],
             [
              0.3333333333333333,
              "#9c179e"
             ],
             [
              0.4444444444444444,
              "#bd3786"
             ],
             [
              0.5555555555555556,
              "#d8576b"
             ],
             [
              0.6666666666666666,
              "#ed7953"
             ],
             [
              0.7777777777777778,
              "#fb9f3a"
             ],
             [
              0.8888888888888888,
              "#fdca26"
             ],
             [
              1,
              "#f0f921"
             ]
            ],
            "type": "histogram2dcontour"
           }
          ],
          "mesh3d": [
           {
            "colorbar": {
             "outlinewidth": 0,
             "ticks": ""
            },
            "type": "mesh3d"
           }
          ],
          "parcoords": [
           {
            "line": {
             "colorbar": {
              "outlinewidth": 0,
              "ticks": ""
             }
            },
            "type": "parcoords"
           }
          ],
          "pie": [
           {
            "automargin": true,
            "type": "pie"
           }
          ],
          "scatter": [
           {
            "fillpattern": {
             "fillmode": "overlay",
             "size": 10,
             "solidity": 0.2
            },
            "type": "scatter"
           }
          ],
          "scatter3d": [
           {
            "line": {
             "colorbar": {
              "outlinewidth": 0,
              "ticks": ""
             }
            },
            "marker": {
             "colorbar": {
              "outlinewidth": 0,
              "ticks": ""
             }
            },
            "type": "scatter3d"
           }
          ],
          "scattercarpet": [
           {
            "marker": {
             "colorbar": {
              "outlinewidth": 0,
              "ticks": ""
             }
            },
            "type": "scattercarpet"
           }
          ],
          "scattergeo": [
           {
            "marker": {
             "colorbar": {
              "outlinewidth": 0,
              "ticks": ""
             }
            },
            "type": "scattergeo"
           }
          ],
          "scattergl": [
           {
            "marker": {
             "colorbar": {
              "outlinewidth": 0,
              "ticks": ""
             }
            },
            "type": "scattergl"
           }
          ],
          "scattermapbox": [
           {
            "marker": {
             "colorbar": {
              "outlinewidth": 0,
              "ticks": ""
             }
            },
            "type": "scattermapbox"
           }
          ],
          "scatterpolar": [
           {
            "marker": {
             "colorbar": {
              "outlinewidth": 0,
              "ticks": ""
             }
            },
            "type": "scatterpolar"
           }
          ],
          "scatterpolargl": [
           {
            "marker": {
             "colorbar": {
              "outlinewidth": 0,
              "ticks": ""
             }
            },
            "type": "scatterpolargl"
           }
          ],
          "scatterternary": [
           {
            "marker": {
             "colorbar": {
              "outlinewidth": 0,
              "ticks": ""
             }
            },
            "type": "scatterternary"
           }
          ],
          "surface": [
           {
            "colorbar": {
             "outlinewidth": 0,
             "ticks": ""
            },
            "colorscale": [
             [
              0,
              "#0d0887"
             ],
             [
              0.1111111111111111,
              "#46039f"
             ],
             [
              0.2222222222222222,
              "#7201a8"
             ],
             [
              0.3333333333333333,
              "#9c179e"
             ],
             [
              0.4444444444444444,
              "#bd3786"
             ],
             [
              0.5555555555555556,
              "#d8576b"
             ],
             [
              0.6666666666666666,
              "#ed7953"
             ],
             [
              0.7777777777777778,
              "#fb9f3a"
             ],
             [
              0.8888888888888888,
              "#fdca26"
             ],
             [
              1,
              "#f0f921"
             ]
            ],
            "type": "surface"
           }
          ],
          "table": [
           {
            "cells": {
             "fill": {
              "color": "#EBF0F8"
             },
             "line": {
              "color": "white"
             }
            },
            "header": {
             "fill": {
              "color": "#C8D4E3"
             },
             "line": {
              "color": "white"
             }
            },
            "type": "table"
           }
          ]
         },
         "layout": {
          "annotationdefaults": {
           "arrowcolor": "#2a3f5f",
           "arrowhead": 0,
           "arrowwidth": 1
          },
          "autotypenumbers": "strict",
          "coloraxis": {
           "colorbar": {
            "outlinewidth": 0,
            "ticks": ""
           }
          },
          "colorscale": {
           "diverging": [
            [
             0,
             "#8e0152"
            ],
            [
             0.1,
             "#c51b7d"
            ],
            [
             0.2,
             "#de77ae"
            ],
            [
             0.3,
             "#f1b6da"
            ],
            [
             0.4,
             "#fde0ef"
            ],
            [
             0.5,
             "#f7f7f7"
            ],
            [
             0.6,
             "#e6f5d0"
            ],
            [
             0.7,
             "#b8e186"
            ],
            [
             0.8,
             "#7fbc41"
            ],
            [
             0.9,
             "#4d9221"
            ],
            [
             1,
             "#276419"
            ]
           ],
           "sequential": [
            [
             0,
             "#0d0887"
            ],
            [
             0.1111111111111111,
             "#46039f"
            ],
            [
             0.2222222222222222,
             "#7201a8"
            ],
            [
             0.3333333333333333,
             "#9c179e"
            ],
            [
             0.4444444444444444,
             "#bd3786"
            ],
            [
             0.5555555555555556,
             "#d8576b"
            ],
            [
             0.6666666666666666,
             "#ed7953"
            ],
            [
             0.7777777777777778,
             "#fb9f3a"
            ],
            [
             0.8888888888888888,
             "#fdca26"
            ],
            [
             1,
             "#f0f921"
            ]
           ],
           "sequentialminus": [
            [
             0,
             "#0d0887"
            ],
            [
             0.1111111111111111,
             "#46039f"
            ],
            [
             0.2222222222222222,
             "#7201a8"
            ],
            [
             0.3333333333333333,
             "#9c179e"
            ],
            [
             0.4444444444444444,
             "#bd3786"
            ],
            [
             0.5555555555555556,
             "#d8576b"
            ],
            [
             0.6666666666666666,
             "#ed7953"
            ],
            [
             0.7777777777777778,
             "#fb9f3a"
            ],
            [
             0.8888888888888888,
             "#fdca26"
            ],
            [
             1,
             "#f0f921"
            ]
           ]
          },
          "colorway": [
           "#636efa",
           "#EF553B",
           "#00cc96",
           "#ab63fa",
           "#FFA15A",
           "#19d3f3",
           "#FF6692",
           "#B6E880",
           "#FF97FF",
           "#FECB52"
          ],
          "font": {
           "color": "#2a3f5f"
          },
          "geo": {
           "bgcolor": "white",
           "lakecolor": "white",
           "landcolor": "#E5ECF6",
           "showlakes": true,
           "showland": true,
           "subunitcolor": "white"
          },
          "hoverlabel": {
           "align": "left"
          },
          "hovermode": "closest",
          "mapbox": {
           "style": "light"
          },
          "paper_bgcolor": "white",
          "plot_bgcolor": "#E5ECF6",
          "polar": {
           "angularaxis": {
            "gridcolor": "white",
            "linecolor": "white",
            "ticks": ""
           },
           "bgcolor": "#E5ECF6",
           "radialaxis": {
            "gridcolor": "white",
            "linecolor": "white",
            "ticks": ""
           }
          },
          "scene": {
           "xaxis": {
            "backgroundcolor": "#E5ECF6",
            "gridcolor": "white",
            "gridwidth": 2,
            "linecolor": "white",
            "showbackground": true,
            "ticks": "",
            "zerolinecolor": "white"
           },
           "yaxis": {
            "backgroundcolor": "#E5ECF6",
            "gridcolor": "white",
            "gridwidth": 2,
            "linecolor": "white",
            "showbackground": true,
            "ticks": "",
            "zerolinecolor": "white"
           },
           "zaxis": {
            "backgroundcolor": "#E5ECF6",
            "gridcolor": "white",
            "gridwidth": 2,
            "linecolor": "white",
            "showbackground": true,
            "ticks": "",
            "zerolinecolor": "white"
           }
          },
          "shapedefaults": {
           "line": {
            "color": "#2a3f5f"
           }
          },
          "ternary": {
           "aaxis": {
            "gridcolor": "white",
            "linecolor": "white",
            "ticks": ""
           },
           "baxis": {
            "gridcolor": "white",
            "linecolor": "white",
            "ticks": ""
           },
           "bgcolor": "#E5ECF6",
           "caxis": {
            "gridcolor": "white",
            "linecolor": "white",
            "ticks": ""
           }
          },
          "title": {
           "x": 0.05
          },
          "xaxis": {
           "automargin": true,
           "gridcolor": "white",
           "linecolor": "white",
           "ticks": "",
           "title": {
            "standoff": 15
           },
           "zerolinecolor": "white",
           "zerolinewidth": 2
          },
          "yaxis": {
           "automargin": true,
           "gridcolor": "white",
           "linecolor": "white",
           "ticks": "",
           "title": {
            "standoff": 15
           },
           "zerolinecolor": "white",
           "zerolinewidth": 2
          }
         }
        },
        "title": {
         "font": {
          "color": "#4D5663"
         }
        },
        "xaxis": {
         "gridcolor": "#E1E5ED",
         "showgrid": true,
         "tickfont": {
          "color": "#4D5663"
         },
         "title": {
          "font": {
           "color": "#4D5663"
          },
          "text": ""
         },
         "zerolinecolor": "#E1E5ED"
        },
        "yaxis": {
         "gridcolor": "#E1E5ED",
         "showgrid": true,
         "tickfont": {
          "color": "#4D5663"
         },
         "title": {
          "font": {
           "color": "#4D5663"
          },
          "text": ""
         },
         "zerolinecolor": "#E1E5ED"
        }
       }
      },
      "text/html": [
       "<div>                            <div id=\"006287d2-7122-4dcb-b136-076334321165\" class=\"plotly-graph-div\" style=\"height:525px; width:100%;\"></div>            <script type=\"text/javascript\">                require([\"plotly\"], function(Plotly) {                    window.PLOTLYENV=window.PLOTLYENV || {};\n",
       "                    window.PLOTLYENV.BASE_URL='https://plot.ly';                                    if (document.getElementById(\"006287d2-7122-4dcb-b136-076334321165\")) {                    Plotly.newPlot(                        \"006287d2-7122-4dcb-b136-076334321165\",                        [{\"histfunc\":\"count\",\"histnorm\":\"\",\"marker\":{\"color\":\"rgba(255, 153, 51, 1.0)\",\"line\":{\"color\":\"#4D5663\",\"width\":1.3}},\"name\":\"A\",\"nbinsx\":25,\"opacity\":0.8,\"orientation\":\"v\",\"x\":[1.2011770764175393,4.41271447742346,9.512312024132667,15.572260439872618,20.37759530218809,24.772379800892026,29.014334555166954,34.715517866634244,41.89971070324318,52.75071320488135,66.8159478994062,82.4087346611642,99.0248623102894,115.82682839505355,133.172728792206,150.71429687634787,168.1377636736314,186.9249253604786,208.1099484134743,232.24184338762552,258.4003304186169,287.7334930571479,319.6892915550542,354.1864575252967,391.5542580403122,431.9740828518308,475.77763365964887,524.4145909501407,577.2617086740322,633.6937598883898,693.9628926901304,757.6672579417794,825.1808025127283,896.4389616677894,971.6182972948069,1051.4255135182643,1136.323497667834,1226.991315313331,1323.2922188216153,1423.9805474765562,1528.8220363543544,1638.4292484119585,1753.5105267623562,1874.3765413747765,2002.027944760073,2135.4435918091067,2274.229831896885,2418.27439730924,2568.9073328405207,2725.593153539166,2889.21986424827,3058.6362950546995,3233.7282448052492,3415.118777966568,3602.6328524282503,3798.426876744889,4001.9646944730293,4213.103849736518,4432.0130273260975,4656.784796569372,4886.214966168782,5118.26609835616,5352.736980196992,5589.356841147192,5829.03009806599,6071.930956557698,6319.667564588878,6573.502643711347,6834.990924297694,7104.547837641887,7381.996440866641,7666.041954411482,7957.829451508876,8257.282359328523,8562.856393476095,8874.529724162929,9190.985288890235,9512.747712106882,9840.764688544663,10173.803797357377,10512.811896891657,10858.429257514308,11209.902364517557,11565.881047861916,11927.75681065589,12294.87318641079,12669.469643313772,13051.003955222815,13437.818923252651,13828.725994792647,14224.012037540344,14623.28486309213,15025.822959884654,15431.685603063548,15841.935683272899,16255.278946450622,16670.05598679232,17085.851398283346,17501.02697477791,17916.31312009843],\"type\":\"histogram\"},{\"histfunc\":\"count\",\"histnorm\":\"\",\"marker\":{\"color\":\"rgba(55, 128, 191, 1.0)\",\"line\":{\"color\":\"#4D5663\",\"width\":1.3}},\"name\":\"B\",\"nbinsx\":25,\"opacity\":0.8,\"orientation\":\"v\",\"x\":[0.6276277659125329,0.6431866670966653,-0.3361067147157304,-2.75508911708918,-6.940228154795096,-12.959082236799912,-20.47091559089519,-31.348817626633497,-46.085351309033626,-62.97265531175384,-82.16613012871865,-102.91959598539347,-125.07153671178767,-148.56920402567025,-173.03153101336534,-199.3728111324102,-227.68012982649452,-257.2121591045985,-288.1339284626461,-320.4439181455277,-354.6144511958809,-389.94632799402,-426.51274319077345,-465.44512749923956,-505.7167334724851,-546.9758992552654,-589.7239837644805,-633.5336821603908,-677.9944467621705,-722.5879570858474,-768.6113848463532,-814.956547661377,-860.7904271443766,-905.021345957151,-947.7291788580013,-987.4357648037748,-1022.9756775606678,-1053.6150251305091,-1079.6574126827134,-1100.6656587532675,-1118.1854155173821,-1131.9188318105655,-1142.1498283194217,-1150.2652845130972,-1156.3841310779164,-1159.8328153005111,-1160.144676060033,-1155.5480642679813,-1145.3426167793166,-1130.1356273400233,-1109.4687487838187,-1082.0882680036855,-1045.9977055091615,-1002.7960643876343,-950.6111062842301,-889.1126509857414,-817.1678655477043,-734.7463866824284,-642.5224701714515,-541.3097581487989,-430.21810526200613,-309.0321420450349,-178.35597843285692,-37.83558732845603,111.45623215562821,268.34522637926614,431.46553009694685,602.0388199422246,779.9608684425469,967.0261941483624,1164.3823273792275,1372.0200401457994,1589.3555961645197,1815.8283783052323,2050.6589207187367,2293.410886122764,2543.870993378913,2801.5238360716926,3067.962869373556,3343.587006130028,3628.9091636363783,3924.846658844929,4232.15550910688,4549.202476151565,4875.124122216899,5211.990517080619,5558.927249554793,5915.317449934851,6280.431206600094,6654.576048975112,7038.567706846171,7432.649740882929,7836.25328999249,8251.726220913539,8678.272174692202,9117.260193287611,9569.199306113102,10035.39606944763,10515.93191250344,11010.055514858559],\"type\":\"histogram\"},{\"histfunc\":\"count\",\"histnorm\":\"\",\"marker\":{\"color\":\"rgba(50, 171, 96, 1.0)\",\"line\":{\"color\":\"#4D5663\",\"width\":1.3}},\"name\":\"C\",\"nbinsx\":25,\"opacity\":0.8,\"orientation\":\"v\",\"x\":[0.5349870806538379,1.1462716857378334,2.6245560042430225,3.6697376650186366,5.680340664212876,7.052376858057731,7.365637957861927,7.240090217119429,5.308192557489496,2.100622142056693,-2.6021981222672927,-9.44802010598626,-18.955289549379366,-29.417094934209942,-40.96729450714767,-53.502954861388254,-67.89540046873066,-86.6698733641632,-111.5520016062003,-139.84143346062626,-172.13726600797818,-210.08170272486805,-253.12238782411563,-299.0810294914378,-350.118651759784,-407.28218327407933,-470.80047694897,-540.9355898796309,-617.1281264673502,-699.7128648873804,-790.6046992703946,-888.9901622521421,-994.5129254378144,-1109.157491248192,-1231.484668458213,-1360.9435428098602,-1495.5330302703562,-1635.188223923193,-1779.0044864516017,-1929.475166043564,-2085.50993857592,-2244.4026103557107,-2407.06611136583,-2570.87184097781,-2735.937006789521,-2902.765940904719,-3072.053862856275,-3242.097815494343,-3411.5584435903343,-3578.4188389407022,-3742.9085649751287,-3906.605225752303,-4068.261094685875,-4227.877334702038,-4386.846920703218,-4545.6087009609455,-4705.240592137499,-4864.661994193907,-5023.6244568380625,-5182.00687204275,-5338.948271317355,-5495.620742900226,-5653.426819444314,-5811.844763490173,-5972.845918116022,-6135.528365720558,-6300.012613591025,-6465.304770119482,-6631.26264829671,-6796.998241950629,-6964.406993628973,-7133.468300373127,-7304.242574728015,-7479.613276071517,-7659.952310738288,-7845.6383493024805,-8037.292090507112,-8236.199883668796,-8442.694851438058,-8656.517683577043,-8876.959058133552,-9102.145592139488,-9332.383603737982,-9567.01596177196,-9807.1765110558,-10053.16984814591,-10304.795937141527,-10562.69028991868,-10828.257890207055,-11101.160875186737,-11382.10409306736,-11670.406254678126,-11966.778620494777,-12268.976662681462,-12576.798763309973,-12890.972296757316,-13212.241690405934,-13540.157654816447,-13874.282909417514,-14215.753133893699],\"type\":\"histogram\"}],                        {\"bargap\":0.5,\"barmode\":\"overlay\",\"legend\":{\"bgcolor\":\"#F5F6F9\",\"font\":{\"color\":\"#4D5663\"}},\"paper_bgcolor\":\"#F5F6F9\",\"plot_bgcolor\":\"#F5F6F9\",\"template\":{\"data\":{\"barpolar\":[{\"marker\":{\"line\":{\"color\":\"#E5ECF6\",\"width\":0.5},\"pattern\":{\"fillmode\":\"overlay\",\"size\":10,\"solidity\":0.2}},\"type\":\"barpolar\"}],\"bar\":[{\"error_x\":{\"color\":\"#2a3f5f\"},\"error_y\":{\"color\":\"#2a3f5f\"},\"marker\":{\"line\":{\"color\":\"#E5ECF6\",\"width\":0.5},\"pattern\":{\"fillmode\":\"overlay\",\"size\":10,\"solidity\":0.2}},\"type\":\"bar\"}],\"carpet\":[{\"aaxis\":{\"endlinecolor\":\"#2a3f5f\",\"gridcolor\":\"white\",\"linecolor\":\"white\",\"minorgridcolor\":\"white\",\"startlinecolor\":\"#2a3f5f\"},\"baxis\":{\"endlinecolor\":\"#2a3f5f\",\"gridcolor\":\"white\",\"linecolor\":\"white\",\"minorgridcolor\":\"white\",\"startlinecolor\":\"#2a3f5f\"},\"type\":\"carpet\"}],\"choropleth\":[{\"colorbar\":{\"outlinewidth\":0,\"ticks\":\"\"},\"type\":\"choropleth\"}],\"contourcarpet\":[{\"colorbar\":{\"outlinewidth\":0,\"ticks\":\"\"},\"type\":\"contourcarpet\"}],\"contour\":[{\"colorbar\":{\"outlinewidth\":0,\"ticks\":\"\"},\"colorscale\":[[0.0,\"#0d0887\"],[0.1111111111111111,\"#46039f\"],[0.2222222222222222,\"#7201a8\"],[0.3333333333333333,\"#9c179e\"],[0.4444444444444444,\"#bd3786\"],[0.5555555555555556,\"#d8576b\"],[0.6666666666666666,\"#ed7953\"],[0.7777777777777778,\"#fb9f3a\"],[0.8888888888888888,\"#fdca26\"],[1.0,\"#f0f921\"]],\"type\":\"contour\"}],\"heatmapgl\":[{\"colorbar\":{\"outlinewidth\":0,\"ticks\":\"\"},\"colorscale\":[[0.0,\"#0d0887\"],[0.1111111111111111,\"#46039f\"],[0.2222222222222222,\"#7201a8\"],[0.3333333333333333,\"#9c179e\"],[0.4444444444444444,\"#bd3786\"],[0.5555555555555556,\"#d8576b\"],[0.6666666666666666,\"#ed7953\"],[0.7777777777777778,\"#fb9f3a\"],[0.8888888888888888,\"#fdca26\"],[1.0,\"#f0f921\"]],\"type\":\"heatmapgl\"}],\"heatmap\":[{\"colorbar\":{\"outlinewidth\":0,\"ticks\":\"\"},\"colorscale\":[[0.0,\"#0d0887\"],[0.1111111111111111,\"#46039f\"],[0.2222222222222222,\"#7201a8\"],[0.3333333333333333,\"#9c179e\"],[0.4444444444444444,\"#bd3786\"],[0.5555555555555556,\"#d8576b\"],[0.6666666666666666,\"#ed7953\"],[0.7777777777777778,\"#fb9f3a\"],[0.8888888888888888,\"#fdca26\"],[1.0,\"#f0f921\"]],\"type\":\"heatmap\"}],\"histogram2dcontour\":[{\"colorbar\":{\"outlinewidth\":0,\"ticks\":\"\"},\"colorscale\":[[0.0,\"#0d0887\"],[0.1111111111111111,\"#46039f\"],[0.2222222222222222,\"#7201a8\"],[0.3333333333333333,\"#9c179e\"],[0.4444444444444444,\"#bd3786\"],[0.5555555555555556,\"#d8576b\"],[0.6666666666666666,\"#ed7953\"],[0.7777777777777778,\"#fb9f3a\"],[0.8888888888888888,\"#fdca26\"],[1.0,\"#f0f921\"]],\"type\":\"histogram2dcontour\"}],\"histogram2d\":[{\"colorbar\":{\"outlinewidth\":0,\"ticks\":\"\"},\"colorscale\":[[0.0,\"#0d0887\"],[0.1111111111111111,\"#46039f\"],[0.2222222222222222,\"#7201a8\"],[0.3333333333333333,\"#9c179e\"],[0.4444444444444444,\"#bd3786\"],[0.5555555555555556,\"#d8576b\"],[0.6666666666666666,\"#ed7953\"],[0.7777777777777778,\"#fb9f3a\"],[0.8888888888888888,\"#fdca26\"],[1.0,\"#f0f921\"]],\"type\":\"histogram2d\"}],\"histogram\":[{\"marker\":{\"pattern\":{\"fillmode\":\"overlay\",\"size\":10,\"solidity\":0.2}},\"type\":\"histogram\"}],\"mesh3d\":[{\"colorbar\":{\"outlinewidth\":0,\"ticks\":\"\"},\"type\":\"mesh3d\"}],\"parcoords\":[{\"line\":{\"colorbar\":{\"outlinewidth\":0,\"ticks\":\"\"}},\"type\":\"parcoords\"}],\"pie\":[{\"automargin\":true,\"type\":\"pie\"}],\"scatter3d\":[{\"line\":{\"colorbar\":{\"outlinewidth\":0,\"ticks\":\"\"}},\"marker\":{\"colorbar\":{\"outlinewidth\":0,\"ticks\":\"\"}},\"type\":\"scatter3d\"}],\"scattercarpet\":[{\"marker\":{\"colorbar\":{\"outlinewidth\":0,\"ticks\":\"\"}},\"type\":\"scattercarpet\"}],\"scattergeo\":[{\"marker\":{\"colorbar\":{\"outlinewidth\":0,\"ticks\":\"\"}},\"type\":\"scattergeo\"}],\"scattergl\":[{\"marker\":{\"colorbar\":{\"outlinewidth\":0,\"ticks\":\"\"}},\"type\":\"scattergl\"}],\"scattermapbox\":[{\"marker\":{\"colorbar\":{\"outlinewidth\":0,\"ticks\":\"\"}},\"type\":\"scattermapbox\"}],\"scatterpolargl\":[{\"marker\":{\"colorbar\":{\"outlinewidth\":0,\"ticks\":\"\"}},\"type\":\"scatterpolargl\"}],\"scatterpolar\":[{\"marker\":{\"colorbar\":{\"outlinewidth\":0,\"ticks\":\"\"}},\"type\":\"scatterpolar\"}],\"scatter\":[{\"fillpattern\":{\"fillmode\":\"overlay\",\"size\":10,\"solidity\":0.2},\"type\":\"scatter\"}],\"scatterternary\":[{\"marker\":{\"colorbar\":{\"outlinewidth\":0,\"ticks\":\"\"}},\"type\":\"scatterternary\"}],\"surface\":[{\"colorbar\":{\"outlinewidth\":0,\"ticks\":\"\"},\"colorscale\":[[0.0,\"#0d0887\"],[0.1111111111111111,\"#46039f\"],[0.2222222222222222,\"#7201a8\"],[0.3333333333333333,\"#9c179e\"],[0.4444444444444444,\"#bd3786\"],[0.5555555555555556,\"#d8576b\"],[0.6666666666666666,\"#ed7953\"],[0.7777777777777778,\"#fb9f3a\"],[0.8888888888888888,\"#fdca26\"],[1.0,\"#f0f921\"]],\"type\":\"surface\"}],\"table\":[{\"cells\":{\"fill\":{\"color\":\"#EBF0F8\"},\"line\":{\"color\":\"white\"}},\"header\":{\"fill\":{\"color\":\"#C8D4E3\"},\"line\":{\"color\":\"white\"}},\"type\":\"table\"}]},\"layout\":{\"annotationdefaults\":{\"arrowcolor\":\"#2a3f5f\",\"arrowhead\":0,\"arrowwidth\":1},\"autotypenumbers\":\"strict\",\"coloraxis\":{\"colorbar\":{\"outlinewidth\":0,\"ticks\":\"\"}},\"colorscale\":{\"diverging\":[[0,\"#8e0152\"],[0.1,\"#c51b7d\"],[0.2,\"#de77ae\"],[0.3,\"#f1b6da\"],[0.4,\"#fde0ef\"],[0.5,\"#f7f7f7\"],[0.6,\"#e6f5d0\"],[0.7,\"#b8e186\"],[0.8,\"#7fbc41\"],[0.9,\"#4d9221\"],[1,\"#276419\"]],\"sequential\":[[0.0,\"#0d0887\"],[0.1111111111111111,\"#46039f\"],[0.2222222222222222,\"#7201a8\"],[0.3333333333333333,\"#9c179e\"],[0.4444444444444444,\"#bd3786\"],[0.5555555555555556,\"#d8576b\"],[0.6666666666666666,\"#ed7953\"],[0.7777777777777778,\"#fb9f3a\"],[0.8888888888888888,\"#fdca26\"],[1.0,\"#f0f921\"]],\"sequentialminus\":[[0.0,\"#0d0887\"],[0.1111111111111111,\"#46039f\"],[0.2222222222222222,\"#7201a8\"],[0.3333333333333333,\"#9c179e\"],[0.4444444444444444,\"#bd3786\"],[0.5555555555555556,\"#d8576b\"],[0.6666666666666666,\"#ed7953\"],[0.7777777777777778,\"#fb9f3a\"],[0.8888888888888888,\"#fdca26\"],[1.0,\"#f0f921\"]]},\"colorway\":[\"#636efa\",\"#EF553B\",\"#00cc96\",\"#ab63fa\",\"#FFA15A\",\"#19d3f3\",\"#FF6692\",\"#B6E880\",\"#FF97FF\",\"#FECB52\"],\"font\":{\"color\":\"#2a3f5f\"},\"geo\":{\"bgcolor\":\"white\",\"lakecolor\":\"white\",\"landcolor\":\"#E5ECF6\",\"showlakes\":true,\"showland\":true,\"subunitcolor\":\"white\"},\"hoverlabel\":{\"align\":\"left\"},\"hovermode\":\"closest\",\"mapbox\":{\"style\":\"light\"},\"paper_bgcolor\":\"white\",\"plot_bgcolor\":\"#E5ECF6\",\"polar\":{\"angularaxis\":{\"gridcolor\":\"white\",\"linecolor\":\"white\",\"ticks\":\"\"},\"bgcolor\":\"#E5ECF6\",\"radialaxis\":{\"gridcolor\":\"white\",\"linecolor\":\"white\",\"ticks\":\"\"}},\"scene\":{\"xaxis\":{\"backgroundcolor\":\"#E5ECF6\",\"gridcolor\":\"white\",\"gridwidth\":2,\"linecolor\":\"white\",\"showbackground\":true,\"ticks\":\"\",\"zerolinecolor\":\"white\"},\"yaxis\":{\"backgroundcolor\":\"#E5ECF6\",\"gridcolor\":\"white\",\"gridwidth\":2,\"linecolor\":\"white\",\"showbackground\":true,\"ticks\":\"\",\"zerolinecolor\":\"white\"},\"zaxis\":{\"backgroundcolor\":\"#E5ECF6\",\"gridcolor\":\"white\",\"gridwidth\":2,\"linecolor\":\"white\",\"showbackground\":true,\"ticks\":\"\",\"zerolinecolor\":\"white\"}},\"shapedefaults\":{\"line\":{\"color\":\"#2a3f5f\"}},\"ternary\":{\"aaxis\":{\"gridcolor\":\"white\",\"linecolor\":\"white\",\"ticks\":\"\"},\"baxis\":{\"gridcolor\":\"white\",\"linecolor\":\"white\",\"ticks\":\"\"},\"bgcolor\":\"#E5ECF6\",\"caxis\":{\"gridcolor\":\"white\",\"linecolor\":\"white\",\"ticks\":\"\"}},\"title\":{\"x\":0.05},\"xaxis\":{\"automargin\":true,\"gridcolor\":\"white\",\"linecolor\":\"white\",\"ticks\":\"\",\"title\":{\"standoff\":15},\"zerolinecolor\":\"white\",\"zerolinewidth\":2},\"yaxis\":{\"automargin\":true,\"gridcolor\":\"white\",\"linecolor\":\"white\",\"ticks\":\"\",\"title\":{\"standoff\":15},\"zerolinecolor\":\"white\",\"zerolinewidth\":2}}},\"title\":{\"font\":{\"color\":\"#4D5663\"}},\"xaxis\":{\"gridcolor\":\"#E1E5ED\",\"showgrid\":true,\"tickfont\":{\"color\":\"#4D5663\"},\"title\":{\"font\":{\"color\":\"#4D5663\"},\"text\":\"\"},\"zerolinecolor\":\"#E1E5ED\"},\"yaxis\":{\"gridcolor\":\"#E1E5ED\",\"showgrid\":true,\"tickfont\":{\"color\":\"#4D5663\"},\"title\":{\"font\":{\"color\":\"#4D5663\"},\"text\":\"\"},\"zerolinecolor\":\"#E1E5ED\"}},                        {\"showLink\": true, \"linkText\": \"Export to plot.ly\", \"plotlyServerURL\": \"https://plot.ly\", \"responsive\": true}                    ).then(function(){\n",
       "                            \n",
       "var gd = document.getElementById('006287d2-7122-4dcb-b136-076334321165');\n",
       "var x = new MutationObserver(function (mutations, observer) {{\n",
       "        var display = window.getComputedStyle(gd).display;\n",
       "        if (!display || display === 'none') {{\n",
       "            console.log([gd, 'removed!']);\n",
       "            Plotly.purge(gd);\n",
       "            observer.disconnect();\n",
       "        }}\n",
       "}});\n",
       "\n",
       "// Listen for the removal of the full notebook cells\n",
       "var notebookContainer = gd.closest('#notebook-container');\n",
       "if (notebookContainer) {{\n",
       "    x.observe(notebookContainer, {childList: true});\n",
       "}}\n",
       "\n",
       "// Listen for the clearing of the current output cell\n",
       "var outputEl = gd.closest('.output');\n",
       "if (outputEl) {{\n",
       "    x.observe(outputEl, {childList: true});\n",
       "}}\n",
       "\n",
       "                        })                };                });            </script>        </div>"
      ]
     },
     "metadata": {},
     "output_type": "display_data"
    }
   ],
   "source": [
    "df.iplot(kind = 'hist', bins = 25, barmode = 'overlay', bargap = 0.5)"
   ]
  },
  {
   "cell_type": "code",
   "execution_count": 33,
   "id": "958ff23f",
   "metadata": {},
   "outputs": [
    {
     "name": "stderr",
     "output_type": "stream",
     "text": [
      "C:\\Users\\abdulsamad\\AppData\\Roaming\\Python\\Python311\\site-packages\\cufflinks\\plotlytools.py:850: FutureWarning:\n",
      "\n",
      "The pandas.np module is deprecated and will be removed from pandas in a future version. Import numpy directly instead.\n",
      "\n"
     ]
    },
    {
     "data": {
      "application/vnd.plotly.v1+json": {
       "config": {
        "linkText": "Export to plot.ly",
        "plotlyServerURL": "https://plot.ly",
        "showLink": true
       },
       "data": [
        {
         "line": {
          "color": "rgba(255, 153, 51, 1.0)",
          "dash": "solid",
          "shape": "linear",
          "width": 1.3
         },
         "mode": "lines",
         "name": "A",
         "text": "",
         "type": "scatter",
         "x": [
          0,
          1,
          2,
          3,
          4,
          5,
          6,
          7,
          8,
          9,
          10,
          11,
          12,
          13,
          14,
          15,
          16,
          17,
          18,
          19,
          20,
          21,
          22,
          23,
          24,
          25,
          26,
          27,
          28,
          29,
          30,
          31,
          32,
          33,
          34,
          35,
          36,
          37,
          38,
          39,
          40,
          41,
          42,
          43,
          44,
          45,
          46,
          47,
          48,
          49,
          50,
          51,
          52,
          53,
          54,
          55,
          56,
          57,
          58,
          59,
          60,
          61,
          62,
          63,
          64,
          65,
          66,
          67,
          68,
          69,
          70,
          71,
          72,
          73,
          74,
          75,
          76,
          77,
          78,
          79,
          80,
          81,
          82,
          83,
          84,
          85,
          86,
          87,
          88,
          89,
          90,
          91,
          92,
          93,
          94,
          95,
          96,
          97,
          98,
          99
         ],
         "y": [
          1.2011770764175393,
          4.41271447742346,
          9.512312024132667,
          15.572260439872618,
          20.37759530218809,
          24.772379800892026,
          29.014334555166954,
          34.715517866634244,
          41.89971070324318,
          52.75071320488135,
          66.8159478994062,
          82.4087346611642,
          99.0248623102894,
          115.82682839505355,
          133.172728792206,
          150.71429687634787,
          168.1377636736314,
          186.9249253604786,
          208.1099484134743,
          232.24184338762552,
          258.4003304186169,
          287.7334930571479,
          319.6892915550542,
          354.1864575252967,
          391.5542580403122,
          431.9740828518308,
          475.77763365964887,
          524.4145909501407,
          577.2617086740322,
          633.6937598883898,
          693.9628926901304,
          757.6672579417794,
          825.1808025127283,
          896.4389616677894,
          971.6182972948069,
          1051.4255135182643,
          1136.323497667834,
          1226.991315313331,
          1323.2922188216153,
          1423.9805474765562,
          1528.8220363543544,
          1638.4292484119585,
          1753.5105267623562,
          1874.3765413747765,
          2002.027944760073,
          2135.4435918091067,
          2274.229831896885,
          2418.27439730924,
          2568.9073328405207,
          2725.593153539166,
          2889.21986424827,
          3058.6362950546995,
          3233.7282448052492,
          3415.118777966568,
          3602.6328524282503,
          3798.426876744889,
          4001.9646944730293,
          4213.103849736518,
          4432.0130273260975,
          4656.784796569372,
          4886.214966168782,
          5118.26609835616,
          5352.736980196992,
          5589.356841147192,
          5829.03009806599,
          6071.930956557698,
          6319.667564588878,
          6573.502643711347,
          6834.990924297694,
          7104.547837641887,
          7381.996440866641,
          7666.041954411482,
          7957.829451508876,
          8257.282359328523,
          8562.856393476095,
          8874.529724162929,
          9190.985288890235,
          9512.747712106882,
          9840.764688544663,
          10173.803797357377,
          10512.811896891657,
          10858.429257514308,
          11209.902364517557,
          11565.881047861916,
          11927.75681065589,
          12294.87318641079,
          12669.469643313772,
          13051.003955222815,
          13437.818923252651,
          13828.725994792647,
          14224.012037540344,
          14623.28486309213,
          15025.822959884654,
          15431.685603063548,
          15841.935683272899,
          16255.278946450622,
          16670.05598679232,
          17085.851398283346,
          17501.02697477791,
          17916.31312009843
         ]
        },
        {
         "line": {
          "color": "rgba(55, 128, 191, 1.0)",
          "dash": "solid",
          "shape": "linear",
          "width": 1.3
         },
         "mode": "lines",
         "name": "B",
         "text": "",
         "type": "scatter",
         "x": [
          0,
          1,
          2,
          3,
          4,
          5,
          6,
          7,
          8,
          9,
          10,
          11,
          12,
          13,
          14,
          15,
          16,
          17,
          18,
          19,
          20,
          21,
          22,
          23,
          24,
          25,
          26,
          27,
          28,
          29,
          30,
          31,
          32,
          33,
          34,
          35,
          36,
          37,
          38,
          39,
          40,
          41,
          42,
          43,
          44,
          45,
          46,
          47,
          48,
          49,
          50,
          51,
          52,
          53,
          54,
          55,
          56,
          57,
          58,
          59,
          60,
          61,
          62,
          63,
          64,
          65,
          66,
          67,
          68,
          69,
          70,
          71,
          72,
          73,
          74,
          75,
          76,
          77,
          78,
          79,
          80,
          81,
          82,
          83,
          84,
          85,
          86,
          87,
          88,
          89,
          90,
          91,
          92,
          93,
          94,
          95,
          96,
          97,
          98,
          99
         ],
         "y": [
          0.6276277659125329,
          0.6431866670966653,
          -0.3361067147157304,
          -2.75508911708918,
          -6.940228154795096,
          -12.959082236799912,
          -20.47091559089519,
          -31.348817626633497,
          -46.085351309033626,
          -62.97265531175384,
          -82.16613012871865,
          -102.91959598539347,
          -125.07153671178767,
          -148.56920402567025,
          -173.03153101336534,
          -199.3728111324102,
          -227.68012982649452,
          -257.2121591045985,
          -288.1339284626461,
          -320.4439181455277,
          -354.6144511958809,
          -389.94632799402,
          -426.51274319077345,
          -465.44512749923956,
          -505.7167334724851,
          -546.9758992552654,
          -589.7239837644805,
          -633.5336821603908,
          -677.9944467621705,
          -722.5879570858474,
          -768.6113848463532,
          -814.956547661377,
          -860.7904271443766,
          -905.021345957151,
          -947.7291788580013,
          -987.4357648037748,
          -1022.9756775606678,
          -1053.6150251305091,
          -1079.6574126827134,
          -1100.6656587532675,
          -1118.1854155173821,
          -1131.9188318105655,
          -1142.1498283194217,
          -1150.2652845130972,
          -1156.3841310779164,
          -1159.8328153005111,
          -1160.144676060033,
          -1155.5480642679813,
          -1145.3426167793166,
          -1130.1356273400233,
          -1109.4687487838187,
          -1082.0882680036855,
          -1045.9977055091615,
          -1002.7960643876343,
          -950.6111062842301,
          -889.1126509857414,
          -817.1678655477043,
          -734.7463866824284,
          -642.5224701714515,
          -541.3097581487989,
          -430.21810526200613,
          -309.0321420450349,
          -178.35597843285692,
          -37.83558732845603,
          111.45623215562821,
          268.34522637926614,
          431.46553009694685,
          602.0388199422246,
          779.9608684425469,
          967.0261941483624,
          1164.3823273792275,
          1372.0200401457994,
          1589.3555961645197,
          1815.8283783052323,
          2050.6589207187367,
          2293.410886122764,
          2543.870993378913,
          2801.5238360716926,
          3067.962869373556,
          3343.587006130028,
          3628.9091636363783,
          3924.846658844929,
          4232.15550910688,
          4549.202476151565,
          4875.124122216899,
          5211.990517080619,
          5558.927249554793,
          5915.317449934851,
          6280.431206600094,
          6654.576048975112,
          7038.567706846171,
          7432.649740882929,
          7836.25328999249,
          8251.726220913539,
          8678.272174692202,
          9117.260193287611,
          9569.199306113102,
          10035.39606944763,
          10515.93191250344,
          11010.055514858559
         ]
        },
        {
         "line": {
          "color": "rgba(50, 171, 96, 1.0)",
          "dash": "solid",
          "shape": "linear",
          "width": 1.3
         },
         "mode": "lines",
         "name": "C",
         "text": "",
         "type": "scatter",
         "x": [
          0,
          1,
          2,
          3,
          4,
          5,
          6,
          7,
          8,
          9,
          10,
          11,
          12,
          13,
          14,
          15,
          16,
          17,
          18,
          19,
          20,
          21,
          22,
          23,
          24,
          25,
          26,
          27,
          28,
          29,
          30,
          31,
          32,
          33,
          34,
          35,
          36,
          37,
          38,
          39,
          40,
          41,
          42,
          43,
          44,
          45,
          46,
          47,
          48,
          49,
          50,
          51,
          52,
          53,
          54,
          55,
          56,
          57,
          58,
          59,
          60,
          61,
          62,
          63,
          64,
          65,
          66,
          67,
          68,
          69,
          70,
          71,
          72,
          73,
          74,
          75,
          76,
          77,
          78,
          79,
          80,
          81,
          82,
          83,
          84,
          85,
          86,
          87,
          88,
          89,
          90,
          91,
          92,
          93,
          94,
          95,
          96,
          97,
          98,
          99
         ],
         "y": [
          0.5349870806538379,
          1.1462716857378334,
          2.6245560042430225,
          3.6697376650186366,
          5.680340664212876,
          7.052376858057731,
          7.365637957861927,
          7.240090217119429,
          5.308192557489496,
          2.100622142056693,
          -2.6021981222672927,
          -9.44802010598626,
          -18.955289549379366,
          -29.417094934209942,
          -40.96729450714767,
          -53.502954861388254,
          -67.89540046873066,
          -86.6698733641632,
          -111.5520016062003,
          -139.84143346062626,
          -172.13726600797818,
          -210.08170272486805,
          -253.12238782411563,
          -299.0810294914378,
          -350.118651759784,
          -407.28218327407933,
          -470.80047694897,
          -540.9355898796309,
          -617.1281264673502,
          -699.7128648873804,
          -790.6046992703946,
          -888.9901622521421,
          -994.5129254378144,
          -1109.157491248192,
          -1231.484668458213,
          -1360.9435428098602,
          -1495.5330302703562,
          -1635.188223923193,
          -1779.0044864516017,
          -1929.475166043564,
          -2085.50993857592,
          -2244.4026103557107,
          -2407.06611136583,
          -2570.87184097781,
          -2735.937006789521,
          -2902.765940904719,
          -3072.053862856275,
          -3242.097815494343,
          -3411.5584435903343,
          -3578.4188389407022,
          -3742.9085649751287,
          -3906.605225752303,
          -4068.261094685875,
          -4227.877334702038,
          -4386.846920703218,
          -4545.6087009609455,
          -4705.240592137499,
          -4864.661994193907,
          -5023.6244568380625,
          -5182.00687204275,
          -5338.948271317355,
          -5495.620742900226,
          -5653.426819444314,
          -5811.844763490173,
          -5972.845918116022,
          -6135.528365720558,
          -6300.012613591025,
          -6465.304770119482,
          -6631.26264829671,
          -6796.998241950629,
          -6964.406993628973,
          -7133.468300373127,
          -7304.242574728015,
          -7479.613276071517,
          -7659.952310738288,
          -7845.6383493024805,
          -8037.292090507112,
          -8236.199883668796,
          -8442.694851438058,
          -8656.517683577043,
          -8876.959058133552,
          -9102.145592139488,
          -9332.383603737982,
          -9567.01596177196,
          -9807.1765110558,
          -10053.16984814591,
          -10304.795937141527,
          -10562.69028991868,
          -10828.257890207055,
          -11101.160875186737,
          -11382.10409306736,
          -11670.406254678126,
          -11966.778620494777,
          -12268.976662681462,
          -12576.798763309973,
          -12890.972296757316,
          -13212.241690405934,
          -13540.157654816447,
          -13874.282909417514,
          -14215.753133893699
         ]
        },
        {
         "connectgaps": false,
         "fill": "tozeroy",
         "line": {
          "color": "green",
          "dash": "solid",
          "shape": "linear",
          "width": 0.5
         },
         "mode": "lines",
         "name": "Spread",
         "showlegend": false,
         "type": "scatter",
         "x": [
          0,
          1,
          2,
          3,
          4,
          5,
          6,
          7,
          8,
          9,
          10,
          11,
          12,
          13,
          14,
          15,
          16,
          17,
          18,
          19,
          20,
          21,
          22,
          23,
          24,
          25,
          26,
          27,
          28,
          29,
          30,
          31,
          32,
          33,
          34,
          35,
          36,
          37,
          38,
          39,
          40,
          41,
          42,
          43,
          44,
          45,
          46,
          47,
          48,
          49,
          50,
          51,
          52,
          53,
          54,
          55,
          56,
          57,
          58,
          59,
          60,
          61,
          62,
          63,
          64,
          65,
          66,
          67,
          68,
          69,
          70,
          71,
          72,
          73,
          74,
          75,
          76,
          77,
          78,
          79,
          80,
          81,
          82,
          83,
          84,
          85,
          86,
          87,
          88,
          89,
          90,
          91,
          92,
          93,
          94,
          95,
          96,
          97,
          98,
          99
         ],
         "xaxis": "x2",
         "y": [
          0.5735493105050065,
          3.769527810326795,
          9.848418738848398,
          18.3273495569618,
          27.317823456983188,
          37.73146203769194,
          49.48525014606214,
          66.06433549326775,
          87.98506201227681,
          115.72336851663519,
          148.98207802812485,
          185.32833064655767,
          224.09639902207707,
          264.3960324207238,
          306.2042598055713,
          350.08710800875804,
          395.81789350012593,
          444.1370844650771,
          496.24387687612045,
          552.6857615331533,
          613.0147816144978,
          677.6798210511679,
          746.2020347458276,
          819.6315850245362,
          897.2709915127973,
          978.9499821070963,
          1065.5016174241293,
          1157.9482731105313,
          1255.2561554362028,
          1356.281716974237,
          1462.5742775364836,
          1572.6238056031566,
          1685.971229657105,
          1801.4603076249405,
          1919.3474761528082,
          2038.8612783220392,
          2159.299175228502,
          2280.60634044384,
          2402.949631504329,
          2524.6462062298237,
          2647.0074518717365,
          2770.348080222524,
          2895.660355081778,
          3024.641825887874,
          3158.4120758379895,
          3295.276407109618,
          3434.374507956918,
          3573.8224615772215,
          3714.249949619837,
          3855.7287808791893,
          3998.6886130320886,
          4140.724563058385,
          4279.7259503144105,
          4417.914842354202,
          4553.243958712481,
          4687.539527730631,
          4819.132560020734,
          4947.850236418946,
          5074.535497497549,
          5198.094554718171,
          5316.433071430788,
          5427.298240401195,
          5531.092958629849,
          5627.192428475649,
          5717.573865910362,
          5803.585730178432,
          5888.202034491931,
          5971.463823769123,
          6055.030055855147,
          6137.521643493525,
          6217.614113487413,
          6294.021914265682,
          6368.473855344357,
          6441.453981023291,
          6512.197472757358,
          6581.1188380401645,
          6647.114295511322,
          6711.22387603519,
          6772.801819171107,
          6830.216791227349,
          6883.902733255279,
          6933.582598669379,
          6977.746855410676,
          7016.678571710351,
          7052.632688438991,
          7082.882669330172,
          7110.542393758979,
          7135.686505287965,
          7157.387716652557,
          7174.149945817535,
          7185.444330694173,
          7190.635122209202,
          7189.569669892164,
          7179.959382150009,
          7163.663508580697,
          7138.018753163011,
          7100.856680679217,
          7050.4553288357165,
          6985.0950622744695,
          6906.257605239873
         ],
         "yaxis": "y2"
        },
        {
         "connectgaps": false,
         "fill": "tozeroy",
         "line": {
          "color": "red",
          "dash": "solid",
          "shape": "linear",
          "width": 0.5
         },
         "mode": "lines",
         "name": "Spread",
         "showlegend": false,
         "type": "scatter",
         "x": [
          0,
          1,
          2,
          3,
          4,
          5,
          6,
          7,
          8,
          9,
          10,
          11,
          12,
          13,
          14,
          15,
          16,
          17,
          18,
          19,
          20,
          21,
          22,
          23,
          24,
          25,
          26,
          27,
          28,
          29,
          30,
          31,
          32,
          33,
          34,
          35,
          36,
          37,
          38,
          39,
          40,
          41,
          42,
          43,
          44,
          45,
          46,
          47,
          48,
          49,
          50,
          51,
          52,
          53,
          54,
          55,
          56,
          57,
          58,
          59,
          60,
          61,
          62,
          63,
          64,
          65,
          66,
          67,
          68,
          69,
          70,
          71,
          72,
          73,
          74,
          75,
          76,
          77,
          78,
          79,
          80,
          81,
          82,
          83,
          84,
          85,
          86,
          87,
          88,
          89,
          90,
          91,
          92,
          93,
          94,
          95,
          96,
          97,
          98,
          99
         ],
         "xaxis": "x2",
         "y": [
          "",
          "",
          "",
          "",
          "",
          "",
          "",
          "",
          "",
          "",
          "",
          "",
          "",
          "",
          "",
          "",
          "",
          "",
          "",
          "",
          "",
          "",
          "",
          "",
          "",
          "",
          "",
          "",
          "",
          "",
          "",
          "",
          "",
          "",
          "",
          "",
          "",
          "",
          "",
          "",
          "",
          "",
          "",
          "",
          "",
          "",
          "",
          "",
          "",
          "",
          "",
          "",
          "",
          "",
          "",
          "",
          "",
          "",
          "",
          "",
          "",
          "",
          "",
          "",
          "",
          "",
          "",
          "",
          "",
          "",
          "",
          "",
          "",
          "",
          "",
          "",
          "",
          "",
          "",
          "",
          "",
          "",
          "",
          "",
          "",
          "",
          "",
          "",
          "",
          "",
          "",
          "",
          "",
          "",
          "",
          "",
          "",
          "",
          "",
          ""
         ],
         "yaxis": "y2"
        }
       ],
       "layout": {
        "hovermode": "x",
        "legend": {
         "bgcolor": "#F5F6F9",
         "font": {
          "color": "#4D5663"
         }
        },
        "paper_bgcolor": "#F5F6F9",
        "plot_bgcolor": "#F5F6F9",
        "template": {
         "data": {
          "bar": [
           {
            "error_x": {
             "color": "#2a3f5f"
            },
            "error_y": {
             "color": "#2a3f5f"
            },
            "marker": {
             "line": {
              "color": "#E5ECF6",
              "width": 0.5
             },
             "pattern": {
              "fillmode": "overlay",
              "size": 10,
              "solidity": 0.2
             }
            },
            "type": "bar"
           }
          ],
          "barpolar": [
           {
            "marker": {
             "line": {
              "color": "#E5ECF6",
              "width": 0.5
             },
             "pattern": {
              "fillmode": "overlay",
              "size": 10,
              "solidity": 0.2
             }
            },
            "type": "barpolar"
           }
          ],
          "carpet": [
           {
            "aaxis": {
             "endlinecolor": "#2a3f5f",
             "gridcolor": "white",
             "linecolor": "white",
             "minorgridcolor": "white",
             "startlinecolor": "#2a3f5f"
            },
            "baxis": {
             "endlinecolor": "#2a3f5f",
             "gridcolor": "white",
             "linecolor": "white",
             "minorgridcolor": "white",
             "startlinecolor": "#2a3f5f"
            },
            "type": "carpet"
           }
          ],
          "choropleth": [
           {
            "colorbar": {
             "outlinewidth": 0,
             "ticks": ""
            },
            "type": "choropleth"
           }
          ],
          "contour": [
           {
            "colorbar": {
             "outlinewidth": 0,
             "ticks": ""
            },
            "colorscale": [
             [
              0,
              "#0d0887"
             ],
             [
              0.1111111111111111,
              "#46039f"
             ],
             [
              0.2222222222222222,
              "#7201a8"
             ],
             [
              0.3333333333333333,
              "#9c179e"
             ],
             [
              0.4444444444444444,
              "#bd3786"
             ],
             [
              0.5555555555555556,
              "#d8576b"
             ],
             [
              0.6666666666666666,
              "#ed7953"
             ],
             [
              0.7777777777777778,
              "#fb9f3a"
             ],
             [
              0.8888888888888888,
              "#fdca26"
             ],
             [
              1,
              "#f0f921"
             ]
            ],
            "type": "contour"
           }
          ],
          "contourcarpet": [
           {
            "colorbar": {
             "outlinewidth": 0,
             "ticks": ""
            },
            "type": "contourcarpet"
           }
          ],
          "heatmap": [
           {
            "colorbar": {
             "outlinewidth": 0,
             "ticks": ""
            },
            "colorscale": [
             [
              0,
              "#0d0887"
             ],
             [
              0.1111111111111111,
              "#46039f"
             ],
             [
              0.2222222222222222,
              "#7201a8"
             ],
             [
              0.3333333333333333,
              "#9c179e"
             ],
             [
              0.4444444444444444,
              "#bd3786"
             ],
             [
              0.5555555555555556,
              "#d8576b"
             ],
             [
              0.6666666666666666,
              "#ed7953"
             ],
             [
              0.7777777777777778,
              "#fb9f3a"
             ],
             [
              0.8888888888888888,
              "#fdca26"
             ],
             [
              1,
              "#f0f921"
             ]
            ],
            "type": "heatmap"
           }
          ],
          "heatmapgl": [
           {
            "colorbar": {
             "outlinewidth": 0,
             "ticks": ""
            },
            "colorscale": [
             [
              0,
              "#0d0887"
             ],
             [
              0.1111111111111111,
              "#46039f"
             ],
             [
              0.2222222222222222,
              "#7201a8"
             ],
             [
              0.3333333333333333,
              "#9c179e"
             ],
             [
              0.4444444444444444,
              "#bd3786"
             ],
             [
              0.5555555555555556,
              "#d8576b"
             ],
             [
              0.6666666666666666,
              "#ed7953"
             ],
             [
              0.7777777777777778,
              "#fb9f3a"
             ],
             [
              0.8888888888888888,
              "#fdca26"
             ],
             [
              1,
              "#f0f921"
             ]
            ],
            "type": "heatmapgl"
           }
          ],
          "histogram": [
           {
            "marker": {
             "pattern": {
              "fillmode": "overlay",
              "size": 10,
              "solidity": 0.2
             }
            },
            "type": "histogram"
           }
          ],
          "histogram2d": [
           {
            "colorbar": {
             "outlinewidth": 0,
             "ticks": ""
            },
            "colorscale": [
             [
              0,
              "#0d0887"
             ],
             [
              0.1111111111111111,
              "#46039f"
             ],
             [
              0.2222222222222222,
              "#7201a8"
             ],
             [
              0.3333333333333333,
              "#9c179e"
             ],
             [
              0.4444444444444444,
              "#bd3786"
             ],
             [
              0.5555555555555556,
              "#d8576b"
             ],
             [
              0.6666666666666666,
              "#ed7953"
             ],
             [
              0.7777777777777778,
              "#fb9f3a"
             ],
             [
              0.8888888888888888,
              "#fdca26"
             ],
             [
              1,
              "#f0f921"
             ]
            ],
            "type": "histogram2d"
           }
          ],
          "histogram2dcontour": [
           {
            "colorbar": {
             "outlinewidth": 0,
             "ticks": ""
            },
            "colorscale": [
             [
              0,
              "#0d0887"
             ],
             [
              0.1111111111111111,
              "#46039f"
             ],
             [
              0.2222222222222222,
              "#7201a8"
             ],
             [
              0.3333333333333333,
              "#9c179e"
             ],
             [
              0.4444444444444444,
              "#bd3786"
             ],
             [
              0.5555555555555556,
              "#d8576b"
             ],
             [
              0.6666666666666666,
              "#ed7953"
             ],
             [
              0.7777777777777778,
              "#fb9f3a"
             ],
             [
              0.8888888888888888,
              "#fdca26"
             ],
             [
              1,
              "#f0f921"
             ]
            ],
            "type": "histogram2dcontour"
           }
          ],
          "mesh3d": [
           {
            "colorbar": {
             "outlinewidth": 0,
             "ticks": ""
            },
            "type": "mesh3d"
           }
          ],
          "parcoords": [
           {
            "line": {
             "colorbar": {
              "outlinewidth": 0,
              "ticks": ""
             }
            },
            "type": "parcoords"
           }
          ],
          "pie": [
           {
            "automargin": true,
            "type": "pie"
           }
          ],
          "scatter": [
           {
            "fillpattern": {
             "fillmode": "overlay",
             "size": 10,
             "solidity": 0.2
            },
            "type": "scatter"
           }
          ],
          "scatter3d": [
           {
            "line": {
             "colorbar": {
              "outlinewidth": 0,
              "ticks": ""
             }
            },
            "marker": {
             "colorbar": {
              "outlinewidth": 0,
              "ticks": ""
             }
            },
            "type": "scatter3d"
           }
          ],
          "scattercarpet": [
           {
            "marker": {
             "colorbar": {
              "outlinewidth": 0,
              "ticks": ""
             }
            },
            "type": "scattercarpet"
           }
          ],
          "scattergeo": [
           {
            "marker": {
             "colorbar": {
              "outlinewidth": 0,
              "ticks": ""
             }
            },
            "type": "scattergeo"
           }
          ],
          "scattergl": [
           {
            "marker": {
             "colorbar": {
              "outlinewidth": 0,
              "ticks": ""
             }
            },
            "type": "scattergl"
           }
          ],
          "scattermapbox": [
           {
            "marker": {
             "colorbar": {
              "outlinewidth": 0,
              "ticks": ""
             }
            },
            "type": "scattermapbox"
           }
          ],
          "scatterpolar": [
           {
            "marker": {
             "colorbar": {
              "outlinewidth": 0,
              "ticks": ""
             }
            },
            "type": "scatterpolar"
           }
          ],
          "scatterpolargl": [
           {
            "marker": {
             "colorbar": {
              "outlinewidth": 0,
              "ticks": ""
             }
            },
            "type": "scatterpolargl"
           }
          ],
          "scatterternary": [
           {
            "marker": {
             "colorbar": {
              "outlinewidth": 0,
              "ticks": ""
             }
            },
            "type": "scatterternary"
           }
          ],
          "surface": [
           {
            "colorbar": {
             "outlinewidth": 0,
             "ticks": ""
            },
            "colorscale": [
             [
              0,
              "#0d0887"
             ],
             [
              0.1111111111111111,
              "#46039f"
             ],
             [
              0.2222222222222222,
              "#7201a8"
             ],
             [
              0.3333333333333333,
              "#9c179e"
             ],
             [
              0.4444444444444444,
              "#bd3786"
             ],
             [
              0.5555555555555556,
              "#d8576b"
             ],
             [
              0.6666666666666666,
              "#ed7953"
             ],
             [
              0.7777777777777778,
              "#fb9f3a"
             ],
             [
              0.8888888888888888,
              "#fdca26"
             ],
             [
              1,
              "#f0f921"
             ]
            ],
            "type": "surface"
           }
          ],
          "table": [
           {
            "cells": {
             "fill": {
              "color": "#EBF0F8"
             },
             "line": {
              "color": "white"
             }
            },
            "header": {
             "fill": {
              "color": "#C8D4E3"
             },
             "line": {
              "color": "white"
             }
            },
            "type": "table"
           }
          ]
         },
         "layout": {
          "annotationdefaults": {
           "arrowcolor": "#2a3f5f",
           "arrowhead": 0,
           "arrowwidth": 1
          },
          "autotypenumbers": "strict",
          "coloraxis": {
           "colorbar": {
            "outlinewidth": 0,
            "ticks": ""
           }
          },
          "colorscale": {
           "diverging": [
            [
             0,
             "#8e0152"
            ],
            [
             0.1,
             "#c51b7d"
            ],
            [
             0.2,
             "#de77ae"
            ],
            [
             0.3,
             "#f1b6da"
            ],
            [
             0.4,
             "#fde0ef"
            ],
            [
             0.5,
             "#f7f7f7"
            ],
            [
             0.6,
             "#e6f5d0"
            ],
            [
             0.7,
             "#b8e186"
            ],
            [
             0.8,
             "#7fbc41"
            ],
            [
             0.9,
             "#4d9221"
            ],
            [
             1,
             "#276419"
            ]
           ],
           "sequential": [
            [
             0,
             "#0d0887"
            ],
            [
             0.1111111111111111,
             "#46039f"
            ],
            [
             0.2222222222222222,
             "#7201a8"
            ],
            [
             0.3333333333333333,
             "#9c179e"
            ],
            [
             0.4444444444444444,
             "#bd3786"
            ],
            [
             0.5555555555555556,
             "#d8576b"
            ],
            [
             0.6666666666666666,
             "#ed7953"
            ],
            [
             0.7777777777777778,
             "#fb9f3a"
            ],
            [
             0.8888888888888888,
             "#fdca26"
            ],
            [
             1,
             "#f0f921"
            ]
           ],
           "sequentialminus": [
            [
             0,
             "#0d0887"
            ],
            [
             0.1111111111111111,
             "#46039f"
            ],
            [
             0.2222222222222222,
             "#7201a8"
            ],
            [
             0.3333333333333333,
             "#9c179e"
            ],
            [
             0.4444444444444444,
             "#bd3786"
            ],
            [
             0.5555555555555556,
             "#d8576b"
            ],
            [
             0.6666666666666666,
             "#ed7953"
            ],
            [
             0.7777777777777778,
             "#fb9f3a"
            ],
            [
             0.8888888888888888,
             "#fdca26"
            ],
            [
             1,
             "#f0f921"
            ]
           ]
          },
          "colorway": [
           "#636efa",
           "#EF553B",
           "#00cc96",
           "#ab63fa",
           "#FFA15A",
           "#19d3f3",
           "#FF6692",
           "#B6E880",
           "#FF97FF",
           "#FECB52"
          ],
          "font": {
           "color": "#2a3f5f"
          },
          "geo": {
           "bgcolor": "white",
           "lakecolor": "white",
           "landcolor": "#E5ECF6",
           "showlakes": true,
           "showland": true,
           "subunitcolor": "white"
          },
          "hoverlabel": {
           "align": "left"
          },
          "hovermode": "closest",
          "mapbox": {
           "style": "light"
          },
          "paper_bgcolor": "white",
          "plot_bgcolor": "#E5ECF6",
          "polar": {
           "angularaxis": {
            "gridcolor": "white",
            "linecolor": "white",
            "ticks": ""
           },
           "bgcolor": "#E5ECF6",
           "radialaxis": {
            "gridcolor": "white",
            "linecolor": "white",
            "ticks": ""
           }
          },
          "scene": {
           "xaxis": {
            "backgroundcolor": "#E5ECF6",
            "gridcolor": "white",
            "gridwidth": 2,
            "linecolor": "white",
            "showbackground": true,
            "ticks": "",
            "zerolinecolor": "white"
           },
           "yaxis": {
            "backgroundcolor": "#E5ECF6",
            "gridcolor": "white",
            "gridwidth": 2,
            "linecolor": "white",
            "showbackground": true,
            "ticks": "",
            "zerolinecolor": "white"
           },
           "zaxis": {
            "backgroundcolor": "#E5ECF6",
            "gridcolor": "white",
            "gridwidth": 2,
            "linecolor": "white",
            "showbackground": true,
            "ticks": "",
            "zerolinecolor": "white"
           }
          },
          "shapedefaults": {
           "line": {
            "color": "#2a3f5f"
           }
          },
          "ternary": {
           "aaxis": {
            "gridcolor": "white",
            "linecolor": "white",
            "ticks": ""
           },
           "baxis": {
            "gridcolor": "white",
            "linecolor": "white",
            "ticks": ""
           },
           "bgcolor": "#E5ECF6",
           "caxis": {
            "gridcolor": "white",
            "linecolor": "white",
            "ticks": ""
           }
          },
          "title": {
           "x": 0.05
          },
          "xaxis": {
           "automargin": true,
           "gridcolor": "white",
           "linecolor": "white",
           "ticks": "",
           "title": {
            "standoff": 15
           },
           "zerolinecolor": "white",
           "zerolinewidth": 2
          },
          "yaxis": {
           "automargin": true,
           "gridcolor": "white",
           "linecolor": "white",
           "ticks": "",
           "title": {
            "standoff": 15
           },
           "zerolinecolor": "white",
           "zerolinewidth": 2
          }
         }
        },
        "title": {
         "font": {
          "color": "#4D5663"
         }
        },
        "xaxis": {
         "gridcolor": "#E1E5ED",
         "showgrid": true,
         "tickfont": {
          "color": "#4D5663"
         },
         "title": {
          "font": {
           "color": "#4D5663"
          },
          "text": ""
         },
         "zerolinecolor": "#E1E5ED"
        },
        "xaxis2": {
         "anchor": "y2",
         "gridcolor": "#E1E5ED",
         "showgrid": true,
         "showticklabels": false,
         "tickfont": {
          "color": "#4D5663"
         },
         "title": {
          "font": {
           "color": "#4D5663"
          },
          "text": ""
         },
         "zerolinecolor": "#E1E5ED"
        },
        "yaxis": {
         "domain": [
          0.3,
          1
         ],
         "gridcolor": "#E1E5ED",
         "showgrid": true,
         "tickfont": {
          "color": "#4D5663"
         },
         "title": {
          "font": {
           "color": "#4D5663"
          },
          "text": ""
         },
         "zerolinecolor": "#E1E5ED"
        },
        "yaxis2": {
         "domain": [
          0,
          0.25
         ],
         "gridcolor": "#E1E5ED",
         "showgrid": true,
         "tickfont": {
          "color": "#4D5663"
         },
         "title": {
          "font": {
           "color": "#4D5663"
          },
          "text": "Spread"
         },
         "zerolinecolor": "#E1E5ED"
        }
       }
      },
      "text/html": [
       "<div>                            <div id=\"527c3434-5a39-4198-af43-ff34fb68f42e\" class=\"plotly-graph-div\" style=\"height:525px; width:100%;\"></div>            <script type=\"text/javascript\">                require([\"plotly\"], function(Plotly) {                    window.PLOTLYENV=window.PLOTLYENV || {};\n",
       "                    window.PLOTLYENV.BASE_URL='https://plot.ly';                                    if (document.getElementById(\"527c3434-5a39-4198-af43-ff34fb68f42e\")) {                    Plotly.newPlot(                        \"527c3434-5a39-4198-af43-ff34fb68f42e\",                        [{\"line\":{\"color\":\"rgba(255, 153, 51, 1.0)\",\"dash\":\"solid\",\"shape\":\"linear\",\"width\":1.3},\"mode\":\"lines\",\"name\":\"A\",\"text\":\"\",\"x\":[0,1,2,3,4,5,6,7,8,9,10,11,12,13,14,15,16,17,18,19,20,21,22,23,24,25,26,27,28,29,30,31,32,33,34,35,36,37,38,39,40,41,42,43,44,45,46,47,48,49,50,51,52,53,54,55,56,57,58,59,60,61,62,63,64,65,66,67,68,69,70,71,72,73,74,75,76,77,78,79,80,81,82,83,84,85,86,87,88,89,90,91,92,93,94,95,96,97,98,99],\"y\":[1.2011770764175393,4.41271447742346,9.512312024132667,15.572260439872618,20.37759530218809,24.772379800892026,29.014334555166954,34.715517866634244,41.89971070324318,52.75071320488135,66.8159478994062,82.4087346611642,99.0248623102894,115.82682839505355,133.172728792206,150.71429687634787,168.1377636736314,186.9249253604786,208.1099484134743,232.24184338762552,258.4003304186169,287.7334930571479,319.6892915550542,354.1864575252967,391.5542580403122,431.9740828518308,475.77763365964887,524.4145909501407,577.2617086740322,633.6937598883898,693.9628926901304,757.6672579417794,825.1808025127283,896.4389616677894,971.6182972948069,1051.4255135182643,1136.323497667834,1226.991315313331,1323.2922188216153,1423.9805474765562,1528.8220363543544,1638.4292484119585,1753.5105267623562,1874.3765413747765,2002.027944760073,2135.4435918091067,2274.229831896885,2418.27439730924,2568.9073328405207,2725.593153539166,2889.21986424827,3058.6362950546995,3233.7282448052492,3415.118777966568,3602.6328524282503,3798.426876744889,4001.9646944730293,4213.103849736518,4432.0130273260975,4656.784796569372,4886.214966168782,5118.26609835616,5352.736980196992,5589.356841147192,5829.03009806599,6071.930956557698,6319.667564588878,6573.502643711347,6834.990924297694,7104.547837641887,7381.996440866641,7666.041954411482,7957.829451508876,8257.282359328523,8562.856393476095,8874.529724162929,9190.985288890235,9512.747712106882,9840.764688544663,10173.803797357377,10512.811896891657,10858.429257514308,11209.902364517557,11565.881047861916,11927.75681065589,12294.87318641079,12669.469643313772,13051.003955222815,13437.818923252651,13828.725994792647,14224.012037540344,14623.28486309213,15025.822959884654,15431.685603063548,15841.935683272899,16255.278946450622,16670.05598679232,17085.851398283346,17501.02697477791,17916.31312009843],\"type\":\"scatter\"},{\"line\":{\"color\":\"rgba(55, 128, 191, 1.0)\",\"dash\":\"solid\",\"shape\":\"linear\",\"width\":1.3},\"mode\":\"lines\",\"name\":\"B\",\"text\":\"\",\"x\":[0,1,2,3,4,5,6,7,8,9,10,11,12,13,14,15,16,17,18,19,20,21,22,23,24,25,26,27,28,29,30,31,32,33,34,35,36,37,38,39,40,41,42,43,44,45,46,47,48,49,50,51,52,53,54,55,56,57,58,59,60,61,62,63,64,65,66,67,68,69,70,71,72,73,74,75,76,77,78,79,80,81,82,83,84,85,86,87,88,89,90,91,92,93,94,95,96,97,98,99],\"y\":[0.6276277659125329,0.6431866670966653,-0.3361067147157304,-2.75508911708918,-6.940228154795096,-12.959082236799912,-20.47091559089519,-31.348817626633497,-46.085351309033626,-62.97265531175384,-82.16613012871865,-102.91959598539347,-125.07153671178767,-148.56920402567025,-173.03153101336534,-199.3728111324102,-227.68012982649452,-257.2121591045985,-288.1339284626461,-320.4439181455277,-354.6144511958809,-389.94632799402,-426.51274319077345,-465.44512749923956,-505.7167334724851,-546.9758992552654,-589.7239837644805,-633.5336821603908,-677.9944467621705,-722.5879570858474,-768.6113848463532,-814.956547661377,-860.7904271443766,-905.021345957151,-947.7291788580013,-987.4357648037748,-1022.9756775606678,-1053.6150251305091,-1079.6574126827134,-1100.6656587532675,-1118.1854155173821,-1131.9188318105655,-1142.1498283194217,-1150.2652845130972,-1156.3841310779164,-1159.8328153005111,-1160.144676060033,-1155.5480642679813,-1145.3426167793166,-1130.1356273400233,-1109.4687487838187,-1082.0882680036855,-1045.9977055091615,-1002.7960643876343,-950.6111062842301,-889.1126509857414,-817.1678655477043,-734.7463866824284,-642.5224701714515,-541.3097581487989,-430.21810526200613,-309.0321420450349,-178.35597843285692,-37.83558732845603,111.45623215562821,268.34522637926614,431.46553009694685,602.0388199422246,779.9608684425469,967.0261941483624,1164.3823273792275,1372.0200401457994,1589.3555961645197,1815.8283783052323,2050.6589207187367,2293.410886122764,2543.870993378913,2801.5238360716926,3067.962869373556,3343.587006130028,3628.9091636363783,3924.846658844929,4232.15550910688,4549.202476151565,4875.124122216899,5211.990517080619,5558.927249554793,5915.317449934851,6280.431206600094,6654.576048975112,7038.567706846171,7432.649740882929,7836.25328999249,8251.726220913539,8678.272174692202,9117.260193287611,9569.199306113102,10035.39606944763,10515.93191250344,11010.055514858559],\"type\":\"scatter\"},{\"line\":{\"color\":\"rgba(50, 171, 96, 1.0)\",\"dash\":\"solid\",\"shape\":\"linear\",\"width\":1.3},\"mode\":\"lines\",\"name\":\"C\",\"text\":\"\",\"x\":[0,1,2,3,4,5,6,7,8,9,10,11,12,13,14,15,16,17,18,19,20,21,22,23,24,25,26,27,28,29,30,31,32,33,34,35,36,37,38,39,40,41,42,43,44,45,46,47,48,49,50,51,52,53,54,55,56,57,58,59,60,61,62,63,64,65,66,67,68,69,70,71,72,73,74,75,76,77,78,79,80,81,82,83,84,85,86,87,88,89,90,91,92,93,94,95,96,97,98,99],\"y\":[0.5349870806538379,1.1462716857378334,2.6245560042430225,3.6697376650186366,5.680340664212876,7.052376858057731,7.365637957861927,7.240090217119429,5.308192557489496,2.100622142056693,-2.6021981222672927,-9.44802010598626,-18.955289549379366,-29.417094934209942,-40.96729450714767,-53.502954861388254,-67.89540046873066,-86.6698733641632,-111.5520016062003,-139.84143346062626,-172.13726600797818,-210.08170272486805,-253.12238782411563,-299.0810294914378,-350.118651759784,-407.28218327407933,-470.80047694897,-540.9355898796309,-617.1281264673502,-699.7128648873804,-790.6046992703946,-888.9901622521421,-994.5129254378144,-1109.157491248192,-1231.484668458213,-1360.9435428098602,-1495.5330302703562,-1635.188223923193,-1779.0044864516017,-1929.475166043564,-2085.50993857592,-2244.4026103557107,-2407.06611136583,-2570.87184097781,-2735.937006789521,-2902.765940904719,-3072.053862856275,-3242.097815494343,-3411.5584435903343,-3578.4188389407022,-3742.9085649751287,-3906.605225752303,-4068.261094685875,-4227.877334702038,-4386.846920703218,-4545.6087009609455,-4705.240592137499,-4864.661994193907,-5023.6244568380625,-5182.00687204275,-5338.948271317355,-5495.620742900226,-5653.426819444314,-5811.844763490173,-5972.845918116022,-6135.528365720558,-6300.012613591025,-6465.304770119482,-6631.26264829671,-6796.998241950629,-6964.406993628973,-7133.468300373127,-7304.242574728015,-7479.613276071517,-7659.952310738288,-7845.6383493024805,-8037.292090507112,-8236.199883668796,-8442.694851438058,-8656.517683577043,-8876.959058133552,-9102.145592139488,-9332.383603737982,-9567.01596177196,-9807.1765110558,-10053.16984814591,-10304.795937141527,-10562.69028991868,-10828.257890207055,-11101.160875186737,-11382.10409306736,-11670.406254678126,-11966.778620494777,-12268.976662681462,-12576.798763309973,-12890.972296757316,-13212.241690405934,-13540.157654816447,-13874.282909417514,-14215.753133893699],\"type\":\"scatter\"},{\"connectgaps\":false,\"fill\":\"tozeroy\",\"line\":{\"color\":\"green\",\"dash\":\"solid\",\"shape\":\"linear\",\"width\":0.5},\"mode\":\"lines\",\"name\":\"Spread\",\"showlegend\":false,\"x\":[0,1,2,3,4,5,6,7,8,9,10,11,12,13,14,15,16,17,18,19,20,21,22,23,24,25,26,27,28,29,30,31,32,33,34,35,36,37,38,39,40,41,42,43,44,45,46,47,48,49,50,51,52,53,54,55,56,57,58,59,60,61,62,63,64,65,66,67,68,69,70,71,72,73,74,75,76,77,78,79,80,81,82,83,84,85,86,87,88,89,90,91,92,93,94,95,96,97,98,99],\"xaxis\":\"x2\",\"y\":[0.5735493105050065,3.769527810326795,9.848418738848398,18.3273495569618,27.317823456983188,37.73146203769194,49.48525014606214,66.06433549326775,87.98506201227681,115.72336851663519,148.98207802812485,185.32833064655767,224.09639902207707,264.3960324207238,306.2042598055713,350.08710800875804,395.81789350012593,444.1370844650771,496.24387687612045,552.6857615331533,613.0147816144978,677.6798210511679,746.2020347458276,819.6315850245362,897.2709915127973,978.9499821070963,1065.5016174241293,1157.9482731105313,1255.2561554362028,1356.281716974237,1462.5742775364836,1572.6238056031566,1685.971229657105,1801.4603076249405,1919.3474761528082,2038.8612783220392,2159.299175228502,2280.60634044384,2402.949631504329,2524.6462062298237,2647.0074518717365,2770.348080222524,2895.660355081778,3024.641825887874,3158.4120758379895,3295.276407109618,3434.374507956918,3573.8224615772215,3714.249949619837,3855.7287808791893,3998.6886130320886,4140.724563058385,4279.7259503144105,4417.914842354202,4553.243958712481,4687.539527730631,4819.132560020734,4947.850236418946,5074.535497497549,5198.094554718171,5316.433071430788,5427.298240401195,5531.092958629849,5627.192428475649,5717.573865910362,5803.585730178432,5888.202034491931,5971.463823769123,6055.030055855147,6137.521643493525,6217.614113487413,6294.021914265682,6368.473855344357,6441.453981023291,6512.197472757358,6581.1188380401645,6647.114295511322,6711.22387603519,6772.801819171107,6830.216791227349,6883.902733255279,6933.582598669379,6977.746855410676,7016.678571710351,7052.632688438991,7082.882669330172,7110.542393758979,7135.686505287965,7157.387716652557,7174.149945817535,7185.444330694173,7190.635122209202,7189.569669892164,7179.959382150009,7163.663508580697,7138.018753163011,7100.856680679217,7050.4553288357165,6985.0950622744695,6906.257605239873],\"yaxis\":\"y2\",\"type\":\"scatter\"},{\"connectgaps\":false,\"fill\":\"tozeroy\",\"line\":{\"color\":\"red\",\"dash\":\"solid\",\"shape\":\"linear\",\"width\":0.5},\"mode\":\"lines\",\"name\":\"Spread\",\"showlegend\":false,\"x\":[0,1,2,3,4,5,6,7,8,9,10,11,12,13,14,15,16,17,18,19,20,21,22,23,24,25,26,27,28,29,30,31,32,33,34,35,36,37,38,39,40,41,42,43,44,45,46,47,48,49,50,51,52,53,54,55,56,57,58,59,60,61,62,63,64,65,66,67,68,69,70,71,72,73,74,75,76,77,78,79,80,81,82,83,84,85,86,87,88,89,90,91,92,93,94,95,96,97,98,99],\"xaxis\":\"x2\",\"y\":[\"\",\"\",\"\",\"\",\"\",\"\",\"\",\"\",\"\",\"\",\"\",\"\",\"\",\"\",\"\",\"\",\"\",\"\",\"\",\"\",\"\",\"\",\"\",\"\",\"\",\"\",\"\",\"\",\"\",\"\",\"\",\"\",\"\",\"\",\"\",\"\",\"\",\"\",\"\",\"\",\"\",\"\",\"\",\"\",\"\",\"\",\"\",\"\",\"\",\"\",\"\",\"\",\"\",\"\",\"\",\"\",\"\",\"\",\"\",\"\",\"\",\"\",\"\",\"\",\"\",\"\",\"\",\"\",\"\",\"\",\"\",\"\",\"\",\"\",\"\",\"\",\"\",\"\",\"\",\"\",\"\",\"\",\"\",\"\",\"\",\"\",\"\",\"\",\"\",\"\",\"\",\"\",\"\",\"\",\"\",\"\",\"\",\"\",\"\",\"\"],\"yaxis\":\"y2\",\"type\":\"scatter\"}],                        {\"hovermode\":\"x\",\"legend\":{\"bgcolor\":\"#F5F6F9\",\"font\":{\"color\":\"#4D5663\"}},\"paper_bgcolor\":\"#F5F6F9\",\"plot_bgcolor\":\"#F5F6F9\",\"template\":{\"data\":{\"barpolar\":[{\"marker\":{\"line\":{\"color\":\"#E5ECF6\",\"width\":0.5},\"pattern\":{\"fillmode\":\"overlay\",\"size\":10,\"solidity\":0.2}},\"type\":\"barpolar\"}],\"bar\":[{\"error_x\":{\"color\":\"#2a3f5f\"},\"error_y\":{\"color\":\"#2a3f5f\"},\"marker\":{\"line\":{\"color\":\"#E5ECF6\",\"width\":0.5},\"pattern\":{\"fillmode\":\"overlay\",\"size\":10,\"solidity\":0.2}},\"type\":\"bar\"}],\"carpet\":[{\"aaxis\":{\"endlinecolor\":\"#2a3f5f\",\"gridcolor\":\"white\",\"linecolor\":\"white\",\"minorgridcolor\":\"white\",\"startlinecolor\":\"#2a3f5f\"},\"baxis\":{\"endlinecolor\":\"#2a3f5f\",\"gridcolor\":\"white\",\"linecolor\":\"white\",\"minorgridcolor\":\"white\",\"startlinecolor\":\"#2a3f5f\"},\"type\":\"carpet\"}],\"choropleth\":[{\"colorbar\":{\"outlinewidth\":0,\"ticks\":\"\"},\"type\":\"choropleth\"}],\"contourcarpet\":[{\"colorbar\":{\"outlinewidth\":0,\"ticks\":\"\"},\"type\":\"contourcarpet\"}],\"contour\":[{\"colorbar\":{\"outlinewidth\":0,\"ticks\":\"\"},\"colorscale\":[[0.0,\"#0d0887\"],[0.1111111111111111,\"#46039f\"],[0.2222222222222222,\"#7201a8\"],[0.3333333333333333,\"#9c179e\"],[0.4444444444444444,\"#bd3786\"],[0.5555555555555556,\"#d8576b\"],[0.6666666666666666,\"#ed7953\"],[0.7777777777777778,\"#fb9f3a\"],[0.8888888888888888,\"#fdca26\"],[1.0,\"#f0f921\"]],\"type\":\"contour\"}],\"heatmapgl\":[{\"colorbar\":{\"outlinewidth\":0,\"ticks\":\"\"},\"colorscale\":[[0.0,\"#0d0887\"],[0.1111111111111111,\"#46039f\"],[0.2222222222222222,\"#7201a8\"],[0.3333333333333333,\"#9c179e\"],[0.4444444444444444,\"#bd3786\"],[0.5555555555555556,\"#d8576b\"],[0.6666666666666666,\"#ed7953\"],[0.7777777777777778,\"#fb9f3a\"],[0.8888888888888888,\"#fdca26\"],[1.0,\"#f0f921\"]],\"type\":\"heatmapgl\"}],\"heatmap\":[{\"colorbar\":{\"outlinewidth\":0,\"ticks\":\"\"},\"colorscale\":[[0.0,\"#0d0887\"],[0.1111111111111111,\"#46039f\"],[0.2222222222222222,\"#7201a8\"],[0.3333333333333333,\"#9c179e\"],[0.4444444444444444,\"#bd3786\"],[0.5555555555555556,\"#d8576b\"],[0.6666666666666666,\"#ed7953\"],[0.7777777777777778,\"#fb9f3a\"],[0.8888888888888888,\"#fdca26\"],[1.0,\"#f0f921\"]],\"type\":\"heatmap\"}],\"histogram2dcontour\":[{\"colorbar\":{\"outlinewidth\":0,\"ticks\":\"\"},\"colorscale\":[[0.0,\"#0d0887\"],[0.1111111111111111,\"#46039f\"],[0.2222222222222222,\"#7201a8\"],[0.3333333333333333,\"#9c179e\"],[0.4444444444444444,\"#bd3786\"],[0.5555555555555556,\"#d8576b\"],[0.6666666666666666,\"#ed7953\"],[0.7777777777777778,\"#fb9f3a\"],[0.8888888888888888,\"#fdca26\"],[1.0,\"#f0f921\"]],\"type\":\"histogram2dcontour\"}],\"histogram2d\":[{\"colorbar\":{\"outlinewidth\":0,\"ticks\":\"\"},\"colorscale\":[[0.0,\"#0d0887\"],[0.1111111111111111,\"#46039f\"],[0.2222222222222222,\"#7201a8\"],[0.3333333333333333,\"#9c179e\"],[0.4444444444444444,\"#bd3786\"],[0.5555555555555556,\"#d8576b\"],[0.6666666666666666,\"#ed7953\"],[0.7777777777777778,\"#fb9f3a\"],[0.8888888888888888,\"#fdca26\"],[1.0,\"#f0f921\"]],\"type\":\"histogram2d\"}],\"histogram\":[{\"marker\":{\"pattern\":{\"fillmode\":\"overlay\",\"size\":10,\"solidity\":0.2}},\"type\":\"histogram\"}],\"mesh3d\":[{\"colorbar\":{\"outlinewidth\":0,\"ticks\":\"\"},\"type\":\"mesh3d\"}],\"parcoords\":[{\"line\":{\"colorbar\":{\"outlinewidth\":0,\"ticks\":\"\"}},\"type\":\"parcoords\"}],\"pie\":[{\"automargin\":true,\"type\":\"pie\"}],\"scatter3d\":[{\"line\":{\"colorbar\":{\"outlinewidth\":0,\"ticks\":\"\"}},\"marker\":{\"colorbar\":{\"outlinewidth\":0,\"ticks\":\"\"}},\"type\":\"scatter3d\"}],\"scattercarpet\":[{\"marker\":{\"colorbar\":{\"outlinewidth\":0,\"ticks\":\"\"}},\"type\":\"scattercarpet\"}],\"scattergeo\":[{\"marker\":{\"colorbar\":{\"outlinewidth\":0,\"ticks\":\"\"}},\"type\":\"scattergeo\"}],\"scattergl\":[{\"marker\":{\"colorbar\":{\"outlinewidth\":0,\"ticks\":\"\"}},\"type\":\"scattergl\"}],\"scattermapbox\":[{\"marker\":{\"colorbar\":{\"outlinewidth\":0,\"ticks\":\"\"}},\"type\":\"scattermapbox\"}],\"scatterpolargl\":[{\"marker\":{\"colorbar\":{\"outlinewidth\":0,\"ticks\":\"\"}},\"type\":\"scatterpolargl\"}],\"scatterpolar\":[{\"marker\":{\"colorbar\":{\"outlinewidth\":0,\"ticks\":\"\"}},\"type\":\"scatterpolar\"}],\"scatter\":[{\"fillpattern\":{\"fillmode\":\"overlay\",\"size\":10,\"solidity\":0.2},\"type\":\"scatter\"}],\"scatterternary\":[{\"marker\":{\"colorbar\":{\"outlinewidth\":0,\"ticks\":\"\"}},\"type\":\"scatterternary\"}],\"surface\":[{\"colorbar\":{\"outlinewidth\":0,\"ticks\":\"\"},\"colorscale\":[[0.0,\"#0d0887\"],[0.1111111111111111,\"#46039f\"],[0.2222222222222222,\"#7201a8\"],[0.3333333333333333,\"#9c179e\"],[0.4444444444444444,\"#bd3786\"],[0.5555555555555556,\"#d8576b\"],[0.6666666666666666,\"#ed7953\"],[0.7777777777777778,\"#fb9f3a\"],[0.8888888888888888,\"#fdca26\"],[1.0,\"#f0f921\"]],\"type\":\"surface\"}],\"table\":[{\"cells\":{\"fill\":{\"color\":\"#EBF0F8\"},\"line\":{\"color\":\"white\"}},\"header\":{\"fill\":{\"color\":\"#C8D4E3\"},\"line\":{\"color\":\"white\"}},\"type\":\"table\"}]},\"layout\":{\"annotationdefaults\":{\"arrowcolor\":\"#2a3f5f\",\"arrowhead\":0,\"arrowwidth\":1},\"autotypenumbers\":\"strict\",\"coloraxis\":{\"colorbar\":{\"outlinewidth\":0,\"ticks\":\"\"}},\"colorscale\":{\"diverging\":[[0,\"#8e0152\"],[0.1,\"#c51b7d\"],[0.2,\"#de77ae\"],[0.3,\"#f1b6da\"],[0.4,\"#fde0ef\"],[0.5,\"#f7f7f7\"],[0.6,\"#e6f5d0\"],[0.7,\"#b8e186\"],[0.8,\"#7fbc41\"],[0.9,\"#4d9221\"],[1,\"#276419\"]],\"sequential\":[[0.0,\"#0d0887\"],[0.1111111111111111,\"#46039f\"],[0.2222222222222222,\"#7201a8\"],[0.3333333333333333,\"#9c179e\"],[0.4444444444444444,\"#bd3786\"],[0.5555555555555556,\"#d8576b\"],[0.6666666666666666,\"#ed7953\"],[0.7777777777777778,\"#fb9f3a\"],[0.8888888888888888,\"#fdca26\"],[1.0,\"#f0f921\"]],\"sequentialminus\":[[0.0,\"#0d0887\"],[0.1111111111111111,\"#46039f\"],[0.2222222222222222,\"#7201a8\"],[0.3333333333333333,\"#9c179e\"],[0.4444444444444444,\"#bd3786\"],[0.5555555555555556,\"#d8576b\"],[0.6666666666666666,\"#ed7953\"],[0.7777777777777778,\"#fb9f3a\"],[0.8888888888888888,\"#fdca26\"],[1.0,\"#f0f921\"]]},\"colorway\":[\"#636efa\",\"#EF553B\",\"#00cc96\",\"#ab63fa\",\"#FFA15A\",\"#19d3f3\",\"#FF6692\",\"#B6E880\",\"#FF97FF\",\"#FECB52\"],\"font\":{\"color\":\"#2a3f5f\"},\"geo\":{\"bgcolor\":\"white\",\"lakecolor\":\"white\",\"landcolor\":\"#E5ECF6\",\"showlakes\":true,\"showland\":true,\"subunitcolor\":\"white\"},\"hoverlabel\":{\"align\":\"left\"},\"hovermode\":\"closest\",\"mapbox\":{\"style\":\"light\"},\"paper_bgcolor\":\"white\",\"plot_bgcolor\":\"#E5ECF6\",\"polar\":{\"angularaxis\":{\"gridcolor\":\"white\",\"linecolor\":\"white\",\"ticks\":\"\"},\"bgcolor\":\"#E5ECF6\",\"radialaxis\":{\"gridcolor\":\"white\",\"linecolor\":\"white\",\"ticks\":\"\"}},\"scene\":{\"xaxis\":{\"backgroundcolor\":\"#E5ECF6\",\"gridcolor\":\"white\",\"gridwidth\":2,\"linecolor\":\"white\",\"showbackground\":true,\"ticks\":\"\",\"zerolinecolor\":\"white\"},\"yaxis\":{\"backgroundcolor\":\"#E5ECF6\",\"gridcolor\":\"white\",\"gridwidth\":2,\"linecolor\":\"white\",\"showbackground\":true,\"ticks\":\"\",\"zerolinecolor\":\"white\"},\"zaxis\":{\"backgroundcolor\":\"#E5ECF6\",\"gridcolor\":\"white\",\"gridwidth\":2,\"linecolor\":\"white\",\"showbackground\":true,\"ticks\":\"\",\"zerolinecolor\":\"white\"}},\"shapedefaults\":{\"line\":{\"color\":\"#2a3f5f\"}},\"ternary\":{\"aaxis\":{\"gridcolor\":\"white\",\"linecolor\":\"white\",\"ticks\":\"\"},\"baxis\":{\"gridcolor\":\"white\",\"linecolor\":\"white\",\"ticks\":\"\"},\"bgcolor\":\"#E5ECF6\",\"caxis\":{\"gridcolor\":\"white\",\"linecolor\":\"white\",\"ticks\":\"\"}},\"title\":{\"x\":0.05},\"xaxis\":{\"automargin\":true,\"gridcolor\":\"white\",\"linecolor\":\"white\",\"ticks\":\"\",\"title\":{\"standoff\":15},\"zerolinecolor\":\"white\",\"zerolinewidth\":2},\"yaxis\":{\"automargin\":true,\"gridcolor\":\"white\",\"linecolor\":\"white\",\"ticks\":\"\",\"title\":{\"standoff\":15},\"zerolinecolor\":\"white\",\"zerolinewidth\":2}}},\"title\":{\"font\":{\"color\":\"#4D5663\"}},\"xaxis\":{\"gridcolor\":\"#E1E5ED\",\"showgrid\":true,\"tickfont\":{\"color\":\"#4D5663\"},\"title\":{\"font\":{\"color\":\"#4D5663\"},\"text\":\"\"},\"zerolinecolor\":\"#E1E5ED\"},\"yaxis\":{\"domain\":[0.3,1],\"gridcolor\":\"#E1E5ED\",\"showgrid\":true,\"tickfont\":{\"color\":\"#4D5663\"},\"title\":{\"font\":{\"color\":\"#4D5663\"},\"text\":\"\"},\"zerolinecolor\":\"#E1E5ED\"},\"yaxis2\":{\"domain\":[0,0.25],\"gridcolor\":\"#E1E5ED\",\"showgrid\":true,\"tickfont\":{\"color\":\"#4D5663\"},\"title\":{\"font\":{\"color\":\"#4D5663\"},\"text\":\"Spread\"},\"zerolinecolor\":\"#E1E5ED\"},\"xaxis2\":{\"anchor\":\"y2\",\"gridcolor\":\"#E1E5ED\",\"showgrid\":true,\"showticklabels\":false,\"tickfont\":{\"color\":\"#4D5663\"},\"title\":{\"font\":{\"color\":\"#4D5663\"},\"text\":\"\"},\"zerolinecolor\":\"#E1E5ED\"}},                        {\"showLink\": true, \"linkText\": \"Export to plot.ly\", \"plotlyServerURL\": \"https://plot.ly\", \"responsive\": true}                    ).then(function(){\n",
       "                            \n",
       "var gd = document.getElementById('527c3434-5a39-4198-af43-ff34fb68f42e');\n",
       "var x = new MutationObserver(function (mutations, observer) {{\n",
       "        var display = window.getComputedStyle(gd).display;\n",
       "        if (!display || display === 'none') {{\n",
       "            console.log([gd, 'removed!']);\n",
       "            Plotly.purge(gd);\n",
       "            observer.disconnect();\n",
       "        }}\n",
       "}});\n",
       "\n",
       "// Listen for the removal of the full notebook cells\n",
       "var notebookContainer = gd.closest('#notebook-container');\n",
       "if (notebookContainer) {{\n",
       "    x.observe(notebookContainer, {childList: true});\n",
       "}}\n",
       "\n",
       "// Listen for the clearing of the current output cell\n",
       "var outputEl = gd.closest('.output');\n",
       "if (outputEl) {{\n",
       "    x.observe(outputEl, {childList: true});\n",
       "}}\n",
       "\n",
       "                        })                };                });            </script>        </div>"
      ]
     },
     "metadata": {},
     "output_type": "display_data"
    }
   ],
   "source": [
    "df.iplot(kind = 'spread')"
   ]
  },
  {
   "cell_type": "code",
   "execution_count": 35,
   "id": "6781aff1",
   "metadata": {},
   "outputs": [],
   "source": [
    "bb = cf.datagen.bubble3d(5,4, mode='stocks')"
   ]
  },
  {
   "cell_type": "code",
   "execution_count": 36,
   "id": "028cf9dd",
   "metadata": {},
   "outputs": [
    {
     "data": {
      "text/html": [
       "<div>\n",
       "<style scoped>\n",
       "    .dataframe tbody tr th:only-of-type {\n",
       "        vertical-align: middle;\n",
       "    }\n",
       "\n",
       "    .dataframe tbody tr th {\n",
       "        vertical-align: top;\n",
       "    }\n",
       "\n",
       "    .dataframe thead th {\n",
       "        text-align: right;\n",
       "    }\n",
       "</style>\n",
       "<table border=\"1\" class=\"dataframe\">\n",
       "  <thead>\n",
       "    <tr style=\"text-align: right;\">\n",
       "      <th></th>\n",
       "      <th>x</th>\n",
       "      <th>y</th>\n",
       "      <th>z</th>\n",
       "      <th>size</th>\n",
       "      <th>text</th>\n",
       "      <th>categories</th>\n",
       "    </tr>\n",
       "  </thead>\n",
       "  <tbody>\n",
       "    <tr>\n",
       "      <th>0</th>\n",
       "      <td>0.823826</td>\n",
       "      <td>-0.221056</td>\n",
       "      <td>0.455270</td>\n",
       "      <td>3</td>\n",
       "      <td>UUN.YB</td>\n",
       "      <td>category1</td>\n",
       "    </tr>\n",
       "    <tr>\n",
       "      <th>1</th>\n",
       "      <td>-0.887866</td>\n",
       "      <td>-0.272410</td>\n",
       "      <td>-0.662082</td>\n",
       "      <td>2</td>\n",
       "      <td>ZYN.LS</td>\n",
       "      <td>category1</td>\n",
       "    </tr>\n",
       "    <tr>\n",
       "      <th>2</th>\n",
       "      <td>-2.298085</td>\n",
       "      <td>-0.203108</td>\n",
       "      <td>-1.276671</td>\n",
       "      <td>99</td>\n",
       "      <td>LSW.PS</td>\n",
       "      <td>category1</td>\n",
       "    </tr>\n",
       "    <tr>\n",
       "      <th>3</th>\n",
       "      <td>-1.764399</td>\n",
       "      <td>-0.311182</td>\n",
       "      <td>1.051475</td>\n",
       "      <td>99</td>\n",
       "      <td>TYB.PR</td>\n",
       "      <td>category1</td>\n",
       "    </tr>\n",
       "    <tr>\n",
       "      <th>4</th>\n",
       "      <td>0.245372</td>\n",
       "      <td>-0.310405</td>\n",
       "      <td>0.008751</td>\n",
       "      <td>13</td>\n",
       "      <td>RNU.CZ</td>\n",
       "      <td>category2</td>\n",
       "    </tr>\n",
       "  </tbody>\n",
       "</table>\n",
       "</div>"
      ],
      "text/plain": [
       "          x         y         z  size    text categories\n",
       "0  0.823826 -0.221056  0.455270     3  UUN.YB  category1\n",
       "1 -0.887866 -0.272410 -0.662082     2  ZYN.LS  category1\n",
       "2 -2.298085 -0.203108 -1.276671    99  LSW.PS  category1\n",
       "3 -1.764399 -0.311182  1.051475    99  TYB.PR  category1\n",
       "4  0.245372 -0.310405  0.008751    13  RNU.CZ  category2"
      ]
     },
     "execution_count": 36,
     "metadata": {},
     "output_type": "execute_result"
    }
   ],
   "source": [
    "bb.head()"
   ]
  },
  {
   "cell_type": "code",
   "execution_count": 37,
   "id": "87fbc0b6",
   "metadata": {},
   "outputs": [
    {
     "data": {
      "application/vnd.plotly.v1+json": {
       "config": {
        "linkText": "Export to plot.ly",
        "plotlyServerURL": "https://plot.ly",
        "showLink": true
       },
       "data": [
        {
         "marker": {
          "color": [
           "rgba(255, 153, 51, 1.0)",
           "rgba(55, 128, 191, 1.0)",
           "rgba(50, 171, 96, 1.0)",
           "rgba(128, 0, 128, 1.0)",
           "rgba(219, 64, 82, 1.0)",
           "rgba(0, 128, 128, 1.0)",
           "rgba(255, 255, 51, 1.0)",
           "rgba(128, 128, 0, 1.0)",
           "rgba(251, 128, 114, 1.0)",
           "rgba(128, 177, 211, 1.0)",
           "rgba(128, 177, 211, 0.8999999999999999)",
           "rgba(255, 153, 51, 0.8999999999999999)",
           "rgba(55, 128, 191, 0.8999999999999999)",
           "rgba(50, 171, 96, 0.8999999999999999)",
           "rgba(128, 0, 128, 0.8999999999999999)",
           "rgba(219, 64, 82, 0.8999999999999999)",
           "rgba(0, 128, 128, 0.8999999999999999)",
           "rgba(255, 255, 51, 0.8999999999999999)",
           "rgba(128, 128, 0, 0.8999999999999999)",
           "rgba(251, 128, 114, 0.8999999999999999)"
          ],
          "opacity": 0.8,
          "size": [
           14,
           13,
           112,
           112,
           24,
           63,
           71,
           48,
           76,
           86,
           100,
           23,
           53,
           102,
           95,
           82,
           39,
           12,
           105,
           47
          ],
          "symbol": "circle"
         },
         "mode": "markers",
         "text": [
          "0",
          "1",
          "2",
          "3",
          "4",
          "5",
          "6",
          "7",
          "8",
          "9",
          "10",
          "11",
          "12",
          "13",
          "14",
          "15",
          "16",
          "17",
          "18",
          "19"
         ],
         "type": "scatter3d",
         "x": [
          0.8238257831744656,
          -0.8878663127062416,
          -2.2980848106914036,
          -1.7643992243836453,
          0.24537208515257364,
          1.271435268254709,
          -1.0892922308055077,
          0.6054729595102137,
          0.013262932813324182,
          -0.32820341320684543,
          -0.2320460253938196,
          0.7181896735710815,
          1.6023954178130062,
          -0.9562757594480616,
          -1.3668937201631604,
          -1.0681561081936581,
          -0.8605541016219002,
          1.5468706633929705,
          -0.6644427275559374,
          -0.8068683561492241
         ],
         "y": [
          -0.22105612773896602,
          -0.2724095587121973,
          -0.2031084615456301,
          -0.3111822159834846,
          -0.3104045714727271,
          0.2795262074476373,
          -0.6331365720627521,
          0.26572772209661677,
          0.247190533866419,
          1.7973084448353323,
          -0.6920220640259572,
          1.438599527971302,
          0.8844025711302249,
          0.7807208732231515,
          0.010455749443118193,
          -0.4170347727008812,
          2.1435661638353456,
          -0.3257067402486103,
          -0.6942746220648643,
          -1.5437342194485366
         ],
         "z": [
          0.45527037259715214,
          -0.6620815740771554,
          -1.2766708830908133,
          1.0514754157397466,
          0.0087513079594399,
          -0.014649420923359788,
          1.1439924523739702,
          -0.6128385005317132,
          0.7552569720386606,
          0.033332073975199,
          -0.7484098990070785,
          0.589987132333631,
          1.8857136348316736,
          -2.2253145492313595,
          -0.45349475251557425,
          0.6339430917155972,
          -1.4967073394157797,
          0.23608984547144746,
          -0.04627168275518886,
          -0.6175552886840524
         ]
        }
       ],
       "layout": {
        "legend": {
         "bgcolor": "#F5F6F9",
         "font": {
          "color": "#4D5663"
         }
        },
        "paper_bgcolor": "#F5F6F9",
        "plot_bgcolor": "#F5F6F9",
        "scene": {
         "xaxis": {
          "gridcolor": "#9499A3",
          "showgrid": true,
          "tickfont": {
           "color": "#4D5663"
          },
          "title": {
           "font": {
            "color": "#4D5663"
           },
           "text": ""
          },
          "zerolinecolor": "#9499A3"
         },
         "yaxis": {
          "gridcolor": "#9499A3",
          "showgrid": true,
          "tickfont": {
           "color": "#4D5663"
          },
          "title": {
           "font": {
            "color": "#4D5663"
           },
           "text": ""
          },
          "zerolinecolor": "#9499A3"
         },
         "zaxis": {
          "gridcolor": "#9499A3",
          "showgrid": true,
          "tickfont": {
           "color": "#4D5663"
          },
          "title": {
           "font": {
            "color": "#4D5663"
           },
           "text": ""
          },
          "zerolinecolor": "#9499A3"
         }
        },
        "template": {
         "data": {
          "bar": [
           {
            "error_x": {
             "color": "#2a3f5f"
            },
            "error_y": {
             "color": "#2a3f5f"
            },
            "marker": {
             "line": {
              "color": "#E5ECF6",
              "width": 0.5
             },
             "pattern": {
              "fillmode": "overlay",
              "size": 10,
              "solidity": 0.2
             }
            },
            "type": "bar"
           }
          ],
          "barpolar": [
           {
            "marker": {
             "line": {
              "color": "#E5ECF6",
              "width": 0.5
             },
             "pattern": {
              "fillmode": "overlay",
              "size": 10,
              "solidity": 0.2
             }
            },
            "type": "barpolar"
           }
          ],
          "carpet": [
           {
            "aaxis": {
             "endlinecolor": "#2a3f5f",
             "gridcolor": "white",
             "linecolor": "white",
             "minorgridcolor": "white",
             "startlinecolor": "#2a3f5f"
            },
            "baxis": {
             "endlinecolor": "#2a3f5f",
             "gridcolor": "white",
             "linecolor": "white",
             "minorgridcolor": "white",
             "startlinecolor": "#2a3f5f"
            },
            "type": "carpet"
           }
          ],
          "choropleth": [
           {
            "colorbar": {
             "outlinewidth": 0,
             "ticks": ""
            },
            "type": "choropleth"
           }
          ],
          "contour": [
           {
            "colorbar": {
             "outlinewidth": 0,
             "ticks": ""
            },
            "colorscale": [
             [
              0,
              "#0d0887"
             ],
             [
              0.1111111111111111,
              "#46039f"
             ],
             [
              0.2222222222222222,
              "#7201a8"
             ],
             [
              0.3333333333333333,
              "#9c179e"
             ],
             [
              0.4444444444444444,
              "#bd3786"
             ],
             [
              0.5555555555555556,
              "#d8576b"
             ],
             [
              0.6666666666666666,
              "#ed7953"
             ],
             [
              0.7777777777777778,
              "#fb9f3a"
             ],
             [
              0.8888888888888888,
              "#fdca26"
             ],
             [
              1,
              "#f0f921"
             ]
            ],
            "type": "contour"
           }
          ],
          "contourcarpet": [
           {
            "colorbar": {
             "outlinewidth": 0,
             "ticks": ""
            },
            "type": "contourcarpet"
           }
          ],
          "heatmap": [
           {
            "colorbar": {
             "outlinewidth": 0,
             "ticks": ""
            },
            "colorscale": [
             [
              0,
              "#0d0887"
             ],
             [
              0.1111111111111111,
              "#46039f"
             ],
             [
              0.2222222222222222,
              "#7201a8"
             ],
             [
              0.3333333333333333,
              "#9c179e"
             ],
             [
              0.4444444444444444,
              "#bd3786"
             ],
             [
              0.5555555555555556,
              "#d8576b"
             ],
             [
              0.6666666666666666,
              "#ed7953"
             ],
             [
              0.7777777777777778,
              "#fb9f3a"
             ],
             [
              0.8888888888888888,
              "#fdca26"
             ],
             [
              1,
              "#f0f921"
             ]
            ],
            "type": "heatmap"
           }
          ],
          "heatmapgl": [
           {
            "colorbar": {
             "outlinewidth": 0,
             "ticks": ""
            },
            "colorscale": [
             [
              0,
              "#0d0887"
             ],
             [
              0.1111111111111111,
              "#46039f"
             ],
             [
              0.2222222222222222,
              "#7201a8"
             ],
             [
              0.3333333333333333,
              "#9c179e"
             ],
             [
              0.4444444444444444,
              "#bd3786"
             ],
             [
              0.5555555555555556,
              "#d8576b"
             ],
             [
              0.6666666666666666,
              "#ed7953"
             ],
             [
              0.7777777777777778,
              "#fb9f3a"
             ],
             [
              0.8888888888888888,
              "#fdca26"
             ],
             [
              1,
              "#f0f921"
             ]
            ],
            "type": "heatmapgl"
           }
          ],
          "histogram": [
           {
            "marker": {
             "pattern": {
              "fillmode": "overlay",
              "size": 10,
              "solidity": 0.2
             }
            },
            "type": "histogram"
           }
          ],
          "histogram2d": [
           {
            "colorbar": {
             "outlinewidth": 0,
             "ticks": ""
            },
            "colorscale": [
             [
              0,
              "#0d0887"
             ],
             [
              0.1111111111111111,
              "#46039f"
             ],
             [
              0.2222222222222222,
              "#7201a8"
             ],
             [
              0.3333333333333333,
              "#9c179e"
             ],
             [
              0.4444444444444444,
              "#bd3786"
             ],
             [
              0.5555555555555556,
              "#d8576b"
             ],
             [
              0.6666666666666666,
              "#ed7953"
             ],
             [
              0.7777777777777778,
              "#fb9f3a"
             ],
             [
              0.8888888888888888,
              "#fdca26"
             ],
             [
              1,
              "#f0f921"
             ]
            ],
            "type": "histogram2d"
           }
          ],
          "histogram2dcontour": [
           {
            "colorbar": {
             "outlinewidth": 0,
             "ticks": ""
            },
            "colorscale": [
             [
              0,
              "#0d0887"
             ],
             [
              0.1111111111111111,
              "#46039f"
             ],
             [
              0.2222222222222222,
              "#7201a8"
             ],
             [
              0.3333333333333333,
              "#9c179e"
             ],
             [
              0.4444444444444444,
              "#bd3786"
             ],
             [
              0.5555555555555556,
              "#d8576b"
             ],
             [
              0.6666666666666666,
              "#ed7953"
             ],
             [
              0.7777777777777778,
              "#fb9f3a"
             ],
             [
              0.8888888888888888,
              "#fdca26"
             ],
             [
              1,
              "#f0f921"
             ]
            ],
            "type": "histogram2dcontour"
           }
          ],
          "mesh3d": [
           {
            "colorbar": {
             "outlinewidth": 0,
             "ticks": ""
            },
            "type": "mesh3d"
           }
          ],
          "parcoords": [
           {
            "line": {
             "colorbar": {
              "outlinewidth": 0,
              "ticks": ""
             }
            },
            "type": "parcoords"
           }
          ],
          "pie": [
           {
            "automargin": true,
            "type": "pie"
           }
          ],
          "scatter": [
           {
            "fillpattern": {
             "fillmode": "overlay",
             "size": 10,
             "solidity": 0.2
            },
            "type": "scatter"
           }
          ],
          "scatter3d": [
           {
            "line": {
             "colorbar": {
              "outlinewidth": 0,
              "ticks": ""
             }
            },
            "marker": {
             "colorbar": {
              "outlinewidth": 0,
              "ticks": ""
             }
            },
            "type": "scatter3d"
           }
          ],
          "scattercarpet": [
           {
            "marker": {
             "colorbar": {
              "outlinewidth": 0,
              "ticks": ""
             }
            },
            "type": "scattercarpet"
           }
          ],
          "scattergeo": [
           {
            "marker": {
             "colorbar": {
              "outlinewidth": 0,
              "ticks": ""
             }
            },
            "type": "scattergeo"
           }
          ],
          "scattergl": [
           {
            "marker": {
             "colorbar": {
              "outlinewidth": 0,
              "ticks": ""
             }
            },
            "type": "scattergl"
           }
          ],
          "scattermapbox": [
           {
            "marker": {
             "colorbar": {
              "outlinewidth": 0,
              "ticks": ""
             }
            },
            "type": "scattermapbox"
           }
          ],
          "scatterpolar": [
           {
            "marker": {
             "colorbar": {
              "outlinewidth": 0,
              "ticks": ""
             }
            },
            "type": "scatterpolar"
           }
          ],
          "scatterpolargl": [
           {
            "marker": {
             "colorbar": {
              "outlinewidth": 0,
              "ticks": ""
             }
            },
            "type": "scatterpolargl"
           }
          ],
          "scatterternary": [
           {
            "marker": {
             "colorbar": {
              "outlinewidth": 0,
              "ticks": ""
             }
            },
            "type": "scatterternary"
           }
          ],
          "surface": [
           {
            "colorbar": {
             "outlinewidth": 0,
             "ticks": ""
            },
            "colorscale": [
             [
              0,
              "#0d0887"
             ],
             [
              0.1111111111111111,
              "#46039f"
             ],
             [
              0.2222222222222222,
              "#7201a8"
             ],
             [
              0.3333333333333333,
              "#9c179e"
             ],
             [
              0.4444444444444444,
              "#bd3786"
             ],
             [
              0.5555555555555556,
              "#d8576b"
             ],
             [
              0.6666666666666666,
              "#ed7953"
             ],
             [
              0.7777777777777778,
              "#fb9f3a"
             ],
             [
              0.8888888888888888,
              "#fdca26"
             ],
             [
              1,
              "#f0f921"
             ]
            ],
            "type": "surface"
           }
          ],
          "table": [
           {
            "cells": {
             "fill": {
              "color": "#EBF0F8"
             },
             "line": {
              "color": "white"
             }
            },
            "header": {
             "fill": {
              "color": "#C8D4E3"
             },
             "line": {
              "color": "white"
             }
            },
            "type": "table"
           }
          ]
         },
         "layout": {
          "annotationdefaults": {
           "arrowcolor": "#2a3f5f",
           "arrowhead": 0,
           "arrowwidth": 1
          },
          "autotypenumbers": "strict",
          "coloraxis": {
           "colorbar": {
            "outlinewidth": 0,
            "ticks": ""
           }
          },
          "colorscale": {
           "diverging": [
            [
             0,
             "#8e0152"
            ],
            [
             0.1,
             "#c51b7d"
            ],
            [
             0.2,
             "#de77ae"
            ],
            [
             0.3,
             "#f1b6da"
            ],
            [
             0.4,
             "#fde0ef"
            ],
            [
             0.5,
             "#f7f7f7"
            ],
            [
             0.6,
             "#e6f5d0"
            ],
            [
             0.7,
             "#b8e186"
            ],
            [
             0.8,
             "#7fbc41"
            ],
            [
             0.9,
             "#4d9221"
            ],
            [
             1,
             "#276419"
            ]
           ],
           "sequential": [
            [
             0,
             "#0d0887"
            ],
            [
             0.1111111111111111,
             "#46039f"
            ],
            [
             0.2222222222222222,
             "#7201a8"
            ],
            [
             0.3333333333333333,
             "#9c179e"
            ],
            [
             0.4444444444444444,
             "#bd3786"
            ],
            [
             0.5555555555555556,
             "#d8576b"
            ],
            [
             0.6666666666666666,
             "#ed7953"
            ],
            [
             0.7777777777777778,
             "#fb9f3a"
            ],
            [
             0.8888888888888888,
             "#fdca26"
            ],
            [
             1,
             "#f0f921"
            ]
           ],
           "sequentialminus": [
            [
             0,
             "#0d0887"
            ],
            [
             0.1111111111111111,
             "#46039f"
            ],
            [
             0.2222222222222222,
             "#7201a8"
            ],
            [
             0.3333333333333333,
             "#9c179e"
            ],
            [
             0.4444444444444444,
             "#bd3786"
            ],
            [
             0.5555555555555556,
             "#d8576b"
            ],
            [
             0.6666666666666666,
             "#ed7953"
            ],
            [
             0.7777777777777778,
             "#fb9f3a"
            ],
            [
             0.8888888888888888,
             "#fdca26"
            ],
            [
             1,
             "#f0f921"
            ]
           ]
          },
          "colorway": [
           "#636efa",
           "#EF553B",
           "#00cc96",
           "#ab63fa",
           "#FFA15A",
           "#19d3f3",
           "#FF6692",
           "#B6E880",
           "#FF97FF",
           "#FECB52"
          ],
          "font": {
           "color": "#2a3f5f"
          },
          "geo": {
           "bgcolor": "white",
           "lakecolor": "white",
           "landcolor": "#E5ECF6",
           "showlakes": true,
           "showland": true,
           "subunitcolor": "white"
          },
          "hoverlabel": {
           "align": "left"
          },
          "hovermode": "closest",
          "mapbox": {
           "style": "light"
          },
          "paper_bgcolor": "white",
          "plot_bgcolor": "#E5ECF6",
          "polar": {
           "angularaxis": {
            "gridcolor": "white",
            "linecolor": "white",
            "ticks": ""
           },
           "bgcolor": "#E5ECF6",
           "radialaxis": {
            "gridcolor": "white",
            "linecolor": "white",
            "ticks": ""
           }
          },
          "scene": {
           "xaxis": {
            "backgroundcolor": "#E5ECF6",
            "gridcolor": "white",
            "gridwidth": 2,
            "linecolor": "white",
            "showbackground": true,
            "ticks": "",
            "zerolinecolor": "white"
           },
           "yaxis": {
            "backgroundcolor": "#E5ECF6",
            "gridcolor": "white",
            "gridwidth": 2,
            "linecolor": "white",
            "showbackground": true,
            "ticks": "",
            "zerolinecolor": "white"
           },
           "zaxis": {
            "backgroundcolor": "#E5ECF6",
            "gridcolor": "white",
            "gridwidth": 2,
            "linecolor": "white",
            "showbackground": true,
            "ticks": "",
            "zerolinecolor": "white"
           }
          },
          "shapedefaults": {
           "line": {
            "color": "#2a3f5f"
           }
          },
          "ternary": {
           "aaxis": {
            "gridcolor": "white",
            "linecolor": "white",
            "ticks": ""
           },
           "baxis": {
            "gridcolor": "white",
            "linecolor": "white",
            "ticks": ""
           },
           "bgcolor": "#E5ECF6",
           "caxis": {
            "gridcolor": "white",
            "linecolor": "white",
            "ticks": ""
           }
          },
          "title": {
           "x": 0.05
          },
          "xaxis": {
           "automargin": true,
           "gridcolor": "white",
           "linecolor": "white",
           "ticks": "",
           "title": {
            "standoff": 15
           },
           "zerolinecolor": "white",
           "zerolinewidth": 2
          },
          "yaxis": {
           "automargin": true,
           "gridcolor": "white",
           "linecolor": "white",
           "ticks": "",
           "title": {
            "standoff": 15
           },
           "zerolinecolor": "white",
           "zerolinewidth": 2
          }
         }
        },
        "title": {
         "font": {
          "color": "#4D5663"
         }
        }
       }
      },
      "text/html": [
       "<div>                            <div id=\"a346d16b-9cfb-4f32-ad4e-3ccbcf8f99a4\" class=\"plotly-graph-div\" style=\"height:525px; width:100%;\"></div>            <script type=\"text/javascript\">                require([\"plotly\"], function(Plotly) {                    window.PLOTLYENV=window.PLOTLYENV || {};\n",
       "                    window.PLOTLYENV.BASE_URL='https://plot.ly';                                    if (document.getElementById(\"a346d16b-9cfb-4f32-ad4e-3ccbcf8f99a4\")) {                    Plotly.newPlot(                        \"a346d16b-9cfb-4f32-ad4e-3ccbcf8f99a4\",                        [{\"marker\":{\"color\":[\"rgba(255, 153, 51, 1.0)\",\"rgba(55, 128, 191, 1.0)\",\"rgba(50, 171, 96, 1.0)\",\"rgba(128, 0, 128, 1.0)\",\"rgba(219, 64, 82, 1.0)\",\"rgba(0, 128, 128, 1.0)\",\"rgba(255, 255, 51, 1.0)\",\"rgba(128, 128, 0, 1.0)\",\"rgba(251, 128, 114, 1.0)\",\"rgba(128, 177, 211, 1.0)\",\"rgba(128, 177, 211, 0.8999999999999999)\",\"rgba(255, 153, 51, 0.8999999999999999)\",\"rgba(55, 128, 191, 0.8999999999999999)\",\"rgba(50, 171, 96, 0.8999999999999999)\",\"rgba(128, 0, 128, 0.8999999999999999)\",\"rgba(219, 64, 82, 0.8999999999999999)\",\"rgba(0, 128, 128, 0.8999999999999999)\",\"rgba(255, 255, 51, 0.8999999999999999)\",\"rgba(128, 128, 0, 0.8999999999999999)\",\"rgba(251, 128, 114, 0.8999999999999999)\"],\"opacity\":0.8,\"size\":[14,13,112,112,24,63,71,48,76,86,100,23,53,102,95,82,39,12,105,47],\"symbol\":\"circle\"},\"mode\":\"markers\",\"text\":[\"0\",\"1\",\"2\",\"3\",\"4\",\"5\",\"6\",\"7\",\"8\",\"9\",\"10\",\"11\",\"12\",\"13\",\"14\",\"15\",\"16\",\"17\",\"18\",\"19\"],\"x\":[0.8238257831744656,-0.8878663127062416,-2.2980848106914036,-1.7643992243836453,0.24537208515257364,1.271435268254709,-1.0892922308055077,0.6054729595102137,0.013262932813324182,-0.32820341320684543,-0.2320460253938196,0.7181896735710815,1.6023954178130062,-0.9562757594480616,-1.3668937201631604,-1.0681561081936581,-0.8605541016219002,1.5468706633929705,-0.6644427275559374,-0.8068683561492241],\"y\":[-0.22105612773896602,-0.2724095587121973,-0.2031084615456301,-0.3111822159834846,-0.3104045714727271,0.2795262074476373,-0.6331365720627521,0.26572772209661677,0.247190533866419,1.7973084448353323,-0.6920220640259572,1.438599527971302,0.8844025711302249,0.7807208732231515,0.010455749443118193,-0.4170347727008812,2.1435661638353456,-0.3257067402486103,-0.6942746220648643,-1.5437342194485366],\"z\":[0.45527037259715214,-0.6620815740771554,-1.2766708830908133,1.0514754157397466,0.0087513079594399,-0.014649420923359788,1.1439924523739702,-0.6128385005317132,0.7552569720386606,0.033332073975199,-0.7484098990070785,0.589987132333631,1.8857136348316736,-2.2253145492313595,-0.45349475251557425,0.6339430917155972,-1.4967073394157797,0.23608984547144746,-0.04627168275518886,-0.6175552886840524],\"type\":\"scatter3d\"}],                        {\"legend\":{\"bgcolor\":\"#F5F6F9\",\"font\":{\"color\":\"#4D5663\"}},\"paper_bgcolor\":\"#F5F6F9\",\"plot_bgcolor\":\"#F5F6F9\",\"scene\":{\"xaxis\":{\"gridcolor\":\"#9499A3\",\"showgrid\":true,\"tickfont\":{\"color\":\"#4D5663\"},\"title\":{\"font\":{\"color\":\"#4D5663\"},\"text\":\"\"},\"zerolinecolor\":\"#9499A3\"},\"yaxis\":{\"gridcolor\":\"#9499A3\",\"showgrid\":true,\"tickfont\":{\"color\":\"#4D5663\"},\"title\":{\"font\":{\"color\":\"#4D5663\"},\"text\":\"\"},\"zerolinecolor\":\"#9499A3\"},\"zaxis\":{\"gridcolor\":\"#9499A3\",\"showgrid\":true,\"tickfont\":{\"color\":\"#4D5663\"},\"title\":{\"font\":{\"color\":\"#4D5663\"},\"text\":\"\"},\"zerolinecolor\":\"#9499A3\"}},\"template\":{\"data\":{\"barpolar\":[{\"marker\":{\"line\":{\"color\":\"#E5ECF6\",\"width\":0.5},\"pattern\":{\"fillmode\":\"overlay\",\"size\":10,\"solidity\":0.2}},\"type\":\"barpolar\"}],\"bar\":[{\"error_x\":{\"color\":\"#2a3f5f\"},\"error_y\":{\"color\":\"#2a3f5f\"},\"marker\":{\"line\":{\"color\":\"#E5ECF6\",\"width\":0.5},\"pattern\":{\"fillmode\":\"overlay\",\"size\":10,\"solidity\":0.2}},\"type\":\"bar\"}],\"carpet\":[{\"aaxis\":{\"endlinecolor\":\"#2a3f5f\",\"gridcolor\":\"white\",\"linecolor\":\"white\",\"minorgridcolor\":\"white\",\"startlinecolor\":\"#2a3f5f\"},\"baxis\":{\"endlinecolor\":\"#2a3f5f\",\"gridcolor\":\"white\",\"linecolor\":\"white\",\"minorgridcolor\":\"white\",\"startlinecolor\":\"#2a3f5f\"},\"type\":\"carpet\"}],\"choropleth\":[{\"colorbar\":{\"outlinewidth\":0,\"ticks\":\"\"},\"type\":\"choropleth\"}],\"contourcarpet\":[{\"colorbar\":{\"outlinewidth\":0,\"ticks\":\"\"},\"type\":\"contourcarpet\"}],\"contour\":[{\"colorbar\":{\"outlinewidth\":0,\"ticks\":\"\"},\"colorscale\":[[0.0,\"#0d0887\"],[0.1111111111111111,\"#46039f\"],[0.2222222222222222,\"#7201a8\"],[0.3333333333333333,\"#9c179e\"],[0.4444444444444444,\"#bd3786\"],[0.5555555555555556,\"#d8576b\"],[0.6666666666666666,\"#ed7953\"],[0.7777777777777778,\"#fb9f3a\"],[0.8888888888888888,\"#fdca26\"],[1.0,\"#f0f921\"]],\"type\":\"contour\"}],\"heatmapgl\":[{\"colorbar\":{\"outlinewidth\":0,\"ticks\":\"\"},\"colorscale\":[[0.0,\"#0d0887\"],[0.1111111111111111,\"#46039f\"],[0.2222222222222222,\"#7201a8\"],[0.3333333333333333,\"#9c179e\"],[0.4444444444444444,\"#bd3786\"],[0.5555555555555556,\"#d8576b\"],[0.6666666666666666,\"#ed7953\"],[0.7777777777777778,\"#fb9f3a\"],[0.8888888888888888,\"#fdca26\"],[1.0,\"#f0f921\"]],\"type\":\"heatmapgl\"}],\"heatmap\":[{\"colorbar\":{\"outlinewidth\":0,\"ticks\":\"\"},\"colorscale\":[[0.0,\"#0d0887\"],[0.1111111111111111,\"#46039f\"],[0.2222222222222222,\"#7201a8\"],[0.3333333333333333,\"#9c179e\"],[0.4444444444444444,\"#bd3786\"],[0.5555555555555556,\"#d8576b\"],[0.6666666666666666,\"#ed7953\"],[0.7777777777777778,\"#fb9f3a\"],[0.8888888888888888,\"#fdca26\"],[1.0,\"#f0f921\"]],\"type\":\"heatmap\"}],\"histogram2dcontour\":[{\"colorbar\":{\"outlinewidth\":0,\"ticks\":\"\"},\"colorscale\":[[0.0,\"#0d0887\"],[0.1111111111111111,\"#46039f\"],[0.2222222222222222,\"#7201a8\"],[0.3333333333333333,\"#9c179e\"],[0.4444444444444444,\"#bd3786\"],[0.5555555555555556,\"#d8576b\"],[0.6666666666666666,\"#ed7953\"],[0.7777777777777778,\"#fb9f3a\"],[0.8888888888888888,\"#fdca26\"],[1.0,\"#f0f921\"]],\"type\":\"histogram2dcontour\"}],\"histogram2d\":[{\"colorbar\":{\"outlinewidth\":0,\"ticks\":\"\"},\"colorscale\":[[0.0,\"#0d0887\"],[0.1111111111111111,\"#46039f\"],[0.2222222222222222,\"#7201a8\"],[0.3333333333333333,\"#9c179e\"],[0.4444444444444444,\"#bd3786\"],[0.5555555555555556,\"#d8576b\"],[0.6666666666666666,\"#ed7953\"],[0.7777777777777778,\"#fb9f3a\"],[0.8888888888888888,\"#fdca26\"],[1.0,\"#f0f921\"]],\"type\":\"histogram2d\"}],\"histogram\":[{\"marker\":{\"pattern\":{\"fillmode\":\"overlay\",\"size\":10,\"solidity\":0.2}},\"type\":\"histogram\"}],\"mesh3d\":[{\"colorbar\":{\"outlinewidth\":0,\"ticks\":\"\"},\"type\":\"mesh3d\"}],\"parcoords\":[{\"line\":{\"colorbar\":{\"outlinewidth\":0,\"ticks\":\"\"}},\"type\":\"parcoords\"}],\"pie\":[{\"automargin\":true,\"type\":\"pie\"}],\"scatter3d\":[{\"line\":{\"colorbar\":{\"outlinewidth\":0,\"ticks\":\"\"}},\"marker\":{\"colorbar\":{\"outlinewidth\":0,\"ticks\":\"\"}},\"type\":\"scatter3d\"}],\"scattercarpet\":[{\"marker\":{\"colorbar\":{\"outlinewidth\":0,\"ticks\":\"\"}},\"type\":\"scattercarpet\"}],\"scattergeo\":[{\"marker\":{\"colorbar\":{\"outlinewidth\":0,\"ticks\":\"\"}},\"type\":\"scattergeo\"}],\"scattergl\":[{\"marker\":{\"colorbar\":{\"outlinewidth\":0,\"ticks\":\"\"}},\"type\":\"scattergl\"}],\"scattermapbox\":[{\"marker\":{\"colorbar\":{\"outlinewidth\":0,\"ticks\":\"\"}},\"type\":\"scattermapbox\"}],\"scatterpolargl\":[{\"marker\":{\"colorbar\":{\"outlinewidth\":0,\"ticks\":\"\"}},\"type\":\"scatterpolargl\"}],\"scatterpolar\":[{\"marker\":{\"colorbar\":{\"outlinewidth\":0,\"ticks\":\"\"}},\"type\":\"scatterpolar\"}],\"scatter\":[{\"fillpattern\":{\"fillmode\":\"overlay\",\"size\":10,\"solidity\":0.2},\"type\":\"scatter\"}],\"scatterternary\":[{\"marker\":{\"colorbar\":{\"outlinewidth\":0,\"ticks\":\"\"}},\"type\":\"scatterternary\"}],\"surface\":[{\"colorbar\":{\"outlinewidth\":0,\"ticks\":\"\"},\"colorscale\":[[0.0,\"#0d0887\"],[0.1111111111111111,\"#46039f\"],[0.2222222222222222,\"#7201a8\"],[0.3333333333333333,\"#9c179e\"],[0.4444444444444444,\"#bd3786\"],[0.5555555555555556,\"#d8576b\"],[0.6666666666666666,\"#ed7953\"],[0.7777777777777778,\"#fb9f3a\"],[0.8888888888888888,\"#fdca26\"],[1.0,\"#f0f921\"]],\"type\":\"surface\"}],\"table\":[{\"cells\":{\"fill\":{\"color\":\"#EBF0F8\"},\"line\":{\"color\":\"white\"}},\"header\":{\"fill\":{\"color\":\"#C8D4E3\"},\"line\":{\"color\":\"white\"}},\"type\":\"table\"}]},\"layout\":{\"annotationdefaults\":{\"arrowcolor\":\"#2a3f5f\",\"arrowhead\":0,\"arrowwidth\":1},\"autotypenumbers\":\"strict\",\"coloraxis\":{\"colorbar\":{\"outlinewidth\":0,\"ticks\":\"\"}},\"colorscale\":{\"diverging\":[[0,\"#8e0152\"],[0.1,\"#c51b7d\"],[0.2,\"#de77ae\"],[0.3,\"#f1b6da\"],[0.4,\"#fde0ef\"],[0.5,\"#f7f7f7\"],[0.6,\"#e6f5d0\"],[0.7,\"#b8e186\"],[0.8,\"#7fbc41\"],[0.9,\"#4d9221\"],[1,\"#276419\"]],\"sequential\":[[0.0,\"#0d0887\"],[0.1111111111111111,\"#46039f\"],[0.2222222222222222,\"#7201a8\"],[0.3333333333333333,\"#9c179e\"],[0.4444444444444444,\"#bd3786\"],[0.5555555555555556,\"#d8576b\"],[0.6666666666666666,\"#ed7953\"],[0.7777777777777778,\"#fb9f3a\"],[0.8888888888888888,\"#fdca26\"],[1.0,\"#f0f921\"]],\"sequentialminus\":[[0.0,\"#0d0887\"],[0.1111111111111111,\"#46039f\"],[0.2222222222222222,\"#7201a8\"],[0.3333333333333333,\"#9c179e\"],[0.4444444444444444,\"#bd3786\"],[0.5555555555555556,\"#d8576b\"],[0.6666666666666666,\"#ed7953\"],[0.7777777777777778,\"#fb9f3a\"],[0.8888888888888888,\"#fdca26\"],[1.0,\"#f0f921\"]]},\"colorway\":[\"#636efa\",\"#EF553B\",\"#00cc96\",\"#ab63fa\",\"#FFA15A\",\"#19d3f3\",\"#FF6692\",\"#B6E880\",\"#FF97FF\",\"#FECB52\"],\"font\":{\"color\":\"#2a3f5f\"},\"geo\":{\"bgcolor\":\"white\",\"lakecolor\":\"white\",\"landcolor\":\"#E5ECF6\",\"showlakes\":true,\"showland\":true,\"subunitcolor\":\"white\"},\"hoverlabel\":{\"align\":\"left\"},\"hovermode\":\"closest\",\"mapbox\":{\"style\":\"light\"},\"paper_bgcolor\":\"white\",\"plot_bgcolor\":\"#E5ECF6\",\"polar\":{\"angularaxis\":{\"gridcolor\":\"white\",\"linecolor\":\"white\",\"ticks\":\"\"},\"bgcolor\":\"#E5ECF6\",\"radialaxis\":{\"gridcolor\":\"white\",\"linecolor\":\"white\",\"ticks\":\"\"}},\"scene\":{\"xaxis\":{\"backgroundcolor\":\"#E5ECF6\",\"gridcolor\":\"white\",\"gridwidth\":2,\"linecolor\":\"white\",\"showbackground\":true,\"ticks\":\"\",\"zerolinecolor\":\"white\"},\"yaxis\":{\"backgroundcolor\":\"#E5ECF6\",\"gridcolor\":\"white\",\"gridwidth\":2,\"linecolor\":\"white\",\"showbackground\":true,\"ticks\":\"\",\"zerolinecolor\":\"white\"},\"zaxis\":{\"backgroundcolor\":\"#E5ECF6\",\"gridcolor\":\"white\",\"gridwidth\":2,\"linecolor\":\"white\",\"showbackground\":true,\"ticks\":\"\",\"zerolinecolor\":\"white\"}},\"shapedefaults\":{\"line\":{\"color\":\"#2a3f5f\"}},\"ternary\":{\"aaxis\":{\"gridcolor\":\"white\",\"linecolor\":\"white\",\"ticks\":\"\"},\"baxis\":{\"gridcolor\":\"white\",\"linecolor\":\"white\",\"ticks\":\"\"},\"bgcolor\":\"#E5ECF6\",\"caxis\":{\"gridcolor\":\"white\",\"linecolor\":\"white\",\"ticks\":\"\"}},\"title\":{\"x\":0.05},\"xaxis\":{\"automargin\":true,\"gridcolor\":\"white\",\"linecolor\":\"white\",\"ticks\":\"\",\"title\":{\"standoff\":15},\"zerolinecolor\":\"white\",\"zerolinewidth\":2},\"yaxis\":{\"automargin\":true,\"gridcolor\":\"white\",\"linecolor\":\"white\",\"ticks\":\"\",\"title\":{\"standoff\":15},\"zerolinecolor\":\"white\",\"zerolinewidth\":2}}},\"title\":{\"font\":{\"color\":\"#4D5663\"}}},                        {\"showLink\": true, \"linkText\": \"Export to plot.ly\", \"plotlyServerURL\": \"https://plot.ly\", \"responsive\": true}                    ).then(function(){\n",
       "                            \n",
       "var gd = document.getElementById('a346d16b-9cfb-4f32-ad4e-3ccbcf8f99a4');\n",
       "var x = new MutationObserver(function (mutations, observer) {{\n",
       "        var display = window.getComputedStyle(gd).display;\n",
       "        if (!display || display === 'none') {{\n",
       "            console.log([gd, 'removed!']);\n",
       "            Plotly.purge(gd);\n",
       "            observer.disconnect();\n",
       "        }}\n",
       "}});\n",
       "\n",
       "// Listen for the removal of the full notebook cells\n",
       "var notebookContainer = gd.closest('#notebook-container');\n",
       "if (notebookContainer) {{\n",
       "    x.observe(notebookContainer, {childList: true});\n",
       "}}\n",
       "\n",
       "// Listen for the clearing of the current output cell\n",
       "var outputEl = gd.closest('.output');\n",
       "if (outputEl) {{\n",
       "    x.observe(outputEl, {childList: true});\n",
       "}}\n",
       "\n",
       "                        })                };                });            </script>        </div>"
      ]
     },
     "metadata": {},
     "output_type": "display_data"
    }
   ],
   "source": [
    "bb.iplot(kind = 'bubble3d', x = 'x', y= 'y', z = 'z', size = 'size')"
   ]
  },
  {
   "cell_type": "code",
   "execution_count": 38,
   "id": "92ddad27",
   "metadata": {},
   "outputs": [
    {
     "data": {
      "application/vnd.plotly.v1+json": {
       "config": {
        "linkText": "Export to plot.ly",
        "plotlyServerURL": "https://plot.ly",
        "showLink": true
       },
       "data": [
        {
         "colorscale": [
          [
           0,
           "rgb(158,1,66)"
          ],
          [
           0.1,
           "rgb(213,62,79)"
          ],
          [
           0.2,
           "rgb(244,109,67)"
          ],
          [
           0.3,
           "rgb(253,174,97)"
          ],
          [
           0.4,
           "rgb(254,224,139)"
          ],
          [
           0.5,
           "rgb(255,255,191)"
          ],
          [
           0.6,
           "rgb(230,245,152)"
          ],
          [
           0.7,
           "rgb(171,221,164)"
          ],
          [
           0.8,
           "rgb(102,194,165)"
          ],
          [
           0.9,
           "rgb(50,136,189)"
          ],
          [
           1,
           "rgb(94,79,162)"
          ]
         ],
         "type": "heatmap",
         "x": [
          "A",
          "B",
          "C"
         ],
         "y": [
          "A",
          "B",
          "C"
         ],
         "z": [
          [
           1,
           0.9287240520276737,
           -0.9907723151755299
          ],
          [
           0.9287240520276737,
           1,
           -0.873333855682384
          ],
          [
           -0.9907723151755299,
           -0.873333855682384,
           1
          ]
         ],
         "zmax": 1,
         "zmin": -0.9907723151755299
        }
       ],
       "layout": {
        "legend": {
         "bgcolor": "#F5F6F9",
         "font": {
          "color": "#4D5663"
         }
        },
        "paper_bgcolor": "#F5F6F9",
        "plot_bgcolor": "#F5F6F9",
        "template": {
         "data": {
          "bar": [
           {
            "error_x": {
             "color": "#2a3f5f"
            },
            "error_y": {
             "color": "#2a3f5f"
            },
            "marker": {
             "line": {
              "color": "#E5ECF6",
              "width": 0.5
             },
             "pattern": {
              "fillmode": "overlay",
              "size": 10,
              "solidity": 0.2
             }
            },
            "type": "bar"
           }
          ],
          "barpolar": [
           {
            "marker": {
             "line": {
              "color": "#E5ECF6",
              "width": 0.5
             },
             "pattern": {
              "fillmode": "overlay",
              "size": 10,
              "solidity": 0.2
             }
            },
            "type": "barpolar"
           }
          ],
          "carpet": [
           {
            "aaxis": {
             "endlinecolor": "#2a3f5f",
             "gridcolor": "white",
             "linecolor": "white",
             "minorgridcolor": "white",
             "startlinecolor": "#2a3f5f"
            },
            "baxis": {
             "endlinecolor": "#2a3f5f",
             "gridcolor": "white",
             "linecolor": "white",
             "minorgridcolor": "white",
             "startlinecolor": "#2a3f5f"
            },
            "type": "carpet"
           }
          ],
          "choropleth": [
           {
            "colorbar": {
             "outlinewidth": 0,
             "ticks": ""
            },
            "type": "choropleth"
           }
          ],
          "contour": [
           {
            "colorbar": {
             "outlinewidth": 0,
             "ticks": ""
            },
            "colorscale": [
             [
              0,
              "#0d0887"
             ],
             [
              0.1111111111111111,
              "#46039f"
             ],
             [
              0.2222222222222222,
              "#7201a8"
             ],
             [
              0.3333333333333333,
              "#9c179e"
             ],
             [
              0.4444444444444444,
              "#bd3786"
             ],
             [
              0.5555555555555556,
              "#d8576b"
             ],
             [
              0.6666666666666666,
              "#ed7953"
             ],
             [
              0.7777777777777778,
              "#fb9f3a"
             ],
             [
              0.8888888888888888,
              "#fdca26"
             ],
             [
              1,
              "#f0f921"
             ]
            ],
            "type": "contour"
           }
          ],
          "contourcarpet": [
           {
            "colorbar": {
             "outlinewidth": 0,
             "ticks": ""
            },
            "type": "contourcarpet"
           }
          ],
          "heatmap": [
           {
            "colorbar": {
             "outlinewidth": 0,
             "ticks": ""
            },
            "colorscale": [
             [
              0,
              "#0d0887"
             ],
             [
              0.1111111111111111,
              "#46039f"
             ],
             [
              0.2222222222222222,
              "#7201a8"
             ],
             [
              0.3333333333333333,
              "#9c179e"
             ],
             [
              0.4444444444444444,
              "#bd3786"
             ],
             [
              0.5555555555555556,
              "#d8576b"
             ],
             [
              0.6666666666666666,
              "#ed7953"
             ],
             [
              0.7777777777777778,
              "#fb9f3a"
             ],
             [
              0.8888888888888888,
              "#fdca26"
             ],
             [
              1,
              "#f0f921"
             ]
            ],
            "type": "heatmap"
           }
          ],
          "heatmapgl": [
           {
            "colorbar": {
             "outlinewidth": 0,
             "ticks": ""
            },
            "colorscale": [
             [
              0,
              "#0d0887"
             ],
             [
              0.1111111111111111,
              "#46039f"
             ],
             [
              0.2222222222222222,
              "#7201a8"
             ],
             [
              0.3333333333333333,
              "#9c179e"
             ],
             [
              0.4444444444444444,
              "#bd3786"
             ],
             [
              0.5555555555555556,
              "#d8576b"
             ],
             [
              0.6666666666666666,
              "#ed7953"
             ],
             [
              0.7777777777777778,
              "#fb9f3a"
             ],
             [
              0.8888888888888888,
              "#fdca26"
             ],
             [
              1,
              "#f0f921"
             ]
            ],
            "type": "heatmapgl"
           }
          ],
          "histogram": [
           {
            "marker": {
             "pattern": {
              "fillmode": "overlay",
              "size": 10,
              "solidity": 0.2
             }
            },
            "type": "histogram"
           }
          ],
          "histogram2d": [
           {
            "colorbar": {
             "outlinewidth": 0,
             "ticks": ""
            },
            "colorscale": [
             [
              0,
              "#0d0887"
             ],
             [
              0.1111111111111111,
              "#46039f"
             ],
             [
              0.2222222222222222,
              "#7201a8"
             ],
             [
              0.3333333333333333,
              "#9c179e"
             ],
             [
              0.4444444444444444,
              "#bd3786"
             ],
             [
              0.5555555555555556,
              "#d8576b"
             ],
             [
              0.6666666666666666,
              "#ed7953"
             ],
             [
              0.7777777777777778,
              "#fb9f3a"
             ],
             [
              0.8888888888888888,
              "#fdca26"
             ],
             [
              1,
              "#f0f921"
             ]
            ],
            "type": "histogram2d"
           }
          ],
          "histogram2dcontour": [
           {
            "colorbar": {
             "outlinewidth": 0,
             "ticks": ""
            },
            "colorscale": [
             [
              0,
              "#0d0887"
             ],
             [
              0.1111111111111111,
              "#46039f"
             ],
             [
              0.2222222222222222,
              "#7201a8"
             ],
             [
              0.3333333333333333,
              "#9c179e"
             ],
             [
              0.4444444444444444,
              "#bd3786"
             ],
             [
              0.5555555555555556,
              "#d8576b"
             ],
             [
              0.6666666666666666,
              "#ed7953"
             ],
             [
              0.7777777777777778,
              "#fb9f3a"
             ],
             [
              0.8888888888888888,
              "#fdca26"
             ],
             [
              1,
              "#f0f921"
             ]
            ],
            "type": "histogram2dcontour"
           }
          ],
          "mesh3d": [
           {
            "colorbar": {
             "outlinewidth": 0,
             "ticks": ""
            },
            "type": "mesh3d"
           }
          ],
          "parcoords": [
           {
            "line": {
             "colorbar": {
              "outlinewidth": 0,
              "ticks": ""
             }
            },
            "type": "parcoords"
           }
          ],
          "pie": [
           {
            "automargin": true,
            "type": "pie"
           }
          ],
          "scatter": [
           {
            "fillpattern": {
             "fillmode": "overlay",
             "size": 10,
             "solidity": 0.2
            },
            "type": "scatter"
           }
          ],
          "scatter3d": [
           {
            "line": {
             "colorbar": {
              "outlinewidth": 0,
              "ticks": ""
             }
            },
            "marker": {
             "colorbar": {
              "outlinewidth": 0,
              "ticks": ""
             }
            },
            "type": "scatter3d"
           }
          ],
          "scattercarpet": [
           {
            "marker": {
             "colorbar": {
              "outlinewidth": 0,
              "ticks": ""
             }
            },
            "type": "scattercarpet"
           }
          ],
          "scattergeo": [
           {
            "marker": {
             "colorbar": {
              "outlinewidth": 0,
              "ticks": ""
             }
            },
            "type": "scattergeo"
           }
          ],
          "scattergl": [
           {
            "marker": {
             "colorbar": {
              "outlinewidth": 0,
              "ticks": ""
             }
            },
            "type": "scattergl"
           }
          ],
          "scattermapbox": [
           {
            "marker": {
             "colorbar": {
              "outlinewidth": 0,
              "ticks": ""
             }
            },
            "type": "scattermapbox"
           }
          ],
          "scatterpolar": [
           {
            "marker": {
             "colorbar": {
              "outlinewidth": 0,
              "ticks": ""
             }
            },
            "type": "scatterpolar"
           }
          ],
          "scatterpolargl": [
           {
            "marker": {
             "colorbar": {
              "outlinewidth": 0,
              "ticks": ""
             }
            },
            "type": "scatterpolargl"
           }
          ],
          "scatterternary": [
           {
            "marker": {
             "colorbar": {
              "outlinewidth": 0,
              "ticks": ""
             }
            },
            "type": "scatterternary"
           }
          ],
          "surface": [
           {
            "colorbar": {
             "outlinewidth": 0,
             "ticks": ""
            },
            "colorscale": [
             [
              0,
              "#0d0887"
             ],
             [
              0.1111111111111111,
              "#46039f"
             ],
             [
              0.2222222222222222,
              "#7201a8"
             ],
             [
              0.3333333333333333,
              "#9c179e"
             ],
             [
              0.4444444444444444,
              "#bd3786"
             ],
             [
              0.5555555555555556,
              "#d8576b"
             ],
             [
              0.6666666666666666,
              "#ed7953"
             ],
             [
              0.7777777777777778,
              "#fb9f3a"
             ],
             [
              0.8888888888888888,
              "#fdca26"
             ],
             [
              1,
              "#f0f921"
             ]
            ],
            "type": "surface"
           }
          ],
          "table": [
           {
            "cells": {
             "fill": {
              "color": "#EBF0F8"
             },
             "line": {
              "color": "white"
             }
            },
            "header": {
             "fill": {
              "color": "#C8D4E3"
             },
             "line": {
              "color": "white"
             }
            },
            "type": "table"
           }
          ]
         },
         "layout": {
          "annotationdefaults": {
           "arrowcolor": "#2a3f5f",
           "arrowhead": 0,
           "arrowwidth": 1
          },
          "autotypenumbers": "strict",
          "coloraxis": {
           "colorbar": {
            "outlinewidth": 0,
            "ticks": ""
           }
          },
          "colorscale": {
           "diverging": [
            [
             0,
             "#8e0152"
            ],
            [
             0.1,
             "#c51b7d"
            ],
            [
             0.2,
             "#de77ae"
            ],
            [
             0.3,
             "#f1b6da"
            ],
            [
             0.4,
             "#fde0ef"
            ],
            [
             0.5,
             "#f7f7f7"
            ],
            [
             0.6,
             "#e6f5d0"
            ],
            [
             0.7,
             "#b8e186"
            ],
            [
             0.8,
             "#7fbc41"
            ],
            [
             0.9,
             "#4d9221"
            ],
            [
             1,
             "#276419"
            ]
           ],
           "sequential": [
            [
             0,
             "#0d0887"
            ],
            [
             0.1111111111111111,
             "#46039f"
            ],
            [
             0.2222222222222222,
             "#7201a8"
            ],
            [
             0.3333333333333333,
             "#9c179e"
            ],
            [
             0.4444444444444444,
             "#bd3786"
            ],
            [
             0.5555555555555556,
             "#d8576b"
            ],
            [
             0.6666666666666666,
             "#ed7953"
            ],
            [
             0.7777777777777778,
             "#fb9f3a"
            ],
            [
             0.8888888888888888,
             "#fdca26"
            ],
            [
             1,
             "#f0f921"
            ]
           ],
           "sequentialminus": [
            [
             0,
             "#0d0887"
            ],
            [
             0.1111111111111111,
             "#46039f"
            ],
            [
             0.2222222222222222,
             "#7201a8"
            ],
            [
             0.3333333333333333,
             "#9c179e"
            ],
            [
             0.4444444444444444,
             "#bd3786"
            ],
            [
             0.5555555555555556,
             "#d8576b"
            ],
            [
             0.6666666666666666,
             "#ed7953"
            ],
            [
             0.7777777777777778,
             "#fb9f3a"
            ],
            [
             0.8888888888888888,
             "#fdca26"
            ],
            [
             1,
             "#f0f921"
            ]
           ]
          },
          "colorway": [
           "#636efa",
           "#EF553B",
           "#00cc96",
           "#ab63fa",
           "#FFA15A",
           "#19d3f3",
           "#FF6692",
           "#B6E880",
           "#FF97FF",
           "#FECB52"
          ],
          "font": {
           "color": "#2a3f5f"
          },
          "geo": {
           "bgcolor": "white",
           "lakecolor": "white",
           "landcolor": "#E5ECF6",
           "showlakes": true,
           "showland": true,
           "subunitcolor": "white"
          },
          "hoverlabel": {
           "align": "left"
          },
          "hovermode": "closest",
          "mapbox": {
           "style": "light"
          },
          "paper_bgcolor": "white",
          "plot_bgcolor": "#E5ECF6",
          "polar": {
           "angularaxis": {
            "gridcolor": "white",
            "linecolor": "white",
            "ticks": ""
           },
           "bgcolor": "#E5ECF6",
           "radialaxis": {
            "gridcolor": "white",
            "linecolor": "white",
            "ticks": ""
           }
          },
          "scene": {
           "xaxis": {
            "backgroundcolor": "#E5ECF6",
            "gridcolor": "white",
            "gridwidth": 2,
            "linecolor": "white",
            "showbackground": true,
            "ticks": "",
            "zerolinecolor": "white"
           },
           "yaxis": {
            "backgroundcolor": "#E5ECF6",
            "gridcolor": "white",
            "gridwidth": 2,
            "linecolor": "white",
            "showbackground": true,
            "ticks": "",
            "zerolinecolor": "white"
           },
           "zaxis": {
            "backgroundcolor": "#E5ECF6",
            "gridcolor": "white",
            "gridwidth": 2,
            "linecolor": "white",
            "showbackground": true,
            "ticks": "",
            "zerolinecolor": "white"
           }
          },
          "shapedefaults": {
           "line": {
            "color": "#2a3f5f"
           }
          },
          "ternary": {
           "aaxis": {
            "gridcolor": "white",
            "linecolor": "white",
            "ticks": ""
           },
           "baxis": {
            "gridcolor": "white",
            "linecolor": "white",
            "ticks": ""
           },
           "bgcolor": "#E5ECF6",
           "caxis": {
            "gridcolor": "white",
            "linecolor": "white",
            "ticks": ""
           }
          },
          "title": {
           "x": 0.05
          },
          "xaxis": {
           "automargin": true,
           "gridcolor": "white",
           "linecolor": "white",
           "ticks": "",
           "title": {
            "standoff": 15
           },
           "zerolinecolor": "white",
           "zerolinewidth": 2
          },
          "yaxis": {
           "automargin": true,
           "gridcolor": "white",
           "linecolor": "white",
           "ticks": "",
           "title": {
            "standoff": 15
           },
           "zerolinecolor": "white",
           "zerolinewidth": 2
          }
         }
        },
        "title": {
         "font": {
          "color": "#4D5663"
         }
        },
        "xaxis": {
         "gridcolor": "#E1E5ED",
         "showgrid": true,
         "tickfont": {
          "color": "#4D5663"
         },
         "title": {
          "font": {
           "color": "#4D5663"
          },
          "text": ""
         },
         "zerolinecolor": "#E1E5ED"
        },
        "yaxis": {
         "gridcolor": "#E1E5ED",
         "showgrid": true,
         "tickfont": {
          "color": "#4D5663"
         },
         "title": {
          "font": {
           "color": "#4D5663"
          },
          "text": ""
         },
         "zerolinecolor": "#E1E5ED"
        }
       }
      },
      "text/html": [
       "<div>                            <div id=\"f7587720-57d2-4dbd-a2b0-e8b55c01bed9\" class=\"plotly-graph-div\" style=\"height:525px; width:100%;\"></div>            <script type=\"text/javascript\">                require([\"plotly\"], function(Plotly) {                    window.PLOTLYENV=window.PLOTLYENV || {};\n",
       "                    window.PLOTLYENV.BASE_URL='https://plot.ly';                                    if (document.getElementById(\"f7587720-57d2-4dbd-a2b0-e8b55c01bed9\")) {                    Plotly.newPlot(                        \"f7587720-57d2-4dbd-a2b0-e8b55c01bed9\",                        [{\"colorscale\":[[0.0,\"rgb(158,1,66)\"],[0.1,\"rgb(213,62,79)\"],[0.2,\"rgb(244,109,67)\"],[0.3,\"rgb(253,174,97)\"],[0.4,\"rgb(254,224,139)\"],[0.5,\"rgb(255,255,191)\"],[0.6,\"rgb(230,245,152)\"],[0.7,\"rgb(171,221,164)\"],[0.8,\"rgb(102,194,165)\"],[0.9,\"rgb(50,136,189)\"],[1.0,\"rgb(94,79,162)\"]],\"x\":[\"A\",\"B\",\"C\"],\"y\":[\"A\",\"B\",\"C\"],\"z\":[[1.0,0.9287240520276737,-0.9907723151755299],[0.9287240520276737,1.0,-0.873333855682384],[-0.9907723151755299,-0.873333855682384,1.0]],\"zmax\":1.0,\"zmin\":-0.9907723151755299,\"type\":\"heatmap\"}],                        {\"legend\":{\"bgcolor\":\"#F5F6F9\",\"font\":{\"color\":\"#4D5663\"}},\"paper_bgcolor\":\"#F5F6F9\",\"plot_bgcolor\":\"#F5F6F9\",\"template\":{\"data\":{\"barpolar\":[{\"marker\":{\"line\":{\"color\":\"#E5ECF6\",\"width\":0.5},\"pattern\":{\"fillmode\":\"overlay\",\"size\":10,\"solidity\":0.2}},\"type\":\"barpolar\"}],\"bar\":[{\"error_x\":{\"color\":\"#2a3f5f\"},\"error_y\":{\"color\":\"#2a3f5f\"},\"marker\":{\"line\":{\"color\":\"#E5ECF6\",\"width\":0.5},\"pattern\":{\"fillmode\":\"overlay\",\"size\":10,\"solidity\":0.2}},\"type\":\"bar\"}],\"carpet\":[{\"aaxis\":{\"endlinecolor\":\"#2a3f5f\",\"gridcolor\":\"white\",\"linecolor\":\"white\",\"minorgridcolor\":\"white\",\"startlinecolor\":\"#2a3f5f\"},\"baxis\":{\"endlinecolor\":\"#2a3f5f\",\"gridcolor\":\"white\",\"linecolor\":\"white\",\"minorgridcolor\":\"white\",\"startlinecolor\":\"#2a3f5f\"},\"type\":\"carpet\"}],\"choropleth\":[{\"colorbar\":{\"outlinewidth\":0,\"ticks\":\"\"},\"type\":\"choropleth\"}],\"contourcarpet\":[{\"colorbar\":{\"outlinewidth\":0,\"ticks\":\"\"},\"type\":\"contourcarpet\"}],\"contour\":[{\"colorbar\":{\"outlinewidth\":0,\"ticks\":\"\"},\"colorscale\":[[0.0,\"#0d0887\"],[0.1111111111111111,\"#46039f\"],[0.2222222222222222,\"#7201a8\"],[0.3333333333333333,\"#9c179e\"],[0.4444444444444444,\"#bd3786\"],[0.5555555555555556,\"#d8576b\"],[0.6666666666666666,\"#ed7953\"],[0.7777777777777778,\"#fb9f3a\"],[0.8888888888888888,\"#fdca26\"],[1.0,\"#f0f921\"]],\"type\":\"contour\"}],\"heatmapgl\":[{\"colorbar\":{\"outlinewidth\":0,\"ticks\":\"\"},\"colorscale\":[[0.0,\"#0d0887\"],[0.1111111111111111,\"#46039f\"],[0.2222222222222222,\"#7201a8\"],[0.3333333333333333,\"#9c179e\"],[0.4444444444444444,\"#bd3786\"],[0.5555555555555556,\"#d8576b\"],[0.6666666666666666,\"#ed7953\"],[0.7777777777777778,\"#fb9f3a\"],[0.8888888888888888,\"#fdca26\"],[1.0,\"#f0f921\"]],\"type\":\"heatmapgl\"}],\"heatmap\":[{\"colorbar\":{\"outlinewidth\":0,\"ticks\":\"\"},\"colorscale\":[[0.0,\"#0d0887\"],[0.1111111111111111,\"#46039f\"],[0.2222222222222222,\"#7201a8\"],[0.3333333333333333,\"#9c179e\"],[0.4444444444444444,\"#bd3786\"],[0.5555555555555556,\"#d8576b\"],[0.6666666666666666,\"#ed7953\"],[0.7777777777777778,\"#fb9f3a\"],[0.8888888888888888,\"#fdca26\"],[1.0,\"#f0f921\"]],\"type\":\"heatmap\"}],\"histogram2dcontour\":[{\"colorbar\":{\"outlinewidth\":0,\"ticks\":\"\"},\"colorscale\":[[0.0,\"#0d0887\"],[0.1111111111111111,\"#46039f\"],[0.2222222222222222,\"#7201a8\"],[0.3333333333333333,\"#9c179e\"],[0.4444444444444444,\"#bd3786\"],[0.5555555555555556,\"#d8576b\"],[0.6666666666666666,\"#ed7953\"],[0.7777777777777778,\"#fb9f3a\"],[0.8888888888888888,\"#fdca26\"],[1.0,\"#f0f921\"]],\"type\":\"histogram2dcontour\"}],\"histogram2d\":[{\"colorbar\":{\"outlinewidth\":0,\"ticks\":\"\"},\"colorscale\":[[0.0,\"#0d0887\"],[0.1111111111111111,\"#46039f\"],[0.2222222222222222,\"#7201a8\"],[0.3333333333333333,\"#9c179e\"],[0.4444444444444444,\"#bd3786\"],[0.5555555555555556,\"#d8576b\"],[0.6666666666666666,\"#ed7953\"],[0.7777777777777778,\"#fb9f3a\"],[0.8888888888888888,\"#fdca26\"],[1.0,\"#f0f921\"]],\"type\":\"histogram2d\"}],\"histogram\":[{\"marker\":{\"pattern\":{\"fillmode\":\"overlay\",\"size\":10,\"solidity\":0.2}},\"type\":\"histogram\"}],\"mesh3d\":[{\"colorbar\":{\"outlinewidth\":0,\"ticks\":\"\"},\"type\":\"mesh3d\"}],\"parcoords\":[{\"line\":{\"colorbar\":{\"outlinewidth\":0,\"ticks\":\"\"}},\"type\":\"parcoords\"}],\"pie\":[{\"automargin\":true,\"type\":\"pie\"}],\"scatter3d\":[{\"line\":{\"colorbar\":{\"outlinewidth\":0,\"ticks\":\"\"}},\"marker\":{\"colorbar\":{\"outlinewidth\":0,\"ticks\":\"\"}},\"type\":\"scatter3d\"}],\"scattercarpet\":[{\"marker\":{\"colorbar\":{\"outlinewidth\":0,\"ticks\":\"\"}},\"type\":\"scattercarpet\"}],\"scattergeo\":[{\"marker\":{\"colorbar\":{\"outlinewidth\":0,\"ticks\":\"\"}},\"type\":\"scattergeo\"}],\"scattergl\":[{\"marker\":{\"colorbar\":{\"outlinewidth\":0,\"ticks\":\"\"}},\"type\":\"scattergl\"}],\"scattermapbox\":[{\"marker\":{\"colorbar\":{\"outlinewidth\":0,\"ticks\":\"\"}},\"type\":\"scattermapbox\"}],\"scatterpolargl\":[{\"marker\":{\"colorbar\":{\"outlinewidth\":0,\"ticks\":\"\"}},\"type\":\"scatterpolargl\"}],\"scatterpolar\":[{\"marker\":{\"colorbar\":{\"outlinewidth\":0,\"ticks\":\"\"}},\"type\":\"scatterpolar\"}],\"scatter\":[{\"fillpattern\":{\"fillmode\":\"overlay\",\"size\":10,\"solidity\":0.2},\"type\":\"scatter\"}],\"scatterternary\":[{\"marker\":{\"colorbar\":{\"outlinewidth\":0,\"ticks\":\"\"}},\"type\":\"scatterternary\"}],\"surface\":[{\"colorbar\":{\"outlinewidth\":0,\"ticks\":\"\"},\"colorscale\":[[0.0,\"#0d0887\"],[0.1111111111111111,\"#46039f\"],[0.2222222222222222,\"#7201a8\"],[0.3333333333333333,\"#9c179e\"],[0.4444444444444444,\"#bd3786\"],[0.5555555555555556,\"#d8576b\"],[0.6666666666666666,\"#ed7953\"],[0.7777777777777778,\"#fb9f3a\"],[0.8888888888888888,\"#fdca26\"],[1.0,\"#f0f921\"]],\"type\":\"surface\"}],\"table\":[{\"cells\":{\"fill\":{\"color\":\"#EBF0F8\"},\"line\":{\"color\":\"white\"}},\"header\":{\"fill\":{\"color\":\"#C8D4E3\"},\"line\":{\"color\":\"white\"}},\"type\":\"table\"}]},\"layout\":{\"annotationdefaults\":{\"arrowcolor\":\"#2a3f5f\",\"arrowhead\":0,\"arrowwidth\":1},\"autotypenumbers\":\"strict\",\"coloraxis\":{\"colorbar\":{\"outlinewidth\":0,\"ticks\":\"\"}},\"colorscale\":{\"diverging\":[[0,\"#8e0152\"],[0.1,\"#c51b7d\"],[0.2,\"#de77ae\"],[0.3,\"#f1b6da\"],[0.4,\"#fde0ef\"],[0.5,\"#f7f7f7\"],[0.6,\"#e6f5d0\"],[0.7,\"#b8e186\"],[0.8,\"#7fbc41\"],[0.9,\"#4d9221\"],[1,\"#276419\"]],\"sequential\":[[0.0,\"#0d0887\"],[0.1111111111111111,\"#46039f\"],[0.2222222222222222,\"#7201a8\"],[0.3333333333333333,\"#9c179e\"],[0.4444444444444444,\"#bd3786\"],[0.5555555555555556,\"#d8576b\"],[0.6666666666666666,\"#ed7953\"],[0.7777777777777778,\"#fb9f3a\"],[0.8888888888888888,\"#fdca26\"],[1.0,\"#f0f921\"]],\"sequentialminus\":[[0.0,\"#0d0887\"],[0.1111111111111111,\"#46039f\"],[0.2222222222222222,\"#7201a8\"],[0.3333333333333333,\"#9c179e\"],[0.4444444444444444,\"#bd3786\"],[0.5555555555555556,\"#d8576b\"],[0.6666666666666666,\"#ed7953\"],[0.7777777777777778,\"#fb9f3a\"],[0.8888888888888888,\"#fdca26\"],[1.0,\"#f0f921\"]]},\"colorway\":[\"#636efa\",\"#EF553B\",\"#00cc96\",\"#ab63fa\",\"#FFA15A\",\"#19d3f3\",\"#FF6692\",\"#B6E880\",\"#FF97FF\",\"#FECB52\"],\"font\":{\"color\":\"#2a3f5f\"},\"geo\":{\"bgcolor\":\"white\",\"lakecolor\":\"white\",\"landcolor\":\"#E5ECF6\",\"showlakes\":true,\"showland\":true,\"subunitcolor\":\"white\"},\"hoverlabel\":{\"align\":\"left\"},\"hovermode\":\"closest\",\"mapbox\":{\"style\":\"light\"},\"paper_bgcolor\":\"white\",\"plot_bgcolor\":\"#E5ECF6\",\"polar\":{\"angularaxis\":{\"gridcolor\":\"white\",\"linecolor\":\"white\",\"ticks\":\"\"},\"bgcolor\":\"#E5ECF6\",\"radialaxis\":{\"gridcolor\":\"white\",\"linecolor\":\"white\",\"ticks\":\"\"}},\"scene\":{\"xaxis\":{\"backgroundcolor\":\"#E5ECF6\",\"gridcolor\":\"white\",\"gridwidth\":2,\"linecolor\":\"white\",\"showbackground\":true,\"ticks\":\"\",\"zerolinecolor\":\"white\"},\"yaxis\":{\"backgroundcolor\":\"#E5ECF6\",\"gridcolor\":\"white\",\"gridwidth\":2,\"linecolor\":\"white\",\"showbackground\":true,\"ticks\":\"\",\"zerolinecolor\":\"white\"},\"zaxis\":{\"backgroundcolor\":\"#E5ECF6\",\"gridcolor\":\"white\",\"gridwidth\":2,\"linecolor\":\"white\",\"showbackground\":true,\"ticks\":\"\",\"zerolinecolor\":\"white\"}},\"shapedefaults\":{\"line\":{\"color\":\"#2a3f5f\"}},\"ternary\":{\"aaxis\":{\"gridcolor\":\"white\",\"linecolor\":\"white\",\"ticks\":\"\"},\"baxis\":{\"gridcolor\":\"white\",\"linecolor\":\"white\",\"ticks\":\"\"},\"bgcolor\":\"#E5ECF6\",\"caxis\":{\"gridcolor\":\"white\",\"linecolor\":\"white\",\"ticks\":\"\"}},\"title\":{\"x\":0.05},\"xaxis\":{\"automargin\":true,\"gridcolor\":\"white\",\"linecolor\":\"white\",\"ticks\":\"\",\"title\":{\"standoff\":15},\"zerolinecolor\":\"white\",\"zerolinewidth\":2},\"yaxis\":{\"automargin\":true,\"gridcolor\":\"white\",\"linecolor\":\"white\",\"ticks\":\"\",\"title\":{\"standoff\":15},\"zerolinecolor\":\"white\",\"zerolinewidth\":2}}},\"title\":{\"font\":{\"color\":\"#4D5663\"}},\"xaxis\":{\"gridcolor\":\"#E1E5ED\",\"showgrid\":true,\"tickfont\":{\"color\":\"#4D5663\"},\"title\":{\"font\":{\"color\":\"#4D5663\"},\"text\":\"\"},\"zerolinecolor\":\"#E1E5ED\"},\"yaxis\":{\"gridcolor\":\"#E1E5ED\",\"showgrid\":true,\"tickfont\":{\"color\":\"#4D5663\"},\"title\":{\"font\":{\"color\":\"#4D5663\"},\"text\":\"\"},\"zerolinecolor\":\"#E1E5ED\"}},                        {\"showLink\": true, \"linkText\": \"Export to plot.ly\", \"plotlyServerURL\": \"https://plot.ly\", \"responsive\": true}                    ).then(function(){\n",
       "                            \n",
       "var gd = document.getElementById('f7587720-57d2-4dbd-a2b0-e8b55c01bed9');\n",
       "var x = new MutationObserver(function (mutations, observer) {{\n",
       "        var display = window.getComputedStyle(gd).display;\n",
       "        if (!display || display === 'none') {{\n",
       "            console.log([gd, 'removed!']);\n",
       "            Plotly.purge(gd);\n",
       "            observer.disconnect();\n",
       "        }}\n",
       "}});\n",
       "\n",
       "// Listen for the removal of the full notebook cells\n",
       "var notebookContainer = gd.closest('#notebook-container');\n",
       "if (notebookContainer) {{\n",
       "    x.observe(notebookContainer, {childList: true});\n",
       "}}\n",
       "\n",
       "// Listen for the clearing of the current output cell\n",
       "var outputEl = gd.closest('.output');\n",
       "if (outputEl) {{\n",
       "    x.observe(outputEl, {childList: true});\n",
       "}}\n",
       "\n",
       "                        })                };                });            </script>        </div>"
      ]
     },
     "metadata": {},
     "output_type": "display_data"
    }
   ],
   "source": [
    "df.corr().iplot(kind = 'heatmap', colorscale='spectral')"
   ]
  },
  {
   "cell_type": "code",
   "execution_count": 39,
   "id": "5b93ad74",
   "metadata": {},
   "outputs": [
    {
     "data": {
      "application/vnd.plotly.v1+json": {
       "config": {
        "linkText": "Export to plot.ly",
        "plotlyServerURL": "https://plot.ly",
        "showLink": true
       },
       "data": [
        {
         "colorscale": [
          [
           0,
           "rgb(158,1,66)"
          ],
          [
           0.1,
           "rgb(213,62,79)"
          ],
          [
           0.2,
           "rgb(244,109,67)"
          ],
          [
           0.3,
           "rgb(253,174,97)"
          ],
          [
           0.4,
           "rgb(254,224,139)"
          ],
          [
           0.5,
           "rgb(255,255,191)"
          ],
          [
           0.6,
           "rgb(230,245,152)"
          ],
          [
           0.7,
           "rgb(171,221,164)"
          ],
          [
           0.8,
           "rgb(102,194,165)"
          ],
          [
           0.9,
           "rgb(50,136,189)"
          ],
          [
           1,
           "rgb(94,79,162)"
          ]
         ],
         "type": "heatmap",
         "x": [
          "x_0",
          "x_1",
          "x_2",
          "x_3",
          "x_4",
          "x_5",
          "x_6",
          "x_7",
          "x_8",
          "x_9",
          "x_10",
          "x_11",
          "x_12",
          "x_13",
          "x_14",
          "x_15",
          "x_16",
          "x_17",
          "x_18",
          "x_19"
         ],
         "y": [
          "y_0",
          "y_1",
          "y_2",
          "y_3",
          "y_4",
          "y_5",
          "y_6",
          "y_7",
          "y_8",
          "y_9",
          "y_10",
          "y_11",
          "y_12",
          "y_13",
          "y_14",
          "y_15",
          "y_16",
          "y_17",
          "y_18",
          "y_19"
         ],
         "z": [
          [
           73,
           72.88625334074202,
           74.86674335050704,
           74.35299288562294,
           66.06089186904089,
           68.47570716167758,
           76.2437378027713,
           81.88135656413031,
           67.46032240194936,
           70.0168737046556,
           73.07409807104357,
           79.01356802962884,
           71.78382194807146,
           65.56327538801771,
           73.8025526848774,
           70.53549969265521,
           70.61075700670432,
           75.3344926928425,
           66.99106260201471,
           72.33607269221272
          ],
          [
           71.6570125112533,
           72.56060052554342,
           72.01201690415509,
           74.22080278745048,
           56.45856967632948,
           75.0242894473025,
           74.16588529062524,
           79.67804954500696,
           68.94386119223726,
           72.36324741463791,
           71.66199101676703,
           77.97032625235563,
           73.56600804783768,
           76.25804828293062,
           74.32299374015842,
           68.73990674393274,
           70.68095513582863,
           73.86801211923515,
           70.14188911564175,
           66.14743056154366
          ],
          [
           70.44849719563703,
           71.37891404009778,
           70.66235205948894,
           80.7454971868989,
           50.979331957767,
           75.57368082426318,
           77.25195797902884,
           78.83973475030511,
           76.89311708617934,
           71.93623983825223,
           69.01488900671114,
           100.2492044720869,
           76.0010795075457,
           76.58702024893275,
           75.04898992302824,
           68.95656835616033,
           56.46010953191529,
           72.77212192099145,
           64.45043540033073,
           66.00108643322224
          ],
          [
           77.72184042248361,
           69.52094223300354,
           80.79995432328764,
           80.46775670371773,
           58.56379925968678,
           72.50213460150962,
           77.45436665641988,
           73.51070481006907,
           76.60114334593486,
           69.88485368026633,
           74.94450743022898,
           98.38122319153608,
           78.08154296394578,
           77.34368373389108,
           80.19744172237381,
           70.89734454105202,
           57.61003206837171,
           71.53066626280749,
           63.53345495699416,
           68.93336894045278
          ],
          [
           80.60639570149041,
           81.63654989105058,
           83.62519115641014,
           80.54832646740999,
           57.86909440860607,
           63.300174254366,
           75.93381218107308,
           74.49253574658319,
           76.88601630241013,
           70.69891079488409,
           49.771158881468416,
           93.6170964791941,
           79.04942713504306,
           77.47241746359128,
           73.15373059944609,
           65.3272915789163,
           56.1115737827065,
           75.53798069865742,
           64.10896036563665,
           72.64821955977776
          ],
          [
           84.07202206969271,
           80.33350745423053,
           87.22257977830448,
           81.50004766693874,
           59.51314223244379,
           52.36624016115119,
           80.78766975723433,
           71.33323421437277,
           81.43032126198555,
           71.03948690933613,
           57.52047197512572,
           89.2132525139144,
           76.9168831921099,
           80.31411600059039,
           65.06397714953405,
           65.37201716719831,
           63.46470232108986,
           74.31651274019848,
           69.66067827411484,
           75.58960005839866
          ],
          [
           84.59983680130263,
           79.71978095140507,
           87.49536570127563,
           84.79991753777949,
           72.26656695037983,
           49.363787330364374,
           81.16781744690203,
           69.86138933809808,
           73.62415672922259,
           68.57726564229898,
           49.665376445329514,
           89.14765675186202,
           80.72405178430806,
           85.16696997617784,
           56.58358000221733,
           70.10504736030326,
           68.65676655672748,
           73.38002070404077,
           68.38772506603458,
           74.92272992036095
          ],
          [
           85.76654129278207,
           73.92195748460702,
           75.55257495491485,
           83.21221705777882,
           77.5400615859178,
           48.26464654403679,
           83.79762366056849,
           73.70661430997372,
           70.3324653097027,
           56.21491109100361,
           50.1288833454172,
           91.81932125254347,
           79.75403972994711,
           79.53623855617406,
           57.53216573396649,
           68.81147981883782,
           71.73277423009444,
           72.17485860071152,
           64.91945704546545,
           67.67803514476711
          ],
          [
           85.98177079462559,
           73.43562273185552,
           75.9973361497319,
           84.50266851434068,
           62.810883187164265,
           47.403328602928475,
           88.83645327415306,
           77.27308424230792,
           74.73227165812376,
           62.08559349407619,
           46.72405086487442,
           90.51609539606713,
           78.52829640792287,
           68.0998567732746,
           55.52191126185611,
           71.85462608772843,
           74.6986558967605,
           70.53696785675301,
           62.79403131473075,
           61.53520822575259
          ],
          [
           86.80236954992411,
           88.63065470388727,
           75.70593238062607,
           84.2830953529105,
           58.0109384225478,
           48.705410492468324,
           89.05012512092986,
           78.72905641147696,
           74.13553680858266,
           60.98041384932851,
           38.65280546636089,
           96.66097948069702,
           78.41853120239564,
           66.22853335965951,
           54.17630119235353,
           70.8998448414839,
           73.90720058908636,
           63.05512609256998,
           59.7937913745494,
           52.13814137831791
          ],
          [
           95.07407967810367,
           89.84974708686335,
           80.05547496912732,
           88.97331844541291,
           51.57741769282763,
           52.94979647784288,
           72.72562522766879,
           89.46285604112406,
           70.75988085265243,
           64.07361020153112,
           38.2433156238114,
           103.94480501197111,
           74.66738689512079,
           69.17178302307163,
           42.82111352413985,
           81.72634717491013,
           79.2315838221359,
           65.07084165187817,
           52.476380644659294,
           50.449381562595
          ],
          [
           85.14744742060064,
           93.75869029269765,
           77.95757930579688,
           98.9216885258719,
           51.87569467816817,
           58.13189074448904,
           74.38382450218126,
           96.43532483228535,
           67.69310236572463,
           59.70898416643156,
           41.82995763964862,
           102.64893616388956,
           74.04218418879803,
           74.45511017614452,
           42.893175765963534,
           85.06682765856054,
           84.18504595223362,
           66.67478132300097,
           44.47785093944663,
           65.15249893463624
          ],
          [
           87.16624176265533,
           89.51041814146997,
           78.28546046394337,
           100.38969191086653,
           42.82529680017042,
           58.177633202274066,
           61.09338004421593,
           101.28654482891389,
           66.72411328989563,
           70.66218247786787,
           43.013729984229144,
           100.65424656033913,
           72.78365625478759,
           74.28332007053402,
           31.434338839664306,
           86.91337178183487,
           89.64969063457099,
           69.93944227469883,
           42.30218106979784,
           68.50995436558014
          ],
          [
           80.10371713688149,
           97.11467453665965,
           84.53799044010968,
           105.46794789262856,
           44.1208377017066,
           43.95911404057391,
           61.894694185317,
           91.90517536411298,
           62.21074597206347,
           72.65997789592015,
           24.347623091504325,
           99.87577315759178,
           66.70034590620021,
           74.09580231015909,
           22.084075722407206,
           86.0660512070813,
           89.49101328720597,
           67.83444822657856,
           43.573942804280534,
           74.93341380787821
          ],
          [
           78.91242079994896,
           103.83506128586106,
           87.60123210564461,
           104.84721999766954,
           48.999388049254385,
           31.424684815732704,
           66.56343880578247,
           87.6046297547699,
           63.04487386365586,
           71.87332759873122,
           14.27713576986486,
           93.41705737147633,
           75.92472356808702,
           73.62552291387117,
           19.402549396663762,
           79.63247161616243,
           98.63458550071992,
           61.44785669273341,
           51.920695905273675,
           72.04266346395417
          ],
          [
           75.05540760168955,
           99.77266595536663,
           84.93015371692115,
           101.92922164773691,
           51.891649661673014,
           29.31027149109414,
           85.49089980476917,
           88.84912994861772,
           61.60028476788465,
           67.5092863016142,
           13.941261671497498,
           94.56910119896776,
           67.48132008378848,
           66.09433689591415,
           24.623967502184087,
           80.18225497145521,
           98.52248346192079,
           61.065323606354724,
           50.61609202235698,
           73.22840413433808
          ],
          [
           78.90425766598966,
           97.77266321353505,
           88.10672064524898,
           97.51895239770224,
           41.76228895145898,
           37.731398014058875,
           92.9088064528913,
           89.50037261457825,
           61.90985444945615,
           68.2392274821816,
           16.477775892348813,
           102.17092102517219,
           65.87964112724814,
           65.85995061749017,
           28.18376181887978,
           80.5304958081042,
           100.90313449000304,
           48.06022560170038,
           59.376779427751714,
           69.29961892592668
          ],
          [
           76.38630608187981,
           97.69595514713457,
           87.16428081604899,
           104.08683675953998,
           46.78434203140846,
           36.024065941531255,
           93.60609346656953,
           88.83784551604583,
           69.48121743315004,
           68.9858979315756,
           18.547213905418655,
           104.29920365559643,
           72.67078482291943,
           64.53596833384756,
           13.618348234955196,
           75.65830016221562,
           101.17628427260819,
           46.25906272313822,
           58.53727156786325,
           66.45161424646268
          ],
          [
           70.09732076243877,
           100.35589048774857,
           96.64305379525427,
           105.03042981612941,
           45.731262402590765,
           28.888339899244265,
           102.41851542080225,
           91.15887536896551,
           72.53444489397673,
           63.74158890530834,
           17.409325228891603,
           116.1145023825377,
           65.2583442661981,
           60.590394354725014,
           5.700594709094127,
           75.72112564051578,
           99.89763717213619,
           43.850025104645475,
           56.3518924425402,
           71.4311345185774
          ],
          [
           69.90520660446818,
           100.71779973782114,
           96.8750166351275,
           83.20453688264149,
           45.01462308162359,
           25.10699213304761,
           107.81559663674449,
           89.0948545984473,
           71.8988590417449,
           63.40128950381903,
           15.825708259236666,
           116.17035173320087,
           68.43824086168638,
           62.38816175406174,
           3.7426921184838244,
           74.69225937117986,
           109.83253579759743,
           40.41150262232334,
           57.63043996670858,
           76.11283458868208
          ]
         ],
         "zmax": 116.17035173320087,
         "zmin": 3.7426921184838244
        }
       ],
       "layout": {
        "legend": {
         "bgcolor": "#F5F6F9",
         "font": {
          "color": "#4D5663"
         }
        },
        "paper_bgcolor": "#F5F6F9",
        "plot_bgcolor": "#F5F6F9",
        "template": {
         "data": {
          "bar": [
           {
            "error_x": {
             "color": "#2a3f5f"
            },
            "error_y": {
             "color": "#2a3f5f"
            },
            "marker": {
             "line": {
              "color": "#E5ECF6",
              "width": 0.5
             },
             "pattern": {
              "fillmode": "overlay",
              "size": 10,
              "solidity": 0.2
             }
            },
            "type": "bar"
           }
          ],
          "barpolar": [
           {
            "marker": {
             "line": {
              "color": "#E5ECF6",
              "width": 0.5
             },
             "pattern": {
              "fillmode": "overlay",
              "size": 10,
              "solidity": 0.2
             }
            },
            "type": "barpolar"
           }
          ],
          "carpet": [
           {
            "aaxis": {
             "endlinecolor": "#2a3f5f",
             "gridcolor": "white",
             "linecolor": "white",
             "minorgridcolor": "white",
             "startlinecolor": "#2a3f5f"
            },
            "baxis": {
             "endlinecolor": "#2a3f5f",
             "gridcolor": "white",
             "linecolor": "white",
             "minorgridcolor": "white",
             "startlinecolor": "#2a3f5f"
            },
            "type": "carpet"
           }
          ],
          "choropleth": [
           {
            "colorbar": {
             "outlinewidth": 0,
             "ticks": ""
            },
            "type": "choropleth"
           }
          ],
          "contour": [
           {
            "colorbar": {
             "outlinewidth": 0,
             "ticks": ""
            },
            "colorscale": [
             [
              0,
              "#0d0887"
             ],
             [
              0.1111111111111111,
              "#46039f"
             ],
             [
              0.2222222222222222,
              "#7201a8"
             ],
             [
              0.3333333333333333,
              "#9c179e"
             ],
             [
              0.4444444444444444,
              "#bd3786"
             ],
             [
              0.5555555555555556,
              "#d8576b"
             ],
             [
              0.6666666666666666,
              "#ed7953"
             ],
             [
              0.7777777777777778,
              "#fb9f3a"
             ],
             [
              0.8888888888888888,
              "#fdca26"
             ],
             [
              1,
              "#f0f921"
             ]
            ],
            "type": "contour"
           }
          ],
          "contourcarpet": [
           {
            "colorbar": {
             "outlinewidth": 0,
             "ticks": ""
            },
            "type": "contourcarpet"
           }
          ],
          "heatmap": [
           {
            "colorbar": {
             "outlinewidth": 0,
             "ticks": ""
            },
            "colorscale": [
             [
              0,
              "#0d0887"
             ],
             [
              0.1111111111111111,
              "#46039f"
             ],
             [
              0.2222222222222222,
              "#7201a8"
             ],
             [
              0.3333333333333333,
              "#9c179e"
             ],
             [
              0.4444444444444444,
              "#bd3786"
             ],
             [
              0.5555555555555556,
              "#d8576b"
             ],
             [
              0.6666666666666666,
              "#ed7953"
             ],
             [
              0.7777777777777778,
              "#fb9f3a"
             ],
             [
              0.8888888888888888,
              "#fdca26"
             ],
             [
              1,
              "#f0f921"
             ]
            ],
            "type": "heatmap"
           }
          ],
          "heatmapgl": [
           {
            "colorbar": {
             "outlinewidth": 0,
             "ticks": ""
            },
            "colorscale": [
             [
              0,
              "#0d0887"
             ],
             [
              0.1111111111111111,
              "#46039f"
             ],
             [
              0.2222222222222222,
              "#7201a8"
             ],
             [
              0.3333333333333333,
              "#9c179e"
             ],
             [
              0.4444444444444444,
              "#bd3786"
             ],
             [
              0.5555555555555556,
              "#d8576b"
             ],
             [
              0.6666666666666666,
              "#ed7953"
             ],
             [
              0.7777777777777778,
              "#fb9f3a"
             ],
             [
              0.8888888888888888,
              "#fdca26"
             ],
             [
              1,
              "#f0f921"
             ]
            ],
            "type": "heatmapgl"
           }
          ],
          "histogram": [
           {
            "marker": {
             "pattern": {
              "fillmode": "overlay",
              "size": 10,
              "solidity": 0.2
             }
            },
            "type": "histogram"
           }
          ],
          "histogram2d": [
           {
            "colorbar": {
             "outlinewidth": 0,
             "ticks": ""
            },
            "colorscale": [
             [
              0,
              "#0d0887"
             ],
             [
              0.1111111111111111,
              "#46039f"
             ],
             [
              0.2222222222222222,
              "#7201a8"
             ],
             [
              0.3333333333333333,
              "#9c179e"
             ],
             [
              0.4444444444444444,
              "#bd3786"
             ],
             [
              0.5555555555555556,
              "#d8576b"
             ],
             [
              0.6666666666666666,
              "#ed7953"
             ],
             [
              0.7777777777777778,
              "#fb9f3a"
             ],
             [
              0.8888888888888888,
              "#fdca26"
             ],
             [
              1,
              "#f0f921"
             ]
            ],
            "type": "histogram2d"
           }
          ],
          "histogram2dcontour": [
           {
            "colorbar": {
             "outlinewidth": 0,
             "ticks": ""
            },
            "colorscale": [
             [
              0,
              "#0d0887"
             ],
             [
              0.1111111111111111,
              "#46039f"
             ],
             [
              0.2222222222222222,
              "#7201a8"
             ],
             [
              0.3333333333333333,
              "#9c179e"
             ],
             [
              0.4444444444444444,
              "#bd3786"
             ],
             [
              0.5555555555555556,
              "#d8576b"
             ],
             [
              0.6666666666666666,
              "#ed7953"
             ],
             [
              0.7777777777777778,
              "#fb9f3a"
             ],
             [
              0.8888888888888888,
              "#fdca26"
             ],
             [
              1,
              "#f0f921"
             ]
            ],
            "type": "histogram2dcontour"
           }
          ],
          "mesh3d": [
           {
            "colorbar": {
             "outlinewidth": 0,
             "ticks": ""
            },
            "type": "mesh3d"
           }
          ],
          "parcoords": [
           {
            "line": {
             "colorbar": {
              "outlinewidth": 0,
              "ticks": ""
             }
            },
            "type": "parcoords"
           }
          ],
          "pie": [
           {
            "automargin": true,
            "type": "pie"
           }
          ],
          "scatter": [
           {
            "fillpattern": {
             "fillmode": "overlay",
             "size": 10,
             "solidity": 0.2
            },
            "type": "scatter"
           }
          ],
          "scatter3d": [
           {
            "line": {
             "colorbar": {
              "outlinewidth": 0,
              "ticks": ""
             }
            },
            "marker": {
             "colorbar": {
              "outlinewidth": 0,
              "ticks": ""
             }
            },
            "type": "scatter3d"
           }
          ],
          "scattercarpet": [
           {
            "marker": {
             "colorbar": {
              "outlinewidth": 0,
              "ticks": ""
             }
            },
            "type": "scattercarpet"
           }
          ],
          "scattergeo": [
           {
            "marker": {
             "colorbar": {
              "outlinewidth": 0,
              "ticks": ""
             }
            },
            "type": "scattergeo"
           }
          ],
          "scattergl": [
           {
            "marker": {
             "colorbar": {
              "outlinewidth": 0,
              "ticks": ""
             }
            },
            "type": "scattergl"
           }
          ],
          "scattermapbox": [
           {
            "marker": {
             "colorbar": {
              "outlinewidth": 0,
              "ticks": ""
             }
            },
            "type": "scattermapbox"
           }
          ],
          "scatterpolar": [
           {
            "marker": {
             "colorbar": {
              "outlinewidth": 0,
              "ticks": ""
             }
            },
            "type": "scatterpolar"
           }
          ],
          "scatterpolargl": [
           {
            "marker": {
             "colorbar": {
              "outlinewidth": 0,
              "ticks": ""
             }
            },
            "type": "scatterpolargl"
           }
          ],
          "scatterternary": [
           {
            "marker": {
             "colorbar": {
              "outlinewidth": 0,
              "ticks": ""
             }
            },
            "type": "scatterternary"
           }
          ],
          "surface": [
           {
            "colorbar": {
             "outlinewidth": 0,
             "ticks": ""
            },
            "colorscale": [
             [
              0,
              "#0d0887"
             ],
             [
              0.1111111111111111,
              "#46039f"
             ],
             [
              0.2222222222222222,
              "#7201a8"
             ],
             [
              0.3333333333333333,
              "#9c179e"
             ],
             [
              0.4444444444444444,
              "#bd3786"
             ],
             [
              0.5555555555555556,
              "#d8576b"
             ],
             [
              0.6666666666666666,
              "#ed7953"
             ],
             [
              0.7777777777777778,
              "#fb9f3a"
             ],
             [
              0.8888888888888888,
              "#fdca26"
             ],
             [
              1,
              "#f0f921"
             ]
            ],
            "type": "surface"
           }
          ],
          "table": [
           {
            "cells": {
             "fill": {
              "color": "#EBF0F8"
             },
             "line": {
              "color": "white"
             }
            },
            "header": {
             "fill": {
              "color": "#C8D4E3"
             },
             "line": {
              "color": "white"
             }
            },
            "type": "table"
           }
          ]
         },
         "layout": {
          "annotationdefaults": {
           "arrowcolor": "#2a3f5f",
           "arrowhead": 0,
           "arrowwidth": 1
          },
          "autotypenumbers": "strict",
          "coloraxis": {
           "colorbar": {
            "outlinewidth": 0,
            "ticks": ""
           }
          },
          "colorscale": {
           "diverging": [
            [
             0,
             "#8e0152"
            ],
            [
             0.1,
             "#c51b7d"
            ],
            [
             0.2,
             "#de77ae"
            ],
            [
             0.3,
             "#f1b6da"
            ],
            [
             0.4,
             "#fde0ef"
            ],
            [
             0.5,
             "#f7f7f7"
            ],
            [
             0.6,
             "#e6f5d0"
            ],
            [
             0.7,
             "#b8e186"
            ],
            [
             0.8,
             "#7fbc41"
            ],
            [
             0.9,
             "#4d9221"
            ],
            [
             1,
             "#276419"
            ]
           ],
           "sequential": [
            [
             0,
             "#0d0887"
            ],
            [
             0.1111111111111111,
             "#46039f"
            ],
            [
             0.2222222222222222,
             "#7201a8"
            ],
            [
             0.3333333333333333,
             "#9c179e"
            ],
            [
             0.4444444444444444,
             "#bd3786"
            ],
            [
             0.5555555555555556,
             "#d8576b"
            ],
            [
             0.6666666666666666,
             "#ed7953"
            ],
            [
             0.7777777777777778,
             "#fb9f3a"
            ],
            [
             0.8888888888888888,
             "#fdca26"
            ],
            [
             1,
             "#f0f921"
            ]
           ],
           "sequentialminus": [
            [
             0,
             "#0d0887"
            ],
            [
             0.1111111111111111,
             "#46039f"
            ],
            [
             0.2222222222222222,
             "#7201a8"
            ],
            [
             0.3333333333333333,
             "#9c179e"
            ],
            [
             0.4444444444444444,
             "#bd3786"
            ],
            [
             0.5555555555555556,
             "#d8576b"
            ],
            [
             0.6666666666666666,
             "#ed7953"
            ],
            [
             0.7777777777777778,
             "#fb9f3a"
            ],
            [
             0.8888888888888888,
             "#fdca26"
            ],
            [
             1,
             "#f0f921"
            ]
           ]
          },
          "colorway": [
           "#636efa",
           "#EF553B",
           "#00cc96",
           "#ab63fa",
           "#FFA15A",
           "#19d3f3",
           "#FF6692",
           "#B6E880",
           "#FF97FF",
           "#FECB52"
          ],
          "font": {
           "color": "#2a3f5f"
          },
          "geo": {
           "bgcolor": "white",
           "lakecolor": "white",
           "landcolor": "#E5ECF6",
           "showlakes": true,
           "showland": true,
           "subunitcolor": "white"
          },
          "hoverlabel": {
           "align": "left"
          },
          "hovermode": "closest",
          "mapbox": {
           "style": "light"
          },
          "paper_bgcolor": "white",
          "plot_bgcolor": "#E5ECF6",
          "polar": {
           "angularaxis": {
            "gridcolor": "white",
            "linecolor": "white",
            "ticks": ""
           },
           "bgcolor": "#E5ECF6",
           "radialaxis": {
            "gridcolor": "white",
            "linecolor": "white",
            "ticks": ""
           }
          },
          "scene": {
           "xaxis": {
            "backgroundcolor": "#E5ECF6",
            "gridcolor": "white",
            "gridwidth": 2,
            "linecolor": "white",
            "showbackground": true,
            "ticks": "",
            "zerolinecolor": "white"
           },
           "yaxis": {
            "backgroundcolor": "#E5ECF6",
            "gridcolor": "white",
            "gridwidth": 2,
            "linecolor": "white",
            "showbackground": true,
            "ticks": "",
            "zerolinecolor": "white"
           },
           "zaxis": {
            "backgroundcolor": "#E5ECF6",
            "gridcolor": "white",
            "gridwidth": 2,
            "linecolor": "white",
            "showbackground": true,
            "ticks": "",
            "zerolinecolor": "white"
           }
          },
          "shapedefaults": {
           "line": {
            "color": "#2a3f5f"
           }
          },
          "ternary": {
           "aaxis": {
            "gridcolor": "white",
            "linecolor": "white",
            "ticks": ""
           },
           "baxis": {
            "gridcolor": "white",
            "linecolor": "white",
            "ticks": ""
           },
           "bgcolor": "#E5ECF6",
           "caxis": {
            "gridcolor": "white",
            "linecolor": "white",
            "ticks": ""
           }
          },
          "title": {
           "x": 0.05
          },
          "xaxis": {
           "automargin": true,
           "gridcolor": "white",
           "linecolor": "white",
           "ticks": "",
           "title": {
            "standoff": 15
           },
           "zerolinecolor": "white",
           "zerolinewidth": 2
          },
          "yaxis": {
           "automargin": true,
           "gridcolor": "white",
           "linecolor": "white",
           "ticks": "",
           "title": {
            "standoff": 15
           },
           "zerolinecolor": "white",
           "zerolinewidth": 2
          }
         }
        },
        "title": {
         "font": {
          "color": "#4D5663"
         }
        },
        "xaxis": {
         "gridcolor": "#E1E5ED",
         "showgrid": true,
         "tickfont": {
          "color": "#4D5663"
         },
         "title": {
          "font": {
           "color": "#4D5663"
          },
          "text": ""
         },
         "zerolinecolor": "#E1E5ED"
        },
        "yaxis": {
         "gridcolor": "#E1E5ED",
         "showgrid": true,
         "tickfont": {
          "color": "#4D5663"
         },
         "title": {
          "font": {
           "color": "#4D5663"
          },
          "text": ""
         },
         "zerolinecolor": "#E1E5ED"
        }
       }
      },
      "text/html": [
       "<div>                            <div id=\"14dc6c3c-037e-4df1-8ae8-f02e7105fb6d\" class=\"plotly-graph-div\" style=\"height:525px; width:100%;\"></div>            <script type=\"text/javascript\">                require([\"plotly\"], function(Plotly) {                    window.PLOTLYENV=window.PLOTLYENV || {};\n",
       "                    window.PLOTLYENV.BASE_URL='https://plot.ly';                                    if (document.getElementById(\"14dc6c3c-037e-4df1-8ae8-f02e7105fb6d\")) {                    Plotly.newPlot(                        \"14dc6c3c-037e-4df1-8ae8-f02e7105fb6d\",                        [{\"colorscale\":[[0.0,\"rgb(158,1,66)\"],[0.1,\"rgb(213,62,79)\"],[0.2,\"rgb(244,109,67)\"],[0.3,\"rgb(253,174,97)\"],[0.4,\"rgb(254,224,139)\"],[0.5,\"rgb(255,255,191)\"],[0.6,\"rgb(230,245,152)\"],[0.7,\"rgb(171,221,164)\"],[0.8,\"rgb(102,194,165)\"],[0.9,\"rgb(50,136,189)\"],[1.0,\"rgb(94,79,162)\"]],\"x\":[\"x_0\",\"x_1\",\"x_2\",\"x_3\",\"x_4\",\"x_5\",\"x_6\",\"x_7\",\"x_8\",\"x_9\",\"x_10\",\"x_11\",\"x_12\",\"x_13\",\"x_14\",\"x_15\",\"x_16\",\"x_17\",\"x_18\",\"x_19\"],\"y\":[\"y_0\",\"y_1\",\"y_2\",\"y_3\",\"y_4\",\"y_5\",\"y_6\",\"y_7\",\"y_8\",\"y_9\",\"y_10\",\"y_11\",\"y_12\",\"y_13\",\"y_14\",\"y_15\",\"y_16\",\"y_17\",\"y_18\",\"y_19\"],\"z\":[[73.0,72.88625334074202,74.86674335050704,74.35299288562294,66.06089186904089,68.47570716167758,76.2437378027713,81.88135656413031,67.46032240194936,70.0168737046556,73.07409807104357,79.01356802962884,71.78382194807146,65.56327538801771,73.8025526848774,70.53549969265521,70.61075700670432,75.3344926928425,66.99106260201471,72.33607269221272],[71.6570125112533,72.56060052554342,72.01201690415509,74.22080278745048,56.45856967632948,75.0242894473025,74.16588529062524,79.67804954500696,68.94386119223726,72.36324741463791,71.66199101676703,77.97032625235563,73.56600804783768,76.25804828293062,74.32299374015842,68.73990674393274,70.68095513582863,73.86801211923515,70.14188911564175,66.14743056154366],[70.44849719563703,71.37891404009778,70.66235205948894,80.7454971868989,50.979331957767,75.57368082426318,77.25195797902884,78.83973475030511,76.89311708617934,71.93623983825223,69.01488900671114,100.2492044720869,76.0010795075457,76.58702024893275,75.04898992302824,68.95656835616033,56.46010953191529,72.77212192099145,64.45043540033073,66.00108643322224],[77.72184042248361,69.52094223300354,80.79995432328764,80.46775670371773,58.56379925968678,72.50213460150962,77.45436665641988,73.51070481006907,76.60114334593486,69.88485368026633,74.94450743022898,98.38122319153608,78.08154296394578,77.34368373389108,80.19744172237381,70.89734454105202,57.61003206837171,71.53066626280749,63.53345495699416,68.93336894045278],[80.60639570149041,81.63654989105058,83.62519115641014,80.54832646740999,57.86909440860607,63.300174254366,75.93381218107308,74.49253574658319,76.88601630241013,70.69891079488409,49.771158881468416,93.6170964791941,79.04942713504306,77.47241746359128,73.15373059944609,65.3272915789163,56.1115737827065,75.53798069865742,64.10896036563665,72.64821955977776],[84.07202206969271,80.33350745423053,87.22257977830448,81.50004766693874,59.51314223244379,52.36624016115119,80.78766975723433,71.33323421437277,81.43032126198555,71.03948690933613,57.52047197512572,89.2132525139144,76.9168831921099,80.31411600059039,65.06397714953405,65.37201716719831,63.46470232108986,74.31651274019848,69.66067827411484,75.58960005839866],[84.59983680130263,79.71978095140507,87.49536570127563,84.79991753777949,72.26656695037983,49.363787330364374,81.16781744690203,69.86138933809808,73.62415672922259,68.57726564229898,49.665376445329514,89.14765675186202,80.72405178430806,85.16696997617784,56.58358000221733,70.10504736030326,68.65676655672748,73.38002070404077,68.38772506603458,74.92272992036095],[85.76654129278207,73.92195748460702,75.55257495491485,83.21221705777882,77.5400615859178,48.26464654403679,83.79762366056849,73.70661430997372,70.3324653097027,56.21491109100361,50.1288833454172,91.81932125254347,79.75403972994711,79.53623855617406,57.53216573396649,68.81147981883782,71.73277423009444,72.17485860071152,64.91945704546545,67.67803514476711],[85.98177079462559,73.43562273185552,75.9973361497319,84.50266851434068,62.810883187164265,47.403328602928475,88.83645327415306,77.27308424230792,74.73227165812376,62.08559349407619,46.72405086487442,90.51609539606713,78.52829640792287,68.0998567732746,55.52191126185611,71.85462608772843,74.6986558967605,70.53696785675301,62.79403131473075,61.53520822575259],[86.80236954992411,88.63065470388727,75.70593238062607,84.2830953529105,58.0109384225478,48.705410492468324,89.05012512092986,78.72905641147696,74.13553680858266,60.98041384932851,38.65280546636089,96.66097948069702,78.41853120239564,66.22853335965951,54.17630119235353,70.8998448414839,73.90720058908636,63.05512609256998,59.7937913745494,52.13814137831791],[95.07407967810367,89.84974708686335,80.05547496912732,88.97331844541291,51.57741769282763,52.94979647784288,72.72562522766879,89.46285604112406,70.75988085265243,64.07361020153112,38.2433156238114,103.94480501197111,74.66738689512079,69.17178302307163,42.82111352413985,81.72634717491013,79.2315838221359,65.07084165187817,52.476380644659294,50.449381562595],[85.14744742060064,93.75869029269765,77.95757930579688,98.9216885258719,51.87569467816817,58.13189074448904,74.38382450218126,96.43532483228535,67.69310236572463,59.70898416643156,41.82995763964862,102.64893616388956,74.04218418879803,74.45511017614452,42.893175765963534,85.06682765856054,84.18504595223362,66.67478132300097,44.47785093944663,65.15249893463624],[87.16624176265533,89.51041814146997,78.28546046394337,100.38969191086653,42.82529680017042,58.177633202274066,61.09338004421593,101.28654482891389,66.72411328989563,70.66218247786787,43.013729984229144,100.65424656033913,72.78365625478759,74.28332007053402,31.434338839664306,86.91337178183487,89.64969063457099,69.93944227469883,42.30218106979784,68.50995436558014],[80.10371713688149,97.11467453665965,84.53799044010968,105.46794789262856,44.1208377017066,43.95911404057391,61.894694185317,91.90517536411298,62.21074597206347,72.65997789592015,24.347623091504325,99.87577315759178,66.70034590620021,74.09580231015909,22.084075722407206,86.0660512070813,89.49101328720597,67.83444822657856,43.573942804280534,74.93341380787821],[78.91242079994896,103.83506128586106,87.60123210564461,104.84721999766954,48.999388049254385,31.424684815732704,66.56343880578247,87.6046297547699,63.04487386365586,71.87332759873122,14.27713576986486,93.41705737147633,75.92472356808702,73.62552291387117,19.402549396663762,79.63247161616243,98.63458550071992,61.44785669273341,51.920695905273675,72.04266346395417],[75.05540760168955,99.77266595536663,84.93015371692115,101.92922164773691,51.891649661673014,29.31027149109414,85.49089980476917,88.84912994861772,61.60028476788465,67.5092863016142,13.941261671497498,94.56910119896776,67.48132008378848,66.09433689591415,24.623967502184087,80.18225497145521,98.52248346192079,61.065323606354724,50.61609202235698,73.22840413433808],[78.90425766598966,97.77266321353505,88.10672064524898,97.51895239770224,41.76228895145898,37.731398014058875,92.9088064528913,89.50037261457825,61.90985444945615,68.2392274821816,16.477775892348813,102.17092102517219,65.87964112724814,65.85995061749017,28.18376181887978,80.5304958081042,100.90313449000304,48.06022560170038,59.376779427751714,69.29961892592668],[76.38630608187981,97.69595514713457,87.16428081604899,104.08683675953998,46.78434203140846,36.024065941531255,93.60609346656953,88.83784551604583,69.48121743315004,68.9858979315756,18.547213905418655,104.29920365559643,72.67078482291943,64.53596833384756,13.618348234955196,75.65830016221562,101.17628427260819,46.25906272313822,58.53727156786325,66.45161424646268],[70.09732076243877,100.35589048774857,96.64305379525427,105.03042981612941,45.731262402590765,28.888339899244265,102.41851542080225,91.15887536896551,72.53444489397673,63.74158890530834,17.409325228891603,116.1145023825377,65.2583442661981,60.590394354725014,5.700594709094127,75.72112564051578,99.89763717213619,43.850025104645475,56.3518924425402,71.4311345185774],[69.90520660446818,100.71779973782114,96.8750166351275,83.20453688264149,45.01462308162359,25.10699213304761,107.81559663674449,89.0948545984473,71.8988590417449,63.40128950381903,15.825708259236666,116.17035173320087,68.43824086168638,62.38816175406174,3.7426921184838244,74.69225937117986,109.83253579759743,40.41150262232334,57.63043996670858,76.11283458868208]],\"zmax\":116.17035173320087,\"zmin\":3.7426921184838244,\"type\":\"heatmap\"}],                        {\"legend\":{\"bgcolor\":\"#F5F6F9\",\"font\":{\"color\":\"#4D5663\"}},\"paper_bgcolor\":\"#F5F6F9\",\"plot_bgcolor\":\"#F5F6F9\",\"template\":{\"data\":{\"barpolar\":[{\"marker\":{\"line\":{\"color\":\"#E5ECF6\",\"width\":0.5},\"pattern\":{\"fillmode\":\"overlay\",\"size\":10,\"solidity\":0.2}},\"type\":\"barpolar\"}],\"bar\":[{\"error_x\":{\"color\":\"#2a3f5f\"},\"error_y\":{\"color\":\"#2a3f5f\"},\"marker\":{\"line\":{\"color\":\"#E5ECF6\",\"width\":0.5},\"pattern\":{\"fillmode\":\"overlay\",\"size\":10,\"solidity\":0.2}},\"type\":\"bar\"}],\"carpet\":[{\"aaxis\":{\"endlinecolor\":\"#2a3f5f\",\"gridcolor\":\"white\",\"linecolor\":\"white\",\"minorgridcolor\":\"white\",\"startlinecolor\":\"#2a3f5f\"},\"baxis\":{\"endlinecolor\":\"#2a3f5f\",\"gridcolor\":\"white\",\"linecolor\":\"white\",\"minorgridcolor\":\"white\",\"startlinecolor\":\"#2a3f5f\"},\"type\":\"carpet\"}],\"choropleth\":[{\"colorbar\":{\"outlinewidth\":0,\"ticks\":\"\"},\"type\":\"choropleth\"}],\"contourcarpet\":[{\"colorbar\":{\"outlinewidth\":0,\"ticks\":\"\"},\"type\":\"contourcarpet\"}],\"contour\":[{\"colorbar\":{\"outlinewidth\":0,\"ticks\":\"\"},\"colorscale\":[[0.0,\"#0d0887\"],[0.1111111111111111,\"#46039f\"],[0.2222222222222222,\"#7201a8\"],[0.3333333333333333,\"#9c179e\"],[0.4444444444444444,\"#bd3786\"],[0.5555555555555556,\"#d8576b\"],[0.6666666666666666,\"#ed7953\"],[0.7777777777777778,\"#fb9f3a\"],[0.8888888888888888,\"#fdca26\"],[1.0,\"#f0f921\"]],\"type\":\"contour\"}],\"heatmapgl\":[{\"colorbar\":{\"outlinewidth\":0,\"ticks\":\"\"},\"colorscale\":[[0.0,\"#0d0887\"],[0.1111111111111111,\"#46039f\"],[0.2222222222222222,\"#7201a8\"],[0.3333333333333333,\"#9c179e\"],[0.4444444444444444,\"#bd3786\"],[0.5555555555555556,\"#d8576b\"],[0.6666666666666666,\"#ed7953\"],[0.7777777777777778,\"#fb9f3a\"],[0.8888888888888888,\"#fdca26\"],[1.0,\"#f0f921\"]],\"type\":\"heatmapgl\"}],\"heatmap\":[{\"colorbar\":{\"outlinewidth\":0,\"ticks\":\"\"},\"colorscale\":[[0.0,\"#0d0887\"],[0.1111111111111111,\"#46039f\"],[0.2222222222222222,\"#7201a8\"],[0.3333333333333333,\"#9c179e\"],[0.4444444444444444,\"#bd3786\"],[0.5555555555555556,\"#d8576b\"],[0.6666666666666666,\"#ed7953\"],[0.7777777777777778,\"#fb9f3a\"],[0.8888888888888888,\"#fdca26\"],[1.0,\"#f0f921\"]],\"type\":\"heatmap\"}],\"histogram2dcontour\":[{\"colorbar\":{\"outlinewidth\":0,\"ticks\":\"\"},\"colorscale\":[[0.0,\"#0d0887\"],[0.1111111111111111,\"#46039f\"],[0.2222222222222222,\"#7201a8\"],[0.3333333333333333,\"#9c179e\"],[0.4444444444444444,\"#bd3786\"],[0.5555555555555556,\"#d8576b\"],[0.6666666666666666,\"#ed7953\"],[0.7777777777777778,\"#fb9f3a\"],[0.8888888888888888,\"#fdca26\"],[1.0,\"#f0f921\"]],\"type\":\"histogram2dcontour\"}],\"histogram2d\":[{\"colorbar\":{\"outlinewidth\":0,\"ticks\":\"\"},\"colorscale\":[[0.0,\"#0d0887\"],[0.1111111111111111,\"#46039f\"],[0.2222222222222222,\"#7201a8\"],[0.3333333333333333,\"#9c179e\"],[0.4444444444444444,\"#bd3786\"],[0.5555555555555556,\"#d8576b\"],[0.6666666666666666,\"#ed7953\"],[0.7777777777777778,\"#fb9f3a\"],[0.8888888888888888,\"#fdca26\"],[1.0,\"#f0f921\"]],\"type\":\"histogram2d\"}],\"histogram\":[{\"marker\":{\"pattern\":{\"fillmode\":\"overlay\",\"size\":10,\"solidity\":0.2}},\"type\":\"histogram\"}],\"mesh3d\":[{\"colorbar\":{\"outlinewidth\":0,\"ticks\":\"\"},\"type\":\"mesh3d\"}],\"parcoords\":[{\"line\":{\"colorbar\":{\"outlinewidth\":0,\"ticks\":\"\"}},\"type\":\"parcoords\"}],\"pie\":[{\"automargin\":true,\"type\":\"pie\"}],\"scatter3d\":[{\"line\":{\"colorbar\":{\"outlinewidth\":0,\"ticks\":\"\"}},\"marker\":{\"colorbar\":{\"outlinewidth\":0,\"ticks\":\"\"}},\"type\":\"scatter3d\"}],\"scattercarpet\":[{\"marker\":{\"colorbar\":{\"outlinewidth\":0,\"ticks\":\"\"}},\"type\":\"scattercarpet\"}],\"scattergeo\":[{\"marker\":{\"colorbar\":{\"outlinewidth\":0,\"ticks\":\"\"}},\"type\":\"scattergeo\"}],\"scattergl\":[{\"marker\":{\"colorbar\":{\"outlinewidth\":0,\"ticks\":\"\"}},\"type\":\"scattergl\"}],\"scattermapbox\":[{\"marker\":{\"colorbar\":{\"outlinewidth\":0,\"ticks\":\"\"}},\"type\":\"scattermapbox\"}],\"scatterpolargl\":[{\"marker\":{\"colorbar\":{\"outlinewidth\":0,\"ticks\":\"\"}},\"type\":\"scatterpolargl\"}],\"scatterpolar\":[{\"marker\":{\"colorbar\":{\"outlinewidth\":0,\"ticks\":\"\"}},\"type\":\"scatterpolar\"}],\"scatter\":[{\"fillpattern\":{\"fillmode\":\"overlay\",\"size\":10,\"solidity\":0.2},\"type\":\"scatter\"}],\"scatterternary\":[{\"marker\":{\"colorbar\":{\"outlinewidth\":0,\"ticks\":\"\"}},\"type\":\"scatterternary\"}],\"surface\":[{\"colorbar\":{\"outlinewidth\":0,\"ticks\":\"\"},\"colorscale\":[[0.0,\"#0d0887\"],[0.1111111111111111,\"#46039f\"],[0.2222222222222222,\"#7201a8\"],[0.3333333333333333,\"#9c179e\"],[0.4444444444444444,\"#bd3786\"],[0.5555555555555556,\"#d8576b\"],[0.6666666666666666,\"#ed7953\"],[0.7777777777777778,\"#fb9f3a\"],[0.8888888888888888,\"#fdca26\"],[1.0,\"#f0f921\"]],\"type\":\"surface\"}],\"table\":[{\"cells\":{\"fill\":{\"color\":\"#EBF0F8\"},\"line\":{\"color\":\"white\"}},\"header\":{\"fill\":{\"color\":\"#C8D4E3\"},\"line\":{\"color\":\"white\"}},\"type\":\"table\"}]},\"layout\":{\"annotationdefaults\":{\"arrowcolor\":\"#2a3f5f\",\"arrowhead\":0,\"arrowwidth\":1},\"autotypenumbers\":\"strict\",\"coloraxis\":{\"colorbar\":{\"outlinewidth\":0,\"ticks\":\"\"}},\"colorscale\":{\"diverging\":[[0,\"#8e0152\"],[0.1,\"#c51b7d\"],[0.2,\"#de77ae\"],[0.3,\"#f1b6da\"],[0.4,\"#fde0ef\"],[0.5,\"#f7f7f7\"],[0.6,\"#e6f5d0\"],[0.7,\"#b8e186\"],[0.8,\"#7fbc41\"],[0.9,\"#4d9221\"],[1,\"#276419\"]],\"sequential\":[[0.0,\"#0d0887\"],[0.1111111111111111,\"#46039f\"],[0.2222222222222222,\"#7201a8\"],[0.3333333333333333,\"#9c179e\"],[0.4444444444444444,\"#bd3786\"],[0.5555555555555556,\"#d8576b\"],[0.6666666666666666,\"#ed7953\"],[0.7777777777777778,\"#fb9f3a\"],[0.8888888888888888,\"#fdca26\"],[1.0,\"#f0f921\"]],\"sequentialminus\":[[0.0,\"#0d0887\"],[0.1111111111111111,\"#46039f\"],[0.2222222222222222,\"#7201a8\"],[0.3333333333333333,\"#9c179e\"],[0.4444444444444444,\"#bd3786\"],[0.5555555555555556,\"#d8576b\"],[0.6666666666666666,\"#ed7953\"],[0.7777777777777778,\"#fb9f3a\"],[0.8888888888888888,\"#fdca26\"],[1.0,\"#f0f921\"]]},\"colorway\":[\"#636efa\",\"#EF553B\",\"#00cc96\",\"#ab63fa\",\"#FFA15A\",\"#19d3f3\",\"#FF6692\",\"#B6E880\",\"#FF97FF\",\"#FECB52\"],\"font\":{\"color\":\"#2a3f5f\"},\"geo\":{\"bgcolor\":\"white\",\"lakecolor\":\"white\",\"landcolor\":\"#E5ECF6\",\"showlakes\":true,\"showland\":true,\"subunitcolor\":\"white\"},\"hoverlabel\":{\"align\":\"left\"},\"hovermode\":\"closest\",\"mapbox\":{\"style\":\"light\"},\"paper_bgcolor\":\"white\",\"plot_bgcolor\":\"#E5ECF6\",\"polar\":{\"angularaxis\":{\"gridcolor\":\"white\",\"linecolor\":\"white\",\"ticks\":\"\"},\"bgcolor\":\"#E5ECF6\",\"radialaxis\":{\"gridcolor\":\"white\",\"linecolor\":\"white\",\"ticks\":\"\"}},\"scene\":{\"xaxis\":{\"backgroundcolor\":\"#E5ECF6\",\"gridcolor\":\"white\",\"gridwidth\":2,\"linecolor\":\"white\",\"showbackground\":true,\"ticks\":\"\",\"zerolinecolor\":\"white\"},\"yaxis\":{\"backgroundcolor\":\"#E5ECF6\",\"gridcolor\":\"white\",\"gridwidth\":2,\"linecolor\":\"white\",\"showbackground\":true,\"ticks\":\"\",\"zerolinecolor\":\"white\"},\"zaxis\":{\"backgroundcolor\":\"#E5ECF6\",\"gridcolor\":\"white\",\"gridwidth\":2,\"linecolor\":\"white\",\"showbackground\":true,\"ticks\":\"\",\"zerolinecolor\":\"white\"}},\"shapedefaults\":{\"line\":{\"color\":\"#2a3f5f\"}},\"ternary\":{\"aaxis\":{\"gridcolor\":\"white\",\"linecolor\":\"white\",\"ticks\":\"\"},\"baxis\":{\"gridcolor\":\"white\",\"linecolor\":\"white\",\"ticks\":\"\"},\"bgcolor\":\"#E5ECF6\",\"caxis\":{\"gridcolor\":\"white\",\"linecolor\":\"white\",\"ticks\":\"\"}},\"title\":{\"x\":0.05},\"xaxis\":{\"automargin\":true,\"gridcolor\":\"white\",\"linecolor\":\"white\",\"ticks\":\"\",\"title\":{\"standoff\":15},\"zerolinecolor\":\"white\",\"zerolinewidth\":2},\"yaxis\":{\"automargin\":true,\"gridcolor\":\"white\",\"linecolor\":\"white\",\"ticks\":\"\",\"title\":{\"standoff\":15},\"zerolinecolor\":\"white\",\"zerolinewidth\":2}}},\"title\":{\"font\":{\"color\":\"#4D5663\"}},\"xaxis\":{\"gridcolor\":\"#E1E5ED\",\"showgrid\":true,\"tickfont\":{\"color\":\"#4D5663\"},\"title\":{\"font\":{\"color\":\"#4D5663\"},\"text\":\"\"},\"zerolinecolor\":\"#E1E5ED\"},\"yaxis\":{\"gridcolor\":\"#E1E5ED\",\"showgrid\":true,\"tickfont\":{\"color\":\"#4D5663\"},\"title\":{\"font\":{\"color\":\"#4D5663\"},\"text\":\"\"},\"zerolinecolor\":\"#E1E5ED\"}},                        {\"showLink\": true, \"linkText\": \"Export to plot.ly\", \"plotlyServerURL\": \"https://plot.ly\", \"responsive\": true}                    ).then(function(){\n",
       "                            \n",
       "var gd = document.getElementById('14dc6c3c-037e-4df1-8ae8-f02e7105fb6d');\n",
       "var x = new MutationObserver(function (mutations, observer) {{\n",
       "        var display = window.getComputedStyle(gd).display;\n",
       "        if (!display || display === 'none') {{\n",
       "            console.log([gd, 'removed!']);\n",
       "            Plotly.purge(gd);\n",
       "            observer.disconnect();\n",
       "        }}\n",
       "}});\n",
       "\n",
       "// Listen for the removal of the full notebook cells\n",
       "var notebookContainer = gd.closest('#notebook-container');\n",
       "if (notebookContainer) {{\n",
       "    x.observe(notebookContainer, {childList: true});\n",
       "}}\n",
       "\n",
       "// Listen for the clearing of the current output cell\n",
       "var outputEl = gd.closest('.output');\n",
       "if (outputEl) {{\n",
       "    x.observe(outputEl, {childList: true});\n",
       "}}\n",
       "\n",
       "                        })                };                });            </script>        </div>"
      ]
     },
     "metadata": {},
     "output_type": "display_data"
    }
   ],
   "source": [
    "cf.datagen.heatmap(20, 20).iplot(kind = 'heatmap', colorscale='spectral')\n"
   ]
  },
  {
   "cell_type": "code",
   "execution_count": null,
   "id": "403c5ed6",
   "metadata": {},
   "outputs": [],
   "source": []
  }
 ],
 "metadata": {
  "kernelspec": {
   "display_name": "Python 3 (ipykernel)",
   "language": "python",
   "name": "python3"
  },
  "language_info": {
   "codemirror_mode": {
    "name": "ipython",
    "version": 3
   },
   "file_extension": ".py",
   "mimetype": "text/x-python",
   "name": "python",
   "nbconvert_exporter": "python",
   "pygments_lexer": "ipython3",
   "version": "3.11.3"
  }
 },
 "nbformat": 4,
 "nbformat_minor": 5
}
